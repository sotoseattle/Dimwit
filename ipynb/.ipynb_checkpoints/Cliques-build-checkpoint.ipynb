{
 "metadata": {
  "name": ""
 },
 "nbformat": 3,
 "nbformat_minor": 0,
 "worksheets": [
  {
   "cells": [
    {
     "cell_type": "code",
     "collapsed": false,
     "input": [
      "%cd '/Users/fjs6/Dropbox/fjs6/Journal/ideolog/Dimwit'"
     ],
     "language": "python",
     "metadata": {},
     "outputs": [
      {
       "output_type": "stream",
       "stream": "stdout",
       "text": [
        "/Users/fjs6/Dropbox/fjs6/Journal/ideolog/Dimwit\n"
       ]
      }
     ],
     "prompt_number": 505
    },
    {
     "cell_type": "code",
     "collapsed": true,
     "input": [
      "import numpy as np\n",
      "import itertools\n",
      "\n",
      "import sys\n",
      "sys.path.append( '../../.' ) # logysoft module address\n",
      "import Factor\n",
      "import Rvar\n",
      "import FactorOperations\n"
     ],
     "language": "python",
     "metadata": {},
     "outputs": [],
     "prompt_number": 506
    },
    {
     "cell_type": "code",
     "collapsed": false,
     "input": [
      "import Factor\n",
      "\n",
      "c = [None,3,3,3,3,3,3, 2,2,2,2,2,2]\n",
      "v = {x : Rvar.Rvar(x, c[x]) for x in range(1,13)}\n",
      "\n",
      "f = {}\n",
      "f[1] = Factor.Factor([v[1]])\n",
      "f[1].fill_values([0.01, 0.18, 0.81])\n",
      "\n",
      "f[2] = Factor.Factor([v[2], v[1], v[3]])\n",
      "f[2].fill_values([1., 0., 0., 0.5, 0.5, 0.0, 0.0, 1.0, 0., 0.5, 0.5, 0., 0.25, 0.5, 0.25, 0., 0.5, 0.5, 0., 1., 0., 0., 0.5, 0.5, 0., 0., 1.])\n",
      "\n",
      "f[3] = Factor.Factor([v[3]])\n",
      "f[3].fill_values([0.01, 0.18, 0.81])\n",
      "\n",
      "f[4] = Factor.Factor([v[4], v[1], v[3]])\n",
      "f[4].fill_values([1., 0., 0., 0.5, 0.5, 0.0, 0.0, 1.0, 0., 0.5, 0.5, 0., 0.25, 0.5, 0.25, 0., 0.5, 0.5, 0., 1., 0., 0., 0.5, 0.5, 0., 0., 1.])\n",
      "\n",
      "f[5] = Factor.Factor([v[5], v[2], v[6]])\n",
      "f[5].fill_values([1., 0., 0., 0.5, 0.5, 0.0, 0.0, 1.0, 0., 0.5, 0.5, 0., 0.25, 0.5, 0.25, 0., 0.5, 0.5, 0., 1., 0., 0., 0.5, 0.5, 0., 0., 1.])\n",
      "\n",
      "f[6] = Factor.Factor([v[6]])\n",
      "f[6].fill_values([0.01, 0.18, 0.81])\n",
      "\n",
      "f[7] = Factor.Factor([v[7], v[1]])\n",
      "f[7].fill_values([0.8, 0.2, 0.6, 0.4, 0.1, 0.9])\n",
      "\n",
      "f[8] = Factor.Factor([v[8], v[2]])\n",
      "f[8].fill_values([0.8, 0.2, 0.6, 0.4, 0.1, 0.9])\n",
      "\n",
      "f[9] = Factor.Factor([v[9], v[3]])\n",
      "f[9].fill_values([0.8, 0.2, 0.6, 0.4, 0.1, 0.9])\n",
      "\n",
      "f[10] = Factor.Factor([v[10], v[4]])\n",
      "f[10].fill_values([0.8, 0.2, 0.6, 0.4, 0.1, 0.9])\n",
      "\n",
      "f[11] = Factor.Factor([v[11], v[5]])\n",
      "f[11].fill_values([0.8, 0.2, 0.6, 0.4, 0.1, 0.9])\n",
      "\n",
      "f[12] = Factor.Factor([v[12], v[6]])\n",
      "f[12].fill_values([0.8, 0.2, 0.6, 0.4, 0.1, 0.9])\n",
      "\n",
      "factorList = f.values()\n",
      "factorList"
     ],
     "language": "python",
     "metadata": {},
     "outputs": [
      {
       "metadata": {},
       "output_type": "pyout",
       "prompt_number": 507,
       "text": [
        "[<Factor.Factor at 0x106056210>,\n",
        " <Factor.Factor at 0x106056550>,\n",
        " <Factor.Factor at 0x106056590>,\n",
        " <Factor.Factor at 0x1060565d0>,\n",
        " <Factor.Factor at 0x106056610>,\n",
        " <Factor.Factor at 0x106056650>,\n",
        " <Factor.Factor at 0x106056690>,\n",
        " <Factor.Factor at 0x1060566d0>,\n",
        " <Factor.Factor at 0x106056710>,\n",
        " <Factor.Factor at 0x106056750>,\n",
        " <Factor.Factor at 0x106056790>,\n",
        " <Factor.Factor at 0x1060567d0>]"
       ]
      }
     ],
     "prompt_number": 507
    },
    {
     "cell_type": "code",
     "collapsed": false,
     "input": [
      "# extract from list of factors the list of variables. The index is important and used for edges.\n",
      "cliqueVars = []\n",
      "count = 0\n",
      "for fu in factorList:\n",
      "    print count, fu.variables\n",
      "    cliqueVars += fu.variables\n",
      "    count  += 1\n",
      "cliqueVars = unique(cliqueVars)\n",
      "cliqueVars = tuple(cliqueVars)"
     ],
     "language": "python",
     "metadata": {},
     "outputs": [
      {
       "output_type": "stream",
       "stream": "stdout",
       "text": [
        "0 [1]\n",
        "1 [2, 1, 3]\n",
        "2 [3]\n",
        "3 [4, 1, 3]\n",
        "4 [5, 2, 6]\n",
        "5 [6]\n",
        "6 [7, 1]\n",
        "7 [8, 2]\n",
        "8 [9, 3]\n",
        "9 [10, 4]\n",
        "10 [11, 5]\n",
        "11 [12, 6]\n"
       ]
      }
     ],
     "prompt_number": 508
    },
    {
     "cell_type": "code",
     "collapsed": false,
     "input": [
      "# create the initial adjacency matrix\n",
      "numVars = len(cliqueVars)\n",
      "edges = np.zeros((numVars, numVars)).astype('int8')\n",
      "for fu in factorList:\n",
      "    for vi in fu.variables:\n",
      "        for vj in fu.variables:\n",
      "            edges[cliqueVars.index(vi), cliqueVars.index(vj)] = 1\n",
      "edges"
     ],
     "language": "python",
     "metadata": {},
     "outputs": [
      {
       "metadata": {},
       "output_type": "pyout",
       "prompt_number": 509,
       "text": [
        "array([[1, 1, 1, 1, 0, 0, 1, 0, 0, 0, 0, 0],\n",
        "       [1, 1, 1, 0, 1, 1, 0, 1, 0, 0, 0, 0],\n",
        "       [1, 1, 1, 1, 0, 0, 0, 0, 1, 0, 0, 0],\n",
        "       [1, 0, 1, 1, 0, 0, 0, 0, 0, 1, 0, 0],\n",
        "       [0, 1, 0, 0, 1, 1, 0, 0, 0, 0, 1, 0],\n",
        "       [0, 1, 0, 0, 1, 1, 0, 0, 0, 0, 0, 1],\n",
        "       [1, 0, 0, 0, 0, 0, 1, 0, 0, 0, 0, 0],\n",
        "       [0, 1, 0, 0, 0, 0, 0, 1, 0, 0, 0, 0],\n",
        "       [0, 0, 1, 0, 0, 0, 0, 0, 1, 0, 0, 0],\n",
        "       [0, 0, 0, 1, 0, 0, 0, 0, 0, 1, 0, 0],\n",
        "       [0, 0, 0, 0, 1, 0, 0, 0, 0, 0, 1, 0],\n",
        "       [0, 0, 0, 0, 0, 1, 0, 0, 0, 0, 0, 1]], dtype=int8)"
       ]
      }
     ],
     "prompt_number": 509
    },
    {
     "cell_type": "code",
     "collapsed": false,
     "input": [],
     "language": "python",
     "metadata": {},
     "outputs": [],
     "prompt_number": 509
    },
    {
     "cell_type": "code",
     "collapsed": false,
     "input": [],
     "language": "python",
     "metadata": {},
     "outputs": [],
     "prompt_number": 509
    },
    {
     "cell_type": "code",
     "collapsed": false,
     "input": [],
     "language": "python",
     "metadata": {},
     "outputs": [],
     "prompt_number": 509
    },
    {
     "cell_type": "code",
     "collapsed": false,
     "input": [
      "# select the variable with the least connections (the first to show up)\n",
      "def firstMinNeighborVar(varList, edgematrix):\n",
      "    connections = tuple(np.sum(edgematrix, axis=1))\n",
      "    minE = inf\n",
      "    for e in connections:\n",
      "        if e > 0 and e < minE:\n",
      "            minE = e\n",
      "    \n",
      "    return varList[connections.index(minE)]\n",
      "    #return varList[connections.argmin()]"
     ],
     "language": "python",
     "metadata": {},
     "outputs": [],
     "prompt_number": 510
    },
    {
     "cell_type": "code",
     "collapsed": false,
     "input": [
      "chuchi = firstMinNeighborVar(cliqueVars, edges)\n",
      "print chuchi.id, chuchi.totCard()"
     ],
     "language": "python",
     "metadata": {},
     "outputs": [
      {
       "output_type": "stream",
       "stream": "stdout",
       "text": [
        "7 2\n"
       ]
      }
     ],
     "prompt_number": 511
    },
    {
     "cell_type": "code",
     "collapsed": false,
     "input": [
      "a = np.array([[1,2],[3,4]])\n",
      "print a\n",
      "a[-1,:] = [8,9]\n",
      "print a"
     ],
     "language": "python",
     "metadata": {},
     "outputs": [
      {
       "output_type": "stream",
       "stream": "stdout",
       "text": [
        "[[1 2]\n",
        " [3 4]]\n",
        "[[1 2]\n",
        " [8 9]]\n"
       ]
      }
     ],
     "prompt_number": 512
    },
    {
     "cell_type": "code",
     "collapsed": false,
     "input": [
      "def eliminateVar(F, C, E, var2shoot):\n",
      "    \n",
      "    # separate factors into two lists, those that use var2shoot (F_Cluster) and the rest\n",
      "    F_Cluster, newF, Cluster_vars = [], [], []\n",
      "    for f in F:\n",
      "        if var2shoot in f.variables:\n",
      "            F_Cluster += [f]\n",
      "            Cluster_vars += f.variables\n",
      "        else:\n",
      "            newF += [f]\n",
      "    \n",
      "    if F_Cluster!=[]:\n",
      "        Cluster_vars = tuple(unique(Cluster_vars))\n",
      "        \n",
      "        # when computing tau of new node, check if it uses other nodes' taus\n",
      "        rows,cols = C['edges'].shape\n",
      "        C['edges'] = np.vstack([C['edges'], np.zeros((1,cols))])\n",
      "        C['edges'] = np.hstack([C['edges'], np.zeros((rows+1,1))])\n",
      "        \n",
      "        pos = np.zeros(cols+1)\n",
      "        for n,node in enumerate(C['nodes']):\n",
      "            if node['tau'] in F_Cluster:\n",
      "                pos[n]=1\n",
      "        # create a new array of connecting node edges based on taus in common\n",
      "        # expand clique tree edges adding array as col and row\n",
      "        C['edges'][-1,:] = pos\n",
      "        C['edges'][:,-1] = pos\n",
      "        \n",
      "        # multiply the factors in Cluster... (lambda) ...and marginalize by var2shoot (tau)\n",
      "        tau = F_Cluster.pop(0)\n",
      "        for f in F_Cluster:\n",
      "            tau = FactorOperations.multiply(tau, f)\n",
      "        if tau.variables != [var2shoot]:\n",
      "            tau = FactorOperations.marginalize(tau, var2shoot)\n",
      "        \n",
      "        # add to unused factor list the resulting tau ==> new factor list with var eliminated\n",
      "        newF += [tau]\n",
      "        \n",
      "        # update the edges (connect all vars inside new cluster, & disconnet the eliminated variable)\n",
      "        for vi in Cluster_vars:\n",
      "            for vj in Cluster_vars:\n",
      "                E[cliqueVars.index(vi), cliqueVars.index(vj)] = 1\n",
      "        E[cliqueVars.index(var2shoot),:] = 0\n",
      "        E[:, cliqueVars.index(var2shoot)] = 0\n",
      "        \n",
      "        print 'cluster_vars', Cluster_vars\n",
      "        C['nodes'] += [{'vars':Cluster_vars, 'tau':tau}]\n",
      "        \n",
      "        F = newF\n",
      "    \n",
      "    return [F, C, E]"
     ],
     "language": "python",
     "metadata": {},
     "outputs": [],
     "prompt_number": 513
    },
    {
     "cell_type": "code",
     "collapsed": false,
     "input": [
      "a = np.zeros((1,4))\n",
      "a.T"
     ],
     "language": "python",
     "metadata": {},
     "outputs": [
      {
       "metadata": {},
       "output_type": "pyout",
       "prompt_number": 514,
       "text": [
        "array([[ 0.],\n",
        "       [ 0.],\n",
        "       [ 0.],\n",
        "       [ 0.]])"
       ]
      }
     ],
     "prompt_number": 514
    },
    {
     "cell_type": "code",
     "collapsed": false,
     "input": [
      "C"
     ],
     "language": "python",
     "metadata": {},
     "outputs": [
      {
       "metadata": {},
       "output_type": "pyout",
       "prompt_number": 515,
       "text": [
        "{'edges': array([ 0.]), 'nodes': [], 'taus': []}"
       ]
      }
     ],
     "prompt_number": 515
    },
    {
     "cell_type": "code",
     "collapsed": false,
     "input": [
      "F0 = factorList\n",
      "E0 = edges\n",
      "C0 = {}\n",
      "C0['nodes'] = []\n",
      "C0['edges'] = np.zeros((0,0)) #[0]\n",
      "    \n",
      "\n",
      "F = F0\n",
      "E = E0\n",
      "C = C0\n",
      "considered_cliques = 0\n",
      "while considered_cliques < len(cliqueVars):\n",
      "    z = firstMinNeighborVar(cliqueVars, E)\n",
      "    print considered_cliques, 'var to elim', z\n",
      "    \n",
      "    [F,C,E] = eliminateVar(F, C, E, z)\n",
      "    \n",
      "    \n",
      "    considered_cliques += 1"
     ],
     "language": "python",
     "metadata": {},
     "outputs": [
      {
       "output_type": "stream",
       "stream": "stdout",
       "text": [
        "0 var to elim 7\n",
        "cluster_vars (1, 7)\n",
        "1 var to elim 8\n",
        "cluster_vars (2, 8)\n",
        "2 var to elim 9\n",
        "cluster_vars (3, 9)\n",
        "3 var to elim 10\n",
        "cluster_vars (4, 10)\n",
        "4 var to elim 11\n",
        "cluster_vars (5, 11)\n",
        "5 var to elim 12\n",
        "cluster_vars (6, 12)\n",
        "6 var to elim 4\n",
        "cluster_vars (1, 3, 4)\n",
        "7 var to elim 1\n",
        "cluster_vars (1, 2, 3)\n",
        "8 var to elim 3\n",
        "cluster_vars (2, 3)\n",
        "9 var to elim 2\n",
        "cluster_vars (2, 5, 6)\n",
        "10 var to elim 5\n",
        "cluster_vars (5, 6)\n",
        "11 var to elim 6\n",
        "cluster_vars (6,)\n"
       ]
      }
     ],
     "prompt_number": 519
    },
    {
     "cell_type": "code",
     "collapsed": false,
     "input": [
      "F[0].values"
     ],
     "language": "python",
     "metadata": {},
     "outputs": [
      {
       "metadata": {},
       "output_type": "pyout",
       "prompt_number": 520,
       "text": [
        "array([ 0.01,  0.18,  0.81])"
       ]
      }
     ],
     "prompt_number": 520
    },
    {
     "cell_type": "code",
     "collapsed": false,
     "input": [
      "C['edges']"
     ],
     "language": "python",
     "metadata": {},
     "outputs": [
      {
       "metadata": {},
       "output_type": "pyout",
       "prompt_number": 521,
       "text": [
        "array([[ 0.,  0.,  0.,  0.,  0.,  0.,  0.,  1.,  0.,  0.,  0.,  0.],\n",
        "       [ 0.,  0.,  0.,  0.,  0.,  0.,  0.,  0.,  0.,  1.,  0.,  0.],\n",
        "       [ 0.,  0.,  0.,  0.,  0.,  0.,  0.,  0.,  1.,  0.,  0.,  0.],\n",
        "       [ 0.,  0.,  0.,  0.,  0.,  0.,  1.,  0.,  0.,  0.,  0.,  0.],\n",
        "       [ 0.,  0.,  0.,  0.,  0.,  0.,  0.,  0.,  0.,  0.,  1.,  0.],\n",
        "       [ 0.,  0.,  0.,  0.,  0.,  0.,  0.,  0.,  0.,  0.,  0.,  1.],\n",
        "       [ 0.,  0.,  0.,  1.,  0.,  0.,  0.,  1.,  0.,  0.,  0.,  0.],\n",
        "       [ 1.,  0.,  0.,  0.,  0.,  0.,  1.,  0.,  1.,  0.,  0.,  0.],\n",
        "       [ 0.,  0.,  1.,  0.,  0.,  0.,  0.,  1.,  0.,  1.,  0.,  0.],\n",
        "       [ 0.,  1.,  0.,  0.,  0.,  0.,  0.,  0.,  1.,  0.,  1.,  0.],\n",
        "       [ 0.,  0.,  0.,  0.,  1.,  0.,  0.,  0.,  0.,  1.,  0.,  1.],\n",
        "       [ 0.,  0.,  0.,  0.,  0.,  1.,  0.,  0.,  0.,  0.,  1.,  0.]])"
       ]
      }
     ],
     "prompt_number": 521
    },
    {
     "cell_type": "code",
     "collapsed": false,
     "input": [
      "for i,node in enumerate(C['nodes']):\n",
      "    print node['vars']\n",
      "    for j,link in enumerate(C['edges'][i,:]):\n",
      "        if link==1:\n",
      "            print ' --', C['nodes'][j]['vars']\n",
      "    "
     ],
     "language": "python",
     "metadata": {},
     "outputs": [
      {
       "output_type": "stream",
       "stream": "stdout",
       "text": [
        "(1, 7)\n",
        " -- (1, 2, 3)\n",
        "(2, 8)\n",
        " -- (2, 5, 6)\n",
        "(3, 9)\n",
        " -- (2, 3)\n",
        "(4, 10)\n",
        " -- (1, 3, 4)\n",
        "(5, 11)\n",
        " -- (5, 6)\n",
        "(6, 12)\n",
        " -- (6,)\n",
        "(1, 3, 4)\n",
        " -- (4, 10)\n",
        " -- (1, 2, 3)\n",
        "(1, 2, 3)\n",
        " -- (1, 7)\n",
        " -- (1, 3, 4)\n",
        " -- (2, 3)\n",
        "(2, 3)\n",
        " -- (3, 9)\n",
        " -- (1, 2, 3)\n",
        " -- (2, 5, 6)\n",
        "(2, 5, 6)\n",
        " -- (2, 8)\n",
        " -- (2, 3)\n",
        " -- (5, 6)\n",
        "(5, 6)\n",
        " -- (5, 11)\n",
        " -- (2, 5, 6)\n",
        " -- (6,)\n",
        "(6,)\n",
        " -- (6, 12)\n",
        " -- (5, 6)\n"
       ]
      }
     ],
     "prompt_number": 524
    },
    {
     "cell_type": "code",
     "collapsed": false,
     "input": [
      "C['nodes'][11]"
     ],
     "language": "python",
     "metadata": {},
     "outputs": [
      {
       "metadata": {},
       "output_type": "pyout",
       "prompt_number": 523,
       "text": [
        "{'tau': <Factor.Factor at 0x10602fcd0>, 'vars': (6,)}"
       ]
      }
     ],
     "prompt_number": 523
    },
    {
     "cell_type": "code",
     "collapsed": false,
     "input": [],
     "language": "python",
     "metadata": {},
     "outputs": []
    }
   ],
   "metadata": {}
  }
 ]
}