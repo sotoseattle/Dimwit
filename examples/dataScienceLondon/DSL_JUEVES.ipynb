{
 "metadata": {
  "name": ""
 },
 "nbformat": 3,
 "nbformat_minor": 0,
 "worksheets": [
  {
   "cells": [
    {
     "cell_type": "code",
     "collapsed": false,
     "input": [
      "%cd '~/Dropbox/fjs6/Journal/ideolog/Dimwit/examples/dataScienceLondon/data/'"
     ],
     "language": "python",
     "metadata": {},
     "outputs": [
      {
       "output_type": "stream",
       "stream": "stdout",
       "text": [
        "/Users/fjs6/Dropbox/fjs6/Journal/ideolog/Dimwit/examples/dataScienceLondon/data\n"
       ]
      }
     ],
     "prompt_number": 444
    },
    {
     "cell_type": "code",
     "collapsed": false,
     "input": [
      "import numpy as np\n",
      "from pandas import *\n",
      "import pandas\n",
      "import math\n",
      "import random\n",
      "from sklearn import preprocessing\n",
      "from sklearn import svm\n",
      "from sklearn.svm import SVC\n",
      "from sklearn.cross_validation import StratifiedKFold\n",
      "from sklearn.grid_search import GridSearchCV\n",
      "from sklearn.decomposition import PCA\n",
      "from sklearn.decomposition import RandomizedPCA\n",
      "\n",
      "import sys\n",
      "sys.path.append('/Users/fjs6/Dropbox/fjs6/Journal/ideolog/Dimwit')\n"
     ],
     "language": "python",
     "metadata": {},
     "outputs": [],
     "prompt_number": 445
    },
    {
     "cell_type": "code",
     "collapsed": false,
     "input": [
      "tr_data = read_csv('train.csv', header=None)\n",
      "test_data = read_csv('test.csv', header=None)\n",
      "data = concat([tr_data, test_data], ignore_index=True)"
     ],
     "language": "python",
     "metadata": {},
     "outputs": [],
     "prompt_number": 446
    },
    {
     "cell_type": "code",
     "collapsed": false,
     "input": [
      "gt_data = read_csv('trainLabels.csv', header=None)\n",
      "gt_data =np.vstack([gt_data, np.ones((data.shape[0]-gt_data.shape[0],1))*-1])"
     ],
     "language": "python",
     "metadata": {},
     "outputs": [],
     "prompt_number": 447
    },
    {
     "cell_type": "code",
     "collapsed": false,
     "input": [
      "data.shape"
     ],
     "language": "python",
     "metadata": {},
     "outputs": [
      {
       "metadata": {},
       "output_type": "pyout",
       "prompt_number": 448,
       "text": [
        "(10000, 40)"
       ]
      }
     ],
     "prompt_number": 448
    },
    {
     "cell_type": "code",
     "collapsed": false,
     "input": [
      "def heatmap(grid, C_range, g_range):\n",
      "    print(\"The best classifier is: \", grid.best_estimator_)\n",
      "    print 'best score', grid.best_score_\n",
      "    score_dict = grid.grid_scores_\n",
      "    scores = [x[1] for x in score_dict]\n",
      "    scores = np.array(scores).reshape(len(C_range), len(g_range))\n",
      "\n",
      "    plt.figure(figsize=(8, 6))\n",
      "    plt.subplots_adjust(left=0.05, right=0.95, bottom=0.15, top=0.95)\n",
      "    plt.imshow(scores, interpolation='nearest', cmap=plt.cm.spectral)\n",
      "    plt.xlabel('g')\n",
      "    plt.ylabel('C')\n",
      "    plt.colorbar()\n",
      "    plt.xticks(np.arange(len(g_range)), g_range, rotation=45)\n",
      "    plt.yticks(np.arange(len(C_range)), C_range)\n",
      "    plt.show()"
     ],
     "language": "python",
     "metadata": {},
     "outputs": [],
     "prompt_number": 449
    },
    {
     "cell_type": "code",
     "collapsed": false,
     "input": [
      "def laundromat(model, Whole, CV, nspv, max_acc, PCUT):\n",
      "    \n",
      "    # extract data from x. First column is the Y label\n",
      "    M = Whole.shape[0]\n",
      "    D = Whole[Whole[:,0]!=-1]\n",
      "    X, Y = D[:,1:], D[:,0]\n",
      "    \n",
      "    X_CV, Y_CV = CV[:,1:], CV[:,0]\n",
      "    M_CV = len(Y_CV)\n",
      "    \n",
      "    # train\n",
      "    model.fit(X, Y)\n",
      "    \n",
      "    # evaluate\n",
      "    p = model.predict(X_CV)\n",
      "    count = 0.0\n",
      "    for i in range(M_CV):\n",
      "        if p[i]==Y_CV[i]:\n",
      "            count+=1\n",
      "    acc = 100*count/M_CV\n",
      "    if acc < max_acc or (acc == max_acc and model.support_vectors_.shape[0]==nspv):\n",
      "        return [Whole, None, max_acc, True, nspv]\n",
      "    \n",
      "    #print 'score on CV', acc, 'support vectors', model.support_vectors_.shape[0]\n",
      "    # go deeper\n",
      "    cc = 0\n",
      "    for i in range(M):\n",
      "        Yrec = Whole[i,0]\n",
      "        Xrec = Whole[i,1:]\n",
      "        if Yrec==-1:\n",
      "            prob = model.predict_proba(Xrec)\n",
      "            label = np.argmax(prob)\n",
      "            p = np.max(prob[0,:])\n",
      "            if p > PCUT:\n",
      "                cc += 1\n",
      "                Whole[i,0] = label\n",
      "    \n",
      "    sv_xy = np.hstack([np.atleast_2d(Y[model.support_]).T, model.support_vectors_])\n",
      "        \n",
      "    return [Whole, sv_xy, acc, False, model.support_vectors_.shape[0]]\n"
     ],
     "language": "python",
     "metadata": {},
     "outputs": [],
     "prompt_number": 450
    },
    {
     "cell_type": "heading",
     "level": 4,
     "metadata": {},
     "source": [
      "SVM Recursive to inflate new training set"
     ]
    },
    {
     "cell_type": "code",
     "collapsed": false,
     "input": [
      "def giveittomebaby(index_tr, index_cv, trials = 10):\n",
      "    fuck_Z = None\n",
      "    fuck_acc = 0.0\n",
      "    fuck_X = None\n",
      "    fuck_Y = None\n",
      "    for times in range(trials):\n",
      "        # read data\n",
      "        x_all = np.array(data.ix[:,:])\n",
      "        y_all = gt_data.astype('int8').copy()\n",
      "        \n",
      "        # reduce to 12 dimmensions\n",
      "        pca = RandomizedPCA(n_components=12, whiten=True)\n",
      "        x_all = pca.fit(x_all).transform(x_all)\n",
      "        \n",
      "        # divide into training and crossvalidation\n",
      "        Whole_Training = np.hstack([y_all[index_tr], x_all[index_tr,:]])\n",
      "        #X_CV, Y_CV = x_all[index_cv,:], y_all[index_cv]\n",
      "        CV = np.hstack([np.atleast_2d(y_all[index_cv]), x_all[index_cv,:]])\n",
      "        \n",
      "        # find the best classifier\n",
      "        clf = svm.SVC(kernel='rbf', cache_size=1000, probability=True, C=10000000., gamma=0.22)\n",
      "        [Z, sv_xy, acc, fu, nnn] = laundromat(clf, Whole_Training, CV, nspv=0., max_acc=0.0, PCUT = 0.95)\n",
      "        \n",
      "        clf = svm.SVC(kernel='rbf', cache_size=1000, probability=True, C=10000000., gamma=0.275)\n",
      "        fu = False\n",
      "        acc = 0.9\n",
      "        while fu == False:\n",
      "            old_sv_xy = sv_xy\n",
      "            [Z, sv_xy, acc, fu, nnn] = laundromat(clf, Z, CV, nnn, acc, PCUT=0.9999)\n",
      "            if sv_xy==None:\n",
      "                sv_xy = old_sv_xy\n",
      "        \n",
      "        print 'accuracy', acc, 'support v', nnn\n",
      "        if acc >= fuck_acc:\n",
      "            fuck_acc = acc\n",
      "            fuck_X, fuck_Y = sv_xy[:,1:], sv_xy[:,0]\n",
      "    \n",
      "    print '_____________________predicting kahuna 9,000 on model with acc', fuck_acc\n",
      "    return [fuck_X, fuck_Y, fuck_acc]"
     ],
     "language": "python",
     "metadata": {},
     "outputs": [],
     "prompt_number": 451
    },
    {
     "cell_type": "code",
     "collapsed": false,
     "input": [
      "Matrix_runs = 99\n",
      "PP = np.ones((9000, Matrix_runs))*-1\n",
      "scores = np.zeros((Matrix_runs,))\n",
      "SV_X, SV_Y = np.zeros((1,12)), np.array([0])"
     ],
     "language": "python",
     "metadata": {},
     "outputs": [],
     "prompt_number": 454
    },
    {
     "cell_type": "code",
     "collapsed": false,
     "input": [
      "MPP, NPP = PP.shape"
     ],
     "language": "python",
     "metadata": {},
     "outputs": [],
     "prompt_number": 455
    },
    {
     "cell_type": "code",
     "collapsed": false,
     "input": [
      "for i in range(NPP):\n",
      "    listo = np.arange(1000)\n",
      "    np.random.shuffle(listo)\n",
      "    crossval, train = np.split(listo, [300])\n",
      "    train = np.concatenate((train, np.arange(1000,10000)))\n",
      "    print train.shape, crossval.shape\n",
      "    \n",
      "    [SVX, SVY, acc] = giveittomebaby(train, crossval, trials=10)\n",
      "    \n",
      "    print 'inserting with acc', acc, 'in column', i\n",
      "    scores[i] = acc\n",
      "    SV_X = np.vstack([SV_X, SVX])\n",
      "    SV_Y = np.concatenate([SV_Y, SVY])\n",
      "    print '--------------------', SV_X.shape, SV_Y.shape\n",
      "    "
     ],
     "language": "python",
     "metadata": {},
     "outputs": [
      {
       "output_type": "stream",
       "stream": "stdout",
       "text": [
        "(9700,) (300,)\n",
        "accuracy"
       ]
      },
      {
       "output_type": "stream",
       "stream": "stdout",
       "text": [
        " 93.3333333333 support v 1946\n",
        "accuracy"
       ]
      },
      {
       "output_type": "stream",
       "stream": "stdout",
       "text": [
        " 93.6666666667 support v 1974\n",
        "accuracy"
       ]
      },
      {
       "output_type": "stream",
       "stream": "stdout",
       "text": [
        " 93.3333333333 support v 1955\n",
        "accuracy"
       ]
      },
      {
       "output_type": "stream",
       "stream": "stdout",
       "text": [
        " 94.0 support v 1960\n",
        "accuracy"
       ]
      },
      {
       "output_type": "stream",
       "stream": "stdout",
       "text": [
        " 93.6666666667 support v 1958\n",
        "accuracy"
       ]
      },
      {
       "output_type": "stream",
       "stream": "stdout",
       "text": [
        " 93.6666666667 support v 1991\n",
        "accuracy"
       ]
      },
      {
       "output_type": "stream",
       "stream": "stdout",
       "text": [
        " 93.3333333333 support v 1999\n",
        "accuracy"
       ]
      },
      {
       "output_type": "stream",
       "stream": "stdout",
       "text": [
        " 93.3333333333 support v 2027\n",
        "accuracy"
       ]
      },
      {
       "output_type": "stream",
       "stream": "stdout",
       "text": [
        " 93.3333333333 support v 1950\n",
        "accuracy"
       ]
      },
      {
       "output_type": "stream",
       "stream": "stdout",
       "text": [
        " 93.3333333333 support v 2004\n",
        "_____________________predicting kahuna 9,000 on model with acc 94.0\n",
        "inserting with acc 94.0 in column 0\n",
        "-------------------- (1961, 12) (1961,)\n",
        "(9700,) (300,)\n",
        "accuracy"
       ]
      },
      {
       "output_type": "stream",
       "stream": "stdout",
       "text": [
        " 94.3333333333 support v 1897\n",
        "accuracy"
       ]
      },
      {
       "output_type": "stream",
       "stream": "stdout",
       "text": [
        " 93.3333333333 support v 1890\n",
        "accuracy"
       ]
      },
      {
       "output_type": "stream",
       "stream": "stdout",
       "text": [
        " 94.6666666667 support v 2005\n",
        "accuracy"
       ]
      },
      {
       "output_type": "stream",
       "stream": "stdout",
       "text": [
        " 93.6666666667 support v 1826\n",
        "accuracy"
       ]
      },
      {
       "output_type": "stream",
       "stream": "stdout",
       "text": [
        " 94.3333333333 support v 1939\n",
        "accuracy"
       ]
      },
      {
       "output_type": "stream",
       "stream": "stdout",
       "text": [
        " 94.6666666667 support v 1963\n",
        "accuracy"
       ]
      },
      {
       "output_type": "stream",
       "stream": "stdout",
       "text": [
        " 93.0 support v 1932\n",
        "accuracy"
       ]
      },
      {
       "output_type": "stream",
       "stream": "stdout",
       "text": [
        " 94.3333333333 support v 1981\n",
        "accuracy"
       ]
      },
      {
       "output_type": "stream",
       "stream": "stdout",
       "text": [
        " 93.3333333333 support v 1928\n",
        "accuracy"
       ]
      },
      {
       "output_type": "stream",
       "stream": "stdout",
       "text": [
        " 93.3333333333 support v 1895\n",
        "_____________________predicting kahuna 9,000 on model with acc 94.6666666667\n",
        "inserting with acc 94.6666666667 in column 1\n",
        "-------------------- (3924, 12) (3924,)\n",
        "(9700,) (300,)\n",
        "accuracy"
       ]
      },
      {
       "output_type": "stream",
       "stream": "stdout",
       "text": [
        " 96.3333333333 support v 1967\n",
        "accuracy"
       ]
      },
      {
       "output_type": "stream",
       "stream": "stdout",
       "text": [
        " 96.0 support v 2006\n",
        "accuracy"
       ]
      },
      {
       "output_type": "stream",
       "stream": "stdout",
       "text": [
        " 96.6666666667 support v 1955\n",
        "accuracy"
       ]
      },
      {
       "output_type": "stream",
       "stream": "stdout",
       "text": [
        " 96.0 support v 1851\n",
        "accuracy"
       ]
      },
      {
       "output_type": "stream",
       "stream": "stdout",
       "text": [
        " 96.6666666667 support v 1873\n",
        "accuracy"
       ]
      },
      {
       "output_type": "stream",
       "stream": "stdout",
       "text": [
        " 96.3333333333 support v 1908\n",
        "accuracy"
       ]
      },
      {
       "output_type": "stream",
       "stream": "stdout",
       "text": [
        " 96.0 support v 1964\n",
        "accuracy"
       ]
      },
      {
       "output_type": "stream",
       "stream": "stdout",
       "text": [
        " 96.0 support v 1889\n",
        "accuracy"
       ]
      },
      {
       "output_type": "stream",
       "stream": "stdout",
       "text": [
        " 96.3333333333 support v 1913\n",
        "accuracy"
       ]
      },
      {
       "output_type": "stream",
       "stream": "stdout",
       "text": [
        " 96.3333333333 support v 1927\n",
        "_____________________predicting kahuna 9,000 on model with acc 96.6666666667\n",
        "inserting with acc 96.6666666667 in column 2\n",
        "-------------------- (5797, 12) (5797,)\n",
        "(9700,) (300,)\n",
        "accuracy"
       ]
      },
      {
       "output_type": "stream",
       "stream": "stdout",
       "text": [
        " 95.3333333333 support v 1847\n",
        "accuracy"
       ]
      },
      {
       "output_type": "stream",
       "stream": "stdout",
       "text": [
        " 95.0 support v 1792\n",
        "accuracy"
       ]
      },
      {
       "output_type": "stream",
       "stream": "stdout",
       "text": [
        " 95.0 support v 1768\n",
        "accuracy"
       ]
      },
      {
       "output_type": "stream",
       "stream": "stdout",
       "text": [
        " 95.3333333333 support v 1942\n",
        "accuracy"
       ]
      },
      {
       "output_type": "stream",
       "stream": "stdout",
       "text": [
        " 95.6666666667 support v 1898\n",
        "accuracy"
       ]
      },
      {
       "output_type": "stream",
       "stream": "stdout",
       "text": [
        " 95.3333333333 support v 1892\n",
        "accuracy"
       ]
      },
      {
       "output_type": "stream",
       "stream": "stdout",
       "text": [
        " 95.3333333333 support v 1771\n",
        "accuracy"
       ]
      },
      {
       "output_type": "stream",
       "stream": "stdout",
       "text": [
        " 95.6666666667 support v 1831\n",
        "accuracy"
       ]
      },
      {
       "output_type": "stream",
       "stream": "stdout",
       "text": [
        " 95.6666666667 support v 1881\n",
        "accuracy"
       ]
      },
      {
       "output_type": "stream",
       "stream": "stdout",
       "text": [
        " 95.3333333333 support v 1881\n",
        "_____________________predicting kahuna 9,000 on model with acc 95.6666666667\n",
        "inserting with acc 95.6666666667 in column 3\n",
        "-------------------- (7678, 12) (7678,)\n",
        "(9700,) (300,)\n",
        "accuracy"
       ]
      },
      {
       "output_type": "stream",
       "stream": "stdout",
       "text": [
        " 95.3333333333 support v 1879\n",
        "accuracy"
       ]
      },
      {
       "output_type": "stream",
       "stream": "stdout",
       "text": [
        " 95.6666666667 support v 1877\n",
        "accuracy"
       ]
      },
      {
       "output_type": "stream",
       "stream": "stdout",
       "text": [
        " 95.6666666667 support v 1873\n",
        "accuracy"
       ]
      },
      {
       "output_type": "stream",
       "stream": "stdout",
       "text": [
        " 96.0 support v 1917\n",
        "accuracy"
       ]
      },
      {
       "output_type": "stream",
       "stream": "stdout",
       "text": [
        " 95.6666666667 support v 1872\n",
        "accuracy"
       ]
      },
      {
       "output_type": "stream",
       "stream": "stdout",
       "text": [
        " 95.6666666667 support v 1903\n",
        "accuracy"
       ]
      },
      {
       "output_type": "stream",
       "stream": "stdout",
       "text": [
        " 95.6666666667 support v 1932\n",
        "accuracy"
       ]
      },
      {
       "output_type": "stream",
       "stream": "stdout",
       "text": [
        " 96.0 support v 1900\n",
        "accuracy"
       ]
      },
      {
       "output_type": "stream",
       "stream": "stdout",
       "text": [
        " 96.3333333333 support v 1905\n",
        "accuracy"
       ]
      },
      {
       "output_type": "stream",
       "stream": "stdout",
       "text": [
        " 95.3333333333 support v 1842\n",
        "_____________________predicting kahuna 9,000 on model with acc 96.3333333333\n",
        "inserting with acc 96.3333333333 in column 4\n",
        "-------------------- (9583, 12) (9583,)\n",
        "(9700,) (300,)\n",
        "accuracy"
       ]
      },
      {
       "output_type": "stream",
       "stream": "stdout",
       "text": [
        " 94.3333333333 support v 1849\n",
        "accuracy"
       ]
      },
      {
       "output_type": "stream",
       "stream": "stdout",
       "text": [
        " 94.6666666667 support v 1892\n",
        "accuracy"
       ]
      },
      {
       "output_type": "stream",
       "stream": "stdout",
       "text": [
        " 95.0 support v 1906\n",
        "accuracy"
       ]
      },
      {
       "output_type": "stream",
       "stream": "stdout",
       "text": [
        " 94.6666666667 support v 1975\n",
        "accuracy"
       ]
      },
      {
       "output_type": "stream",
       "stream": "stdout",
       "text": [
        " 94.0 support v 1822\n",
        "accuracy"
       ]
      },
      {
       "output_type": "stream",
       "stream": "stdout",
       "text": [
        " 94.3333333333 support v 1915\n",
        "accuracy"
       ]
      },
      {
       "output_type": "stream",
       "stream": "stdout",
       "text": [
        " 94.6666666667 support v 1940\n",
        "accuracy"
       ]
      },
      {
       "output_type": "stream",
       "stream": "stdout",
       "text": [
        " 95.3333333333 support v 1904\n",
        "accuracy"
       ]
      },
      {
       "output_type": "stream",
       "stream": "stdout",
       "text": [
        " 94.3333333333 support v 1975\n",
        "accuracy"
       ]
      },
      {
       "output_type": "stream",
       "stream": "stdout",
       "text": [
        " 94.6666666667 support v 1927\n",
        "_____________________predicting kahuna 9,000 on model with acc 95.3333333333\n",
        "inserting with acc 95.3333333333 in column 5\n",
        "-------------------- (11487, 12) (11487,)\n",
        "(9700,) (300,)\n",
        "accuracy"
       ]
      },
      {
       "output_type": "stream",
       "stream": "stdout",
       "text": [
        " 95.3333333333 support v 1878\n",
        "accuracy"
       ]
      },
      {
       "output_type": "stream",
       "stream": "stdout",
       "text": [
        " 95.3333333333 support v 1979\n",
        "accuracy"
       ]
      },
      {
       "output_type": "stream",
       "stream": "stdout",
       "text": [
        " 94.6666666667 support v 2001\n",
        "accuracy"
       ]
      },
      {
       "output_type": "stream",
       "stream": "stdout",
       "text": [
        " 95.3333333333 support v 1886\n",
        "accuracy"
       ]
      },
      {
       "output_type": "stream",
       "stream": "stdout",
       "text": [
        " 95.3333333333 support v 1958\n",
        "accuracy"
       ]
      },
      {
       "output_type": "stream",
       "stream": "stdout",
       "text": [
        " 95.0 support v 1914\n",
        "accuracy"
       ]
      },
      {
       "output_type": "stream",
       "stream": "stdout",
       "text": [
        " 95.3333333333 support v 1926\n",
        "accuracy"
       ]
      },
      {
       "output_type": "stream",
       "stream": "stdout",
       "text": [
        " 95.0 support v 1844\n",
        "accuracy"
       ]
      },
      {
       "output_type": "stream",
       "stream": "stdout",
       "text": [
        " 95.3333333333 support v 1855\n",
        "accuracy"
       ]
      },
      {
       "output_type": "stream",
       "stream": "stdout",
       "text": [
        " 95.0 support v 1994\n",
        "_____________________predicting kahuna 9,000 on model with acc 95.3333333333\n",
        "inserting with acc 95.3333333333 in column 6\n",
        "-------------------- (13342, 12) (13342,)\n",
        "(9700,) (300,)\n",
        "accuracy"
       ]
      },
      {
       "output_type": "stream",
       "stream": "stdout",
       "text": [
        " 95.3333333333 support v 1993\n",
        "accuracy"
       ]
      },
      {
       "output_type": "stream",
       "stream": "stdout",
       "text": [
        " 95.0 support v 1969\n",
        "accuracy"
       ]
      },
      {
       "output_type": "stream",
       "stream": "stdout",
       "text": [
        " 95.6666666667 support v 1936\n",
        "accuracy"
       ]
      },
      {
       "output_type": "stream",
       "stream": "stdout",
       "text": [
        " 95.0 support v 1932\n",
        "accuracy"
       ]
      },
      {
       "output_type": "stream",
       "stream": "stdout",
       "text": [
        " 95.6666666667 support v 1983\n",
        "accuracy"
       ]
      },
      {
       "output_type": "stream",
       "stream": "stdout",
       "text": [
        " 95.3333333333 support v 1953\n",
        "accuracy"
       ]
      },
      {
       "output_type": "stream",
       "stream": "stdout",
       "text": [
        " 95.6666666667 support v 1955\n",
        "accuracy"
       ]
      },
      {
       "output_type": "stream",
       "stream": "stdout",
       "text": [
        " 95.3333333333 support v 1976\n",
        "accuracy"
       ]
      },
      {
       "output_type": "stream",
       "stream": "stdout",
       "text": [
        " 95.3333333333 support v 1921\n",
        "accuracy"
       ]
      },
      {
       "output_type": "stream",
       "stream": "stdout",
       "text": [
        " 95.6666666667 support v 1974\n",
        "_____________________predicting kahuna 9,000 on model with acc 95.6666666667\n",
        "inserting with acc 95.6666666667 in column 7\n",
        "-------------------- (15316, 12) (15316,)\n",
        "(9700,) (300,)\n",
        "accuracy"
       ]
      },
      {
       "output_type": "stream",
       "stream": "stdout",
       "text": [
        " 96.0 support v 1925\n",
        "accuracy"
       ]
      },
      {
       "output_type": "stream",
       "stream": "stdout",
       "text": [
        " 96.0 support v 1899\n",
        "accuracy"
       ]
      },
      {
       "output_type": "stream",
       "stream": "stdout",
       "text": [
        " 95.6666666667 support v 1830\n",
        "accuracy"
       ]
      },
      {
       "output_type": "stream",
       "stream": "stdout",
       "text": [
        " 96.3333333333 support v 1888\n",
        "accuracy"
       ]
      },
      {
       "output_type": "stream",
       "stream": "stdout",
       "text": [
        " 95.6666666667 support v 1845\n",
        "accuracy"
       ]
      },
      {
       "output_type": "stream",
       "stream": "stdout",
       "text": [
        " 96.3333333333 support v 1862\n",
        "accuracy"
       ]
      },
      {
       "output_type": "stream",
       "stream": "stdout",
       "text": [
        " 95.6666666667 support v 1915\n",
        "accuracy"
       ]
      },
      {
       "output_type": "stream",
       "stream": "stdout",
       "text": [
        " 96.0 support v 1903\n",
        "accuracy"
       ]
      },
      {
       "output_type": "stream",
       "stream": "stdout",
       "text": [
        " 95.0 support v 1872\n",
        "accuracy"
       ]
      },
      {
       "output_type": "stream",
       "stream": "stdout",
       "text": [
        " 95.6666666667 support v 1832\n",
        "_____________________predicting kahuna 9,000 on model with acc 96.3333333333\n",
        "inserting with acc 96.3333333333 in column 8\n",
        "-------------------- (17178, 12) (17178,)\n",
        "(9700,) (300,)\n",
        "accuracy"
       ]
      },
      {
       "output_type": "stream",
       "stream": "stdout",
       "text": [
        " 91.3333333333 support v 1974\n",
        "accuracy"
       ]
      },
      {
       "output_type": "stream",
       "stream": "stdout",
       "text": [
        " 91.0 support v 1910\n",
        "accuracy"
       ]
      },
      {
       "output_type": "stream",
       "stream": "stdout",
       "text": [
        " 91.3333333333 support v 1907\n",
        "accuracy"
       ]
      },
      {
       "output_type": "stream",
       "stream": "stdout",
       "text": [
        " 91.6666666667 support v 1997\n",
        "accuracy"
       ]
      },
      {
       "output_type": "stream",
       "stream": "stdout",
       "text": [
        " 92.3333333333 support v 1965\n",
        "accuracy"
       ]
      },
      {
       "output_type": "stream",
       "stream": "stdout",
       "text": [
        " 92.0 support v 1967\n",
        "accuracy"
       ]
      },
      {
       "output_type": "stream",
       "stream": "stdout",
       "text": [
        " 92.0 support v 1939\n",
        "accuracy"
       ]
      },
      {
       "output_type": "stream",
       "stream": "stdout",
       "text": [
        " 92.0 support v 1958\n",
        "accuracy"
       ]
      },
      {
       "output_type": "stream",
       "stream": "stdout",
       "text": [
        " 91.6666666667 support v 1925\n",
        "accuracy"
       ]
      },
      {
       "output_type": "stream",
       "stream": "stdout",
       "text": [
        " 91.6666666667 support v 1981\n",
        "_____________________predicting kahuna 9,000 on model with acc 92.3333333333\n",
        "inserting with acc 92.3333333333 in column 9\n",
        "-------------------- (19143, 12) (19143,)\n",
        "(9700,) (300,)\n",
        "accuracy"
       ]
      },
      {
       "output_type": "stream",
       "stream": "stdout",
       "text": [
        " 95.3333333333 support v 1945\n",
        "accuracy"
       ]
      },
      {
       "output_type": "stream",
       "stream": "stdout",
       "text": [
        " 96.0 support v 1916\n",
        "accuracy"
       ]
      },
      {
       "output_type": "stream",
       "stream": "stdout",
       "text": [
        " 95.3333333333 support v 1879\n",
        "accuracy"
       ]
      },
      {
       "output_type": "stream",
       "stream": "stdout",
       "text": [
        " 95.6666666667 support v 1866\n",
        "accuracy"
       ]
      },
      {
       "output_type": "stream",
       "stream": "stdout",
       "text": [
        " 95.6666666667 support v 1889\n",
        "accuracy"
       ]
      },
      {
       "output_type": "stream",
       "stream": "stdout",
       "text": [
        " 96.3333333333 support v 1852\n",
        "accuracy"
       ]
      },
      {
       "output_type": "stream",
       "stream": "stdout",
       "text": [
        " 95.6666666667 support v 2014\n",
        "accuracy"
       ]
      },
      {
       "output_type": "stream",
       "stream": "stdout",
       "text": [
        " 95.6666666667 support v 1944\n",
        "accuracy"
       ]
      },
      {
       "output_type": "stream",
       "stream": "stdout",
       "text": [
        " 95.6666666667 support v 1978\n",
        "accuracy"
       ]
      },
      {
       "output_type": "stream",
       "stream": "stdout",
       "text": [
        " 96.0 support v 1910\n",
        "_____________________predicting kahuna 9,000 on model with acc 96.3333333333\n",
        "inserting with acc 96.3333333333 in column 10\n",
        "-------------------- (20995, 12) (20995,)\n",
        "(9700,) (300,)\n",
        "accuracy"
       ]
      },
      {
       "output_type": "stream",
       "stream": "stdout",
       "text": [
        " 95.3333333333 support v 1926\n",
        "accuracy"
       ]
      },
      {
       "output_type": "stream",
       "stream": "stdout",
       "text": [
        " 96.0 support v 1924\n",
        "accuracy"
       ]
      },
      {
       "output_type": "stream",
       "stream": "stdout",
       "text": [
        " 96.0 support v 1916\n",
        "accuracy"
       ]
      },
      {
       "output_type": "stream",
       "stream": "stdout",
       "text": [
        " 96.3333333333 support v 1977\n",
        "accuracy"
       ]
      },
      {
       "output_type": "stream",
       "stream": "stdout",
       "text": [
        " 95.6666666667 support v 1935\n",
        "accuracy"
       ]
      },
      {
       "output_type": "stream",
       "stream": "stdout",
       "text": [
        " 95.6666666667 support v 1873\n",
        "accuracy"
       ]
      },
      {
       "output_type": "stream",
       "stream": "stdout",
       "text": [
        " 95.6666666667 support v 1867\n",
        "accuracy"
       ]
      },
      {
       "output_type": "stream",
       "stream": "stdout",
       "text": [
        " 95.0 support v 1867\n",
        "accuracy"
       ]
      },
      {
       "output_type": "stream",
       "stream": "stdout",
       "text": [
        " 95.3333333333 support v 1929\n",
        "accuracy"
       ]
      },
      {
       "output_type": "stream",
       "stream": "stdout",
       "text": [
        " 95.6666666667 support v 1904\n",
        "_____________________predicting kahuna 9,000 on model with acc 96.3333333333\n",
        "inserting with acc 96.3333333333 in column 11\n",
        "-------------------- (22972, 12) (22972,)\n",
        "(9700,) (300,)\n",
        "accuracy"
       ]
      },
      {
       "output_type": "stream",
       "stream": "stdout",
       "text": [
        " 95.0 support v 1920\n",
        "accuracy"
       ]
      },
      {
       "output_type": "stream",
       "stream": "stdout",
       "text": [
        " 95.3333333333 support v 1936\n",
        "accuracy"
       ]
      },
      {
       "output_type": "stream",
       "stream": "stdout",
       "text": [
        " 95.3333333333 support v 1862\n",
        "accuracy"
       ]
      },
      {
       "output_type": "stream",
       "stream": "stdout",
       "text": [
        " 95.6666666667 support v 1909\n",
        "accuracy"
       ]
      },
      {
       "output_type": "stream",
       "stream": "stdout",
       "text": [
        " 94.0 support v 1778\n",
        "accuracy"
       ]
      },
      {
       "output_type": "stream",
       "stream": "stdout",
       "text": [
        " 94.6666666667 support v 1808\n",
        "accuracy"
       ]
      },
      {
       "output_type": "stream",
       "stream": "stdout",
       "text": [
        " 95.0 support v 1841\n",
        "accuracy"
       ]
      },
      {
       "output_type": "stream",
       "stream": "stdout",
       "text": [
        " 93.3333333333 support v 1835\n",
        "accuracy"
       ]
      },
      {
       "output_type": "stream",
       "stream": "stdout",
       "text": [
        " 94.6666666667 support v 1892\n",
        "accuracy"
       ]
      },
      {
       "output_type": "stream",
       "stream": "stdout",
       "text": [
        " 95.6666666667 support v 1917\n",
        "_____________________predicting kahuna 9,000 on model with acc 95.6666666667\n",
        "inserting with acc 95.6666666667 in column 12\n",
        "-------------------- (24889, 12) (24889,)\n",
        "(9700,) (300,)\n",
        "accuracy"
       ]
      },
      {
       "output_type": "stream",
       "stream": "stdout",
       "text": [
        " 95.3333333333 support v 1901\n",
        "accuracy"
       ]
      },
      {
       "output_type": "stream",
       "stream": "stdout",
       "text": [
        " 94.6666666667 support v 1977\n",
        "accuracy"
       ]
      },
      {
       "output_type": "stream",
       "stream": "stdout",
       "text": [
        " 94.6666666667 support v 1908\n",
        "accuracy"
       ]
      },
      {
       "output_type": "stream",
       "stream": "stdout",
       "text": [
        " 93.3333333333 support v 1863\n",
        "accuracy"
       ]
      },
      {
       "output_type": "stream",
       "stream": "stdout",
       "text": [
        " 94.3333333333 support v 1867\n",
        "accuracy"
       ]
      },
      {
       "output_type": "stream",
       "stream": "stdout",
       "text": [
        " 94.6666666667 support v 1813\n",
        "accuracy"
       ]
      },
      {
       "output_type": "stream",
       "stream": "stdout",
       "text": [
        " 94.3333333333 support v 1887\n",
        "accuracy"
       ]
      },
      {
       "output_type": "stream",
       "stream": "stdout",
       "text": [
        " 93.6666666667 support v 1865\n",
        "accuracy"
       ]
      },
      {
       "output_type": "stream",
       "stream": "stdout",
       "text": [
        " 95.0 support v 1926\n",
        "accuracy"
       ]
      },
      {
       "output_type": "stream",
       "stream": "stdout",
       "text": [
        " 94.3333333333 support v 1939\n",
        "_____________________predicting kahuna 9,000 on model with acc 95.3333333333\n",
        "inserting with acc 95.3333333333 in column 13\n",
        "-------------------- (26790, 12) (26790,)\n",
        "(9700,) (300,)\n",
        "accuracy"
       ]
      },
      {
       "output_type": "stream",
       "stream": "stdout",
       "text": [
        " 95.3333333333 support v 2049\n",
        "accuracy"
       ]
      },
      {
       "output_type": "stream",
       "stream": "stdout",
       "text": [
        " 96.0 support v 1932\n",
        "accuracy"
       ]
      },
      {
       "output_type": "stream",
       "stream": "stdout",
       "text": [
        " 95.3333333333 support v 1879\n",
        "accuracy"
       ]
      },
      {
       "output_type": "stream",
       "stream": "stdout",
       "text": [
        " 96.0 support v 1997\n",
        "accuracy"
       ]
      },
      {
       "output_type": "stream",
       "stream": "stdout",
       "text": [
        " 95.3333333333 support v 1850\n",
        "accuracy"
       ]
      },
      {
       "output_type": "stream",
       "stream": "stdout",
       "text": [
        " 95.0 support v 1865\n",
        "accuracy"
       ]
      },
      {
       "output_type": "stream",
       "stream": "stdout",
       "text": [
        " 95.6666666667 support v 1948\n",
        "accuracy"
       ]
      },
      {
       "output_type": "stream",
       "stream": "stdout",
       "text": [
        " 95.6666666667 support v 1980\n",
        "accuracy"
       ]
      },
      {
       "output_type": "stream",
       "stream": "stdout",
       "text": [
        " 96.0 support v 1946\n",
        "accuracy"
       ]
      },
      {
       "output_type": "stream",
       "stream": "stdout",
       "text": [
        " 96.0 support v 1956\n",
        "_____________________predicting kahuna 9,000 on model with acc 96.0\n",
        "inserting with acc 96.0 in column 14\n",
        "-------------------- (28746, 12) (28746,)\n",
        "(9700,) (300,)\n",
        "accuracy"
       ]
      },
      {
       "output_type": "stream",
       "stream": "stdout",
       "text": [
        " 96.0 support v 1947\n",
        "accuracy"
       ]
      },
      {
       "output_type": "stream",
       "stream": "stdout",
       "text": [
        " 95.6666666667 support v 1906\n",
        "accuracy"
       ]
      },
      {
       "output_type": "stream",
       "stream": "stdout",
       "text": [
        " 96.0 support v 1961\n",
        "accuracy"
       ]
      },
      {
       "output_type": "stream",
       "stream": "stdout",
       "text": [
        " 95.6666666667 support v 1966\n",
        "accuracy"
       ]
      },
      {
       "output_type": "stream",
       "stream": "stdout",
       "text": [
        " 96.0 support v 1914\n",
        "accuracy"
       ]
      },
      {
       "output_type": "stream",
       "stream": "stdout",
       "text": [
        " 95.6666666667 support v 1928\n",
        "accuracy"
       ]
      },
      {
       "output_type": "stream",
       "stream": "stdout",
       "text": [
        " 95.3333333333 support v 1829\n",
        "accuracy"
       ]
      },
      {
       "output_type": "stream",
       "stream": "stdout",
       "text": [
        " 95.6666666667 support v 1881\n",
        "accuracy"
       ]
      },
      {
       "output_type": "stream",
       "stream": "stdout",
       "text": [
        " 95.0 support v 1992\n",
        "accuracy"
       ]
      },
      {
       "output_type": "stream",
       "stream": "stdout",
       "text": [
        " 96.0 support v 1892\n",
        "_____________________predicting kahuna 9,000 on model with acc 96.0\n",
        "inserting with acc 96.0 in column 15\n",
        "-------------------- (30638, 12) (30638,)\n",
        "(9700,) (300,)\n",
        "accuracy"
       ]
      },
      {
       "output_type": "stream",
       "stream": "stdout",
       "text": [
        " 95.0 support v 1919\n",
        "accuracy"
       ]
      },
      {
       "output_type": "stream",
       "stream": "stdout",
       "text": [
        " 95.0 support v 1816\n",
        "accuracy"
       ]
      },
      {
       "output_type": "stream",
       "stream": "stdout",
       "text": [
        " 95.3333333333 support v 1994\n",
        "accuracy"
       ]
      },
      {
       "output_type": "stream",
       "stream": "stdout",
       "text": [
        " 95.0 support v 1868\n",
        "accuracy"
       ]
      },
      {
       "output_type": "stream",
       "stream": "stdout",
       "text": [
        " 95.3333333333 support v 1863\n",
        "accuracy"
       ]
      },
      {
       "output_type": "stream",
       "stream": "stdout",
       "text": [
        " 94.6666666667 support v 1946\n",
        "accuracy"
       ]
      },
      {
       "output_type": "stream",
       "stream": "stdout",
       "text": [
        " 95.0 support v 1907\n",
        "accuracy"
       ]
      },
      {
       "output_type": "stream",
       "stream": "stdout",
       "text": [
        " 95.3333333333 support v 1965\n",
        "accuracy"
       ]
      },
      {
       "output_type": "stream",
       "stream": "stdout",
       "text": [
        " 95.0 support v 1849\n",
        "accuracy"
       ]
      },
      {
       "output_type": "stream",
       "stream": "stdout",
       "text": [
        " 94.6666666667 support v 1922\n",
        "_____________________predicting kahuna 9,000 on model with acc 95.3333333333\n",
        "inserting with acc 95.3333333333 in column 16\n",
        "-------------------- (32603, 12) (32603,)\n",
        "(9700,) (300,)\n",
        "accuracy"
       ]
      },
      {
       "output_type": "stream",
       "stream": "stdout",
       "text": [
        " 96.0 support v 1909\n",
        "accuracy"
       ]
      },
      {
       "output_type": "stream",
       "stream": "stdout",
       "text": [
        " 96.3333333333 support v 1830\n",
        "accuracy"
       ]
      },
      {
       "output_type": "stream",
       "stream": "stdout",
       "text": [
        " 96.0 support v 1977\n",
        "accuracy"
       ]
      },
      {
       "output_type": "stream",
       "stream": "stdout",
       "text": [
        " 96.0 support v 1918\n",
        "accuracy"
       ]
      },
      {
       "output_type": "stream",
       "stream": "stdout",
       "text": [
        " 95.6666666667 support v 1930\n",
        "accuracy"
       ]
      },
      {
       "output_type": "stream",
       "stream": "stdout",
       "text": [
        " 96.0 support v 1914\n",
        "accuracy"
       ]
      },
      {
       "output_type": "stream",
       "stream": "stdout",
       "text": [
        " 96.6666666667 support v 1909\n",
        "accuracy"
       ]
      },
      {
       "output_type": "stream",
       "stream": "stdout",
       "text": [
        " 95.6666666667 support v 1895\n",
        "accuracy"
       ]
      },
      {
       "output_type": "stream",
       "stream": "stdout",
       "text": [
        " 95.6666666667 support v 1932\n",
        "accuracy"
       ]
      },
      {
       "output_type": "stream",
       "stream": "stdout",
       "text": [
        " 95.6666666667 support v 1931\n",
        "_____________________predicting kahuna 9,000 on model with acc 96.6666666667\n",
        "inserting with acc 96.6666666667 in column 17\n",
        "-------------------- (34512, 12) (34512,)\n",
        "(9700,) (300,)\n",
        "accuracy"
       ]
      },
      {
       "output_type": "stream",
       "stream": "stdout",
       "text": [
        " 95.0 support v 1986\n",
        "accuracy"
       ]
      },
      {
       "output_type": "stream",
       "stream": "stdout",
       "text": [
        " 95.3333333333 support v 1945\n",
        "accuracy"
       ]
      },
      {
       "output_type": "stream",
       "stream": "stdout",
       "text": [
        " 94.6666666667 support v 2014\n",
        "accuracy"
       ]
      },
      {
       "output_type": "stream",
       "stream": "stdout",
       "text": [
        " 96.3333333333 support v 1995\n",
        "accuracy"
       ]
      },
      {
       "output_type": "stream",
       "stream": "stdout",
       "text": [
        " 95.3333333333 support v 1964\n",
        "accuracy"
       ]
      },
      {
       "output_type": "stream",
       "stream": "stdout",
       "text": [
        " 95.6666666667 support v 1971\n",
        "accuracy"
       ]
      },
      {
       "output_type": "stream",
       "stream": "stdout",
       "text": [
        " 95.3333333333 support v 1950\n",
        "accuracy"
       ]
      },
      {
       "output_type": "stream",
       "stream": "stdout",
       "text": [
        " 95.3333333333 support v 1897\n",
        "accuracy"
       ]
      },
      {
       "output_type": "stream",
       "stream": "stdout",
       "text": [
        " 96.0 support v 1998\n",
        "accuracy"
       ]
      },
      {
       "output_type": "stream",
       "stream": "stdout",
       "text": [
        " 95.3333333333 support v 1917\n",
        "_____________________predicting kahuna 9,000 on model with acc 96.3333333333\n",
        "inserting with acc 96.3333333333 in column 18\n",
        "-------------------- (36507, 12) (36507,)\n",
        "(9700,) (300,)\n",
        "accuracy"
       ]
      },
      {
       "output_type": "stream",
       "stream": "stdout",
       "text": [
        " 96.0 support v 1871\n",
        "accuracy"
       ]
      },
      {
       "output_type": "stream",
       "stream": "stdout",
       "text": [
        " 96.6666666667 support v 1802\n",
        "accuracy"
       ]
      },
      {
       "output_type": "stream",
       "stream": "stdout",
       "text": [
        " 96.0 support v 1805\n",
        "accuracy"
       ]
      },
      {
       "output_type": "stream",
       "stream": "stdout",
       "text": [
        " 96.3333333333 support v 1884\n",
        "accuracy"
       ]
      },
      {
       "output_type": "stream",
       "stream": "stdout",
       "text": [
        " 96.6666666667 support v 1864\n",
        "accuracy"
       ]
      },
      {
       "output_type": "stream",
       "stream": "stdout",
       "text": [
        " 96.6666666667 support v 1928\n",
        "accuracy"
       ]
      },
      {
       "output_type": "stream",
       "stream": "stdout",
       "text": [
        " 96.3333333333 support v 1860\n",
        "accuracy"
       ]
      },
      {
       "output_type": "stream",
       "stream": "stdout",
       "text": [
        " 96.6666666667 support v 1785\n",
        "accuracy"
       ]
      },
      {
       "output_type": "stream",
       "stream": "stdout",
       "text": [
        " 96.3333333333 support v 1920\n",
        "accuracy"
       ]
      },
      {
       "output_type": "stream",
       "stream": "stdout",
       "text": [
        " 96.0 support v 1918\n",
        "_____________________predicting kahuna 9,000 on model with acc 96.6666666667\n",
        "inserting with acc 96.6666666667 in column 19\n",
        "-------------------- (38292, 12) (38292,)\n",
        "(9700,) (300,)\n",
        "accuracy"
       ]
      },
      {
       "output_type": "stream",
       "stream": "stdout",
       "text": [
        " 96.0 support v 1887\n",
        "accuracy"
       ]
      },
      {
       "output_type": "stream",
       "stream": "stdout",
       "text": [
        " 96.3333333333 support v 1866\n",
        "accuracy"
       ]
      },
      {
       "output_type": "stream",
       "stream": "stdout",
       "text": [
        " 96.3333333333 support v 1891\n",
        "accuracy"
       ]
      },
      {
       "output_type": "stream",
       "stream": "stdout",
       "text": [
        " 97.0 support v 1882\n",
        "accuracy"
       ]
      },
      {
       "output_type": "stream",
       "stream": "stdout",
       "text": [
        " 96.6666666667 support v 1832\n",
        "accuracy"
       ]
      },
      {
       "output_type": "stream",
       "stream": "stdout",
       "text": [
        " 97.0 support v 1815\n",
        "accuracy"
       ]
      },
      {
       "output_type": "stream",
       "stream": "stdout",
       "text": [
        " 96.0 support v 1916\n",
        "accuracy"
       ]
      },
      {
       "output_type": "stream",
       "stream": "stdout",
       "text": [
        " 96.3333333333 support v 1888\n",
        "accuracy"
       ]
      },
      {
       "output_type": "stream",
       "stream": "stdout",
       "text": [
        " 96.0 support v 1893\n",
        "accuracy"
       ]
      },
      {
       "output_type": "stream",
       "stream": "stdout",
       "text": [
        " 96.0 support v 1939\n",
        "_____________________predicting kahuna 9,000 on model with acc 97.0\n",
        "inserting with acc 97.0 in column 20\n",
        "-------------------- (40107, 12) (40107,)\n",
        "(9700,) (300,)\n",
        "accuracy"
       ]
      },
      {
       "output_type": "stream",
       "stream": "stdout",
       "text": [
        " 94.6666666667 support v 1974\n",
        "accuracy"
       ]
      },
      {
       "output_type": "stream",
       "stream": "stdout",
       "text": [
        " 94.6666666667 support v 1997\n",
        "accuracy"
       ]
      },
      {
       "output_type": "stream",
       "stream": "stdout",
       "text": [
        " 95.0 support v 1983\n",
        "accuracy"
       ]
      },
      {
       "output_type": "stream",
       "stream": "stdout",
       "text": [
        " 95.0 support v 1947\n",
        "accuracy"
       ]
      },
      {
       "output_type": "stream",
       "stream": "stdout",
       "text": [
        " 95.3333333333 support v 1985\n",
        "accuracy"
       ]
      },
      {
       "output_type": "stream",
       "stream": "stdout",
       "text": [
        " 95.3333333333 support v 1937\n",
        "accuracy"
       ]
      },
      {
       "output_type": "stream",
       "stream": "stdout",
       "text": [
        " 95.3333333333 support v 2017\n",
        "accuracy"
       ]
      },
      {
       "output_type": "stream",
       "stream": "stdout",
       "text": [
        " 95.3333333333 support v 2002\n",
        "accuracy"
       ]
      },
      {
       "output_type": "stream",
       "stream": "stdout",
       "text": [
        " 95.0 support v 2004\n",
        "accuracy"
       ]
      },
      {
       "output_type": "stream",
       "stream": "stdout",
       "text": [
        " 94.6666666667 support v 1894\n",
        "_____________________predicting kahuna 9,000 on model with acc 95.3333333333\n",
        "inserting with acc 95.3333333333 in column 21\n",
        "-------------------- (42109, 12) (42109,)\n",
        "(9700,) (300,)\n",
        "accuracy"
       ]
      },
      {
       "output_type": "stream",
       "stream": "stdout",
       "text": [
        " 96.0 support v 1998\n",
        "accuracy"
       ]
      },
      {
       "output_type": "stream",
       "stream": "stdout",
       "text": [
        " 95.6666666667 support v 1906\n",
        "accuracy"
       ]
      },
      {
       "output_type": "stream",
       "stream": "stdout",
       "text": [
        " 96.3333333333 support v 2019\n",
        "accuracy"
       ]
      },
      {
       "output_type": "stream",
       "stream": "stdout",
       "text": [
        " 95.6666666667 support v 1947\n",
        "accuracy"
       ]
      },
      {
       "output_type": "stream",
       "stream": "stdout",
       "text": [
        " 96.3333333333 support v 1894\n",
        "accuracy"
       ]
      },
      {
       "output_type": "stream",
       "stream": "stdout",
       "text": [
        " 96.3333333333 support v 1989\n",
        "accuracy"
       ]
      },
      {
       "output_type": "stream",
       "stream": "stdout",
       "text": [
        " 96.0 support v 1997\n",
        "accuracy"
       ]
      },
      {
       "output_type": "stream",
       "stream": "stdout",
       "text": [
        " 96.3333333333 support v 1940\n",
        "accuracy"
       ]
      },
      {
       "output_type": "stream",
       "stream": "stdout",
       "text": [
        " 96.0 support v 1946\n",
        "accuracy"
       ]
      },
      {
       "output_type": "stream",
       "stream": "stdout",
       "text": [
        " 96.0 support v 2034\n",
        "_____________________predicting kahuna 9,000 on model with acc 96.3333333333\n",
        "inserting with acc 96.3333333333 in column 22\n",
        "-------------------- (44049, 12) (44049,)\n",
        "(9700,) (300,)\n",
        "accuracy"
       ]
      },
      {
       "output_type": "stream",
       "stream": "stdout",
       "text": [
        " 96.3333333333 support v 1831\n",
        "accuracy"
       ]
      },
      {
       "output_type": "stream",
       "stream": "stdout",
       "text": [
        " 96.6666666667 support v 1839\n",
        "accuracy"
       ]
      },
      {
       "output_type": "stream",
       "stream": "stdout",
       "text": [
        " 97.0 support v 1842\n",
        "accuracy"
       ]
      },
      {
       "output_type": "stream",
       "stream": "stdout",
       "text": [
        " 96.3333333333 support v 1806\n",
        "accuracy"
       ]
      },
      {
       "output_type": "stream",
       "stream": "stdout",
       "text": [
        " 97.0 support v 1703\n",
        "accuracy"
       ]
      },
      {
       "output_type": "stream",
       "stream": "stdout",
       "text": [
        " 96.0 support v 1855\n",
        "accuracy"
       ]
      },
      {
       "output_type": "stream",
       "stream": "stdout",
       "text": [
        " 96.6666666667 support v 1807\n",
        "accuracy"
       ]
      },
      {
       "output_type": "stream",
       "stream": "stdout",
       "text": [
        " 96.6666666667 support v 1815\n",
        "accuracy"
       ]
      },
      {
       "output_type": "stream",
       "stream": "stdout",
       "text": [
        " 97.0 support v 1757\n",
        "accuracy"
       ]
      },
      {
       "output_type": "stream",
       "stream": "stdout",
       "text": [
        " 96.6666666667 support v 1785\n",
        "_____________________predicting kahuna 9,000 on model with acc 97.0\n",
        "inserting with acc 97.0 in column 23\n",
        "-------------------- (45806, 12) (45806,)\n",
        "(9700,) (300,)\n",
        "accuracy"
       ]
      },
      {
       "output_type": "stream",
       "stream": "stdout",
       "text": [
        " 95.3333333333 support v 1940\n",
        "accuracy"
       ]
      },
      {
       "output_type": "stream",
       "stream": "stdout",
       "text": [
        " 95.6666666667 support v 1907\n",
        "accuracy"
       ]
      },
      {
       "output_type": "stream",
       "stream": "stdout",
       "text": [
        " 96.3333333333 support v 1913\n",
        "accuracy"
       ]
      },
      {
       "output_type": "stream",
       "stream": "stdout",
       "text": [
        " 95.0 support v 1918\n",
        "accuracy"
       ]
      },
      {
       "output_type": "stream",
       "stream": "stdout",
       "text": [
        " 95.3333333333 support v 1931\n",
        "accuracy"
       ]
      },
      {
       "output_type": "stream",
       "stream": "stdout",
       "text": [
        " 95.3333333333 support v 1969\n",
        "accuracy"
       ]
      },
      {
       "output_type": "stream",
       "stream": "stdout",
       "text": [
        " 95.0 support v 1843\n",
        "accuracy"
       ]
      },
      {
       "output_type": "stream",
       "stream": "stdout",
       "text": [
        " 94.6666666667 support v 1806\n",
        "accuracy"
       ]
      },
      {
       "output_type": "stream",
       "stream": "stdout",
       "text": [
        " 96.0 support v 1870\n",
        "accuracy"
       ]
      },
      {
       "output_type": "stream",
       "stream": "stdout",
       "text": [
        " 95.3333333333 support v 1886\n",
        "_____________________predicting kahuna 9,000 on model with acc 96.3333333333\n",
        "inserting with acc 96.3333333333 in column 24\n",
        "-------------------- (47719, 12) (47719,)\n",
        "(9700,) (300,)\n",
        "accuracy"
       ]
      },
      {
       "output_type": "stream",
       "stream": "stdout",
       "text": [
        " 95.0 support v 2023\n",
        "accuracy"
       ]
      },
      {
       "output_type": "stream",
       "stream": "stdout",
       "text": [
        " 94.6666666667 support v 1976\n",
        "accuracy"
       ]
      },
      {
       "output_type": "stream",
       "stream": "stdout",
       "text": [
        " 94.6666666667 support v 1978\n",
        "accuracy"
       ]
      },
      {
       "output_type": "stream",
       "stream": "stdout",
       "text": [
        " 94.6666666667 support v 1904\n",
        "accuracy"
       ]
      },
      {
       "output_type": "stream",
       "stream": "stdout",
       "text": [
        " 94.0 support v 1900\n",
        "accuracy"
       ]
      },
      {
       "output_type": "stream",
       "stream": "stdout",
       "text": [
        " 94.3333333333 support v 1905\n",
        "accuracy"
       ]
      },
      {
       "output_type": "stream",
       "stream": "stdout",
       "text": [
        " 94.3333333333 support v 1956\n",
        "accuracy"
       ]
      },
      {
       "output_type": "stream",
       "stream": "stdout",
       "text": [
        " 94.3333333333 support v 1974\n",
        "accuracy"
       ]
      },
      {
       "output_type": "stream",
       "stream": "stdout",
       "text": [
        " 94.6666666667 support v 1960\n",
        "accuracy"
       ]
      },
      {
       "output_type": "stream",
       "stream": "stdout",
       "text": [
        " 95.0 support v 2015\n",
        "_____________________predicting kahuna 9,000 on model with acc 95.0\n",
        "inserting with acc 95.0 in column 25\n",
        "-------------------- (49734, 12) (49734,)\n",
        "(9700,) (300,)\n",
        "accuracy"
       ]
      },
      {
       "output_type": "stream",
       "stream": "stdout",
       "text": [
        " 97.0 support v 2016\n",
        "accuracy"
       ]
      },
      {
       "output_type": "stream",
       "stream": "stdout",
       "text": [
        " 97.0 support v 1964\n",
        "accuracy"
       ]
      },
      {
       "output_type": "stream",
       "stream": "stdout",
       "text": [
        " 96.3333333333 support v 1937\n",
        "accuracy"
       ]
      },
      {
       "output_type": "stream",
       "stream": "stdout",
       "text": [
        " 97.0 support v 1963\n",
        "accuracy"
       ]
      },
      {
       "output_type": "stream",
       "stream": "stdout",
       "text": [
        " 96.6666666667 support v 1944\n",
        "accuracy"
       ]
      },
      {
       "output_type": "stream",
       "stream": "stdout",
       "text": [
        " 97.0 support v 1924\n",
        "accuracy"
       ]
      },
      {
       "output_type": "stream",
       "stream": "stdout",
       "text": [
        " 96.6666666667 support v 1955\n",
        "accuracy"
       ]
      },
      {
       "output_type": "stream",
       "stream": "stdout",
       "text": [
        " 96.6666666667 support v 1853\n",
        "accuracy"
       ]
      },
      {
       "output_type": "stream",
       "stream": "stdout",
       "text": [
        " 96.3333333333 support v 1934\n",
        "accuracy"
       ]
      },
      {
       "output_type": "stream",
       "stream": "stdout",
       "text": [
        " 96.3333333333 support v 1850\n",
        "_____________________predicting kahuna 9,000 on model with acc 97.0\n",
        "inserting with acc 97.0 in column 26\n",
        "-------------------- (51658, 12) (51658,)\n",
        "(9700,) (300,)\n",
        "accuracy"
       ]
      },
      {
       "output_type": "stream",
       "stream": "stdout",
       "text": [
        " 95.6666666667 support v 1987\n",
        "accuracy"
       ]
      },
      {
       "output_type": "stream",
       "stream": "stdout",
       "text": [
        " 95.6666666667 support v 1865\n",
        "accuracy"
       ]
      },
      {
       "output_type": "stream",
       "stream": "stdout",
       "text": [
        " 96.0 support v 1891\n",
        "accuracy"
       ]
      },
      {
       "output_type": "stream",
       "stream": "stdout",
       "text": [
        " 95.3333333333 support v 1861\n",
        "accuracy"
       ]
      },
      {
       "output_type": "stream",
       "stream": "stdout",
       "text": [
        " 95.3333333333 support v 1961\n",
        "accuracy"
       ]
      },
      {
       "output_type": "stream",
       "stream": "stdout",
       "text": [
        " 96.3333333333 support v 1994\n",
        "accuracy"
       ]
      },
      {
       "output_type": "stream",
       "stream": "stdout",
       "text": [
        " 96.3333333333 support v 1880\n",
        "accuracy"
       ]
      },
      {
       "output_type": "stream",
       "stream": "stdout",
       "text": [
        " 95.0 support v 1892\n",
        "accuracy"
       ]
      },
      {
       "output_type": "stream",
       "stream": "stdout",
       "text": [
        " 95.3333333333 support v 1832\n",
        "accuracy"
       ]
      },
      {
       "output_type": "stream",
       "stream": "stdout",
       "text": [
        " 96.6666666667 support v 1927\n",
        "_____________________predicting kahuna 9,000 on model with acc 96.6666666667\n",
        "inserting with acc 96.6666666667 in column 27\n",
        "-------------------- (53585, 12) (53585,)\n",
        "(9700,) (300,)\n",
        "accuracy"
       ]
      },
      {
       "output_type": "stream",
       "stream": "stdout",
       "text": [
        " 96.6666666667 support v 1881\n",
        "accuracy"
       ]
      },
      {
       "output_type": "stream",
       "stream": "stdout",
       "text": [
        " 96.6666666667 support v 1837\n",
        "accuracy"
       ]
      },
      {
       "output_type": "stream",
       "stream": "stdout",
       "text": [
        " 96.6666666667 support v 1824\n",
        "accuracy"
       ]
      },
      {
       "output_type": "stream",
       "stream": "stdout",
       "text": [
        " 97.3333333333 support v 1924\n",
        "accuracy"
       ]
      },
      {
       "output_type": "stream",
       "stream": "stdout",
       "text": [
        " 97.0 support v 1936\n",
        "accuracy"
       ]
      },
      {
       "output_type": "stream",
       "stream": "stdout",
       "text": [
        " 97.0 support v 1926\n",
        "accuracy"
       ]
      },
      {
       "output_type": "stream",
       "stream": "stdout",
       "text": [
        " 97.3333333333 support v 1866\n",
        "accuracy"
       ]
      },
      {
       "output_type": "stream",
       "stream": "stdout",
       "text": [
        " 97.0 support v 1837\n",
        "accuracy"
       ]
      },
      {
       "output_type": "stream",
       "stream": "stdout",
       "text": [
        " 96.6666666667 support v 1879\n",
        "accuracy"
       ]
      },
      {
       "output_type": "stream",
       "stream": "stdout",
       "text": [
        " 96.6666666667 support v 1881\n",
        "_____________________predicting kahuna 9,000 on model with acc 97.3333333333\n",
        "inserting with acc 97.3333333333 in column 28\n",
        "-------------------- (55451, 12) (55451,)\n",
        "(9700,) (300,)\n",
        "accuracy"
       ]
      },
      {
       "output_type": "stream",
       "stream": "stdout",
       "text": [
        " 95.6666666667 support v 1922\n",
        "accuracy"
       ]
      },
      {
       "output_type": "stream",
       "stream": "stdout",
       "text": [
        " 96.0 support v 1961\n",
        "accuracy"
       ]
      },
      {
       "output_type": "stream",
       "stream": "stdout",
       "text": [
        " 97.0 support v 2006\n",
        "accuracy"
       ]
      },
      {
       "output_type": "stream",
       "stream": "stdout",
       "text": [
        " 96.3333333333 support v 1996\n",
        "accuracy"
       ]
      },
      {
       "output_type": "stream",
       "stream": "stdout",
       "text": [
        " 96.0 support v 1895\n",
        "accuracy"
       ]
      },
      {
       "output_type": "stream",
       "stream": "stdout",
       "text": [
        " 96.3333333333 support v 1963\n",
        "accuracy"
       ]
      },
      {
       "output_type": "stream",
       "stream": "stdout",
       "text": [
        " 96.0 support v 1867\n",
        "accuracy"
       ]
      },
      {
       "output_type": "stream",
       "stream": "stdout",
       "text": [
        " 96.0 support v 1933\n",
        "accuracy"
       ]
      },
      {
       "output_type": "stream",
       "stream": "stdout",
       "text": [
        " 96.3333333333 support v 1950\n",
        "accuracy"
       ]
      },
      {
       "output_type": "stream",
       "stream": "stdout",
       "text": [
        " 96.0 support v 2029\n",
        "_____________________predicting kahuna 9,000 on model with acc 97.0\n",
        "inserting with acc 97.0 in column 29\n",
        "-------------------- (57457, 12) (57457,)\n",
        "(9700,) (300,)\n",
        "accuracy"
       ]
      },
      {
       "output_type": "stream",
       "stream": "stdout",
       "text": [
        " 94.6666666667 support v 1959\n",
        "accuracy"
       ]
      },
      {
       "output_type": "stream",
       "stream": "stdout",
       "text": [
        " 95.0 support v 1895\n",
        "accuracy"
       ]
      },
      {
       "output_type": "stream",
       "stream": "stdout",
       "text": [
        " 94.6666666667 support v 1887\n",
        "accuracy"
       ]
      },
      {
       "output_type": "stream",
       "stream": "stdout",
       "text": [
        " 94.6666666667 support v 1864\n",
        "accuracy"
       ]
      },
      {
       "output_type": "stream",
       "stream": "stdout",
       "text": [
        " 94.3333333333 support v 1945\n",
        "accuracy"
       ]
      },
      {
       "output_type": "stream",
       "stream": "stdout",
       "text": [
        " 94.6666666667 support v 1993\n",
        "accuracy"
       ]
      },
      {
       "output_type": "stream",
       "stream": "stdout",
       "text": [
        " 94.6666666667 support v 1960\n",
        "accuracy"
       ]
      },
      {
       "output_type": "stream",
       "stream": "stdout",
       "text": [
        " 94.6666666667 support v 1952\n",
        "accuracy"
       ]
      },
      {
       "output_type": "stream",
       "stream": "stdout",
       "text": [
        " 94.3333333333 support v 1956\n",
        "accuracy"
       ]
      },
      {
       "output_type": "stream",
       "stream": "stdout",
       "text": [
        " 94.6666666667 support v 1971\n",
        "_____________________predicting kahuna 9,000 on model with acc 95.0\n",
        "inserting with acc 95.0 in column 30\n",
        "-------------------- (59352, 12) (59352,)\n",
        "(9700,) (300,)\n",
        "accuracy"
       ]
      },
      {
       "output_type": "stream",
       "stream": "stdout",
       "text": [
        " 96.3333333333 support v 1970\n",
        "accuracy"
       ]
      },
      {
       "output_type": "stream",
       "stream": "stdout",
       "text": [
        " 96.6666666667 support v 1989\n",
        "accuracy"
       ]
      },
      {
       "output_type": "stream",
       "stream": "stdout",
       "text": [
        " 95.6666666667 support v 1906\n",
        "accuracy"
       ]
      },
      {
       "output_type": "stream",
       "stream": "stdout",
       "text": [
        " 96.6666666667 support v 1903\n",
        "accuracy"
       ]
      },
      {
       "output_type": "stream",
       "stream": "stdout",
       "text": [
        " 96.0 support v 1986\n",
        "accuracy"
       ]
      },
      {
       "output_type": "stream",
       "stream": "stdout",
       "text": [
        " 96.0 support v 1888\n",
        "accuracy"
       ]
      },
      {
       "output_type": "stream",
       "stream": "stdout",
       "text": [
        " 96.6666666667 support v 1980\n",
        "accuracy"
       ]
      },
      {
       "output_type": "stream",
       "stream": "stdout",
       "text": [
        " 97.0 support v 1985\n",
        "accuracy"
       ]
      },
      {
       "output_type": "stream",
       "stream": "stdout",
       "text": [
        " 96.3333333333 support v 1964\n",
        "accuracy"
       ]
      },
      {
       "output_type": "stream",
       "stream": "stdout",
       "text": [
        " 97.0 support v 1953\n",
        "_____________________predicting kahuna 9,000 on model with acc 97.0\n",
        "inserting with acc 97.0 in column 31\n",
        "-------------------- (61305, 12) (61305,)\n",
        "(9700,) (300,)\n",
        "accuracy"
       ]
      },
      {
       "output_type": "stream",
       "stream": "stdout",
       "text": [
        " 97.3333333333 support v 1859\n",
        "accuracy"
       ]
      },
      {
       "output_type": "stream",
       "stream": "stdout",
       "text": [
        " 96.6666666667 support v 1819\n",
        "accuracy"
       ]
      },
      {
       "output_type": "stream",
       "stream": "stdout",
       "text": [
        " 96.0 support v 1868\n",
        "accuracy"
       ]
      },
      {
       "output_type": "stream",
       "stream": "stdout",
       "text": [
        " 97.0 support v 1811\n",
        "accuracy"
       ]
      },
      {
       "output_type": "stream",
       "stream": "stdout",
       "text": [
        " 97.3333333333 support v 1839\n",
        "accuracy"
       ]
      },
      {
       "output_type": "stream",
       "stream": "stdout",
       "text": [
        " 97.3333333333 support v 1874\n",
        "accuracy"
       ]
      },
      {
       "output_type": "stream",
       "stream": "stdout",
       "text": [
        " 97.0 support v 1887\n",
        "accuracy"
       ]
      },
      {
       "output_type": "stream",
       "stream": "stdout",
       "text": [
        " 97.3333333333 support v 1855\n",
        "accuracy"
       ]
      },
      {
       "output_type": "stream",
       "stream": "stdout",
       "text": [
        " 96.6666666667 support v 1898\n",
        "accuracy"
       ]
      },
      {
       "output_type": "stream",
       "stream": "stdout",
       "text": [
        " 97.0 support v 1789\n",
        "_____________________predicting kahuna 9,000 on model with acc 97.3333333333\n",
        "inserting with acc 97.3333333333 in column 32\n",
        "-------------------- (63160, 12) (63160,)\n",
        "(9700,) (300,)\n",
        "accuracy"
       ]
      },
      {
       "output_type": "stream",
       "stream": "stdout",
       "text": [
        " 96.6666666667 support v 2070\n",
        "accuracy"
       ]
      },
      {
       "output_type": "stream",
       "stream": "stdout",
       "text": [
        " 95.6666666667 support v 2103\n",
        "accuracy"
       ]
      },
      {
       "output_type": "stream",
       "stream": "stdout",
       "text": [
        " 96.3333333333 support v 2038\n",
        "accuracy"
       ]
      },
      {
       "output_type": "stream",
       "stream": "stdout",
       "text": [
        " 96.3333333333 support v 2051\n",
        "accuracy"
       ]
      },
      {
       "output_type": "stream",
       "stream": "stdout",
       "text": [
        " 96.3333333333 support v 2020\n",
        "accuracy"
       ]
      },
      {
       "output_type": "stream",
       "stream": "stdout",
       "text": [
        " 96.0 support v 2006\n",
        "accuracy"
       ]
      },
      {
       "output_type": "stream",
       "stream": "stdout",
       "text": [
        " 96.0 support v 1889\n",
        "accuracy"
       ]
      },
      {
       "output_type": "stream",
       "stream": "stdout",
       "text": [
        " 96.0 support v 2052\n",
        "accuracy"
       ]
      },
      {
       "output_type": "stream",
       "stream": "stdout",
       "text": [
        " 95.6666666667 support v 2001\n",
        "accuracy"
       ]
      },
      {
       "output_type": "stream",
       "stream": "stdout",
       "text": [
        " 96.0 support v 1966\n",
        "_____________________predicting kahuna 9,000 on model with acc 96.6666666667\n",
        "inserting with acc 96.6666666667 in column 33\n",
        "-------------------- (65230, 12) (65230,)\n",
        "(9700,) (300,)\n",
        "accuracy"
       ]
      },
      {
       "output_type": "stream",
       "stream": "stdout",
       "text": [
        " 94.3333333333 support v 1952\n",
        "accuracy"
       ]
      },
      {
       "output_type": "stream",
       "stream": "stdout",
       "text": [
        " 94.3333333333 support v 1988\n",
        "accuracy"
       ]
      },
      {
       "output_type": "stream",
       "stream": "stdout",
       "text": [
        " 94.3333333333 support v 1994\n",
        "accuracy"
       ]
      },
      {
       "output_type": "stream",
       "stream": "stdout",
       "text": [
        " 94.0 support v 1975\n",
        "accuracy"
       ]
      },
      {
       "output_type": "stream",
       "stream": "stdout",
       "text": [
        " 94.6666666667 support v 1986\n",
        "accuracy"
       ]
      },
      {
       "output_type": "stream",
       "stream": "stdout",
       "text": [
        " 94.3333333333 support v 1941\n",
        "accuracy"
       ]
      },
      {
       "output_type": "stream",
       "stream": "stdout",
       "text": [
        " 94.3333333333 support v 1989\n",
        "accuracy"
       ]
      },
      {
       "output_type": "stream",
       "stream": "stdout",
       "text": [
        " 94.3333333333 support v 2041\n",
        "accuracy"
       ]
      },
      {
       "output_type": "stream",
       "stream": "stdout",
       "text": [
        " 94.0 support v 1953\n",
        "accuracy"
       ]
      },
      {
       "output_type": "stream",
       "stream": "stdout",
       "text": [
        " 94.6666666667 support v 1973\n",
        "_____________________predicting kahuna 9,000 on model with acc 94.6666666667\n",
        "inserting with acc 94.6666666667 in column 34\n",
        "-------------------- (67203, 12) (67203,)\n",
        "(9700,) (300,)\n",
        "accuracy"
       ]
      },
      {
       "output_type": "stream",
       "stream": "stdout",
       "text": [
        " 95.0 support v 1801\n",
        "accuracy"
       ]
      },
      {
       "output_type": "stream",
       "stream": "stdout",
       "text": [
        " 96.6666666667 support v 1888\n",
        "accuracy"
       ]
      },
      {
       "output_type": "stream",
       "stream": "stdout",
       "text": [
        " 96.3333333333 support v 1925\n",
        "accuracy"
       ]
      },
      {
       "output_type": "stream",
       "stream": "stdout",
       "text": [
        " 94.6666666667 support v 1928\n",
        "accuracy"
       ]
      },
      {
       "output_type": "stream",
       "stream": "stdout",
       "text": [
        " 95.6666666667 support v 1845\n",
        "accuracy"
       ]
      },
      {
       "output_type": "stream",
       "stream": "stdout",
       "text": [
        " 95.6666666667 support v 1879\n",
        "accuracy"
       ]
      },
      {
       "output_type": "stream",
       "stream": "stdout",
       "text": [
        " 95.3333333333 support v 1932\n",
        "accuracy"
       ]
      },
      {
       "output_type": "stream",
       "stream": "stdout",
       "text": [
        " 96.3333333333 support v 1849\n",
        "accuracy"
       ]
      },
      {
       "output_type": "stream",
       "stream": "stdout",
       "text": [
        " 95.3333333333 support v 1799\n",
        "accuracy"
       ]
      },
      {
       "output_type": "stream",
       "stream": "stdout",
       "text": [
        " 96.0 support v 1910\n",
        "_____________________predicting kahuna 9,000 on model with acc 96.6666666667\n",
        "inserting with acc 96.6666666667 in column 35\n",
        "-------------------- (69091, 12) (69091,)\n",
        "(9700,) (300,)\n",
        "accuracy"
       ]
      },
      {
       "output_type": "stream",
       "stream": "stdout",
       "text": [
        " 94.6666666667 support v 1872\n",
        "accuracy"
       ]
      },
      {
       "output_type": "stream",
       "stream": "stdout",
       "text": [
        " 95.0 support v 1958\n",
        "accuracy"
       ]
      },
      {
       "output_type": "stream",
       "stream": "stdout",
       "text": [
        " 94.6666666667 support v 1969\n",
        "accuracy"
       ]
      },
      {
       "output_type": "stream",
       "stream": "stdout",
       "text": [
        " 95.0 support v 1855\n",
        "accuracy"
       ]
      },
      {
       "output_type": "stream",
       "stream": "stdout",
       "text": [
        " 95.3333333333 support v 1885\n",
        "accuracy"
       ]
      },
      {
       "output_type": "stream",
       "stream": "stdout",
       "text": [
        " 94.6666666667 support v 1902\n",
        "accuracy"
       ]
      },
      {
       "output_type": "stream",
       "stream": "stdout",
       "text": [
        " 94.6666666667 support v 1899\n",
        "accuracy"
       ]
      },
      {
       "output_type": "stream",
       "stream": "stdout",
       "text": [
        " 94.6666666667 support v 1850\n",
        "accuracy"
       ]
      },
      {
       "output_type": "stream",
       "stream": "stdout",
       "text": [
        " 95.3333333333 support v 1939\n",
        "accuracy"
       ]
      },
      {
       "output_type": "stream",
       "stream": "stdout",
       "text": [
        " 94.6666666667 support v 2000\n",
        "_____________________predicting kahuna 9,000 on model with acc 95.3333333333\n",
        "inserting with acc 95.3333333333 in column 36\n",
        "-------------------- (71030, 12) (71030,)\n",
        "(9700,) (300,)\n",
        "accuracy"
       ]
      },
      {
       "output_type": "stream",
       "stream": "stdout",
       "text": [
        " 95.3333333333 support v 1891\n",
        "accuracy"
       ]
      },
      {
       "output_type": "stream",
       "stream": "stdout",
       "text": [
        " 95.6666666667 support v 1876\n",
        "accuracy"
       ]
      },
      {
       "output_type": "stream",
       "stream": "stdout",
       "text": [
        " 96.0 support v 1895\n",
        "accuracy"
       ]
      },
      {
       "output_type": "stream",
       "stream": "stdout",
       "text": [
        " 95.6666666667 support v 1940\n",
        "accuracy"
       ]
      },
      {
       "output_type": "stream",
       "stream": "stdout",
       "text": [
        " 95.6666666667 support v 1923\n",
        "accuracy"
       ]
      },
      {
       "output_type": "stream",
       "stream": "stdout",
       "text": [
        " 95.6666666667 support v 1871\n",
        "accuracy"
       ]
      },
      {
       "output_type": "stream",
       "stream": "stdout",
       "text": [
        " 95.0 support v 1880\n",
        "accuracy"
       ]
      },
      {
       "output_type": "stream",
       "stream": "stdout",
       "text": [
        " 95.6666666667 support v 1987\n",
        "accuracy"
       ]
      },
      {
       "output_type": "stream",
       "stream": "stdout",
       "text": [
        " 95.6666666667 support v 1963\n",
        "accuracy"
       ]
      },
      {
       "output_type": "stream",
       "stream": "stdout",
       "text": [
        " 95.3333333333 support v 2019\n",
        "_____________________predicting kahuna 9,000 on model with acc 96.0\n",
        "inserting with acc 96.0 in column 37\n",
        "-------------------- (72925, 12) (72925,)\n",
        "(9700,) (300,)\n",
        "accuracy"
       ]
      },
      {
       "output_type": "stream",
       "stream": "stdout",
       "text": [
        " 95.3333333333 support v 1891\n",
        "accuracy"
       ]
      },
      {
       "output_type": "stream",
       "stream": "stdout",
       "text": [
        " 95.6666666667 support v 1952\n",
        "accuracy"
       ]
      },
      {
       "output_type": "stream",
       "stream": "stdout",
       "text": [
        " 96.0 support v 1938\n",
        "accuracy"
       ]
      },
      {
       "output_type": "stream",
       "stream": "stdout",
       "text": [
        " 96.0 support v 1894\n",
        "accuracy"
       ]
      },
      {
       "output_type": "stream",
       "stream": "stdout",
       "text": [
        " 95.6666666667 support v 1937\n",
        "accuracy"
       ]
      },
      {
       "output_type": "stream",
       "stream": "stdout",
       "text": [
        " 95.6666666667 support v 1927\n",
        "accuracy"
       ]
      },
      {
       "output_type": "stream",
       "stream": "stdout",
       "text": [
        " 96.0 support v 1844\n",
        "accuracy"
       ]
      },
      {
       "output_type": "stream",
       "stream": "stdout",
       "text": [
        " 96.3333333333 support v 1958\n",
        "accuracy"
       ]
      },
      {
       "output_type": "stream",
       "stream": "stdout",
       "text": [
        " 95.3333333333 support v 1967\n",
        "accuracy"
       ]
      },
      {
       "output_type": "stream",
       "stream": "stdout",
       "text": [
        " 95.3333333333 support v 1832\n",
        "_____________________predicting kahuna 9,000 on model with acc 96.3333333333\n",
        "inserting with acc 96.3333333333 in column 38\n",
        "-------------------- (74883, 12) (74883,)\n",
        "(9700,) (300,)\n",
        "accuracy"
       ]
      },
      {
       "output_type": "stream",
       "stream": "stdout",
       "text": [
        " 96.3333333333 support v 1967\n",
        "accuracy"
       ]
      },
      {
       "output_type": "stream",
       "stream": "stdout",
       "text": [
        " 97.0 support v 1996\n",
        "accuracy"
       ]
      },
      {
       "output_type": "stream",
       "stream": "stdout",
       "text": [
        " 96.3333333333 support v 1945\n",
        "accuracy"
       ]
      },
      {
       "output_type": "stream",
       "stream": "stdout",
       "text": [
        " 97.0 support v 1902\n",
        "accuracy"
       ]
      },
      {
       "output_type": "stream",
       "stream": "stdout",
       "text": [
        " 97.0 support v 1952\n",
        "accuracy"
       ]
      },
      {
       "output_type": "stream",
       "stream": "stdout",
       "text": [
        " 96.3333333333 support v 1889\n",
        "accuracy"
       ]
      },
      {
       "output_type": "stream",
       "stream": "stdout",
       "text": [
        " 97.0 support v 1959\n",
        "accuracy"
       ]
      },
      {
       "output_type": "stream",
       "stream": "stdout",
       "text": [
        " 96.6666666667 support v 2017\n",
        "accuracy"
       ]
      },
      {
       "output_type": "stream",
       "stream": "stdout",
       "text": [
        " 96.3333333333 support v 1940\n",
        "accuracy"
       ]
      },
      {
       "output_type": "stream",
       "stream": "stdout",
       "text": [
        " 96.3333333333 support v 1907\n",
        "_____________________predicting kahuna 9,000 on model with acc 97.0\n",
        "inserting with acc 97.0 in column 39\n",
        "-------------------- (76842, 12) (76842,)\n",
        "(9700,) (300,)\n",
        "accuracy"
       ]
      },
      {
       "output_type": "stream",
       "stream": "stdout",
       "text": [
        " 96.0 support v 1954\n",
        "accuracy"
       ]
      },
      {
       "output_type": "stream",
       "stream": "stdout",
       "text": [
        " 96.0 support v 1972\n",
        "accuracy"
       ]
      },
      {
       "output_type": "stream",
       "stream": "stdout",
       "text": [
        " 96.0 support v 1908\n",
        "accuracy"
       ]
      },
      {
       "output_type": "stream",
       "stream": "stdout",
       "text": [
        " 96.3333333333 support v 1984\n",
        "accuracy"
       ]
      },
      {
       "output_type": "stream",
       "stream": "stdout",
       "text": [
        " 96.0 support v 1898\n",
        "accuracy"
       ]
      },
      {
       "output_type": "stream",
       "stream": "stdout",
       "text": [
        " 95.3333333333 support v 1885\n",
        "accuracy"
       ]
      },
      {
       "output_type": "stream",
       "stream": "stdout",
       "text": [
        " 96.0 support v 1871\n",
        "accuracy"
       ]
      },
      {
       "output_type": "stream",
       "stream": "stdout",
       "text": [
        " 96.6666666667 support v 1953\n",
        "accuracy"
       ]
      },
      {
       "output_type": "stream",
       "stream": "stdout",
       "text": [
        " 96.0 support v 1825\n",
        "accuracy"
       ]
      },
      {
       "output_type": "stream",
       "stream": "stdout",
       "text": [
        " 96.3333333333 support v 1908\n",
        "_____________________predicting kahuna 9,000 on model with acc 96.6666666667\n",
        "inserting with acc 96.6666666667 in column 40\n",
        "-------------------- (78795, 12) (78795,)\n",
        "(9700,) (300,)\n",
        "accuracy"
       ]
      },
      {
       "output_type": "stream",
       "stream": "stdout",
       "text": [
        " 95.3333333333 support v 1831\n",
        "accuracy"
       ]
      },
      {
       "output_type": "stream",
       "stream": "stdout",
       "text": [
        " 96.3333333333 support v 1847\n",
        "accuracy"
       ]
      },
      {
       "output_type": "stream",
       "stream": "stdout",
       "text": [
        " 96.0 support v 1799\n",
        "accuracy"
       ]
      },
      {
       "output_type": "stream",
       "stream": "stdout",
       "text": [
        " 95.6666666667 support v 1827\n",
        "accuracy"
       ]
      },
      {
       "output_type": "stream",
       "stream": "stdout",
       "text": [
        " 96.0 support v 1874\n",
        "accuracy"
       ]
      },
      {
       "output_type": "stream",
       "stream": "stdout",
       "text": [
        " 96.0 support v 1810\n",
        "accuracy"
       ]
      },
      {
       "output_type": "stream",
       "stream": "stdout",
       "text": [
        " 96.0 support v 1860\n",
        "accuracy"
       ]
      },
      {
       "output_type": "stream",
       "stream": "stdout",
       "text": [
        " 96.3333333333 support v 1810\n",
        "accuracy"
       ]
      },
      {
       "output_type": "stream",
       "stream": "stdout",
       "text": [
        " 96.0 support v 1873\n",
        "accuracy"
       ]
      },
      {
       "output_type": "stream",
       "stream": "stdout",
       "text": [
        " 96.3333333333 support v 1862\n",
        "_____________________predicting kahuna 9,000 on model with acc 96.3333333333\n",
        "inserting with acc 96.3333333333 in column 41\n",
        "-------------------- (80657, 12) (80657,)\n",
        "(9700,) (300,)\n",
        "accuracy"
       ]
      },
      {
       "output_type": "stream",
       "stream": "stdout",
       "text": [
        " 95.3333333333 support v 2005\n",
        "accuracy"
       ]
      },
      {
       "output_type": "stream",
       "stream": "stdout",
       "text": [
        " 94.6666666667 support v 1999\n",
        "accuracy"
       ]
      },
      {
       "output_type": "stream",
       "stream": "stdout",
       "text": [
        " 95.0 support v 1944\n",
        "accuracy"
       ]
      },
      {
       "output_type": "stream",
       "stream": "stdout",
       "text": [
        " 95.3333333333 support v 1959\n",
        "accuracy"
       ]
      },
      {
       "output_type": "stream",
       "stream": "stdout",
       "text": [
        " 95.3333333333 support v 1986\n",
        "accuracy"
       ]
      },
      {
       "output_type": "stream",
       "stream": "stdout",
       "text": [
        " 95.3333333333 support v 1990\n",
        "accuracy"
       ]
      },
      {
       "output_type": "stream",
       "stream": "stdout",
       "text": [
        " 95.6666666667 support v 1986\n",
        "accuracy"
       ]
      },
      {
       "output_type": "stream",
       "stream": "stdout",
       "text": [
        " 95.3333333333 support v 1919\n",
        "accuracy"
       ]
      },
      {
       "output_type": "stream",
       "stream": "stdout",
       "text": [
        " 94.3333333333 support v 1915\n",
        "accuracy"
       ]
      },
      {
       "output_type": "stream",
       "stream": "stdout",
       "text": [
        " 95.0 support v 1835\n",
        "_____________________predicting kahuna 9,000 on model with acc 95.6666666667\n",
        "inserting with acc 95.6666666667 in column 42\n",
        "-------------------- (82643, 12) (82643,)\n",
        "(9700,) (300,)\n",
        "accuracy"
       ]
      },
      {
       "output_type": "stream",
       "stream": "stdout",
       "text": [
        " 97.3333333333 support v 2024\n",
        "accuracy"
       ]
      },
      {
       "output_type": "stream",
       "stream": "stdout",
       "text": [
        " 97.6666666667 support v 1997\n",
        "accuracy"
       ]
      },
      {
       "output_type": "stream",
       "stream": "stdout",
       "text": [
        " 97.0 support v 1887\n",
        "accuracy"
       ]
      },
      {
       "output_type": "stream",
       "stream": "stdout",
       "text": [
        " 97.6666666667 support v 1967\n",
        "accuracy"
       ]
      },
      {
       "output_type": "stream",
       "stream": "stdout",
       "text": [
        " 97.3333333333 support v 1996\n",
        "accuracy"
       ]
      },
      {
       "output_type": "stream",
       "stream": "stdout",
       "text": [
        " 97.0 support v 1967\n",
        "accuracy"
       ]
      },
      {
       "output_type": "stream",
       "stream": "stdout",
       "text": [
        " 97.6666666667 support v 1993\n",
        "accuracy"
       ]
      },
      {
       "output_type": "stream",
       "stream": "stdout",
       "text": [
        " 97.0 support v 2010\n",
        "accuracy"
       ]
      },
      {
       "output_type": "stream",
       "stream": "stdout",
       "text": [
        " 97.0 support v 1938\n",
        "accuracy"
       ]
      },
      {
       "output_type": "stream",
       "stream": "stdout",
       "text": [
        " 97.0 support v 2037\n",
        "_____________________predicting kahuna 9,000 on model with acc 97.6666666667\n",
        "inserting with acc 97.6666666667 in column 43\n",
        "-------------------- (84636, 12) (84636,)\n",
        "(9700,) (300,)\n",
        "accuracy"
       ]
      },
      {
       "output_type": "stream",
       "stream": "stdout",
       "text": [
        " 96.0 support v 1740\n",
        "accuracy"
       ]
      },
      {
       "output_type": "stream",
       "stream": "stdout",
       "text": [
        " 96.3333333333 support v 1771\n",
        "accuracy"
       ]
      },
      {
       "output_type": "stream",
       "stream": "stdout",
       "text": [
        " 96.3333333333 support v 1764\n",
        "accuracy"
       ]
      },
      {
       "output_type": "stream",
       "stream": "stdout",
       "text": [
        " 96.3333333333 support v 1854\n",
        "accuracy"
       ]
      },
      {
       "output_type": "stream",
       "stream": "stdout",
       "text": [
        " 96.3333333333 support v 1793\n",
        "accuracy"
       ]
      },
      {
       "output_type": "stream",
       "stream": "stdout",
       "text": [
        " 96.3333333333 support v 1746\n",
        "accuracy"
       ]
      },
      {
       "output_type": "stream",
       "stream": "stdout",
       "text": [
        " 95.3333333333 support v 1771\n",
        "accuracy"
       ]
      },
      {
       "output_type": "stream",
       "stream": "stdout",
       "text": [
        " 96.0 support v 1830\n",
        "accuracy"
       ]
      },
      {
       "output_type": "stream",
       "stream": "stdout",
       "text": [
        " 95.6666666667 support v 1779\n",
        "accuracy"
       ]
      },
      {
       "output_type": "stream",
       "stream": "stdout",
       "text": [
        " 95.6666666667 support v 1716\n",
        "_____________________predicting kahuna 9,000 on model with acc 96.3333333333\n",
        "inserting with acc 96.3333333333 in column 44\n",
        "-------------------- (86382, 12) (86382,)\n",
        "(9700,) (300,)\n",
        "accuracy"
       ]
      },
      {
       "output_type": "stream",
       "stream": "stdout",
       "text": [
        " 96.6666666667 support v 1945\n",
        "accuracy"
       ]
      },
      {
       "output_type": "stream",
       "stream": "stdout",
       "text": [
        " 96.0 support v 1898\n",
        "accuracy"
       ]
      },
      {
       "output_type": "stream",
       "stream": "stdout",
       "text": [
        " 96.6666666667 support v 1883\n",
        "accuracy"
       ]
      },
      {
       "output_type": "stream",
       "stream": "stdout",
       "text": [
        " 96.0 support v 1979\n",
        "accuracy"
       ]
      },
      {
       "output_type": "stream",
       "stream": "stdout",
       "text": [
        " 96.3333333333 support v 1943\n",
        "accuracy"
       ]
      },
      {
       "output_type": "stream",
       "stream": "stdout",
       "text": [
        " 96.3333333333 support v 1848\n",
        "accuracy"
       ]
      },
      {
       "output_type": "stream",
       "stream": "stdout",
       "text": [
        " 96.0 support v 1918\n",
        "accuracy"
       ]
      },
      {
       "output_type": "stream",
       "stream": "stdout",
       "text": [
        " 96.0 support v 1948\n",
        "accuracy"
       ]
      },
      {
       "output_type": "stream",
       "stream": "stdout",
       "text": [
        " 95.3333333333 support v 1850\n",
        "accuracy"
       ]
      },
      {
       "output_type": "stream",
       "stream": "stdout",
       "text": [
        " 95.6666666667 support v 1981\n",
        "_____________________predicting kahuna 9,000 on model with acc 96.6666666667\n",
        "inserting with acc 96.6666666667 in column 45\n",
        "-------------------- (88265, 12) (88265,)\n",
        "(9700,) (300,)\n",
        "accuracy"
       ]
      },
      {
       "output_type": "stream",
       "stream": "stdout",
       "text": [
        " 94.6666666667 support v 1854\n",
        "accuracy"
       ]
      },
      {
       "output_type": "stream",
       "stream": "stdout",
       "text": [
        " 94.6666666667 support v 1906\n",
        "accuracy"
       ]
      },
      {
       "output_type": "stream",
       "stream": "stdout",
       "text": [
        " 94.6666666667 support v 1789\n",
        "accuracy"
       ]
      },
      {
       "output_type": "stream",
       "stream": "stdout",
       "text": [
        " 95.0 support v 1867\n",
        "accuracy"
       ]
      },
      {
       "output_type": "stream",
       "stream": "stdout",
       "text": [
        " 94.3333333333 support v 1932\n",
        "accuracy"
       ]
      },
      {
       "output_type": "stream",
       "stream": "stdout",
       "text": [
        " 95.0 support v 1888\n",
        "accuracy"
       ]
      },
      {
       "output_type": "stream",
       "stream": "stdout",
       "text": [
        " 94.6666666667 support v 1919\n",
        "accuracy"
       ]
      },
      {
       "output_type": "stream",
       "stream": "stdout",
       "text": [
        " 95.0 support v 1875\n",
        "accuracy"
       ]
      },
      {
       "output_type": "stream",
       "stream": "stdout",
       "text": [
        " 94.6666666667 support v 1827\n",
        "accuracy"
       ]
      },
      {
       "output_type": "stream",
       "stream": "stdout",
       "text": [
        " 94.3333333333 support v 1853\n",
        "_____________________predicting kahuna 9,000 on model with acc 95.0\n",
        "inserting with acc 95.0 in column 46\n",
        "-------------------- (90140, 12) (90140,)\n",
        "(9700,) (300,)\n",
        "accuracy"
       ]
      },
      {
       "output_type": "stream",
       "stream": "stdout",
       "text": [
        " 94.3333333333 support v 1832\n",
        "accuracy"
       ]
      },
      {
       "output_type": "stream",
       "stream": "stdout",
       "text": [
        " 96.0 support v 1728\n",
        "accuracy"
       ]
      },
      {
       "output_type": "stream",
       "stream": "stdout",
       "text": [
        " 95.3333333333 support v 1795\n",
        "accuracy"
       ]
      },
      {
       "output_type": "stream",
       "stream": "stdout",
       "text": [
        " 95.3333333333 support v 1747\n",
        "accuracy"
       ]
      },
      {
       "output_type": "stream",
       "stream": "stdout",
       "text": [
        " 95.3333333333 support v 1814\n",
        "accuracy"
       ]
      },
      {
       "output_type": "stream",
       "stream": "stdout",
       "text": [
        " 96.3333333333 support v 1727\n",
        "accuracy"
       ]
      },
      {
       "output_type": "stream",
       "stream": "stdout",
       "text": [
        " 95.6666666667 support v 1732\n",
        "accuracy"
       ]
      },
      {
       "output_type": "stream",
       "stream": "stdout",
       "text": [
        " 96.0 support v 1772\n",
        "accuracy"
       ]
      },
      {
       "output_type": "stream",
       "stream": "stdout",
       "text": [
        " 95.0 support v 1743\n",
        "accuracy"
       ]
      },
      {
       "output_type": "stream",
       "stream": "stdout",
       "text": [
        " 95.6666666667 support v 1749\n",
        "_____________________predicting kahuna 9,000 on model with acc 96.3333333333\n",
        "inserting with acc 96.3333333333 in column 47\n",
        "-------------------- (91867, 12) (91867,)\n",
        "(9700,) (300,)\n",
        "accuracy"
       ]
      },
      {
       "output_type": "stream",
       "stream": "stdout",
       "text": [
        " 95.3333333333 support v 1944\n",
        "accuracy"
       ]
      },
      {
       "output_type": "stream",
       "stream": "stdout",
       "text": [
        " 95.3333333333 support v 1933\n",
        "accuracy"
       ]
      },
      {
       "output_type": "stream",
       "stream": "stdout",
       "text": [
        " 95.0 support v 1893\n",
        "accuracy"
       ]
      },
      {
       "output_type": "stream",
       "stream": "stdout",
       "text": [
        " 95.0 support v 1945\n",
        "accuracy"
       ]
      },
      {
       "output_type": "stream",
       "stream": "stdout",
       "text": [
        " 95.0 support v 1975\n",
        "accuracy"
       ]
      },
      {
       "output_type": "stream",
       "stream": "stdout",
       "text": [
        " 95.6666666667 support v 1955\n",
        "accuracy"
       ]
      },
      {
       "output_type": "stream",
       "stream": "stdout",
       "text": [
        " 96.0 support v 1942\n",
        "accuracy"
       ]
      },
      {
       "output_type": "stream",
       "stream": "stdout",
       "text": [
        " 95.6666666667 support v 1910\n",
        "accuracy"
       ]
      },
      {
       "output_type": "stream",
       "stream": "stdout",
       "text": [
        " 95.0 support v 1966\n",
        "accuracy"
       ]
      },
      {
       "output_type": "stream",
       "stream": "stdout",
       "text": [
        " 95.3333333333 support v 1881\n",
        "_____________________predicting kahuna 9,000 on model with acc 96.0\n",
        "inserting with acc 96.0 in column 48\n",
        "-------------------- (93809, 12) (93809,)\n",
        "(9700,) (300,)\n",
        "accuracy"
       ]
      },
      {
       "output_type": "stream",
       "stream": "stdout",
       "text": [
        " 97.0 support v 1844\n",
        "accuracy"
       ]
      },
      {
       "output_type": "stream",
       "stream": "stdout",
       "text": [
        " 97.3333333333 support v 1792\n",
        "accuracy"
       ]
      },
      {
       "output_type": "stream",
       "stream": "stdout",
       "text": [
        " 97.6666666667 support v 1787\n",
        "accuracy"
       ]
      },
      {
       "output_type": "stream",
       "stream": "stdout",
       "text": [
        " 96.0 support v 1954\n",
        "accuracy"
       ]
      },
      {
       "output_type": "stream",
       "stream": "stdout",
       "text": [
        " 96.6666666667 support v 1857\n",
        "accuracy"
       ]
      },
      {
       "output_type": "stream",
       "stream": "stdout",
       "text": [
        " 96.6666666667 support v 1922\n",
        "accuracy"
       ]
      },
      {
       "output_type": "stream",
       "stream": "stdout",
       "text": [
        " 97.3333333333 support v 1804\n",
        "accuracy"
       ]
      },
      {
       "output_type": "stream",
       "stream": "stdout",
       "text": [
        " 96.6666666667 support v 1821\n",
        "accuracy"
       ]
      },
      {
       "output_type": "stream",
       "stream": "stdout",
       "text": [
        " 97.0 support v 1805\n",
        "accuracy"
       ]
      },
      {
       "output_type": "stream",
       "stream": "stdout",
       "text": [
        " 97.0 support v 1740\n",
        "_____________________predicting kahuna 9,000 on model with acc 97.6666666667\n",
        "inserting with acc 97.6666666667 in column 49\n",
        "-------------------- (95596, 12) (95596,)\n",
        "(9700,) (300,)\n",
        "accuracy"
       ]
      },
      {
       "output_type": "stream",
       "stream": "stdout",
       "text": [
        " 94.6666666667 support v 1902\n",
        "accuracy"
       ]
      },
      {
       "output_type": "stream",
       "stream": "stdout",
       "text": [
        " 94.3333333333 support v 1922\n",
        "accuracy"
       ]
      },
      {
       "output_type": "stream",
       "stream": "stdout",
       "text": [
        " 94.3333333333 support v 1947\n",
        "accuracy"
       ]
      },
      {
       "output_type": "stream",
       "stream": "stdout",
       "text": [
        " 94.0 support v 1877\n",
        "accuracy"
       ]
      },
      {
       "output_type": "stream",
       "stream": "stdout",
       "text": [
        " 93.6666666667 support v 1895\n",
        "accuracy"
       ]
      },
      {
       "output_type": "stream",
       "stream": "stdout",
       "text": [
        " 94.0 support v 1827\n",
        "accuracy"
       ]
      },
      {
       "output_type": "stream",
       "stream": "stdout",
       "text": [
        " 93.3333333333 support v 1963\n",
        "accuracy"
       ]
      },
      {
       "output_type": "stream",
       "stream": "stdout",
       "text": [
        " 95.0 support v 1965\n",
        "accuracy"
       ]
      },
      {
       "output_type": "stream",
       "stream": "stdout",
       "text": [
        " 94.0 support v 1905\n",
        "accuracy"
       ]
      },
      {
       "output_type": "stream",
       "stream": "stdout",
       "text": [
        " 94.0 support v 1976\n",
        "_____________________predicting kahuna 9,000 on model with acc 95.0\n",
        "inserting with acc 95.0 in column 50\n",
        "-------------------- (97561, 12) (97561,)\n",
        "(9700,) (300,)\n",
        "accuracy"
       ]
      },
      {
       "output_type": "stream",
       "stream": "stdout",
       "text": [
        " 94.0 support v 1908\n",
        "accuracy"
       ]
      },
      {
       "output_type": "stream",
       "stream": "stdout",
       "text": [
        " 94.0 support v 1875\n",
        "accuracy"
       ]
      },
      {
       "output_type": "stream",
       "stream": "stdout",
       "text": [
        " 93.3333333333 support v 1802\n",
        "accuracy"
       ]
      },
      {
       "output_type": "stream",
       "stream": "stdout",
       "text": [
        " 93.6666666667 support v 1887\n",
        "accuracy"
       ]
      },
      {
       "output_type": "stream",
       "stream": "stdout",
       "text": [
        " 93.6666666667 support v 1942\n",
        "accuracy"
       ]
      },
      {
       "output_type": "stream",
       "stream": "stdout",
       "text": [
        " 93.6666666667 support v 1874\n",
        "accuracy"
       ]
      },
      {
       "output_type": "stream",
       "stream": "stdout",
       "text": [
        " 93.6666666667 support v 1926\n",
        "accuracy"
       ]
      },
      {
       "output_type": "stream",
       "stream": "stdout",
       "text": [
        " 94.0 support v 1846\n",
        "accuracy"
       ]
      },
      {
       "output_type": "stream",
       "stream": "stdout",
       "text": [
        " 94.0 support v 1840\n",
        "accuracy"
       ]
      },
      {
       "output_type": "stream",
       "stream": "stdout",
       "text": [
        " 93.6666666667 support v 1834\n",
        "_____________________predicting kahuna 9,000 on model with acc 94.0\n",
        "inserting with acc 94.0 in column 51\n",
        "-------------------- (99401, 12) (99401,)\n",
        "(9700,) (300,)\n",
        "accuracy"
       ]
      },
      {
       "output_type": "stream",
       "stream": "stdout",
       "text": [
        " 95.6666666667 support v 1767\n",
        "accuracy"
       ]
      },
      {
       "output_type": "stream",
       "stream": "stdout",
       "text": [
        " 96.3333333333 support v 1829\n",
        "accuracy"
       ]
      },
      {
       "output_type": "stream",
       "stream": "stdout",
       "text": [
        " 95.3333333333 support v 1754\n",
        "accuracy"
       ]
      },
      {
       "output_type": "stream",
       "stream": "stdout",
       "text": [
        " 96.0 support v 1816\n",
        "accuracy"
       ]
      },
      {
       "output_type": "stream",
       "stream": "stdout",
       "text": [
        " 96.0 support v 1774\n",
        "accuracy"
       ]
      },
      {
       "output_type": "stream",
       "stream": "stdout",
       "text": [
        " 96.3333333333 support v 1793\n",
        "accuracy"
       ]
      },
      {
       "output_type": "stream",
       "stream": "stdout",
       "text": [
        " 96.0 support v 1753\n",
        "accuracy"
       ]
      },
      {
       "output_type": "stream",
       "stream": "stdout",
       "text": [
        " 96.3333333333 support v 1810\n",
        "accuracy"
       ]
      },
      {
       "output_type": "stream",
       "stream": "stdout",
       "text": [
        " 95.6666666667 support v 1805\n",
        "accuracy"
       ]
      },
      {
       "output_type": "stream",
       "stream": "stdout",
       "text": [
        " 96.3333333333 support v 1778\n",
        "_____________________predicting kahuna 9,000 on model with acc 96.3333333333\n",
        "inserting with acc 96.3333333333 in column 52\n",
        "-------------------- (101179, 12) (101179,)\n",
        "(9700,) (300,)\n",
        "accuracy"
       ]
      },
      {
       "output_type": "stream",
       "stream": "stdout",
       "text": [
        " 97.0 support v 1922\n",
        "accuracy"
       ]
      },
      {
       "output_type": "stream",
       "stream": "stdout",
       "text": [
        " 97.0 support v 1915\n",
        "accuracy"
       ]
      },
      {
       "output_type": "stream",
       "stream": "stdout",
       "text": [
        " 97.3333333333 support v 1959\n",
        "accuracy"
       ]
      },
      {
       "output_type": "stream",
       "stream": "stdout",
       "text": [
        " 97.3333333333 support v 1934\n",
        "accuracy"
       ]
      },
      {
       "output_type": "stream",
       "stream": "stdout",
       "text": [
        " 97.0 support v 1975\n",
        "accuracy"
       ]
      },
      {
       "output_type": "stream",
       "stream": "stdout",
       "text": [
        " 97.3333333333 support v 1830\n",
        "accuracy"
       ]
      },
      {
       "output_type": "stream",
       "stream": "stdout",
       "text": [
        " 97.0 support v 1780\n",
        "accuracy"
       ]
      },
      {
       "output_type": "stream",
       "stream": "stdout",
       "text": [
        " 96.3333333333 support v 1857\n",
        "accuracy"
       ]
      },
      {
       "output_type": "stream",
       "stream": "stdout",
       "text": [
        " 96.6666666667 support v 1827\n",
        "accuracy"
       ]
      },
      {
       "output_type": "stream",
       "stream": "stdout",
       "text": [
        " 97.0 support v 1956\n",
        "_____________________predicting kahuna 9,000 on model with acc 97.3333333333\n",
        "inserting with acc 97.3333333333 in column 53\n",
        "-------------------- (103009, 12) (103009,)\n",
        "(9700,) (300,)\n",
        "accuracy"
       ]
      },
      {
       "output_type": "stream",
       "stream": "stdout",
       "text": [
        " 95.0 support v 1840\n",
        "accuracy"
       ]
      },
      {
       "output_type": "stream",
       "stream": "stdout",
       "text": [
        " 94.6666666667 support v 2047\n",
        "accuracy"
       ]
      },
      {
       "output_type": "stream",
       "stream": "stdout",
       "text": [
        " 95.0 support v 2023\n",
        "accuracy"
       ]
      },
      {
       "output_type": "stream",
       "stream": "stdout",
       "text": [
        " 94.3333333333 support v 1902\n",
        "accuracy"
       ]
      },
      {
       "output_type": "stream",
       "stream": "stdout",
       "text": [
        " 94.6666666667 support v 1983\n",
        "accuracy"
       ]
      },
      {
       "output_type": "stream",
       "stream": "stdout",
       "text": [
        " 94.0 support v 2026\n",
        "accuracy"
       ]
      },
      {
       "output_type": "stream",
       "stream": "stdout",
       "text": [
        " 94.6666666667 support v 1984\n",
        "accuracy"
       ]
      },
      {
       "output_type": "stream",
       "stream": "stdout",
       "text": [
        " 95.3333333333 support v 1944\n",
        "accuracy"
       ]
      },
      {
       "output_type": "stream",
       "stream": "stdout",
       "text": [
        " 95.0 support v 1847\n",
        "accuracy"
       ]
      },
      {
       "output_type": "stream",
       "stream": "stdout",
       "text": [
        " 94.6666666667 support v 1945\n",
        "_____________________predicting kahuna 9,000 on model with acc 95.3333333333\n",
        "inserting with acc 95.3333333333 in column 54\n",
        "-------------------- (104953, 12) (104953,)\n",
        "(9700,) (300,)\n",
        "accuracy"
       ]
      },
      {
       "output_type": "stream",
       "stream": "stdout",
       "text": [
        " 95.6666666667 support v 1840\n",
        "accuracy"
       ]
      },
      {
       "output_type": "stream",
       "stream": "stdout",
       "text": [
        " 95.3333333333 support v 1810\n",
        "accuracy"
       ]
      },
      {
       "output_type": "stream",
       "stream": "stdout",
       "text": [
        " 95.6666666667 support v 1941\n",
        "accuracy"
       ]
      },
      {
       "output_type": "stream",
       "stream": "stdout",
       "text": [
        " 96.0 support v 1898\n",
        "accuracy"
       ]
      },
      {
       "output_type": "stream",
       "stream": "stdout",
       "text": [
        " 95.6666666667 support v 1807\n",
        "accuracy"
       ]
      },
      {
       "output_type": "stream",
       "stream": "stdout",
       "text": [
        " 95.6666666667 support v 1883\n",
        "accuracy"
       ]
      },
      {
       "output_type": "stream",
       "stream": "stdout",
       "text": [
        " 95.6666666667 support v 1820\n",
        "accuracy"
       ]
      },
      {
       "output_type": "stream",
       "stream": "stdout",
       "text": [
        " 96.0 support v 1889\n",
        "accuracy"
       ]
      },
      {
       "output_type": "stream",
       "stream": "stdout",
       "text": [
        " 96.0 support v 1803\n",
        "accuracy"
       ]
      },
      {
       "output_type": "stream",
       "stream": "stdout",
       "text": [
        " 95.6666666667 support v 1768\n",
        "_____________________predicting kahuna 9,000 on model with acc 96.0\n",
        "inserting with acc 96.0 in column 55\n",
        "-------------------- (106756, 12) (106756,)\n",
        "(9700,) (300,)\n",
        "accuracy"
       ]
      },
      {
       "output_type": "stream",
       "stream": "stdout",
       "text": [
        " 96.6666666667 support v 1852\n",
        "accuracy"
       ]
      },
      {
       "output_type": "stream",
       "stream": "stdout",
       "text": [
        " 96.6666666667 support v 1857\n",
        "accuracy"
       ]
      },
      {
       "output_type": "stream",
       "stream": "stdout",
       "text": [
        " 96.6666666667 support v 1845\n",
        "accuracy"
       ]
      },
      {
       "output_type": "stream",
       "stream": "stdout",
       "text": [
        " 97.0 support v 1836\n",
        "accuracy"
       ]
      },
      {
       "output_type": "stream",
       "stream": "stdout",
       "text": [
        " 97.3333333333 support v 1804\n",
        "accuracy"
       ]
      },
      {
       "output_type": "stream",
       "stream": "stdout",
       "text": [
        " 96.6666666667 support v 1764\n",
        "accuracy"
       ]
      },
      {
       "output_type": "stream",
       "stream": "stdout",
       "text": [
        " 97.0 support v 1836\n",
        "accuracy"
       ]
      },
      {
       "output_type": "stream",
       "stream": "stdout",
       "text": [
        " 96.6666666667 support v 1728\n",
        "accuracy"
       ]
      },
      {
       "output_type": "stream",
       "stream": "stdout",
       "text": [
        " 96.6666666667 support v 1846\n",
        "accuracy"
       ]
      },
      {
       "output_type": "stream",
       "stream": "stdout",
       "text": [
        " 97.0 support v 1766\n",
        "_____________________predicting kahuna 9,000 on model with acc 97.3333333333\n",
        "inserting with acc 97.3333333333 in column 56\n",
        "-------------------- (108560, 12) (108560,)\n",
        "(9700,) (300,)\n",
        "accuracy"
       ]
      },
      {
       "output_type": "stream",
       "stream": "stdout",
       "text": [
        " 96.0 support v 1875\n",
        "accuracy"
       ]
      },
      {
       "output_type": "stream",
       "stream": "stdout",
       "text": [
        " 95.6666666667 support v 1774\n",
        "accuracy"
       ]
      },
      {
       "output_type": "stream",
       "stream": "stdout",
       "text": [
        " 96.0 support v 1878\n",
        "accuracy"
       ]
      },
      {
       "output_type": "stream",
       "stream": "stdout",
       "text": [
        " 95.3333333333 support v 1881\n",
        "accuracy"
       ]
      },
      {
       "output_type": "stream",
       "stream": "stdout",
       "text": [
        " 95.3333333333 support v 1800\n",
        "accuracy"
       ]
      },
      {
       "output_type": "stream",
       "stream": "stdout",
       "text": [
        " 95.6666666667 support v 1823\n",
        "accuracy"
       ]
      },
      {
       "output_type": "stream",
       "stream": "stdout",
       "text": [
        " 96.0 support v 1804\n",
        "accuracy"
       ]
      },
      {
       "output_type": "stream",
       "stream": "stdout",
       "text": [
        " 96.3333333333 support v 1859\n",
        "accuracy"
       ]
      },
      {
       "output_type": "stream",
       "stream": "stdout",
       "text": [
        " 96.0 support v 1851\n",
        "accuracy"
       ]
      },
      {
       "output_type": "stream",
       "stream": "stdout",
       "text": [
        " 95.6666666667 support v 1833\n",
        "_____________________predicting kahuna 9,000 on model with acc 96.3333333333\n",
        "inserting with acc 96.3333333333 in column 57\n",
        "-------------------- (110419, 12) (110419,)\n",
        "(9700,) (300,)\n",
        "accuracy"
       ]
      },
      {
       "output_type": "stream",
       "stream": "stdout",
       "text": [
        " 96.0 support v 1859\n",
        "accuracy"
       ]
      },
      {
       "output_type": "stream",
       "stream": "stdout",
       "text": [
        " 96.0 support v 1819\n",
        "accuracy"
       ]
      },
      {
       "output_type": "stream",
       "stream": "stdout",
       "text": [
        " 96.0 support v 1885\n",
        "accuracy"
       ]
      },
      {
       "output_type": "stream",
       "stream": "stdout",
       "text": [
        " 96.3333333333 support v 1846\n",
        "accuracy"
       ]
      },
      {
       "output_type": "stream",
       "stream": "stdout",
       "text": [
        " 96.6666666667 support v 1840\n",
        "accuracy"
       ]
      },
      {
       "output_type": "stream",
       "stream": "stdout",
       "text": [
        " 95.0 support v 1818\n",
        "accuracy"
       ]
      },
      {
       "output_type": "stream",
       "stream": "stdout",
       "text": [
        " 96.0 support v 1842\n",
        "accuracy"
       ]
      },
      {
       "output_type": "stream",
       "stream": "stdout",
       "text": [
        " 96.0 support v 1894\n",
        "accuracy"
       ]
      },
      {
       "output_type": "stream",
       "stream": "stdout",
       "text": [
        " 94.6666666667 support v 1837\n",
        "accuracy"
       ]
      },
      {
       "output_type": "stream",
       "stream": "stdout",
       "text": [
        " 96.0 support v 1863\n",
        "_____________________predicting kahuna 9,000 on model with acc 96.6666666667\n",
        "inserting with acc 96.6666666667 in column 58\n",
        "-------------------- (112259, 12) (112259,)\n",
        "(9700,) (300,)\n",
        "accuracy"
       ]
      },
      {
       "output_type": "stream",
       "stream": "stdout",
       "text": [
        " 95.0 support v 1996\n",
        "accuracy"
       ]
      },
      {
       "output_type": "stream",
       "stream": "stdout",
       "text": [
        " 94.6666666667 support v 1954\n",
        "accuracy"
       ]
      },
      {
       "output_type": "stream",
       "stream": "stdout",
       "text": [
        " 96.0 support v 1991\n",
        "accuracy"
       ]
      },
      {
       "output_type": "stream",
       "stream": "stdout",
       "text": [
        " 95.0 support v 1916\n",
        "accuracy"
       ]
      },
      {
       "output_type": "stream",
       "stream": "stdout",
       "text": [
        " 95.0 support v 1917\n",
        "accuracy"
       ]
      },
      {
       "output_type": "stream",
       "stream": "stdout",
       "text": [
        " 94.6666666667 support v 1942\n",
        "accuracy"
       ]
      },
      {
       "output_type": "stream",
       "stream": "stdout",
       "text": [
        " 95.3333333333 support v 1942\n",
        "accuracy"
       ]
      },
      {
       "output_type": "stream",
       "stream": "stdout",
       "text": [
        " 94.6666666667 support v 1950\n",
        "accuracy"
       ]
      },
      {
       "output_type": "stream",
       "stream": "stdout",
       "text": [
        " 94.3333333333 support v 1971\n",
        "accuracy"
       ]
      },
      {
       "output_type": "stream",
       "stream": "stdout",
       "text": [
        " 95.0 support v 1889\n",
        "_____________________predicting kahuna 9,000 on model with acc 96.0\n",
        "inserting with acc 96.0 in column 59\n",
        "-------------------- (114250, 12) (114250,)\n",
        "(9700,) (300,)\n",
        "accuracy"
       ]
      },
      {
       "output_type": "stream",
       "stream": "stdout",
       "text": [
        " 95.0 support v 1996\n",
        "accuracy"
       ]
      },
      {
       "output_type": "stream",
       "stream": "stdout",
       "text": [
        " 94.6666666667 support v 2011\n",
        "accuracy"
       ]
      },
      {
       "output_type": "stream",
       "stream": "stdout",
       "text": [
        " 95.3333333333 support v 2021\n",
        "accuracy"
       ]
      },
      {
       "output_type": "stream",
       "stream": "stdout",
       "text": [
        " 95.0 support v 1967\n",
        "accuracy"
       ]
      },
      {
       "output_type": "stream",
       "stream": "stdout",
       "text": [
        " 94.3333333333 support v 1984\n",
        "accuracy"
       ]
      },
      {
       "output_type": "stream",
       "stream": "stdout",
       "text": [
        " 95.3333333333 support v 1866\n",
        "accuracy"
       ]
      },
      {
       "output_type": "stream",
       "stream": "stdout",
       "text": [
        " 94.6666666667 support v 1940\n",
        "accuracy"
       ]
      },
      {
       "output_type": "stream",
       "stream": "stdout",
       "text": [
        " 94.3333333333 support v 1918\n",
        "accuracy"
       ]
      },
      {
       "output_type": "stream",
       "stream": "stdout",
       "text": [
        " 94.6666666667 support v 1924\n",
        "accuracy"
       ]
      },
      {
       "output_type": "stream",
       "stream": "stdout",
       "text": [
        " 95.3333333333 support v 1885\n",
        "_____________________predicting kahuna 9,000 on model with acc 95.3333333333\n",
        "inserting with acc 95.3333333333 in column 60\n",
        "-------------------- (116135, 12) (116135,)\n",
        "(9700,) (300,)\n",
        "accuracy"
       ]
      },
      {
       "output_type": "stream",
       "stream": "stdout",
       "text": [
        " 94.3333333333 support v 2068\n",
        "accuracy"
       ]
      },
      {
       "output_type": "stream",
       "stream": "stdout",
       "text": [
        " 94.3333333333 support v 2038\n",
        "accuracy"
       ]
      },
      {
       "output_type": "stream",
       "stream": "stdout",
       "text": [
        " 94.6666666667 support v 2090\n",
        "accuracy"
       ]
      },
      {
       "output_type": "stream",
       "stream": "stdout",
       "text": [
        " 94.3333333333 support v 1997\n",
        "accuracy"
       ]
      },
      {
       "output_type": "stream",
       "stream": "stdout",
       "text": [
        " 94.3333333333 support v 2038\n",
        "accuracy"
       ]
      },
      {
       "output_type": "stream",
       "stream": "stdout",
       "text": [
        " 95.0 support v 2031\n",
        "accuracy"
       ]
      },
      {
       "output_type": "stream",
       "stream": "stdout",
       "text": [
        " 93.6666666667 support v 2018\n",
        "accuracy"
       ]
      },
      {
       "output_type": "stream",
       "stream": "stdout",
       "text": [
        " 95.0 support v 2002\n",
        "accuracy"
       ]
      },
      {
       "output_type": "stream",
       "stream": "stdout",
       "text": [
        " 95.0 support v 2046\n",
        "accuracy"
       ]
      },
      {
       "output_type": "stream",
       "stream": "stdout",
       "text": [
        " 94.3333333333 support v 2027\n",
        "_____________________predicting kahuna 9,000 on model with acc 95.0\n",
        "inserting with acc 95.0 in column 61\n",
        "-------------------- (118181, 12) (118181,)\n",
        "(9700,) (300,)\n",
        "accuracy"
       ]
      },
      {
       "output_type": "stream",
       "stream": "stdout",
       "text": [
        " 96.3333333333 support v 1986\n",
        "accuracy"
       ]
      },
      {
       "output_type": "stream",
       "stream": "stdout",
       "text": [
        " 96.6666666667 support v 1914\n",
        "accuracy"
       ]
      },
      {
       "output_type": "stream",
       "stream": "stdout",
       "text": [
        " 96.3333333333 support v 1939\n",
        "accuracy"
       ]
      },
      {
       "output_type": "stream",
       "stream": "stdout",
       "text": [
        " 96.3333333333 support v 1988\n",
        "accuracy"
       ]
      },
      {
       "output_type": "stream",
       "stream": "stdout",
       "text": [
        " 96.6666666667 support v 1963\n",
        "accuracy"
       ]
      },
      {
       "output_type": "stream",
       "stream": "stdout",
       "text": [
        " 96.6666666667 support v 1898\n",
        "accuracy"
       ]
      },
      {
       "output_type": "stream",
       "stream": "stdout",
       "text": [
        " 97.0 support v 1942\n",
        "accuracy"
       ]
      },
      {
       "output_type": "stream",
       "stream": "stdout",
       "text": [
        " 96.3333333333 support v 1849\n",
        "accuracy"
       ]
      },
      {
       "output_type": "stream",
       "stream": "stdout",
       "text": [
        " 96.0 support v 2002\n",
        "accuracy"
       ]
      },
      {
       "output_type": "stream",
       "stream": "stdout",
       "text": [
        " 96.3333333333 support v 1895\n",
        "_____________________predicting kahuna 9,000 on model with acc 97.0\n",
        "inserting with acc 97.0 in column 62\n",
        "-------------------- (120123, 12) (120123,)\n",
        "(9700,) (300,)\n",
        "accuracy"
       ]
      },
      {
       "output_type": "stream",
       "stream": "stdout",
       "text": [
        " 94.6666666667 support v 2023\n",
        "accuracy"
       ]
      },
      {
       "output_type": "stream",
       "stream": "stdout",
       "text": [
        " 95.0 support v 1950\n",
        "accuracy"
       ]
      },
      {
       "output_type": "stream",
       "stream": "stdout",
       "text": [
        " 95.0 support v 2028\n",
        "accuracy"
       ]
      },
      {
       "output_type": "stream",
       "stream": "stdout",
       "text": [
        " 95.0 support v 1918\n",
        "accuracy"
       ]
      },
      {
       "output_type": "stream",
       "stream": "stdout",
       "text": [
        " 94.6666666667 support v 2021\n",
        "accuracy"
       ]
      },
      {
       "output_type": "stream",
       "stream": "stdout",
       "text": [
        " 94.6666666667 support v 2002\n",
        "accuracy"
       ]
      },
      {
       "output_type": "stream",
       "stream": "stdout",
       "text": [
        " 94.6666666667 support v 1941\n",
        "accuracy"
       ]
      },
      {
       "output_type": "stream",
       "stream": "stdout",
       "text": [
        " 95.0 support v 1985\n",
        "accuracy"
       ]
      },
      {
       "output_type": "stream",
       "stream": "stdout",
       "text": [
        " 95.3333333333 support v 1902\n",
        "accuracy"
       ]
      },
      {
       "output_type": "stream",
       "stream": "stdout",
       "text": [
        " 94.6666666667 support v 1939\n",
        "_____________________predicting kahuna 9,000 on model with acc 95.3333333333\n",
        "inserting with acc 95.3333333333 in column 63\n",
        "-------------------- (122025, 12) (122025,)\n",
        "(9700,) (300,)\n",
        "accuracy"
       ]
      },
      {
       "output_type": "stream",
       "stream": "stdout",
       "text": [
        " 94.6666666667 support v 1815\n",
        "accuracy"
       ]
      },
      {
       "output_type": "stream",
       "stream": "stdout",
       "text": [
        " 95.6666666667 support v 1810\n",
        "accuracy"
       ]
      },
      {
       "output_type": "stream",
       "stream": "stdout",
       "text": [
        " 95.3333333333 support v 1761\n",
        "accuracy"
       ]
      },
      {
       "output_type": "stream",
       "stream": "stdout",
       "text": [
        " 94.3333333333 support v 1830\n",
        "accuracy"
       ]
      },
      {
       "output_type": "stream",
       "stream": "stdout",
       "text": [
        " 95.3333333333 support v 1793\n",
        "accuracy"
       ]
      },
      {
       "output_type": "stream",
       "stream": "stdout",
       "text": [
        " 95.0 support v 1767\n",
        "accuracy"
       ]
      },
      {
       "output_type": "stream",
       "stream": "stdout",
       "text": [
        " 94.3333333333 support v 1749\n",
        "accuracy"
       ]
      },
      {
       "output_type": "stream",
       "stream": "stdout",
       "text": [
        " 95.3333333333 support v 1773\n",
        "accuracy"
       ]
      },
      {
       "output_type": "stream",
       "stream": "stdout",
       "text": [
        " 95.0 support v 1838\n",
        "accuracy"
       ]
      },
      {
       "output_type": "stream",
       "stream": "stdout",
       "text": [
        " 95.0 support v 1780\n",
        "_____________________predicting kahuna 9,000 on model with acc 95.6666666667\n",
        "inserting with acc 95.6666666667 in column 64\n",
        "-------------------- (123835, 12) (123835,)\n",
        "(9700,) (300,)\n",
        "accuracy"
       ]
      },
      {
       "output_type": "stream",
       "stream": "stdout",
       "text": [
        " 95.3333333333 support v 1944\n",
        "accuracy"
       ]
      },
      {
       "output_type": "stream",
       "stream": "stdout",
       "text": [
        " 95.0 support v 1921\n",
        "accuracy"
       ]
      },
      {
       "output_type": "stream",
       "stream": "stdout",
       "text": [
        " 95.0 support v 1929\n",
        "accuracy"
       ]
      },
      {
       "output_type": "stream",
       "stream": "stdout",
       "text": [
        " 95.0 support v 1981\n",
        "accuracy"
       ]
      },
      {
       "output_type": "stream",
       "stream": "stdout",
       "text": [
        " 95.6666666667 support v 1989\n",
        "accuracy"
       ]
      },
      {
       "output_type": "stream",
       "stream": "stdout",
       "text": [
        " 95.3333333333 support v 1937\n",
        "accuracy"
       ]
      },
      {
       "output_type": "stream",
       "stream": "stdout",
       "text": [
        " 95.6666666667 support v 1865\n",
        "accuracy"
       ]
      },
      {
       "output_type": "stream",
       "stream": "stdout",
       "text": [
        " 94.0 support v 1823\n",
        "accuracy"
       ]
      },
      {
       "output_type": "stream",
       "stream": "stdout",
       "text": [
        " 95.3333333333 support v 1874\n",
        "accuracy"
       ]
      },
      {
       "output_type": "stream",
       "stream": "stdout",
       "text": [
        " 95.0 support v 1870\n",
        "_____________________predicting kahuna 9,000 on model with acc 95.6666666667\n",
        "inserting with acc 95.6666666667 in column 65\n",
        "-------------------- (125700, 12) (125700,)\n",
        "(9700,) (300,)\n",
        "accuracy"
       ]
      },
      {
       "output_type": "stream",
       "stream": "stdout",
       "text": [
        " 96.6666666667 support v 1844\n",
        "accuracy"
       ]
      },
      {
       "output_type": "stream",
       "stream": "stdout",
       "text": [
        " 96.3333333333 support v 1809\n",
        "accuracy"
       ]
      },
      {
       "output_type": "stream",
       "stream": "stdout",
       "text": [
        " 96.3333333333 support v 1755\n",
        "accuracy"
       ]
      },
      {
       "output_type": "stream",
       "stream": "stdout",
       "text": [
        " 97.0 support v 1798\n",
        "accuracy"
       ]
      },
      {
       "output_type": "stream",
       "stream": "stdout",
       "text": [
        " 96.3333333333 support v 1807\n",
        "accuracy"
       ]
      },
      {
       "output_type": "stream",
       "stream": "stdout",
       "text": [
        " 97.0 support v 1875\n",
        "accuracy"
       ]
      },
      {
       "output_type": "stream",
       "stream": "stdout",
       "text": [
        " 96.6666666667 support v 1833\n",
        "accuracy"
       ]
      },
      {
       "output_type": "stream",
       "stream": "stdout",
       "text": [
        " 97.0 support v 1897\n",
        "accuracy"
       ]
      },
      {
       "output_type": "stream",
       "stream": "stdout",
       "text": [
        " 96.3333333333 support v 1768\n",
        "accuracy"
       ]
      },
      {
       "output_type": "stream",
       "stream": "stdout",
       "text": [
        " 96.6666666667 support v 1847\n",
        "_____________________predicting kahuna 9,000 on model with acc 97.0\n",
        "inserting with acc 97.0 in column 66\n",
        "-------------------- (127597, 12) (127597,)\n",
        "(9700,) (300,)\n",
        "accuracy"
       ]
      },
      {
       "output_type": "stream",
       "stream": "stdout",
       "text": [
        " 95.3333333333 support v 1875\n",
        "accuracy"
       ]
      },
      {
       "output_type": "stream",
       "stream": "stdout",
       "text": [
        " 95.6666666667 support v 1765\n",
        "accuracy"
       ]
      },
      {
       "output_type": "stream",
       "stream": "stdout",
       "text": [
        " 95.0 support v 1823\n",
        "accuracy"
       ]
      },
      {
       "output_type": "stream",
       "stream": "stdout",
       "text": [
        " 95.3333333333 support v 1828\n",
        "accuracy"
       ]
      },
      {
       "output_type": "stream",
       "stream": "stdout",
       "text": [
        " 95.6666666667 support v 1903\n",
        "accuracy"
       ]
      },
      {
       "output_type": "stream",
       "stream": "stdout",
       "text": [
        " 96.0 support v 1929\n",
        "accuracy"
       ]
      },
      {
       "output_type": "stream",
       "stream": "stdout",
       "text": [
        " 96.0 support v 1900\n",
        "accuracy"
       ]
      },
      {
       "output_type": "stream",
       "stream": "stdout",
       "text": [
        " 95.6666666667 support v 1891\n",
        "accuracy"
       ]
      },
      {
       "output_type": "stream",
       "stream": "stdout",
       "text": [
        " 95.3333333333 support v 1844\n",
        "accuracy"
       ]
      },
      {
       "output_type": "stream",
       "stream": "stdout",
       "text": [
        " 95.3333333333 support v 1881\n",
        "_____________________predicting kahuna 9,000 on model with acc 96.0\n",
        "inserting with acc 96.0 in column 67\n",
        "-------------------- (129497, 12) (129497,)\n",
        "(9700,) (300,)\n",
        "accuracy"
       ]
      },
      {
       "output_type": "stream",
       "stream": "stdout",
       "text": [
        " 97.3333333333 support v 1856\n",
        "accuracy"
       ]
      },
      {
       "output_type": "stream",
       "stream": "stdout",
       "text": [
        " 97.0 support v 1776\n",
        "accuracy"
       ]
      },
      {
       "output_type": "stream",
       "stream": "stdout",
       "text": [
        " 97.3333333333 support v 1868\n",
        "accuracy"
       ]
      },
      {
       "output_type": "stream",
       "stream": "stdout",
       "text": [
        " 97.0 support v 1827\n",
        "accuracy"
       ]
      },
      {
       "output_type": "stream",
       "stream": "stdout",
       "text": [
        " 96.6666666667 support v 1886\n",
        "accuracy"
       ]
      },
      {
       "output_type": "stream",
       "stream": "stdout",
       "text": [
        " 96.6666666667 support v 1770\n",
        "accuracy"
       ]
      },
      {
       "output_type": "stream",
       "stream": "stdout",
       "text": [
        " 97.0 support v 1779\n",
        "accuracy"
       ]
      },
      {
       "output_type": "stream",
       "stream": "stdout",
       "text": [
        " 96.6666666667 support v 1848\n",
        "accuracy"
       ]
      },
      {
       "output_type": "stream",
       "stream": "stdout",
       "text": [
        " 97.0 support v 1878\n",
        "accuracy"
       ]
      },
      {
       "output_type": "stream",
       "stream": "stdout",
       "text": [
        " 97.3333333333 support v 1856\n",
        "_____________________predicting kahuna 9,000 on model with acc 97.3333333333\n",
        "inserting with acc 97.3333333333 in column 68\n",
        "-------------------- (131353, 12) (131353,)\n",
        "(9700,) (300,)\n",
        "accuracy"
       ]
      },
      {
       "output_type": "stream",
       "stream": "stdout",
       "text": [
        " 95.3333333333 support v 1889\n",
        "accuracy"
       ]
      },
      {
       "output_type": "stream",
       "stream": "stdout",
       "text": [
        " 95.3333333333 support v 1979\n",
        "accuracy"
       ]
      },
      {
       "output_type": "stream",
       "stream": "stdout",
       "text": [
        " 96.0 support v 1826\n",
        "accuracy"
       ]
      },
      {
       "output_type": "stream",
       "stream": "stdout",
       "text": [
        " 96.0 support v 1937\n",
        "accuracy"
       ]
      },
      {
       "output_type": "stream",
       "stream": "stdout",
       "text": [
        " 96.3333333333 support v 1815\n",
        "accuracy"
       ]
      },
      {
       "output_type": "stream",
       "stream": "stdout",
       "text": [
        " 95.3333333333 support v 1882\n",
        "accuracy"
       ]
      },
      {
       "output_type": "stream",
       "stream": "stdout",
       "text": [
        " 96.3333333333 support v 1927\n",
        "accuracy"
       ]
      },
      {
       "output_type": "stream",
       "stream": "stdout",
       "text": [
        " 95.3333333333 support v 1825\n",
        "accuracy"
       ]
      },
      {
       "output_type": "stream",
       "stream": "stdout",
       "text": [
        " 95.6666666667 support v 1862\n",
        "accuracy"
       ]
      },
      {
       "output_type": "stream",
       "stream": "stdout",
       "text": [
        " 95.6666666667 support v 1798\n",
        "_____________________predicting kahuna 9,000 on model with acc 96.3333333333\n",
        "inserting with acc 96.3333333333 in column 69\n",
        "-------------------- (133280, 12) (133280,)\n",
        "(9700,) (300,)\n",
        "accuracy"
       ]
      },
      {
       "output_type": "stream",
       "stream": "stdout",
       "text": [
        " 95.0 support v 1943\n",
        "accuracy"
       ]
      },
      {
       "output_type": "stream",
       "stream": "stdout",
       "text": [
        " 94.6666666667 support v 1943\n",
        "accuracy"
       ]
      },
      {
       "output_type": "stream",
       "stream": "stdout",
       "text": [
        " 94.3333333333 support v 1922\n",
        "accuracy"
       ]
      },
      {
       "output_type": "stream",
       "stream": "stdout",
       "text": [
        " 94.6666666667 support v 1893\n",
        "accuracy"
       ]
      },
      {
       "output_type": "stream",
       "stream": "stdout",
       "text": [
        " 94.6666666667 support v 1975\n",
        "accuracy"
       ]
      },
      {
       "output_type": "stream",
       "stream": "stdout",
       "text": [
        " 95.3333333333 support v 1924\n",
        "accuracy"
       ]
      },
      {
       "output_type": "stream",
       "stream": "stdout",
       "text": [
        " 94.6666666667 support v 2087\n",
        "accuracy"
       ]
      },
      {
       "output_type": "stream",
       "stream": "stdout",
       "text": [
        " 95.0 support v 1911\n",
        "accuracy"
       ]
      },
      {
       "output_type": "stream",
       "stream": "stdout",
       "text": [
        " 95.0 support v 1941\n",
        "accuracy"
       ]
      },
      {
       "output_type": "stream",
       "stream": "stdout",
       "text": [
        " 94.6666666667 support v 1965\n",
        "_____________________predicting kahuna 9,000 on model with acc 95.3333333333\n",
        "inserting with acc 95.3333333333 in column 70\n",
        "-------------------- (135204, 12) (135204,)\n",
        "(9700,) (300,)\n",
        "accuracy"
       ]
      },
      {
       "output_type": "stream",
       "stream": "stdout",
       "text": [
        " 96.0 support v 1917\n",
        "accuracy"
       ]
      },
      {
       "output_type": "stream",
       "stream": "stdout",
       "text": [
        " 94.3333333333 support v 1814\n",
        "accuracy"
       ]
      },
      {
       "output_type": "stream",
       "stream": "stdout",
       "text": [
        " 95.0 support v 1816\n",
        "accuracy"
       ]
      },
      {
       "output_type": "stream",
       "stream": "stdout",
       "text": [
        " 95.6666666667 support v 1822\n",
        "accuracy"
       ]
      },
      {
       "output_type": "stream",
       "stream": "stdout",
       "text": [
        " 95.0 support v 1804\n",
        "accuracy"
       ]
      },
      {
       "output_type": "stream",
       "stream": "stdout",
       "text": [
        " 94.6666666667 support v 1904\n",
        "accuracy"
       ]
      },
      {
       "output_type": "stream",
       "stream": "stdout",
       "text": [
        " 94.3333333333 support v 1771\n",
        "accuracy"
       ]
      },
      {
       "output_type": "stream",
       "stream": "stdout",
       "text": [
        " 95.3333333333 support v 1927\n",
        "accuracy"
       ]
      },
      {
       "output_type": "stream",
       "stream": "stdout",
       "text": [
        " 95.3333333333 support v 1849\n",
        "accuracy"
       ]
      },
      {
       "output_type": "stream",
       "stream": "stdout",
       "text": [
        " 95.6666666667 support v 1824\n",
        "_____________________predicting kahuna 9,000 on model with acc 96.0\n",
        "inserting with acc 96.0 in column 71\n",
        "-------------------- (137121, 12) (137121,)\n",
        "(9700,) (300,)\n",
        "accuracy"
       ]
      },
      {
       "output_type": "stream",
       "stream": "stdout",
       "text": [
        " 96.3333333333 support v 1844\n",
        "accuracy"
       ]
      },
      {
       "output_type": "stream",
       "stream": "stdout",
       "text": [
        " 96.6666666667 support v 1742\n",
        "accuracy"
       ]
      },
      {
       "output_type": "stream",
       "stream": "stdout",
       "text": [
        " 96.6666666667 support v 1740\n",
        "accuracy"
       ]
      },
      {
       "output_type": "stream",
       "stream": "stdout",
       "text": [
        " 96.6666666667 support v 1752\n",
        "accuracy"
       ]
      },
      {
       "output_type": "stream",
       "stream": "stdout",
       "text": [
        " 97.3333333333 support v 1752\n",
        "accuracy"
       ]
      },
      {
       "output_type": "stream",
       "stream": "stdout",
       "text": [
        " 96.6666666667 support v 1791\n",
        "accuracy"
       ]
      },
      {
       "output_type": "stream",
       "stream": "stdout",
       "text": [
        " 96.3333333333 support v 1780\n",
        "accuracy"
       ]
      },
      {
       "output_type": "stream",
       "stream": "stdout",
       "text": [
        " 97.0 support v 1764\n",
        "accuracy"
       ]
      },
      {
       "output_type": "stream",
       "stream": "stdout",
       "text": [
        " 97.3333333333 support v 1757\n",
        "accuracy"
       ]
      },
      {
       "output_type": "stream",
       "stream": "stdout",
       "text": [
        " 96.0 support v 1655\n",
        "_____________________predicting kahuna 9,000 on model with acc 97.3333333333\n",
        "inserting with acc 97.3333333333 in column 72\n",
        "-------------------- (138878, 12) (138878,)\n",
        "(9700,) (300,)\n",
        "accuracy"
       ]
      },
      {
       "output_type": "stream",
       "stream": "stdout",
       "text": [
        " 95.3333333333 support v 1839\n",
        "accuracy"
       ]
      },
      {
       "output_type": "stream",
       "stream": "stdout",
       "text": [
        " 95.3333333333 support v 1923\n",
        "accuracy"
       ]
      },
      {
       "output_type": "stream",
       "stream": "stdout",
       "text": [
        " 96.0 support v 1958\n",
        "accuracy"
       ]
      },
      {
       "output_type": "stream",
       "stream": "stdout",
       "text": [
        " 95.6666666667 support v 1987\n",
        "accuracy"
       ]
      },
      {
       "output_type": "stream",
       "stream": "stdout",
       "text": [
        " 95.3333333333 support v 1913\n",
        "accuracy"
       ]
      },
      {
       "output_type": "stream",
       "stream": "stdout",
       "text": [
        " 95.0 support v 1960\n",
        "accuracy"
       ]
      },
      {
       "output_type": "stream",
       "stream": "stdout",
       "text": [
        " 95.3333333333 support v 1799\n",
        "accuracy"
       ]
      },
      {
       "output_type": "stream",
       "stream": "stdout",
       "text": [
        " 95.6666666667 support v 1897\n",
        "accuracy"
       ]
      },
      {
       "output_type": "stream",
       "stream": "stdout",
       "text": [
        " 95.6666666667 support v 1900\n",
        "accuracy"
       ]
      },
      {
       "output_type": "stream",
       "stream": "stdout",
       "text": [
        " 95.6666666667 support v 1904\n",
        "_____________________predicting kahuna 9,000 on model with acc 96.0\n",
        "inserting with acc 96.0 in column 73\n",
        "-------------------- (140836, 12) (140836,)\n",
        "(9700,) (300,)\n",
        "accuracy"
       ]
      },
      {
       "output_type": "stream",
       "stream": "stdout",
       "text": [
        " 96.6666666667 support v 1839\n",
        "accuracy"
       ]
      },
      {
       "output_type": "stream",
       "stream": "stdout",
       "text": [
        " 97.0 support v 1843\n",
        "accuracy"
       ]
      },
      {
       "output_type": "stream",
       "stream": "stdout",
       "text": [
        " 97.0 support v 1910\n",
        "accuracy"
       ]
      },
      {
       "output_type": "stream",
       "stream": "stdout",
       "text": [
        " 95.3333333333 support v 1825\n",
        "accuracy"
       ]
      },
      {
       "output_type": "stream",
       "stream": "stdout",
       "text": [
        " 95.6666666667 support v 1908\n",
        "accuracy"
       ]
      },
      {
       "output_type": "stream",
       "stream": "stdout",
       "text": [
        " 96.3333333333 support v 1924\n",
        "accuracy"
       ]
      },
      {
       "output_type": "stream",
       "stream": "stdout",
       "text": [
        " 97.0 support v 1914\n",
        "accuracy"
       ]
      },
      {
       "output_type": "stream",
       "stream": "stdout",
       "text": [
        " 96.3333333333 support v 1846\n",
        "accuracy"
       ]
      },
      {
       "output_type": "stream",
       "stream": "stdout",
       "text": [
        " 95.3333333333 support v 1795\n",
        "accuracy"
       ]
      },
      {
       "output_type": "stream",
       "stream": "stdout",
       "text": [
        " 95.6666666667 support v 1812\n",
        "_____________________predicting kahuna 9,000 on model with acc 97.0\n",
        "inserting with acc 97.0 in column 74\n",
        "-------------------- (142750, 12) (142750,)\n",
        "(9700,) (300,)\n",
        "accuracy"
       ]
      },
      {
       "output_type": "stream",
       "stream": "stdout",
       "text": [
        " 95.6666666667 support v 1775\n",
        "accuracy"
       ]
      },
      {
       "output_type": "stream",
       "stream": "stdout",
       "text": [
        " 95.6666666667 support v 1832\n",
        "accuracy"
       ]
      },
      {
       "output_type": "stream",
       "stream": "stdout",
       "text": [
        " 95.0 support v 1806\n",
        "accuracy"
       ]
      },
      {
       "output_type": "stream",
       "stream": "stdout",
       "text": [
        " 95.6666666667 support v 1840\n",
        "accuracy"
       ]
      },
      {
       "output_type": "stream",
       "stream": "stdout",
       "text": [
        " 96.0 support v 1846\n",
        "accuracy"
       ]
      },
      {
       "output_type": "stream",
       "stream": "stdout",
       "text": [
        " 95.6666666667 support v 1798\n",
        "accuracy"
       ]
      },
      {
       "output_type": "stream",
       "stream": "stdout",
       "text": [
        " 95.6666666667 support v 1927\n",
        "accuracy"
       ]
      },
      {
       "output_type": "stream",
       "stream": "stdout",
       "text": [
        " 96.0 support v 1860\n",
        "accuracy"
       ]
      },
      {
       "output_type": "stream",
       "stream": "stdout",
       "text": [
        " 95.6666666667 support v 1882\n",
        "accuracy"
       ]
      },
      {
       "output_type": "stream",
       "stream": "stdout",
       "text": [
        " 95.3333333333 support v 1870\n",
        "_____________________predicting kahuna 9,000 on model with acc 96.0\n",
        "inserting with acc 96.0 in column 75\n",
        "-------------------- (144610, 12) (144610,)\n",
        "(9700,) (300,)\n",
        "accuracy"
       ]
      },
      {
       "output_type": "stream",
       "stream": "stdout",
       "text": [
        " 95.3333333333 support v 1696\n",
        "accuracy"
       ]
      },
      {
       "output_type": "stream",
       "stream": "stdout",
       "text": [
        " 95.6666666667 support v 1890\n",
        "accuracy"
       ]
      },
      {
       "output_type": "stream",
       "stream": "stdout",
       "text": [
        " 95.6666666667 support v 1799\n",
        "accuracy"
       ]
      },
      {
       "output_type": "stream",
       "stream": "stdout",
       "text": [
        " 95.6666666667 support v 1791\n",
        "accuracy"
       ]
      },
      {
       "output_type": "stream",
       "stream": "stdout",
       "text": [
        " 95.0 support v 1785\n",
        "accuracy"
       ]
      },
      {
       "output_type": "stream",
       "stream": "stdout",
       "text": [
        " 95.0 support v 1878\n",
        "accuracy"
       ]
      },
      {
       "output_type": "stream",
       "stream": "stdout",
       "text": [
        " 95.3333333333 support v 1803\n",
        "accuracy"
       ]
      },
      {
       "output_type": "stream",
       "stream": "stdout",
       "text": [
        " 95.6666666667 support v 1732\n",
        "accuracy"
       ]
      },
      {
       "output_type": "stream",
       "stream": "stdout",
       "text": [
        " 95.3333333333 support v 1879\n",
        "accuracy"
       ]
      },
      {
       "output_type": "stream",
       "stream": "stdout",
       "text": [
        " 95.0 support v 1826\n",
        "_____________________predicting kahuna 9,000 on model with acc 95.6666666667\n",
        "inserting with acc 95.6666666667 in column 76\n",
        "-------------------- (146342, 12) (146342,)\n",
        "(9700,) (300,)\n",
        "accuracy"
       ]
      },
      {
       "output_type": "stream",
       "stream": "stdout",
       "text": [
        " 97.0 support v 1958\n",
        "accuracy"
       ]
      },
      {
       "output_type": "stream",
       "stream": "stdout",
       "text": [
        " 96.0 support v 1872\n",
        "accuracy"
       ]
      },
      {
       "output_type": "stream",
       "stream": "stdout",
       "text": [
        " 97.3333333333 support v 1915\n",
        "accuracy"
       ]
      },
      {
       "output_type": "stream",
       "stream": "stdout",
       "text": [
        " 96.6666666667 support v 1821\n",
        "accuracy"
       ]
      },
      {
       "output_type": "stream",
       "stream": "stdout",
       "text": [
        " 97.3333333333 support v 1979\n",
        "accuracy"
       ]
      },
      {
       "output_type": "stream",
       "stream": "stdout",
       "text": [
        " 97.3333333333 support v 1988\n",
        "accuracy"
       ]
      },
      {
       "output_type": "stream",
       "stream": "stdout",
       "text": [
        " 97.3333333333 support v 1907\n",
        "accuracy"
       ]
      },
      {
       "output_type": "stream",
       "stream": "stdout",
       "text": [
        " 97.0 support v 1780\n",
        "accuracy"
       ]
      },
      {
       "output_type": "stream",
       "stream": "stdout",
       "text": [
        " 96.3333333333 support v 1983\n",
        "accuracy"
       ]
      },
      {
       "output_type": "stream",
       "stream": "stdout",
       "text": [
        " 96.6666666667 support v 1824\n",
        "_____________________predicting kahuna 9,000 on model with acc 97.3333333333\n",
        "inserting with acc 97.3333333333 in column 77\n",
        "-------------------- (148249, 12) (148249,)\n",
        "(9700,) (300,)\n",
        "accuracy"
       ]
      },
      {
       "output_type": "stream",
       "stream": "stdout",
       "text": [
        " 95.3333333333 support v 1906\n",
        "accuracy"
       ]
      },
      {
       "output_type": "stream",
       "stream": "stdout",
       "text": [
        " 95.0 support v 1815\n",
        "accuracy"
       ]
      },
      {
       "output_type": "stream",
       "stream": "stdout",
       "text": [
        " 95.6666666667 support v 1801\n",
        "accuracy"
       ]
      },
      {
       "output_type": "stream",
       "stream": "stdout",
       "text": [
        " 95.6666666667 support v 1839\n",
        "accuracy"
       ]
      },
      {
       "output_type": "stream",
       "stream": "stdout",
       "text": [
        " 95.6666666667 support v 1812\n",
        "accuracy"
       ]
      },
      {
       "output_type": "stream",
       "stream": "stdout",
       "text": [
        " 96.3333333333 support v 1851\n",
        "accuracy"
       ]
      },
      {
       "output_type": "stream",
       "stream": "stdout",
       "text": [
        " 96.0 support v 1930\n",
        "accuracy"
       ]
      },
      {
       "output_type": "stream",
       "stream": "stdout",
       "text": [
        " 96.0 support v 1883\n",
        "accuracy"
       ]
      },
      {
       "output_type": "stream",
       "stream": "stdout",
       "text": [
        " 95.3333333333 support v 1826\n",
        "accuracy"
       ]
      },
      {
       "output_type": "stream",
       "stream": "stdout",
       "text": [
        " 95.3333333333 support v 1825\n",
        "_____________________predicting kahuna 9,000 on model with acc 96.3333333333\n",
        "inserting with acc 96.3333333333 in column 78\n",
        "-------------------- (150100, 12) (150100,)\n",
        "(9700,) (300,)\n",
        "accuracy"
       ]
      },
      {
       "output_type": "stream",
       "stream": "stdout",
       "text": [
        " 95.3333333333 support v 1915\n",
        "accuracy"
       ]
      },
      {
       "output_type": "stream",
       "stream": "stdout",
       "text": [
        " 95.0 support v 1913\n",
        "accuracy"
       ]
      },
      {
       "output_type": "stream",
       "stream": "stdout",
       "text": [
        " 95.6666666667 support v 1942\n",
        "accuracy"
       ]
      },
      {
       "output_type": "stream",
       "stream": "stdout",
       "text": [
        " 95.6666666667 support v 2009\n",
        "accuracy"
       ]
      },
      {
       "output_type": "stream",
       "stream": "stdout",
       "text": [
        " 95.0 support v 1947\n",
        "accuracy"
       ]
      },
      {
       "output_type": "stream",
       "stream": "stdout",
       "text": [
        " 95.6666666667 support v 1902\n",
        "accuracy"
       ]
      },
      {
       "output_type": "stream",
       "stream": "stdout",
       "text": [
        " 95.0 support v 1840\n",
        "accuracy"
       ]
      },
      {
       "output_type": "stream",
       "stream": "stdout",
       "text": [
        " 95.0 support v 1944\n",
        "accuracy"
       ]
      },
      {
       "output_type": "stream",
       "stream": "stdout",
       "text": [
        " 95.3333333333 support v 1952\n",
        "accuracy"
       ]
      },
      {
       "output_type": "stream",
       "stream": "stdout",
       "text": [
        " 95.0 support v 1929\n",
        "_____________________predicting kahuna 9,000 on model with acc 95.6666666667\n",
        "inserting with acc 95.6666666667 in column 79\n",
        "-------------------- (152002, 12) (152002,)\n",
        "(9700,) (300,)\n",
        "accuracy"
       ]
      },
      {
       "output_type": "stream",
       "stream": "stdout",
       "text": [
        " 96.0 support v 1824\n",
        "accuracy"
       ]
      },
      {
       "output_type": "stream",
       "stream": "stdout",
       "text": [
        " 96.0 support v 1901\n",
        "accuracy"
       ]
      },
      {
       "output_type": "stream",
       "stream": "stdout",
       "text": [
        " 96.3333333333 support v 1852\n",
        "accuracy"
       ]
      },
      {
       "output_type": "stream",
       "stream": "stdout",
       "text": [
        " 96.0 support v 1802\n",
        "accuracy"
       ]
      },
      {
       "output_type": "stream",
       "stream": "stdout",
       "text": [
        " 96.6666666667 support v 1776\n",
        "accuracy"
       ]
      },
      {
       "output_type": "stream",
       "stream": "stdout",
       "text": [
        " 96.0 support v 1842\n",
        "accuracy"
       ]
      },
      {
       "output_type": "stream",
       "stream": "stdout",
       "text": [
        " 96.0 support v 1782\n",
        "accuracy"
       ]
      },
      {
       "output_type": "stream",
       "stream": "stdout",
       "text": [
        " 96.3333333333 support v 1854\n",
        "accuracy"
       ]
      },
      {
       "output_type": "stream",
       "stream": "stdout",
       "text": [
        " 95.6666666667 support v 1882\n",
        "accuracy"
       ]
      },
      {
       "output_type": "stream",
       "stream": "stdout",
       "text": [
        " 96.6666666667 support v 1855\n",
        "_____________________predicting kahuna 9,000 on model with acc 96.6666666667\n",
        "inserting with acc 96.6666666667 in column 80\n",
        "-------------------- (153857, 12) (153857,)\n",
        "(9700,) (300,)\n",
        "accuracy"
       ]
      },
      {
       "output_type": "stream",
       "stream": "stdout",
       "text": [
        " 92.6666666667 support v 1883\n",
        "accuracy"
       ]
      },
      {
       "output_type": "stream",
       "stream": "stdout",
       "text": [
        " 93.0 support v 1879\n",
        "accuracy"
       ]
      },
      {
       "output_type": "stream",
       "stream": "stdout",
       "text": [
        " 93.0 support v 1987\n",
        "accuracy"
       ]
      },
      {
       "output_type": "stream",
       "stream": "stdout",
       "text": [
        " 93.0 support v 1918\n",
        "accuracy"
       ]
      },
      {
       "output_type": "stream",
       "stream": "stdout",
       "text": [
        " 92.6666666667 support v 1939\n",
        "accuracy"
       ]
      },
      {
       "output_type": "stream",
       "stream": "stdout",
       "text": [
        " 93.0 support v 1957\n",
        "accuracy"
       ]
      },
      {
       "output_type": "stream",
       "stream": "stdout",
       "text": [
        " 93.3333333333 support v 1934\n",
        "accuracy"
       ]
      },
      {
       "output_type": "stream",
       "stream": "stdout",
       "text": [
        " 92.6666666667 support v 1822\n",
        "accuracy"
       ]
      },
      {
       "output_type": "stream",
       "stream": "stdout",
       "text": [
        " 92.6666666667 support v 1847\n",
        "accuracy"
       ]
      },
      {
       "output_type": "stream",
       "stream": "stdout",
       "text": [
        " 92.3333333333 support v 1881\n",
        "_____________________predicting kahuna 9,000 on model with acc 93.3333333333\n",
        "inserting with acc 93.3333333333 in column 81\n",
        "-------------------- (155791, 12) (155791,)\n",
        "(9700,) (300,)\n",
        "accuracy"
       ]
      },
      {
       "output_type": "stream",
       "stream": "stdout",
       "text": [
        " 95.3333333333 support v 1867\n",
        "accuracy"
       ]
      },
      {
       "output_type": "stream",
       "stream": "stdout",
       "text": [
        " 95.6666666667 support v 1859\n",
        "accuracy"
       ]
      },
      {
       "output_type": "stream",
       "stream": "stdout",
       "text": [
        " 95.6666666667 support v 1856\n",
        "accuracy"
       ]
      },
      {
       "output_type": "stream",
       "stream": "stdout",
       "text": [
        " 95.6666666667 support v 1897\n",
        "accuracy"
       ]
      },
      {
       "output_type": "stream",
       "stream": "stdout",
       "text": [
        " 95.6666666667 support v 1943\n",
        "accuracy"
       ]
      },
      {
       "output_type": "stream",
       "stream": "stdout",
       "text": [
        " 95.3333333333 support v 1785\n",
        "accuracy"
       ]
      },
      {
       "output_type": "stream",
       "stream": "stdout",
       "text": [
        " 95.3333333333 support v 1913\n",
        "accuracy"
       ]
      },
      {
       "output_type": "stream",
       "stream": "stdout",
       "text": [
        " 95.3333333333 support v 1906\n",
        "accuracy"
       ]
      },
      {
       "output_type": "stream",
       "stream": "stdout",
       "text": [
        " 95.3333333333 support v 1886\n",
        "accuracy"
       ]
      },
      {
       "output_type": "stream",
       "stream": "stdout",
       "text": [
        " 95.6666666667 support v 1913\n",
        "_____________________predicting kahuna 9,000 on model with acc 95.6666666667\n",
        "inserting with acc 95.6666666667 in column 82\n",
        "-------------------- (157704, 12) (157704,)\n",
        "(9700,) (300,)\n",
        "accuracy"
       ]
      },
      {
       "output_type": "stream",
       "stream": "stdout",
       "text": [
        " 95.6666666667 support v 1926\n",
        "accuracy"
       ]
      },
      {
       "output_type": "stream",
       "stream": "stdout",
       "text": [
        " 95.0 support v 1815\n",
        "accuracy"
       ]
      },
      {
       "output_type": "stream",
       "stream": "stdout",
       "text": [
        " 94.6666666667 support v 1907\n",
        "accuracy"
       ]
      },
      {
       "output_type": "stream",
       "stream": "stdout",
       "text": [
        " 95.6666666667 support v 1920\n",
        "accuracy"
       ]
      },
      {
       "output_type": "stream",
       "stream": "stdout",
       "text": [
        " 95.6666666667 support v 1900\n",
        "accuracy"
       ]
      },
      {
       "output_type": "stream",
       "stream": "stdout",
       "text": [
        " 94.6666666667 support v 1852\n",
        "accuracy"
       ]
      },
      {
       "output_type": "stream",
       "stream": "stdout",
       "text": [
        " 95.6666666667 support v 1923\n",
        "accuracy"
       ]
      },
      {
       "output_type": "stream",
       "stream": "stdout",
       "text": [
        " 94.6666666667 support v 1882\n",
        "accuracy"
       ]
      },
      {
       "output_type": "stream",
       "stream": "stdout",
       "text": [
        " 95.6666666667 support v 1741\n",
        "accuracy"
       ]
      },
      {
       "output_type": "stream",
       "stream": "stdout",
       "text": [
        " 96.0 support v 1922\n",
        "_____________________predicting kahuna 9,000 on model with acc 96.0\n",
        "inserting with acc 96.0 in column 83\n",
        "-------------------- (159626, 12) (159626,)\n",
        "(9700,) (300,)\n",
        "accuracy"
       ]
      },
      {
       "output_type": "stream",
       "stream": "stdout",
       "text": [
        " 95.6666666667 support v 1855\n",
        "accuracy"
       ]
      },
      {
       "output_type": "stream",
       "stream": "stdout",
       "text": [
        " 96.0 support v 1853\n",
        "accuracy"
       ]
      },
      {
       "output_type": "stream",
       "stream": "stdout",
       "text": [
        " 95.3333333333 support v 1866\n",
        "accuracy"
       ]
      },
      {
       "output_type": "stream",
       "stream": "stdout",
       "text": [
        " 95.6666666667 support v 1943\n",
        "accuracy"
       ]
      },
      {
       "output_type": "stream",
       "stream": "stdout",
       "text": [
        " 96.0 support v 1867\n",
        "accuracy"
       ]
      },
      {
       "output_type": "stream",
       "stream": "stdout",
       "text": [
        " 95.3333333333 support v 1858\n",
        "accuracy"
       ]
      },
      {
       "output_type": "stream",
       "stream": "stdout",
       "text": [
        " 95.6666666667 support v 1865\n",
        "accuracy"
       ]
      },
      {
       "output_type": "stream",
       "stream": "stdout",
       "text": [
        " 95.6666666667 support v 1959\n",
        "accuracy"
       ]
      },
      {
       "output_type": "stream",
       "stream": "stdout",
       "text": [
        " 95.3333333333 support v 1973\n",
        "accuracy"
       ]
      },
      {
       "output_type": "stream",
       "stream": "stdout",
       "text": [
        " 95.0 support v 1883\n",
        "_____________________predicting kahuna 9,000 on model with acc 96.0\n",
        "inserting with acc 96.0 in column 84\n",
        "-------------------- (161493, 12) (161493,)\n",
        "(9700,) (300,)\n",
        "accuracy"
       ]
      },
      {
       "output_type": "stream",
       "stream": "stdout",
       "text": [
        " 95.6666666667 support v 1931\n",
        "accuracy"
       ]
      },
      {
       "output_type": "stream",
       "stream": "stdout",
       "text": [
        " 95.3333333333 support v 1940\n",
        "accuracy"
       ]
      },
      {
       "output_type": "stream",
       "stream": "stdout",
       "text": [
        " 95.6666666667 support v 1920\n",
        "accuracy"
       ]
      },
      {
       "output_type": "stream",
       "stream": "stdout",
       "text": [
        " 96.0 support v 1903\n",
        "accuracy"
       ]
      },
      {
       "output_type": "stream",
       "stream": "stdout",
       "text": [
        " 95.3333333333 support v 1895\n",
        "accuracy"
       ]
      },
      {
       "output_type": "stream",
       "stream": "stdout",
       "text": [
        " 95.3333333333 support v 1870\n",
        "accuracy"
       ]
      },
      {
       "output_type": "stream",
       "stream": "stdout",
       "text": [
        " 95.6666666667 support v 1919\n",
        "accuracy"
       ]
      },
      {
       "output_type": "stream",
       "stream": "stdout",
       "text": [
        " 95.6666666667 support v 1812\n",
        "accuracy"
       ]
      },
      {
       "output_type": "stream",
       "stream": "stdout",
       "text": [
        " 96.0 support v 1966\n",
        "accuracy"
       ]
      },
      {
       "output_type": "stream",
       "stream": "stdout",
       "text": [
        " 95.6666666667 support v 2025\n",
        "_____________________predicting kahuna 9,000 on model with acc 96.0\n",
        "inserting with acc 96.0 in column 85\n",
        "-------------------- (163459, 12) (163459,)\n",
        "(9700,) (300,)\n",
        "accuracy"
       ]
      },
      {
       "output_type": "stream",
       "stream": "stdout",
       "text": [
        " 95.3333333333 support v 1824\n",
        "accuracy"
       ]
      },
      {
       "output_type": "stream",
       "stream": "stdout",
       "text": [
        " 95.3333333333 support v 1934\n",
        "accuracy"
       ]
      },
      {
       "output_type": "stream",
       "stream": "stdout",
       "text": [
        " 95.0 support v 1896\n",
        "accuracy"
       ]
      },
      {
       "output_type": "stream",
       "stream": "stdout",
       "text": [
        " 94.6666666667 support v 1931\n",
        "accuracy"
       ]
      },
      {
       "output_type": "stream",
       "stream": "stdout",
       "text": [
        " 95.0 support v 1850\n",
        "accuracy"
       ]
      },
      {
       "output_type": "stream",
       "stream": "stdout",
       "text": [
        " 94.6666666667 support v 1838\n",
        "accuracy"
       ]
      },
      {
       "output_type": "stream",
       "stream": "stdout",
       "text": [
        " 96.0 support v 1864\n",
        "accuracy"
       ]
      },
      {
       "output_type": "stream",
       "stream": "stdout",
       "text": [
        " 95.6666666667 support v 1875\n",
        "accuracy"
       ]
      },
      {
       "output_type": "stream",
       "stream": "stdout",
       "text": [
        " 95.3333333333 support v 1927\n",
        "accuracy"
       ]
      },
      {
       "output_type": "stream",
       "stream": "stdout",
       "text": [
        " 96.6666666667 support v 1814\n",
        "_____________________predicting kahuna 9,000 on model with acc 96.6666666667\n",
        "inserting with acc 96.6666666667 in column 86\n",
        "-------------------- (165273, 12) (165273,)\n",
        "(9700,) (300,)\n",
        "accuracy"
       ]
      },
      {
       "output_type": "stream",
       "stream": "stdout",
       "text": [
        " 96.3333333333 support v 1682\n",
        "accuracy"
       ]
      },
      {
       "output_type": "stream",
       "stream": "stdout",
       "text": [
        " 96.0 support v 1805\n",
        "accuracy"
       ]
      },
      {
       "output_type": "stream",
       "stream": "stdout",
       "text": [
        " 96.0 support v 1812\n",
        "accuracy"
       ]
      },
      {
       "output_type": "stream",
       "stream": "stdout",
       "text": [
        " 96.0 support v 1776\n",
        "accuracy"
       ]
      },
      {
       "output_type": "stream",
       "stream": "stdout",
       "text": [
        " 96.3333333333 support v 1705\n",
        "accuracy"
       ]
      },
      {
       "output_type": "stream",
       "stream": "stdout",
       "text": [
        " 96.0 support v 1798\n",
        "accuracy"
       ]
      },
      {
       "output_type": "stream",
       "stream": "stdout",
       "text": [
        " 95.6666666667 support v 1724\n",
        "accuracy"
       ]
      },
      {
       "output_type": "stream",
       "stream": "stdout",
       "text": [
        " 96.0 support v 1781\n",
        "accuracy"
       ]
      },
      {
       "output_type": "stream",
       "stream": "stdout",
       "text": [
        " 95.6666666667 support v 1800\n",
        "accuracy"
       ]
      },
      {
       "output_type": "stream",
       "stream": "stdout",
       "text": [
        " 95.3333333333 support v 1801\n",
        "_____________________predicting kahuna 9,000 on model with acc 96.3333333333\n",
        "inserting with acc 96.3333333333 in column 87\n",
        "-------------------- (166978, 12) (166978,)\n",
        "(9700,) (300,)\n",
        "accuracy"
       ]
      },
      {
       "output_type": "stream",
       "stream": "stdout",
       "text": [
        " 96.3333333333 support v 1938\n",
        "accuracy"
       ]
      },
      {
       "output_type": "stream",
       "stream": "stdout",
       "text": [
        " 97.0 support v 1877\n",
        "accuracy"
       ]
      },
      {
       "output_type": "stream",
       "stream": "stdout",
       "text": [
        " 97.0 support v 1896\n",
        "accuracy"
       ]
      },
      {
       "output_type": "stream",
       "stream": "stdout",
       "text": [
        " 96.3333333333 support v 1924\n",
        "accuracy"
       ]
      },
      {
       "output_type": "stream",
       "stream": "stdout",
       "text": [
        " 96.6666666667 support v 1903\n",
        "accuracy"
       ]
      },
      {
       "output_type": "stream",
       "stream": "stdout",
       "text": [
        " 96.3333333333 support v 1864\n",
        "accuracy"
       ]
      },
      {
       "output_type": "stream",
       "stream": "stdout",
       "text": [
        " 96.0 support v 1956\n",
        "accuracy"
       ]
      },
      {
       "output_type": "stream",
       "stream": "stdout",
       "text": [
        " 96.6666666667 support v 1964\n",
        "accuracy"
       ]
      },
      {
       "output_type": "stream",
       "stream": "stdout",
       "text": [
        " 96.3333333333 support v 1864\n",
        "accuracy"
       ]
      },
      {
       "output_type": "stream",
       "stream": "stdout",
       "text": [
        " 96.0 support v 1925\n",
        "_____________________predicting kahuna 9,000 on model with acc 97.0\n",
        "inserting with acc 97.0 in column 88\n",
        "-------------------- (168874, 12) (168874,)\n",
        "(9700,) (300,)\n",
        "accuracy"
       ]
      },
      {
       "output_type": "stream",
       "stream": "stdout",
       "text": [
        " 94.6666666667 support v 1913\n",
        "accuracy"
       ]
      },
      {
       "output_type": "stream",
       "stream": "stdout",
       "text": [
        " 96.0 support v 1810\n",
        "accuracy"
       ]
      },
      {
       "output_type": "stream",
       "stream": "stdout",
       "text": [
        " 95.3333333333 support v 1967\n",
        "accuracy"
       ]
      },
      {
       "output_type": "stream",
       "stream": "stdout",
       "text": [
        " 95.0 support v 1969\n",
        "accuracy"
       ]
      },
      {
       "output_type": "stream",
       "stream": "stdout",
       "text": [
        " 95.3333333333 support v 1929\n",
        "accuracy"
       ]
      },
      {
       "output_type": "stream",
       "stream": "stdout",
       "text": [
        " 95.0 support v 1915\n",
        "accuracy"
       ]
      },
      {
       "output_type": "stream",
       "stream": "stdout",
       "text": [
        " 95.6666666667 support v 1904\n",
        "accuracy"
       ]
      },
      {
       "output_type": "stream",
       "stream": "stdout",
       "text": [
        " 95.3333333333 support v 1918\n",
        "accuracy"
       ]
      },
      {
       "output_type": "stream",
       "stream": "stdout",
       "text": [
        " 95.0 support v 1875\n",
        "accuracy"
       ]
      },
      {
       "output_type": "stream",
       "stream": "stdout",
       "text": [
        " 94.6666666667 support v 1883\n",
        "_____________________predicting kahuna 9,000 on model with acc 96.0\n",
        "inserting with acc 96.0 in column 89\n",
        "-------------------- (170684, 12) (170684,)\n",
        "(9700,) (300,)\n",
        "accuracy"
       ]
      },
      {
       "output_type": "stream",
       "stream": "stdout",
       "text": [
        " 95.3333333333 support v 1831\n",
        "accuracy"
       ]
      },
      {
       "output_type": "stream",
       "stream": "stdout",
       "text": [
        " 96.3333333333 support v 1904\n",
        "accuracy"
       ]
      },
      {
       "output_type": "stream",
       "stream": "stdout",
       "text": [
        " 95.3333333333 support v 1787\n",
        "accuracy"
       ]
      },
      {
       "output_type": "stream",
       "stream": "stdout",
       "text": [
        " 96.0 support v 1861\n",
        "accuracy"
       ]
      },
      {
       "output_type": "stream",
       "stream": "stdout",
       "text": [
        " 96.3333333333 support v 1836\n",
        "accuracy"
       ]
      },
      {
       "output_type": "stream",
       "stream": "stdout",
       "text": [
        " 95.0 support v 1816\n",
        "accuracy"
       ]
      },
      {
       "output_type": "stream",
       "stream": "stdout",
       "text": [
        " 95.3333333333 support v 1848\n",
        "accuracy"
       ]
      },
      {
       "output_type": "stream",
       "stream": "stdout",
       "text": [
        " 95.3333333333 support v 1817\n",
        "accuracy"
       ]
      },
      {
       "output_type": "stream",
       "stream": "stdout",
       "text": [
        " 95.6666666667 support v 1836\n",
        "accuracy"
       ]
      },
      {
       "output_type": "stream",
       "stream": "stdout",
       "text": [
        " 96.0 support v 1796\n",
        "_____________________predicting kahuna 9,000 on model with acc 96.3333333333\n",
        "inserting with acc 96.3333333333 in column 90\n",
        "-------------------- (172520, 12) (172520,)\n",
        "(9700,) (300,)\n",
        "accuracy"
       ]
      },
      {
       "output_type": "stream",
       "stream": "stdout",
       "text": [
        " 95.3333333333 support v 1931\n",
        "accuracy"
       ]
      },
      {
       "output_type": "stream",
       "stream": "stdout",
       "text": [
        " 95.6666666667 support v 1794\n",
        "accuracy"
       ]
      },
      {
       "output_type": "stream",
       "stream": "stdout",
       "text": [
        " 95.3333333333 support v 1868\n",
        "accuracy"
       ]
      },
      {
       "output_type": "stream",
       "stream": "stdout",
       "text": [
        " 95.0 support v 1873\n",
        "accuracy"
       ]
      },
      {
       "output_type": "stream",
       "stream": "stdout",
       "text": [
        " 95.6666666667 support v 1948\n",
        "accuracy"
       ]
      },
      {
       "output_type": "stream",
       "stream": "stdout",
       "text": [
        " 93.6666666667 support v 1872\n",
        "accuracy"
       ]
      },
      {
       "output_type": "stream",
       "stream": "stdout",
       "text": [
        " 94.0 support v 1922\n",
        "accuracy"
       ]
      },
      {
       "output_type": "stream",
       "stream": "stdout",
       "text": [
        " 95.0 support v 1804\n",
        "accuracy"
       ]
      },
      {
       "output_type": "stream",
       "stream": "stdout",
       "text": [
        " 95.0 support v 1828\n",
        "accuracy"
       ]
      },
      {
       "output_type": "stream",
       "stream": "stdout",
       "text": [
        " 95.6666666667 support v 1865\n",
        "_____________________predicting kahuna 9,000 on model with acc 95.6666666667\n",
        "inserting with acc 95.6666666667 in column 91\n",
        "-------------------- (174385, 12) (174385,)\n",
        "(9700,) (300,)\n",
        "accuracy"
       ]
      },
      {
       "output_type": "stream",
       "stream": "stdout",
       "text": [
        " 95.3333333333 support v 1849\n",
        "accuracy"
       ]
      },
      {
       "output_type": "stream",
       "stream": "stdout",
       "text": [
        " 95.3333333333 support v 2003\n",
        "accuracy"
       ]
      },
      {
       "output_type": "stream",
       "stream": "stdout",
       "text": [
        " 95.3333333333 support v 1935\n",
        "accuracy"
       ]
      },
      {
       "output_type": "stream",
       "stream": "stdout",
       "text": [
        " 94.0 support v 1901\n",
        "accuracy"
       ]
      },
      {
       "output_type": "stream",
       "stream": "stdout",
       "text": [
        " 95.0 support v 1939\n",
        "accuracy"
       ]
      },
      {
       "output_type": "stream",
       "stream": "stdout",
       "text": [
        " 95.3333333333 support v 1903\n",
        "accuracy"
       ]
      },
      {
       "output_type": "stream",
       "stream": "stdout",
       "text": [
        " 95.3333333333 support v 1903\n",
        "accuracy"
       ]
      },
      {
       "output_type": "stream",
       "stream": "stdout",
       "text": [
        " 95.3333333333 support v 1923\n",
        "accuracy"
       ]
      },
      {
       "output_type": "stream",
       "stream": "stdout",
       "text": [
        " 95.0 support v 1902\n",
        "accuracy"
       ]
      },
      {
       "output_type": "stream",
       "stream": "stdout",
       "text": [
        " 95.0 support v 1898\n",
        "_____________________predicting kahuna 9,000 on model with acc 95.3333333333\n",
        "inserting with acc 95.3333333333 in column 92\n",
        "-------------------- (176308, 12) (176308,)\n",
        "(9700,) (300,)\n",
        "accuracy"
       ]
      },
      {
       "output_type": "stream",
       "stream": "stdout",
       "text": [
        " 95.6666666667 support v 2006\n",
        "accuracy"
       ]
      },
      {
       "output_type": "stream",
       "stream": "stdout",
       "text": [
        " 94.6666666667 support v 2058\n",
        "accuracy"
       ]
      },
      {
       "output_type": "stream",
       "stream": "stdout",
       "text": [
        " 95.3333333333 support v 2088\n",
        "accuracy"
       ]
      },
      {
       "output_type": "stream",
       "stream": "stdout",
       "text": [
        " 95.0 support v 2031\n",
        "accuracy"
       ]
      },
      {
       "output_type": "stream",
       "stream": "stdout",
       "text": [
        " 94.6666666667 support v 2038\n",
        "accuracy"
       ]
      },
      {
       "output_type": "stream",
       "stream": "stdout",
       "text": [
        " 95.3333333333 support v 2041\n",
        "accuracy"
       ]
      },
      {
       "output_type": "stream",
       "stream": "stdout",
       "text": [
        " 95.3333333333 support v 2070\n",
        "accuracy"
       ]
      },
      {
       "output_type": "stream",
       "stream": "stdout",
       "text": [
        " 95.3333333333 support v 2013\n",
        "accuracy"
       ]
      },
      {
       "output_type": "stream",
       "stream": "stdout",
       "text": [
        " 95.3333333333 support v 2030\n",
        "accuracy"
       ]
      },
      {
       "output_type": "stream",
       "stream": "stdout",
       "text": [
        " 95.6666666667 support v 1956\n",
        "_____________________predicting kahuna 9,000 on model with acc 95.6666666667\n",
        "inserting with acc 95.6666666667 in column 93\n",
        "-------------------- (178264, 12) (178264,)\n",
        "(9700,) (300,)\n",
        "accuracy"
       ]
      },
      {
       "output_type": "stream",
       "stream": "stdout",
       "text": [
        " 97.3333333333 support v 1985\n",
        "accuracy"
       ]
      },
      {
       "output_type": "stream",
       "stream": "stdout",
       "text": [
        " 97.0 support v 1932\n",
        "accuracy"
       ]
      },
      {
       "output_type": "stream",
       "stream": "stdout",
       "text": [
        " 96.6666666667 support v 1961\n",
        "accuracy"
       ]
      },
      {
       "output_type": "stream",
       "stream": "stdout",
       "text": [
        " 96.0 support v 1927\n",
        "accuracy"
       ]
      },
      {
       "output_type": "stream",
       "stream": "stdout",
       "text": [
        " 97.0 support v 1980\n",
        "accuracy"
       ]
      },
      {
       "output_type": "stream",
       "stream": "stdout",
       "text": [
        " 96.6666666667 support v 1919\n",
        "accuracy"
       ]
      },
      {
       "output_type": "stream",
       "stream": "stdout",
       "text": [
        " 97.0 support v 1931\n",
        "accuracy"
       ]
      },
      {
       "output_type": "stream",
       "stream": "stdout",
       "text": [
        " 96.3333333333 support v 1894\n",
        "accuracy"
       ]
      },
      {
       "output_type": "stream",
       "stream": "stdout",
       "text": [
        " 97.3333333333 support v 1938\n",
        "accuracy"
       ]
      },
      {
       "output_type": "stream",
       "stream": "stdout",
       "text": [
        " 97.0 support v 1948\n",
        "_____________________predicting kahuna 9,000 on model with acc 97.3333333333\n",
        "inserting with acc 97.3333333333 in column 94\n",
        "-------------------- (180202, 12) (180202,)\n",
        "(9700,) (300,)\n",
        "accuracy"
       ]
      },
      {
       "output_type": "stream",
       "stream": "stdout",
       "text": [
        " 96.6666666667 support v 1782\n",
        "accuracy"
       ]
      },
      {
       "output_type": "stream",
       "stream": "stdout",
       "text": [
        " 96.3333333333 support v 1806\n",
        "accuracy"
       ]
      },
      {
       "output_type": "stream",
       "stream": "stdout",
       "text": [
        " 96.3333333333 support v 1907\n",
        "accuracy"
       ]
      },
      {
       "output_type": "stream",
       "stream": "stdout",
       "text": [
        " 96.3333333333 support v 1843\n",
        "accuracy"
       ]
      },
      {
       "output_type": "stream",
       "stream": "stdout",
       "text": [
        " 96.3333333333 support v 1866\n",
        "accuracy"
       ]
      },
      {
       "output_type": "stream",
       "stream": "stdout",
       "text": [
        " 96.3333333333 support v 1878\n",
        "accuracy"
       ]
      },
      {
       "output_type": "stream",
       "stream": "stdout",
       "text": [
        " 96.0 support v 1833\n",
        "accuracy"
       ]
      },
      {
       "output_type": "stream",
       "stream": "stdout",
       "text": [
        " 96.3333333333 support v 1813\n",
        "accuracy"
       ]
      },
      {
       "output_type": "stream",
       "stream": "stdout",
       "text": [
        " 96.3333333333 support v 1869\n",
        "accuracy"
       ]
      },
      {
       "output_type": "stream",
       "stream": "stdout",
       "text": [
        " 96.0 support v 1769\n",
        "_____________________predicting kahuna 9,000 on model with acc 96.6666666667\n",
        "inserting with acc 96.6666666667 in column 95\n",
        "-------------------- (181984, 12) (181984,)\n",
        "(9700,) (300,)\n",
        "accuracy"
       ]
      },
      {
       "output_type": "stream",
       "stream": "stdout",
       "text": [
        " 96.0 support v 1984\n",
        "accuracy"
       ]
      },
      {
       "output_type": "stream",
       "stream": "stdout",
       "text": [
        " 95.0 support v 1960\n",
        "accuracy"
       ]
      },
      {
       "output_type": "stream",
       "stream": "stdout",
       "text": [
        " 95.3333333333 support v 1931\n",
        "accuracy"
       ]
      },
      {
       "output_type": "stream",
       "stream": "stdout",
       "text": [
        " 95.3333333333 support v 1985\n",
        "accuracy"
       ]
      },
      {
       "output_type": "stream",
       "stream": "stdout",
       "text": [
        " 94.6666666667 support v 1944\n",
        "accuracy"
       ]
      },
      {
       "output_type": "stream",
       "stream": "stdout",
       "text": [
        " 95.3333333333 support v 1986\n",
        "accuracy"
       ]
      },
      {
       "output_type": "stream",
       "stream": "stdout",
       "text": [
        " 95.0 support v 2010\n",
        "accuracy"
       ]
      },
      {
       "output_type": "stream",
       "stream": "stdout",
       "text": [
        " 95.0 support v 1870\n",
        "accuracy"
       ]
      },
      {
       "output_type": "stream",
       "stream": "stdout",
       "text": [
        " 94.6666666667 support v 1892\n",
        "accuracy"
       ]
      },
      {
       "output_type": "stream",
       "stream": "stdout",
       "text": [
        " 95.6666666667 support v 1974\n",
        "_____________________predicting kahuna 9,000 on model with acc 96.0\n",
        "inserting with acc 96.0 in column 96\n",
        "-------------------- (183968, 12) (183968,)\n",
        "(9700,) (300,)\n",
        "accuracy"
       ]
      },
      {
       "output_type": "stream",
       "stream": "stdout",
       "text": [
        " 95.6666666667 support v 1821\n",
        "accuracy"
       ]
      },
      {
       "output_type": "stream",
       "stream": "stdout",
       "text": [
        " 94.6666666667 support v 1930\n",
        "accuracy"
       ]
      },
      {
       "output_type": "stream",
       "stream": "stdout",
       "text": [
        " 94.0 support v 1941\n",
        "accuracy"
       ]
      },
      {
       "output_type": "stream",
       "stream": "stdout",
       "text": [
        " 95.6666666667 support v 1920\n",
        "accuracy"
       ]
      },
      {
       "output_type": "stream",
       "stream": "stdout",
       "text": [
        " 94.0 support v 1903\n",
        "accuracy"
       ]
      },
      {
       "output_type": "stream",
       "stream": "stdout",
       "text": [
        " 94.3333333333 support v 1894\n",
        "accuracy"
       ]
      },
      {
       "output_type": "stream",
       "stream": "stdout",
       "text": [
        " 94.6666666667 support v 1891\n",
        "accuracy"
       ]
      },
      {
       "output_type": "stream",
       "stream": "stdout",
       "text": [
        " 95.3333333333 support v 1877\n",
        "accuracy"
       ]
      },
      {
       "output_type": "stream",
       "stream": "stdout",
       "text": [
        " 94.6666666667 support v 1948\n",
        "accuracy"
       ]
      },
      {
       "output_type": "stream",
       "stream": "stdout",
       "text": [
        " 94.6666666667 support v 1846\n",
        "_____________________predicting kahuna 9,000 on model with acc 95.6666666667\n",
        "inserting with acc 95.6666666667 in column 97\n",
        "-------------------- (185888, 12) (185888,)\n",
        "(9700,) (300,)\n",
        "accuracy"
       ]
      },
      {
       "output_type": "stream",
       "stream": "stdout",
       "text": [
        " 96.6666666667 support v 1749\n",
        "accuracy"
       ]
      },
      {
       "output_type": "stream",
       "stream": "stdout",
       "text": [
        " 96.6666666667 support v 1842\n",
        "accuracy"
       ]
      },
      {
       "output_type": "stream",
       "stream": "stdout",
       "text": [
        " 97.0 support v 1786\n",
        "accuracy"
       ]
      },
      {
       "output_type": "stream",
       "stream": "stdout",
       "text": [
        " 97.3333333333 support v 1699\n",
        "accuracy"
       ]
      },
      {
       "output_type": "stream",
       "stream": "stdout",
       "text": [
        " 97.0 support v 1823\n",
        "accuracy"
       ]
      },
      {
       "output_type": "stream",
       "stream": "stdout",
       "text": [
        " 97.0 support v 1693\n",
        "accuracy"
       ]
      },
      {
       "output_type": "stream",
       "stream": "stdout",
       "text": [
        " 96.6666666667 support v 1882\n",
        "accuracy"
       ]
      },
      {
       "output_type": "stream",
       "stream": "stdout",
       "text": [
        " 96.3333333333 support v 1828\n",
        "accuracy"
       ]
      },
      {
       "output_type": "stream",
       "stream": "stdout",
       "text": [
        " 96.6666666667 support v 1862\n",
        "accuracy"
       ]
      },
      {
       "output_type": "stream",
       "stream": "stdout",
       "text": [
        " 96.6666666667 support v 1825\n",
        "_____________________predicting kahuna 9,000 on model with acc 97.3333333333\n",
        "inserting with acc 97.3333333333 in column 98\n",
        "-------------------- (187587, 12) (187587,)\n"
       ]
      }
     ],
     "prompt_number": 456
    },
    {
     "cell_type": "code",
     "collapsed": false,
     "input": [
      "print scores\n",
      "\n",
      "print SV_X.shape\n",
      "print SV_X[0:10,0:3]\n",
      "\n",
      "print SV_Y.shape\n",
      "print SV_Y[0:10]\n",
      "\n",
      "print SV_X[0,:], SV_Y[0]"
     ],
     "language": "python",
     "metadata": {},
     "outputs": [
      {
       "output_type": "stream",
       "stream": "stdout",
       "text": [
        "[ 94.          94.66666667  96.66666667  95.66666667  96.33333333\n",
        "  95.33333333  95.33333333  95.66666667  96.33333333  92.33333333\n",
        "  96.33333333  96.33333333  95.66666667  95.33333333  96.          96.\n",
        "  95.33333333  96.66666667  96.33333333  96.66666667  97.          95.33333333\n",
        "  96.33333333  97.          96.33333333  95.          97.          96.66666667\n",
        "  97.33333333  97.          95.          97.          97.33333333\n",
        "  96.66666667  94.66666667  96.66666667  95.33333333  96.          96.33333333\n",
        "  97.          96.66666667  96.33333333  95.66666667  97.66666667\n",
        "  96.33333333  96.66666667  95.          96.33333333  96.          97.66666667\n",
        "  95.          94.          96.33333333  97.33333333  95.33333333  96.\n",
        "  97.33333333  96.33333333  96.66666667  96.          95.33333333  95.          97.\n",
        "  95.33333333  95.66666667  95.66666667  97.          96.          97.33333333\n",
        "  96.33333333  95.33333333  96.          97.33333333  96.          97.          96.\n",
        "  95.66666667  97.33333333  96.33333333  95.66666667  96.66666667\n",
        "  93.33333333  95.66666667  96.          96.          96.          96.66666667\n",
        "  96.33333333  97.          96.          96.33333333  95.66666667\n",
        "  95.33333333  95.66666667  97.33333333  96.66666667  96.          95.66666667\n",
        "  97.33333333]\n",
        "(187587, 12)\n",
        "[[ 0.          0.          0.        ]\n",
        " [ 0.27877868  0.93132121  0.21772835]\n",
        " [-1.452474   -0.97306525 -0.09693179]\n",
        " [-1.10792762 -0.78430367  1.1219433 ]\n",
        " [-0.44349961  1.03436116  0.22881555]\n",
        " [-0.37714503 -1.01691821  0.77733552]\n",
        " [-0.54005894 -0.04008909 -0.18525269]\n",
        " [-0.12251623  0.7706332   0.35666336]\n",
        " [-0.02473886 -1.74272974 -0.99294123]\n",
        " [-1.26010805  0.10169522  1.13491279]]\n",
        "(187587,)\n",
        "[ 0.  0.  0.  0.  0.  0.  0.  0.  0.  0.]\n",
        "[ 0.  0.  0.  0.  0.  0.  0.  0.  0.  0.  0.  0.] 0.0\n"
       ]
      }
     ],
     "prompt_number": 457
    },
    {
     "cell_type": "code",
     "collapsed": false,
     "input": [
      "SV_X = SV_X[1:,:]\n",
      "SV_Y = SV_Y[1:]\n",
      "\n",
      "print SV_X[0,:], SV_Y[0]"
     ],
     "language": "python",
     "metadata": {},
     "outputs": [
      {
       "output_type": "stream",
       "stream": "stdout",
       "text": [
        "[ 0.27877868  0.93132121  0.21772835  2.69976822 -0.06736589 -0.72117449\n",
        "  0.74698515  1.5619      1.37951851 -1.42219019  2.12632477 -0.68404095] 0.0\n"
       ]
      }
     ],
     "prompt_number": 458
    },
    {
     "cell_type": "code",
     "collapsed": false,
     "input": [],
     "language": "python",
     "metadata": {},
     "outputs": [],
     "prompt_number": 458
    },
    {
     "cell_type": "code",
     "collapsed": false,
     "input": [
      "xxx = np.array(data)\n",
      "yyy = gt_data.astype('int8')\n",
      "\n",
      "pca = RandomizedPCA(n_components=12, whiten=True)\n",
      "pca.fit(xxx)\n",
      "xxx = pca.transform(xxx)"
     ],
     "language": "python",
     "metadata": {},
     "outputs": [],
     "prompt_number": 459
    },
    {
     "cell_type": "code",
     "collapsed": false,
     "input": [
      "xxx.shape"
     ],
     "language": "python",
     "metadata": {},
     "outputs": [
      {
       "metadata": {},
       "output_type": "pyout",
       "prompt_number": 460,
       "text": [
        "(10000, 12)"
       ]
      }
     ],
     "prompt_number": 460
    },
    {
     "cell_type": "code",
     "collapsed": false,
     "input": [],
     "language": "python",
     "metadata": {},
     "outputs": []
    },
    {
     "cell_type": "code",
     "collapsed": false,
     "input": [],
     "language": "python",
     "metadata": {},
     "outputs": []
    },
    {
     "cell_type": "raw",
     "metadata": {},
     "source": [
      "\n",
      "acc = 0.0\n",
      "\n",
      "while acc<98.:\n",
      "    \n",
      "    xxx = np.array(data)\n",
      "    yyy = gt_data.astype('int8')\n",
      "\n",
      "    pca = RandomizedPCA(n_components=12, whiten=True)\n",
      "    pca.fit(xxx)\n",
      "    xxx = pca.transform(xxx)\n",
      "    \n",
      "    Whole_Training = np.hstack([yyy[300:700], xxx[300:700,:]])\n",
      "    CV = np.hstack([np.atleast_2d(yyy[0:300]), xxx[0:300,:]])\n",
      "    \n",
      "    clf99 = svm.SVC(kernel='rbf', cache_size=1000, probability=True, C=10000000., gamma=0.22)\n",
      "    [Z, sv_xy, acc, fu, nnn] = laundromat(clf99, Whole_Training, CV, nspv=0., max_acc=0.0, PCUT = 0.95)\n",
      "    clf = svm.SVC(kernel='rbf', cache_size=1000, probability=True, C=10000000., gamma=0.275)\n",
      "    fu = False\n",
      "    acc = 0.9\n",
      "    while fu==False:\n",
      "        [Z, sv_xy0, acc, fu, nnn] = laundromat(clf99, Z, CV, nnn, acc, PCUT=0.9999)\n",
      "    print '?????????', acc"
     ]
    },
    {
     "cell_type": "code",
     "collapsed": false,
     "input": [
      "# add support vectors and given first 1000 training\n",
      "A = np.vstack([SV_X, xxx[0:1000,:]])\n",
      "B = np.vstack([np.atleast_2d(SV_Y).T, np.atleast_2d(yyy[0:1000])])\n",
      "\n",
      "import os\n",
      "\n",
      "PP = np.zeros((1, 9000))\n",
      "# open all files that start with prediction => store all predictions in matrix\n",
      "listing = os.listdir('./')\n",
      "c = 0\n",
      "for infile in listing:\n",
      "    if infile.startswith('predictions_domingo.csv'):\n",
      "        print infile\n",
      "        cc = read_csv(infile, header=False)\n",
      "        PP[c,] = np.array(cc.ix[:,1])\n",
      "        c += 1\n",
      "PP = PP.T\n",
      "print PP[0:10,:]\n",
      "\n",
      "# for each find samples where all predictions coincide\n",
      "m,n = PP.shape\n",
      "s = np.sum(PP, axis=1)\n",
      "\n",
      "idx = []\n",
      "dissent = 0\n",
      "for i in range(m):\n",
      "    if s[i]==n or s[i]==0.:\n",
      "        idx.extend([1000+i, int(s[i]/n)])\n",
      "    else:\n",
      "        dissent += 1\n",
      "\n",
      "print 'llll'\n",
      "idx = np.array(idx)\n",
      "idx = idx.reshape(-1,2)\n",
      "print idx[0:10,1]\n",
      "        \n",
      "print dissent\n",
      "A = np.vstack([A, xxx[idx[:,0],:]])\n",
      "B = np.concatenate([B, np.atleast_2d(idx[:,1]).T])"
     ],
     "language": "python",
     "metadata": {},
     "outputs": [
      {
       "output_type": "stream",
       "stream": "stdout",
       "text": [
        "predictions_domingo.csv\n",
        "[[ 1.]\n",
        " [ 0.]\n",
        " [ 1.]\n",
        " [ 0.]\n",
        " [ 0.]\n",
        " [ 0.]\n",
        " [ 0.]\n",
        " [ 1.]\n",
        " [ 0.]\n",
        " [ 0.]]\n",
        "llll"
       ]
      },
      {
       "output_type": "stream",
       "stream": "stdout",
       "text": [
        "\n",
        "[1 0 1 0 0 0 0 1 0 0]\n",
        "0\n"
       ]
      }
     ],
     "prompt_number": 611
    },
    {
     "cell_type": "code",
     "collapsed": false,
     "input": [],
     "language": "python",
     "metadata": {},
     "outputs": [],
     "prompt_number": 611
    },
    {
     "cell_type": "code",
     "collapsed": false,
     "input": [],
     "language": "python",
     "metadata": {},
     "outputs": [],
     "prompt_number": 611
    },
    {
     "cell_type": "code",
     "collapsed": false,
     "input": [
      "print A.shape, B.shape\n",
      "\n",
      "my_model = svm.SVC(kernel='rbf', cache_size=1000, probability=False, C=10000000., gamma = 0.275)\n",
      "my_model.fit(A, B)"
     ],
     "language": "python",
     "metadata": {},
     "outputs": [
      {
       "output_type": "stream",
       "stream": "stdout",
       "text": [
        "(197586, 12) (197586, 1)\n"
       ]
      },
      {
       "output_type": "stream",
       "stream": "stderr",
       "text": [
        "//anaconda/python.app/Contents/lib/python2.7/site-packages/sklearn/svm/base.py:440: DataConversionWarning: A column-vector y was passed when a 1d array was expected. Please change the shape of y to (n_samples, ), for example using ravel().\n",
        "  y = column_or_1d(y, warn=True)\n"
       ]
      },
      {
       "metadata": {},
       "output_type": "pyout",
       "prompt_number": 612,
       "text": [
        "SVC(C=10000000.0, cache_size=1000, class_weight=None, coef0=0.0, degree=3,\n",
        "  gamma=0.275, kernel='rbf', max_iter=-1, probability=False,\n",
        "  random_state=None, shrinking=True, tol=0.001, verbose=False)"
       ]
      }
     ],
     "prompt_number": 612
    },
    {
     "cell_type": "code",
     "collapsed": false,
     "input": [
      "my_model.support_vectors_.shape"
     ],
     "language": "python",
     "metadata": {},
     "outputs": [
      {
       "metadata": {},
       "output_type": "pyout",
       "prompt_number": 613,
       "text": [
        "(2016, 12)"
       ]
      }
     ],
     "prompt_number": 613
    },
    {
     "cell_type": "code",
     "collapsed": false,
     "input": [],
     "language": "python",
     "metadata": {},
     "outputs": [],
     "prompt_number": 613
    },
    {
     "cell_type": "code",
     "collapsed": false,
     "input": [
      "x300 = xxx[0:300,:]\n",
      "y300 = yyy[0:300]\n",
      "\n",
      "from sklearn.metrics import *\n",
      "aaa=my_model.predict(x300)\n",
      "print(classification_report(y300, aaa))"
     ],
     "language": "python",
     "metadata": {},
     "outputs": [
      {
       "output_type": "stream",
       "stream": "stdout",
       "text": [
        "             precision    recall  f1-score   support\n",
        "\n",
        "          0       1.00      1.00      1.00       149\n",
        "          1       1.00      1.00      1.00       151\n",
        "\n",
        "avg / total       1.00      1.00      1.00       300\n",
        "\n"
       ]
      }
     ],
     "prompt_number": 614
    },
    {
     "cell_type": "code",
     "collapsed": false,
     "input": [],
     "language": "python",
     "metadata": {},
     "outputs": [],
     "prompt_number": 614
    },
    {
     "cell_type": "code",
     "collapsed": false,
     "input": [],
     "language": "python",
     "metadata": {},
     "outputs": [],
     "prompt_number": 614
    },
    {
     "cell_type": "code",
     "collapsed": false,
     "input": [],
     "language": "python",
     "metadata": {},
     "outputs": [],
     "prompt_number": 614
    },
    {
     "cell_type": "code",
     "collapsed": false,
     "input": [
      "final_X = xxx[1000:,:]\n",
      "print final_X.shape"
     ],
     "language": "python",
     "metadata": {},
     "outputs": [
      {
       "output_type": "stream",
       "stream": "stdout",
       "text": [
        "(9000, 12)\n"
       ]
      }
     ],
     "prompt_number": 615
    },
    {
     "cell_type": "code",
     "collapsed": false,
     "input": [
      "p = my_model.predict(final_X)\n",
      "print p.shape"
     ],
     "language": "python",
     "metadata": {},
     "outputs": [
      {
       "output_type": "stream",
       "stream": "stdout",
       "text": [
        "(9000,)\n"
       ]
      }
     ],
     "prompt_number": 616
    },
    {
     "cell_type": "code",
     "collapsed": false,
     "input": [
      "pred = np.hstack([np.atleast_2d(np.arange(1,9001)).T, np.atleast_2d(p).T])\n",
      "print pred[0:20,:]"
     ],
     "language": "python",
     "metadata": {},
     "outputs": [
      {
       "output_type": "stream",
       "stream": "stdout",
       "text": [
        "[[  1.   1.]\n",
        " [  2.   0.]\n",
        " [  3.   1.]\n",
        " [  4.   0.]\n",
        " [  5.   0.]\n",
        " [  6.   0.]\n",
        " [  7.   0.]\n",
        " [  8.   1.]\n",
        " [  9.   0.]\n",
        " [ 10.   0.]\n",
        " [ 11.   1.]\n",
        " [ 12.   1.]\n",
        " [ 13.   1.]\n",
        " [ 14.   1.]\n",
        " [ 15.   0.]\n",
        " [ 16.   1.]\n",
        " [ 17.   0.]\n",
        " [ 18.   0.]\n",
        " [ 19.   1.]\n",
        " [ 20.   1.]]\n"
       ]
      }
     ],
     "prompt_number": 617
    },
    {
     "cell_type": "code",
     "collapsed": false,
     "input": [
      "print 'To submitt add header: Id,Solution'\n",
      "np.savetxt('./predictions_saturday1.csv', pred, fmt='%i,%i')"
     ],
     "language": "python",
     "metadata": {},
     "outputs": [
      {
       "output_type": "stream",
       "stream": "stdout",
       "text": [
        "To submitt add header: Id,Solution\n"
       ]
      }
     ],
     "prompt_number": 618
    },
    {
     "cell_type": "code",
     "collapsed": false,
     "input": [],
     "language": "python",
     "metadata": {},
     "outputs": []
    }
   ],
   "metadata": {}
  }
 ]
}