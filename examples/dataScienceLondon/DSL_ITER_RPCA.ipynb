{
 "metadata": {
  "name": ""
 },
 "nbformat": 3,
 "nbformat_minor": 0,
 "worksheets": [
  {
   "cells": [
    {
     "cell_type": "code",
     "collapsed": false,
     "input": [
      "%cd '~/Dropbox/fjs6/Journal/ideolog/Dimwit/examples/dataScienceLondon/data/'"
     ],
     "language": "python",
     "metadata": {},
     "outputs": [
      {
       "output_type": "stream",
       "stream": "stdout",
       "text": [
        "/Users/fjs6/Dropbox/fjs6/Journal/ideolog/Dimwit/examples/dataScienceLondon/data\n"
       ]
      }
     ],
     "prompt_number": 1
    },
    {
     "cell_type": "code",
     "collapsed": false,
     "input": [
      "import numpy as np\n",
      "from pandas import *\n",
      "import pandas\n",
      "import math\n",
      "import random\n",
      "from sklearn import preprocessing\n",
      "from sklearn import svm\n",
      "from sklearn.svm import SVC\n",
      "from sklearn.cross_validation import StratifiedKFold\n",
      "from sklearn.grid_search import GridSearchCV\n",
      "from sklearn.decomposition import PCA\n",
      "\n",
      "import sys\n",
      "sys.path.append('/Users/fjs6/Dropbox/fjs6/Journal/ideolog/Dimwit')\n"
     ],
     "language": "python",
     "metadata": {},
     "outputs": [],
     "prompt_number": 2
    },
    {
     "cell_type": "code",
     "collapsed": false,
     "input": [
      "tr_data = read_csv('train.csv', header=None)\n",
      "test_data = read_csv('test.csv', header=None)\n",
      "data = concat([tr_data, test_data], ignore_index=True)"
     ],
     "language": "python",
     "metadata": {},
     "outputs": [],
     "prompt_number": 3
    },
    {
     "cell_type": "code",
     "collapsed": false,
     "input": [
      "gt_data = read_csv('trainLabels.csv', header=None)"
     ],
     "language": "python",
     "metadata": {},
     "outputs": [],
     "prompt_number": 4
    },
    {
     "cell_type": "code",
     "collapsed": false,
     "input": [
      "def laundromat(model, X, Y, XUniverse, max_acc, PCUT = 0.95):\n",
      "    # train\n",
      "    model.fit(X, Y)\n",
      "    \n",
      "    # evaluate\n",
      "    p = model.predict(X_CV)\n",
      "    count = 0.0\n",
      "    M_CV = len(Y_CV)\n",
      "    for i in range(M_CV):\n",
      "        if p[i]==Y_CV[i]:\n",
      "            count+=1\n",
      "    acc = 100*count/M_CV\n",
      "    print 'score on CV', acc\n",
      "    print 'support vectors', model.support_vectors_.shape[0]\n",
      "    if acc < max_acc:\n",
      "        print 'breaking out'\n",
      "        return [X, Y, XUniverse, max_acc, True]\n",
      "    \n",
      "    # go deeper\n",
      "    prob = model.predict_proba(XUniverse)\n",
      "    M_U, N_U = XUniverse.shape\n",
      "    X1 = X.copy()\n",
      "    Y1 = Y.copy()\n",
      "    X_Rest = np.zeros((1, N_U))\n",
      "\n",
      "    for i in range(M_U):\n",
      "        y = np.argmax(prob[i,:])\n",
      "        p = np.max(prob[i,:])\n",
      "        record = XUniverse[i:i+1,:]\n",
      "        if p > PCUT:\n",
      "            X1 = np.append(X1, record, axis=0)\n",
      "            Y1 = np.append(Y1, y)\n",
      "        else:\n",
      "            X_Rest = np.vstack([X_Rest, record])\n",
      "    X_Rest = np.delete(X_Rest, 0, 0)\n",
      "    return [X1, Y1, X_Rest, acc, False]\n"
     ],
     "language": "python",
     "metadata": {},
     "outputs": [],
     "prompt_number": 5
    },
    {
     "cell_type": "code",
     "collapsed": false,
     "input": [
      "def heatmap(grid, C_range, g_range):\n",
      "    print(\"The best classifier is: \", grid.best_estimator_)\n",
      "    print 'best score', grid.best_score_\n",
      "    score_dict = grid.grid_scores_\n",
      "    scores = [x[1] for x in score_dict]\n",
      "    scores = np.array(scores).reshape(len(C_range), len(g_range))\n",
      "\n",
      "    plt.figure(figsize=(8, 6))\n",
      "    plt.subplots_adjust(left=0.05, right=0.95, bottom=0.15, top=0.95)\n",
      "    plt.imshow(scores, interpolation='nearest', cmap=plt.cm.spectral)\n",
      "    plt.xlabel('g')\n",
      "    plt.ylabel('C')\n",
      "    plt.colorbar()\n",
      "    plt.xticks(np.arange(len(g_range)), g_range, rotation=45)\n",
      "    plt.yticks(np.arange(len(C_range)), C_range)\n",
      "    plt.show()"
     ],
     "language": "python",
     "metadata": {},
     "outputs": [],
     "prompt_number": 6
    },
    {
     "cell_type": "heading",
     "level": 4,
     "metadata": {},
     "source": [
      "1st Filter : Preselecting features with highest power"
     ]
    },
    {
     "cell_type": "code",
     "collapsed": false,
     "input": [
      "#features = [14,12,29,6,36,39,7,4,28,19,22,18,38,3, 32, 34, 13, 11]\n",
      "### NOOfeatures = [14,12,29,6,36,39,7,4,28,19,22,18,38,3] # just 14 seems to be the sweet spot\n",
      "\n",
      "#features = [1, 2, 4, 5,  6, 0, 11, 9, 3, 8, 7, 23, 32] \n",
      "features = np.arange(40)\n",
      "x_all = np.array(data.ix[:,features])\n",
      "y_all = np.ravel(gt_data)"
     ],
     "language": "python",
     "metadata": {},
     "outputs": [],
     "prompt_number": 10
    },
    {
     "cell_type": "code",
     "collapsed": false,
     "input": [],
     "language": "python",
     "metadata": {},
     "outputs": [],
     "prompt_number": 6
    },
    {
     "cell_type": "raw",
     "metadata": {},
     "source": [
      "x_all = np.array(data.ix[:,:])\n",
      "x_all.shape\n",
      "\n",
      "from sklearn.decomposition import RandomizedPCA\n",
      "pca = RandomizedPCA(n_components=None, whiten=True)\n",
      "pca.fit(x_all)\n",
      "x_all = pca.transform(x_all)\n",
      "\n",
      "#features = [1, 2, 4, 5,  6, 0, 11, 9, 3, 8, 7, 23, 32]\n",
      "#features = [1, 4, 5, 6, 11, 2,  8, 3, 0, 9, 17, 37]\n",
      "features = range(12)\n",
      "\n",
      "x_all = x_all[:, features]\n",
      "y_all = np.ravel(gt_data)"
     ]
    },
    {
     "cell_type": "code",
     "collapsed": false,
     "input": [
      "x_all.shape"
     ],
     "language": "python",
     "metadata": {},
     "outputs": [
      {
       "metadata": {},
       "output_type": "pyout",
       "prompt_number": 11,
       "text": [
        "(10000, 40)"
       ]
      }
     ],
     "prompt_number": 11
    },
    {
     "cell_type": "heading",
     "level": 4,
     "metadata": {},
     "source": [
      "2nd Filter: Reducing dimmensionality up to 97.48%"
     ]
    },
    {
     "cell_type": "raw",
     "metadata": {},
     "source": [
      "from sklearn.decomposition import RandomizedPCA\n",
      "pca = RandomizedPCA(n_components=13, whiten=True)\n",
      "pca.fit(x_all)\n",
      "x_all = pca.transform(x_all)"
     ]
    },
    {
     "cell_type": "code",
     "collapsed": false,
     "input": [
      "x_all.shape"
     ],
     "language": "python",
     "metadata": {},
     "outputs": [
      {
       "metadata": {},
       "output_type": "pyout",
       "prompt_number": 12,
       "text": [
        "(10000, 40)"
       ]
      }
     ],
     "prompt_number": 12
    },
    {
     "cell_type": "heading",
     "level": 4,
     "metadata": {},
     "source": [
      "Dividing initial training data to create mini cross validation set"
     ]
    },
    {
     "cell_type": "code",
     "collapsed": false,
     "input": [
      "limit_cv = 300\n",
      "\n",
      "X_CV = x_all[0:limit_cv,:]\n",
      "Y_CV = y_all[0:limit_cv]\n",
      "\n",
      "X_TR = x_all[limit_cv:,:]\n",
      "Y_TR = y_all[limit_cv:]"
     ],
     "language": "python",
     "metadata": {},
     "outputs": [],
     "prompt_number": 80
    },
    {
     "cell_type": "heading",
     "level": 3,
     "metadata": {},
     "source": [
      "ITERATE RANDOM PCA"
     ]
    },
    {
     "cell_type": "code",
     "collapsed": false,
     "input": [
      "from sklearn.ensemble import ExtraTreesClassifier\n",
      "\n",
      "clftree = ExtraTreesClassifier()\n",
      "clftree.fit(x_all[0:1000,:], y_all[0:1000]).transform(x_all)\n",
      "\n",
      "importances = clftree.feature_importances_\n",
      "features = np.argsort(importances)[::-1][0:20]\n",
      "print features"
     ],
     "language": "python",
     "metadata": {},
     "outputs": [
      {
       "output_type": "stream",
       "stream": "stdout",
       "text": [
        "[14 12 39  6 18 36 34 32 29 23  4 28 22  7 11 31  1  3 33 35]\n"
       ]
      }
     ],
     "prompt_number": 87
    },
    {
     "cell_type": "code",
     "collapsed": false,
     "input": [
      "def avg_score(model, cv, my_x):\n",
      "    for train_index, test_index in cv:\n",
      "        XR, YR = my_x[train_index, :], y_all[train_index]\n",
      "        XE, YE = my_x[test_index, :], y_all[test_index]\n",
      "        \n",
      "        ME = YE.size\n",
      "        \n",
      "        model.fit(XR, YR)\n",
      "        p = model.predict(XE)\n",
      "        count = 0.0\n",
      "        acc = []\n",
      "        for i in range(ME):\n",
      "            if p[i]==YE[i]:\n",
      "                count+=1.\n",
      "        acc += [100.*count/ME]\n",
      "        return np.mean(acc)"
     ],
     "language": "python",
     "metadata": {},
     "outputs": [],
     "prompt_number": 512
    },
    {
     "cell_type": "code",
     "collapsed": false,
     "input": [
      "import itertools\n",
      "\n",
      "def get_combos(chosen_features, lena):\n",
      "    combs = []\n",
      "    for i in xrange(lena, lena+1):\n",
      "        els = [list(x) for x in itertools.combinations(chosen_features, i)]\n",
      "        combs.extend(els)\n",
      "    print 'number of combinations', len(combs)\n",
      "    return combs"
     ],
     "language": "python",
     "metadata": {},
     "outputs": [],
     "prompt_number": 157
    },
    {
     "cell_type": "code",
     "collapsed": false,
     "input": [
      "get_combos([0,1,2], 2)"
     ],
     "language": "python",
     "metadata": {},
     "outputs": [
      {
       "output_type": "stream",
       "stream": "stdout",
       "text": [
        "number of combinations 3\n"
       ]
      },
      {
       "metadata": {},
       "output_type": "pyout",
       "prompt_number": 442,
       "text": [
        "[[0, 1], [0, 2], [1, 2]]"
       ]
      }
     ],
     "prompt_number": 442
    },
    {
     "cell_type": "code",
     "collapsed": false,
     "input": [],
     "language": "python",
     "metadata": {},
     "outputs": []
    },
    {
     "cell_type": "code",
     "collapsed": false,
     "input": [],
     "language": "python",
     "metadata": {},
     "outputs": []
    },
    {
     "cell_type": "code",
     "collapsed": false,
     "input": [
      "### REMOVING THE WORST FEATURE FROM 40 to 0 BY TAKING THE MAX ACC\n",
      "\n",
      "from sklearn.decomposition import RandomizedPCA\n",
      "\n",
      "y_all = np.ravel(gt_data)\n",
      "\n",
      "features = range(40)\n",
      "\n",
      "while len(features)>0:\n",
      "    #print 'features count', len(features)\n",
      "    best_acc = 0.0\n",
      "    \n",
      "    for ff in features:\n",
      "        feats = list(features)\n",
      "        feats.remove(ff)\n",
      "        \n",
      "        x_all = np.array(data.ix[0:1000,:])\n",
      "        \n",
      "        model = svm.SVC(kernel='rbf', cache_size=1000, probability=True, C=1000000., gamma=0.2)\n",
      "        cv = StratifiedKFold(y_all[0:1000], n_folds=3)\n",
      "        \n",
      "        axx = []\n",
      "        for j in [12]:\n",
      "            pca = RandomizedPCA(n_components=j, whiten=True)\n",
      "            XX = x_all[0:1000,:][:,feats]\n",
      "            my_x = pca.fit(np.array(data.ix[0:1000,feats])).transform(XX)\n",
      "            #my_x = x_all[0:1000,:][:,feats]\n",
      "            axx.append(avg_score(model, cv, my_x))\n",
      "        \n",
      "        acc = np.max(axx)\n",
      "        pos = np.argmax(axx)\n",
      "        if acc > best_acc:\n",
      "            best_acc = acc\n",
      "            best_f = feats\n",
      "    features  = best_f\n",
      "    print '==>', best_acc, pos, features\n"
     ],
     "language": "python",
     "metadata": {},
     "outputs": [
      {
       "output_type": "stream",
       "stream": "stdout",
       "text": [
        "==> 95.5089820359 0 [0, 1, 2, 3, 4, 5, 6, 7, 9, 10, 11, 12, 13, 14, 15, 16, 17, 18, 19, 20, 21, 22, 23, 24, 25, 26, 27, 28, 29, 30, 31, 32, 33, 34, 35, 36, 37, 38, 39]\n",
        "==>"
       ]
      },
      {
       "output_type": "stream",
       "stream": "stdout",
       "text": [
        " 95.5089820359 0 [0, 1, 2, 3, 4, 5, 6, 7, 9, 10, 11, 12, 13, 14, 15, 16, 17, 18, 19, 20, 21, 22, 23, 24, 25, 26, 28, 29, 30, 31, 32, 33, 34, 35, 36, 37, 38, 39]\n",
        "==>"
       ]
      },
      {
       "output_type": "stream",
       "stream": "stdout",
       "text": [
        " 95.5089820359 0 [0, 1, 2, 3, 4, 5, 6, 7, 9, 10, 11, 12, 13, 14, 15, 16, 17, 18, 19, 20, 21, 22, 23, 24, 25, 26, 28, 29, 31, 32, 33, 34, 35, 36, 37, 38, 39]\n",
        "==>"
       ]
      },
      {
       "output_type": "stream",
       "stream": "stdout",
       "text": [
        " 94.9101796407 0 [1, 2, 3, 4, 5, 6, 7, 9, 10, 11, 12, 13, 14, 15, 16, 17, 18, 19, 20, 21, 22, 23, 24, 25, 26, 28, 29, 31, 32, 33, 34, 35, 36, 37, 38, 39]\n",
        "==>"
       ]
      },
      {
       "output_type": "stream",
       "stream": "stdout",
       "text": [
        " 94.9101796407 0 [1, 2, 3, 4, 5, 6, 7, 9, 10, 11, 12, 14, 15, 16, 17, 18, 19, 20, 21, 22, 23, 24, 25, 26, 28, 29, 31, 32, 33, 34, 35, 36, 37, 38, 39]\n",
        "==>"
       ]
      },
      {
       "output_type": "stream",
       "stream": "stdout",
       "text": [
        " 94.9101796407 0 [2, 3, 4, 5, 6, 7, 9, 10, 11, 12, 14, 15, 16, 17, 18, 19, 20, 21, 22, 23, 24, 25, 26, 28, 29, 31, 32, 33, 34, 35, 36, 37, 38, 39]\n",
        "==>"
       ]
      },
      {
       "output_type": "stream",
       "stream": "stdout",
       "text": [
        " 95.2095808383 0 [2, 3, 4, 5, 6, 7, 9, 10, 12, 14, 15, 16, 17, 18, 19, 20, 21, 22, 23, 24, 25, 26, 28, 29, 31, 32, 33, 34, 35, 36, 37, 38, 39]\n",
        "==>"
       ]
      },
      {
       "output_type": "stream",
       "stream": "stdout",
       "text": [
        " 95.2095808383 0 [2, 3, 5, 6, 7, 9, 10, 12, 14, 15, 16, 17, 18, 19, 20, 21, 22, 23, 24, 25, 26, 28, 29, 31, 32, 33, 34, 35, 36, 37, 38, 39]\n",
        "==>"
       ]
      },
      {
       "output_type": "stream",
       "stream": "stdout",
       "text": [
        " 95.5089820359 0 [3, 5, 6, 7, 9, 10, 12, 14, 15, 16, 17, 18, 19, 20, 21, 22, 23, 24, 25, 26, 28, 29, 31, 32, 33, 34, 35, 36, 37, 38, 39]\n",
        "==>"
       ]
      },
      {
       "output_type": "stream",
       "stream": "stdout",
       "text": [
        " 95.8083832335 0 [3, 5, 6, 7, 9, 10, 12, 14, 15, 16, 17, 18, 19, 20, 21, 22, 23, 24, 25, 26, 28, 29, 32, 33, 34, 35, 36, 37, 38, 39]\n",
        "==>"
       ]
      },
      {
       "output_type": "stream",
       "stream": "stdout",
       "text": [
        " 95.2095808383 0 [3, 5, 6, 7, 10, 12, 14, 15, 16, 17, 18, 19, 20, 21, 22, 23, 24, 25, 26, 28, 29, 32, 33, 34, 35, 36, 37, 38, 39]\n",
        "==>"
       ]
      },
      {
       "output_type": "stream",
       "stream": "stdout",
       "text": [
        " 95.2095808383 0 [3, 5, 6, 7, 10, 12, 14, 15, 16, 17, 18, 19, 20, 21, 22, 23, 24, 25, 26, 28, 29, 32, 34, 35, 36, 37, 38, 39]\n",
        "==>"
       ]
      },
      {
       "output_type": "stream",
       "stream": "stdout",
       "text": [
        " 95.2095808383 0 [3, 5, 6, 7, 10, 12, 14, 16, 17, 18, 19, 20, 21, 22, 23, 24, 25, 26, 28, 29, 32, 34, 35, 36, 37, 38, 39]\n",
        "==>"
       ]
      },
      {
       "output_type": "stream",
       "stream": "stdout",
       "text": [
        " 95.2095808383 0 [3, 5, 6, 7, 10, 14, 16, 17, 18, 19, 20, 21, 22, 23, 24, 25, 26, 28, 29, 32, 34, 35, 36, 37, 38, 39]\n",
        "==>"
       ]
      },
      {
       "output_type": "stream",
       "stream": "stdout",
       "text": [
        " 95.2095808383 0 [3, 5, 6, 7, 10, 14, 17, 18, 19, 20, 21, 22, 23, 24, 25, 26, 28, 29, 32, 34, 35, 36, 37, 38, 39]\n",
        "==>"
       ]
      },
      {
       "output_type": "stream",
       "stream": "stdout",
       "text": [
        " 95.2095808383 0 [3, 5, 6, 7, 10, 14, 17, 18, 19, 20, 21, 22, 24, 25, 26, 28, 29, 32, 34, 35, 36, 37, 38, 39]\n",
        "==>"
       ]
      },
      {
       "output_type": "stream",
       "stream": "stdout",
       "text": [
        " 95.5089820359 0 [3, 5, 6, 7, 10, 14, 17, 18, 19, 20, 21, 22, 24, 25, 28, 29, 32, 34, 35, 36, 37, 38, 39]\n",
        "==>"
       ]
      },
      {
       "output_type": "stream",
       "stream": "stdout",
       "text": [
        " 95.2095808383 0 [3, 5, 6, 7, 10, 14, 17, 18, 20, 21, 22, 24, 25, 28, 29, 32, 34, 35, 36, 37, 38, 39]\n",
        "==>"
       ]
      },
      {
       "output_type": "stream",
       "stream": "stdout",
       "text": [
        " 95.5089820359 0 [3, 5, 6, 7, 10, 14, 18, 20, 21, 22, 24, 25, 28, 29, 32, 34, 35, 36, 37, 38, 39]\n",
        "==>"
       ]
      },
      {
       "output_type": "stream",
       "stream": "stdout",
       "text": [
        " 95.8083832335 0 [3, 5, 6, 7, 10, 14, 18, 20, 21, 22, 24, 25, 28, 29, 32, 34, 36, 37, 38, 39]\n",
        "==>"
       ]
      },
      {
       "output_type": "stream",
       "stream": "stdout",
       "text": [
        " 95.5089820359 0 [3, 5, 6, 7, 10, 14, 18, 20, 21, 22, 25, 28, 29, 32, 34, 36, 37, 38, 39]\n",
        "==>"
       ]
      },
      {
       "output_type": "stream",
       "stream": "stdout",
       "text": [
        " 95.2095808383 0 [3, 6, 7, 10, 14, 18, 20, 21, 22, 25, 28, 29, 32, 34, 36, 37, 38, 39]\n",
        "==>"
       ]
      },
      {
       "output_type": "stream",
       "stream": "stdout",
       "text": [
        " 95.2095808383 0 [3, 6, 7, 10, 14, 18, 21, 22, 25, 28, 29, 32, 34, 36, 37, 38, 39]\n",
        "==>"
       ]
      },
      {
       "output_type": "stream",
       "stream": "stdout",
       "text": [
        " 95.2095808383 0 [3, 6, 7, 10, 14, 18, 21, 22, 25, 28, 29, 32, 34, 36, 38, 39]\n",
        "==>"
       ]
      },
      {
       "output_type": "stream",
       "stream": "stdout",
       "text": [
        " 94.9101796407 0 [6, 7, 10, 14, 18, 21, 22, 25, 28, 29, 32, 34, 36, 38, 39]\n",
        "==>"
       ]
      },
      {
       "output_type": "stream",
       "stream": "stdout",
       "text": [
        " 95.2095808383 0 [6, 7, 14, 18, 21, 22, 25, 28, 29, 32, 34, 36, 38, 39]\n",
        "==>"
       ]
      },
      {
       "output_type": "stream",
       "stream": "stdout",
       "text": [
        " 94.6107784431 0 [6, 7, 14, 18, 22, 25, 28, 29, 32, 34, 36, 38, 39]\n",
        "==>"
       ]
      },
      {
       "output_type": "stream",
       "stream": "stdout",
       "text": [
        " 93.4131736527 0 [6, 7, 14, 18, 22, 28, 29, 32, 34, 36, 38, 39]\n",
        "==>"
       ]
      },
      {
       "output_type": "stream",
       "stream": "stdout",
       "text": [
        " 94.0119760479 0 [6, 7, 14, 18, 22, 28, 32, 34, 36, 38, 39]\n",
        "==>"
       ]
      },
      {
       "ename": "KeyboardInterrupt",
       "evalue": "",
       "output_type": "pyerr",
       "traceback": [
        "\u001b[0;31m---------------------------------------------------------------------------\u001b[0m\n\u001b[0;31mKeyboardInterrupt\u001b[0m                         Traceback (most recent call last)",
        "\u001b[0;32m<ipython-input-511-ec0f27b19837>\u001b[0m in \u001b[0;36m<module>\u001b[0;34m()\u001b[0m\n\u001b[1;32m     26\u001b[0m             \u001b[0mmy_x\u001b[0m \u001b[0;34m=\u001b[0m \u001b[0mpca\u001b[0m\u001b[0;34m.\u001b[0m\u001b[0mfit\u001b[0m\u001b[0;34m(\u001b[0m\u001b[0mnp\u001b[0m\u001b[0;34m.\u001b[0m\u001b[0marray\u001b[0m\u001b[0;34m(\u001b[0m\u001b[0mdata\u001b[0m\u001b[0;34m.\u001b[0m\u001b[0mix\u001b[0m\u001b[0;34m[\u001b[0m\u001b[0;36m0\u001b[0m\u001b[0;34m:\u001b[0m\u001b[0;36m1000\u001b[0m\u001b[0;34m,\u001b[0m\u001b[0mfeats\u001b[0m\u001b[0;34m]\u001b[0m\u001b[0;34m)\u001b[0m\u001b[0;34m)\u001b[0m\u001b[0;34m.\u001b[0m\u001b[0mtransform\u001b[0m\u001b[0;34m(\u001b[0m\u001b[0mXX\u001b[0m\u001b[0;34m)\u001b[0m\u001b[0;34m\u001b[0m\u001b[0m\n\u001b[1;32m     27\u001b[0m             \u001b[0;31m#my_x = x_all[0:1000,:][:,feats]\u001b[0m\u001b[0;34m\u001b[0m\u001b[0;34m\u001b[0m\u001b[0m\n\u001b[0;32m---> 28\u001b[0;31m             \u001b[0maxx\u001b[0m\u001b[0;34m.\u001b[0m\u001b[0mappend\u001b[0m\u001b[0;34m(\u001b[0m\u001b[0mavg_score\u001b[0m\u001b[0;34m(\u001b[0m\u001b[0mmodel\u001b[0m\u001b[0;34m,\u001b[0m \u001b[0mcv\u001b[0m\u001b[0;34m,\u001b[0m \u001b[0mmy_x\u001b[0m\u001b[0;34m)\u001b[0m\u001b[0;34m)\u001b[0m\u001b[0;34m\u001b[0m\u001b[0m\n\u001b[0m\u001b[1;32m     29\u001b[0m \u001b[0;34m\u001b[0m\u001b[0m\n\u001b[1;32m     30\u001b[0m         \u001b[0macc\u001b[0m \u001b[0;34m=\u001b[0m \u001b[0mnp\u001b[0m\u001b[0;34m.\u001b[0m\u001b[0mmax\u001b[0m\u001b[0;34m(\u001b[0m\u001b[0maxx\u001b[0m\u001b[0;34m)\u001b[0m\u001b[0;34m\u001b[0m\u001b[0m\n",
        "\u001b[0;32m<ipython-input-107-e4c4e04f582c>\u001b[0m in \u001b[0;36mavg_score\u001b[0;34m(model, cv, my_x)\u001b[0m\n\u001b[1;32m      7\u001b[0m         \u001b[0mME\u001b[0m \u001b[0;34m=\u001b[0m \u001b[0mYE\u001b[0m\u001b[0;34m.\u001b[0m\u001b[0msize\u001b[0m\u001b[0;34m\u001b[0m\u001b[0m\n\u001b[1;32m      8\u001b[0m \u001b[0;34m\u001b[0m\u001b[0m\n\u001b[0;32m----> 9\u001b[0;31m         \u001b[0mmodel\u001b[0m\u001b[0;34m.\u001b[0m\u001b[0mfit\u001b[0m\u001b[0;34m(\u001b[0m\u001b[0mXR\u001b[0m\u001b[0;34m,\u001b[0m \u001b[0mYR\u001b[0m\u001b[0;34m)\u001b[0m\u001b[0;34m\u001b[0m\u001b[0m\n\u001b[0m\u001b[1;32m     10\u001b[0m         \u001b[0mp\u001b[0m \u001b[0;34m=\u001b[0m \u001b[0mmodel\u001b[0m\u001b[0;34m.\u001b[0m\u001b[0mpredict\u001b[0m\u001b[0;34m(\u001b[0m\u001b[0mXE\u001b[0m\u001b[0;34m)\u001b[0m\u001b[0;34m\u001b[0m\u001b[0m\n\u001b[1;32m     11\u001b[0m         \u001b[0mcount\u001b[0m \u001b[0;34m=\u001b[0m \u001b[0;36m0.0\u001b[0m\u001b[0;34m\u001b[0m\u001b[0m\n",
        "\u001b[0;32m//anaconda/python.app/Contents/lib/python2.7/site-packages/sklearn/svm/base.pyc\u001b[0m in \u001b[0;36mfit\u001b[0;34m(self, X, y, sample_weight)\u001b[0m\n\u001b[1;32m    176\u001b[0m \u001b[0;34m\u001b[0m\u001b[0m\n\u001b[1;32m    177\u001b[0m         \u001b[0mseed\u001b[0m \u001b[0;34m=\u001b[0m \u001b[0mrnd\u001b[0m\u001b[0;34m.\u001b[0m\u001b[0mrandint\u001b[0m\u001b[0;34m(\u001b[0m\u001b[0mnp\u001b[0m\u001b[0;34m.\u001b[0m\u001b[0miinfo\u001b[0m\u001b[0;34m(\u001b[0m\u001b[0;34m'i'\u001b[0m\u001b[0;34m)\u001b[0m\u001b[0;34m.\u001b[0m\u001b[0mmax\u001b[0m\u001b[0;34m)\u001b[0m\u001b[0;34m\u001b[0m\u001b[0m\n\u001b[0;32m--> 178\u001b[0;31m         \u001b[0mfit\u001b[0m\u001b[0;34m(\u001b[0m\u001b[0mX\u001b[0m\u001b[0;34m,\u001b[0m \u001b[0my\u001b[0m\u001b[0;34m,\u001b[0m \u001b[0msample_weight\u001b[0m\u001b[0;34m,\u001b[0m \u001b[0msolver_type\u001b[0m\u001b[0;34m,\u001b[0m \u001b[0mkernel\u001b[0m\u001b[0;34m,\u001b[0m \u001b[0mrandom_seed\u001b[0m\u001b[0;34m=\u001b[0m\u001b[0mseed\u001b[0m\u001b[0;34m)\u001b[0m\u001b[0;34m\u001b[0m\u001b[0m\n\u001b[0m\u001b[1;32m    179\u001b[0m         \u001b[0;31m# see comment on the other call to np.iinfo in this file\u001b[0m\u001b[0;34m\u001b[0m\u001b[0;34m\u001b[0m\u001b[0m\n\u001b[1;32m    180\u001b[0m \u001b[0;34m\u001b[0m\u001b[0m\n",
        "\u001b[0;32m//anaconda/python.app/Contents/lib/python2.7/site-packages/sklearn/svm/base.pyc\u001b[0m in \u001b[0;36m_dense_fit\u001b[0;34m(self, X, y, sample_weight, solver_type, kernel, random_seed)\u001b[0m\n\u001b[1;32m    231\u001b[0m                 \u001b[0mcache_size\u001b[0m\u001b[0;34m=\u001b[0m\u001b[0mself\u001b[0m\u001b[0;34m.\u001b[0m\u001b[0mcache_size\u001b[0m\u001b[0;34m,\u001b[0m \u001b[0mcoef0\u001b[0m\u001b[0;34m=\u001b[0m\u001b[0mself\u001b[0m\u001b[0;34m.\u001b[0m\u001b[0mcoef0\u001b[0m\u001b[0;34m,\u001b[0m\u001b[0;34m\u001b[0m\u001b[0m\n\u001b[1;32m    232\u001b[0m                 \u001b[0mgamma\u001b[0m\u001b[0;34m=\u001b[0m\u001b[0mself\u001b[0m\u001b[0;34m.\u001b[0m\u001b[0m_gamma\u001b[0m\u001b[0;34m,\u001b[0m \u001b[0mepsilon\u001b[0m\u001b[0;34m=\u001b[0m\u001b[0mself\u001b[0m\u001b[0;34m.\u001b[0m\u001b[0mepsilon\u001b[0m\u001b[0;34m,\u001b[0m\u001b[0;34m\u001b[0m\u001b[0m\n\u001b[0;32m--> 233\u001b[0;31m                 max_iter=self.max_iter, random_seed=random_seed)\n\u001b[0m\u001b[1;32m    234\u001b[0m \u001b[0;34m\u001b[0m\u001b[0m\n\u001b[1;32m    235\u001b[0m         \u001b[0mself\u001b[0m\u001b[0;34m.\u001b[0m\u001b[0m_warn_from_fit_status\u001b[0m\u001b[0;34m(\u001b[0m\u001b[0;34m)\u001b[0m\u001b[0;34m\u001b[0m\u001b[0m\n",
        "\u001b[0;31mKeyboardInterrupt\u001b[0m: "
       ]
      },
      {
       "output_type": "stream",
       "stream": "stdout",
       "text": [
        " 92.8143712575 0 [6, 7, 14, 18, 22, 28, 32, 36, 38, 39]\n"
       ]
      }
     ],
     "prompt_number": 511
    },
    {
     "cell_type": "code",
     "collapsed": false,
     "input": [
      "np.random.RandomState(2)"
     ],
     "language": "python",
     "metadata": {},
     "outputs": [
      {
       "metadata": {},
       "output_type": "pyout",
       "prompt_number": 510,
       "text": [
        "<mtrand.RandomState at 0x1098d44b0>"
       ]
      }
     ],
     "prompt_number": 510
    },
    {
     "cell_type": "code",
     "collapsed": false,
     "input": [],
     "language": "python",
     "metadata": {},
     "outputs": [],
     "prompt_number": 510
    },
    {
     "cell_type": "code",
     "collapsed": false,
     "input": [
      "### REMOVING THE WORST FEATURE FROM 40 to 0 BY TAKING THE MIN ACC\n",
      "\n",
      "from sklearn.decomposition import RandomizedPCA\n",
      "\n",
      "y_all = np.ravel(gt_data)\n",
      "\n",
      "features = range(40)\n",
      "\n",
      "while len(features)>0:\n",
      "    #print 'features count', len(features)\n",
      "    best_acc, worst_acc = 0.0, 100.0\n",
      "    \n",
      "    worst_f = None\n",
      "    for ff in features:\n",
      "        feats = list(features)\n",
      "        feats.remove(ff)\n",
      "        \n",
      "        x_all = np.array(data.ix[0:1000,:])\n",
      "        \n",
      "        model = svm.SVC(kernel='rbf', cache_size=1000, probability=True, C=1000000., gamma=0.2)\n",
      "        cv = StratifiedKFold(y_all[0:1000], n_folds=3)\n",
      "        \n",
      "        pca = RandomizedPCA(n_components=12, whiten=True)\n",
      "        XX = x_all[0:1000,:][:,feats]\n",
      "        my_x = pca.fit(XX).transform(XX)\n",
      "        #my_x = x_all[0:1000,:][:,feats]\n",
      "        \n",
      "        acc = avg_score(model, cv, my_x)\n",
      "\n",
      "        if acc < worst_acc:\n",
      "            worst_acc = acc\n",
      "            worst_f = ff\n",
      "        if acc > best_acc:\n",
      "            best_acc = acc\n",
      "    print 'worst_f', worst_f, worst_acc, best_acc\n",
      "    features.remove(worst_f)\n",
      "\n"
     ],
     "language": "python",
     "metadata": {},
     "outputs": []
    },
    {
     "cell_type": "code",
     "collapsed": false,
     "input": [],
     "language": "python",
     "metadata": {},
     "outputs": [
      {
       "output_type": "stream",
       "stream": "stdout",
       "text": [
        "[1, 2, 3, 4]\n"
       ]
      }
     ],
     "prompt_number": 496
    },
    {
     "cell_type": "code",
     "collapsed": false,
     "input": [
      "s1 = sets.Set(features)\n",
      "print(s1 - sets.Set([14, 12, 39, 6, 18, 36, 34, 32, 29, 28, 22, 7, 11, 31, 1, 33, 35, 3]))\n",
      "print(s1 - sets.Set([14, 39, 6, 18, 36, 34, 32, 29, 28, 22, 7, 11, 31, 1, 33, 35, 3]))\n",
      "print(s1 - sets.Set([14, 39, 6, 18, 36, 34, 32, 29, 28, 7, 11, 31, 1, 33, 35, 3])) # 85.32%\n",
      "print(s1 - sets.Set([14, 39, 6, 18, 36, 32, 29, 28, 7, 11, 31, 1, 33, 35, 3])) # 90.41\n",
      "print(s1 - sets.Set([14, 39, 6, 18, 36, 34, 32, 29, 28, 7, 11, 31, 33, 3])) # 92.21\n",
      "print(s1 - sets.Set([14, 39, 6, 18, 36, 34, 32, 29, 28, 7, 11, 1, 3])) # 92.21\n",
      "print(s1 - sets.Set([14, 39, 6, 18, 36, 34, 32, 28, 7, 11, 1, 35])) # 93.11\n",
      "print(s1 - sets.Set([14, 6, 18, 36, 32, 29, 28, 7, 11, 1, 35])) # 92.81"
     ],
     "language": "python",
     "metadata": {},
     "outputs": [
      {
       "output_type": "stream",
       "stream": "stdout",
       "text": [
        "Set([])\n",
        "Set([])\n",
        "Set([])\n",
        "Set([34])\n",
        "Set([1, 35])\n",
        "Set([35, 31])\n",
        "Set([3, 29, 31])\n",
        "Set([31, 34, 3, 39])\n"
       ]
      }
     ],
     "prompt_number": 199
    },
    {
     "cell_type": "code",
     "collapsed": false,
     "input": [
      "storage_no_pca += [len(best_f), best_acc, best_f]\n",
      "storage_no_pca"
     ],
     "language": "python",
     "metadata": {},
     "outputs": [
      {
       "metadata": {},
       "output_type": "pyout",
       "prompt_number": 200,
       "text": [
        "[18,\n",
        " 64.670658682634738,\n",
        " [14, 12, 39, 6, 18, 36, 34, 32, 29, 28, 22, 7, 11, 31, 1, 33, 35, 3],\n",
        " 17,\n",
        " 73.952095808383234,\n",
        " [14, 39, 6, 18, 36, 34, 32, 29, 28, 22, 7, 11, 31, 1, 33, 35, 3],\n",
        " 16,\n",
        " 85.329341317365262,\n",
        " [14, 39, 6, 18, 36, 34, 32, 29, 28, 7, 11, 31, 1, 33, 35, 3],\n",
        " 15,\n",
        " 90.419161676646709,\n",
        " [14, 39, 6, 18, 36, 32, 29, 28, 7, 11, 31, 1, 33, 35, 3],\n",
        " 14,\n",
        " 92.215568862275447,\n",
        " [14, 39, 6, 18, 36, 34, 32, 29, 28, 7, 11, 31, 33, 3],\n",
        " 13,\n",
        " 92.215568862275447,\n",
        " [14, 39, 6, 18, 36, 34, 32, 29, 28, 7, 11, 1, 3],\n",
        " 12,\n",
        " 93.113772455089816,\n",
        " [14, 39, 6, 18, 36, 34, 32, 28, 7, 11, 1, 35],\n",
        " 11,\n",
        " 92.814371257485035,\n",
        " [14, 6, 18, 36, 32, 29, 28, 7, 11, 1, 35]]"
       ]
      }
     ],
     "prompt_number": 200
    },
    {
     "cell_type": "code",
     "collapsed": false,
     "input": [],
     "language": "python",
     "metadata": {},
     "outputs": []
    },
    {
     "cell_type": "code",
     "collapsed": false,
     "input": [],
     "language": "python",
     "metadata": {},
     "outputs": [],
     "prompt_number": 147
    },
    {
     "cell_type": "code",
     "collapsed": false,
     "input": [
      "\n",
      "\n"
     ],
     "language": "python",
     "metadata": {},
     "outputs": [
      {
       "metadata": {},
       "output_type": "pyout",
       "prompt_number": 154,
       "text": [
        "Set([1, 3, 4, 6, 7, 11, 12, 14, 18, 22, 23, 28, 29, 31, 32, 33, 34, 35, 36, 39])"
       ]
      }
     ],
     "prompt_number": 154
    },
    {
     "cell_type": "code",
     "collapsed": false,
     "input": [
      "import sets\n",
      "s0 = sets.Set(features)\n",
      "s0"
     ],
     "language": "python",
     "metadata": {},
     "outputs": [
      {
       "metadata": {},
       "output_type": "pyout",
       "prompt_number": 160,
       "text": [
        "Set([32, 1, 34, 11, 36, 33, 6, 39, 7, 12, 14, 18, 35, 22, 23, 4, 28, 29, 31])"
       ]
      }
     ],
     "prompt_number": 160
    },
    {
     "cell_type": "code",
     "collapsed": false,
     "input": [
      "# INCLUDING PCA\n",
      "import sets\n",
      "s0 = sets.Set(features)\n",
      "\n",
      "print(s0 - sets.Set([14, 12, 39, 6, 18, 36, 34, 32, 29, 23, 4, 28, 22, 7, 11, 31, 1]))\n",
      "print(s0 - sets.Set([14, 12, 39, 6, 18, 36, 34, 32, 29, 23, 4, 7, 11, 31, 33, 35]))\n",
      "print(s0 - sets.Set([14, 12, 39, 6, 18, 36, 34, 32, 29, 4, 28, 22, 7, 11, 31]))\n",
      "print(s0 - sets.Set([14, 12, 6, 18, 34, 32, 29, 23, 4, 28, 7, 31, 1, 33, 35]))\n",
      "print(s0 - sets.Set([14, 12, 39, 6, 36, 32, 23, 4, 22, 7, 11, 31, 1, 33]))"
     ],
     "language": "python",
     "metadata": {},
     "outputs": [
      {
       "output_type": "stream",
       "stream": "stdout",
       "text": [
        "Set([33, 35])\n",
        "Set([1, 28, 22])\n",
        "Set([23, 1, 35, 33])\n",
        "Set([11, 36, 22, 39])\n"
       ]
      }
     ],
     "prompt_number": 165
    },
    {
     "cell_type": "code",
     "collapsed": false,
     "input": [
      "storage += [len(best_f), best_acc, best_f]"
     ],
     "language": "python",
     "metadata": {},
     "outputs": [],
     "prompt_number": 167
    },
    {
     "cell_type": "code",
     "collapsed": false,
     "input": [
      "storage"
     ],
     "language": "python",
     "metadata": {},
     "outputs": [
      {
       "metadata": {},
       "output_type": "pyout",
       "prompt_number": 168,
       "text": [
        "[17,\n",
        " 95.508982035928142,\n",
        " [14, 12, 39, 6, 18, 36, 34, 32, 29, 23, 4, 28, 22, 7, 11, 31, 1],\n",
        " 16,\n",
        " 95.808383233532936,\n",
        " [14, 12, 39, 6, 18, 36, 34, 32, 29, 23, 4, 7, 11, 31, 33, 35],\n",
        " 15,\n",
        " 95.808383233532936,\n",
        " [14, 12, 39, 6, 18, 36, 34, 32, 29, 4, 28, 22, 7, 11, 31],\n",
        " 15,\n",
        " 95.808383233532936,\n",
        " [14, 12, 6, 18, 34, 32, 29, 23, 4, 28, 7, 31, 1, 33, 35],\n",
        " 14,\n",
        " 95.808383233532936,\n",
        " [14, 12, 39, 6, 36, 32, 23, 4, 22, 7, 11, 31, 1, 33]]"
       ]
      }
     ],
     "prompt_number": 168
    },
    {
     "cell_type": "heading",
     "level": 4,
     "metadata": {},
     "source": [
      "Optimizing hyperparams on initial training set"
     ]
    },
    {
     "cell_type": "code",
     "collapsed": false,
     "input": [
      "C_range = [0.01, 0.1, 1., 10., 100.]\n",
      "g_range = np.arange(0.1, .6, 0.1)\n",
      "#g_range = [1.]\n",
      "limit_tr = 1000-limit_cv\n",
      "\n",
      "param_grid = dict(gamma=g_range, C=C_range)\n",
      "clfo = svm.SVC(kernel='rbf', cache_size=1000, probability=True)\n",
      "\n",
      "cv = StratifiedKFold(Y_TR[0:limit_tr], n_folds=3)\n",
      "grid = GridSearchCV(clfo, param_grid=param_grid, cv=cv, verbose=5)\n",
      "\n",
      "grid.fit(X_TR[0:limit_tr,:], Y_TR[0:limit_tr])\n",
      "print(\"The best classifier is: \", grid.best_estimator_)\n",
      "print 'best score', grid.best_score_\n",
      "score_dict = grid.grid_scores_\n",
      "scores = [x[1] for x in score_dict]\n",
      "scores = np.array(scores).reshape(len(C_range), len(g_range))\n",
      "\n",
      "plt.figure(figsize=(8, 6))\n",
      "plt.subplots_adjust(left=0.05, right=0.95, bottom=0.15, top=0.95)\n",
      "plt.imshow(scores, interpolation='nearest', cmap=plt.cm.spectral)\n",
      "plt.xlabel('g')\n",
      "plt.ylabel('C')\n",
      "plt.colorbar()\n",
      "plt.xticks(np.arange(len(g_range)), g_range, rotation=45)\n",
      "plt.yticks(np.arange(len(C_range)), C_range)\n",
      "plt.show()"
     ],
     "language": "python",
     "metadata": {},
     "outputs": [
      {
       "output_type": "stream",
       "stream": "stdout",
       "text": [
        "Fitting 3 folds for each of 25 candidates, totalling 75 fits\n",
        "[GridSearchCV] C=0.01, gamma=0.1 ...............................................\n",
        "[GridSearchCV] ...................... C=0.01, gamma=0.1, score=0.512821 -   0.0s\n",
        "[GridSearchCV] C=0.01, gamma=0.1 ...............................................\n",
        "[GridSearchCV] ...................... C=0.01, gamma=0.1, score=0.510730 -   0.1s"
       ]
      },
      {
       "output_type": "stream",
       "stream": "stdout",
       "text": [
        "\n",
        "[GridSearchCV] C=0.01, gamma=0.1 ...............................................\n",
        "[GridSearchCV] ...................... C=0.01, gamma=0.1, score=0.515021 -   0.1s"
       ]
      },
      {
       "output_type": "stream",
       "stream": "stdout",
       "text": [
        "\n",
        "[GridSearchCV] C=0.01, gamma=0.2 ...............................................\n",
        "[GridSearchCV] ...................... C=0.01, gamma=0.2, score=0.512821 -   0.1s"
       ]
      },
      {
       "output_type": "stream",
       "stream": "stdout",
       "text": [
        "\n",
        "[GridSearchCV] C=0.01, gamma=0.2 ...............................................\n",
        "[GridSearchCV] ...................... C=0.01, gamma=0.2, score=0.510730 -   0.1s"
       ]
      },
      {
       "output_type": "stream",
       "stream": "stdout",
       "text": [
        "\n",
        "[GridSearchCV] C=0.01, gamma=0.2 ...............................................\n",
        "[GridSearchCV] ...................... C=0.01, gamma=0.2, score=0.515021 -   0.1s"
       ]
      },
      {
       "output_type": "stream",
       "stream": "stdout",
       "text": [
        "\n",
        "[GridSearchCV] C=0.01, gamma=0.3 ...............................................\n",
        "[GridSearchCV] ...................... C=0.01, gamma=0.3, score=0.512821 -   0.1s"
       ]
      },
      {
       "output_type": "stream",
       "stream": "stdout",
       "text": [
        "\n",
        "[GridSearchCV] C=0.01, gamma=0.3 ...............................................\n",
        "[GridSearchCV] ...................... C=0.01, gamma=0.3, score=0.510730 -   0.1s"
       ]
      },
      {
       "output_type": "stream",
       "stream": "stdout",
       "text": [
        "\n",
        "[GridSearchCV] C=0.01, gamma=0.3 ...............................................\n",
        "[GridSearchCV] ...................... C=0.01, gamma=0.3, score=0.515021 -   0.1s"
       ]
      },
      {
       "output_type": "stream",
       "stream": "stdout",
       "text": [
        "\n",
        "[GridSearchCV] C=0.01, gamma=0.4 ...............................................\n",
        "[GridSearchCV] ...................... C=0.01, gamma=0.4, score=0.512821 -   0.1s"
       ]
      },
      {
       "output_type": "stream",
       "stream": "stdout",
       "text": [
        "\n",
        "[GridSearchCV] C=0.01, gamma=0.4 ...............................................\n",
        "[GridSearchCV] ...................... C=0.01, gamma=0.4, score=0.510730 -   0.1s"
       ]
      },
      {
       "output_type": "stream",
       "stream": "stdout",
       "text": [
        "\n",
        "[GridSearchCV] C=0.01, gamma=0.4 ...............................................\n",
        "[GridSearchCV] ...................... C=0.01, gamma=0.4, score=0.515021 -   0.1s"
       ]
      },
      {
       "output_type": "stream",
       "stream": "stdout",
       "text": [
        "\n",
        "[GridSearchCV] C=0.01, gamma=0.5 ...............................................\n",
        "[GridSearchCV] ...................... C=0.01, gamma=0.5, score=0.512821 -   0.1s"
       ]
      },
      {
       "output_type": "stream",
       "stream": "stdout",
       "text": [
        "\n",
        "[GridSearchCV] C=0.01, gamma=0.5 ...............................................\n",
        "[GridSearchCV] ...................... C=0.01, gamma=0.5, score=0.510730 -   0.1s"
       ]
      },
      {
       "output_type": "stream",
       "stream": "stdout",
       "text": [
        "\n",
        "[GridSearchCV] C=0.01, gamma=0.5 ...............................................\n",
        "[GridSearchCV] ...................... C=0.01, gamma=0.5, score=0.515021 -   0.1s"
       ]
      },
      {
       "output_type": "stream",
       "stream": "stdout",
       "text": [
        "\n",
        "[GridSearchCV] C=0.1, gamma=0.1 ................................................\n",
        "[GridSearchCV] ....................... C=0.1, gamma=0.1, score=0.538462 -   0.0s\n",
        "[GridSearchCV] C=0.1, gamma=0.1 ................................................\n",
        "[GridSearchCV] ....................... C=0.1, gamma=0.1, score=0.562232 -   0.0s"
       ]
      },
      {
       "output_type": "stream",
       "stream": "stderr",
       "text": [
        "[Parallel(n_jobs=1)]: Done   1 jobs       | elapsed:    0.0s\n",
        "[Parallel(n_jobs=1)]: Done  18 jobs       | elapsed:    1.0s\n"
       ]
      },
      {
       "output_type": "stream",
       "stream": "stdout",
       "text": [
        "\n",
        "[GridSearchCV] C=0.1, gamma=0.1 ................................................\n",
        "[GridSearchCV] ....................... C=0.1, gamma=0.1, score=0.562232 -   0.0s\n",
        "[GridSearchCV] C=0.1, gamma=0.2 ................................................"
       ]
      },
      {
       "output_type": "stream",
       "stream": "stdout",
       "text": [
        "\n",
        "[GridSearchCV] ....................... C=0.1, gamma=0.2, score=0.576923 -   0.0s\n",
        "[GridSearchCV] C=0.1, gamma=0.2 ................................................\n",
        "[GridSearchCV] ....................... C=0.1, gamma=0.2, score=0.579399 -   0.0s"
       ]
      },
      {
       "output_type": "stream",
       "stream": "stdout",
       "text": [
        "\n",
        "[GridSearchCV] C=0.1, gamma=0.2 ................................................\n",
        "[GridSearchCV] ....................... C=0.1, gamma=0.2, score=0.549356 -   0.0s\n",
        "[GridSearchCV] C=0.1, gamma=0.3 ................................................\n",
        "[GridSearchCV] ....................... C=0.1, gamma=0.3, score=0.581197 -   0.0s"
       ]
      },
      {
       "output_type": "stream",
       "stream": "stdout",
       "text": [
        "\n",
        "[GridSearchCV] C=0.1, gamma=0.3 ................................................\n",
        "[GridSearchCV] ....................... C=0.1, gamma=0.3, score=0.566524 -   0.0s\n",
        "[GridSearchCV] C=0.1, gamma=0.3 ................................................\n",
        "[GridSearchCV] ....................... C=0.1, gamma=0.3, score=0.549356 -   0.0s"
       ]
      },
      {
       "output_type": "stream",
       "stream": "stdout",
       "text": [
        "\n",
        "[GridSearchCV] C=0.1, gamma=0.4 ................................................\n",
        "[GridSearchCV] ....................... C=0.1, gamma=0.4, score=0.585470 -   0.0s\n",
        "[GridSearchCV] C=0.1, gamma=0.4 ................................................\n",
        "[GridSearchCV] ....................... C=0.1, gamma=0.4, score=0.566524 -   0.0s"
       ]
      },
      {
       "output_type": "stream",
       "stream": "stdout",
       "text": [
        "\n",
        "[GridSearchCV] C=0.1, gamma=0.4 ................................................\n",
        "[GridSearchCV] ....................... C=0.1, gamma=0.4, score=0.553648 -   0.0s\n",
        "[GridSearchCV] C=0.1, gamma=0.5 ................................................\n",
        "[GridSearchCV] ....................... C=0.1, gamma=0.5, score=0.585470 -   0.0s"
       ]
      },
      {
       "output_type": "stream",
       "stream": "stdout",
       "text": [
        "\n",
        "[GridSearchCV] C=0.1, gamma=0.5 ................................................\n",
        "[GridSearchCV] ....................... C=0.1, gamma=0.5, score=0.562232 -   0.0s\n",
        "[GridSearchCV] C=0.1, gamma=0.5 ................................................\n",
        "[GridSearchCV] ....................... C=0.1, gamma=0.5, score=0.553648 -   0.0s"
       ]
      },
      {
       "output_type": "stream",
       "stream": "stdout",
       "text": [
        "\n",
        "[GridSearchCV] C=1.0, gamma=0.1 ................................................\n",
        "[GridSearchCV] ....................... C=1.0, gamma=0.1, score=0.585470 -   0.0s\n",
        "[GridSearchCV] C=1.0, gamma=0.1 ................................................\n",
        "[GridSearchCV] ....................... C=1.0, gamma=0.1, score=0.557940 -   0.0s"
       ]
      },
      {
       "output_type": "stream",
       "stream": "stdout",
       "text": [
        "\n",
        "[GridSearchCV] C=1.0, gamma=0.1 ................................................\n",
        "[GridSearchCV] ....................... C=1.0, gamma=0.1, score=0.553648 -   0.0s\n",
        "[GridSearchCV] C=1.0, gamma=0.2 ................................................\n",
        "[GridSearchCV] ....................... C=1.0, gamma=0.2, score=0.581197 -   0.0s"
       ]
      },
      {
       "output_type": "stream",
       "stream": "stdout",
       "text": [
        "\n",
        "[GridSearchCV] C=1.0, gamma=0.2 ................................................\n",
        "[GridSearchCV] ....................... C=1.0, gamma=0.2, score=0.562232 -   0.0s\n",
        "[GridSearchCV] C=1.0, gamma=0.2 ................................................\n",
        "[GridSearchCV] ....................... C=1.0, gamma=0.2, score=0.540773 -   0.0s"
       ]
      },
      {
       "output_type": "stream",
       "stream": "stdout",
       "text": [
        "\n",
        "[GridSearchCV] C=1.0, gamma=0.3 ................................................\n",
        "[GridSearchCV] ....................... C=1.0, gamma=0.3, score=0.576923 -   0.0s"
       ]
      },
      {
       "output_type": "stream",
       "stream": "stdout",
       "text": [
        "\n",
        "[GridSearchCV] C=1.0, gamma=0.3 ................................................\n",
        "[GridSearchCV] ....................... C=1.0, gamma=0.3, score=0.566524 -   0.0s\n",
        "[GridSearchCV] C=1.0, gamma=0.3 ................................................\n",
        "[GridSearchCV] ....................... C=1.0, gamma=0.3, score=0.545064 -   0.0s"
       ]
      },
      {
       "output_type": "stream",
       "stream": "stdout",
       "text": [
        "\n",
        "[GridSearchCV] C=1.0, gamma=0.4 ................................................\n",
        "[GridSearchCV] ....................... C=1.0, gamma=0.4, score=0.576923 -   0.0s"
       ]
      },
      {
       "output_type": "stream",
       "stream": "stdout",
       "text": [
        "\n",
        "[GridSearchCV] C=1.0, gamma=0.4 ................................................\n",
        "[GridSearchCV] ....................... C=1.0, gamma=0.4, score=0.562232 -   0.0s\n",
        "[GridSearchCV] C=1.0, gamma=0.4 ................................................\n",
        "[GridSearchCV] ....................... C=1.0, gamma=0.4, score=0.540773 -   0.0s"
       ]
      },
      {
       "output_type": "stream",
       "stream": "stdout",
       "text": [
        "\n",
        "[GridSearchCV] C=1.0, gamma=0.5 ................................................\n",
        "[GridSearchCV] ....................... C=1.0, gamma=0.5, score=0.576923 -   0.0s\n",
        "[GridSearchCV] C=1.0, gamma=0.5 ................................................\n",
        "[GridSearchCV] ....................... C=1.0, gamma=0.5, score=0.562232 -   0.0s"
       ]
      },
      {
       "output_type": "stream",
       "stream": "stdout",
       "text": [
        "\n",
        "[GridSearchCV] C=1.0, gamma=0.5 ................................................\n",
        "[GridSearchCV] ....................... C=1.0, gamma=0.5, score=0.536481 -   0.1s"
       ]
      },
      {
       "output_type": "stream",
       "stream": "stdout",
       "text": [
        "\n",
        "[GridSearchCV] C=10.0, gamma=0.1 ...............................................\n",
        "[GridSearchCV] ...................... C=10.0, gamma=0.1, score=0.581197 -   0.1s"
       ]
      },
      {
       "output_type": "stream",
       "stream": "stdout",
       "text": [
        "\n",
        "[GridSearchCV] C=10.0, gamma=0.1 ...............................................\n",
        "[GridSearchCV] ...................... C=10.0, gamma=0.1, score=0.562232 -   0.1s"
       ]
      },
      {
       "output_type": "stream",
       "stream": "stdout",
       "text": [
        "\n",
        "[GridSearchCV] C=10.0, gamma=0.1 ...............................................\n",
        "[GridSearchCV] ...................... C=10.0, gamma=0.1, score=0.540773 -   0.1s"
       ]
      },
      {
       "output_type": "stream",
       "stream": "stdout",
       "text": [
        "\n",
        "[GridSearchCV] C=10.0, gamma=0.2 ...............................................\n",
        "[GridSearchCV] ...................... C=10.0, gamma=0.2, score=0.576923 -   0.1s"
       ]
      },
      {
       "output_type": "stream",
       "stream": "stdout",
       "text": [
        "\n",
        "[GridSearchCV] C=10.0, gamma=0.2 ...............................................\n",
        "[GridSearchCV] ...................... C=10.0, gamma=0.2, score=0.562232 -   0.1s"
       ]
      },
      {
       "output_type": "stream",
       "stream": "stdout",
       "text": [
        "\n",
        "[GridSearchCV] C=10.0, gamma=0.2 ...............................................\n",
        "[GridSearchCV] ...................... C=10.0, gamma=0.2, score=0.562232 -   0.1s"
       ]
      },
      {
       "output_type": "stream",
       "stream": "stdout",
       "text": [
        "\n",
        "[GridSearchCV] C=10.0, gamma=0.3 ...............................................\n",
        "[GridSearchCV] ...................... C=10.0, gamma=0.3, score=0.576923 -   0.1s"
       ]
      },
      {
       "output_type": "stream",
       "stream": "stdout",
       "text": [
        "\n",
        "[GridSearchCV] C=10.0, gamma=0.3 ...............................................\n",
        "[GridSearchCV] ...................... C=10.0, gamma=0.3, score=0.566524 -   0.1s"
       ]
      },
      {
       "output_type": "stream",
       "stream": "stdout",
       "text": [
        "\n",
        "[GridSearchCV] C=10.0, gamma=0.3 ...............................................\n",
        "[GridSearchCV] ...................... C=10.0, gamma=0.3, score=0.532189 -   0.1s"
       ]
      },
      {
       "output_type": "stream",
       "stream": "stdout",
       "text": [
        "\n",
        "[GridSearchCV] C=10.0, gamma=0.4 ...............................................\n",
        "[GridSearchCV] ...................... C=10.0, gamma=0.4, score=0.581197 -   0.1s"
       ]
      },
      {
       "output_type": "stream",
       "stream": "stdout",
       "text": [
        "\n",
        "[GridSearchCV] C=10.0, gamma=0.4 ...............................................\n",
        "[GridSearchCV] ...................... C=10.0, gamma=0.4, score=0.562232 -   0.1s"
       ]
      },
      {
       "output_type": "stream",
       "stream": "stdout",
       "text": [
        "\n",
        "[GridSearchCV] C=10.0, gamma=0.4 ...............................................\n",
        "[GridSearchCV] ...................... C=10.0, gamma=0.4, score=0.527897 -   0.1s"
       ]
      },
      {
       "output_type": "stream",
       "stream": "stdout",
       "text": [
        "\n",
        "[GridSearchCV] C=10.0, gamma=0.5 ...............................................\n",
        "[GridSearchCV] ...................... C=10.0, gamma=0.5, score=0.581197 -   0.1s"
       ]
      },
      {
       "output_type": "stream",
       "stream": "stdout",
       "text": [
        "\n",
        "[GridSearchCV] C=10.0, gamma=0.5 ...............................................\n",
        "[GridSearchCV] ...................... C=10.0, gamma=0.5, score=0.557940 -   0.1s"
       ]
      },
      {
       "output_type": "stream",
       "stream": "stdout",
       "text": [
        "\n",
        "[GridSearchCV] C=10.0, gamma=0.5 ...............................................\n",
        "[GridSearchCV] ...................... C=10.0, gamma=0.5, score=0.536481 -   0.1s"
       ]
      },
      {
       "output_type": "stream",
       "stream": "stdout",
       "text": [
        "\n",
        "[GridSearchCV] C=100.0, gamma=0.1 ..............................................\n",
        "[GridSearchCV] ..................... C=100.0, gamma=0.1, score=0.581197 -   0.1s"
       ]
      },
      {
       "output_type": "stream",
       "stream": "stdout",
       "text": [
        "\n",
        "[GridSearchCV] C=100.0, gamma=0.1 ..............................................\n",
        "[GridSearchCV] ..................... C=100.0, gamma=0.1, score=0.557940 -   0.1s"
       ]
      },
      {
       "output_type": "stream",
       "stream": "stdout",
       "text": [
        "\n",
        "[GridSearchCV] C=100.0, gamma=0.1 ..............................................\n",
        "[GridSearchCV] ..................... C=100.0, gamma=0.1, score=0.540773 -   0.1s"
       ]
      },
      {
       "output_type": "stream",
       "stream": "stdout",
       "text": [
        "\n",
        "[GridSearchCV] C=100.0, gamma=0.2 ..............................................\n",
        "[GridSearchCV] ..................... C=100.0, gamma=0.2, score=0.576923 -   0.1s"
       ]
      },
      {
       "output_type": "stream",
       "stream": "stdout",
       "text": [
        "\n",
        "[GridSearchCV] C=100.0, gamma=0.2 ..............................................\n",
        "[GridSearchCV] ..................... C=100.0, gamma=0.2, score=0.566524 -   0.1s"
       ]
      },
      {
       "output_type": "stream",
       "stream": "stdout",
       "text": [
        "\n",
        "[GridSearchCV] C=100.0, gamma=0.2 ..............................................\n",
        "[GridSearchCV] ..................... C=100.0, gamma=0.2, score=0.532189 -   0.1s"
       ]
      },
      {
       "output_type": "stream",
       "stream": "stdout",
       "text": [
        "\n",
        "[GridSearchCV] C=100.0, gamma=0.3 ..............................................\n",
        "[GridSearchCV] ..................... C=100.0, gamma=0.3, score=0.581197 -   0.1s"
       ]
      },
      {
       "output_type": "stream",
       "stream": "stdout",
       "text": [
        "\n",
        "[GridSearchCV] C=100.0, gamma=0.3 ..............................................\n",
        "[GridSearchCV] ..................... C=100.0, gamma=0.3, score=0.566524 -   0.1s"
       ]
      },
      {
       "output_type": "stream",
       "stream": "stdout",
       "text": [
        "\n",
        "[GridSearchCV] C=100.0, gamma=0.3 ..............................................\n",
        "[GridSearchCV] ..................... C=100.0, gamma=0.3, score=0.536481 -   0.1s"
       ]
      },
      {
       "output_type": "stream",
       "stream": "stdout",
       "text": [
        "\n",
        "[GridSearchCV] C=100.0, gamma=0.4 ..............................................\n",
        "[GridSearchCV] ..................... C=100.0, gamma=0.4, score=0.581197 -   0.1s"
       ]
      },
      {
       "output_type": "stream",
       "stream": "stdout",
       "text": [
        "\n",
        "[GridSearchCV] C=100.0, gamma=0.4 ..............................................\n",
        "[GridSearchCV] ..................... C=100.0, gamma=0.4, score=0.557940 -   0.1s"
       ]
      },
      {
       "output_type": "stream",
       "stream": "stdout",
       "text": [
        "\n",
        "[GridSearchCV] C=100.0, gamma=0.4 ..............................................\n",
        "[GridSearchCV] ..................... C=100.0, gamma=0.4, score=0.553648 -   0.1s"
       ]
      },
      {
       "output_type": "stream",
       "stream": "stdout",
       "text": [
        "\n",
        "[GridSearchCV] C=100.0, gamma=0.5 ..............................................\n",
        "[GridSearchCV] ..................... C=100.0, gamma=0.5, score=0.568376 -   0.2s"
       ]
      },
      {
       "output_type": "stream",
       "stream": "stdout",
       "text": [
        "\n",
        "[GridSearchCV] C=100.0, gamma=0.5 ..............................................\n",
        "[GridSearchCV] ..................... C=100.0, gamma=0.5, score=0.557940 -   0.1s"
       ]
      },
      {
       "output_type": "stream",
       "stream": "stdout",
       "text": [
        "\n",
        "[GridSearchCV] C=100.0, gamma=0.5 ..............................................\n",
        "[GridSearchCV] ..................... C=100.0, gamma=0.5, score=0.553648 -   0.1s"
       ]
      },
      {
       "output_type": "stream",
       "stream": "stderr",
       "text": [
        "[Parallel(n_jobs=1)]: Done  72 jobs       | elapsed:    4.4s\n",
        "[Parallel(n_jobs=1)]: Done  75 out of  75 | elapsed:    4.8s finished\n"
       ]
      },
      {
       "output_type": "stream",
       "stream": "stdout",
       "text": [
        "\n",
        "('The best classifier is: ', SVC(C=0.1, cache_size=1000, class_weight=None, coef0=0.0, degree=3,\n",
        "  gamma=0.20000000000000001, kernel='rbf', max_iter=-1, probability=True,\n",
        "  random_state=None, shrinking=True, tol=0.001, verbose=False))"
       ]
      },
      {
       "output_type": "stream",
       "stream": "stdout",
       "text": [
        "\n",
        "best score 0.568571428571\n"
       ]
      },
      {
       "metadata": {},
       "output_type": "display_data",
       "png": "[encoded data removed]",
       "text": [
        "<matplotlib.figure.Figure at 0x107e90750>"
       ]
      }
     ],
     "prompt_number": 294
    },
    {
     "cell_type": "heading",
     "level": 2,
     "metadata": {},
     "source": [
      "HERE I AM"
     ]
    },
    {
     "cell_type": "code",
     "collapsed": false,
     "input": [
      "#####ff= [14, 12, 39, 6, 18, 36, 34, 32, 29, 23, 4, 7, 11, 31, 33, 35]\n",
      "#ff= [14, 12, 39, 6, 18, 36, 34, 32, 29, 4, 28, 22, 7, 11, 31]\n",
      "####ff= [14, 12, 6, 18, 34, 32, 29, 23, 4, 28, 7, 31, 1, 33, 35]\n",
      "#ff= [14, 12, 39, 6, 36, 32, 23, 4, 22, 7, 11, 31, 1, 33]\n",
      "\n",
      "#ff= [14, 12, 39, 6, 18, 36, 34, 32, 29, 4, 28, 22, 7, 11, 31, 35, 1]\n",
      "ff = [14, 39, 28, 26, 20, 15, 12, 6, 32, 36, 34, 4, 38, 29]\n",
      "print len(ff)\n",
      "x_all = np.array(data.ix[:,ff])"
     ],
     "language": "python",
     "metadata": {},
     "outputs": [
      {
       "output_type": "stream",
       "stream": "stdout",
       "text": [
        "14\n"
       ]
      }
     ],
     "prompt_number": 483
    },
    {
     "cell_type": "code",
     "collapsed": false,
     "input": [
      "from sklearn.decomposition import RandomizedPCA\n",
      "pca = RandomizedPCA(n_components=12, whiten=True)\n",
      "pca.fit(np.array(data.ix[:,ff]))\n",
      "x_all = pca.transform(x_all)"
     ],
     "language": "python",
     "metadata": {},
     "outputs": [],
     "prompt_number": 484
    },
    {
     "cell_type": "code",
     "collapsed": false,
     "input": [
      "limit_cv = 200\n",
      "\n",
      "X_CV = x_all[0:limit_cv,:]\n",
      "Y_CV = y_all[0:limit_cv]\n",
      "\n",
      "X_TR = x_all[limit_cv:,:]\n",
      "Y_TR = y_all[limit_cv:]"
     ],
     "language": "python",
     "metadata": {},
     "outputs": [],
     "prompt_number": 485
    },
    {
     "cell_type": "code",
     "collapsed": false,
     "input": [
      "clf = svm.SVC(kernel='rbf', cache_size=1000, probability=True, C=1., gamma=0.2)\n",
      "limit_tr = 1000-limit_cv\n",
      "[A,B,C, acc, fu] = laundromat(clf, X_TR[0:limit_tr,:], Y_TR[0:limit_tr], X_TR[limit_tr:,:], 0.0, PCUT = 0.95)"
     ],
     "language": "python",
     "metadata": {},
     "outputs": [
      {
       "output_type": "stream",
       "stream": "stdout",
       "text": [
        "score on CV 90.5\n",
        "support vectors 553\n"
       ]
      }
     ],
     "prompt_number": 486
    },
    {
     "cell_type": "code",
     "collapsed": false,
     "input": [
      "clf = svm.SVC(kernel='rbf', cache_size=1000, probability=True, C=10000000., gamma=0.2)\n",
      "fu = False\n",
      "acc = 0.9\n",
      "while fu == False:\n",
      "    [A,B,C, acc, fu] = laundromat(clf, A, B, C, acc, PCUT = 0.99)\n",
      "    print 'C', C.shape"
     ],
     "language": "python",
     "metadata": {},
     "outputs": [
      {
       "output_type": "stream",
       "stream": "stdout",
       "text": [
        "score on CV 91.5\n",
        "support vectors 1139\n",
        "C"
       ]
      },
      {
       "output_type": "stream",
       "stream": "stdout",
       "text": [
        " (3212, 12)\n",
        "score on CV"
       ]
      },
      {
       "output_type": "stream",
       "stream": "stdout",
       "text": [
        " 91.5\n",
        "support vectors 1314\n",
        "C"
       ]
      },
      {
       "output_type": "stream",
       "stream": "stdout",
       "text": [
        " (3000, 12)\n",
        "score on CV"
       ]
      },
      {
       "output_type": "stream",
       "stream": "stdout",
       "text": [
        " 92.0\n",
        "support vectors 1369\n",
        "C"
       ]
      },
      {
       "output_type": "stream",
       "stream": "stdout",
       "text": [
        " (2868, 12)\n",
        "score on CV"
       ]
      },
      {
       "output_type": "stream",
       "stream": "stdout",
       "text": [
        " 92.5\n",
        "support vectors 1429\n",
        "C"
       ]
      },
      {
       "output_type": "stream",
       "stream": "stdout",
       "text": [
        " (2757, 12)\n",
        "score on CV"
       ]
      },
      {
       "output_type": "stream",
       "stream": "stdout",
       "text": [
        " 92.0\n",
        "support vectors 1481\n",
        "breaking out\n",
        "C (2757, 12)\n"
       ]
      }
     ],
     "prompt_number": 487
    },
    {
     "cell_type": "code",
     "collapsed": false,
     "input": [
      "print 'accuracy', acc\n",
      "print 'support v', clf.support_vectors_.shape[0]\n",
      "print 'A', A.shape\n",
      "print 'B', B.shape\n",
      "print 'C', C.shape"
     ],
     "language": "python",
     "metadata": {},
     "outputs": [
      {
       "output_type": "stream",
       "stream": "stdout",
       "text": [
        "accuracy 96.6666666667\n",
        "support v 1548\n",
        "A (8500, 12)\n",
        "B (8500,)\n",
        "C (1200, 12)\n"
       ]
      }
     ],
     "prompt_number": 219
    }
   ],
   "metadata": {}
  }
 ]
}