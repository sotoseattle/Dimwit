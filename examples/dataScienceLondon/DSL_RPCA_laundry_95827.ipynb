{
 "metadata": {
  "name": ""
 },
 "nbformat": 3,
 "nbformat_minor": 0,
 "worksheets": [
  {
   "cells": [
    {
     "cell_type": "code",
     "collapsed": false,
     "input": [
      "%cd '~/Dropbox/fjs6/Journal/ideolog/Dimwit/examples/dataScienceLondon/data/'"
     ],
     "language": "python",
     "metadata": {},
     "outputs": [
      {
       "output_type": "stream",
       "stream": "stdout",
       "text": [
        "/Users/fjs6/Dropbox/fjs6/Journal/ideolog/Dimwit/examples/dataScienceLondon/data\n"
       ]
      }
     ],
     "prompt_number": 529
    },
    {
     "cell_type": "code",
     "collapsed": false,
     "input": [
      "import numpy as np\n",
      "from pandas import *\n",
      "import pandas\n",
      "import math\n",
      "import random\n",
      "from sklearn import preprocessing\n",
      "from sklearn import svm\n",
      "from sklearn.svm import SVC\n",
      "from sklearn.cross_validation import StratifiedKFold\n",
      "from sklearn.grid_search import GridSearchCV\n",
      "from sklearn.decomposition import PCA\n",
      "\n",
      "import sys\n",
      "sys.path.append('/Users/fjs6/Dropbox/fjs6/Journal/ideolog/Dimwit')\n"
     ],
     "language": "python",
     "metadata": {},
     "outputs": [],
     "prompt_number": 530
    },
    {
     "cell_type": "code",
     "collapsed": false,
     "input": [
      "tr_data = read_csv('train.csv', header=None)\n",
      "test_data = read_csv('test.csv', header=None)\n",
      "data = concat([tr_data, test_data], ignore_index=True)"
     ],
     "language": "python",
     "metadata": {},
     "outputs": [],
     "prompt_number": 531
    },
    {
     "cell_type": "code",
     "collapsed": false,
     "input": [
      "gt_data = read_csv('trainLabels.csv', header=None)"
     ],
     "language": "python",
     "metadata": {},
     "outputs": [],
     "prompt_number": 532
    },
    {
     "cell_type": "code",
     "collapsed": false,
     "input": [
      "def laundromat(model, X, Y, XUniverse, max_acc, PCUT = 0.95):\n",
      "    # train\n",
      "    model.fit(X, Y)\n",
      "    \n",
      "    # evaluate\n",
      "    p = model.predict(X_CV)\n",
      "    count = 0.0\n",
      "    M_CV = len(Y_CV)\n",
      "    for i in range(M_CV):\n",
      "        if p[i]==Y_CV[i]:\n",
      "            count+=1\n",
      "    acc = 100*count/M_CV\n",
      "    print 'score on CV', acc\n",
      "    print 'support vectors', model.support_vectors_.shape[0]\n",
      "    if acc < max_acc:\n",
      "        print 'breaking out'\n",
      "        return [X, Y, XUniverse, max_acc, True]\n",
      "    \n",
      "    # go deeper\n",
      "    prob = model.predict_proba(XUniverse)\n",
      "    M_U, N_U = XUniverse.shape\n",
      "    X1 = X.copy()\n",
      "    Y1 = Y.copy()\n",
      "    X_Rest = np.zeros((1, N_U))\n",
      "\n",
      "    for i in range(M_U):\n",
      "        y = np.argmax(prob[i,:])\n",
      "        p = np.max(prob[i,:])\n",
      "        record = XUniverse[i:i+1,:]\n",
      "        if p > PCUT:\n",
      "            X1 = np.append(X1, record, axis=0)\n",
      "            Y1 = np.append(Y1, y)\n",
      "        else:\n",
      "            X_Rest = np.vstack([X_Rest, record])\n",
      "    X_Rest = np.delete(X_Rest, 0, 0)\n",
      "    return [X1, Y1, X_Rest, acc, False]\n"
     ],
     "language": "python",
     "metadata": {},
     "outputs": [],
     "prompt_number": 533
    },
    {
     "cell_type": "code",
     "collapsed": false,
     "input": [
      "def heatmap(grid, C_range, g_range):\n",
      "    print(\"The best classifier is: \", grid.best_estimator_)\n",
      "    print 'best score', grid.best_score_\n",
      "    score_dict = grid.grid_scores_\n",
      "    scores = [x[1] for x in score_dict]\n",
      "    scores = np.array(scores).reshape(len(C_range), len(g_range))\n",
      "\n",
      "    plt.figure(figsize=(8, 6))\n",
      "    plt.subplots_adjust(left=0.05, right=0.95, bottom=0.15, top=0.95)\n",
      "    plt.imshow(scores, interpolation='nearest', cmap=plt.cm.spectral)\n",
      "    plt.xlabel('g')\n",
      "    plt.ylabel('C')\n",
      "    plt.colorbar()\n",
      "    plt.xticks(np.arange(len(g_range)), g_range, rotation=45)\n",
      "    plt.yticks(np.arange(len(C_range)), C_range)\n",
      "    plt.show()"
     ],
     "language": "python",
     "metadata": {},
     "outputs": [],
     "prompt_number": 534
    },
    {
     "cell_type": "heading",
     "level": 2,
     "metadata": {},
     "source": [
      "PCA"
     ]
    },
    {
     "cell_type": "code",
     "collapsed": false,
     "input": [
      "# scale and arraify training data\n",
      "#features = [14,12,29,6,36,39,7,4,28,19,22,18,38,3, 32, 34, 13, 11]\n",
      "#features = [14,12,29,6,36,39,7,4,28,19,22,18,38,3, 32, 34, 13, 11, 9, 30, 16, 23]\n",
      "features = [14,12,29,6,36,39,7,4,28,19,22,18,38,3, 32, 34, 13]\n",
      "x_all = np.array(data.ix[:,features])\n",
      "y_all = np.ravel(gt_data)"
     ],
     "language": "python",
     "metadata": {},
     "outputs": [],
     "prompt_number": 614
    },
    {
     "cell_type": "code",
     "collapsed": false,
     "input": [
      "from sklearn.decomposition import RandomizedPCA\n",
      "pca = RandomizedPCA(n_components=12, whiten=True)"
     ],
     "language": "python",
     "metadata": {},
     "outputs": [],
     "prompt_number": 615
    },
    {
     "cell_type": "code",
     "collapsed": false,
     "input": [
      "pca.fit(x_all)\n",
      "x_all = pca.transform(x_all)"
     ],
     "language": "python",
     "metadata": {},
     "outputs": [],
     "prompt_number": 616
    },
    {
     "cell_type": "code",
     "collapsed": false,
     "input": [
      "np.sum(pca.explained_variance_[0:12])"
     ],
     "language": "python",
     "metadata": {},
     "outputs": [
      {
       "metadata": {},
       "output_type": "pyout",
       "prompt_number": 617,
       "text": [
        "97.48568173999621"
       ]
      }
     ],
     "prompt_number": 617
    },
    {
     "cell_type": "code",
     "collapsed": false,
     "input": [
      "x_all.shape"
     ],
     "language": "python",
     "metadata": {},
     "outputs": [
      {
       "metadata": {},
       "output_type": "pyout",
       "prompt_number": 618,
       "text": [
        "(10000, 12)"
       ]
      }
     ],
     "prompt_number": 618
    },
    {
     "cell_type": "heading",
     "level": 2,
     "metadata": {},
     "source": [
      "SVM"
     ]
    },
    {
     "cell_type": "code",
     "collapsed": false,
     "input": [
      "limit_cv = 100\n",
      "\n",
      "X_CV = x_all[0:limit_cv,:]\n",
      "Y_CV = y_all[0:limit_cv]\n",
      "\n",
      "X_TR = x_all[limit_cv:,:]\n",
      "Y_TR = y_all[limit_cv:]"
     ],
     "language": "python",
     "metadata": {},
     "outputs": [],
     "prompt_number": 634
    },
    {
     "cell_type": "code",
     "collapsed": false,
     "input": [
      "C_range = [0.01, 0.1, 1., 10.]\n",
      "g_range = np.arange(0.1, .6, 0.1)\n",
      "#g_range = [1.]\n",
      "limit_tr = 1000-limit_cv\n",
      "\n",
      "param_grid = dict(gamma=g_range, C=C_range)\n",
      "clfo = svm.SVC(kernel='rbf', cache_size=1000, probability=True)\n",
      "\n",
      "cv = StratifiedKFold(Y_TR[0:limit_tr], n_folds=3)\n",
      "grid = GridSearchCV(clfo, param_grid=param_grid, cv=cv, verbose=5)\n",
      "\n",
      "grid.fit(X_TR[0:limit_tr,:], Y_TR[0:limit_tr])\n",
      "print(\"The best classifier is: \", grid.best_estimator_)\n",
      "print 'best score', grid.best_score_\n",
      "score_dict = grid.grid_scores_\n",
      "scores = [x[1] for x in score_dict]\n",
      "scores = np.array(scores).reshape(len(C_range), len(g_range))\n",
      "\n",
      "plt.figure(figsize=(8, 6))\n",
      "plt.subplots_adjust(left=0.05, right=0.95, bottom=0.15, top=0.95)\n",
      "plt.imshow(scores, interpolation='nearest', cmap=plt.cm.spectral)\n",
      "plt.xlabel('g')\n",
      "plt.ylabel('C')\n",
      "plt.colorbar()\n",
      "plt.xticks(np.arange(len(g_range)), g_range, rotation=45)\n",
      "plt.yticks(np.arange(len(C_range)), C_range)\n",
      "plt.show()"
     ],
     "language": "python",
     "metadata": {},
     "outputs": [
      {
       "output_type": "stream",
       "stream": "stdout",
       "text": [
        "Fitting 3 folds for each of 20 candidates, totalling 60 fits\n",
        "[GridSearchCV] C=0.01, gamma=0.1 ...............................................\n",
        "[GridSearchCV] ...................... C=0.01, gamma=0.1, score=0.509363 -   0.2s"
       ]
      },
      {
       "output_type": "stream",
       "stream": "stdout",
       "text": [
        "\n",
        "[GridSearchCV] C=0.01, gamma=0.1 ...............................................\n",
        "[GridSearchCV] ...................... C=0.01, gamma=0.1, score=0.509363 -   0.1s"
       ]
      },
      {
       "output_type": "stream",
       "stream": "stdout",
       "text": [
        "\n",
        "[GridSearchCV] C=0.01, gamma=0.1 ...............................................\n",
        "[GridSearchCV] ...................... C=0.01, gamma=0.1, score=0.511278 -   0.1s"
       ]
      },
      {
       "output_type": "stream",
       "stream": "stdout",
       "text": [
        "\n",
        "[GridSearchCV] C=0.01, gamma=0.2 ...............................................\n",
        "[GridSearchCV] ...................... C=0.01, gamma=0.2, score=0.509363 -   0.1s"
       ]
      },
      {
       "output_type": "stream",
       "stream": "stdout",
       "text": [
        "\n",
        "[GridSearchCV] C=0.01, gamma=0.2 ...............................................\n",
        "[GridSearchCV] ...................... C=0.01, gamma=0.2, score=0.509363 -   0.1s"
       ]
      },
      {
       "output_type": "stream",
       "stream": "stdout",
       "text": [
        "\n",
        "[GridSearchCV] C=0.01, gamma=0.2 ...............................................\n",
        "[GridSearchCV] ...................... C=0.01, gamma=0.2, score=0.511278 -   0.1s"
       ]
      },
      {
       "output_type": "stream",
       "stream": "stdout",
       "text": [
        "\n",
        "[GridSearchCV] C=0.01, gamma=0.3 ...............................................\n",
        "[GridSearchCV] ...................... C=0.01, gamma=0.3, score=0.509363 -   0.1s"
       ]
      },
      {
       "output_type": "stream",
       "stream": "stdout",
       "text": [
        "\n",
        "[GridSearchCV] C=0.01, gamma=0.3 ...............................................\n",
        "[GridSearchCV] ...................... C=0.01, gamma=0.3, score=0.509363 -   0.1s"
       ]
      },
      {
       "output_type": "stream",
       "stream": "stdout",
       "text": [
        "\n",
        "[GridSearchCV] C=0.01, gamma=0.3 ...............................................\n",
        "[GridSearchCV] ...................... C=0.01, gamma=0.3, score=0.511278 -   0.1s"
       ]
      },
      {
       "output_type": "stream",
       "stream": "stdout",
       "text": [
        "\n",
        "[GridSearchCV] C=0.01, gamma=0.4 ...............................................\n",
        "[GridSearchCV] ...................... C=0.01, gamma=0.4, score=0.509363 -   0.1s"
       ]
      },
      {
       "output_type": "stream",
       "stream": "stdout",
       "text": [
        "\n",
        "[GridSearchCV] C=0.01, gamma=0.4 ...............................................\n",
        "[GridSearchCV] ...................... C=0.01, gamma=0.4, score=0.509363 -   0.1s"
       ]
      },
      {
       "output_type": "stream",
       "stream": "stdout",
       "text": [
        "\n",
        "[GridSearchCV] C=0.01, gamma=0.4 ...............................................\n",
        "[GridSearchCV] ...................... C=0.01, gamma=0.4, score=0.511278 -   0.1s"
       ]
      },
      {
       "output_type": "stream",
       "stream": "stdout",
       "text": [
        "\n",
        "[GridSearchCV] C=0.01, gamma=0.5 ...............................................\n",
        "[GridSearchCV] ...................... C=0.01, gamma=0.5, score=0.509363 -   0.1s"
       ]
      },
      {
       "output_type": "stream",
       "stream": "stdout",
       "text": [
        "\n",
        "[GridSearchCV] C=0.01, gamma=0.5 ...............................................\n",
        "[GridSearchCV] ...................... C=0.01, gamma=0.5, score=0.509363 -   0.1s"
       ]
      },
      {
       "output_type": "stream",
       "stream": "stdout",
       "text": [
        "\n",
        "[GridSearchCV] C=0.01, gamma=0.5 ...............................................\n",
        "[GridSearchCV] ...................... C=0.01, gamma=0.5, score=0.511278 -   0.1s"
       ]
      },
      {
       "output_type": "stream",
       "stream": "stdout",
       "text": [
        "\n",
        "[GridSearchCV] C=0.1, gamma=0.1 ................................................\n",
        "[GridSearchCV] ....................... C=0.1, gamma=0.1, score=0.880150 -   0.1s"
       ]
      },
      {
       "output_type": "stream",
       "stream": "stdout",
       "text": [
        "\n",
        "[GridSearchCV] C=0.1, gamma=0.1 ................................................\n",
        "[GridSearchCV] ....................... C=0.1, gamma=0.1, score=0.883895 -   0.1s"
       ]
      },
      {
       "output_type": "stream",
       "stream": "stdout",
       "text": [
        "\n",
        "[GridSearchCV] C=0.1, gamma=0.1 ................................................\n",
        "[GridSearchCV] ....................... C=0.1, gamma=0.1, score=0.909774 -   0.1s"
       ]
      },
      {
       "output_type": "stream",
       "stream": "stderr",
       "text": [
        "[Parallel(n_jobs=1)]: Done   1 jobs       | elapsed:    0.2s\n",
        "[Parallel(n_jobs=1)]: Done  18 jobs       | elapsed:    1.8s\n"
       ]
      },
      {
       "output_type": "stream",
       "stream": "stdout",
       "text": [
        "\n",
        "[GridSearchCV] C=0.1, gamma=0.2 ................................................\n",
        "[GridSearchCV] ....................... C=0.1, gamma=0.2, score=0.887640 -   0.1s"
       ]
      },
      {
       "output_type": "stream",
       "stream": "stdout",
       "text": [
        "\n",
        "[GridSearchCV] C=0.1, gamma=0.2 ................................................\n",
        "[GridSearchCV] ....................... C=0.1, gamma=0.2, score=0.895131 -   0.1s"
       ]
      },
      {
       "output_type": "stream",
       "stream": "stdout",
       "text": [
        "\n",
        "[GridSearchCV] C=0.1, gamma=0.2 ................................................\n",
        "[GridSearchCV] ....................... C=0.1, gamma=0.2, score=0.890977 -   0.1s"
       ]
      },
      {
       "output_type": "stream",
       "stream": "stdout",
       "text": [
        "\n",
        "[GridSearchCV] C=0.1, gamma=0.3 ................................................\n",
        "[GridSearchCV] ....................... C=0.1, gamma=0.3, score=0.569288 -   0.1s"
       ]
      },
      {
       "output_type": "stream",
       "stream": "stdout",
       "text": [
        "\n",
        "[GridSearchCV] C=0.1, gamma=0.3 ................................................\n",
        "[GridSearchCV] ....................... C=0.1, gamma=0.3, score=0.573034 -   0.1s"
       ]
      },
      {
       "output_type": "stream",
       "stream": "stdout",
       "text": [
        "\n",
        "[GridSearchCV] C=0.1, gamma=0.3 ................................................\n",
        "[GridSearchCV] ....................... C=0.1, gamma=0.3, score=0.563910 -   0.1s"
       ]
      },
      {
       "output_type": "stream",
       "stream": "stdout",
       "text": [
        "\n",
        "[GridSearchCV] C=0.1, gamma=0.4 ................................................\n",
        "[GridSearchCV] ....................... C=0.1, gamma=0.4, score=0.509363 -   0.1s"
       ]
      },
      {
       "output_type": "stream",
       "stream": "stdout",
       "text": [
        "\n",
        "[GridSearchCV] C=0.1, gamma=0.4 ................................................\n",
        "[GridSearchCV] ....................... C=0.1, gamma=0.4, score=0.509363 -   0.1s"
       ]
      },
      {
       "output_type": "stream",
       "stream": "stdout",
       "text": [
        "\n",
        "[GridSearchCV] C=0.1, gamma=0.4 ................................................\n",
        "[GridSearchCV] ....................... C=0.1, gamma=0.4, score=0.511278 -   0.1s"
       ]
      },
      {
       "output_type": "stream",
       "stream": "stdout",
       "text": [
        "\n",
        "[GridSearchCV] C=0.1, gamma=0.5 ................................................\n",
        "[GridSearchCV] ....................... C=0.1, gamma=0.5, score=0.509363 -   0.1s"
       ]
      },
      {
       "output_type": "stream",
       "stream": "stdout",
       "text": [
        "\n",
        "[GridSearchCV] C=0.1, gamma=0.5 ................................................\n",
        "[GridSearchCV] ....................... C=0.1, gamma=0.5, score=0.509363 -   0.1s"
       ]
      },
      {
       "output_type": "stream",
       "stream": "stdout",
       "text": [
        "\n",
        "[GridSearchCV] C=0.1, gamma=0.5 ................................................\n",
        "[GridSearchCV] ....................... C=0.1, gamma=0.5, score=0.511278 -   0.1s"
       ]
      },
      {
       "output_type": "stream",
       "stream": "stdout",
       "text": [
        "\n",
        "[GridSearchCV] C=1.0, gamma=0.1 ................................................\n",
        "[GridSearchCV] ....................... C=1.0, gamma=0.1, score=0.921348 -   0.1s"
       ]
      },
      {
       "output_type": "stream",
       "stream": "stdout",
       "text": [
        "\n",
        "[GridSearchCV] C=1.0, gamma=0.1 ................................................\n",
        "[GridSearchCV] ....................... C=1.0, gamma=0.1, score=0.932584 -   0.1s"
       ]
      },
      {
       "output_type": "stream",
       "stream": "stdout",
       "text": [
        "\n",
        "[GridSearchCV] C=1.0, gamma=0.1 ................................................\n",
        "[GridSearchCV] ....................... C=1.0, gamma=0.1, score=0.943609 -   0.1s"
       ]
      },
      {
       "output_type": "stream",
       "stream": "stdout",
       "text": [
        "\n",
        "[GridSearchCV] C=1.0, gamma=0.2 ................................................\n",
        "[GridSearchCV] ....................... C=1.0, gamma=0.2, score=0.928839 -   0.1s"
       ]
      },
      {
       "output_type": "stream",
       "stream": "stdout",
       "text": [
        "\n",
        "[GridSearchCV] C=1.0, gamma=0.2 ................................................\n",
        "[GridSearchCV] ....................... C=1.0, gamma=0.2, score=0.951311 -   0.1s"
       ]
      },
      {
       "output_type": "stream",
       "stream": "stdout",
       "text": [
        "\n",
        "[GridSearchCV] C=1.0, gamma=0.2 ................................................\n",
        "[GridSearchCV] ....................... C=1.0, gamma=0.2, score=0.951128 -   0.1s"
       ]
      },
      {
       "output_type": "stream",
       "stream": "stdout",
       "text": [
        "\n",
        "[GridSearchCV] C=1.0, gamma=0.3 ................................................\n",
        "[GridSearchCV] ....................... C=1.0, gamma=0.3, score=0.925094 -   0.1s"
       ]
      },
      {
       "output_type": "stream",
       "stream": "stdout",
       "text": [
        "\n",
        "[GridSearchCV] C=1.0, gamma=0.3 ................................................\n",
        "[GridSearchCV] ....................... C=1.0, gamma=0.3, score=0.936330 -   0.1s"
       ]
      },
      {
       "output_type": "stream",
       "stream": "stdout",
       "text": [
        "\n",
        "[GridSearchCV] C=1.0, gamma=0.3 ................................................\n",
        "[GridSearchCV] ....................... C=1.0, gamma=0.3, score=0.936090 -   0.1s"
       ]
      },
      {
       "output_type": "stream",
       "stream": "stdout",
       "text": [
        "\n",
        "[GridSearchCV] C=1.0, gamma=0.4 ................................................\n",
        "[GridSearchCV] ....................... C=1.0, gamma=0.4, score=0.917603 -   0.1s"
       ]
      },
      {
       "output_type": "stream",
       "stream": "stdout",
       "text": [
        "\n",
        "[GridSearchCV] C=1.0, gamma=0.4 ................................................\n",
        "[GridSearchCV] ....................... C=1.0, gamma=0.4, score=0.936330 -   0.1s"
       ]
      },
      {
       "output_type": "stream",
       "stream": "stdout",
       "text": [
        "\n",
        "[GridSearchCV] C=1.0, gamma=0.4 ................................................\n",
        "[GridSearchCV] ....................... C=1.0, gamma=0.4, score=0.913534 -   0.1s"
       ]
      },
      {
       "output_type": "stream",
       "stream": "stdout",
       "text": [
        "\n",
        "[GridSearchCV] C=1.0, gamma=0.5 ................................................\n",
        "[GridSearchCV] ....................... C=1.0, gamma=0.5, score=0.898876 -   0.1s"
       ]
      },
      {
       "output_type": "stream",
       "stream": "stdout",
       "text": [
        "\n",
        "[GridSearchCV] C=1.0, gamma=0.5 ................................................\n",
        "[GridSearchCV] ....................... C=1.0, gamma=0.5, score=0.928839 -   0.1s"
       ]
      },
      {
       "output_type": "stream",
       "stream": "stdout",
       "text": [
        "\n",
        "[GridSearchCV] C=1.0, gamma=0.5 ................................................\n",
        "[GridSearchCV] ....................... C=1.0, gamma=0.5, score=0.894737 -   0.1s"
       ]
      },
      {
       "output_type": "stream",
       "stream": "stdout",
       "text": [
        "\n",
        "[GridSearchCV] C=10.0, gamma=0.1 ...............................................\n",
        "[GridSearchCV] ...................... C=10.0, gamma=0.1, score=0.921348 -   0.1s"
       ]
      },
      {
       "output_type": "stream",
       "stream": "stdout",
       "text": [
        "\n",
        "[GridSearchCV] C=10.0, gamma=0.1 ...............................................\n",
        "[GridSearchCV] ...................... C=10.0, gamma=0.1, score=0.936330 -   0.1s"
       ]
      },
      {
       "output_type": "stream",
       "stream": "stdout",
       "text": [
        "\n",
        "[GridSearchCV] C=10.0, gamma=0.1 ...............................................\n",
        "[GridSearchCV] ...................... C=10.0, gamma=0.1, score=0.928571 -   0.1s"
       ]
      },
      {
       "output_type": "stream",
       "stream": "stdout",
       "text": [
        "\n",
        "[GridSearchCV] C=10.0, gamma=0.2 ...............................................\n",
        "[GridSearchCV] ...................... C=10.0, gamma=0.2, score=0.925094 -   0.1s"
       ]
      },
      {
       "output_type": "stream",
       "stream": "stdout",
       "text": [
        "\n",
        "[GridSearchCV] C=10.0, gamma=0.2 ...............................................\n",
        "[GridSearchCV] ...................... C=10.0, gamma=0.2, score=0.947566 -   0.1s"
       ]
      },
      {
       "output_type": "stream",
       "stream": "stdout",
       "text": [
        "\n",
        "[GridSearchCV] C=10.0, gamma=0.2 ...............................................\n",
        "[GridSearchCV] ...................... C=10.0, gamma=0.2, score=0.924812 -   0.1s"
       ]
      },
      {
       "output_type": "stream",
       "stream": "stdout",
       "text": [
        "\n",
        "[GridSearchCV] C=10.0, gamma=0.3 ...............................................\n",
        "[GridSearchCV] ...................... C=10.0, gamma=0.3, score=0.925094 -   0.1s"
       ]
      },
      {
       "output_type": "stream",
       "stream": "stdout",
       "text": [
        "\n",
        "[GridSearchCV] C=10.0, gamma=0.3 ...............................................\n",
        "[GridSearchCV] ...................... C=10.0, gamma=0.3, score=0.940075 -   0.1s"
       ]
      },
      {
       "output_type": "stream",
       "stream": "stdout",
       "text": [
        "\n",
        "[GridSearchCV] C=10.0, gamma=0.3 ...............................................\n",
        "[GridSearchCV] ...................... C=10.0, gamma=0.3, score=0.921053 -   0.1s"
       ]
      },
      {
       "output_type": "stream",
       "stream": "stdout",
       "text": [
        "\n",
        "[GridSearchCV] C=10.0, gamma=0.4 ...............................................\n",
        "[GridSearchCV] ...................... C=10.0, gamma=0.4, score=0.921348 -   0.1s"
       ]
      },
      {
       "output_type": "stream",
       "stream": "stdout",
       "text": [
        "\n",
        "[GridSearchCV] C=10.0, gamma=0.4 ...............................................\n",
        "[GridSearchCV] ...................... C=10.0, gamma=0.4, score=0.936330 -   0.1s"
       ]
      },
      {
       "output_type": "stream",
       "stream": "stdout",
       "text": [
        "\n",
        "[GridSearchCV] C=10.0, gamma=0.4 ...............................................\n",
        "[GridSearchCV] ...................... C=10.0, gamma=0.4, score=0.902256 -   0.1s"
       ]
      },
      {
       "output_type": "stream",
       "stream": "stdout",
       "text": [
        "\n",
        "[GridSearchCV] C=10.0, gamma=0.5 ...............................................\n",
        "[GridSearchCV] ...................... C=10.0, gamma=0.5, score=0.906367 -   0.1s"
       ]
      },
      {
       "output_type": "stream",
       "stream": "stdout",
       "text": [
        "\n",
        "[GridSearchCV] C=10.0, gamma=0.5 ...............................................\n",
        "[GridSearchCV] ...................... C=10.0, gamma=0.5, score=0.928839 -   0.2s"
       ]
      },
      {
       "output_type": "stream",
       "stream": "stdout",
       "text": [
        "\n",
        "[GridSearchCV] C=10.0, gamma=0.5 ...............................................\n",
        "[GridSearchCV] ...................... C=10.0, gamma=0.5, score=0.890977 -   0.4s"
       ]
      },
      {
       "output_type": "stream",
       "stream": "stdout",
       "text": [
        "\n",
        "('The best classifier is: ', SVC(C=1.0, cache_size=1000, class_weight=None, coef0=0.0, degree=3,\n",
        "  gamma=0.20000000000000001, kernel='rbf', max_iter=-1, probability=True,\n",
        "  random_state=None, shrinking=True, tol=0.001, verbose=False))"
       ]
      },
      {
       "output_type": "stream",
       "stream": "stdout",
       "text": [
        "\n",
        "best score 0.94375\n"
       ]
      },
      {
       "output_type": "stream",
       "stream": "stderr",
       "text": [
        "[Parallel(n_jobs=1)]: Done  60 out of  60 | elapsed:    6.5s finished\n"
       ]
      },
      {
       "metadata": {},
       "output_type": "display_data",
       "png": "[encoded data removed]",
       "text": [
        "<matplotlib.figure.Figure at 0x1085d0190>"
       ]
      }
     ],
     "prompt_number": 551
    },
    {
     "cell_type": "code",
     "collapsed": false,
     "input": [
      "clf = svm.SVC(kernel='rbf', cache_size=1000, probability=True, C=1000000., gamma=0.2)\n",
      "limit_tr = 1000-limit_cv\n",
      "[A,B,C, acc, fu] = laundromat(clf, X_TR[0:limit_tr,:], Y_TR[0:limit_tr], X_TR[limit_tr:,:], 0.0, PCUT = 0.95)"
     ],
     "language": "python",
     "metadata": {},
     "outputs": [
      {
       "output_type": "stream",
       "stream": "stdout",
       "text": [
        "score on CV 96.0\n",
        "support vectors 508\n"
       ]
      }
     ],
     "prompt_number": 635
    },
    {
     "cell_type": "code",
     "collapsed": false,
     "input": [
      "clf = svm.SVC(kernel='rbf', cache_size=1000, probability=True, C=10000000., gamma=0.3)\n",
      "fu = False\n",
      "acc = 0.9\n",
      "while fu == False:\n",
      "    [A,B,C, acc, fu] = laundromat(clf, A, B, C, acc, PCUT = 0.99)\n",
      "    print 'C', C.shape"
     ],
     "language": "python",
     "metadata": {},
     "outputs": [
      {
       "output_type": "stream",
       "stream": "stdout",
       "text": [
        "score on CV 96.0\n",
        "support vectors 2233\n",
        "C"
       ]
      },
      {
       "output_type": "stream",
       "stream": "stdout",
       "text": [
        " (1713, 12)\n",
        "score on CV"
       ]
      },
      {
       "output_type": "stream",
       "stream": "stdout",
       "text": [
        " 96.0\n",
        "support vectors 2407\n",
        "C"
       ]
      },
      {
       "output_type": "stream",
       "stream": "stdout",
       "text": [
        " (1377, 12)\n",
        "score on CV"
       ]
      },
      {
       "output_type": "stream",
       "stream": "stdout",
       "text": [
        " 96.0\n",
        "support vectors 2528\n",
        "C"
       ]
      },
      {
       "output_type": "stream",
       "stream": "stdout",
       "text": [
        " (1287, 12)\n",
        "score on CV"
       ]
      },
      {
       "output_type": "stream",
       "stream": "stdout",
       "text": [
        " 97.0\n",
        "support vectors 2567\n",
        "C"
       ]
      },
      {
       "output_type": "stream",
       "stream": "stdout",
       "text": [
        " (1213, 12)\n",
        "score on CV"
       ]
      },
      {
       "output_type": "stream",
       "stream": "stdout",
       "text": [
        " 96.0\n",
        "support vectors 2595\n",
        "breaking out\n",
        "C (1213, 12)\n"
       ]
      }
     ],
     "prompt_number": 636
    },
    {
     "cell_type": "code",
     "collapsed": false,
     "input": [
      "print 'accuracy', acc\n",
      "print 'support v', clf.support_vectors_.shape[0]\n",
      "print 'A', A.shape\n",
      "print 'B', B.shape\n",
      "print 'C', C.shape"
     ],
     "language": "python",
     "metadata": {},
     "outputs": [
      {
       "output_type": "stream",
       "stream": "stdout",
       "text": [
        "accuracy 97.0\n",
        "support v 2595\n",
        "A (8687, 12)\n",
        "B (8687,)\n",
        "C (1213, 12)\n"
       ]
      }
     ],
     "prompt_number": 637
    },
    {
     "cell_type": "code",
     "collapsed": false,
     "input": [],
     "language": "python",
     "metadata": {},
     "outputs": []
    },
    {
     "cell_type": "code",
     "collapsed": false,
     "input": [],
     "language": "python",
     "metadata": {},
     "outputs": []
    },
    {
     "cell_type": "heading",
     "level": 4,
     "metadata": {},
     "source": [
      "FINAL TRAINING - SVM"
     ]
    },
    {
     "cell_type": "code",
     "collapsed": false,
     "input": [
      "XX = np.vstack([X_CV, A])\n",
      "YY = np.hstack([Y_CV, B])"
     ],
     "language": "python",
     "metadata": {},
     "outputs": [],
     "prompt_number": 639
    },
    {
     "cell_type": "code",
     "collapsed": false,
     "input": [
      "clf_svm = svm.SVC(kernel='rbf', cache_size=1000, probability=True, C=10000000, gamma = 0.3)\n",
      "clf_svm.fit(XX, YY)"
     ],
     "language": "python",
     "metadata": {},
     "outputs": [
      {
       "metadata": {},
       "output_type": "pyout",
       "prompt_number": 640,
       "text": [
        "SVC(C=10000000, cache_size=1000, class_weight=None, coef0=0.0, degree=3,\n",
        "  gamma=0.3, kernel='rbf', max_iter=-1, probability=True,\n",
        "  random_state=None, shrinking=True, tol=0.001, verbose=False)"
       ]
      }
     ],
     "prompt_number": 640
    },
    {
     "cell_type": "code",
     "collapsed": false,
     "input": [
      "clf_svm.support_vectors_.shape[0]"
     ],
     "language": "python",
     "metadata": {},
     "outputs": [
      {
       "metadata": {},
       "output_type": "pyout",
       "prompt_number": 641,
       "text": [
        "2613"
       ]
      }
     ],
     "prompt_number": 641
    },
    {
     "cell_type": "code",
     "collapsed": false,
     "input": [],
     "language": "python",
     "metadata": {},
     "outputs": [],
     "prompt_number": 641
    },
    {
     "cell_type": "code",
     "collapsed": false,
     "input": [
      "pp = clf_svm.predict(x_all[1000:, :])"
     ],
     "language": "python",
     "metadata": {},
     "outputs": [],
     "prompt_number": 642
    },
    {
     "cell_type": "code",
     "collapsed": false,
     "input": [
      "pp[0:10]"
     ],
     "language": "python",
     "metadata": {},
     "outputs": [
      {
       "metadata": {},
       "output_type": "pyout",
       "prompt_number": 643,
       "text": [
        "array([1, 0, 1, 0, 0, 0, 0, 1, 0, 0])"
       ]
      }
     ],
     "prompt_number": 643
    },
    {
     "cell_type": "code",
     "collapsed": false,
     "input": [
      "aa = range(1,9001)\n",
      "y_test = np.vstack([aa, pp]).T\n",
      "#print 'To submitt add header: Id,Solution'\n",
      "print y_test[0:10,:]\n",
      "np.savetxt('./predictions_domingo4.csv', y_test, fmt='%i,%i')"
     ],
     "language": "python",
     "metadata": {},
     "outputs": [
      {
       "output_type": "stream",
       "stream": "stdout",
       "text": [
        "[[ 1  1]\n",
        " [ 2  0]\n",
        " [ 3  1]\n",
        " [ 4  0]\n",
        " [ 5  0]\n",
        " [ 6  0]\n",
        " [ 7  0]\n",
        " [ 8  1]\n",
        " [ 9  0]\n",
        " [10  0]]\n"
       ]
      }
     ],
     "prompt_number": 644
    },
    {
     "cell_type": "code",
     "collapsed": false,
     "input": [],
     "language": "python",
     "metadata": {},
     "outputs": []
    }
   ],
   "metadata": {}
  }
 ]
}