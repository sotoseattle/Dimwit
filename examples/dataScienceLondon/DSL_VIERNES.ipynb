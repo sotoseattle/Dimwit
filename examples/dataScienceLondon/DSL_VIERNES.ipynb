{
 "metadata": {
  "name": ""
 },
 "nbformat": 3,
 "nbformat_minor": 0,
 "worksheets": [
  {
   "cells": [
    {
     "cell_type": "code",
     "collapsed": false,
     "input": [
      "A = np.random.random((5,5))"
     ],
     "language": "python",
     "metadata": {},
     "outputs": [],
     "prompt_number": 2
    },
    {
     "cell_type": "code",
     "collapsed": false,
     "input": [
      "A"
     ],
     "language": "python",
     "metadata": {},
     "outputs": [
      {
       "metadata": {},
       "output_type": "pyout",
       "prompt_number": 3,
       "text": [
        "array([[ 0.02003398,  0.80850618,  0.26171442,  0.90534065,  0.48086211],\n",
        "       [ 0.59561423,  0.09682294,  0.51911311,  0.4649654 ,  0.69449363],\n",
        "       [ 0.45467255,  0.64531156,  0.53235522,  0.66480583,  0.97152546],\n",
        "       [ 0.98980593,  0.92803435,  0.8526166 ,  0.4889861 ,  0.48705328],\n",
        "       [ 0.71738951,  0.79212702,  0.43551339,  0.39328309,  0.80108132]])"
       ]
      }
     ],
     "prompt_number": 3
    },
    {
     "cell_type": "code",
     "collapsed": false,
     "input": [],
     "language": "python",
     "metadata": {},
     "outputs": []
    },
    {
     "cell_type": "code",
     "collapsed": false,
     "input": [],
     "language": "python",
     "metadata": {},
     "outputs": []
    },
    {
     "cell_type": "code",
     "collapsed": false,
     "input": [],
     "language": "python",
     "metadata": {},
     "outputs": []
    },
    {
     "cell_type": "code",
     "collapsed": false,
     "input": [],
     "language": "python",
     "metadata": {},
     "outputs": []
    },
    {
     "cell_type": "code",
     "collapsed": false,
     "input": [],
     "language": "python",
     "metadata": {},
     "outputs": []
    },
    {
     "cell_type": "code",
     "collapsed": false,
     "input": [],
     "language": "python",
     "metadata": {},
     "outputs": []
    },
    {
     "cell_type": "code",
     "collapsed": false,
     "input": [],
     "language": "python",
     "metadata": {},
     "outputs": []
    },
    {
     "cell_type": "code",
     "collapsed": false,
     "input": [
      "%cd '~/Dropbox/fjs6/Journal/ideolog/Dimwit/examples/dataScienceLondon/data/'"
     ],
     "language": "python",
     "metadata": {},
     "outputs": [
      {
       "output_type": "stream",
       "stream": "stdout",
       "text": [
        "/Users/fjs6/Dropbox/fjs6/Journal/ideolog/Dimwit/examples/dataScienceLondon/data\n"
       ]
      }
     ],
     "prompt_number": 2
    },
    {
     "cell_type": "code",
     "collapsed": false,
     "input": [
      "import numpy as np\n",
      "from pandas import *\n",
      "import pandas\n",
      "import math\n",
      "import random\n",
      "from sklearn import preprocessing\n",
      "from sklearn import svm\n",
      "from sklearn.svm import SVC\n",
      "from sklearn.cross_validation import StratifiedKFold\n",
      "from sklearn.grid_search import GridSearchCV\n",
      "from sklearn.decomposition import PCA\n",
      "from sklearn.decomposition import RandomizedPCA\n",
      "\n",
      "import sys\n",
      "sys.path.append('/Users/fjs6/Dropbox/fjs6/Journal/ideolog/Dimwit')\n"
     ],
     "language": "python",
     "metadata": {},
     "outputs": [],
     "prompt_number": 3
    },
    {
     "cell_type": "code",
     "collapsed": false,
     "input": [
      "tr_data = read_csv('train.csv', header=None)\n",
      "test_data = read_csv('test.csv', header=None)\n",
      "data = concat([tr_data, test_data], ignore_index=True)"
     ],
     "language": "python",
     "metadata": {},
     "outputs": [],
     "prompt_number": 4
    },
    {
     "cell_type": "code",
     "collapsed": false,
     "input": [
      "gt_data = read_csv('trainLabels.csv', header=None)\n",
      "gt_data =np.vstack([gt_data, np.ones((data.shape[0]-gt_data.shape[0],1))*-1])"
     ],
     "language": "python",
     "metadata": {},
     "outputs": [],
     "prompt_number": 5
    },
    {
     "cell_type": "code",
     "collapsed": false,
     "input": [
      "data.shape"
     ],
     "language": "python",
     "metadata": {},
     "outputs": [
      {
       "metadata": {},
       "output_type": "pyout",
       "prompt_number": 6,
       "text": [
        "(10000, 40)"
       ]
      }
     ],
     "prompt_number": 6
    },
    {
     "cell_type": "code",
     "collapsed": false,
     "input": [
      "def heatmap(grid, C_range, g_range):\n",
      "    print(\"The best classifier is: \", grid.best_estimator_)\n",
      "    print 'best score', grid.best_score_\n",
      "    score_dict = grid.grid_scores_\n",
      "    scores = [x[1] for x in score_dict]\n",
      "    scores = np.array(scores).reshape(len(C_range), len(g_range))\n",
      "\n",
      "    plt.figure(figsize=(8, 6))\n",
      "    plt.subplots_adjust(left=0.05, right=0.95, bottom=0.15, top=0.95)\n",
      "    plt.imshow(scores, interpolation='nearest', cmap=plt.cm.spectral)\n",
      "    plt.xlabel('g')\n",
      "    plt.ylabel('C')\n",
      "    plt.colorbar()\n",
      "    plt.xticks(np.arange(len(g_range)), g_range, rotation=45)\n",
      "    plt.yticks(np.arange(len(C_range)), C_range)\n",
      "    plt.show()"
     ],
     "language": "python",
     "metadata": {},
     "outputs": [],
     "prompt_number": 7
    },
    {
     "cell_type": "code",
     "collapsed": false,
     "input": [
      "def laundromat(model, Whole, X_CV, Y_CV, nspv, max_acc, PCUT = 0.9999):\n",
      "    \n",
      "    # extract data from x. First column is the Y label\n",
      "    D = Whole[Whole[:,0]>=0]\n",
      "    X = D[:,1:]\n",
      "    Y = D[:,0]\n",
      "    M = Whole.shape[0]\n",
      "    \n",
      "    # train\n",
      "    model.fit(X, Y)\n",
      "    \n",
      "    # evaluate\n",
      "    p = model.predict(X_CV)\n",
      "    count = 0.0\n",
      "    M_CV = len(Y_CV)\n",
      "    for i in range(M_CV):\n",
      "        if p[i]==Y_CV[i]:\n",
      "            count+=1\n",
      "    acc = 100*count/M_CV\n",
      "    if acc < max_acc or (acc == max_acc and model.support_vectors_.shape[0]==nspv):\n",
      "        return [Whole, max_acc, True, nspv]\n",
      "    \n",
      "    print 'score on CV', acc, 'support vectors', model.support_vectors_.shape[0]\n",
      "    # go deeper\n",
      "    cc = 0\n",
      "    for i in range(M):\n",
      "        Yrec = Whole[i,0]\n",
      "        Xrec = Whole[i,1:]\n",
      "        if Yrec==-1:\n",
      "            prob = model.predict_proba(Xrec)\n",
      "            label = np.argmax(prob)\n",
      "            p = np.max(prob[0,:])\n",
      "            if p > PCUT:\n",
      "                cc += 1\n",
      "                Whole[i,0] = label\n",
      "    \n",
      "    return [Whole, acc, False, model.support_vectors_.shape[0]]\n"
     ],
     "language": "python",
     "metadata": {},
     "outputs": [],
     "prompt_number": 8
    },
    {
     "cell_type": "heading",
     "level": 4,
     "metadata": {},
     "source": [
      "SVM Recursive to inflate new training set"
     ]
    },
    {
     "cell_type": "code",
     "collapsed": false,
     "input": [
      "def giveittomebaby(index_tr, index_cv, trials = 10):\n",
      "    \n",
      "    fuck_clf = None\n",
      "    fuck_acc = 0.0\n",
      "    for times in range(trials):\n",
      "        # read data\n",
      "        x_all = np.array(data.ix[:,:])\n",
      "        y_all = gt_data.astype('int8').copy()\n",
      "        \n",
      "        # reduce to 12 dimmensions\n",
      "        pca = RandomizedPCA(n_components=12, whiten=True)\n",
      "        x_all = pca.fit(x_all).transform(x_all)\n",
      "        \n",
      "        # divide into training and crossvalidation\n",
      "        Whole_Training = np.hstack([y_all[index_tr], x_all[index_tr,:]])\n",
      "        X_CV, Y_CV = x_all[index_cv,:], y_all[index_cv]\n",
      "        \n",
      "        # find the best classifier\n",
      "        clf = svm.SVC(kernel='rbf', cache_size=1000, probability=True, C=10000000., gamma=0.22)\n",
      "        [Z, acc, fu, nnn] = laundromat(clf, Whole_Training, X_CV, Y_CV, 0, 0.0, PCUT = 0.95)\n",
      "        clf = svm.SVC(kernel='rbf', cache_size=1000, probability=True, C=10000000., gamma=0.275)\n",
      "        fu = False\n",
      "        acc = 0.9\n",
      "        while fu == False:\n",
      "            [Z, acc, fu, nnn] = laundromat(clf, Z, X_CV, Y_CV, nnn, acc, PCUT = 0.95)\n",
      "        print 'accuracy', acc, 'support v', clf.support_vectors_.shape[0]\n",
      "        if acc >= fuck_acc:\n",
      "            fuck_acc = acc\n",
      "            fuck_clf = clf\n",
      "    \n",
      "    print '_____________________predicting kahuna 9,000 on model with acc', fuck_acc\n",
      "    DD = Z[Z[:,0]>=0]\n",
      "    XX = np.vstack([X_CV, DD[:,1:]])    \n",
      "    YY = np.concatenate([np.atleast_2d(Y_CV), np.atleast_2d(DD[:,0]).T])\n",
      "    \n",
      "    # I AM NOT FITTING ON ALL !!!!!\n",
      "    #fuck_clf = svm.SVC(kernel='rbf', cache_size=1000, probability=True, C=10000000, gamma = 0.22)\n",
      "    #fuck_clf.fit(XX, YY)\n",
      "    \n",
      "    p = fuck_clf.predict(x_all[1000:,:])\n",
      "                     \n",
      "    return [fuck_clf, fuck_acc, p]"
     ],
     "language": "python",
     "metadata": {},
     "outputs": [],
     "prompt_number": 9
    },
    {
     "cell_type": "raw",
     "metadata": {},
     "source": [
      "crossval, train = np.arange(300), np.arange(300,10000)\n",
      "print train.shape, crossval.shape\n",
      "\n",
      "acc, p0 = giveittomebaby(train, crossval, trials=10)"
     ]
    },
    {
     "cell_type": "code",
     "collapsed": false,
     "input": [
      "PP = np.ones((9000, 11))*-1\n",
      "scores = np.zeros((11,))\n",
      "modelos = []"
     ],
     "language": "python",
     "metadata": {},
     "outputs": [],
     "prompt_number": 21
    },
    {
     "cell_type": "code",
     "collapsed": false,
     "input": [
      "MPP, NPP = PP.shape"
     ],
     "language": "python",
     "metadata": {},
     "outputs": [],
     "prompt_number": 22
    },
    {
     "cell_type": "code",
     "collapsed": false,
     "input": [
      "NPP"
     ],
     "language": "python",
     "metadata": {},
     "outputs": [
      {
       "metadata": {},
       "output_type": "pyout",
       "prompt_number": 23,
       "text": [
        "11"
       ]
      }
     ],
     "prompt_number": 23
    },
    {
     "cell_type": "code",
     "collapsed": false,
     "input": [
      "for i in range(NPP):\n",
      "    listo = np.arange(1000)\n",
      "    np.random.shuffle(listo)\n",
      "    crossval, train = np.split(listo, [300])\n",
      "    train = np.concatenate((train, np.arange(1000,10000)))\n",
      "    print train.shape, crossval.shape\n",
      "    model, acc, p = giveittomebaby(train, crossval, trials=10)\n",
      "    print 'inserting with acc', acc, 'in column', i\n",
      "    PP[:,i] = p\n",
      "    scores[i] = acc\n",
      "    modelos = modelos + [model]"
     ],
     "language": "python",
     "metadata": {},
     "outputs": [
      {
       "output_type": "stream",
       "stream": "stdout",
       "text": [
        "(9700,) (300,)\n",
        "score on CV"
       ]
      },
      {
       "output_type": "stream",
       "stream": "stdout",
       "text": [
        " 97.0 support vectors 480\n",
        "score on CV"
       ]
      },
      {
       "output_type": "stream",
       "stream": "stdout",
       "text": [
        " 98.0 support vectors 1709\n",
        "score on CV"
       ]
      },
      {
       "output_type": "stream",
       "stream": "stdout",
       "text": [
        " 98.0 support vectors 2090\n",
        "score on CV"
       ]
      },
      {
       "output_type": "stream",
       "stream": "stdout",
       "text": [
        " 98.0 support vectors 2384\n",
        "score on CV"
       ]
      },
      {
       "output_type": "stream",
       "stream": "stdout",
       "text": [
        " 98.6666666667 support vectors 2452\n",
        "accuracy"
       ]
      },
      {
       "output_type": "stream",
       "stream": "stdout",
       "text": [
        " 98.6666666667 support v 2484\n",
        "score on CV"
       ]
      },
      {
       "output_type": "stream",
       "stream": "stdout",
       "text": [
        " 96.6666666667 support vectors 483\n",
        "score on CV"
       ]
      },
      {
       "output_type": "stream",
       "stream": "stdout",
       "text": [
        " 97.3333333333 support vectors 1782\n",
        "score on CV"
       ]
      }
     ],
     "prompt_number": "*"
    },
    {
     "cell_type": "code",
     "collapsed": false,
     "input": [
      "PP[0:10,0:11]"
     ],
     "language": "python",
     "metadata": {},
     "outputs": [
      {
       "metadata": {},
       "output_type": "pyout",
       "prompt_number": 352,
       "text": [
        "array([[ 1.,  1.,  1.,  1.,  1.,  1.,  1.,  1.,  1.,  1.,  1.],\n",
        "       [ 0.,  0.,  0.,  0.,  0.,  0.,  0.,  0.,  0.,  0.,  0.],\n",
        "       [ 1.,  1.,  1.,  1.,  1.,  1.,  1.,  1.,  1.,  1.,  1.],\n",
        "       [ 0.,  0.,  0.,  0.,  0.,  0.,  0.,  0.,  0.,  0.,  0.],\n",
        "       [ 0.,  0.,  0.,  0.,  0.,  0.,  0.,  0.,  0.,  0.,  0.],\n",
        "       [ 0.,  0.,  0.,  0.,  0.,  0.,  0.,  0.,  0.,  0.,  0.],\n",
        "       [ 0.,  0.,  0.,  0.,  0.,  0.,  0.,  0.,  0.,  0.,  0.],\n",
        "       [ 1.,  1.,  1.,  1.,  1.,  1.,  1.,  1.,  1.,  1.,  1.],\n",
        "       [ 0.,  0.,  0.,  0.,  0.,  0.,  0.,  0.,  0.,  0.,  0.],\n",
        "       [ 0.,  0.,  0.,  0.,  0.,  0.,  0.,  0.,  0.,  0.,  0.]])"
       ]
      }
     ],
     "prompt_number": 352
    },
    {
     "cell_type": "code",
     "collapsed": false,
     "input": [
      "scores"
     ],
     "language": "python",
     "metadata": {},
     "outputs": [
      {
       "metadata": {},
       "output_type": "pyout",
       "prompt_number": 353,
       "text": [
        "array([ 97.        ,  96.66666667,  96.66666667,  97.33333333,\n",
        "        98.        ,  97.33333333,  96.33333333,  97.33333333,\n",
        "        96.        ,  95.66666667,  97.        ])"
       ]
      }
     ],
     "prompt_number": 353
    },
    {
     "cell_type": "code",
     "collapsed": false,
     "input": [
      "m,n = PP.shape\n",
      "print 'there are', n, 'predictions'\n",
      "\n",
      "pred98 = np.zeros((m,2))\n",
      "\n",
      "for i in range(m):\n",
      "    pred98[i,0] = i+1\n",
      "    pred98[i,1] = PP[i,4]\n",
      "print pred98[0:10]\n",
      "\n",
      "print 'To submitt add header: Id,Solution'\n",
      "print pred[0:10,:]\n",
      "np.savetxt('./predictions_thursday_voting_98.csv', pred, fmt='%i,%i')"
     ],
     "language": "python",
     "metadata": {},
     "outputs": [
      {
       "output_type": "stream",
       "stream": "stdout",
       "text": [
        "there are 11 predictions\n",
        "[[  1.   1.]\n",
        " [  2.   0.]\n",
        " [  3.   1.]\n",
        " [  4.   0.]\n",
        " [  5.   0.]\n",
        " [  6.   0.]\n",
        " [  7.   0.]\n",
        " [  8.   1.]\n",
        " [  9.   0.]\n",
        " [ 10.   0.]]\n"
       ]
      }
     ],
     "prompt_number": 362
    },
    {
     "cell_type": "code",
     "collapsed": false,
     "input": [
      "m,n = PP.shape\n",
      "print 'there are', n, 'predictions'\n",
      "\n",
      "s = np.sum(PP, axis=1)/n\n",
      "print np.mean(s)\n",
      "print s[0:20]\n",
      "pred = np.zeros((m,2))\n",
      "\n",
      "for i in range(m):\n",
      "    if s[i] > 0.5:\n",
      "        label = 1\n",
      "    elif s[i] < 0.5:\n",
      "        label = 0\n",
      "    else:\n",
      "        print 'SHIT'\n",
      "        label = 1\n",
      "    pred[i,0] = i+1\n",
      "    pred[i,1] = label"
     ],
     "language": "python",
     "metadata": {},
     "outputs": [
      {
       "output_type": "stream",
       "stream": "stdout",
       "text": [
        "there are 11 predictions\n",
        "0.496646464646\n",
        "[ 1.          0.          1.          0.          0.          0.          0.\n",
        "  1.          0.          0.          0.90909091  1.          0.63636364\n",
        "  0.63636364  0.          1.          0.          0.09090909  0.90909091\n",
        "  1.        ]\n"
       ]
      }
     ],
     "prompt_number": 354
    },
    {
     "cell_type": "code",
     "collapsed": false,
     "input": [
      "print 'To submitt add header: Id,Solution'\n",
      "print pred[0:10,:]\n",
      "np.savetxt('./predictions_thursday_voting_2.csv', pred, fmt='%i,%i')"
     ],
     "language": "python",
     "metadata": {},
     "outputs": [
      {
       "output_type": "stream",
       "stream": "stdout",
       "text": [
        "To submitt add header: Id,Solution\n",
        "[[  1.   1.]\n",
        " [  2.   0.]\n",
        " [  3.   1.]\n",
        " [  4.   0.]\n",
        " [  5.   0.]\n",
        " [  6.   0.]\n",
        " [  7.   0.]\n",
        " [  8.   1.]\n",
        " [  9.   0.]\n",
        " [ 10.   0.]]\n"
       ]
      }
     ],
     "prompt_number": 355
    },
    {
     "cell_type": "code",
     "collapsed": false,
     "input": [],
     "language": "python",
     "metadata": {},
     "outputs": []
    },
    {
     "cell_type": "code",
     "collapsed": false,
     "input": [
      "from sklearn.metrics import *  \n",
      "\n",
      "print(classification_report(gt_data[0:300], p0))"
     ],
     "language": "python",
     "metadata": {},
     "outputs": []
    },
    {
     "cell_type": "code",
     "collapsed": false,
     "input": [],
     "language": "python",
     "metadata": {},
     "outputs": []
    },
    {
     "cell_type": "heading",
     "level": 2,
     "metadata": {},
     "source": [
      "What about saving the best predictor?"
     ]
    },
    {
     "cell_type": "code",
     "collapsed": false,
     "input": [
      "pred = PP[:,2]\n",
      "\n",
      "pred = np.hstack([np.atleast_2d(np.arange(1,9001)).T, pred])\n",
      "print 'To submitt add header: Id,Solution'\n",
      "print pred[0:10,:]\n",
      "np.savetxt('./predictions_thursday_best.csv', pred, fmt='%i,%i')"
     ],
     "language": "python",
     "metadata": {},
     "outputs": []
    },
    {
     "cell_type": "code",
     "collapsed": false,
     "input": [],
     "language": "python",
     "metadata": {},
     "outputs": []
    },
    {
     "cell_type": "code",
     "collapsed": false,
     "input": [],
     "language": "python",
     "metadata": {},
     "outputs": []
    }
   ],
   "metadata": {}
  }
 ]
}