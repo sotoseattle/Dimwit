{
 "metadata": {
  "name": ""
 },
 "nbformat": 3,
 "nbformat_minor": 0,
 "worksheets": [
  {
   "cells": [
    {
     "cell_type": "code",
     "collapsed": false,
     "input": [
      "%cd '~/Dropbox/fjs6/Journal/ideolog/Dimwit/examples/dataScienceLondon/data/'"
     ],
     "language": "python",
     "metadata": {},
     "outputs": [
      {
       "output_type": "stream",
       "stream": "stdout",
       "text": [
        "/Users/fjs6/Dropbox/fjs6/Journal/ideolog/Dimwit/examples/dataScienceLondon/data\n"
       ]
      }
     ],
     "prompt_number": 38
    },
    {
     "cell_type": "code",
     "collapsed": false,
     "input": [
      "import numpy as np\n",
      "from pandas import *\n",
      "import pandas\n",
      "import math\n",
      "import random\n",
      "from sklearn import preprocessing\n",
      "from sklearn import svm\n",
      "from sklearn.svm import SVC\n",
      "from sklearn.cross_validation import StratifiedKFold\n",
      "from sklearn.grid_search import GridSearchCV\n",
      "from sklearn.decomposition import PCA\n",
      "\n",
      "import sys\n",
      "sys.path.append('/Users/fjs6/Dropbox/fjs6/Journal/ideolog/Dimwit')\n"
     ],
     "language": "python",
     "metadata": {},
     "outputs": [],
     "prompt_number": 39
    },
    {
     "cell_type": "code",
     "collapsed": false,
     "input": [
      "tr_data = read_csv('train.csv', header=None)\n",
      "test_data = read_csv('test.csv', header=None)\n",
      "data = concat([tr_data, test_data], ignore_index=True)"
     ],
     "language": "python",
     "metadata": {},
     "outputs": [],
     "prompt_number": 40
    },
    {
     "cell_type": "code",
     "collapsed": false,
     "input": [
      "gt_data = read_csv('trainLabels.csv', header=None)"
     ],
     "language": "python",
     "metadata": {},
     "outputs": [],
     "prompt_number": 41
    },
    {
     "cell_type": "code",
     "collapsed": false,
     "input": [
      "def laundromat(model, X, Y, XUniverse, max_acc, PCUT = 0.95):\n",
      "    # train\n",
      "    model.fit(X, Y)\n",
      "    \n",
      "    # evaluate\n",
      "    p = model.predict(X_CV)\n",
      "    count = 0.0\n",
      "    M_CV = len(Y_CV)\n",
      "    for i in range(M_CV):\n",
      "        if p[i]==Y_CV[i]:\n",
      "            count+=1\n",
      "    acc = 100*count/M_CV\n",
      "    print 'score on CV', acc, 'support vectors', model.support_vectors_.shape[0]\n",
      "    if acc < max_acc:\n",
      "        print 'breaking out'\n",
      "        return [X, Y, XUniverse, max_acc, True]\n",
      "    \n",
      "    # go deeper\n",
      "    prob = model.predict_proba(XUniverse)\n",
      "    M_U, N_U = XUniverse.shape\n",
      "    X1 = X.copy()\n",
      "    Y1 = Y.copy()\n",
      "    X_Rest = np.zeros((1, N_U))\n",
      "\n",
      "    for i in range(M_U):\n",
      "        y = np.argmax(prob[i,:])\n",
      "        p = np.max(prob[i,:])\n",
      "        record = XUniverse[i:i+1,:]\n",
      "        if p > PCUT:\n",
      "            X1 = np.append(X1, record, axis=0)\n",
      "            Y1 = np.append(Y1, y)\n",
      "        else:\n",
      "            X_Rest = np.vstack([X_Rest, record])\n",
      "    X_Rest = np.delete(X_Rest, 0, 0)\n",
      "    return [X1, Y1, X_Rest, acc, False]\n"
     ],
     "language": "python",
     "metadata": {},
     "outputs": [],
     "prompt_number": 73
    },
    {
     "cell_type": "code",
     "collapsed": false,
     "input": [
      "def heatmap(grid, C_range, g_range):\n",
      "    print(\"The best classifier is: \", grid.best_estimator_)\n",
      "    print 'best score', grid.best_score_\n",
      "    score_dict = grid.grid_scores_\n",
      "    scores = [x[1] for x in score_dict]\n",
      "    scores = np.array(scores).reshape(len(C_range), len(g_range))\n",
      "\n",
      "    plt.figure(figsize=(8, 6))\n",
      "    plt.subplots_adjust(left=0.05, right=0.95, bottom=0.15, top=0.95)\n",
      "    plt.imshow(scores, interpolation='nearest', cmap=plt.cm.spectral)\n",
      "    plt.xlabel('g')\n",
      "    plt.ylabel('C')\n",
      "    plt.colorbar()\n",
      "    plt.xticks(np.arange(len(g_range)), g_range, rotation=45)\n",
      "    plt.yticks(np.arange(len(C_range)), C_range)\n",
      "    plt.show()"
     ],
     "language": "python",
     "metadata": {},
     "outputs": [],
     "prompt_number": 43
    },
    {
     "cell_type": "heading",
     "level": 4,
     "metadata": {},
     "source": [
      "1st Filter : Preselecting features with highest power"
     ]
    },
    {
     "cell_type": "code",
     "collapsed": false,
     "input": [
      "features = list([3, 5, 6, 7, 12, 14, 15, 16, 18, 20, 23, 25, 28, 29, 30, 32, 34, 36, 38, 39])\n",
      "#features =  list([3, 4, 6, 7, 11, 12, 13, 14, 18, 19, 22, 28, 29, 32, 34, 36, 38, 39]) # my past svm cycling best\n",
      "x_all = np.array(data.ix[:,features])\n",
      "y_all = np.ravel(gt_data)"
     ],
     "language": "python",
     "metadata": {},
     "outputs": [],
     "prompt_number": 134
    },
    {
     "cell_type": "code",
     "collapsed": false,
     "input": [
      "a = [14,12,29,6,36,39,7,4,28,19,22,18,38,3, 32, 34, 13, 11]\n",
      "a.sort()\n",
      "print a"
     ],
     "language": "python",
     "metadata": {},
     "outputs": [
      {
       "output_type": "stream",
       "stream": "stdout",
       "text": [
        "[3, 4, 6, 7, 11, 12, 13, 14, 18, 19, 22, 28, 29, 32, 34, 36, 38, 39]\n"
       ]
      }
     ],
     "prompt_number": 135
    },
    {
     "cell_type": "heading",
     "level": 4,
     "metadata": {},
     "source": [
      "2nd Filter: Reducing dimmensionality up to 97.48%"
     ]
    },
    {
     "cell_type": "code",
     "collapsed": false,
     "input": [
      "from sklearn.decomposition import RandomizedPCA\n",
      "pca = RandomizedPCA(n_components=12, whiten=True)\n",
      "pca.fit(x_all)\n",
      "x_all = pca.transform(x_all)"
     ],
     "language": "python",
     "metadata": {},
     "outputs": [],
     "prompt_number": 136
    },
    {
     "cell_type": "code",
     "collapsed": false,
     "input": [
      "x_all.shape"
     ],
     "language": "python",
     "metadata": {},
     "outputs": [
      {
       "metadata": {},
       "output_type": "pyout",
       "prompt_number": 137,
       "text": [
        "(10000, 12)"
       ]
      }
     ],
     "prompt_number": 137
    },
    {
     "cell_type": "heading",
     "level": 4,
     "metadata": {},
     "source": [
      "Dividing initial training data to create mini cross validation set"
     ]
    },
    {
     "cell_type": "code",
     "collapsed": false,
     "input": [
      "limit_cv = 300\n",
      "\n",
      "X_CV = x_all[0:limit_cv,:]\n",
      "Y_CV = y_all[0:limit_cv]\n",
      "\n",
      "X_TR = x_all[limit_cv:,:]\n",
      "Y_TR = y_all[limit_cv:]"
     ],
     "language": "python",
     "metadata": {},
     "outputs": [],
     "prompt_number": 138
    },
    {
     "cell_type": "heading",
     "level": 4,
     "metadata": {},
     "source": [
      "Optimizing hyperparams on initial training set"
     ]
    },
    {
     "cell_type": "code",
     "collapsed": false,
     "input": [
      "C_range = [10000000.]\n",
      "g_range = np.arange(0.05, .5, 0.02)\n",
      "#g_range = [1.]\n",
      "limit_tr = 1000-limit_cv\n",
      "\n",
      "param_grid = dict(gamma=g_range, C=C_range)\n",
      "clfo = svm.SVC(kernel='rbf', cache_size=1000, probability=True)\n",
      "\n",
      "cv = StratifiedKFold(Y_TR[0:limit_tr], n_folds=7)\n",
      "grid = GridSearchCV(clfo, param_grid=param_grid, cv=cv, verbose=5)\n",
      "\n",
      "grid.fit(X_TR[0:limit_tr,:], Y_TR[0:limit_tr])\n",
      "print(\"The best classifier is: \", grid.best_estimator_)\n",
      "print 'best score', grid.best_score_\n",
      "score_dict = grid.grid_scores_\n",
      "scores = [x[1] for x in score_dict]\n",
      "scores = np.array(scores).reshape(len(C_range), len(g_range))\n",
      "\n",
      "plt.figure(figsize=(8, 6))\n",
      "plt.subplots_adjust(left=0.05, right=0.95, bottom=0.15, top=0.95)\n",
      "plt.imshow(scores, interpolation='nearest', cmap=plt.cm.spectral)\n",
      "plt.xlabel('g')\n",
      "plt.ylabel('C')\n",
      "plt.colorbar()\n",
      "plt.xticks(np.arange(len(g_range)), g_range, rotation=45)\n",
      "plt.yticks(np.arange(len(C_range)), C_range)\n",
      "plt.show()"
     ],
     "language": "python",
     "metadata": {},
     "outputs": [
      {
       "output_type": "stream",
       "stream": "stdout",
       "text": [
        "Fitting 7 folds for each of 23 candidates, totalling 161 fits\n",
        "[GridSearchCV] C=10000000.0, gamma=0.05 ........................................\n",
        "[GridSearchCV] ............... C=10000000.0, gamma=0.05, score=0.910000 -   0.2s"
       ]
      },
      {
       "output_type": "stream",
       "stream": "stdout",
       "text": [
        "\n",
        "[GridSearchCV] C=10000000.0, gamma=0.05 ........................................\n",
        "[GridSearchCV] ............... C=10000000.0, gamma=0.05, score=0.920000 -   0.1s"
       ]
      },
      {
       "output_type": "stream",
       "stream": "stdout",
       "text": [
        "\n",
        "[GridSearchCV] C=10000000.0, gamma=0.05 ........................................\n",
        "[GridSearchCV] ............... C=10000000.0, gamma=0.05, score=0.880000 -   0.1s"
       ]
      },
      {
       "output_type": "stream",
       "stream": "stdout",
       "text": [
        "\n",
        "[GridSearchCV] C=10000000.0, gamma=0.05 ........................................\n",
        "[GridSearchCV] ............... C=10000000.0, gamma=0.05, score=0.890000 -   0.1s"
       ]
      },
      {
       "output_type": "stream",
       "stream": "stdout",
       "text": [
        "\n",
        "[GridSearchCV] C=10000000.0, gamma=0.05 ........................................\n",
        "[GridSearchCV] ............... C=10000000.0, gamma=0.05, score=0.910000 -   0.1s"
       ]
      },
      {
       "output_type": "stream",
       "stream": "stdout",
       "text": [
        "\n",
        "[GridSearchCV] C=10000000.0, gamma=0.05 ........................................\n",
        "[GridSearchCV] ............... C=10000000.0, gamma=0.05, score=0.830000 -   0.1s"
       ]
      },
      {
       "output_type": "stream",
       "stream": "stdout",
       "text": [
        "\n",
        "[GridSearchCV] C=10000000.0, gamma=0.05 ........................................\n",
        "[GridSearchCV] ............... C=10000000.0, gamma=0.05, score=0.930000 -   0.1s"
       ]
      },
      {
       "output_type": "stream",
       "stream": "stdout",
       "text": [
        "\n",
        "[GridSearchCV] C=10000000.0, gamma=0.07 ........................................\n",
        "[GridSearchCV] ............... C=10000000.0, gamma=0.07, score=0.910000 -   0.1s"
       ]
      },
      {
       "output_type": "stream",
       "stream": "stdout",
       "text": [
        "\n",
        "[GridSearchCV] C=10000000.0, gamma=0.07 ........................................\n",
        "[GridSearchCV] ............... C=10000000.0, gamma=0.07, score=0.920000 -   0.1s"
       ]
      },
      {
       "output_type": "stream",
       "stream": "stdout",
       "text": [
        "\n",
        "[GridSearchCV] C=10000000.0, gamma=0.07 ........................................\n",
        "[GridSearchCV] ............... C=10000000.0, gamma=0.07, score=0.890000 -   0.1s"
       ]
      },
      {
       "output_type": "stream",
       "stream": "stdout",
       "text": [
        "\n",
        "[GridSearchCV] C=10000000.0, gamma=0.07 ........................................\n",
        "[GridSearchCV] ............... C=10000000.0, gamma=0.07, score=0.920000 -   0.1s"
       ]
      },
      {
       "output_type": "stream",
       "stream": "stdout",
       "text": [
        "\n",
        "[GridSearchCV] C=10000000.0, gamma=0.07 ........................................\n",
        "[GridSearchCV] ............... C=10000000.0, gamma=0.07, score=0.910000 -   0.1s"
       ]
      },
      {
       "output_type": "stream",
       "stream": "stdout",
       "text": [
        "\n",
        "[GridSearchCV] C=10000000.0, gamma=0.07 ........................................\n",
        "[GridSearchCV] ............... C=10000000.0, gamma=0.07, score=0.850000 -   0.1s"
       ]
      },
      {
       "output_type": "stream",
       "stream": "stdout",
       "text": [
        "\n",
        "[GridSearchCV] C=10000000.0, gamma=0.07 ........................................\n",
        "[GridSearchCV] ............... C=10000000.0, gamma=0.07, score=0.940000 -   0.1s"
       ]
      },
      {
       "output_type": "stream",
       "stream": "stdout",
       "text": [
        "\n",
        "[GridSearchCV] C=10000000.0, gamma=0.09 ........................................\n",
        "[GridSearchCV] ............... C=10000000.0, gamma=0.09, score=0.920000 -   0.1s"
       ]
      },
      {
       "output_type": "stream",
       "stream": "stdout",
       "text": [
        "\n",
        "[GridSearchCV] C=10000000.0, gamma=0.09 ........................................\n",
        "[GridSearchCV] ............... C=10000000.0, gamma=0.09, score=0.920000 -   0.1s"
       ]
      },
      {
       "output_type": "stream",
       "stream": "stdout",
       "text": [
        "\n",
        "[GridSearchCV] C=10000000.0, gamma=0.09 ........................................\n",
        "[GridSearchCV] ............... C=10000000.0, gamma=0.09, score=0.900000 -   0.1s"
       ]
      },
      {
       "output_type": "stream",
       "stream": "stdout",
       "text": [
        "\n",
        "[GridSearchCV] C=10000000.0, gamma=0.09 ........................................\n",
        "[GridSearchCV] ............... C=10000000.0, gamma=0.09, score=0.940000 -   0.1s"
       ]
      },
      {
       "output_type": "stream",
       "stream": "stderr",
       "text": [
        "[Parallel(n_jobs=1)]: Done   1 jobs       | elapsed:    0.2s\n",
        "[Parallel(n_jobs=1)]: Done  18 jobs       | elapsed:    1.9s\n"
       ]
      },
      {
       "output_type": "stream",
       "stream": "stdout",
       "text": [
        "\n",
        "[GridSearchCV] C=10000000.0, gamma=0.09 ........................................\n",
        "[GridSearchCV] ............... C=10000000.0, gamma=0.09, score=0.910000 -   0.1s"
       ]
      },
      {
       "output_type": "stream",
       "stream": "stdout",
       "text": [
        "\n",
        "[GridSearchCV] C=10000000.0, gamma=0.09 ........................................\n",
        "[GridSearchCV] ............... C=10000000.0, gamma=0.09, score=0.860000 -   0.1s"
       ]
      },
      {
       "output_type": "stream",
       "stream": "stdout",
       "text": [
        "\n",
        "[GridSearchCV] C=10000000.0, gamma=0.09 ........................................\n",
        "[GridSearchCV] ............... C=10000000.0, gamma=0.09, score=0.930000 -   0.1s"
       ]
      },
      {
       "output_type": "stream",
       "stream": "stdout",
       "text": [
        "\n",
        "[GridSearchCV] C=10000000.0, gamma=0.11 ........................................\n",
        "[GridSearchCV] ............... C=10000000.0, gamma=0.11, score=0.920000 -   0.1s"
       ]
      },
      {
       "output_type": "stream",
       "stream": "stdout",
       "text": [
        "\n",
        "[GridSearchCV] C=10000000.0, gamma=0.11 ........................................\n",
        "[GridSearchCV] ............... C=10000000.0, gamma=0.11, score=0.910000 -   0.1s"
       ]
      },
      {
       "output_type": "stream",
       "stream": "stdout",
       "text": [
        "\n",
        "[GridSearchCV] C=10000000.0, gamma=0.11 ........................................\n",
        "[GridSearchCV] ............... C=10000000.0, gamma=0.11, score=0.910000 -   0.1s"
       ]
      },
      {
       "output_type": "stream",
       "stream": "stdout",
       "text": [
        "\n",
        "[GridSearchCV] C=10000000.0, gamma=0.11 ........................................\n",
        "[GridSearchCV] ............... C=10000000.0, gamma=0.11, score=0.940000 -   0.1s"
       ]
      },
      {
       "output_type": "stream",
       "stream": "stdout",
       "text": [
        "\n",
        "[GridSearchCV] C=10000000.0, gamma=0.11 ........................................\n",
        "[GridSearchCV] ............... C=10000000.0, gamma=0.11, score=0.910000 -   0.1s"
       ]
      },
      {
       "output_type": "stream",
       "stream": "stdout",
       "text": [
        "\n",
        "[GridSearchCV] C=10000000.0, gamma=0.11 ........................................\n",
        "[GridSearchCV] ............... C=10000000.0, gamma=0.11, score=0.870000 -   0.1s"
       ]
      },
      {
       "output_type": "stream",
       "stream": "stdout",
       "text": [
        "\n",
        "[GridSearchCV] C=10000000.0, gamma=0.11 ........................................\n",
        "[GridSearchCV] ............... C=10000000.0, gamma=0.11, score=0.940000 -   0.1s"
       ]
      },
      {
       "output_type": "stream",
       "stream": "stdout",
       "text": [
        "\n",
        "[GridSearchCV] C=10000000.0, gamma=0.13 ........................................\n",
        "[GridSearchCV] ............... C=10000000.0, gamma=0.13, score=0.920000 -   0.1s"
       ]
      },
      {
       "output_type": "stream",
       "stream": "stdout",
       "text": [
        "\n",
        "[GridSearchCV] C=10000000.0, gamma=0.13 ........................................\n",
        "[GridSearchCV] ............... C=10000000.0, gamma=0.13, score=0.930000 -   0.1s"
       ]
      },
      {
       "output_type": "stream",
       "stream": "stdout",
       "text": [
        "\n",
        "[GridSearchCV] C=10000000.0, gamma=0.13 ........................................\n",
        "[GridSearchCV] ............... C=10000000.0, gamma=0.13, score=0.920000 -   0.1s"
       ]
      },
      {
       "output_type": "stream",
       "stream": "stdout",
       "text": [
        "\n",
        "[GridSearchCV] C=10000000.0, gamma=0.13 ........................................\n",
        "[GridSearchCV] ............... C=10000000.0, gamma=0.13, score=0.940000 -   0.1s"
       ]
      },
      {
       "output_type": "stream",
       "stream": "stdout",
       "text": [
        "\n",
        "[GridSearchCV] C=10000000.0, gamma=0.13 ........................................\n",
        "[GridSearchCV] ............... C=10000000.0, gamma=0.13, score=0.940000 -   0.1s"
       ]
      },
      {
       "output_type": "stream",
       "stream": "stdout",
       "text": [
        "\n",
        "[GridSearchCV] C=10000000.0, gamma=0.13 ........................................\n",
        "[GridSearchCV] ............... C=10000000.0, gamma=0.13, score=0.870000 -   0.1s"
       ]
      },
      {
       "output_type": "stream",
       "stream": "stdout",
       "text": [
        "\n",
        "[GridSearchCV] C=10000000.0, gamma=0.13 ........................................\n",
        "[GridSearchCV] ............... C=10000000.0, gamma=0.13, score=0.960000 -   0.1s"
       ]
      },
      {
       "output_type": "stream",
       "stream": "stdout",
       "text": [
        "\n",
        "[GridSearchCV] C=10000000.0, gamma=0.15 ........................................\n",
        "[GridSearchCV] ............... C=10000000.0, gamma=0.15, score=0.920000 -   0.1s"
       ]
      },
      {
       "output_type": "stream",
       "stream": "stdout",
       "text": [
        "\n",
        "[GridSearchCV] C=10000000.0, gamma=0.15 ........................................\n",
        "[GridSearchCV] ............... C=10000000.0, gamma=0.15, score=0.930000 -   0.1s"
       ]
      },
      {
       "output_type": "stream",
       "stream": "stdout",
       "text": [
        "\n",
        "[GridSearchCV] C=10000000.0, gamma=0.15 ........................................\n",
        "[GridSearchCV] ............... C=10000000.0, gamma=0.15, score=0.920000 -   0.1s"
       ]
      },
      {
       "output_type": "stream",
       "stream": "stdout",
       "text": [
        "\n",
        "[GridSearchCV] C=10000000.0, gamma=0.15 ........................................\n",
        "[GridSearchCV] ............... C=10000000.0, gamma=0.15, score=0.940000 -   0.1s"
       ]
      },
      {
       "output_type": "stream",
       "stream": "stdout",
       "text": [
        "\n",
        "[GridSearchCV] C=10000000.0, gamma=0.15 ........................................\n",
        "[GridSearchCV] ............... C=10000000.0, gamma=0.15, score=0.950000 -   0.1s"
       ]
      },
      {
       "output_type": "stream",
       "stream": "stdout",
       "text": [
        "\n",
        "[GridSearchCV] C=10000000.0, gamma=0.15 ........................................\n",
        "[GridSearchCV] ............... C=10000000.0, gamma=0.15, score=0.880000 -   0.1s"
       ]
      },
      {
       "output_type": "stream",
       "stream": "stdout",
       "text": [
        "\n",
        "[GridSearchCV] C=10000000.0, gamma=0.15 ........................................\n",
        "[GridSearchCV] ............... C=10000000.0, gamma=0.15, score=0.960000 -   0.1s"
       ]
      },
      {
       "output_type": "stream",
       "stream": "stdout",
       "text": [
        "\n",
        "[GridSearchCV] C=10000000.0, gamma=0.17 ........................................\n",
        "[GridSearchCV] ............... C=10000000.0, gamma=0.17, score=0.930000 -   0.1s"
       ]
      },
      {
       "output_type": "stream",
       "stream": "stdout",
       "text": [
        "\n",
        "[GridSearchCV] C=10000000.0, gamma=0.17 ........................................\n",
        "[GridSearchCV] ............... C=10000000.0, gamma=0.17, score=0.930000 -   0.1s"
       ]
      },
      {
       "output_type": "stream",
       "stream": "stdout",
       "text": [
        "\n",
        "[GridSearchCV] C=10000000.0, gamma=0.17 ........................................\n",
        "[GridSearchCV] ............... C=10000000.0, gamma=0.17, score=0.920000 -   0.1s"
       ]
      },
      {
       "output_type": "stream",
       "stream": "stdout",
       "text": [
        "\n",
        "[GridSearchCV] C=10000000.0, gamma=0.17 ........................................\n",
        "[GridSearchCV] ............... C=10000000.0, gamma=0.17, score=0.940000 -   0.1s"
       ]
      },
      {
       "output_type": "stream",
       "stream": "stdout",
       "text": [
        "\n",
        "[GridSearchCV] C=10000000.0, gamma=0.17 ........................................\n",
        "[GridSearchCV] ............... C=10000000.0, gamma=0.17, score=0.940000 -   0.1s"
       ]
      },
      {
       "output_type": "stream",
       "stream": "stdout",
       "text": [
        "\n",
        "[GridSearchCV] C=10000000.0, gamma=0.17 ........................................\n",
        "[GridSearchCV] ............... C=10000000.0, gamma=0.17, score=0.880000 -   0.1s"
       ]
      },
      {
       "output_type": "stream",
       "stream": "stdout",
       "text": [
        "\n",
        "[GridSearchCV] C=10000000.0, gamma=0.17 ........................................\n",
        "[GridSearchCV] ............... C=10000000.0, gamma=0.17, score=0.960000 -   0.1s"
       ]
      },
      {
       "output_type": "stream",
       "stream": "stdout",
       "text": [
        "\n",
        "[GridSearchCV] C=10000000.0, gamma=0.19 ........................................\n",
        "[GridSearchCV] ............... C=10000000.0, gamma=0.19, score=0.930000 -   0.1s"
       ]
      },
      {
       "output_type": "stream",
       "stream": "stdout",
       "text": [
        "\n",
        "[GridSearchCV] C=10000000.0, gamma=0.19 ........................................\n",
        "[GridSearchCV] ............... C=10000000.0, gamma=0.19, score=0.930000 -   0.1s"
       ]
      },
      {
       "output_type": "stream",
       "stream": "stdout",
       "text": [
        "\n",
        "[GridSearchCV] C=10000000.0, gamma=0.19 ........................................\n",
        "[GridSearchCV] ............... C=10000000.0, gamma=0.19, score=0.920000 -   0.2s"
       ]
      },
      {
       "output_type": "stream",
       "stream": "stdout",
       "text": [
        "\n",
        "[GridSearchCV] C=10000000.0, gamma=0.19 ........................................\n",
        "[GridSearchCV] ............... C=10000000.0, gamma=0.19, score=0.940000 -   0.1s"
       ]
      },
      {
       "output_type": "stream",
       "stream": "stdout",
       "text": [
        "\n",
        "[GridSearchCV] C=10000000.0, gamma=0.19 ........................................\n",
        "[GridSearchCV] ............... C=10000000.0, gamma=0.19, score=0.940000 -   0.1s"
       ]
      },
      {
       "output_type": "stream",
       "stream": "stdout",
       "text": [
        "\n",
        "[GridSearchCV] C=10000000.0, gamma=0.19 ........................................\n",
        "[GridSearchCV] ............... C=10000000.0, gamma=0.19, score=0.880000 -   0.1s"
       ]
      },
      {
       "output_type": "stream",
       "stream": "stdout",
       "text": [
        "\n",
        "[GridSearchCV] C=10000000.0, gamma=0.19 ........................................\n",
        "[GridSearchCV] ............... C=10000000.0, gamma=0.19, score=0.960000 -   0.1s"
       ]
      },
      {
       "output_type": "stream",
       "stream": "stdout",
       "text": [
        "\n",
        "[GridSearchCV] C=10000000.0, gamma=0.21 ........................................\n",
        "[GridSearchCV] ............... C=10000000.0, gamma=0.21, score=0.930000 -   0.1s"
       ]
      },
      {
       "output_type": "stream",
       "stream": "stdout",
       "text": [
        "\n",
        "[GridSearchCV] C=10000000.0, gamma=0.21 ........................................\n",
        "[GridSearchCV] ............... C=10000000.0, gamma=0.21, score=0.940000 -   0.2s"
       ]
      },
      {
       "output_type": "stream",
       "stream": "stdout",
       "text": [
        "\n",
        "[GridSearchCV] C=10000000.0, gamma=0.21 ........................................\n",
        "[GridSearchCV] ............... C=10000000.0, gamma=0.21, score=0.920000 -   0.2s"
       ]
      },
      {
       "output_type": "stream",
       "stream": "stdout",
       "text": [
        "\n",
        "[GridSearchCV] C=10000000.0, gamma=0.21 ........................................\n",
        "[GridSearchCV] ............... C=10000000.0, gamma=0.21, score=0.930000 -   0.1s"
       ]
      },
      {
       "output_type": "stream",
       "stream": "stdout",
       "text": [
        "\n",
        "[GridSearchCV] C=10000000.0, gamma=0.21 ........................................\n",
        "[GridSearchCV] ............... C=10000000.0, gamma=0.21, score=0.940000 -   0.1s"
       ]
      },
      {
       "output_type": "stream",
       "stream": "stdout",
       "text": [
        "\n",
        "[GridSearchCV] C=10000000.0, gamma=0.21 ........................................\n",
        "[GridSearchCV] ............... C=10000000.0, gamma=0.21, score=0.900000 -   0.1s"
       ]
      },
      {
       "output_type": "stream",
       "stream": "stdout",
       "text": [
        "\n",
        "[GridSearchCV] C=10000000.0, gamma=0.21 ........................................\n",
        "[GridSearchCV] ............... C=10000000.0, gamma=0.21, score=0.960000 -   0.1s"
       ]
      },
      {
       "output_type": "stream",
       "stream": "stdout",
       "text": [
        "\n",
        "[GridSearchCV] C=10000000.0, gamma=0.23 ........................................\n",
        "[GridSearchCV] ............... C=10000000.0, gamma=0.23, score=0.930000 -   0.1s"
       ]
      },
      {
       "output_type": "stream",
       "stream": "stdout",
       "text": [
        "\n",
        "[GridSearchCV] C=10000000.0, gamma=0.23 ........................................\n",
        "[GridSearchCV] ............... C=10000000.0, gamma=0.23, score=0.940000 -   0.1s"
       ]
      },
      {
       "output_type": "stream",
       "stream": "stdout",
       "text": [
        "\n",
        "[GridSearchCV] C=10000000.0, gamma=0.23 ........................................\n",
        "[GridSearchCV] ............... C=10000000.0, gamma=0.23, score=0.920000 -   0.1s"
       ]
      },
      {
       "output_type": "stream",
       "stream": "stdout",
       "text": [
        "\n",
        "[GridSearchCV] C=10000000.0, gamma=0.23 ........................................\n",
        "[GridSearchCV] ............... C=10000000.0, gamma=0.23, score=0.930000 -   0.1s"
       ]
      },
      {
       "output_type": "stream",
       "stream": "stdout",
       "text": [
        "\n",
        "[GridSearchCV] C=10000000.0, gamma=0.23 ........................................\n",
        "[GridSearchCV] ............... C=10000000.0, gamma=0.23, score=0.950000 -   0.1s"
       ]
      },
      {
       "output_type": "stream",
       "stream": "stdout",
       "text": [
        "\n",
        "[GridSearchCV] C=10000000.0, gamma=0.23 ........................................\n",
        "[GridSearchCV] ............... C=10000000.0, gamma=0.23, score=0.900000 -   0.1s"
       ]
      },
      {
       "output_type": "stream",
       "stream": "stdout",
       "text": [
        "\n",
        "[GridSearchCV] C=10000000.0, gamma=0.23 ........................................\n",
        "[GridSearchCV] ............... C=10000000.0, gamma=0.23, score=0.960000 -   0.1s"
       ]
      },
      {
       "output_type": "stream",
       "stream": "stdout",
       "text": [
        "\n",
        "[GridSearchCV] C=10000000.0, gamma=0.25 ........................................\n",
        "[GridSearchCV] ............... C=10000000.0, gamma=0.25, score=0.930000 -   0.1s"
       ]
      },
      {
       "output_type": "stream",
       "stream": "stdout",
       "text": [
        "\n",
        "[GridSearchCV] C=10000000.0, gamma=0.25 ........................................\n",
        "[GridSearchCV] ............... C=10000000.0, gamma=0.25, score=0.920000 -   0.1s"
       ]
      },
      {
       "output_type": "stream",
       "stream": "stdout",
       "text": [
        "\n",
        "[GridSearchCV] C=10000000.0, gamma=0.25 ........................................\n",
        "[GridSearchCV] ............... C=10000000.0, gamma=0.25, score=0.920000 -   0.1s"
       ]
      },
      {
       "output_type": "stream",
       "stream": "stdout",
       "text": [
        "\n",
        "[GridSearchCV] C=10000000.0, gamma=0.25 ........................................\n",
        "[GridSearchCV] ............... C=10000000.0, gamma=0.25, score=0.940000 -   0.1s"
       ]
      },
      {
       "output_type": "stream",
       "stream": "stdout",
       "text": [
        "\n",
        "[GridSearchCV] C=10000000.0, gamma=0.25 ........................................\n",
        "[GridSearchCV] ............... C=10000000.0, gamma=0.25, score=0.950000 -   0.1s"
       ]
      },
      {
       "output_type": "stream",
       "stream": "stdout",
       "text": [
        "\n",
        "[GridSearchCV] C=10000000.0, gamma=0.25 ........................................\n",
        "[GridSearchCV] ............... C=10000000.0, gamma=0.25, score=0.900000 -   0.1s"
       ]
      },
      {
       "output_type": "stream",
       "stream": "stdout",
       "text": [
        "\n",
        "[GridSearchCV] C=10000000.0, gamma=0.25 ........................................\n",
        "[GridSearchCV] ............... C=10000000.0, gamma=0.25, score=0.960000 -   0.1s"
       ]
      },
      {
       "output_type": "stream",
       "stream": "stdout",
       "text": [
        "\n",
        "[GridSearchCV] C=10000000.0, gamma=0.27 ........................................\n",
        "[GridSearchCV] ............... C=10000000.0, gamma=0.27, score=0.930000 -   0.1s"
       ]
      },
      {
       "output_type": "stream",
       "stream": "stdout",
       "text": [
        "\n",
        "[GridSearchCV] C=10000000.0, gamma=0.27 ........................................\n",
        "[GridSearchCV] ............... C=10000000.0, gamma=0.27, score=0.920000 -   0.2s"
       ]
      },
      {
       "output_type": "stream",
       "stream": "stdout",
       "text": [
        "\n",
        "[GridSearchCV] C=10000000.0, gamma=0.27 ........................................\n",
        "[GridSearchCV] ............... C=10000000.0, gamma=0.27, score=0.920000 -   0.2s"
       ]
      },
      {
       "output_type": "stream",
       "stream": "stdout",
       "text": [
        "\n",
        "[GridSearchCV] C=10000000.0, gamma=0.27 ........................................\n",
        "[GridSearchCV] ............... C=10000000.0, gamma=0.27, score=0.930000 -   0.2s"
       ]
      },
      {
       "output_type": "stream",
       "stream": "stdout",
       "text": [
        "\n",
        "[GridSearchCV] C=10000000.0, gamma=0.27 ........................................\n",
        "[GridSearchCV] ............... C=10000000.0, gamma=0.27, score=0.950000 -   0.2s"
       ]
      },
      {
       "output_type": "stream",
       "stream": "stdout",
       "text": [
        "\n",
        "[GridSearchCV] C=10000000.0, gamma=0.27 ........................................\n",
        "[GridSearchCV] ............... C=10000000.0, gamma=0.27, score=0.900000 -   0.2s"
       ]
      },
      {
       "output_type": "stream",
       "stream": "stdout",
       "text": [
        "\n",
        "[GridSearchCV] C=10000000.0, gamma=0.27 ........................................\n",
        "[GridSearchCV] ............... C=10000000.0, gamma=0.27, score=0.960000 -   0.2s"
       ]
      },
      {
       "output_type": "stream",
       "stream": "stdout",
       "text": [
        "\n",
        "[GridSearchCV] C=10000000.0, gamma=0.29 ........................................\n",
        "[GridSearchCV] ............... C=10000000.0, gamma=0.29, score=0.920000 -   0.2s"
       ]
      },
      {
       "output_type": "stream",
       "stream": "stdout",
       "text": [
        "\n",
        "[GridSearchCV] C=10000000.0, gamma=0.29 ........................................\n",
        "[GridSearchCV] ............... C=10000000.0, gamma=0.29, score=0.920000 -   0.2s"
       ]
      },
      {
       "output_type": "stream",
       "stream": "stdout",
       "text": [
        "\n",
        "[GridSearchCV] C=10000000.0, gamma=0.29 ........................................\n",
        "[GridSearchCV] ............... C=10000000.0, gamma=0.29, score=0.920000 -   0.2s"
       ]
      },
      {
       "output_type": "stream",
       "stream": "stdout",
       "text": [
        "\n",
        "[GridSearchCV] C=10000000.0, gamma=0.29 ........................................\n",
        "[GridSearchCV] ............... C=10000000.0, gamma=0.29, score=0.930000 -   0.2s"
       ]
      },
      {
       "output_type": "stream",
       "stream": "stdout",
       "text": [
        "\n",
        "[GridSearchCV] C=10000000.0, gamma=0.29 ........................................\n",
        "[GridSearchCV] ............... C=10000000.0, gamma=0.29, score=0.940000 -   0.2s"
       ]
      },
      {
       "output_type": "stream",
       "stream": "stdout",
       "text": [
        "\n",
        "[GridSearchCV] C=10000000.0, gamma=0.29 ........................................\n",
        "[GridSearchCV] ............... C=10000000.0, gamma=0.29, score=0.900000 -   0.2s"
       ]
      },
      {
       "output_type": "stream",
       "stream": "stdout",
       "text": [
        "\n",
        "[GridSearchCV] C=10000000.0, gamma=0.29 ........................................\n",
        "[GridSearchCV] ............... C=10000000.0, gamma=0.29, score=0.960000 -   0.2s"
       ]
      },
      {
       "output_type": "stream",
       "stream": "stdout",
       "text": [
        "\n",
        "[GridSearchCV] C=10000000.0, gamma=0.31 ........................................\n",
        "[GridSearchCV] ............... C=10000000.0, gamma=0.31, score=0.920000 -   0.2s"
       ]
      },
      {
       "output_type": "stream",
       "stream": "stdout",
       "text": [
        "\n",
        "[GridSearchCV] C=10000000.0, gamma=0.31 ........................................\n",
        "[GridSearchCV] ............... C=10000000.0, gamma=0.31, score=0.910000 -   0.2s"
       ]
      },
      {
       "output_type": "stream",
       "stream": "stdout",
       "text": [
        "\n",
        "[GridSearchCV] C=10000000.0, gamma=0.31 ........................................\n",
        "[GridSearchCV] ............... C=10000000.0, gamma=0.31, score=0.920000 -   0.2s"
       ]
      },
      {
       "output_type": "stream",
       "stream": "stdout",
       "text": [
        "\n",
        "[GridSearchCV] C=10000000.0, gamma=0.31 ........................................\n",
        "[GridSearchCV] ............... C=10000000.0, gamma=0.31, score=0.920000 -   0.2s"
       ]
      },
      {
       "output_type": "stream",
       "stream": "stdout",
       "text": [
        "\n",
        "[GridSearchCV] C=10000000.0, gamma=0.31 ........................................\n",
        "[GridSearchCV] ............... C=10000000.0, gamma=0.31, score=0.940000 -   0.2s"
       ]
      },
      {
       "output_type": "stream",
       "stream": "stdout",
       "text": [
        "\n",
        "[GridSearchCV] C=10000000.0, gamma=0.31 ........................................\n",
        "[GridSearchCV] ............... C=10000000.0, gamma=0.31, score=0.900000 -   0.2s"
       ]
      },
      {
       "output_type": "stream",
       "stream": "stdout",
       "text": [
        "\n",
        "[GridSearchCV] C=10000000.0, gamma=0.31 ........................................\n",
        "[GridSearchCV] ............... C=10000000.0, gamma=0.31, score=0.960000 -   0.2s"
       ]
      },
      {
       "output_type": "stream",
       "stream": "stdout",
       "text": [
        "\n",
        "[GridSearchCV] C=10000000.0, gamma=0.33 ........................................\n",
        "[GridSearchCV] ............... C=10000000.0, gamma=0.33, score=0.920000 -   0.2s"
       ]
      },
      {
       "output_type": "stream",
       "stream": "stdout",
       "text": [
        "\n",
        "[GridSearchCV] C=10000000.0, gamma=0.33 ........................................\n",
        "[GridSearchCV] ............... C=10000000.0, gamma=0.33, score=0.910000 -   0.2s"
       ]
      },
      {
       "output_type": "stream",
       "stream": "stdout",
       "text": [
        "\n",
        "[GridSearchCV] C=10000000.0, gamma=0.33 ........................................\n",
        "[GridSearchCV] ............... C=10000000.0, gamma=0.33, score=0.920000 -   0.1s"
       ]
      },
      {
       "output_type": "stream",
       "stream": "stdout",
       "text": [
        "\n",
        "[GridSearchCV] C=10000000.0, gamma=0.33 ........................................\n",
        "[GridSearchCV] ............... C=10000000.0, gamma=0.33, score=0.920000 -   0.1s"
       ]
      },
      {
       "output_type": "stream",
       "stream": "stdout",
       "text": [
        "\n",
        "[GridSearchCV] C=10000000.0, gamma=0.33 ........................................\n",
        "[GridSearchCV] ............... C=10000000.0, gamma=0.33, score=0.940000 -   0.1s"
       ]
      },
      {
       "output_type": "stream",
       "stream": "stdout",
       "text": [
        "\n",
        "[GridSearchCV] C=10000000.0, gamma=0.33 ........................................\n",
        "[GridSearchCV] ............... C=10000000.0, gamma=0.33, score=0.880000 -   0.1s"
       ]
      },
      {
       "output_type": "stream",
       "stream": "stdout",
       "text": [
        "\n",
        "[GridSearchCV] C=10000000.0, gamma=0.33 ........................................\n",
        "[GridSearchCV] ............... C=10000000.0, gamma=0.33, score=0.960000 -   0.1s"
       ]
      },
      {
       "output_type": "stream",
       "stream": "stdout",
       "text": [
        "\n",
        "[GridSearchCV] C=10000000.0, gamma=0.35 ........................................\n",
        "[GridSearchCV] ............... C=10000000.0, gamma=0.35, score=0.920000 -   0.1s"
       ]
      },
      {
       "output_type": "stream",
       "stream": "stdout",
       "text": [
        "\n",
        "[GridSearchCV] C=10000000.0, gamma=0.35 ........................................\n",
        "[GridSearchCV] ............... C=10000000.0, gamma=0.35, score=0.910000 -   0.1s"
       ]
      },
      {
       "output_type": "stream",
       "stream": "stdout",
       "text": [
        "\n",
        "[GridSearchCV] C=10000000.0, gamma=0.35 ........................................\n",
        "[GridSearchCV] ............... C=10000000.0, gamma=0.35, score=0.920000 -   0.1s"
       ]
      },
      {
       "output_type": "stream",
       "stream": "stdout",
       "text": [
        "\n",
        "[GridSearchCV] C=10000000.0, gamma=0.35 ........................................\n",
        "[GridSearchCV] ............... C=10000000.0, gamma=0.35, score=0.930000 -   0.1s"
       ]
      },
      {
       "output_type": "stream",
       "stream": "stdout",
       "text": [
        "\n",
        "[GridSearchCV] C=10000000.0, gamma=0.35 ........................................\n",
        "[GridSearchCV] ............... C=10000000.0, gamma=0.35, score=0.940000 -   0.1s"
       ]
      },
      {
       "output_type": "stream",
       "stream": "stdout",
       "text": [
        "\n",
        "[GridSearchCV] C=10000000.0, gamma=0.35 ........................................\n",
        "[GridSearchCV] ............... C=10000000.0, gamma=0.35, score=0.880000 -   0.1s"
       ]
      },
      {
       "output_type": "stream",
       "stream": "stdout",
       "text": [
        "\n",
        "[GridSearchCV] C=10000000.0, gamma=0.35 ........................................\n",
        "[GridSearchCV] ............... C=10000000.0, gamma=0.35, score=0.960000 -   0.1s"
       ]
      },
      {
       "output_type": "stream",
       "stream": "stdout",
       "text": [
        "\n",
        "[GridSearchCV] C=10000000.0, gamma=0.37 ........................................\n",
        "[GridSearchCV] ............... C=10000000.0, gamma=0.37, score=0.920000 -   0.1s"
       ]
      },
      {
       "output_type": "stream",
       "stream": "stdout",
       "text": [
        "\n",
        "[GridSearchCV] C=10000000.0, gamma=0.37 ........................................\n",
        "[GridSearchCV] ............... C=10000000.0, gamma=0.37, score=0.910000 -   0.1s"
       ]
      },
      {
       "output_type": "stream",
       "stream": "stdout",
       "text": [
        "\n",
        "[GridSearchCV] C=10000000.0, gamma=0.37 ........................................\n",
        "[GridSearchCV] ............... C=10000000.0, gamma=0.37, score=0.910000 -   0.1s"
       ]
      },
      {
       "output_type": "stream",
       "stream": "stdout",
       "text": [
        "\n",
        "[GridSearchCV] C=10000000.0, gamma=0.37 ........................................\n",
        "[GridSearchCV] ............... C=10000000.0, gamma=0.37, score=0.930000 -   0.1s"
       ]
      },
      {
       "output_type": "stream",
       "stream": "stdout",
       "text": [
        "\n",
        "[GridSearchCV] C=10000000.0, gamma=0.37 ........................................\n",
        "[GridSearchCV] ............... C=10000000.0, gamma=0.37, score=0.950000 -   0.1s"
       ]
      },
      {
       "output_type": "stream",
       "stream": "stdout",
       "text": [
        "\n",
        "[GridSearchCV] C=10000000.0, gamma=0.37 ........................................\n",
        "[GridSearchCV] ............... C=10000000.0, gamma=0.37, score=0.880000 -   0.1s"
       ]
      },
      {
       "output_type": "stream",
       "stream": "stdout",
       "text": [
        "\n",
        "[GridSearchCV] C=10000000.0, gamma=0.37 ........................................\n",
        "[GridSearchCV] ............... C=10000000.0, gamma=0.37, score=0.970000 -   0.1s"
       ]
      },
      {
       "output_type": "stream",
       "stream": "stdout",
       "text": [
        "\n",
        "[GridSearchCV] C=10000000.0, gamma=0.39 ........................................\n",
        "[GridSearchCV] ............... C=10000000.0, gamma=0.39, score=0.920000 -   0.1s"
       ]
      },
      {
       "output_type": "stream",
       "stream": "stdout",
       "text": [
        "\n",
        "[GridSearchCV] C=10000000.0, gamma=0.39 ........................................\n",
        "[GridSearchCV] ............... C=10000000.0, gamma=0.39, score=0.910000 -   0.2s"
       ]
      },
      {
       "output_type": "stream",
       "stream": "stdout",
       "text": [
        "\n",
        "[GridSearchCV] C=10000000.0, gamma=0.39 ........................................\n",
        "[GridSearchCV] ............... C=10000000.0, gamma=0.39, score=0.910000 -   0.1s"
       ]
      },
      {
       "output_type": "stream",
       "stream": "stdout",
       "text": [
        "\n",
        "[GridSearchCV] C=10000000.0, gamma=0.39 ........................................\n",
        "[GridSearchCV] ............... C=10000000.0, gamma=0.39, score=0.930000 -   0.1s"
       ]
      },
      {
       "output_type": "stream",
       "stream": "stdout",
       "text": [
        "\n",
        "[GridSearchCV] C=10000000.0, gamma=0.39 ........................................\n",
        "[GridSearchCV] ............... C=10000000.0, gamma=0.39, score=0.950000 -   0.1s"
       ]
      },
      {
       "output_type": "stream",
       "stream": "stdout",
       "text": [
        "\n",
        "[GridSearchCV] C=10000000.0, gamma=0.39 ........................................\n",
        "[GridSearchCV] ............... C=10000000.0, gamma=0.39, score=0.880000 -   0.1s"
       ]
      },
      {
       "output_type": "stream",
       "stream": "stdout",
       "text": [
        "\n",
        "[GridSearchCV] C=10000000.0, gamma=0.39 ........................................\n",
        "[GridSearchCV] ............... C=10000000.0, gamma=0.39, score=0.960000 -   0.1s"
       ]
      },
      {
       "output_type": "stream",
       "stream": "stdout",
       "text": [
        "\n",
        "[GridSearchCV] C=10000000.0, gamma=0.41 ........................................\n",
        "[GridSearchCV] ............... C=10000000.0, gamma=0.41, score=0.920000 -   0.1s"
       ]
      },
      {
       "output_type": "stream",
       "stream": "stdout",
       "text": [
        "\n",
        "[GridSearchCV] C=10000000.0, gamma=0.41 ........................................\n",
        "[GridSearchCV] ............... C=10000000.0, gamma=0.41, score=0.900000 -   0.2s"
       ]
      },
      {
       "output_type": "stream",
       "stream": "stdout",
       "text": [
        "\n",
        "[GridSearchCV] C=10000000.0, gamma=0.41 ........................................\n",
        "[GridSearchCV] ............... C=10000000.0, gamma=0.41, score=0.910000 -   0.2s"
       ]
      },
      {
       "output_type": "stream",
       "stream": "stdout",
       "text": [
        "\n",
        "[GridSearchCV] C=10000000.0, gamma=0.41 ........................................\n",
        "[GridSearchCV] ............... C=10000000.0, gamma=0.41, score=0.930000 -   0.1s"
       ]
      },
      {
       "output_type": "stream",
       "stream": "stdout",
       "text": [
        "\n",
        "[GridSearchCV] C=10000000.0, gamma=0.41 ........................................\n",
        "[GridSearchCV] ............... C=10000000.0, gamma=0.41, score=0.950000 -   0.2s"
       ]
      },
      {
       "output_type": "stream",
       "stream": "stdout",
       "text": [
        "\n",
        "[GridSearchCV] C=10000000.0, gamma=0.41 ........................................\n",
        "[GridSearchCV] ............... C=10000000.0, gamma=0.41, score=0.880000 -   0.2s"
       ]
      },
      {
       "output_type": "stream",
       "stream": "stdout",
       "text": [
        "\n",
        "[GridSearchCV] C=10000000.0, gamma=0.41 ........................................\n",
        "[GridSearchCV] ............... C=10000000.0, gamma=0.41, score=0.960000 -   0.1s"
       ]
      },
      {
       "output_type": "stream",
       "stream": "stdout",
       "text": [
        "\n",
        "[GridSearchCV] C=10000000.0, gamma=0.43 ........................................\n",
        "[GridSearchCV] ............... C=10000000.0, gamma=0.43, score=0.910000 -   0.2s"
       ]
      },
      {
       "output_type": "stream",
       "stream": "stdout",
       "text": [
        "\n",
        "[GridSearchCV] C=10000000.0, gamma=0.43 ........................................\n",
        "[GridSearchCV] ............... C=10000000.0, gamma=0.43, score=0.890000 -   0.2s"
       ]
      },
      {
       "output_type": "stream",
       "stream": "stdout",
       "text": [
        "\n",
        "[GridSearchCV] C=10000000.0, gamma=0.43 ........................................\n",
        "[GridSearchCV] ............... C=10000000.0, gamma=0.43, score=0.910000 -   0.2s"
       ]
      },
      {
       "output_type": "stream",
       "stream": "stdout",
       "text": [
        "\n",
        "[GridSearchCV] C=10000000.0, gamma=0.43 ........................................\n",
        "[GridSearchCV] ............... C=10000000.0, gamma=0.43, score=0.930000 -   0.1s"
       ]
      },
      {
       "output_type": "stream",
       "stream": "stdout",
       "text": [
        "\n",
        "[GridSearchCV] C=10000000.0, gamma=0.43 ........................................\n",
        "[GridSearchCV] ............... C=10000000.0, gamma=0.43, score=0.950000 -   0.1s"
       ]
      },
      {
       "output_type": "stream",
       "stream": "stdout",
       "text": [
        "\n",
        "[GridSearchCV] C=10000000.0, gamma=0.43 ........................................\n",
        "[GridSearchCV] ............... C=10000000.0, gamma=0.43, score=0.880000 -   0.1s"
       ]
      },
      {
       "output_type": "stream",
       "stream": "stdout",
       "text": [
        "\n",
        "[GridSearchCV] C=10000000.0, gamma=0.43 ........................................\n",
        "[GridSearchCV] ............... C=10000000.0, gamma=0.43, score=0.950000 -   0.1s"
       ]
      },
      {
       "output_type": "stream",
       "stream": "stdout",
       "text": [
        "\n",
        "[GridSearchCV] C=10000000.0, gamma=0.45 ........................................\n",
        "[GridSearchCV] ............... C=10000000.0, gamma=0.45, score=0.910000 -   0.1s"
       ]
      },
      {
       "output_type": "stream",
       "stream": "stdout",
       "text": [
        "\n",
        "[GridSearchCV] C=10000000.0, gamma=0.45 ........................................\n",
        "[GridSearchCV] ............... C=10000000.0, gamma=0.45, score=0.900000 -   0.1s"
       ]
      },
      {
       "output_type": "stream",
       "stream": "stdout",
       "text": [
        "\n",
        "[GridSearchCV] C=10000000.0, gamma=0.45 ........................................\n",
        "[GridSearchCV] ............... C=10000000.0, gamma=0.45, score=0.910000 -   0.2s"
       ]
      },
      {
       "output_type": "stream",
       "stream": "stdout",
       "text": [
        "\n",
        "[GridSearchCV] C=10000000.0, gamma=0.45 ........................................\n",
        "[GridSearchCV] ............... C=10000000.0, gamma=0.45, score=0.930000 -   0.1s"
       ]
      },
      {
       "output_type": "stream",
       "stream": "stdout",
       "text": [
        "\n",
        "[GridSearchCV] C=10000000.0, gamma=0.45 ........................................\n",
        "[GridSearchCV] ............... C=10000000.0, gamma=0.45, score=0.960000 -   0.1s"
       ]
      },
      {
       "output_type": "stream",
       "stream": "stdout",
       "text": [
        "\n",
        "[GridSearchCV] C=10000000.0, gamma=0.45 ........................................\n",
        "[GridSearchCV] ............... C=10000000.0, gamma=0.45, score=0.870000 -   0.1s"
       ]
      },
      {
       "output_type": "stream",
       "stream": "stdout",
       "text": [
        "\n",
        "[GridSearchCV] C=10000000.0, gamma=0.45 ........................................\n",
        "[GridSearchCV] ............... C=10000000.0, gamma=0.45, score=0.950000 -   0.1s"
       ]
      },
      {
       "output_type": "stream",
       "stream": "stdout",
       "text": [
        "\n",
        "[GridSearchCV] C=10000000.0, gamma=0.47 ........................................\n",
        "[GridSearchCV] ............... C=10000000.0, gamma=0.47, score=0.900000 -   0.1s"
       ]
      },
      {
       "output_type": "stream",
       "stream": "stdout",
       "text": [
        "\n",
        "[GridSearchCV] C=10000000.0, gamma=0.47 ........................................\n",
        "[GridSearchCV] ............... C=10000000.0, gamma=0.47, score=0.900000 -   0.1s"
       ]
      },
      {
       "output_type": "stream",
       "stream": "stdout",
       "text": [
        "\n",
        "[GridSearchCV] C=10000000.0, gamma=0.47 ........................................\n",
        "[GridSearchCV] ............... C=10000000.0, gamma=0.47, score=0.910000 -   0.1s"
       ]
      },
      {
       "output_type": "stream",
       "stream": "stdout",
       "text": [
        "\n",
        "[GridSearchCV] C=10000000.0, gamma=0.47 ........................................\n",
        "[GridSearchCV] ............... C=10000000.0, gamma=0.47, score=0.930000 -   0.1s"
       ]
      },
      {
       "output_type": "stream",
       "stream": "stdout",
       "text": [
        "\n",
        "[GridSearchCV] C=10000000.0, gamma=0.47 ........................................\n",
        "[GridSearchCV] ............... C=10000000.0, gamma=0.47, score=0.960000 -   0.1s"
       ]
      },
      {
       "output_type": "stream",
       "stream": "stdout",
       "text": [
        "\n",
        "[GridSearchCV] C=10000000.0, gamma=0.47 ........................................\n",
        "[GridSearchCV] ............... C=10000000.0, gamma=0.47, score=0.880000 -   0.1s"
       ]
      },
      {
       "output_type": "stream",
       "stream": "stdout",
       "text": [
        "\n",
        "[GridSearchCV] C=10000000.0, gamma=0.47 ........................................\n",
        "[GridSearchCV] ............... C=10000000.0, gamma=0.47, score=0.950000 -   0.1s"
       ]
      },
      {
       "output_type": "stream",
       "stream": "stdout",
       "text": [
        "\n",
        "[GridSearchCV] C=10000000.0, gamma=0.49 ........................................\n",
        "[GridSearchCV] ............... C=10000000.0, gamma=0.49, score=0.890000 -   0.2s"
       ]
      },
      {
       "output_type": "stream",
       "stream": "stdout",
       "text": [
        "\n",
        "[GridSearchCV] C=10000000.0, gamma=0.49 ........................................\n",
        "[GridSearchCV] ............... C=10000000.0, gamma=0.49, score=0.900000 -   0.2s"
       ]
      },
      {
       "output_type": "stream",
       "stream": "stdout",
       "text": [
        "\n",
        "[GridSearchCV] C=10000000.0, gamma=0.49 ........................................\n",
        "[GridSearchCV] ............... C=10000000.0, gamma=0.49, score=0.900000 -   0.2s"
       ]
      },
      {
       "output_type": "stream",
       "stream": "stdout",
       "text": [
        "\n",
        "[GridSearchCV] C=10000000.0, gamma=0.49 ........................................\n",
        "[GridSearchCV] ............... C=10000000.0, gamma=0.49, score=0.920000 -   0.2s"
       ]
      },
      {
       "output_type": "stream",
       "stream": "stdout",
       "text": [
        "\n",
        "[GridSearchCV] C=10000000.0, gamma=0.49 ........................................\n",
        "[GridSearchCV] ............... C=10000000.0, gamma=0.49, score=0.960000 -   0.2s"
       ]
      },
      {
       "output_type": "stream",
       "stream": "stdout",
       "text": [
        "\n",
        "[GridSearchCV] C=10000000.0, gamma=0.49 ........................................\n",
        "[GridSearchCV] ............... C=10000000.0, gamma=0.49, score=0.870000 -   0.2s"
       ]
      },
      {
       "output_type": "stream",
       "stream": "stdout",
       "text": [
        "\n",
        "[GridSearchCV] C=10000000.0, gamma=0.49 ........................................\n",
        "[GridSearchCV] ............... C=10000000.0, gamma=0.49, score=0.950000 -   0.1s"
       ]
      },
      {
       "output_type": "stream",
       "stream": "stderr",
       "text": [
        "[Parallel(n_jobs=1)]: Done  72 jobs       | elapsed:    8.6s\n",
        "[Parallel(n_jobs=1)]: Done 161 out of 161 | elapsed:   21.7s finished\n"
       ]
      },
      {
       "output_type": "stream",
       "stream": "stdout",
       "text": [
        "\n",
        "('The best classifier is: ', SVC(C=10000000.0, cache_size=1000, class_weight=None, coef0=0.0, degree=3,\n",
        "  gamma=0.23000000000000004, kernel='rbf', max_iter=-1, probability=True,\n",
        "  random_state=None, shrinking=True, tol=0.001, verbose=False))"
       ]
      },
      {
       "output_type": "stream",
       "stream": "stdout",
       "text": [
        "\n",
        "best score 0.932857142857\n"
       ]
      },
      {
       "metadata": {},
       "output_type": "display_data",
       "png": "[encoded data removed]",
       "text": [
        "<matplotlib.figure.Figure at 0x1014f7c10>"
       ]
      }
     ],
     "prompt_number": 143
    },
    {
     "cell_type": "heading",
     "level": 4,
     "metadata": {},
     "source": [
      "SVM Recursive to inflate new training set"
     ]
    },
    {
     "cell_type": "code",
     "collapsed": false,
     "input": [
      "limit_tr = 1000-limit_cv\n",
      "\n",
      "total_acc = 97.34\n",
      "fu2 = False\n",
      "\n",
      "while fu2 == False:\n",
      "    print '-'*20\n",
      "    clf = svm.SVC(kernel='rbf', cache_size=1000, probability=True, C=10000000., gamma=0.22, shrinking=True)\n",
      "    [A,B,C, acc, fu] = laundromat(clf, X_TR[0:limit_tr,:], Y_TR[0:limit_tr], X_TR[limit_tr:,:], 0.0, PCUT = 0.95)\n",
      "    clf = svm.SVC(kernel='rbf', cache_size=1000, probability=True, C=10000000., gamma=0.275, shrinking=False)\n",
      "    fu = False\n",
      "    acc = 0.9\n",
      "    past_c, past_acc = 0., 0.\n",
      "    while fu == False:\n",
      "        [A,B,C, acc, fu] = laundromat(clf, A, B, C, acc, PCUT = 0.99)\n",
      "        if past_c == C.shape[0] and past_acc == acc:\n",
      "            fu = True\n",
      "        else:\n",
      "            past_c = C.shape[0]\n",
      "            past_acc = acc\n",
      "    if acc > total_acc:\n",
      "        total_acc = acc\n",
      "        fu2 = True"
     ],
     "language": "python",
     "metadata": {},
     "outputs": [
      {
       "output_type": "stream",
       "stream": "stdout",
       "text": [
        "--------------------\n",
        "score on CV"
       ]
      },
      {
       "output_type": "stream",
       "stream": "stdout",
       "text": [
        " 95.3333333333 support vectors 477\n",
        "score on CV"
       ]
      },
      {
       "output_type": "stream",
       "stream": "stdout",
       "text": [
        " 96.6666666667 support vectors 1896\n",
        "score on CV"
       ]
      },
      {
       "output_type": "stream",
       "stream": "stdout",
       "text": [
        " 96.6666666667 support vectors 2090\n",
        "score on CV"
       ]
      },
      {
       "output_type": "stream",
       "stream": "stdout",
       "text": [
        " 97.3333333333 support vectors 2186\n",
        "score on CV"
       ]
      },
      {
       "output_type": "stream",
       "stream": "stdout",
       "text": [
        " 97.3333333333 support vectors 2249\n",
        "score on CV"
       ]
      },
      {
       "output_type": "stream",
       "stream": "stdout",
       "text": [
        " 97.6666666667 support vectors 2288\n",
        "score on CV"
       ]
      },
      {
       "output_type": "stream",
       "stream": "stdout",
       "text": [
        " 97.6666666667 support vectors 2303\n",
        "score on CV"
       ]
      },
      {
       "output_type": "stream",
       "stream": "stdout",
       "text": [
        " 97.6666666667 support vectors 2297\n",
        "score on CV"
       ]
      },
      {
       "output_type": "stream",
       "stream": "stdout",
       "text": [
        " 97.6666666667 support vectors 2306\n",
        "score on CV"
       ]
      },
      {
       "output_type": "stream",
       "stream": "stdout",
       "text": [
        " 97.6666666667 support vectors 2313\n",
        "score on CV"
       ]
      },
      {
       "output_type": "stream",
       "stream": "stdout",
       "text": [
        " 97.3333333333 support vectors 2316\n",
        "breaking out\n"
       ]
      }
     ],
     "prompt_number": 165
    },
    {
     "cell_type": "code",
     "collapsed": false,
     "input": [
      "print 'accuracy', acc\n",
      "print 'support v', clf.support_vectors_.shape[0]\n",
      "print 'A', A.shape\n",
      "print 'B', B.shape\n",
      "print 'C', C.shape"
     ],
     "language": "python",
     "metadata": {},
     "outputs": [
      {
       "output_type": "stream",
       "stream": "stdout",
       "text": [
        "accuracy 97.6666666667\n",
        "support v 2316\n",
        "A (8508, 12)\n",
        "B (8508,)\n",
        "C (1192, 12)\n"
       ]
      }
     ],
     "prompt_number": 166
    },
    {
     "cell_type": "heading",
     "level": 4,
     "metadata": {},
     "source": [
      "SVM on new training set"
     ]
    },
    {
     "cell_type": "code",
     "collapsed": false,
     "input": [
      "clf_svm = svm.SVC(kernel='rbf', cache_size=1000, probability=True, C=10000000, gamma = 0.275)\n",
      "clf_svm.fit(A, B)"
     ],
     "language": "python",
     "metadata": {},
     "outputs": [
      {
       "metadata": {},
       "output_type": "pyout",
       "prompt_number": 167,
       "text": [
        "SVC(C=10000000, cache_size=1000, class_weight=None, coef0=0.0, degree=3,\n",
        "  gamma=0.275, kernel='rbf', max_iter=-1, probability=True,\n",
        "  random_state=None, shrinking=True, tol=0.001, verbose=False)"
       ]
      }
     ],
     "prompt_number": 167
    },
    {
     "cell_type": "heading",
     "level": 4,
     "metadata": {},
     "source": [
      "NN on new training set"
     ]
    },
    {
     "cell_type": "code",
     "collapsed": false,
     "input": [
      "from Neurotic import *\n",
      "def neuracc(thetas, x, y):\n",
      "    tot = y.shape[0]\n",
      "    count = 0.0\n",
      "    for i, truth in enumerate(y):\n",
      "        sol = h(thetas, layers, x[i])\n",
      "        if np.argmax(sol)== truth:\n",
      "            count +=1.\n",
      "    return 100.*count/tot\n",
      "\n",
      "def optimizeThetas(tinit, layers, x, y, lam, visual=True):\n",
      "    def f(w):\n",
      "        return j(w, layers, x, y, lam)\n",
      "    def fprime(w):\n",
      "        return v(w, layers, x, y, lam)\n",
      "    \n",
      "    [thetas, f, d] = fmin_l_bfgs_b(func=f, x0=tinit, fprime=fprime, maxiter=1000)\n",
      "    if visual:\n",
      "        print thetas[0:10]\n",
      "        print f\n",
      "        print d\n",
      "    return thetas"
     ],
     "language": "python",
     "metadata": {},
     "outputs": [],
     "prompt_number": 168
    },
    {
     "cell_type": "code",
     "collapsed": false,
     "input": [
      "M, nodes = A.shape\n",
      "Y3 = np.atleast_2d(B).T\n",
      "\n",
      "layers = [2*nodes, nodes, 2]\n",
      "tinit = np.hstack([randomize_thetas(2*nodes,nodes).flatten(), \n",
      "                   randomize_thetas(nodes,2*nodes).flatten(),\n",
      "                   randomize_thetas(2,nodes).flatten()])\n",
      "\n",
      "\n",
      "opt_score, opt_lala, opt_ot = 0.0, 0.0, None\n",
      "#for lala in [0.000001, 0.00001, 0.0001, 0.001]:\n",
      "for lala in [1e-05]:\n",
      "    ot = optimizeThetas(tinit, layers, A, Y3, lala)\n",
      "    new_acc = neuracc(ot, X_CV, Y_CV)\n",
      "    print 'lala', lala, new_acc\n",
      "    if new_acc > opt_score:\n",
      "        opt_score = new_acc\n",
      "        opt_lala = lala\n",
      "        opt_ot = ot\n",
      "\n",
      "print '_______________BEST SCORE:', opt_score\n",
      "print 'best lambda:', opt_lala"
     ],
     "language": "python",
     "metadata": {},
     "outputs": [
      {
       "output_type": "stream",
       "stream": "stdout",
       "text": [
        "[-2.74403347 -4.90871683 -7.91917709 -2.71051107  2.12882796  2.40848389\n",
        " -3.21599538 -1.04307122  5.64256796 -1.32695866]\n",
        "3.44839840471e-05\n",
        "{'warnflag': 0, 'task': 'CONVERGENCE: NORM_OF_PROJECTED_GRADIENT_<=_PGTOL', 'grad': array([  2.11041808e-06,  -1.65383403e-07,  -2.38570276e-06,\n",
        "         7.57070893e-07,   2.32020531e-06,   4.07174826e-06,\n",
        "         1.16675020e-06,  -2.52621597e-06,   8.05208942e-07,\n",
        "         9.76344198e-07,  -1.00650037e-06,   3.82862385e-06,\n",
        "         4.68742131e-07,  -6.31986489e-07,   2.47444631e-06,\n",
        "         1.04557070e-06,  -8.51780344e-07,   1.52393951e-06,\n",
        "        -1.64540439e-06,  -1.69928158e-06,   2.11468328e-06,\n",
        "         1.13692413e-06,  -1.58642817e-08,   2.71773608e-06,\n",
        "         8.31233751e-07,   1.05770446e-06,  -2.84884720e-06,\n",
        "        -4.46828104e-06,  -2.26919540e-06,  -1.86317326e-06,\n",
        "        -2.86857562e-06,  -8.93215359e-07,   3.67784507e-07,\n",
        "         2.64455731e-06,   2.71049229e-06,  -2.50216499e-06,\n",
        "         2.89754866e-06,  -3.68840454e-06,  -4.65006883e-07,\n",
        "         3.14702621e-07,   1.09525848e-06,  -2.37135615e-07,\n",
        "         2.01063311e-06,  -9.59163822e-07,  -9.72613490e-07,\n",
        "         6.50022857e-07,   2.11889491e-06,   1.48502473e-06,\n",
        "        -5.93596848e-07,  -1.84935115e-06,  -3.37138348e-08,\n",
        "        -9.55150615e-08,   1.93665647e-06,  -2.75304930e-06,\n",
        "         6.61565210e-06,  -4.16278241e-08,   7.60962396e-07,\n",
        "         1.71112229e-06,  -3.57116396e-06,   5.11184011e-06,\n",
        "        -3.03656055e-07,  -5.34056062e-06,   5.02721363e-06,\n",
        "         7.76757616e-07,  -2.17820961e-06,  -1.83958474e-06,\n",
        "         1.44148538e-06,   7.67993145e-07,   1.79745795e-06,\n",
        "        -1.55510476e-06,  -3.88652092e-07,  -1.01043648e-06,\n",
        "        -2.73638260e-06,   9.34278320e-07,  -8.18093668e-07,\n",
        "         1.28743578e-06,   1.43631814e-06,   2.76455491e-07,\n",
        "         2.11101539e-06,   1.32837869e-07,   9.38667133e-07,\n",
        "        -4.12451592e-07,   5.91091699e-08,   2.27066157e-06,\n",
        "         3.22237721e-06,   8.75314575e-07,  -1.22267928e-06,\n",
        "        -1.64520918e-06,   3.17101927e-08,  -5.71748352e-07,\n",
        "        -2.63269888e-06,   5.45470869e-06,   3.81647081e-06,\n",
        "         3.59145457e-07,   3.82708754e-06,  -1.20885947e-06,\n",
        "         6.32630973e-07,  -1.63913534e-06,  -2.56201454e-06,\n",
        "        -4.68723497e-06,   2.95574261e-06,   3.65411638e-06,\n",
        "        -2.86063251e-06,  -2.68398776e-07,   2.44385596e-06,\n",
        "         3.77640370e-06,  -2.46126848e-06,   6.22669114e-07,\n",
        "        -2.27612155e-07,  -3.55530585e-06,  -3.08602247e-06,\n",
        "        -1.42861098e-06,   4.20592851e-07,   3.19022067e-06,\n",
        "        -2.70532025e-06,  -2.56292864e-06,  -2.42172557e-06,\n",
        "         7.15686328e-06,   1.57884050e-06,  -3.93056781e-07,\n",
        "         3.25876369e-06,  -2.93597129e-06,  -2.12810806e-06,\n",
        "        -1.61511392e-06,  -2.26560531e-06,   1.41002756e-08,\n",
        "         3.13947072e-06,  -1.41557689e-06,  -6.80903690e-07,\n",
        "        -1.34789240e-07,  -3.12560755e-06,   1.29343158e-06,\n",
        "        -4.14441120e-06,   9.93830827e-08,  -5.15421436e-07,\n",
        "        -2.36441171e-06,   2.71194378e-08,  -4.70413679e-06,\n",
        "         1.34313094e-06,   1.82384569e-06,  -4.12665514e-07,\n",
        "        -3.04322465e-06,  -1.44113068e-06,  -1.23507978e-07,\n",
        "        -2.89162908e-06,  -2.47454332e-06,   1.43347287e-06,\n",
        "         3.43223923e-06,   2.07357489e-06,  -4.41658076e-07,\n",
        "        -1.20344909e-06,   1.38088662e-06,  -2.01082076e-06,\n",
        "        -4.61479836e-06,  -1.54362654e-06,  -1.05986406e-06,\n",
        "        -3.98720968e-06,   6.04268126e-08,  -1.05290370e-06,\n",
        "        -1.48244020e-06,  -4.15103678e-06,  -4.43384640e-06,\n",
        "        -3.45283355e-06,   1.67199916e-06,   1.67496994e-06,\n",
        "        -2.05320934e-06,   7.21491844e-07,   1.47290754e-06,\n",
        "        -2.76585485e-07,  -9.95414109e-07,  -4.39745229e-07,\n",
        "         9.30947503e-07,  -1.36217948e-06,  -3.83994335e-07,\n",
        "        -1.09763914e-06,   2.42458933e-07,  -4.45704637e-07,\n",
        "        -1.70033932e-06,  -4.17257049e-07,   1.41341038e-06,\n",
        "         6.49088642e-10,   8.82878960e-07,   2.00118055e-06,\n",
        "        -8.32504755e-08,  -9.43171839e-07,   7.74035275e-08,\n",
        "        -1.77718108e-06,   1.88309963e-06,   5.61483583e-07,\n",
        "         3.64482707e-08,   1.23110929e-06,   2.41783378e-08,\n",
        "         3.17921125e-06,  -2.57790681e-08,  -1.00303800e-06,\n",
        "         3.19590581e-06,   1.75047292e-06,   8.07917363e-07,\n",
        "        -1.17639357e-06,  -3.30582997e-07,   1.34231313e-06,\n",
        "        -2.21747295e-06,  -1.04702049e-06,  -1.62372169e-06,\n",
        "         2.23686689e-06,   6.34465880e-07,  -4.91637729e-06,\n",
        "        -1.18929885e-06,   1.73892288e-06,   6.04395287e-07,\n",
        "        -2.22684829e-06,   1.19432924e-06,  -8.10218961e-07,\n",
        "         1.42676790e-06,   1.24934960e-06,  -1.61067243e-06,\n",
        "        -1.91582947e-06,  -2.56385410e-07,   3.45068548e-06,\n",
        "         1.51764593e-06,   2.22968881e-07,  -2.10854211e-06,\n",
        "        -2.90531877e-06,   1.88943775e-07,  -4.22649789e-06,\n",
        "        -3.62506856e-07,   8.70873490e-07,   7.43329664e-06,\n",
        "         2.17871479e-06,   1.32192090e-06,  -5.93945498e-06,\n",
        "        -1.44489903e-06,   2.80164850e-06,  -1.32167276e-06,\n",
        "         7.34367279e-07,   2.90549729e-06,   1.40802488e-06,\n",
        "         2.33026596e-06,  -5.65237885e-07,  -5.30052410e-07,\n",
        "        -6.28099603e-07,  -1.19935467e-06,  -1.85164394e-06,\n",
        "         2.31862510e-06,   2.46689236e-06,  -1.26723012e-06,\n",
        "         1.61726333e-06,   6.04289099e-08,  -3.69609573e-07,\n",
        "        -8.61846503e-07,   7.85353133e-07,  -4.55801506e-07,\n",
        "        -9.32847009e-07,   2.68449411e-07,   7.69245807e-07,\n",
        "        -2.05125494e-07,  -1.65522911e-06,  -1.38009369e-06,\n",
        "         3.51752641e-06,   6.47149007e-07,   1.33932197e-06,\n",
        "        -5.18838196e-07,  -1.54751738e-06,   3.78989704e-06,\n",
        "        -6.68656778e-07,  -1.80595048e-06,  -3.55140748e-07,\n",
        "         2.95163382e-07,   1.16999795e-06,   1.68493683e-06,\n",
        "        -1.21921849e-06,   1.77481082e-06,   1.02809794e-06,\n",
        "        -7.55978542e-06,  -4.41179149e-06,  -4.79802439e-06,\n",
        "        -1.99494189e-06,   6.52043542e-07,   2.14522684e-06,\n",
        "         2.08152229e-06,  -5.84676930e-07,   1.10864224e-06,\n",
        "        -5.20256871e-06,  -5.96246319e-06,   5.73086725e-06,\n",
        "        -2.36439173e-07,  -6.46589485e-07,  -5.77711444e-07,\n",
        "        -6.58575764e-07,  -5.13050251e-07,   2.22459411e-06,\n",
        "        -1.90679451e-06,  -8.04386961e-07,   9.91557352e-09,\n",
        "         2.96830002e-06,   1.86860134e-06,  -1.03064647e-06,\n",
        "        -5.84899225e-07,  -2.74285962e-06,   2.93866964e-06,\n",
        "         2.82280636e-06,   1.70664250e-06,   8.81145748e-07,\n",
        "         2.13995558e-06,  -3.52796639e-07,  -1.10626996e-06,\n",
        "        -9.89577858e-07,  -6.96570634e-07,   2.57288636e-06,\n",
        "         4.64369088e-07,  -1.26685773e-07,   6.43503926e-07,\n",
        "        -2.49145400e-06,  -3.37669970e-07,  -5.40011419e-07,\n",
        "        -7.66131561e-07,  -1.50397315e-06,  -1.10279199e-06,\n",
        "         2.07530398e-07,   4.63700766e-07,  -2.30998468e-07,\n",
        "        -1.25875749e-06,  -1.04510791e-06,  -3.62725778e-06,\n",
        "        -1.58291538e-06,  -1.16032400e-06,  -1.99177849e-06,\n",
        "        -2.83521941e-07,  -1.73176337e-06,  -6.59004378e-07,\n",
        "        -1.11655048e-06,  -9.25533881e-07,  -2.06316066e-06,\n",
        "         5.37255419e-07,  -7.54522137e-07,  -1.17042301e-06,\n",
        "        -1.04941649e-06,  -1.08356116e-06,  -5.52620866e-07,\n",
        "        -3.13525804e-07,  -6.92588113e-07,  -4.70493070e-07,\n",
        "         8.03504299e-08,   3.26373552e-07,  -2.57607028e-07,\n",
        "        -1.29928487e-06,   1.54421002e-07,  -5.11210042e-07,\n",
        "        -1.48004501e-06,  -5.82136373e-07,  -3.87578217e-07,\n",
        "        -1.88679207e-07,  -1.77777052e-07,   4.51347114e-07,\n",
        "         2.15517539e-07,   2.09423485e-07,  -1.45220052e-06,\n",
        "        -1.43786614e-07,  -7.96230330e-07,   8.27297198e-07,\n",
        "        -6.03678018e-07,  -3.74401259e-07,  -2.15721223e-07,\n",
        "        -2.52092053e-07,  -2.85982883e-07,  -1.85364013e-08,\n",
        "        -1.44289656e-07,  -3.41962156e-07,  -8.36962218e-08,\n",
        "        -3.22292463e-07,  -2.71161861e-07,  -2.25054133e-07,\n",
        "        -2.62868709e-08,  -7.79569122e-08,  -5.85629397e-08,\n",
        "        -4.01375676e-08,   7.17268088e-08,  -1.71008055e-07,\n",
        "        -3.03219640e-07,  -2.74758186e-08,   8.56346533e-09,\n",
        "        -2.63075752e-07,   4.60171338e-08,  -9.91487539e-08,\n",
        "        -3.74914660e-07,  -2.49185054e-07,  -9.87828842e-08,\n",
        "         5.01633629e-06,   1.88867182e-06,   2.69181438e-06,\n",
        "         4.65117889e-07,   5.72114107e-06,   9.65215786e-07,\n",
        "         2.16960791e-06,   2.46458469e-07,   1.46341985e-06,\n",
        "         1.00072252e-06,   1.37903358e-06,   2.82849609e-06,\n",
        "         2.79269430e-06,   4.45684139e-06,   5.64576869e-06,\n",
        "         5.26237769e-06,   2.98700733e-06,   3.19813334e-06,\n",
        "         2.79773149e-06,   2.54180966e-06,   5.68937367e-06,\n",
        "         2.39612985e-06,   4.79993490e-07,   2.83278295e-06,\n",
        "        -2.28304424e-07,   1.48106299e-06,   5.57437196e-07,\n",
        "         1.34758922e-06,   5.91112511e-07,   1.60748785e-06,\n",
        "         1.13545831e-06,   2.64090875e-07,   8.87916523e-07,\n",
        "         1.39967898e-06,   7.89476820e-07,   4.15574738e-07,\n",
        "         1.05119646e-06,   1.73268116e-08,   7.41302775e-07,\n",
        "        -7.91415894e-08,   9.13626024e-07,   6.07779232e-07,\n",
        "         6.92276864e-07,   7.36732636e-07,   1.34322947e-06,\n",
        "         2.49455949e-08,   2.75190195e-07,   8.95641375e-07,\n",
        "         1.26219057e-06,   4.31555442e-07,   4.59713565e-07,\n",
        "        -9.31335176e-07,   4.98190621e-07,  -5.02692525e-08,\n",
        "         2.60560483e-07,  -1.50992641e-06,  -7.29651373e-07,\n",
        "        -7.80305349e-07,   7.67142301e-07,  -2.73040980e-07,\n",
        "         7.15470103e-07,   1.57795433e-07,  -7.50956825e-08,\n",
        "         9.92018048e-07,   5.23830184e-07,  -3.95866097e-07,\n",
        "        -1.04912020e-06,  -4.85748900e-07,  -2.90355150e-07,\n",
        "         9.91867523e-07,   1.43992938e-07,   8.72708726e-07,\n",
        "        -1.27580210e-06,   1.31812905e-07,  -6.00823604e-07,\n",
        "         4.33082434e-07,   3.39845806e-07,  -2.44986930e-07,\n",
        "         2.62484570e-07,   2.89979507e-07,   7.07894960e-07,\n",
        "         5.30014515e-07,   1.75209286e-07,   3.35205248e-07,\n",
        "         2.31524891e-07,   1.22911924e-07,   6.33123620e-07,\n",
        "         3.89700370e-07,   5.51403513e-07,  -9.14236884e-08,\n",
        "         3.06467257e-07,   1.72681300e-07,   2.76986056e-07,\n",
        "         5.52271717e-07,   3.53912512e-07,   3.39810009e-07,\n",
        "         1.44998997e-07,   2.62717091e-07,   4.98820345e-07,\n",
        "         5.29721179e-07,   2.14091822e-06,   5.73867324e-07,\n",
        "         1.39889284e-06,   3.85076318e-08,   2.02509366e-06,\n",
        "         3.64668211e-07,  -8.42775083e-08,  -8.69582548e-07,\n",
        "         1.44612786e-06,   1.32357906e-06,   1.44509913e-06,\n",
        "         4.56898381e-07,   2.17177612e-07,   1.49172836e-06,\n",
        "         4.26217722e-07,  -2.31900929e-07,  -9.09625800e-07,\n",
        "         6.67739893e-08,   3.55003999e-07,   1.71197054e-06,\n",
        "         6.37520884e-08,   2.55290685e-06,  -3.24700631e-07,\n",
        "         2.03186471e-06,   6.99021570e-07,   2.12595040e-07,\n",
        "        -2.67165271e-07,   2.45446168e-08,   1.41394229e-07,\n",
        "        -6.40151259e-09,  -5.33336044e-07,  -3.11640109e-07,\n",
        "        -3.36563342e-07,   2.38869008e-07,  -2.00461384e-07,\n",
        "         5.26216916e-07,   3.10005336e-07,   2.26589626e-07,\n",
        "         2.21579029e-07,   3.19116143e-07,  -2.05563459e-07,\n",
        "        -2.61911285e-07,  -2.38372077e-07,  -1.65275316e-07,\n",
        "         3.30590702e-07,   1.02578986e-07,   2.61932840e-07,\n",
        "        -5.19942200e-07,  -1.28420742e-07,  -4.18531905e-08,\n",
        "         1.01849160e-06,   8.27058204e-07,   9.32379452e-08,\n",
        "         4.99274617e-07,   5.86179128e-07,   2.42139957e-07,\n",
        "        -7.67662282e-08,   6.90433840e-07,   3.58054684e-07,\n",
        "        -8.07639528e-07,   1.07302573e-06,   6.30166629e-07,\n",
        "         1.18589669e-06,   9.10026174e-07,   1.23495631e-06,\n",
        "         1.24521586e-06,   3.03838216e-08,  -3.53092162e-07,\n",
        "        -3.66674442e-07,   7.53588803e-07,   7.09745971e-07,\n",
        "         1.94447013e-07,  -2.24244075e-07,   8.49959406e-07,\n",
        "         1.24619820e-06,  -2.25776645e-06,  -4.07671179e-08,\n",
        "        -2.21327748e-06,  -1.21734267e-06,  -1.94766396e-06,\n",
        "        -8.63420766e-07,  -6.24913489e-07,   1.11270640e-06,\n",
        "        -1.96516634e-06,  -1.57791187e-06,  -1.74117674e-06,\n",
        "         1.66358113e-07,   1.61156376e-07,  -3.27004127e-06,\n",
        "         4.04845840e-07,  -7.87692922e-08,   6.62105222e-08,\n",
        "         4.08571639e-07,  -4.07087499e-07,  -2.17971063e-06,\n",
        "        -7.83159675e-07,  -1.20366237e-06,  -1.92509419e-07,\n",
        "        -1.05979353e-06,   1.76150205e-07,   1.76714533e-07,\n",
        "        -2.87046154e-07,   1.35826388e-06,   3.84512684e-07,\n",
        "        -5.18268326e-07,   6.00059357e-07,  -1.31688630e-07,\n",
        "         1.38555558e-06,  -1.78107898e-08,  -4.47092380e-07,\n",
        "        -4.81386024e-07,   5.15509785e-07,   1.40790556e-06,\n",
        "        -4.93137701e-07,   5.14119262e-07,  -2.42471961e-07,\n",
        "        -2.17017321e-07,   1.85738473e-06,   8.22785344e-07,\n",
        "         1.19356131e-07,  -8.81499584e-07,   3.32661414e-07,\n",
        "         6.14101864e-07,   1.63213723e-06,   1.02139003e-06,\n",
        "         2.57676269e-07,   4.99160463e-07,   5.45443075e-07,\n",
        "        -5.84338209e-07,  -1.36419710e-06,   1.01236610e-06,\n",
        "        -5.08776976e-07,   5.74123822e-08,  -3.33912946e-07,\n",
        "        -3.63661818e-07,  -7.51888172e-07,   6.86218744e-08,\n",
        "         1.16807959e-06,   5.43317682e-08,  -3.91731132e-07,\n",
        "        -3.15963130e-07,   6.53777377e-07,   1.55753752e-06,\n",
        "        -7.41224174e-07,   5.96422756e-07,   2.35445036e-07,\n",
        "         3.98513826e-07,   4.35258984e-07,   7.63157154e-07,\n",
        "        -1.65191182e-08,  -1.12475318e-06]), 'nit': 155, 'funcalls': 170}\n",
        "lala"
       ]
      },
      {
       "output_type": "stream",
       "stream": "stdout",
       "text": [
        " 1e-05 96.0\n",
        "_______________BEST SCORE: 96.0\n",
        "best lambda: 1e-05\n"
       ]
      }
     ],
     "prompt_number": 169
    },
    {
     "cell_type": "code",
     "collapsed": false,
     "input": [
      "opt_lala"
     ],
     "language": "python",
     "metadata": {},
     "outputs": [
      {
       "metadata": {},
       "output_type": "pyout",
       "prompt_number": 170,
       "text": [
        "1e-05"
       ]
      }
     ],
     "prompt_number": 170
    },
    {
     "cell_type": "heading",
     "level": 4,
     "metadata": {},
     "source": [
      "Mix SVM & NN and evaluate on cross validation set"
     ]
    },
    {
     "cell_type": "code",
     "collapsed": false,
     "input": [
      "## NN\n",
      "NN = np.zeros((limit_cv, 2))\n",
      "for i, record in enumerate(X_CV):\n",
      "    NN[i,0] = np.argmax(h(opt_ot, layers, record))\n",
      "    NN[i,1] = np.max(h(opt_ot, layers, record))\n",
      "\n",
      "# from previous and last SVM\n",
      "a = clf_svm.predict(X_CV)\n",
      "b = clf_svm.predict_proba(X_CV)\n",
      "\n",
      "count = 0.0\n",
      "different = 0\n",
      "changed_from_svm_to_nn = 0\n",
      "to_sumbit = np.zeros((limit_cv,2))\n",
      "to_compare = np.zeros((limit_cv,))\n",
      "for i in range(limit_cv):\n",
      "    p = int(a[i])\n",
      "    nn = int(NN[i,0])\n",
      "    if p!=nn:\n",
      "        different += 1\n",
      "        if b[i, p]<NN[i,1]:\n",
      "            print 'Y (' + `Y_CV[i]` + ') SVM (' + `p` + ') NN (' + `nn` + ')'\n",
      "            print 'changed_from_svm_to_nn', b[i, p], NN[i,1]\n",
      "            changed_from_svm_to_nn += 1\n",
      "            p = nn\n",
      "        else:\n",
      "            print '____Y (' + `Y_CV[i]` + ') SVM (' + `p` + ') NN (' + `nn` + ')'\n",
      "            print '____kept_svm_instead_of_nn', b[i, p], NN[i,1]\n",
      "    if int(p)==Y_CV[i]:\n",
      "        count +=1\n",
      "    to_compare[i] = p\n",
      "    \n",
      "print 'acc', 100.*count/limit_cv\n",
      "print 'svm and NN differ', different\n",
      "print 'changed_from_svm_to_nn', changed_from_svm_to_nn"
     ],
     "language": "python",
     "metadata": {},
     "outputs": [
      {
       "output_type": "stream",
       "stream": "stdout",
       "text": [
        "____Y (1) SVM (1) NN (0)\n",
        "____kept_svm_instead_of_nn 0.999999999425 0.999898006164\n",
        "Y (1) SVM (1) NN (0)\n",
        "changed_from_svm_to_nn 0.758352099767 0.999976336074\n",
        "Y (0) SVM (1) NN (0)\n",
        "changed_from_svm_to_nn 0.904813078868 0.922757018355\n",
        "Y (0) SVM (0) NN (1)\n",
        "changed_from_svm_to_nn 0.886256087641 0.99999999994\n",
        "Y (1) SVM (0) NN (1)\n",
        "changed_from_svm_to_nn 0.990449210454 0.999999994191\n",
        "____Y (1) SVM (1) NN (0)\n",
        "____kept_svm_instead_of_nn 0.999995945696 0.944170239925\n",
        "____Y (0) SVM (1) NN (0)\n",
        "____kept_svm_instead_of_nn 0.992364671697 0.984277962817\n",
        "____Y (1) SVM (1) NN (0)\n",
        "____kept_svm_instead_of_nn 0.874309440748 0.736108834924\n",
        "Y (1) SVM (1) NN (0)\n",
        "changed_from_svm_to_nn 0.839878980523 0.999988356589\n",
        "____Y (0) SVM (0) NN (1)\n",
        "____kept_svm_instead_of_nn 0.999607121093 0.838087375674\n",
        "acc 97.0\n",
        "svm and NN differ 10\n",
        "changed_from_svm_to_nn 5\n"
       ]
      }
     ],
     "prompt_number": 171
    },
    {
     "cell_type": "code",
     "collapsed": false,
     "input": [
      "# as compared to simple SVM\n",
      "from sklearn.metrics import *  \n",
      "print(classification_report(Y_CV, a))"
     ],
     "language": "python",
     "metadata": {},
     "outputs": [
      {
       "output_type": "stream",
       "stream": "stdout",
       "text": [
        "             precision    recall  f1-score   support\n",
        "\n",
        "          0       0.97      0.97      0.97       149\n",
        "          1       0.97      0.97      0.97       151\n",
        "\n",
        "avg / total       0.97      0.97      0.97       300\n",
        "\n"
       ]
      }
     ],
     "prompt_number": 172
    },
    {
     "cell_type": "code",
     "collapsed": false,
     "input": [
      "# how it does with mix and match\n",
      "print(classification_report(Y_CV, to_compare))"
     ],
     "language": "python",
     "metadata": {},
     "outputs": [
      {
       "output_type": "stream",
       "stream": "stdout",
       "text": [
        "             precision    recall  f1-score   support\n",
        "\n",
        "          0       0.97      0.97      0.97       149\n",
        "          1       0.97      0.97      0.97       151\n",
        "\n",
        "avg / total       0.97      0.97      0.97       300\n",
        "\n"
       ]
      }
     ],
     "prompt_number": 173
    },
    {
     "cell_type": "heading",
     "level": 4,
     "metadata": {},
     "source": [
      "SVM & NN on all training data (included CV)"
     ]
    },
    {
     "cell_type": "code",
     "collapsed": false,
     "input": [
      "XX = np.vstack([X_CV, A])\n",
      "YY = np.hstack([Y_CV, B])"
     ],
     "language": "python",
     "metadata": {},
     "outputs": [],
     "prompt_number": 174
    },
    {
     "cell_type": "code",
     "collapsed": false,
     "input": [
      "final_svm = svm.SVC(kernel='rbf', cache_size=1000, probability=True, C=10000000, gamma = 0.3)\n",
      "final_svm.fit(XX, YY)"
     ],
     "language": "python",
     "metadata": {},
     "outputs": [
      {
       "metadata": {},
       "output_type": "pyout",
       "prompt_number": 175,
       "text": [
        "SVC(C=10000000, cache_size=1000, class_weight=None, coef0=0.0, degree=3,\n",
        "  gamma=0.3, kernel='rbf', max_iter=-1, probability=True,\n",
        "  random_state=None, shrinking=True, tol=0.001, verbose=False)"
       ]
      }
     ],
     "prompt_number": 175
    },
    {
     "cell_type": "code",
     "collapsed": false,
     "input": [
      "M, nodes = XX.shape\n",
      "Y3 = np.atleast_2d(YY).T\n",
      "\n",
      "layers = [2*nodes, nodes, 2]\n",
      "tinit = np.hstack([randomize_thetas(2*nodes,nodes).flatten(), \n",
      "                   randomize_thetas(nodes,2*nodes).flatten(),\n",
      "                   randomize_thetas(2,nodes).flatten()])\n",
      "\n",
      "final_ot = optimizeThetas(tinit, layers, XX, Y3, 0.00001)"
     ],
     "language": "python",
     "metadata": {},
     "outputs": [
      {
       "output_type": "stream",
       "stream": "stdout",
       "text": [
        "[ 0.41918958 -1.30368965 -4.52386322 -3.1438202  -1.74496403  2.61630629\n",
        " -1.76483358  1.16813774  4.27117666  1.0890579 ]\n",
        "3.78833142848e-05\n",
        "{'warnflag': 0, 'task': 'CONVERGENCE: NORM_OF_PROJECTED_GRADIENT_<=_PGTOL', 'grad': array([ -4.19042629e-06,  -2.84373615e-06,   3.21043312e-07,\n",
        "         9.98827931e-07,  -4.02241279e-06,  -4.92251941e-06,\n",
        "        -5.21076151e-07,  -2.56956858e-06,   2.82913800e-06,\n",
        "        -1.62684961e-06,  -1.02160572e-06,  -2.63363259e-06,\n",
        "         2.17655587e-06,  -9.41674214e-07,   2.25618938e-08,\n",
        "        -5.40415969e-07,   2.10902762e-07,  -1.49090809e-07,\n",
        "         6.08241193e-08,  -1.26118194e-06,  -2.43966035e-07,\n",
        "         6.91660091e-07,  -5.14632808e-07,  -1.45320512e-06,\n",
        "         4.31267158e-07,   5.89420224e-07,   1.27933178e-07,\n",
        "         1.43053345e-06,   1.76022666e-06,   2.89876729e-06,\n",
        "         2.52637497e-06,   2.98169052e-06,  -2.36647759e-07,\n",
        "         5.80190854e-06,  -1.21267752e-06,  -2.97640982e-06,\n",
        "        -9.73783347e-07,  -1.65867761e-06,  -1.23128220e-07,\n",
        "        -1.61249276e-06,   5.41267662e-06,   3.12144813e-06,\n",
        "         3.13534473e-06,   5.54906639e-07,   1.60746077e-06,\n",
        "        -3.85106300e-06,  -1.51005511e-06,  -8.24985885e-07,\n",
        "         3.46647756e-06,  -2.19648612e-06,  -1.22226226e-06,\n",
        "         3.07450452e-06,  -5.78878170e-06,   6.85315795e-06,\n",
        "        -4.41109395e-07,  -5.14371316e-07,  -9.63213973e-07,\n",
        "        -4.33339173e-06,  -2.50028087e-06,  -2.24156206e-06,\n",
        "         7.44831205e-07,   1.57591204e-06,  -2.99103672e-06,\n",
        "        -6.24296020e-07,  -2.92327087e-07,   4.12851870e-06,\n",
        "         2.72146021e-06,  -1.07382632e-06,   2.18018518e-06,\n",
        "        -3.93110661e-07,  -1.16824784e-07,   8.78947745e-07,\n",
        "         7.65092355e-07,   2.24347593e-07,   3.82642191e-07,\n",
        "         6.19763984e-07,   3.59628959e-07,  -1.13098472e-06,\n",
        "        -2.88766909e-06,   3.56153379e-07,   3.22128747e-06,\n",
        "         2.44813386e-06,  -2.28904322e-06,  -2.73844157e-06,\n",
        "        -2.66579023e-06,  -3.31996840e-06,  -2.42098137e-06,\n",
        "         1.88815400e-06,   2.22368538e-07,   3.45918738e-07,\n",
        "         3.81691792e-06,  -4.41418539e-06,  -1.57760279e-06,\n",
        "         4.22691638e-07,  -2.52223351e-06,  -1.84687027e-06,\n",
        "         1.79907100e-07,   1.42938551e-06,   8.56681883e-07,\n",
        "         2.63470639e-06,  -2.58194442e-07,   1.02830078e-06,\n",
        "         9.05730872e-07,  -8.02847123e-07,   1.13670922e-06,\n",
        "        -7.99784303e-06,  -7.10482112e-06,  -9.05125180e-06,\n",
        "         1.34111922e-06,  -3.42774649e-07,   5.16076608e-06,\n",
        "         5.69368749e-06,  -4.25999009e-06,   7.22459787e-07,\n",
        "         3.65774036e-06,   4.36975094e-06,   1.94988483e-06,\n",
        "        -3.33087501e-07,   4.56336403e-06,   6.73209254e-07,\n",
        "         2.88855050e-07,  -9.91275978e-07,   7.30089039e-07,\n",
        "         7.16105429e-07,  -7.97661277e-07,   3.42702075e-08,\n",
        "         1.16756768e-07,  -4.77559790e-06,  -2.87530647e-06,\n",
        "         1.27693526e-06,   8.89812536e-06,  -8.78374181e-06,\n",
        "        -4.46950511e-06,  -1.81237981e-06,   1.13530164e-06,\n",
        "         3.08068399e-06,   1.86151729e-06,   8.85066628e-06,\n",
        "        -4.60504297e-06,   6.86535345e-06,   3.99917570e-06,\n",
        "         8.38469575e-06,  -3.80038614e-07,   5.44155880e-07,\n",
        "         5.95348601e-07,   2.29771234e-06,  -2.22609713e-07,\n",
        "         1.60973737e-06,  -2.74191608e-06,  -3.71689422e-06,\n",
        "        -6.28306667e-07,   1.86495779e-06,   3.52357344e-06,\n",
        "         1.19797565e-06,  -3.65998075e-06,   2.02824114e-06,\n",
        "        -3.01377926e-06,  -1.15278969e-07,  -1.38913109e-07,\n",
        "        -2.15995913e-06,  -2.46411874e-06,  -9.23285473e-07,\n",
        "         2.21645014e-06,   5.59628590e-07,   2.03514467e-07,\n",
        "        -2.86001721e-06,  -1.50237704e-06,  -8.46910795e-07,\n",
        "        -2.13718639e-06,   8.78095423e-07,   3.02948400e-07,\n",
        "         1.24774236e-06,  -2.17031508e-06,   9.93703764e-07,\n",
        "        -8.73408967e-08,  -4.00132533e-07,  -1.04921707e-06,\n",
        "        -2.43762365e-06,   1.42828976e-06,   1.30711825e-07,\n",
        "         3.86031607e-07,  -2.10890400e-06,   5.20045871e-06,\n",
        "        -2.64171236e-06,   1.32429115e-06,   2.76990029e-06,\n",
        "         1.82794815e-06,   2.49702936e-07,   1.67899903e-07,\n",
        "         7.85691494e-08,  -3.26680406e-06,  -6.86572175e-07,\n",
        "        -4.16961123e-06,  -7.42020337e-07,   1.98709053e-06,\n",
        "        -8.89216952e-06,  -1.77360925e-06,   2.59191130e-06,\n",
        "        -2.64712089e-06,   7.32461879e-07,   1.23923644e-06,\n",
        "        -1.67769968e-06,  -3.54868135e-06,   1.18469371e-06,\n",
        "        -9.25844266e-07,  -4.00546264e-06,  -3.42699539e-06,\n",
        "        -1.91284548e-06,   3.11742520e-07,   7.94997272e-07,\n",
        "         1.65130384e-06,  -1.94468772e-07,  -9.77693294e-07,\n",
        "        -7.91606156e-07,  -3.93351918e-07,   7.53841592e-07,\n",
        "        -8.03847863e-07,   4.83728520e-07,  -3.00989961e-06,\n",
        "        -1.04708442e-06,  -1.53488936e-06,  -4.66888233e-06,\n",
        "        -1.13600093e-06,  -2.74441994e-07,  -8.87582558e-07,\n",
        "        -1.53704432e-06,  -1.28123762e-06,  -1.24651145e-06,\n",
        "        -2.41771573e-06,   4.07562490e-06,  -4.08622721e-06,\n",
        "        -1.30259098e-06,  -8.18382950e-07,   2.90533448e-06,\n",
        "         3.68673231e-06,  -3.48216430e-06,   4.52165053e-06,\n",
        "         2.33664197e-06,  -2.49307291e-06,  -2.08556518e-06,\n",
        "         1.54713960e-06,   1.78306517e-07,   1.27828795e-06,\n",
        "        -3.37109349e-07,   9.17429678e-07,  -2.01378915e-06,\n",
        "        -5.13810908e-07,  -3.91335624e-06,   2.49642138e-06,\n",
        "         4.32914564e-07,  -3.24990913e-06,  -9.49548062e-07,\n",
        "        -3.55871451e-06,  -2.00764174e-06,  -2.48496407e-06,\n",
        "         2.62986829e-06,  -6.40778076e-07,  -2.27638424e-06,\n",
        "        -3.57614127e-06,   1.27713404e-06,  -5.50157023e-07,\n",
        "         1.06116016e-06,  -1.07094557e-07,  -2.65362793e-06,\n",
        "        -2.82709290e-07,  -7.20940725e-07,  -5.72287800e-07,\n",
        "         7.85245577e-07,   4.14022821e-07,   3.23446514e-07,\n",
        "         1.91646470e-06,  -2.02350840e-06,  -3.44993317e-06,\n",
        "        -1.97448458e-06,   9.46005783e-07,   2.31247127e-06,\n",
        "        -2.93941137e-07,  -8.63238211e-06,  -1.83707345e-06,\n",
        "         5.47078502e-08,  -2.71611387e-06,   8.29792741e-07,\n",
        "        -2.02050035e-06,  -7.47773293e-06,   4.33610442e-07,\n",
        "        -3.08951209e-06,  -1.26319174e-06,   7.59004519e-08,\n",
        "        -9.25256222e-07,  -4.57895267e-07,  -4.62069675e-07,\n",
        "        -3.93271605e-07,  -2.67840660e-07,  -1.07364348e-07,\n",
        "        -6.56561847e-07,  -4.69333786e-07,  -1.83594401e-07,\n",
        "         5.10677940e-07,   3.09352287e-07,  -1.57895180e-06,\n",
        "         1.91832322e-06,  -1.46057982e-06,   1.18851724e-06,\n",
        "         3.11792587e-06,   2.03182919e-06,  -1.53622617e-06,\n",
        "         2.33087563e-07,  -7.95877165e-07,   8.02203709e-08,\n",
        "         7.14986299e-07,   2.99318964e-07,   7.14333433e-07,\n",
        "         1.87952163e-06,   8.13889338e-08,  -1.85510934e-07,\n",
        "         1.32325967e-06,   6.72016005e-07,  -1.55446166e-06,\n",
        "         2.60854006e-06,   3.31861862e-06,   9.42606982e-07,\n",
        "         1.93594169e-07,   1.12062782e-06,  -1.05816484e-06,\n",
        "        -4.11364142e-07,   1.82921223e-06,   1.54602102e-06,\n",
        "         7.87289272e-08,   1.04702861e-06,   9.12918799e-07,\n",
        "         1.92435390e-06,   1.67309807e-06,   2.71153157e-06,\n",
        "         1.31913154e-06,  -1.15673965e-06,   5.61497838e-07,\n",
        "         3.22970525e-06,  -4.44551255e-08,   3.29611985e-08,\n",
        "         4.81498632e-08,  -5.31731381e-08,  -5.53481698e-09,\n",
        "         2.35531897e-08,   1.34411402e-08,   7.70564285e-09,\n",
        "         5.38532341e-08,  -8.37075330e-08,  -8.72826629e-09,\n",
        "        -4.12137369e-08,  -7.58627600e-08,  -6.40520631e-08,\n",
        "        -7.66534938e-08,   1.85340453e-08,  -3.95933791e-08,\n",
        "        -9.97968058e-08,  -3.81427490e-08,  -8.85843040e-08,\n",
        "         2.32568054e-08,  -2.98389255e-08,  -7.35325840e-08,\n",
        "         5.98202418e-08,   5.54723256e-08,  -2.48531554e-06,\n",
        "        -1.76879121e-06,  -3.03855381e-06,  -1.79900641e-06,\n",
        "         9.07475998e-07,  -1.99473050e-06,  -1.32321214e-06,\n",
        "        -1.91855076e-06,  -2.51767861e-06,   6.04283461e-08,\n",
        "        -6.55910633e-08,  -1.20159721e-06,  -1.06876289e-06,\n",
        "        -2.67873041e-06,  -3.38759505e-06,  -1.01248753e-06,\n",
        "        -1.93044979e-06,   1.28611634e-07,  -1.97654298e-06,\n",
        "        -1.21764763e-06,  -2.56573489e-06,  -2.76063389e-06,\n",
        "         3.70445635e-08,  -2.31660825e-06,  -2.25346496e-06,\n",
        "        -7.57480539e-07,  -6.44316309e-07,  -1.23092739e-06,\n",
        "        -1.11880235e-06,   3.56091429e-09,  -2.60876110e-07,\n",
        "        -6.40201258e-07,  -6.07968187e-07,  -9.76008387e-07,\n",
        "         1.73641470e-07,   5.17499895e-07,  -6.04100884e-07,\n",
        "        -6.41767838e-07,  -8.03657006e-07,  -4.20042087e-07,\n",
        "        -6.33953815e-07,  -8.12192012e-07,   2.39725914e-07,\n",
        "        -7.85309534e-07,  -1.69132464e-09,  -5.24802206e-07,\n",
        "        -8.52937491e-07,  -2.93588733e-08,  -9.41026245e-07,\n",
        "        -7.96167384e-07,  -7.05608635e-07,  -1.08668186e-06,\n",
        "        -1.47213255e-06,  -1.19467292e-06,   3.41385255e-07,\n",
        "        -1.87159639e-07,  -8.31677363e-07,  -8.35495411e-07,\n",
        "        -9.55930017e-07,   2.10338128e-07,   9.28258632e-07,\n",
        "         1.28583834e-08,  -1.58805485e-07,  -4.95310619e-07,\n",
        "        -5.94404745e-07,  -1.06967688e-06,  -7.12568650e-07,\n",
        "         1.70278582e-07,  -8.52650739e-07,   4.22077253e-07,\n",
        "        -6.23532830e-07,  -8.61496974e-07,  -1.81626632e-08,\n",
        "        -9.98917606e-07,  -8.85842434e-07,  -2.86807549e-07,\n",
        "        -1.13242626e-07,  -2.43098641e-07,  -4.48059718e-07,\n",
        "        -1.78096637e-08,  -3.22374908e-07,  -2.54422976e-07,\n",
        "        -9.98318767e-08,  -7.85410524e-07,  -6.66767396e-08,\n",
        "         1.83096342e-07,  -1.35411967e-07,  -3.22861266e-07,\n",
        "        -3.48805066e-07,  -1.52601127e-07,  -3.09016537e-08,\n",
        "        -3.98876114e-07,   1.40283617e-07,  -2.21307748e-07,\n",
        "         4.53957312e-08,  -1.04106534e-07,  -4.01157228e-07,\n",
        "         3.54228029e-08,  -4.45393370e-07,  -3.93499394e-07,\n",
        "        -3.87678813e-07,   1.30925798e-07,  -2.45534794e-08,\n",
        "        -4.52068474e-07,  -3.98648540e-07,   3.40931255e-07,\n",
        "        -5.44194351e-07,   4.40010468e-08,   3.19911314e-07,\n",
        "        -5.91094277e-07,  -5.63961198e-07,   1.61241368e-07,\n",
        "        -9.32343736e-07,  -5.51807735e-07,  -1.17854219e-07,\n",
        "        -6.04673069e-08,   4.33843436e-08,  -5.59834326e-07,\n",
        "        -4.62405070e-07,  -4.87373324e-07,   4.06876387e-08,\n",
        "        -4.01513217e-07,   7.92201722e-08,   7.55720831e-07,\n",
        "         2.81130297e-07,   1.86808658e-06,  -8.90266056e-07,\n",
        "         1.17189388e-06,   2.25088185e-06,  -6.04988811e-07,\n",
        "         1.96302128e-06,   1.27906718e-06,   1.93582020e-06,\n",
        "         1.89321121e-06,   3.91227838e-07,  -6.74508947e-07,\n",
        "         9.43064384e-07,   1.84397347e-06,   9.76426613e-07,\n",
        "         1.41000228e-06,  -8.95861072e-07,   1.19942885e-06,\n",
        "         1.84272374e-07,   2.46411952e-06,   1.41976415e-06,\n",
        "         8.44163945e-07,   2.62080893e-06,   3.54656993e-07,\n",
        "         5.86389682e-07,   1.32008695e-06,  -3.26488973e-06,\n",
        "        -1.81929039e-06,  -6.10137822e-07,  -2.75405514e-06,\n",
        "        -7.07005776e-07,   3.23877218e-07,  -1.96893017e-06,\n",
        "        -3.26268085e-06,  -3.18040434e-07,  -1.03462158e-06,\n",
        "        -6.96972381e-07,  -1.64763469e-06,  -2.79730421e-06,\n",
        "        -2.50221377e-06,  -1.84026450e-06,  -1.93609106e-06,\n",
        "        -9.94088037e-07,  -2.60264895e-06,  -2.42359045e-06,\n",
        "        -2.89400360e-06,  -1.41369225e-06,  -1.42809298e-06,\n",
        "        -7.98925523e-07,  -7.55415201e-07,  -2.51265104e-06,\n",
        "        -1.06858145e-06,  -1.47076532e-08,  -9.48448057e-07,\n",
        "        -1.51444361e-06,   1.71692418e-07,  -1.34306166e-06,\n",
        "        -1.31416190e-06,  -1.05286390e-06,  -1.23558383e-06,\n",
        "         9.96064411e-08,   5.65598048e-07,   3.00667531e-07,\n",
        "        -6.23405448e-07,  -1.76557287e-07,  -1.35633037e-06,\n",
        "        -4.90283064e-07,  -8.04552055e-07,   1.15697971e-07,\n",
        "        -9.77014301e-07,  -4.06212745e-07,  -2.93604179e-07,\n",
        "        -1.13019925e-06,  -2.82869888e-07,  -7.75467329e-07,\n",
        "        -1.26146010e-06,   6.46268799e-06,   1.69997531e-06,\n",
        "         3.59853147e-06,   4.83398675e-06,   2.23624349e-06,\n",
        "         1.11185715e-06,   5.37374085e-06,   4.16031359e-06,\n",
        "         4.30740357e-06,  -1.49228751e-07,   2.91578669e-06,\n",
        "        -2.53616591e-07,   3.00666597e-06,   4.18651827e-06,\n",
        "         5.97146384e-06,   4.80282192e-06,   3.99813953e-06,\n",
        "         4.32320855e-06,   4.63965833e-06,   4.64252873e-06,\n",
        "        -3.28295030e-07,   6.95439525e-06,   2.75604164e-06,\n",
        "         5.60552495e-06,   2.54631877e-06,  -4.18235611e-07,\n",
        "        -2.84651520e-07,   3.07971519e-07,  -8.90256089e-07,\n",
        "        -7.44587596e-07,   2.48896164e-08,  -6.91235670e-07,\n",
        "        -8.48353873e-07,  -2.13673021e-07,  -2.59819300e-07,\n",
        "        -1.21739367e-07,   2.41257930e-07,  -5.61911165e-07,\n",
        "        -4.76264904e-07,   2.27360454e-07,  -7.83207930e-07,\n",
        "         1.50969215e-07,  -7.82850535e-07,  -6.67765476e-07,\n",
        "        -4.33941900e-07,   6.40936029e-08,  -1.94591172e-07,\n",
        "         1.12569842e-07,  -3.35191419e-07,  -4.55549502e-07,\n",
        "         2.05017692e-06,   1.24891501e-06,   1.97358375e-06,\n",
        "        -1.09673300e-06,  -4.24560488e-07,  -5.72693107e-07,\n",
        "        -1.47149047e-07,   9.54318112e-07,   3.39446995e-06,\n",
        "         8.98196065e-07,  -1.05166796e-06,  -8.66823275e-07,\n",
        "         3.86777242e-07,  -1.47934298e-06,  -8.55400930e-07,\n",
        "        -1.43431038e-06,   1.25291999e-06,   5.55791860e-07,\n",
        "         6.91166222e-07,   2.77689316e-07,  -1.04832804e-06,\n",
        "        -3.11793693e-06,  -9.51368175e-07,   1.25094574e-06,\n",
        "         5.05260724e-07,  -1.83185283e-07]), 'nit': 182, 'funcalls': 199}"
       ]
      },
      {
       "output_type": "stream",
       "stream": "stdout",
       "text": [
        "\n"
       ]
      }
     ],
     "prompt_number": 176
    },
    {
     "cell_type": "code",
     "collapsed": false,
     "input": [
      "print final_svm.support_vectors_.shape[0]\n",
      "print XX.shape"
     ],
     "language": "python",
     "metadata": {},
     "outputs": [
      {
       "output_type": "stream",
       "stream": "stdout",
       "text": [
        "2635\n",
        "(8808, 12)\n"
       ]
      }
     ],
     "prompt_number": 177
    },
    {
     "cell_type": "heading",
     "level": 4,
     "metadata": {},
     "source": [
      "Predict Test Set"
     ]
    },
    {
     "cell_type": "code",
     "collapsed": false,
     "input": [
      "x_test = x_all[1000:, :]\n",
      "\n",
      "## NN\n",
      "NN = np.zeros((9000, 2))\n",
      "for i, record in enumerate(x_test):\n",
      "    NN[i,0] = np.argmax(h(final_ot, layers, record))\n",
      "    NN[i,1] = np.max(h(final_ot, layers, record))\n",
      "\n",
      "# from previous and last SVM\n",
      "a = final_svm.predict(x_test)\n",
      "b = final_svm.predict_proba(x_test)\n",
      "\n",
      "to_submit_nn = np.zeros((9000,2))\n",
      "to_submit_svm_nn = np.zeros((9000,2))\n",
      "to_submit_svm = np.zeros((9000,2))\n",
      "\n",
      "different = 0\n",
      "changed_from_svm_to_nn = 0\n",
      "for i in range(9000):\n",
      "    p = int(a[i])\n",
      "    to_submit_svm[i,0] = i+1\n",
      "    to_submit_svm[i,1] = p\n",
      "\n",
      "    nn = int(NN[i,0])\n",
      "    if p!=nn:\n",
      "        different += 1\n",
      "        if b[i, p]<NN[i,1]:\n",
      "            print 'SVM (' + `p` + ') NN (' + `nn` + ')'\n",
      "            print 'changed_from_svm_to_nn', b[i, p], NN[i,1]\n",
      "            changed_from_svm_to_nn += 1\n",
      "            p = nn\n",
      "        else:\n",
      "            print '____ SVM (' + `p` + ') NN (' + `nn` + ')'\n",
      "            print '____ kept_svm_instead_of_nn', b[i, p], NN[i,1]    \n",
      "    to_submit_nn[i,0] = i+1\n",
      "    to_submit_nn[i,1] = nn\n",
      "    to_submit_svm_nn[i,0] = i+1\n",
      "    to_submit_svm_nn[i,1] = p\n",
      "    \n",
      "print 'svm and NN differ', different\n",
      "print 'changed_from_svm_to_nn', changed_from_svm_to_nn"
     ],
     "language": "python",
     "metadata": {},
     "outputs": [
      {
       "output_type": "stream",
       "stream": "stdout",
       "text": [
        "SVM (1) NN (0)\n",
        "changed_from_svm_to_nn 0.94035099211 0.999992766352\n",
        "____ SVM (1) NN (0)\n",
        "____ kept_svm_instead_of_nn 0.902672394038 0.497294833019\n",
        "SVM (1) NN (0)\n",
        "changed_from_svm_to_nn 0.981387165734 0.999999913036\n",
        "SVM (0) NN (1)\n",
        "changed_from_svm_to_nn 0.727219106288 0.999914460828\n",
        "SVM (0) NN (1)\n",
        "changed_from_svm_to_nn 0.744242743445 0.99999999999\n",
        "SVM (1) NN (0)\n",
        "changed_from_svm_to_nn 0.897028211625 0.999999956497\n",
        "SVM (0) NN (1)\n",
        "changed_from_svm_to_nn 0.855728451743 0.999840552742\n",
        "SVM (1) NN (0)\n",
        "changed_from_svm_to_nn 0.957285806111 0.999999887153\n",
        "SVM (1) NN (0)\n",
        "changed_from_svm_to_nn 0.788459455904 0.999972290032\n",
        "SVM (1) NN (0)\n",
        "changed_from_svm_to_nn 0.888534151145 0.99598998848\n",
        "SVM (0) NN (1)\n",
        "changed_from_svm_to_nn 0.963483460224 0.999999975286\n",
        "SVM (1) NN (0)\n",
        "changed_from_svm_to_nn 0.681273504684 0.999999999685\n",
        "____ SVM (0) NN (1)\n",
        "____ kept_svm_instead_of_nn 0.96401989727 0.815243163484\n",
        "SVM (0) NN (1)\n",
        "changed_from_svm_to_nn 0.507090030981 0.999999999986\n",
        "SVM (1) NN (0)\n",
        "changed_from_svm_to_nn 0.945886641089 0.999999067042\n",
        "SVM (0) NN (1)\n",
        "changed_from_svm_to_nn 0.978368838557 0.999257562055\n",
        "SVM (1) NN (0)\n",
        "changed_from_svm_to_nn 0.829213365506 0.999379780241\n",
        "____ SVM (0) NN (1)\n",
        "____ kept_svm_instead_of_nn 0.933960997158 0.847598550997\n",
        "SVM (1) NN (0)\n",
        "changed_from_svm_to_nn 0.614812385454 0.999999920857\n",
        "SVM (0) NN (1)\n",
        "changed_from_svm_to_nn 0.920499064454 0.99999974375\n",
        "SVM (0) NN (1)\n",
        "changed_from_svm_to_nn 0.891504980512 0.999972854335\n",
        "SVM (1) NN (0)\n",
        "changed_from_svm_to_nn 0.881693770759 0.999995072481\n",
        "SVM (1) NN (0)\n",
        "changed_from_svm_to_nn 0.750986075604 0.999999102779\n",
        "SVM (1) NN (0)\n",
        "changed_from_svm_to_nn 0.753137987579 0.999999824078\n",
        "SVM (0) NN (1)\n",
        "changed_from_svm_to_nn 0.65886763635 0.999997189229\n",
        "SVM (0) NN (1)\n",
        "changed_from_svm_to_nn 0.832416764783 0.999999865869\n",
        "SVM (0) NN (1)\n",
        "changed_from_svm_to_nn 0.636369810425 0.99999999999\n",
        "SVM (0) NN (1)\n",
        "changed_from_svm_to_nn 0.934887249901 0.999999999989\n",
        "SVM (0) NN (1)\n",
        "changed_from_svm_to_nn 0.870205056861 0.999999987048\n",
        "SVM (1) NN (0)\n",
        "changed_from_svm_to_nn 0.935157214395 0.999999999835\n",
        "SVM (0) NN (1)\n",
        "changed_from_svm_to_nn 0.856863706591 0.995357188675\n",
        "SVM (0) NN (1)\n",
        "changed_from_svm_to_nn 0.851418591251 0.99999914369\n",
        "SVM (0) NN (1)\n",
        "changed_from_svm_to_nn 0.585777069011 0.999946344057\n",
        "SVM (0) NN (1)\n",
        "changed_from_svm_to_nn 0.435092411483 0.998311662614\n",
        "SVM (1) NN (0)\n",
        "changed_from_svm_to_nn 0.86593213703 0.999981102283\n",
        "SVM (0) NN (1)\n",
        "changed_from_svm_to_nn 0.668082083681 0.998642376301\n",
        "SVM (1) NN (0)\n",
        "changed_from_svm_to_nn 0.835420833304 0.999999888612\n",
        "SVM (0) NN (1)\n",
        "changed_from_svm_to_nn 0.624829425316 0.809748649109\n",
        "SVM (1) NN (0)\n",
        "changed_from_svm_to_nn 0.642050450613 0.99999999977\n",
        "SVM (1) NN (0)\n",
        "changed_from_svm_to_nn 0.644875380029 0.999999998861\n",
        "SVM (1) NN (0)\n",
        "changed_from_svm_to_nn 0.980127063539 0.999999319588\n",
        "SVM (1) NN (0)\n",
        "changed_from_svm_to_nn 0.813230387309 0.999998915556\n",
        "SVM (1) NN (0)\n",
        "changed_from_svm_to_nn 0.96447082972 0.999988865717\n",
        "SVM (0) NN (1)\n",
        "changed_from_svm_to_nn 0.608847415245 0.998847057552\n",
        "SVM (0) NN (1)\n",
        "changed_from_svm_to_nn 0.968540561873 0.986789617182\n",
        "SVM (1) NN (0)\n",
        "changed_from_svm_to_nn 0.605338706727 0.999998701416\n",
        "SVM (0) NN (1)\n",
        "changed_from_svm_to_nn 0.433274586224 0.999995825406\n",
        "SVM (0) NN (1)\n",
        "changed_from_svm_to_nn 0.77297419261 0.997888924655\n",
        "SVM (0) NN (1)\n",
        "changed_from_svm_to_nn 0.966066716182 0.999999985524\n",
        "SVM (0) NN (1)\n",
        "changed_from_svm_to_nn 0.551514277132 0.868644778158\n",
        "SVM (1) NN (0)\n",
        "changed_from_svm_to_nn 0.879120333689 0.996999808817\n",
        "____ SVM (0) NN (1)\n",
        "____ kept_svm_instead_of_nn 0.97197764844 0.89949996835\n",
        "SVM (0) NN (1)\n",
        "changed_from_svm_to_nn 0.638524681542 0.866226469001\n",
        "SVM (0) NN (1)\n",
        "changed_from_svm_to_nn 0.720534477627 0.990865962611\n",
        "SVM (0) NN (1)\n",
        "changed_from_svm_to_nn 0.423456119243 0.999996809401\n",
        "SVM (1) NN (0)\n",
        "changed_from_svm_to_nn 0.881422884063 0.999998045734\n",
        "SVM (0) NN (1)\n",
        "changed_from_svm_to_nn 0.508014411863 0.999760771384\n",
        "____ SVM (0) NN (1)\n",
        "____ kept_svm_instead_of_nn 0.89888515488 0.584233746695\n",
        "SVM (0) NN (1)\n",
        "changed_from_svm_to_nn 0.971553245194 0.999909572207\n",
        "SVM (1) NN (0)\n",
        "changed_from_svm_to_nn 0.983984626459 0.999959376154\n",
        "SVM (1) NN (0)\n",
        "changed_from_svm_to_nn 0.832045388388 0.999992179152\n",
        "SVM (0) NN (1)\n",
        "changed_from_svm_to_nn 0.938349935234 0.999999999845\n",
        "SVM (1) NN (0)\n",
        "changed_from_svm_to_nn 0.947736404509 0.993486005152\n",
        "SVM (1) NN (0)\n",
        "changed_from_svm_to_nn 0.632448659211 0.999999987315\n",
        "SVM (1) NN (0)\n",
        "changed_from_svm_to_nn 0.644841686454 0.999979028678\n",
        "SVM (0) NN (1)\n",
        "changed_from_svm_to_nn 0.858730531676 0.999972139322\n",
        "SVM (0) NN (1)\n",
        "changed_from_svm_to_nn 0.740915799286 0.999861643638\n",
        "SVM (1) NN (0)\n",
        "changed_from_svm_to_nn 0.734947159124 0.999976848998\n",
        "____ SVM (0) NN (1)\n",
        "____ kept_svm_instead_of_nn 0.858360278213 0.538123230161\n",
        "SVM (0) NN (1)\n",
        "changed_from_svm_to_nn 0.954143972684 0.999999995655\n",
        "SVM (1) NN (0)\n",
        "changed_from_svm_to_nn 0.935132882457 0.999999935914\n",
        "____ SVM (1) NN (0)\n",
        "____ kept_svm_instead_of_nn 0.726360930727 0.510373544915\n",
        "SVM (1) NN (0)\n",
        "changed_from_svm_to_nn 0.954161023744 0.999999198827\n",
        "SVM (0) NN (1)\n",
        "changed_from_svm_to_nn 0.51316708655 0.99999999999\n",
        "SVM (0) NN (1)\n",
        "changed_from_svm_to_nn 0.92269261967 0.999985375793\n",
        "SVM (0) NN (1)\n",
        "changed_from_svm_to_nn 0.944928895963 0.989592580712\n",
        "SVM (0) NN (1)\n",
        "changed_from_svm_to_nn 0.737231826361 0.99999089295\n",
        "SVM (0) NN (1)\n",
        "changed_from_svm_to_nn 0.971351508573 0.996976666038\n",
        "SVM (0) NN (1)\n",
        "changed_from_svm_to_nn 0.426912407791 0.998619577628\n",
        "SVM (0) NN (1)\n",
        "changed_from_svm_to_nn 0.802064652725 0.999994644148\n",
        "SVM (0) NN (1)\n",
        "changed_from_svm_to_nn 0.755955723856 0.999999927663\n",
        "SVM (0) NN (1)\n",
        "changed_from_svm_to_nn 0.96211064076 0.999999780408\n",
        "SVM (0) NN (1)\n",
        "changed_from_svm_to_nn 0.97405891909 0.999999805877\n",
        "SVM (1) NN (0)\n",
        "changed_from_svm_to_nn 0.867489170295 0.999082977576\n",
        "SVM (0) NN (1)\n",
        "changed_from_svm_to_nn 0.477905657597 0.99999999999\n",
        "SVM (0) NN (1)\n",
        "changed_from_svm_to_nn 0.669907006456 0.999999800514\n",
        "SVM (1) NN (0)\n",
        "changed_from_svm_to_nn 0.746625976757 0.999985833383\n",
        "SVM (0) NN (1)\n",
        "changed_from_svm_to_nn 0.420140081429 0.999999999989\n",
        "SVM (0) NN (1)\n",
        "changed_from_svm_to_nn 0.858517903203 0.895035310563\n",
        "SVM (0) NN (1)\n",
        "changed_from_svm_to_nn 0.613147179386 0.999999935387\n",
        "SVM (0) NN (1)\n",
        "changed_from_svm_to_nn 0.865603262155 0.999999999957\n",
        "SVM (0) NN (1)\n",
        "changed_from_svm_to_nn 0.934720812456 0.99999999999\n",
        "SVM (1) NN (0)\n",
        "changed_from_svm_to_nn 0.800603640517 0.99999891968\n",
        "____ SVM (0) NN (1)\n",
        "____ kept_svm_instead_of_nn 0.859945704044 0.671219755871\n",
        "SVM (0) NN (1)\n",
        "changed_from_svm_to_nn 0.505317494703 0.999999999986\n",
        "SVM (0) NN (1)\n",
        "changed_from_svm_to_nn 0.487722493408 0.999999999981\n",
        "SVM (0) NN (1)\n",
        "changed_from_svm_to_nn 0.862987271593 0.999999999916\n",
        "SVM (0) NN (1)\n",
        "changed_from_svm_to_nn 0.5 0.999999999977\n",
        "SVM (1) NN (0)\n",
        "changed_from_svm_to_nn 0.848732596176 0.999999988832\n",
        "SVM (0) NN (1)\n",
        "changed_from_svm_to_nn 0.564645138731 0.998341894448\n",
        "SVM (0) NN (1)\n",
        "changed_from_svm_to_nn 0.992169302978 0.99999997288\n",
        "SVM (0) NN (1)\n",
        "changed_from_svm_to_nn 0.61994093936 0.999999999989\n",
        "SVM (0) NN (1)\n",
        "changed_from_svm_to_nn 0.944784727601 0.980977658846\n",
        "SVM (1) NN (0)\n",
        "changed_from_svm_to_nn 0.982714860823 0.99999999999\n",
        "SVM (0) NN (1)\n",
        "changed_from_svm_to_nn 0.478595511728 0.999996984\n",
        "SVM (1) NN (0)\n",
        "changed_from_svm_to_nn 0.812090778779 0.998946108846\n",
        "SVM (0) NN (1)\n",
        "changed_from_svm_to_nn 0.907299784825 0.999996930539\n",
        "SVM (1) NN (0)\n",
        "changed_from_svm_to_nn 0.90211435211 0.993209257512\n",
        "SVM (1) NN (0)\n",
        "changed_from_svm_to_nn 0.918436131004 0.922508204061\n",
        "SVM (0) NN (1)\n",
        "changed_from_svm_to_nn 0.508385906876 0.999999346422\n",
        "SVM (0) NN (1)\n",
        "changed_from_svm_to_nn 0.939369492398 0.993765045056\n",
        "SVM (0) NN (1)\n",
        "changed_from_svm_to_nn 0.455377103591 0.999852761105\n",
        "SVM (1) NN (0)\n",
        "changed_from_svm_to_nn 0.604953926254 0.999999999989\n",
        "SVM (1) NN (0)\n",
        "changed_from_svm_to_nn 0.925181603895 0.999491749978\n",
        "SVM (1) NN (0)\n",
        "changed_from_svm_to_nn 0.896028473753 0.999582019931\n",
        "SVM (0) NN (1)\n",
        "changed_from_svm_to_nn 0.969837944747 0.985277650077\n",
        "SVM (1) NN (0)\n",
        "changed_from_svm_to_nn 0.752690323703 0.995283025286\n",
        "SVM (0) NN (1)\n",
        "changed_from_svm_to_nn 0.465911999772 0.999999997668\n",
        "SVM (1) NN (0)\n",
        "changed_from_svm_to_nn 0.961989614896 0.999999873488\n",
        "SVM (1) NN (0)\n",
        "changed_from_svm_to_nn 0.633459725725 0.994300192811\n",
        "____ SVM (1) NN (0)\n",
        "____ kept_svm_instead_of_nn 0.959085556809 0.818868285221\n",
        "SVM (0) NN (1)\n",
        "changed_from_svm_to_nn 0.960051778977 0.999999999804\n",
        "SVM (1) NN (0)\n",
        "changed_from_svm_to_nn 0.690068866378 0.999831026223\n",
        "SVM (1) NN (0)\n",
        "changed_from_svm_to_nn 0.810733255347 0.999997138765\n",
        "____ SVM (1) NN (0)\n",
        "____ kept_svm_instead_of_nn 0.980499167224 0.979964136916\n",
        "SVM (1) NN (0)\n",
        "changed_from_svm_to_nn 0.789009316845 0.999989444255\n",
        "SVM (0) NN (1)\n",
        "changed_from_svm_to_nn 0.986473110253 0.999999386451\n",
        "SVM (0) NN (1)\n",
        "changed_from_svm_to_nn 0.931508914582 0.999955853409\n",
        "SVM (0) NN (1)\n",
        "changed_from_svm_to_nn 0.980295481855 0.981206471642\n",
        "SVM (1) NN (0)\n",
        "changed_from_svm_to_nn 0.767482527683 0.898281777153\n",
        "SVM (0) NN (1)\n",
        "changed_from_svm_to_nn 0.632801375318 0.85352625738\n",
        "SVM (0) NN (1)\n",
        "changed_from_svm_to_nn 0.914568523445 0.976762874224\n",
        "SVM (0) NN (1)\n",
        "changed_from_svm_to_nn 0.5473667704 0.999998964522\n",
        "SVM (0) NN (1)\n",
        "changed_from_svm_to_nn 0.68119255233 0.999999995726\n",
        "SVM (0) NN (1)\n",
        "changed_from_svm_to_nn 0.943744272546 0.999999994952\n",
        "SVM (0) NN (1)\n",
        "changed_from_svm_to_nn 0.792498922217 0.99999999999\n",
        "____ SVM (0) NN (1)\n",
        "____ kept_svm_instead_of_nn 0.874388131799 0.808810877318\n",
        "SVM (0) NN (1)\n",
        "changed_from_svm_to_nn 0.906678679943 0.999999897603\n",
        "SVM (0) NN (1)\n",
        "changed_from_svm_to_nn 0.585354940665 0.999989206087\n",
        "SVM (1) NN (0)\n",
        "changed_from_svm_to_nn 0.726849542119 0.999999806964\n",
        "SVM (0) NN (1)\n",
        "changed_from_svm_to_nn 0.881348053943 0.999939290009\n",
        "SVM (0) NN (1)\n",
        "changed_from_svm_to_nn 0.599638222364 0.99999999999\n",
        "SVM (0) NN (1)\n",
        "changed_from_svm_to_nn 0.96372187278 0.999983220991\n",
        "SVM (0) NN (1)\n",
        "changed_from_svm_to_nn 0.532060969339 0.999999997636\n",
        "SVM (1) NN (0)\n",
        "changed_from_svm_to_nn 0.831709538009 0.999996473754\n",
        "SVM (0) NN (1)\n",
        "changed_from_svm_to_nn 0.416742116152 0.99999999999\n",
        "SVM (0) NN (1)\n",
        "changed_from_svm_to_nn 0.972021982035 0.998675202661\n",
        "SVM (0) NN (1)\n",
        "changed_from_svm_to_nn 0.5 0.99999999999\n",
        "____ SVM (1) NN (0)\n",
        "____ kept_svm_instead_of_nn 0.97473077172 0.874992595111\n",
        "SVM (0) NN (1)\n",
        "changed_from_svm_to_nn 0.944763407712 0.997279557666\n",
        "SVM (0) NN (1)\n",
        "changed_from_svm_to_nn 0.918976380314 0.999996805921\n",
        "SVM (1) NN (0)\n",
        "changed_from_svm_to_nn 0.660651648709 0.999993422836\n",
        "SVM (0) NN (1)\n",
        "changed_from_svm_to_nn 0.923857824499 0.999999992807\n",
        "SVM (1) NN (0)\n",
        "changed_from_svm_to_nn 0.918909228749 0.999999999293\n",
        "SVM (0) NN (1)\n",
        "changed_from_svm_to_nn 0.626749213744 0.999995896277\n",
        "____ SVM (0) NN (1)\n",
        "____ kept_svm_instead_of_nn 0.91109066085 0.836033023951\n",
        "SVM (1) NN (0)\n",
        "changed_from_svm_to_nn 0.927773207973 0.999999999884\n",
        "SVM (0) NN (1)\n",
        "changed_from_svm_to_nn 0.942513982762 0.999999998591\n",
        "SVM (0) NN (1)\n",
        "changed_from_svm_to_nn 0.550349755304 0.999972138876\n",
        "____ SVM (1) NN (0)\n",
        "____ kept_svm_instead_of_nn 0.946360982134 0.717939269908\n",
        "SVM (0) NN (1)\n",
        "changed_from_svm_to_nn 0.895357180666 0.999999999856\n",
        "SVM (1) NN (0)\n",
        "changed_from_svm_to_nn 0.981929696104 0.999999997261\n",
        "SVM (0) NN (1)\n",
        "changed_from_svm_to_nn 0.665497463302 0.999999092097\n",
        "SVM (0) NN (1)\n",
        "changed_from_svm_to_nn 0.639544134578 0.935990569822\n",
        "SVM (1) NN (0)\n",
        "changed_from_svm_to_nn 0.76648633942 0.999999235899\n",
        "SVM (0) NN (1)\n",
        "changed_from_svm_to_nn 0.82600405775 0.999999992252\n",
        "SVM (0) NN (1)\n",
        "changed_from_svm_to_nn 0.655845887231 0.999997436205\n",
        "SVM (0) NN (1)\n",
        "changed_from_svm_to_nn 0.883813560696 0.99966081477\n",
        "SVM (0) NN (1)\n",
        "changed_from_svm_to_nn 0.558489653859 0.999999999989\n",
        "SVM (0) NN (1)\n",
        "changed_from_svm_to_nn 0.872509778047 0.999999997056\n",
        "SVM (0) NN (1)\n",
        "changed_from_svm_to_nn 0.769188136693 0.889815078446\n",
        "____ SVM (0) NN (1)\n",
        "____ kept_svm_instead_of_nn 0.948419936316 0.888294242437\n",
        "SVM (0) NN (1)\n",
        "changed_from_svm_to_nn 0.5 0.999998371264\n",
        "SVM (1) NN (0)\n",
        "changed_from_svm_to_nn 0.924490063918 0.927020536938\n",
        "SVM (1) NN (0)\n",
        "changed_from_svm_to_nn 0.885282671574 0.996854161271\n",
        "SVM (0) NN (1)\n",
        "changed_from_svm_to_nn 0.851862333213 0.966957819749\n",
        "SVM (1) NN (0)\n",
        "changed_from_svm_to_nn 0.887592318545 0.999995869757\n",
        "SVM (0) NN (1)\n",
        "changed_from_svm_to_nn 0.424151606503 0.999998876949\n",
        "SVM (1) NN (0)\n",
        "changed_from_svm_to_nn 0.915688131581 0.999999562216\n",
        "SVM (1) NN (0)\n",
        "changed_from_svm_to_nn 0.751939853156 0.999532249746\n",
        "SVM (1) NN (0)\n",
        "changed_from_svm_to_nn 0.593659393999 0.999993698674\n",
        "SVM (0) NN (1)\n",
        "changed_from_svm_to_nn 0.490353423629 0.99999999999\n",
        "SVM (1) NN (0)\n",
        "changed_from_svm_to_nn 0.680076084496 0.999996401401\n",
        "SVM (1) NN (0)\n",
        "changed_from_svm_to_nn 0.755028669117 0.995418357466\n",
        "SVM (1) NN (0)\n",
        "changed_from_svm_to_nn 0.968928472231 0.999774813612\n",
        "SVM (0) NN (1)\n",
        "changed_from_svm_to_nn 0.465171231322 0.99999999999\n",
        "SVM (0) NN (1)\n",
        "changed_from_svm_to_nn 0.890428719435 0.99987823537\n",
        "SVM (0) NN (1)\n",
        "changed_from_svm_to_nn 0.58935297999 0.999967826743\n",
        "SVM (0) NN (1)\n",
        "changed_from_svm_to_nn 0.961495593968 0.999995671644\n",
        "SVM (1) NN (0)\n",
        "changed_from_svm_to_nn 0.948650400725 0.99907572817\n",
        "SVM (1) NN (0)\n",
        "changed_from_svm_to_nn 0.996882854717 0.99826882449\n",
        "SVM (0) NN (1)\n",
        "changed_from_svm_to_nn 0.884339175121 0.99999999999\n",
        "SVM (1) NN (0)\n",
        "changed_from_svm_to_nn 0.726933580184 0.999999581096\n",
        "SVM (0) NN (1)\n",
        "changed_from_svm_to_nn 0.871269323618 0.999999985955\n",
        "SVM (0) NN (1)\n",
        "changed_from_svm_to_nn 0.516719449145 0.999986920974\n",
        "SVM (0) NN (1)\n",
        "changed_from_svm_to_nn 0.695577375018 0.999751717828\n",
        "SVM (0) NN (1)\n",
        "changed_from_svm_to_nn 0.907216490472 0.999980720404\n",
        "____ SVM (0) NN (1)\n",
        "____ kept_svm_instead_of_nn 0.974623281212 0.92389724422\n",
        "SVM (0) NN (1)\n",
        "changed_from_svm_to_nn 0.838311400532 0.999998730235\n",
        "____ SVM (1) NN (0)\n",
        "____ kept_svm_instead_of_nn 0.741278542191 0.552012483764\n",
        "SVM (0) NN (1)\n",
        "changed_from_svm_to_nn 0.77764364732 0.999999999419\n",
        "SVM (0) NN (1)\n",
        "changed_from_svm_to_nn 0.917489831732 0.993487943894\n",
        "SVM (0) NN (1)\n",
        "changed_from_svm_to_nn 0.931940360615 0.999943223039\n",
        "SVM (1) NN (0)\n",
        "changed_from_svm_to_nn 0.777533458931 0.993641333822\n",
        "SVM (1) NN (0)\n",
        "changed_from_svm_to_nn 0.857870198086 0.999999863837\n",
        "SVM (0) NN (1)\n",
        "changed_from_svm_to_nn 0.688358651784 0.97160079433\n",
        "SVM (1) NN (0)\n",
        "changed_from_svm_to_nn 0.927444136541 0.999999999866\n",
        "SVM (0) NN (1)\n",
        "changed_from_svm_to_nn 0.684582911415 0.999976186901\n",
        "SVM (0) NN (1)\n",
        "changed_from_svm_to_nn 0.776232051939 0.999998616185\n",
        "SVM (0) NN (1)\n",
        "changed_from_svm_to_nn 0.939255398634 0.947563146349\n",
        "SVM (1) NN (0)\n",
        "changed_from_svm_to_nn 0.596002159801 0.999999856765\n",
        "SVM (1) NN (0)\n",
        "changed_from_svm_to_nn 0.92075269227 0.999769568009\n",
        "SVM (0) NN (1)\n",
        "changed_from_svm_to_nn 0.571518596087 0.999999999004\n",
        "____ SVM (0) NN (1)\n",
        "____ kept_svm_instead_of_nn 0.945368753881 0.883439034359\n",
        "SVM (1) NN (0)\n",
        "changed_from_svm_to_nn 0.682183156298 0.999998738434\n",
        "SVM (1) NN (0)\n",
        "changed_from_svm_to_nn 0.97946967845 0.994051899831\n",
        "SVM (1) NN (0)\n",
        "changed_from_svm_to_nn 0.766202853753 0.999998898584\n",
        "SVM (1) NN (0)\n",
        "changed_from_svm_to_nn 0.731424654527 0.947662096549\n",
        "SVM (1) NN (0)\n",
        "changed_from_svm_to_nn 0.922886090899 0.99866922889\n",
        "SVM (1) NN (0)\n",
        "changed_from_svm_to_nn 0.753912466022 0.999980383256\n",
        "SVM (0) NN (1)\n",
        "changed_from_svm_to_nn 0.433610324637 0.99999999999\n",
        "SVM (1) NN (0)\n",
        "changed_from_svm_to_nn 0.702748944943 0.999999788037\n",
        "____ SVM (0) NN (1)\n",
        "____ kept_svm_instead_of_nn 0.766609875157 0.686527535112\n",
        "SVM (0) NN (1)\n",
        "changed_from_svm_to_nn 0.868646196175 0.999999985204\n",
        "SVM (1) NN (0)\n",
        "changed_from_svm_to_nn 0.946695151255 0.992321494253\n",
        "SVM (1) NN (0)\n",
        "changed_from_svm_to_nn 0.878849330157 0.99104700037\n",
        "SVM (1) NN (0)\n",
        "changed_from_svm_to_nn 0.718629858592 0.999999750166\n",
        "SVM (0) NN (1)\n",
        "changed_from_svm_to_nn 0.5 0.99999999999\n",
        "SVM (0) NN (1)\n",
        "changed_from_svm_to_nn 0.96528710747 0.999843090439\n",
        "SVM (0) NN (1)\n",
        "changed_from_svm_to_nn 0.987640233902 0.997073387169\n",
        "SVM (0) NN (1)\n",
        "changed_from_svm_to_nn 0.907743016442 0.999999161942\n",
        "SVM (1) NN (0)\n",
        "changed_from_svm_to_nn 0.917933799051 0.995765610694\n",
        "SVM (1) NN (0)\n",
        "changed_from_svm_to_nn 0.991226927058 0.99999999999\n",
        "SVM (1) NN (0)\n",
        "changed_from_svm_to_nn 0.964884726907 0.998936718658\n",
        "SVM (1) NN (0)\n",
        "changed_from_svm_to_nn 0.747025439139 0.99969477897\n",
        "SVM (0) NN (1)\n",
        "changed_from_svm_to_nn 0.748126065657 0.999999986962\n",
        "SVM (0) NN (1)\n",
        "changed_from_svm_to_nn 0.918674203964 0.999999991005\n",
        "____ SVM (0) NN (1)\n",
        "____ kept_svm_instead_of_nn 0.978533173897 0.528959488038\n",
        "SVM (1) NN (0)\n",
        "changed_from_svm_to_nn 0.894734423774 0.999999240123\n",
        "SVM (1) NN (0)\n",
        "changed_from_svm_to_nn 0.922022140928 0.997640384546\n",
        "SVM (1) NN (0)\n",
        "changed_from_svm_to_nn 0.611414331005 0.999999912301\n",
        "SVM (0) NN (1)\n",
        "changed_from_svm_to_nn 0.828879322609 0.999999999576\n",
        "____ SVM (1) NN (0)\n",
        "____ kept_svm_instead_of_nn 0.973298173299 0.92340921085\n",
        "SVM (0) NN (1)\n",
        "changed_from_svm_to_nn 0.878442917492 0.992320831896\n",
        "SVM (0) NN (1)\n",
        "changed_from_svm_to_nn 0.545677623423 0.6412768819\n",
        "SVM (0) NN (1)\n",
        "changed_from_svm_to_nn 0.844887018206 0.999987867241\n",
        "SVM (1) NN (0)\n",
        "changed_from_svm_to_nn 0.95784596204 0.999961932298\n",
        "SVM (1) NN (0)\n",
        "changed_from_svm_to_nn 0.659710110993 0.999999967129\n",
        "SVM (0) NN (1)\n",
        "changed_from_svm_to_nn 0.48882045786 0.99999999999\n",
        "SVM (1) NN (0)\n",
        "changed_from_svm_to_nn 0.969825603751 0.99996236374\n",
        "SVM (1) NN (0)\n",
        "changed_from_svm_to_nn 0.954499195344 0.99999992027\n",
        "SVM (0) NN (1)\n",
        "changed_from_svm_to_nn 0.836530724467 0.999997313769\n",
        "svm and NN differ 252\n",
        "changed_from_svm_to_nn 231\n"
       ]
      }
     ],
     "prompt_number": 178
    },
    {
     "cell_type": "code",
     "collapsed": false,
     "input": [],
     "language": "python",
     "metadata": {},
     "outputs": []
    },
    {
     "cell_type": "code",
     "collapsed": false,
     "input": [],
     "language": "python",
     "metadata": {},
     "outputs": []
    },
    {
     "cell_type": "heading",
     "level": 4,
     "metadata": {},
     "source": [
      "SAVING TEST PREDICTIONS"
     ]
    },
    {
     "cell_type": "code",
     "collapsed": false,
     "input": [
      "print 'To submitt add header: Id,Solution'\n",
      "print to_submit_svm[0:10,:]\n",
      "np.savetxt('./predictions_play_tuesday_svm2.csv', to_submit_svm, fmt='%i,%i')"
     ],
     "language": "python",
     "metadata": {},
     "outputs": [
      {
       "output_type": "stream",
       "stream": "stdout",
       "text": [
        "To submitt add header: Id,Solution\n",
        "[[  1.   1.]\n",
        " [  2.   0.]\n",
        " [  3.   1.]\n",
        " [  4.   0.]\n",
        " [  5.   0.]\n",
        " [  6.   0.]\n",
        " [  7.   0.]\n",
        " [  8.   1.]\n",
        " [  9.   0.]\n",
        " [ 10.   0.]]\n"
       ]
      }
     ],
     "prompt_number": 179
    },
    {
     "cell_type": "code",
     "collapsed": false,
     "input": [],
     "language": "python",
     "metadata": {},
     "outputs": [],
     "prompt_number": 179
    },
    {
     "cell_type": "code",
     "collapsed": false,
     "input": [
      "print 'To submitt add header: Id,Solution'\n",
      "print to_submit_nn[0:10,:]\n",
      "np.savetxt('./predictions_play_tuesday_nn2.csv', to_submit_nn, fmt='%i,%i')"
     ],
     "language": "python",
     "metadata": {},
     "outputs": [
      {
       "output_type": "stream",
       "stream": "stdout",
       "text": [
        "To submitt add header: Id,Solution\n",
        "[[  1.   1.]\n",
        " [  2.   0.]\n",
        " [  3.   1.]\n",
        " [  4.   0.]\n",
        " [  5.   0.]\n",
        " [  6.   0.]\n",
        " [  7.   0.]\n",
        " [  8.   1.]\n",
        " [  9.   0.]\n",
        " [ 10.   0.]]\n"
       ]
      }
     ],
     "prompt_number": 180
    },
    {
     "cell_type": "code",
     "collapsed": false,
     "input": [],
     "language": "python",
     "metadata": {},
     "outputs": [],
     "prompt_number": 180
    },
    {
     "cell_type": "code",
     "collapsed": false,
     "input": [
      "print 'To submitt add header: Id,Solution'\n",
      "print to_submit_svm_nn[0:10,:]\n",
      "np.savetxt('./predictions_play_tuesday_mix2.csv', to_submit_svm_nn, fmt='%i,%i')"
     ],
     "language": "python",
     "metadata": {},
     "outputs": [
      {
       "output_type": "stream",
       "stream": "stdout",
       "text": [
        "To submitt add header: Id,Solution\n",
        "[[  1.   1.]\n",
        " [  2.   0.]\n",
        " [  3.   1.]\n",
        " [  4.   0.]\n",
        " [  5.   0.]\n",
        " [  6.   0.]\n",
        " [  7.   0.]\n",
        " [  8.   1.]\n",
        " [  9.   0.]\n",
        " [ 10.   0.]]\n"
       ]
      }
     ],
     "prompt_number": 181
    },
    {
     "cell_type": "code",
     "collapsed": false,
     "input": [],
     "language": "python",
     "metadata": {},
     "outputs": []
    },
    {
     "cell_type": "code",
     "collapsed": false,
     "input": [],
     "language": "python",
     "metadata": {},
     "outputs": []
    }
   ],
   "metadata": {}
  }
 ]
}