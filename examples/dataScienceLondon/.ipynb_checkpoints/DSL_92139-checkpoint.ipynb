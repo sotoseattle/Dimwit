{
 "metadata": {
  "name": ""
 },
 "nbformat": 3,
 "nbformat_minor": 0,
 "worksheets": [
  {
   "cells": [
    {
     "cell_type": "code",
     "collapsed": false,
     "input": [
      "%cd '~/Dropbox/fjs6/Journal/ideolog/Dimwit/examples/dataScienceLondon/data/'"
     ],
     "language": "python",
     "metadata": {},
     "outputs": [
      {
       "output_type": "stream",
       "stream": "stdout",
       "text": [
        "/Users/fjs6/Dropbox/fjs6/Journal/ideolog/Dimwit/examples/dataScienceLondon/data\n"
       ]
      }
     ],
     "prompt_number": 296
    },
    {
     "cell_type": "code",
     "collapsed": false,
     "input": [
      "import numpy as np\n",
      "from pandas import *\n",
      "import pandas\n",
      "import math\n",
      "import random\n",
      "from sklearn import preprocessing\n",
      "from sklearn import svm\n",
      "from sklearn.svm import SVC\n",
      "from sklearn.cross_validation import StratifiedKFold\n",
      "from sklearn.grid_search import GridSearchCV\n",
      "#from sklearn.decomposition import PCA\n",
      "\n",
      "import sys\n",
      "sys.path.append('/Users/fjs6/Dropbox/fjs6/Journal/ideolog/Dimwit')\n",
      "from PCA import * "
     ],
     "language": "python",
     "metadata": {},
     "outputs": [],
     "prompt_number": 297
    },
    {
     "cell_type": "code",
     "collapsed": false,
     "input": [
      "tr_data = read_csv('train.csv', header=None)\n",
      "M = tr_data.shape[0]\n",
      "test_data = read_csv('test.csv', header=None)\n",
      "data = concat([tr_data, test_data], ignore_index=True)\n",
      "print 'cutout train set:', M"
     ],
     "language": "python",
     "metadata": {},
     "outputs": [
      {
       "output_type": "stream",
       "stream": "stdout",
       "text": [
        "cutout train set: 1000\n"
       ]
      }
     ],
     "prompt_number": 298
    },
    {
     "cell_type": "code",
     "collapsed": false,
     "input": [
      "gt_data = read_csv('trainLabels.csv', header=None)"
     ],
     "language": "python",
     "metadata": {},
     "outputs": [],
     "prompt_number": 299
    },
    {
     "cell_type": "heading",
     "level": 2,
     "metadata": {},
     "source": [
      "PCA"
     ]
    },
    {
     "cell_type": "code",
     "collapsed": false,
     "input": [
      "# scale and arraify training data\n",
      "x_all_pca = np.array(data.ix[:,:])\n",
      "scaler = preprocessing.StandardScaler().fit(x_all_pca)\n",
      "x_all_pca = scaler.transform(x_all_pca)\n",
      "\n",
      "y_all_pca = np.ravel(gt_data)"
     ],
     "language": "python",
     "metadata": {},
     "outputs": [],
     "prompt_number": 358
    },
    {
     "cell_type": "code",
     "collapsed": false,
     "input": [
      "U, S = pca(x_all_pca)"
     ],
     "language": "python",
     "metadata": {},
     "outputs": []
    },
    {
     "cell_type": "code",
     "collapsed": false,
     "input": [
      "FEATS = 30\n",
      "Z = shrink(x_all_pca[:,:], U, FEATS)"
     ],
     "language": "python",
     "metadata": {},
     "outputs": []
    },
    {
     "cell_type": "code",
     "collapsed": false,
     "input": [
      "Z.shape"
     ],
     "language": "python",
     "metadata": {},
     "outputs": []
    },
    {
     "cell_type": "code",
     "collapsed": false,
     "input": [
      "#x_all = Z"
     ],
     "language": "python",
     "metadata": {},
     "outputs": []
    },
    {
     "cell_type": "code",
     "collapsed": false,
     "input": [],
     "language": "python",
     "metadata": {},
     "outputs": []
    },
    {
     "cell_type": "heading",
     "level": 4,
     "metadata": {},
     "source": [
      "dont use yet"
     ]
    },
    {
     "cell_type": "code",
     "collapsed": false,
     "input": [
      "pca = PCA(n_components=FEATS, whiten=True)\n",
      "pca.fit(x_all_pca, y_all_pca)\n"
     ],
     "language": "python",
     "metadata": {},
     "outputs": [
      {
       "metadata": {},
       "output_type": "pyout",
       "prompt_number": 359,
       "text": [
        "PCA(copy=True, n_components=30, whiten=True)"
       ]
      }
     ],
     "prompt_number": 359
    },
    {
     "cell_type": "code",
     "collapsed": false,
     "input": [
      "print(pca.explained_variance_ratio_)\n",
      "print(np.sum(pca.explained_variance_ratio_))"
     ],
     "language": "python",
     "metadata": {},
     "outputs": [
      {
       "output_type": "stream",
       "stream": "stdout",
       "text": [
        "[ 0.0732418   0.06003449  0.0411764   0.03788117  0.03305839  0.02980509\n",
        "  0.02728233  0.02702434  0.02696991  0.02673163  0.02636513  0.02625581\n",
        "  0.02607215  0.02588143  0.02576539  0.02563035  0.02534153  0.02521328\n",
        "  0.02514322  0.02484588  0.02476249  0.02469941  0.0244515   0.02429314\n",
        "  0.02419625  0.02403065  0.02395067  0.02361986  0.02336824  0.02314403]\n",
        "0.880235961369\n"
       ]
      }
     ],
     "prompt_number": 360
    },
    {
     "cell_type": "code",
     "collapsed": false,
     "input": [
      "x_all.shape"
     ],
     "language": "python",
     "metadata": {},
     "outputs": [
      {
       "metadata": {},
       "output_type": "pyout",
       "prompt_number": 361,
       "text": [
        "(31,)"
       ]
      }
     ],
     "prompt_number": 361
    },
    {
     "cell_type": "code",
     "collapsed": false,
     "input": [
      "x_all = pca.transform(x_all_pca)"
     ],
     "language": "python",
     "metadata": {},
     "outputs": [],
     "prompt_number": 362
    },
    {
     "cell_type": "code",
     "collapsed": false,
     "input": [
      "plot(pca.explained_variance_)"
     ],
     "language": "python",
     "metadata": {},
     "outputs": [
      {
       "metadata": {},
       "output_type": "pyout",
       "prompt_number": 363,
       "text": [
        "[<matplotlib.lines.Line2D at 0x10860bd10>]"
       ]
      },
      {
       "metadata": {},
       "output_type": "display_data",
       "png": "[encoded data removed]",
       "text": [
        "<matplotlib.figure.Figure at 0x1085d96d0>"
       ]
      }
     ],
     "prompt_number": 363
    },
    {
     "cell_type": "code",
     "collapsed": false,
     "input": [],
     "language": "python",
     "metadata": {},
     "outputs": [],
     "prompt_number": 363
    },
    {
     "cell_type": "heading",
     "level": 2,
     "metadata": {},
     "source": [
      "SVM - 1st pass"
     ]
    },
    {
     "cell_type": "code",
     "collapsed": false,
     "input": [
      "def laundroSVM(x,y, C_range, g_range):\n",
      "    param_grid = dict(gamma=g_range, C=C_range)\n",
      "    clf = svm.SVC(kernel='rbf', cache_size=1000, probability=True)\n",
      "\n",
      "    cv = StratifiedKFold(y, n_folds=3)\n",
      "    grid = GridSearchCV(clf, param_grid=param_grid, cv=cv, verbose=1)\n",
      "\n",
      "    grid.fit(x, y)\n",
      "    return grid\n"
     ],
     "language": "python",
     "metadata": {},
     "outputs": [],
     "prompt_number": 364
    },
    {
     "cell_type": "code",
     "collapsed": false,
     "input": [
      "def heatmap(grid, C_range, g_range):\n",
      "    print(\"The best classifier is: \", grid.best_estimator_)\n",
      "    print 'best score', grid.best_score_\n",
      "    score_dict = grid.grid_scores_\n",
      "    scores = [x[1] for x in score_dict]\n",
      "    scores = np.array(scores).reshape(len(C_range), len(g_range))\n",
      "\n",
      "    plt.figure(figsize=(8, 6))\n",
      "    plt.subplots_adjust(left=0.05, right=0.95, bottom=0.15, top=0.95)\n",
      "    plt.imshow(scores, interpolation='nearest', cmap=plt.cm.spectral)\n",
      "    plt.xlabel('g')\n",
      "    plt.ylabel('C')\n",
      "    plt.colorbar()\n",
      "    plt.xticks(np.arange(len(g_range)), g_range, rotation=45)\n",
      "    plt.yticks(np.arange(len(C_range)), C_range)\n",
      "    plt.show()"
     ],
     "language": "python",
     "metadata": {},
     "outputs": [],
     "prompt_number": 365
    },
    {
     "cell_type": "code",
     "collapsed": false,
     "input": [
      "# scale and arraify training data\n",
      "#x_all = np.array(data.ix[:,:])\n",
      "#scaler = preprocessing.StandardScaler().fit(x_all)\n",
      "#x_all = scaler.transform(x_all)\n",
      "y_all = np.ravel(gt_data)\n",
      "\n",
      "#features = [14,12,29,6,36,39,7,4,28,19,22,18,38,3, 32, 34, 13, 11]"
     ],
     "language": "python",
     "metadata": {},
     "outputs": [],
     "prompt_number": 366
    },
    {
     "cell_type": "code",
     "collapsed": false,
     "input": [],
     "language": "python",
     "metadata": {},
     "outputs": [],
     "prompt_number": 366
    },
    {
     "cell_type": "code",
     "collapsed": false,
     "input": [
      "C_range = np.arange(1,10)\n",
      "g_range = np.arange(0.01, 0.1, 0.02)\n",
      "X0 = x_all[0:1000, :]\n",
      "Y0 = y_all\n",
      "grid_0 = laundroSVM(X0, Y0, C_range, g_range)\n",
      "heatmap(grid_0, C_range, g_range)"
     ],
     "language": "python",
     "metadata": {},
     "outputs": [
      {
       "output_type": "stream",
       "stream": "stderr",
       "text": [
        "[Parallel(n_jobs=1)]: Done   1 jobs       | elapsed:    0.3s\n",
        "[Parallel(n_jobs=1)]: Done  50 jobs       | elapsed:   10.6s\n"
       ]
      },
      {
       "output_type": "stream",
       "stream": "stdout",
       "text": [
        "Fitting 3 folds for each of 45 candidates, totalling 135 fits\n",
        "('The best classifier is: ', SVC(C=6, cache_size=1000, class_weight=None, coef0=0.0, degree=3, gamma=0.01,\n",
        "  kernel='rbf', max_iter=-1, probability=True, random_state=None,\n",
        "  shrinking=True, tol=0.001, verbose=False))"
       ]
      },
      {
       "output_type": "stream",
       "stream": "stdout",
       "text": [
        "\n",
        "best score 0.847\n"
       ]
      },
      {
       "output_type": "stream",
       "stream": "stderr",
       "text": [
        "[Parallel(n_jobs=1)]: Done 135 out of 135 | elapsed:   30.0s finished\n"
       ]
      },
      {
       "metadata": {},
       "output_type": "display_data",
       "png": "[encoded data removed]",
       "text": [
        "<matplotlib.figure.Figure at 0x10a4e1890>"
       ]
      }
     ],
     "prompt_number": 367
    },
    {
     "cell_type": "code",
     "collapsed": false,
     "input": [
      "prob_1 = grid_0.predict_proba(x_all[1000:, :])"
     ],
     "language": "python",
     "metadata": {},
     "outputs": [],
     "prompt_number": 368
    },
    {
     "cell_type": "code",
     "collapsed": false,
     "input": [
      "X1 = X0.copy()\n",
      "Y1 = Y0.copy()\n",
      "X_rest = np.zeros((1,FEATS))\n",
      "\n",
      "\n",
      "count = 0.0\n",
      "for i in range(len(prob_1)):\n",
      "    y = np.argmax(prob_1[i,:])\n",
      "    p = np.max(prob_1[i,:])\n",
      "    record = x_all[1000+i:1000+i+1,:]\n",
      "    if p>0.99:   ################################################ 99%\n",
      "        count += 1\n",
      "        X1 = np.append(X1, record, axis=0)\n",
      "        Y1 = np.append(Y1, y)\n",
      "    else:\n",
      "        X_rest = np.vstack([X_rest, record])\n",
      "X_rest = np.delete(X_rest, 0, 0)"
     ],
     "language": "python",
     "metadata": {},
     "outputs": [],
     "prompt_number": 369
    },
    {
     "cell_type": "code",
     "collapsed": false,
     "input": [
      "print 'remaining', X_rest.shape\n",
      "print 'total should be 10,000', X_rest.shape[0]+X1.shape[0]\n",
      "print 'count', count"
     ],
     "language": "python",
     "metadata": {},
     "outputs": [
      {
       "output_type": "stream",
       "stream": "stdout",
       "text": [
        "remaining (8441, 30)\n",
        "total should be 10,000 10000\n",
        "count 559.0\n"
       ]
      }
     ],
     "prompt_number": 370
    },
    {
     "cell_type": "code",
     "collapsed": false,
     "input": [
      "C_range = np.arange(0.5, 2., 0.25)\n",
      "g_range = np.arange(0.06, 0.11, 0.01)\n",
      "grid_1 = laundroSVM(X1, Y1, C_range, g_range)\n",
      "heatmap(grid_1, C_range, g_range)"
     ],
     "language": "python",
     "metadata": {},
     "outputs": [
      {
       "output_type": "stream",
       "stream": "stderr",
       "text": [
        "[Parallel(n_jobs=1)]: Done   1 jobs       | elapsed:    0.5s\n",
        "[Parallel(n_jobs=1)]: Done  50 jobs       | elapsed:   23.1s\n"
       ]
      },
      {
       "output_type": "stream",
       "stream": "stdout",
       "text": [
        "Fitting 3 folds for each of 30 candidates, totalling 90 fits\n",
        "('The best classifier is: ', SVC(C=0.75, cache_size=1000, class_weight=None, coef0=0.0, degree=3,\n",
        "  gamma=0.059999999999999998, kernel='rbf', max_iter=-1, probability=True,\n",
        "  random_state=None, shrinking=True, tol=0.001, verbose=False))"
       ]
      },
      {
       "output_type": "stream",
       "stream": "stdout",
       "text": [
        "\n",
        "best score 0.901860166774\n"
       ]
      },
      {
       "output_type": "stream",
       "stream": "stderr",
       "text": [
        "[Parallel(n_jobs=1)]: Done  90 out of  90 | elapsed:   43.1s finished\n"
       ]
      },
      {
       "metadata": {},
       "output_type": "display_data",
       "png": "[encoded data removed]",
       "text": [
        "<matplotlib.figure.Figure at 0x1085f0490>"
       ]
      }
     ],
     "prompt_number": 371
    },
    {
     "cell_type": "code",
     "collapsed": false,
     "input": [
      "prob_2 = grid_1.predict_proba(X_rest)"
     ],
     "language": "python",
     "metadata": {},
     "outputs": [],
     "prompt_number": 372
    },
    {
     "cell_type": "code",
     "collapsed": false,
     "input": [
      "X2 = X1.copy()\n",
      "Y2 = Y1.copy()\n",
      "X_rest_2 = np.zeros((1,FEATS))\n",
      "\n",
      "count = 0.0\n",
      "for i in range(len(prob_2)):\n",
      "    y = np.argmax(prob_2[i,:])\n",
      "    p = np.max(prob_2[i,:])\n",
      "    record = X_rest[i:i+1,:]\n",
      "    if p>0.99:   ################################################ 99%\n",
      "        count += 1\n",
      "        X2 = np.append(X2, record, axis=0)\n",
      "        Y2 = np.append(Y2, y)\n",
      "    else:\n",
      "        X_rest_2 = np.vstack([X_rest_2, record])\n",
      "X_rest_2 = np.delete(X_rest_2, 0, 0)"
     ],
     "language": "python",
     "metadata": {},
     "outputs": [],
     "prompt_number": 373
    },
    {
     "cell_type": "code",
     "collapsed": false,
     "input": [
      "print 'remaining', X_rest_2.shape\n",
      "print 'total should be 10,000', X_rest_2.shape[0]+X2.shape[0]\n",
      "print 'count', count"
     ],
     "language": "python",
     "metadata": {},
     "outputs": [
      {
       "output_type": "stream",
       "stream": "stdout",
       "text": [
        "remaining (7780, 30)\n",
        "total should be 10,000 10000\n",
        "count 661.0\n"
       ]
      }
     ],
     "prompt_number": 374
    },
    {
     "cell_type": "code",
     "collapsed": false,
     "input": [
      "C_range = np.arange(1,6)\n",
      "g_range = np.arange(0.05, 0.15, 0.01)\n",
      "grid_2 = laundroSVM(X2, Y2, C_range, g_range)\n",
      "heatmap(grid_2, C_range, g_range)"
     ],
     "language": "python",
     "metadata": {},
     "outputs": [
      {
       "output_type": "stream",
       "stream": "stderr",
       "text": [
        "[Parallel(n_jobs=1)]: Done   1 jobs       | elapsed:    0.6s\n",
        "[Parallel(n_jobs=1)]: Done  50 jobs       | elapsed:   47.1s\n"
       ]
      }
     ],
     "prompt_number": "*"
    },
    {
     "cell_type": "heading",
     "level": 4,
     "metadata": {},
     "source": [
      "Predict & Prepare submission"
     ]
    },
    {
     "cell_type": "code",
     "collapsed": false,
     "input": [
      "p = grid_2.predict((x_all[1000:,:]))"
     ],
     "language": "python",
     "metadata": {},
     "outputs": [],
     "prompt_number": "*"
    },
    {
     "cell_type": "code",
     "collapsed": false,
     "input": [
      "m = p.shape[0]\n",
      "aa = range(1,m+1)\n",
      "y_test = np.vstack([aa, p]).T\n",
      "#print 'To submitt add header: Id,Solution'\n",
      "print y_test[0:10,:]\n",
      "np.savetxt('./predictions_svm_engorged2.csv', y_test, fmt='%i,%i')"
     ],
     "language": "python",
     "metadata": {},
     "outputs": [],
     "prompt_number": "*"
    },
    {
     "cell_type": "code",
     "collapsed": false,
     "input": [],
     "language": "python",
     "metadata": {},
     "outputs": []
    },
    {
     "cell_type": "code",
     "collapsed": false,
     "input": [],
     "language": "python",
     "metadata": {},
     "outputs": []
    },
    {
     "cell_type": "code",
     "collapsed": false,
     "input": [],
     "language": "python",
     "metadata": {},
     "outputs": []
    },
    {
     "cell_type": "code",
     "collapsed": false,
     "input": [],
     "language": "python",
     "metadata": {},
     "outputs": []
    },
    {
     "cell_type": "code",
     "collapsed": false,
     "input": [],
     "language": "python",
     "metadata": {},
     "outputs": []
    }
   ],
   "metadata": {}
  }
 ]
}