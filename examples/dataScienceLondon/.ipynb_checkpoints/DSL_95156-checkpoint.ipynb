{
 "metadata": {
  "name": ""
 },
 "nbformat": 3,
 "nbformat_minor": 0,
 "worksheets": [
  {
   "cells": [
    {
     "cell_type": "code",
     "collapsed": false,
     "input": [
      "%cd '~/Dropbox/fjs6/Journal/ideolog/Dimwit/examples/dataScienceLondon/data/'"
     ],
     "language": "python",
     "metadata": {},
     "outputs": [
      {
       "output_type": "stream",
       "stream": "stdout",
       "text": [
        "/Users/fjs6/Dropbox/fjs6/Journal/ideolog/Dimwit/examples/dataScienceLondon/data\n"
       ]
      }
     ],
     "prompt_number": 634
    },
    {
     "cell_type": "code",
     "collapsed": false,
     "input": [
      "import numpy as np\n",
      "from pandas import *\n",
      "import pandas\n",
      "import math\n",
      "import random\n",
      "from sklearn import preprocessing\n",
      "from sklearn import svm\n",
      "from sklearn.svm import SVC\n",
      "from sklearn.cross_validation import StratifiedKFold\n",
      "from sklearn.grid_search import GridSearchCV\n",
      "from sklearn.decomposition import PCA\n",
      "\n",
      "import sys\n",
      "sys.path.append('/Users/fjs6/Dropbox/fjs6/Journal/ideolog/Dimwit')\n"
     ],
     "language": "python",
     "metadata": {},
     "outputs": [],
     "prompt_number": 635
    },
    {
     "cell_type": "code",
     "collapsed": false,
     "input": [
      "tr_data = read_csv('train.csv', header=None)\n",
      "test_data = read_csv('test.csv', header=None)\n",
      "data = concat([tr_data, test_data], ignore_index=True)"
     ],
     "language": "python",
     "metadata": {},
     "outputs": [],
     "prompt_number": 636
    },
    {
     "cell_type": "code",
     "collapsed": false,
     "input": [
      "gt_data = read_csv('trainLabels.csv', header=None)"
     ],
     "language": "python",
     "metadata": {},
     "outputs": [],
     "prompt_number": 637
    },
    {
     "cell_type": "code",
     "collapsed": false,
     "input": [
      "def laundromat(model, X, Y, XUniverse, max_acc, PCUT = 0.95):\n",
      "    # train\n",
      "    model.fit(X, Y)\n",
      "    \n",
      "    # evaluate\n",
      "    p = model.predict(X_CV)\n",
      "    count = 0.0\n",
      "    M_CV = len(Y_CV)\n",
      "    for i in range(M_CV):\n",
      "        if p[i]==Y_CV[i]:\n",
      "            count+=1\n",
      "    acc = 100*count/M_CV\n",
      "    print 'score on CV', acc\n",
      "    if acc < max_acc:\n",
      "        print 'breaking out'\n",
      "        return [X, Y, XUniverse, max_acc, True]\n",
      "    \n",
      "    # go deeper\n",
      "    prob = model.predict_proba(XUniverse)\n",
      "    M_U, N_U = XUniverse.shape\n",
      "    X1 = X.copy()\n",
      "    Y1 = Y.copy()\n",
      "    X_Rest = np.zeros((1, N_U))\n",
      "\n",
      "    for i in range(M_U):\n",
      "        y = np.argmax(prob[i,:])\n",
      "        p = np.max(prob[i,:])\n",
      "        record = XUniverse[i:i+1,:]\n",
      "        if p > PCUT:\n",
      "            X1 = np.append(X1, record, axis=0)\n",
      "            Y1 = np.append(Y1, y)\n",
      "        else:\n",
      "            X_Rest = np.vstack([X_Rest, record])\n",
      "    X_Rest = np.delete(X_Rest, 0, 0)\n",
      "    return [X1, Y1, X_Rest, acc, False]\n"
     ],
     "language": "python",
     "metadata": {},
     "outputs": [],
     "prompt_number": 638
    },
    {
     "cell_type": "code",
     "collapsed": false,
     "input": [
      "def heatmap(grid, C_range, g_range):\n",
      "    print(\"The best classifier is: \", grid.best_estimator_)\n",
      "    print 'best score', grid.best_score_\n",
      "    score_dict = grid.grid_scores_\n",
      "    scores = [x[1] for x in score_dict]\n",
      "    scores = np.array(scores).reshape(len(C_range), len(g_range))\n",
      "\n",
      "    plt.figure(figsize=(8, 6))\n",
      "    plt.subplots_adjust(left=0.05, right=0.95, bottom=0.15, top=0.95)\n",
      "    plt.imshow(scores, interpolation='nearest', cmap=plt.cm.spectral)\n",
      "    plt.xlabel('g')\n",
      "    plt.ylabel('C')\n",
      "    plt.colorbar()\n",
      "    plt.xticks(np.arange(len(g_range)), g_range, rotation=45)\n",
      "    plt.yticks(np.arange(len(C_range)), C_range)\n",
      "    plt.show()"
     ],
     "language": "python",
     "metadata": {},
     "outputs": [],
     "prompt_number": 639
    },
    {
     "cell_type": "heading",
     "level": 2,
     "metadata": {},
     "source": [
      "SVM"
     ]
    },
    {
     "cell_type": "code",
     "collapsed": false,
     "input": [
      "# scale and arraify training data\n",
      "x_all = np.array(data.ix[:,:])\n",
      "y_all = np.ravel(gt_data)"
     ],
     "language": "python",
     "metadata": {},
     "outputs": [],
     "prompt_number": 680
    },
    {
     "cell_type": "code",
     "collapsed": false,
     "input": [
      "pca = PCA(n_components=12, whiten=True)\n",
      "pca.fit(x_all, y_all)\n",
      "print(pca.explained_variance_ratio_)\n",
      "print(np.sum(pca.explained_variance_ratio_))\n",
      "x_all = pca.transform(x_all)"
     ],
     "language": "python",
     "metadata": {},
     "outputs": [
      {
       "output_type": "stream",
       "stream": "stdout",
       "text": [
        "[ 0.26133889  0.20395397  0.0791104   0.04814801  0.04541674  0.04425635\n",
        "  0.04042857  0.03035249  0.02352029  0.01921646  0.01614838  0.01255655]\n",
        "0.824447114945\n"
       ]
      }
     ],
     "prompt_number": 681
    },
    {
     "cell_type": "code",
     "collapsed": false,
     "input": [
      "#features = range(12)\n",
      "#features = [14,12,29,6,36,39,7,4,28,19,22,18,38,3, 32, 34, 13, 11]\n",
      "#x_all = x_all[:, features]\n",
      "limit_cv = 300\n",
      "\n",
      "X_CV = x_all[0:limit_cv,:]\n",
      "Y_CV = y_all[0:limit_cv]\n",
      "\n",
      "X_TR = x_all[limit_cv:,:]\n",
      "Y_TR = y_all[limit_cv:]"
     ],
     "language": "python",
     "metadata": {},
     "outputs": [],
     "prompt_number": 683
    },
    {
     "cell_type": "code",
     "collapsed": false,
     "input": [
      "clf = svm.SVC(kernel='rbf', cache_size=1000, probability=True, C=10000000., gamma=0.3)\n",
      "limit_tr = 1000-limit_cv\n",
      "[A,B,C, acc, fu] = laundromat(clf, X_TR[0:limit_tr,:], Y_TR[0:limit_tr], X_TR[limit_tr:,:], 0.0, PCUT = 0.99)"
     ],
     "language": "python",
     "metadata": {},
     "outputs": [
      {
       "output_type": "stream",
       "stream": "stdout",
       "text": [
        "score on CV 94.0\n"
       ]
      }
     ],
     "prompt_number": 684
    },
    {
     "cell_type": "code",
     "collapsed": false,
     "input": [
      "clf = svm.SVC(kernel='rbf', cache_size=1000, probability=True, C=10000000., gamma=0.2)\n",
      "fu = False\n",
      "acc = 0.9\n",
      "while fu == False:\n",
      "    [A,B,C, acc, fu] = laundromat(clf, A, B, C, acc, PCUT = 0.95)\n",
      "    print 'C', C.shape"
     ],
     "language": "python",
     "metadata": {},
     "outputs": [
      {
       "output_type": "stream",
       "stream": "stdout",
       "text": [
        "score on CV 95.3333333333\n",
        "C"
       ]
      },
      {
       "output_type": "stream",
       "stream": "stdout",
       "text": [
        " (1911, 12)\n",
        "score on CV"
       ]
      },
      {
       "output_type": "stream",
       "stream": "stdout",
       "text": [
        " 96.6666666667\n",
        "C"
       ]
      },
      {
       "output_type": "stream",
       "stream": "stdout",
       "text": [
        " (849, 12)\n",
        "score on CV"
       ]
      },
      {
       "output_type": "stream",
       "stream": "stdout",
       "text": [
        " 96.3333333333\n",
        "breaking out\n",
        "C (849, 12)\n"
       ]
      }
     ],
     "prompt_number": 685
    },
    {
     "cell_type": "code",
     "collapsed": false,
     "input": [
      "print 'accuracy', acc\n",
      "print 'A', A.shape\n",
      "print 'B', B.shape\n",
      "print 'C', C.shape"
     ],
     "language": "python",
     "metadata": {},
     "outputs": [
      {
       "output_type": "stream",
       "stream": "stdout",
       "text": [
        "accuracy 96.6666666667\n",
        "A (8851, 12)\n",
        "B (8851,)\n",
        "C (849, 12)\n"
       ]
      }
     ],
     "prompt_number": 686
    },
    {
     "cell_type": "heading",
     "level": 4,
     "metadata": {},
     "source": [
      "FINAL TRAINING - SVM"
     ]
    },
    {
     "cell_type": "code",
     "collapsed": false,
     "input": [
      "XX = np.vstack([X_CV, A])\n",
      "YY = np.hstack([Y_CV, B])"
     ],
     "language": "python",
     "metadata": {},
     "outputs": [],
     "prompt_number": 687
    },
    {
     "cell_type": "code",
     "collapsed": false,
     "input": [
      "clf_svm = svm.SVC(kernel='rbf', cache_size=1000, probability=True, C=10000000, gamma = 0.275)\n",
      "clf_svm.fit(XX, YY)"
     ],
     "language": "python",
     "metadata": {},
     "outputs": [
      {
       "metadata": {},
       "output_type": "pyout",
       "prompt_number": 688,
       "text": [
        "SVC(C=10000000, cache_size=1000, class_weight=None, coef0=0.0, degree=3,\n",
        "  gamma=0.275, kernel='rbf', max_iter=-1, probability=True,\n",
        "  random_state=None, shrinking=True, tol=0.001, verbose=False)"
       ]
      }
     ],
     "prompt_number": 688
    },
    {
     "cell_type": "code",
     "collapsed": false,
     "input": [],
     "language": "python",
     "metadata": {},
     "outputs": []
    },
    {
     "cell_type": "code",
     "collapsed": false,
     "input": [],
     "language": "python",
     "metadata": {},
     "outputs": []
    },
    {
     "cell_type": "code",
     "collapsed": false,
     "input": [
      "pp = clf_svm.predict(x_all[1000:, :])"
     ],
     "language": "python",
     "metadata": {},
     "outputs": [],
     "prompt_number": 689
    },
    {
     "cell_type": "code",
     "collapsed": false,
     "input": [
      "pp[0:10]"
     ],
     "language": "python",
     "metadata": {},
     "outputs": [
      {
       "metadata": {},
       "output_type": "pyout",
       "prompt_number": 690,
       "text": [
        "array([1, 0, 1, 0, 0, 0, 0, 1, 0, 0])"
       ]
      }
     ],
     "prompt_number": 690
    },
    {
     "cell_type": "code",
     "collapsed": false,
     "input": [
      "aa = range(1,9001)\n",
      "y_test = np.vstack([aa, pp]).T\n",
      "#print 'To submitt add header: Id,Solution'\n",
      "print y_test[0:10,:]\n",
      "np.savetxt('./predictions_laundry_svm_95.csv', y_test, fmt='%i,%i')"
     ],
     "language": "python",
     "metadata": {},
     "outputs": [
      {
       "output_type": "stream",
       "stream": "stdout",
       "text": [
        "[[ 1  1]\n",
        " [ 2  0]\n",
        " [ 3  1]\n",
        " [ 4  0]\n",
        " [ 5  0]\n",
        " [ 6  0]\n",
        " [ 7  0]\n",
        " [ 8  1]\n",
        " [ 9  0]\n",
        " [10  0]]\n"
       ]
      }
     ],
     "prompt_number": 691
    },
    {
     "cell_type": "code",
     "collapsed": false,
     "input": [],
     "language": "python",
     "metadata": {},
     "outputs": []
    }
   ],
   "metadata": {}
  }
 ]
}