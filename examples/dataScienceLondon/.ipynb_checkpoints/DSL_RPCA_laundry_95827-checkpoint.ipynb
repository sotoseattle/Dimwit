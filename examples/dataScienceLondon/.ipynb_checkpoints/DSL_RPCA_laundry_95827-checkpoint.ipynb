{
 "metadata": {
  "name": ""
 },
 "nbformat": 3,
 "nbformat_minor": 0,
 "worksheets": [
  {
   "cells": [
    {
     "cell_type": "code",
     "collapsed": false,
     "input": [
      "%cd '~/Dropbox/fjs6/Journal/ideolog/Dimwit/examples/dataScienceLondon/data/'"
     ],
     "language": "python",
     "metadata": {},
     "outputs": [
      {
       "output_type": "stream",
       "stream": "stdout",
       "text": [
        "/Users/fjs6/Dropbox/fjs6/Journal/ideolog/Dimwit/examples/dataScienceLondon/data\n"
       ]
      }
     ],
     "prompt_number": 1
    },
    {
     "cell_type": "code",
     "collapsed": false,
     "input": [
      "import numpy as np\n",
      "from pandas import *\n",
      "import pandas\n",
      "import math\n",
      "import random\n",
      "from sklearn import preprocessing\n",
      "from sklearn import svm\n",
      "from sklearn.svm import SVC\n",
      "from sklearn.cross_validation import StratifiedKFold\n",
      "from sklearn.grid_search import GridSearchCV\n",
      "from sklearn.decomposition import PCA\n",
      "\n",
      "import sys\n",
      "sys.path.append('/Users/fjs6/Dropbox/fjs6/Journal/ideolog/Dimwit')\n"
     ],
     "language": "python",
     "metadata": {},
     "outputs": [],
     "prompt_number": 2
    },
    {
     "cell_type": "code",
     "collapsed": false,
     "input": [
      "tr_data = read_csv('train.csv', header=None)\n",
      "test_data = read_csv('test.csv', header=None)\n",
      "data = concat([tr_data, test_data], ignore_index=True)"
     ],
     "language": "python",
     "metadata": {},
     "outputs": [],
     "prompt_number": 3
    },
    {
     "cell_type": "code",
     "collapsed": false,
     "input": [
      "gt_data = read_csv('trainLabels.csv', header=None)"
     ],
     "language": "python",
     "metadata": {},
     "outputs": [],
     "prompt_number": 4
    },
    {
     "cell_type": "code",
     "collapsed": false,
     "input": [
      "def laundromat(model, X, Y, XUniverse, max_acc, PCUT = 0.95):\n",
      "    # train\n",
      "    model.fit(X, Y)\n",
      "    \n",
      "    # evaluate\n",
      "    p = model.predict(X_CV)\n",
      "    count = 0.0\n",
      "    M_CV = len(Y_CV)\n",
      "    for i in range(M_CV):\n",
      "        if p[i]==Y_CV[i]:\n",
      "            count+=1\n",
      "    acc = 100*count/M_CV\n",
      "    print 'score on CV', acc\n",
      "    if acc < max_acc:\n",
      "        print 'breaking out'\n",
      "        return [X, Y, XUniverse, max_acc, True]\n",
      "    \n",
      "    # go deeper\n",
      "    prob = model.predict_proba(XUniverse)\n",
      "    M_U, N_U = XUniverse.shape\n",
      "    X1 = X.copy()\n",
      "    Y1 = Y.copy()\n",
      "    X_Rest = np.zeros((1, N_U))\n",
      "\n",
      "    for i in range(M_U):\n",
      "        y = np.argmax(prob[i,:])\n",
      "        p = np.max(prob[i,:])\n",
      "        record = XUniverse[i:i+1,:]\n",
      "        if p > PCUT:\n",
      "            X1 = np.append(X1, record, axis=0)\n",
      "            Y1 = np.append(Y1, y)\n",
      "        else:\n",
      "            X_Rest = np.vstack([X_Rest, record])\n",
      "    X_Rest = np.delete(X_Rest, 0, 0)\n",
      "    return [X1, Y1, X_Rest, acc, False]\n"
     ],
     "language": "python",
     "metadata": {},
     "outputs": [],
     "prompt_number": 5
    },
    {
     "cell_type": "code",
     "collapsed": false,
     "input": [
      "def heatmap(grid, C_range, g_range):\n",
      "    print(\"The best classifier is: \", grid.best_estimator_)\n",
      "    print 'best score', grid.best_score_\n",
      "    score_dict = grid.grid_scores_\n",
      "    scores = [x[1] for x in score_dict]\n",
      "    scores = np.array(scores).reshape(len(C_range), len(g_range))\n",
      "\n",
      "    plt.figure(figsize=(8, 6))\n",
      "    plt.subplots_adjust(left=0.05, right=0.95, bottom=0.15, top=0.95)\n",
      "    plt.imshow(scores, interpolation='nearest', cmap=plt.cm.spectral)\n",
      "    plt.xlabel('g')\n",
      "    plt.ylabel('C')\n",
      "    plt.colorbar()\n",
      "    plt.xticks(np.arange(len(g_range)), g_range, rotation=45)\n",
      "    plt.yticks(np.arange(len(C_range)), C_range)\n",
      "    plt.show()"
     ],
     "language": "python",
     "metadata": {},
     "outputs": [],
     "prompt_number": 6
    },
    {
     "cell_type": "heading",
     "level": 2,
     "metadata": {},
     "source": [
      "PCA"
     ]
    },
    {
     "cell_type": "code",
     "collapsed": false,
     "input": [
      "# scale and arraify training data\n",
      "x_all = np.array(data.ix[:,:])\n",
      "y_all = np.ravel(gt_data)"
     ],
     "language": "python",
     "metadata": {},
     "outputs": [],
     "prompt_number": 242
    },
    {
     "cell_type": "code",
     "collapsed": false,
     "input": [
      "#from sklearn.decomposition import RandomizedPCA\n",
      "#pca = RandomizedPCA(n_components=12, whiten=True)\n",
      "#pca.fit(x_all)\n",
      "#x_all = pca.transform(x_all)\n",
      "\n",
      "from numpy.random import RandomState\n",
      "rng = RandomState(0)\n",
      "\n",
      "from sklearn import decomposition\n",
      "NC = 6\n",
      "#estimator = decomposition.MiniBatchSparsePCA(n_components=NC, alpha=0.8, n_iter=100, batch_size=3, random_state=rng)\n",
      "#estimator = decomposition.MiniBatchDictionaryLearning(n_components=NC, alpha=1., n_iter=500, batch_size=3, random_state=rng)\n",
      "#estimator = decomposition.FactorAnalysis(n_components=NC, max_iter=2)\n",
      "#estimator.fit(x_all)\n",
      "#x_all = estimator.transform(x_all)\n",
      "\n",
      "\n",
      "from sklearn import (manifold, datasets, decomposition, ensemble, lda, random_projection)\n",
      "#embedder = manifold.SpectralEmbedding(n_components=NC, random_state=0, eigen_solver=\"arpack\")\n",
      "#x_all = embedder.fit_transform(x_all)\n",
      "\n",
      "embedder = manifold.MDS(n_components=12, n_init=1, max_iter=100)\n",
      "x_all = clf.fit_transform(x_all)\n",
      "\n",
      "#kpca = KernelPCA(kernel=\"rbf\", fit_inverse_transform=False, gamma=1.)\n",
      "#X_all = kpca.fit_transform(x_all)\n"
     ],
     "language": "python",
     "metadata": {},
     "outputs": [],
     "prompt_number": 243
    },
    {
     "cell_type": "code",
     "collapsed": false,
     "input": [
      "x_all.shape"
     ],
     "language": "python",
     "metadata": {},
     "outputs": [
      {
       "metadata": {},
       "output_type": "pyout",
       "prompt_number": 244,
       "text": [
        "(10000, 6)"
       ]
      }
     ],
     "prompt_number": 244
    },
    {
     "cell_type": "heading",
     "level": 2,
     "metadata": {},
     "source": [
      "SVM"
     ]
    },
    {
     "cell_type": "code",
     "collapsed": false,
     "input": [
      "#features = range(12)\n",
      "#features = [14,12,29,6,36,39,7,4,28,19,22,18,38,3, 32, 34, 13, 11]\n",
      "#x_all = x_all[:, features]\n",
      "limit_cv = 300\n",
      "\n",
      "X_CV = x_all[0:limit_cv,:]\n",
      "Y_CV = y_all[0:limit_cv]\n",
      "\n",
      "X_TR = x_all[limit_cv:,:]\n",
      "Y_TR = y_all[limit_cv:]"
     ],
     "language": "python",
     "metadata": {},
     "outputs": [],
     "prompt_number": 245
    },
    {
     "cell_type": "code",
     "collapsed": false,
     "input": [
      "C_range = [0.01, 0.1, 1., 10.]\n",
      "g_range = np.arange(0.1, .6, 0.1)\n",
      "#g_range = [1.]\n",
      "limit_tr = 1000-limit_cv\n",
      "\n",
      "param_grid = dict(gamma=g_range, C=C_range)\n",
      "clfo = svm.SVC(kernel='rbf', cache_size=1000, probability=True)\n",
      "\n",
      "cv = StratifiedKFold(Y_TR[0:limit_tr], n_folds=3)\n",
      "grid = GridSearchCV(clfo, param_grid=param_grid, cv=cv, verbose=5)\n",
      "\n",
      "grid.fit(X_TR[0:limit_tr,:], Y_TR[0:limit_tr])\n",
      "print(\"The best classifier is: \", grid.best_estimator_)\n",
      "print 'best score', grid.best_score_\n",
      "score_dict = grid.grid_scores_\n",
      "scores = [x[1] for x in score_dict]\n",
      "scores = np.array(scores).reshape(len(C_range), len(g_range))\n",
      "\n",
      "plt.figure(figsize=(8, 6))\n",
      "plt.subplots_adjust(left=0.05, right=0.95, bottom=0.15, top=0.95)\n",
      "plt.imshow(scores, interpolation='nearest', cmap=plt.cm.spectral)\n",
      "plt.xlabel('g')\n",
      "plt.ylabel('C')\n",
      "plt.colorbar()\n",
      "plt.xticks(np.arange(len(g_range)), g_range, rotation=45)\n",
      "plt.yticks(np.arange(len(C_range)), C_range)\n",
      "plt.show()"
     ],
     "language": "python",
     "metadata": {},
     "outputs": [
      {
       "output_type": "stream",
       "stream": "stdout",
       "text": [
        "Fitting 3 folds for each of 20 candidates, totalling 60 fits\n",
        "[GridSearchCV] C=0.01, gamma=0.1 ...............................................\n",
        "[GridSearchCV] ...................... C=0.01, gamma=0.1, score=0.512821 -   0.1s"
       ]
      },
      {
       "output_type": "stream",
       "stream": "stdout",
       "text": [
        "\n",
        "[GridSearchCV] C=0.01, gamma=0.1 ...............................................\n",
        "[GridSearchCV] ...................... C=0.01, gamma=0.1, score=0.510730 -   0.2s"
       ]
      },
      {
       "output_type": "stream",
       "stream": "stdout",
       "text": [
        "\n",
        "[GridSearchCV] C=0.01, gamma=0.1 ...............................................\n",
        "[GridSearchCV] ...................... C=0.01, gamma=0.1, score=0.515021 -   0.2s"
       ]
      },
      {
       "output_type": "stream",
       "stream": "stdout",
       "text": [
        "\n",
        "[GridSearchCV] C=0.01, gamma=0.2 ...............................................\n",
        "[GridSearchCV] ...................... C=0.01, gamma=0.2, score=0.512821 -   0.1s"
       ]
      },
      {
       "output_type": "stream",
       "stream": "stdout",
       "text": [
        "\n",
        "[GridSearchCV] C=0.01, gamma=0.2 ...............................................\n",
        "[GridSearchCV] ...................... C=0.01, gamma=0.2, score=0.510730 -   0.2s"
       ]
      },
      {
       "output_type": "stream",
       "stream": "stdout",
       "text": [
        "\n",
        "[GridSearchCV] C=0.01, gamma=0.2 ...............................................\n",
        "[GridSearchCV] ...................... C=0.01, gamma=0.2, score=0.515021 -   0.1s"
       ]
      },
      {
       "output_type": "stream",
       "stream": "stdout",
       "text": [
        "\n",
        "[GridSearchCV] C=0.01, gamma=0.3 ...............................................\n",
        "[GridSearchCV] ...................... C=0.01, gamma=0.3, score=0.512821 -   0.1s"
       ]
      },
      {
       "output_type": "stream",
       "stream": "stdout",
       "text": [
        "\n",
        "[GridSearchCV] C=0.01, gamma=0.3 ...............................................\n",
        "[GridSearchCV] ...................... C=0.01, gamma=0.3, score=0.510730 -   0.2s"
       ]
      },
      {
       "output_type": "stream",
       "stream": "stdout",
       "text": [
        "\n",
        "[GridSearchCV] C=0.01, gamma=0.3 ...............................................\n",
        "[GridSearchCV] ...................... C=0.01, gamma=0.3, score=0.515021 -   0.1s"
       ]
      },
      {
       "output_type": "stream",
       "stream": "stdout",
       "text": [
        "\n",
        "[GridSearchCV] C=0.01, gamma=0.4 ...............................................\n",
        "[GridSearchCV] ...................... C=0.01, gamma=0.4, score=0.512821 -   0.1s"
       ]
      },
      {
       "output_type": "stream",
       "stream": "stdout",
       "text": [
        "\n",
        "[GridSearchCV] C=0.01, gamma=0.4 ...............................................\n",
        "[GridSearchCV] ...................... C=0.01, gamma=0.4, score=0.510730 -   0.1s"
       ]
      },
      {
       "output_type": "stream",
       "stream": "stdout",
       "text": [
        "\n",
        "[GridSearchCV] C=0.01, gamma=0.4 ...............................................\n",
        "[GridSearchCV] ...................... C=0.01, gamma=0.4, score=0.515021 -   0.1s"
       ]
      },
      {
       "output_type": "stream",
       "stream": "stdout",
       "text": [
        "\n",
        "[GridSearchCV] C=0.01, gamma=0.5 ...............................................\n",
        "[GridSearchCV] ...................... C=0.01, gamma=0.5, score=0.512821 -   0.2s"
       ]
      },
      {
       "output_type": "stream",
       "stream": "stdout",
       "text": [
        "\n",
        "[GridSearchCV] C=0.01, gamma=0.5 ...............................................\n",
        "[GridSearchCV] ...................... C=0.01, gamma=0.5, score=0.510730 -   0.1s"
       ]
      },
      {
       "output_type": "stream",
       "stream": "stdout",
       "text": [
        "\n",
        "[GridSearchCV] C=0.01, gamma=0.5 ...............................................\n",
        "[GridSearchCV] ...................... C=0.01, gamma=0.5, score=0.515021 -   0.2s"
       ]
      },
      {
       "output_type": "stream",
       "stream": "stdout",
       "text": [
        "\n",
        "[GridSearchCV] C=0.1, gamma=0.1 ................................................\n",
        "[GridSearchCV] ....................... C=0.1, gamma=0.1, score=0.743590 -   0.2s"
       ]
      },
      {
       "output_type": "stream",
       "stream": "stdout",
       "text": [
        "\n",
        "[GridSearchCV] C=0.1, gamma=0.1 ................................................\n",
        "[GridSearchCV] ....................... C=0.1, gamma=0.1, score=0.755365 -   0.1s"
       ]
      },
      {
       "output_type": "stream",
       "stream": "stdout",
       "text": [
        "\n",
        "[GridSearchCV] C=0.1, gamma=0.1 ................................................\n",
        "[GridSearchCV] ....................... C=0.1, gamma=0.1, score=0.768240 -   0.1s"
       ]
      },
      {
       "output_type": "stream",
       "stream": "stderr",
       "text": [
        "[Parallel(n_jobs=1)]: Done   1 jobs       | elapsed:    0.1s\n",
        "[Parallel(n_jobs=1)]: Done  18 jobs       | elapsed:    2.7s\n"
       ]
      },
      {
       "output_type": "stream",
       "stream": "stdout",
       "text": [
        "\n",
        "[GridSearchCV] C=0.1, gamma=0.2 ................................................\n",
        "[GridSearchCV] ....................... C=0.1, gamma=0.2, score=0.811966 -   0.1s"
       ]
      },
      {
       "output_type": "stream",
       "stream": "stdout",
       "text": [
        "\n",
        "[GridSearchCV] C=0.1, gamma=0.2 ................................................\n",
        "[GridSearchCV] ....................... C=0.1, gamma=0.2, score=0.772532 -   0.1s"
       ]
      },
      {
       "output_type": "stream",
       "stream": "stdout",
       "text": [
        "\n",
        "[GridSearchCV] C=0.1, gamma=0.2 ................................................\n",
        "[GridSearchCV] ....................... C=0.1, gamma=0.2, score=0.785408 -   0.1s"
       ]
      },
      {
       "output_type": "stream",
       "stream": "stdout",
       "text": [
        "\n",
        "[GridSearchCV] C=0.1, gamma=0.3 ................................................\n",
        "[GridSearchCV] ....................... C=0.1, gamma=0.3, score=0.799145 -   0.1s"
       ]
      },
      {
       "output_type": "stream",
       "stream": "stdout",
       "text": [
        "\n",
        "[GridSearchCV] C=0.1, gamma=0.3 ................................................\n",
        "[GridSearchCV] ....................... C=0.1, gamma=0.3, score=0.772532 -   0.1s"
       ]
      },
      {
       "output_type": "stream",
       "stream": "stdout",
       "text": [
        "\n",
        "[GridSearchCV] C=0.1, gamma=0.3 ................................................\n",
        "[GridSearchCV] ....................... C=0.1, gamma=0.3, score=0.772532 -   0.3s"
       ]
      },
      {
       "output_type": "stream",
       "stream": "stdout",
       "text": [
        "\n",
        "[GridSearchCV] C=0.1, gamma=0.4 ................................................\n",
        "[GridSearchCV] ....................... C=0.1, gamma=0.4, score=0.807692 -   0.1s"
       ]
      },
      {
       "output_type": "stream",
       "stream": "stdout",
       "text": [
        "\n",
        "[GridSearchCV] C=0.1, gamma=0.4 ................................................\n",
        "[GridSearchCV] ....................... C=0.1, gamma=0.4, score=0.772532 -   0.1s"
       ]
      },
      {
       "output_type": "stream",
       "stream": "stdout",
       "text": [
        "\n",
        "[GridSearchCV] C=0.1, gamma=0.4 ................................................\n",
        "[GridSearchCV] ....................... C=0.1, gamma=0.4, score=0.768240 -   0.1s"
       ]
      },
      {
       "output_type": "stream",
       "stream": "stdout",
       "text": [
        "\n",
        "[GridSearchCV] C=0.1, gamma=0.5 ................................................\n",
        "[GridSearchCV] ....................... C=0.1, gamma=0.5, score=0.807692 -   0.1s"
       ]
      },
      {
       "output_type": "stream",
       "stream": "stdout",
       "text": [
        "\n",
        "[GridSearchCV] C=0.1, gamma=0.5 ................................................\n",
        "[GridSearchCV] ....................... C=0.1, gamma=0.5, score=0.768240 -   0.1s"
       ]
      },
      {
       "output_type": "stream",
       "stream": "stdout",
       "text": [
        "\n",
        "[GridSearchCV] C=0.1, gamma=0.5 ................................................\n",
        "[GridSearchCV] ....................... C=0.1, gamma=0.5, score=0.772532 -   0.1s"
       ]
      },
      {
       "output_type": "stream",
       "stream": "stdout",
       "text": [
        "\n",
        "[GridSearchCV] C=1.0, gamma=0.1 ................................................\n",
        "[GridSearchCV] ....................... C=1.0, gamma=0.1, score=0.803419 -   0.1s"
       ]
      },
      {
       "output_type": "stream",
       "stream": "stdout",
       "text": [
        "\n",
        "[GridSearchCV] C=1.0, gamma=0.1 ................................................\n",
        "[GridSearchCV] ....................... C=1.0, gamma=0.1, score=0.776824 -   0.1s"
       ]
      },
      {
       "output_type": "stream",
       "stream": "stdout",
       "text": [
        "\n",
        "[GridSearchCV] C=1.0, gamma=0.1 ................................................\n",
        "[GridSearchCV] ....................... C=1.0, gamma=0.1, score=0.768240 -   0.1s"
       ]
      },
      {
       "output_type": "stream",
       "stream": "stdout",
       "text": [
        "\n",
        "[GridSearchCV] C=1.0, gamma=0.2 ................................................\n",
        "[GridSearchCV] ....................... C=1.0, gamma=0.2, score=0.811966 -   0.1s"
       ]
      },
      {
       "output_type": "stream",
       "stream": "stdout",
       "text": [
        "\n",
        "[GridSearchCV] C=1.0, gamma=0.2 ................................................\n",
        "[GridSearchCV] ....................... C=1.0, gamma=0.2, score=0.772532 -   0.1s"
       ]
      },
      {
       "output_type": "stream",
       "stream": "stdout",
       "text": [
        "\n",
        "[GridSearchCV] C=1.0, gamma=0.2 ................................................\n",
        "[GridSearchCV] ....................... C=1.0, gamma=0.2, score=0.785408 -   0.1s"
       ]
      },
      {
       "output_type": "stream",
       "stream": "stdout",
       "text": [
        "\n",
        "[GridSearchCV] C=1.0, gamma=0.3 ................................................\n",
        "[GridSearchCV] ....................... C=1.0, gamma=0.3, score=0.803419 -   0.1s"
       ]
      },
      {
       "output_type": "stream",
       "stream": "stdout",
       "text": [
        "\n",
        "[GridSearchCV] C=1.0, gamma=0.3 ................................................\n",
        "[GridSearchCV] ....................... C=1.0, gamma=0.3, score=0.785408 -   0.1s"
       ]
      },
      {
       "output_type": "stream",
       "stream": "stdout",
       "text": [
        "\n",
        "[GridSearchCV] C=1.0, gamma=0.3 ................................................\n",
        "[GridSearchCV] ....................... C=1.0, gamma=0.3, score=0.785408 -   0.1s"
       ]
      },
      {
       "output_type": "stream",
       "stream": "stdout",
       "text": [
        "\n",
        "[GridSearchCV] C=1.0, gamma=0.4 ................................................\n",
        "[GridSearchCV] ....................... C=1.0, gamma=0.4, score=0.811966 -   0.1s"
       ]
      },
      {
       "output_type": "stream",
       "stream": "stdout",
       "text": [
        "\n",
        "[GridSearchCV] C=1.0, gamma=0.4 ................................................\n",
        "[GridSearchCV] ....................... C=1.0, gamma=0.4, score=0.785408 -   0.1s"
       ]
      },
      {
       "output_type": "stream",
       "stream": "stdout",
       "text": [
        "\n",
        "[GridSearchCV] C=1.0, gamma=0.4 ................................................\n",
        "[GridSearchCV] ....................... C=1.0, gamma=0.4, score=0.776824 -   0.3s"
       ]
      },
      {
       "output_type": "stream",
       "stream": "stdout",
       "text": [
        "\n",
        "[GridSearchCV] C=1.0, gamma=0.5 ................................................\n",
        "[GridSearchCV] ....................... C=1.0, gamma=0.5, score=0.807692 -   0.1s"
       ]
      },
      {
       "output_type": "stream",
       "stream": "stdout",
       "text": [
        "\n",
        "[GridSearchCV] C=1.0, gamma=0.5 ................................................\n",
        "[GridSearchCV] ....................... C=1.0, gamma=0.5, score=0.785408 -   0.1s"
       ]
      },
      {
       "output_type": "stream",
       "stream": "stdout",
       "text": [
        "\n",
        "[GridSearchCV] C=1.0, gamma=0.5 ................................................\n",
        "[GridSearchCV] ....................... C=1.0, gamma=0.5, score=0.768240 -   0.1s"
       ]
      },
      {
       "output_type": "stream",
       "stream": "stdout",
       "text": [
        "\n",
        "[GridSearchCV] C=10.0, gamma=0.1 ...............................................\n",
        "[GridSearchCV] ...................... C=10.0, gamma=0.1, score=0.816239 -   0.1s"
       ]
      },
      {
       "output_type": "stream",
       "stream": "stdout",
       "text": [
        "\n",
        "[GridSearchCV] C=10.0, gamma=0.1 ...............................................\n",
        "[GridSearchCV] ...................... C=10.0, gamma=0.1, score=0.785408 -   0.1s"
       ]
      },
      {
       "output_type": "stream",
       "stream": "stdout",
       "text": [
        "\n",
        "[GridSearchCV] C=10.0, gamma=0.1 ...............................................\n",
        "[GridSearchCV] ...................... C=10.0, gamma=0.1, score=0.768240 -   0.1s"
       ]
      },
      {
       "output_type": "stream",
       "stream": "stdout",
       "text": [
        "\n",
        "[GridSearchCV] C=10.0, gamma=0.2 ...............................................\n",
        "[GridSearchCV] ...................... C=10.0, gamma=0.2, score=0.799145 -   0.1s"
       ]
      },
      {
       "output_type": "stream",
       "stream": "stdout",
       "text": [
        "\n",
        "[GridSearchCV] C=10.0, gamma=0.2 ...............................................\n",
        "[GridSearchCV] ...................... C=10.0, gamma=0.2, score=0.793991 -   0.1s"
       ]
      },
      {
       "output_type": "stream",
       "stream": "stdout",
       "text": [
        "\n",
        "[GridSearchCV] C=10.0, gamma=0.2 ...............................................\n",
        "[GridSearchCV] ...................... C=10.0, gamma=0.2, score=0.776824 -   0.1s"
       ]
      },
      {
       "output_type": "stream",
       "stream": "stdout",
       "text": [
        "\n",
        "[GridSearchCV] C=10.0, gamma=0.3 ...............................................\n",
        "[GridSearchCV] ...................... C=10.0, gamma=0.3, score=0.799145 -   0.1s"
       ]
      },
      {
       "output_type": "stream",
       "stream": "stdout",
       "text": [
        "\n",
        "[GridSearchCV] C=10.0, gamma=0.3 ...............................................\n",
        "[GridSearchCV] ...................... C=10.0, gamma=0.3, score=0.776824 -   0.1s"
       ]
      },
      {
       "output_type": "stream",
       "stream": "stdout",
       "text": [
        "\n",
        "[GridSearchCV] C=10.0, gamma=0.3 ...............................................\n",
        "[GridSearchCV] ...................... C=10.0, gamma=0.3, score=0.768240 -   0.1s"
       ]
      },
      {
       "output_type": "stream",
       "stream": "stdout",
       "text": [
        "\n",
        "[GridSearchCV] C=10.0, gamma=0.4 ...............................................\n",
        "[GridSearchCV] ...................... C=10.0, gamma=0.4, score=0.803419 -   0.1s"
       ]
      },
      {
       "output_type": "stream",
       "stream": "stdout",
       "text": [
        "\n",
        "[GridSearchCV] C=10.0, gamma=0.4 ...............................................\n",
        "[GridSearchCV] ...................... C=10.0, gamma=0.4, score=0.776824 -   0.1s"
       ]
      },
      {
       "output_type": "stream",
       "stream": "stdout",
       "text": [
        "\n",
        "[GridSearchCV] C=10.0, gamma=0.4 ...............................................\n",
        "[GridSearchCV] ...................... C=10.0, gamma=0.4, score=0.763948 -   0.1s"
       ]
      },
      {
       "output_type": "stream",
       "stream": "stdout",
       "text": [
        "\n",
        "[GridSearchCV] C=10.0, gamma=0.5 ...............................................\n",
        "[GridSearchCV] ...................... C=10.0, gamma=0.5, score=0.790598 -   0.1s"
       ]
      },
      {
       "output_type": "stream",
       "stream": "stdout",
       "text": [
        "\n",
        "[GridSearchCV] C=10.0, gamma=0.5 ...............................................\n",
        "[GridSearchCV] ...................... C=10.0, gamma=0.5, score=0.781116 -   0.1s"
       ]
      },
      {
       "output_type": "stream",
       "stream": "stdout",
       "text": [
        "\n",
        "[GridSearchCV] C=10.0, gamma=0.5 ...............................................\n",
        "[GridSearchCV] ...................... C=10.0, gamma=0.5, score=0.759657 -   0.1s"
       ]
      },
      {
       "output_type": "stream",
       "stream": "stdout",
       "text": [
        "\n",
        "('The best classifier is: ', SVC(C=1.0, cache_size=1000, class_weight=None, coef0=0.0, degree=3,\n",
        "  gamma=0.30000000000000004, kernel='rbf', max_iter=-1, probability=True,\n",
        "  random_state=None, shrinking=True, tol=0.001, verbose=False))"
       ]
      },
      {
       "output_type": "stream",
       "stream": "stdout",
       "text": [
        "\n",
        "best score 0.791428571429\n"
       ]
      },
      {
       "output_type": "stream",
       "stream": "stderr",
       "text": [
        "[Parallel(n_jobs=1)]: Done  60 out of  60 | elapsed:    7.3s finished\n"
       ]
      },
      {
       "metadata": {},
       "output_type": "display_data",
       "png": "[encoded data removed]",
       "text": [
        "<matplotlib.figure.Figure at 0x100799190>"
       ]
      }
     ],
     "prompt_number": 246
    },
    {
     "cell_type": "code",
     "collapsed": false,
     "input": [
      "clf = svm.SVC(kernel='rbf', cache_size=1000, probability=True, C=1000000., gamma=0.3)\n",
      "limit_tr = 1000-limit_cv\n",
      "[A,B,C, acc, fu] = laundromat(clf, X_TR[0:limit_tr,:], Y_TR[0:limit_tr], X_TR[limit_tr:,:], 0.0, PCUT = 0.95)"
     ],
     "language": "python",
     "metadata": {},
     "outputs": [],
     "prompt_number": "*"
    },
    {
     "cell_type": "code",
     "collapsed": false,
     "input": [
      "clf = svm.SVC(kernel='rbf', cache_size=1000, probability=True, C=10000000., gamma=0.3)\n",
      "fu = False\n",
      "acc = 0.9\n",
      "while fu == False:\n",
      "    [A,B,C, acc, fu] = laundromat(clf, A, B, C, acc, PCUT = 0.99)\n",
      "    print 'C', C.shape"
     ],
     "language": "python",
     "metadata": {},
     "outputs": [
      {
       "output_type": "stream",
       "stream": "stdout",
       "text": [
        "score on CV 87.3333333333\n",
        "C"
       ]
      },
      {
       "output_type": "stream",
       "stream": "stdout",
       "text": [
        " (5813, 12)\n",
        "score on CV"
       ]
      },
      {
       "output_type": "stream",
       "stream": "stdout",
       "text": [
        " 87.3333333333\n",
        "C"
       ]
      },
      {
       "output_type": "stream",
       "stream": "stdout",
       "text": [
        " (5498, 12)\n",
        "score on CV"
       ]
      },
      {
       "output_type": "stream",
       "stream": "stdout",
       "text": [
        " 87.3333333333\n",
        "C"
       ]
      },
      {
       "output_type": "stream",
       "stream": "stdout",
       "text": [
        " (5467, 12)\n",
        "score on CV"
       ]
      },
      {
       "output_type": "stream",
       "stream": "stdout",
       "text": [
        " 87.3333333333\n",
        "C"
       ]
      },
      {
       "output_type": "stream",
       "stream": "stdout",
       "text": [
        " (5329, 12)\n",
        "score on CV"
       ]
      },
      {
       "output_type": "stream",
       "stream": "stdout",
       "text": [
        " 87.3333333333\n",
        "C"
       ]
      },
      {
       "output_type": "stream",
       "stream": "stdout",
       "text": [
        " (5221, 12)\n",
        "score on CV"
       ]
      },
      {
       "output_type": "stream",
       "stream": "stdout",
       "text": [
        " 87.3333333333\n",
        "C"
       ]
      },
      {
       "output_type": "stream",
       "stream": "stdout",
       "text": [
        " (5221, 12)\n",
        "score on CV"
       ]
      },
      {
       "output_type": "stream",
       "stream": "stdout",
       "text": [
        " 87.3333333333\n",
        "C"
       ]
      },
      {
       "output_type": "stream",
       "stream": "stdout",
       "text": [
        " (5188, 12)\n",
        "score on CV"
       ]
      },
      {
       "output_type": "stream",
       "stream": "stdout",
       "text": [
        " 87.3333333333\n",
        "C"
       ]
      },
      {
       "output_type": "stream",
       "stream": "stdout",
       "text": [
        " (5188, 12)\n",
        "score on CV"
       ]
      },
      {
       "output_type": "stream",
       "stream": "stdout",
       "text": [
        " 87.3333333333\n",
        "C"
       ]
      },
      {
       "output_type": "stream",
       "stream": "stdout",
       "text": [
        " (5134, 12)\n",
        "score on CV"
       ]
      },
      {
       "output_type": "stream",
       "stream": "stdout",
       "text": [
        " 87.3333333333\n",
        "C"
       ]
      },
      {
       "output_type": "stream",
       "stream": "stdout",
       "text": [
        " (5050, 12)\n",
        "score on CV"
       ]
      },
      {
       "output_type": "stream",
       "stream": "stdout",
       "text": [
        " 87.3333333333\n",
        "C"
       ]
      },
      {
       "output_type": "stream",
       "stream": "stdout",
       "text": [
        " (5050, 12)\n",
        "score on CV"
       ]
      },
      {
       "output_type": "stream",
       "stream": "stdout",
       "text": [
        " 87.3333333333\n",
        "C"
       ]
      },
      {
       "output_type": "stream",
       "stream": "stdout",
       "text": [
        " (5050, 12)\n",
        "score on CV"
       ]
      },
      {
       "output_type": "stream",
       "stream": "stdout",
       "text": [
        " 87.3333333333\n",
        "C"
       ]
      },
      {
       "output_type": "stream",
       "stream": "stdout",
       "text": [
        " (5050, 12)\n",
        "score on CV"
       ]
      },
      {
       "output_type": "stream",
       "stream": "stdout",
       "text": [
        " 87.3333333333\n",
        "C"
       ]
      },
      {
       "ename": "KeyboardInterrupt",
       "evalue": "",
       "output_type": "pyerr",
       "traceback": [
        "\u001b[0;31m---------------------------------------------------------------------------\u001b[0m\n\u001b[0;31mKeyboardInterrupt\u001b[0m                         Traceback (most recent call last)",
        "\u001b[0;32m<ipython-input-236-b148e2d2dde4>\u001b[0m in \u001b[0;36m<module>\u001b[0;34m()\u001b[0m\n\u001b[1;32m      3\u001b[0m \u001b[0macc\u001b[0m \u001b[0;34m=\u001b[0m \u001b[0;36m0.9\u001b[0m\u001b[0;34m\u001b[0m\u001b[0m\n\u001b[1;32m      4\u001b[0m \u001b[0;32mwhile\u001b[0m \u001b[0mfu\u001b[0m \u001b[0;34m==\u001b[0m \u001b[0mFalse\u001b[0m\u001b[0;34m:\u001b[0m\u001b[0;34m\u001b[0m\u001b[0m\n\u001b[0;32m----> 5\u001b[0;31m     \u001b[0;34m[\u001b[0m\u001b[0mA\u001b[0m\u001b[0;34m,\u001b[0m\u001b[0mB\u001b[0m\u001b[0;34m,\u001b[0m\u001b[0mC\u001b[0m\u001b[0;34m,\u001b[0m \u001b[0macc\u001b[0m\u001b[0;34m,\u001b[0m \u001b[0mfu\u001b[0m\u001b[0;34m]\u001b[0m \u001b[0;34m=\u001b[0m \u001b[0mlaundromat\u001b[0m\u001b[0;34m(\u001b[0m\u001b[0mclf\u001b[0m\u001b[0;34m,\u001b[0m \u001b[0mA\u001b[0m\u001b[0;34m,\u001b[0m \u001b[0mB\u001b[0m\u001b[0;34m,\u001b[0m \u001b[0mC\u001b[0m\u001b[0;34m,\u001b[0m \u001b[0macc\u001b[0m\u001b[0;34m,\u001b[0m \u001b[0mPCUT\u001b[0m \u001b[0;34m=\u001b[0m \u001b[0;36m0.99\u001b[0m\u001b[0;34m)\u001b[0m\u001b[0;34m\u001b[0m\u001b[0m\n\u001b[0m\u001b[1;32m      6\u001b[0m     \u001b[0;32mprint\u001b[0m \u001b[0;34m'C'\u001b[0m\u001b[0;34m,\u001b[0m \u001b[0mC\u001b[0m\u001b[0;34m.\u001b[0m\u001b[0mshape\u001b[0m\u001b[0;34m\u001b[0m\u001b[0m\n",
        "\u001b[0;32m<ipython-input-5-d455721cf902>\u001b[0m in \u001b[0;36mlaundromat\u001b[0;34m(model, X, Y, XUniverse, max_acc, PCUT)\u001b[0m\n\u001b[1;32m      1\u001b[0m \u001b[0;32mdef\u001b[0m \u001b[0mlaundromat\u001b[0m\u001b[0;34m(\u001b[0m\u001b[0mmodel\u001b[0m\u001b[0;34m,\u001b[0m \u001b[0mX\u001b[0m\u001b[0;34m,\u001b[0m \u001b[0mY\u001b[0m\u001b[0;34m,\u001b[0m \u001b[0mXUniverse\u001b[0m\u001b[0;34m,\u001b[0m \u001b[0mmax_acc\u001b[0m\u001b[0;34m,\u001b[0m \u001b[0mPCUT\u001b[0m \u001b[0;34m=\u001b[0m \u001b[0;36m0.95\u001b[0m\u001b[0;34m)\u001b[0m\u001b[0;34m:\u001b[0m\u001b[0;34m\u001b[0m\u001b[0m\n\u001b[1;32m      2\u001b[0m     \u001b[0;31m# train\u001b[0m\u001b[0;34m\u001b[0m\u001b[0;34m\u001b[0m\u001b[0m\n\u001b[0;32m----> 3\u001b[0;31m     \u001b[0mmodel\u001b[0m\u001b[0;34m.\u001b[0m\u001b[0mfit\u001b[0m\u001b[0;34m(\u001b[0m\u001b[0mX\u001b[0m\u001b[0;34m,\u001b[0m \u001b[0mY\u001b[0m\u001b[0;34m)\u001b[0m\u001b[0;34m\u001b[0m\u001b[0m\n\u001b[0m\u001b[1;32m      4\u001b[0m \u001b[0;34m\u001b[0m\u001b[0m\n\u001b[1;32m      5\u001b[0m     \u001b[0;31m# evaluate\u001b[0m\u001b[0;34m\u001b[0m\u001b[0;34m\u001b[0m\u001b[0m\n",
        "\u001b[0;32m//anaconda/python.app/Contents/lib/python2.7/site-packages/sklearn/svm/base.pyc\u001b[0m in \u001b[0;36mfit\u001b[0;34m(self, X, y, sample_weight)\u001b[0m\n\u001b[1;32m    176\u001b[0m \u001b[0;34m\u001b[0m\u001b[0m\n\u001b[1;32m    177\u001b[0m         \u001b[0mseed\u001b[0m \u001b[0;34m=\u001b[0m \u001b[0mrnd\u001b[0m\u001b[0;34m.\u001b[0m\u001b[0mrandint\u001b[0m\u001b[0;34m(\u001b[0m\u001b[0mnp\u001b[0m\u001b[0;34m.\u001b[0m\u001b[0miinfo\u001b[0m\u001b[0;34m(\u001b[0m\u001b[0;34m'i'\u001b[0m\u001b[0;34m)\u001b[0m\u001b[0;34m.\u001b[0m\u001b[0mmax\u001b[0m\u001b[0;34m)\u001b[0m\u001b[0;34m\u001b[0m\u001b[0m\n\u001b[0;32m--> 178\u001b[0;31m         \u001b[0mfit\u001b[0m\u001b[0;34m(\u001b[0m\u001b[0mX\u001b[0m\u001b[0;34m,\u001b[0m \u001b[0my\u001b[0m\u001b[0;34m,\u001b[0m \u001b[0msample_weight\u001b[0m\u001b[0;34m,\u001b[0m \u001b[0msolver_type\u001b[0m\u001b[0;34m,\u001b[0m \u001b[0mkernel\u001b[0m\u001b[0;34m,\u001b[0m \u001b[0mrandom_seed\u001b[0m\u001b[0;34m=\u001b[0m\u001b[0mseed\u001b[0m\u001b[0;34m)\u001b[0m\u001b[0;34m\u001b[0m\u001b[0m\n\u001b[0m\u001b[1;32m    179\u001b[0m         \u001b[0;31m# see comment on the other call to np.iinfo in this file\u001b[0m\u001b[0;34m\u001b[0m\u001b[0;34m\u001b[0m\u001b[0m\n\u001b[1;32m    180\u001b[0m \u001b[0;34m\u001b[0m\u001b[0m\n",
        "\u001b[0;32m//anaconda/python.app/Contents/lib/python2.7/site-packages/sklearn/svm/base.pyc\u001b[0m in \u001b[0;36m_dense_fit\u001b[0;34m(self, X, y, sample_weight, solver_type, kernel, random_seed)\u001b[0m\n\u001b[1;32m    231\u001b[0m                 \u001b[0mcache_size\u001b[0m\u001b[0;34m=\u001b[0m\u001b[0mself\u001b[0m\u001b[0;34m.\u001b[0m\u001b[0mcache_size\u001b[0m\u001b[0;34m,\u001b[0m \u001b[0mcoef0\u001b[0m\u001b[0;34m=\u001b[0m\u001b[0mself\u001b[0m\u001b[0;34m.\u001b[0m\u001b[0mcoef0\u001b[0m\u001b[0;34m,\u001b[0m\u001b[0;34m\u001b[0m\u001b[0m\n\u001b[1;32m    232\u001b[0m                 \u001b[0mgamma\u001b[0m\u001b[0;34m=\u001b[0m\u001b[0mself\u001b[0m\u001b[0;34m.\u001b[0m\u001b[0m_gamma\u001b[0m\u001b[0;34m,\u001b[0m \u001b[0mepsilon\u001b[0m\u001b[0;34m=\u001b[0m\u001b[0mself\u001b[0m\u001b[0;34m.\u001b[0m\u001b[0mepsilon\u001b[0m\u001b[0;34m,\u001b[0m\u001b[0;34m\u001b[0m\u001b[0m\n\u001b[0;32m--> 233\u001b[0;31m                 max_iter=self.max_iter, random_seed=random_seed)\n\u001b[0m\u001b[1;32m    234\u001b[0m \u001b[0;34m\u001b[0m\u001b[0m\n\u001b[1;32m    235\u001b[0m         \u001b[0mself\u001b[0m\u001b[0;34m.\u001b[0m\u001b[0m_warn_from_fit_status\u001b[0m\u001b[0;34m(\u001b[0m\u001b[0;34m)\u001b[0m\u001b[0;34m\u001b[0m\u001b[0m\n",
        "\u001b[0;31mKeyboardInterrupt\u001b[0m: "
       ]
      },
      {
       "output_type": "stream",
       "stream": "stdout",
       "text": [
        " (5039, 12)\n"
       ]
      }
     ],
     "prompt_number": 236
    },
    {
     "cell_type": "code",
     "collapsed": false,
     "input": [
      "print 'accuracy', acc\n",
      "print 'A', A.shape\n",
      "print 'B', B.shape\n",
      "print 'C', C.shape"
     ],
     "language": "python",
     "metadata": {},
     "outputs": [
      {
       "output_type": "stream",
       "stream": "stdout",
       "text": [
        "accuracy 95.0\n",
        "A (8213, 10)\n",
        "B (8213,)\n",
        "C (1487, 10)\n"
       ]
      }
     ],
     "prompt_number": 141
    },
    {
     "cell_type": "code",
     "collapsed": false,
     "input": [],
     "language": "python",
     "metadata": {},
     "outputs": []
    },
    {
     "cell_type": "code",
     "collapsed": false,
     "input": [
      "pca.components_.shape"
     ],
     "language": "python",
     "metadata": {},
     "outputs": [
      {
       "metadata": {},
       "output_type": "pyout",
       "prompt_number": 16,
       "text": [
        "(12, 40)"
       ]
      }
     ],
     "prompt_number": 16
    },
    {
     "cell_type": "code",
     "collapsed": false,
     "input": [
      "eigenfaces = pca.components_.reshape((12, 8, 5))"
     ],
     "language": "python",
     "metadata": {},
     "outputs": [],
     "prompt_number": 20
    },
    {
     "cell_type": "code",
     "collapsed": false,
     "input": [
      "h, w = 4, 10\n",
      "n_col = 4\n",
      "n_row = 3\n",
      "\n",
      "plt.figure(figsize=(1.8 * n_col, 2.4 * n_row))\n",
      "plt.subplots_adjust(bottom=0, left=.01, right=.99, top=.90, hspace=.35)\n",
      "for i in range(n_row * n_col):\n",
      "    plt.subplot(n_row, n_col, i + 1)\n",
      "    plt.imshow(eigenfaces[i].reshape((h, w)), cmap=plt.cm.gray)\n",
      "    plt.xticks(())\n",
      "    plt.yticks(())\n",
      "plt.show()"
     ],
     "language": "python",
     "metadata": {},
     "outputs": [
      {
       "metadata": {},
       "output_type": "display_data",
       "png": "[encoded data removed]",
       "text": [
        "<matplotlib.figure.Figure at 0x1081688d0>"
       ]
      }
     ],
     "prompt_number": 30
    },
    {
     "cell_type": "code",
     "collapsed": false,
     "input": [],
     "language": "python",
     "metadata": {},
     "outputs": []
    },
    {
     "cell_type": "heading",
     "level": 4,
     "metadata": {},
     "source": [
      "FINAL TRAINING - SVM"
     ]
    },
    {
     "cell_type": "code",
     "collapsed": false,
     "input": [
      "XX = np.vstack([X_CV, A])\n",
      "YY = np.hstack([Y_CV, B])"
     ],
     "language": "python",
     "metadata": {},
     "outputs": [],
     "prompt_number": 144
    },
    {
     "cell_type": "code",
     "collapsed": false,
     "input": [
      "clf_svm = svm.SVC(kernel='rbf', cache_size=1000, probability=True, C=10000000, gamma = 0.275)\n",
      "clf_svm.fit(XX, YY)"
     ],
     "language": "python",
     "metadata": {},
     "outputs": [
      {
       "metadata": {},
       "output_type": "pyout",
       "prompt_number": 145,
       "text": [
        "SVC(C=10000000, cache_size=1000, class_weight=None, coef0=0.0, degree=3,\n",
        "  gamma=0.275, kernel='rbf', max_iter=-1, probability=True,\n",
        "  random_state=None, shrinking=True, tol=0.001, verbose=False)"
       ]
      }
     ],
     "prompt_number": 145
    },
    {
     "cell_type": "code",
     "collapsed": false,
     "input": [],
     "language": "python",
     "metadata": {},
     "outputs": [],
     "prompt_number": 145
    },
    {
     "cell_type": "code",
     "collapsed": false,
     "input": [],
     "language": "python",
     "metadata": {},
     "outputs": [],
     "prompt_number": 145
    },
    {
     "cell_type": "code",
     "collapsed": false,
     "input": [
      "pp = clf_svm.predict(x_all[1000:, :])"
     ],
     "language": "python",
     "metadata": {},
     "outputs": [],
     "prompt_number": 146
    },
    {
     "cell_type": "code",
     "collapsed": false,
     "input": [
      "pp[0:10]"
     ],
     "language": "python",
     "metadata": {},
     "outputs": [
      {
       "metadata": {},
       "output_type": "pyout",
       "prompt_number": 147,
       "text": [
        "array([1, 0, 1, 0, 0, 0, 0, 1, 0, 0])"
       ]
      }
     ],
     "prompt_number": 147
    },
    {
     "cell_type": "code",
     "collapsed": false,
     "input": [
      "aa = range(1,9001)\n",
      "y_test = np.vstack([aa, pp]).T\n",
      "#print 'To submitt add header: Id,Solution'\n",
      "print y_test[0:10,:]\n",
      "np.savetxt('./predictions_laundry_99_randomPCA.csv', y_test, fmt='%i,%i')"
     ],
     "language": "python",
     "metadata": {},
     "outputs": [
      {
       "output_type": "stream",
       "stream": "stdout",
       "text": [
        "[[ 1  1]\n",
        " [ 2  0]\n",
        " [ 3  1]\n",
        " [ 4  0]\n",
        " [ 5  0]\n",
        " [ 6  0]\n",
        " [ 7  0]\n",
        " [ 8  1]\n",
        " [ 9  0]\n",
        " [10  0]]\n"
       ]
      }
     ],
     "prompt_number": 148
    },
    {
     "cell_type": "code",
     "collapsed": false,
     "input": [],
     "language": "python",
     "metadata": {},
     "outputs": []
    }
   ],
   "metadata": {}
  }
 ]
}