{
 "metadata": {
  "name": ""
 },
 "nbformat": 3,
 "nbformat_minor": 0,
 "worksheets": [
  {
   "cells": [
    {
     "cell_type": "code",
     "collapsed": false,
     "input": [
      "%cd '~/Dropbox/fjs6/Journal/ideolog/Dimwit/examples/dataScienceLondon/data/'"
     ],
     "language": "python",
     "metadata": {},
     "outputs": [
      {
       "output_type": "stream",
       "stream": "stdout",
       "text": [
        "/Users/fjs6/Dropbox/fjs6/Journal/ideolog/Dimwit/examples/dataScienceLondon/data\n"
       ]
      }
     ],
     "prompt_number": 445
    },
    {
     "cell_type": "code",
     "collapsed": false,
     "input": [
      "import numpy as np\n",
      "from pandas import *\n",
      "import pandas\n",
      "import math\n",
      "import random\n",
      "from sklearn import preprocessing\n",
      "from sklearn import svm\n",
      "from sklearn.svm import SVC\n",
      "from sklearn.cross_validation import StratifiedKFold\n",
      "from sklearn.grid_search import GridSearchCV\n",
      "from sklearn.decomposition import PCA\n",
      "from sklearn.metrics import *        \n",
      "\n",
      "import sys\n",
      "sys.path.append('/Users/fjs6/Dropbox/fjs6/Journal/ideolog/Dimwit')\n"
     ],
     "language": "python",
     "metadata": {},
     "outputs": [],
     "prompt_number": 446
    },
    {
     "cell_type": "code",
     "collapsed": false,
     "input": [
      "tr_data = read_csv('train.csv', header=None)\n",
      "test_data = read_csv('test.csv', header=None)\n",
      "data = concat([tr_data, test_data], ignore_index=True)"
     ],
     "language": "python",
     "metadata": {},
     "outputs": [],
     "prompt_number": 447
    },
    {
     "cell_type": "code",
     "collapsed": false,
     "input": [
      "gt_data = read_csv('trainLabels.csv', header=None)"
     ],
     "language": "python",
     "metadata": {},
     "outputs": [],
     "prompt_number": 448
    },
    {
     "cell_type": "code",
     "collapsed": false,
     "input": [
      "def laundromat(model, X, Y, XUniverse, max_acc, PCUT = 0.95):\n",
      "    # train\n",
      "    model.fit(X, Y)\n",
      "    \n",
      "    # evaluate\n",
      "    p = model.predict(X_CV)\n",
      "    count = 0.0\n",
      "    M_CV = len(Y_CV)\n",
      "    for i in range(M_CV):\n",
      "        if p[i]==Y_CV[i]:\n",
      "            count+=1\n",
      "    acc = 100.*count/M_CV\n",
      "    print 'score on CV', acc\n",
      "    print 'support vectors', model.support_vectors_.shape[0]\n",
      "    if acc < max_acc:\n",
      "        print 'breaking out'\n",
      "        return [X, Y, XUniverse, max_acc, True]\n",
      "    \n",
      "    # go deeper\n",
      "    prob = model.predict_proba(XUniverse)\n",
      "    M_U, N_U = XUniverse.shape\n",
      "    X1 = X.copy()\n",
      "    Y1 = Y.copy()\n",
      "    X_Rest = np.zeros((1, N_U))\n",
      "\n",
      "    for i in range(M_U):\n",
      "        y = np.argmax(prob[i,:])\n",
      "        p = np.max(prob[i,:])\n",
      "        record = XUniverse[i:i+1,:]\n",
      "        if p > PCUT:\n",
      "            X1 = np.append(X1, record, axis=0)\n",
      "            Y1 = np.append(Y1, y)\n",
      "        else:\n",
      "            X_Rest = np.vstack([X_Rest, record])\n",
      "    X_Rest = np.delete(X_Rest, 0, 0)\n",
      "    return [X1, Y1, X_Rest, acc, False]\n"
     ],
     "language": "python",
     "metadata": {},
     "outputs": [],
     "prompt_number": 449
    },
    {
     "cell_type": "code",
     "collapsed": false,
     "input": [
      "def heatmap(grid, C_range, g_range):\n",
      "    print(\"The best classifier is: \", grid.best_estimator_)\n",
      "    print 'best score', grid.best_score_\n",
      "    score_dict = grid.grid_scores_\n",
      "    scores = [x[1] for x in score_dict]\n",
      "    scores = np.array(scores).reshape(len(C_range), len(g_range))\n",
      "\n",
      "    plt.figure(figsize=(8, 6))\n",
      "    plt.subplots_adjust(left=0.05, right=0.95, bottom=0.15, top=0.95)\n",
      "    plt.imshow(scores, interpolation='nearest', cmap=plt.cm.spectral)\n",
      "    plt.xlabel('g')\n",
      "    plt.ylabel('C')\n",
      "    plt.colorbar()\n",
      "    plt.xticks(np.arange(len(g_range)), g_range, rotation=45)\n",
      "    plt.yticks(np.arange(len(C_range)), C_range)\n",
      "    plt.show()"
     ],
     "language": "python",
     "metadata": {},
     "outputs": [],
     "prompt_number": 450
    },
    {
     "cell_type": "heading",
     "level": 4,
     "metadata": {},
     "source": [
      "1st Filter : Preselecting features with highest power"
     ]
    },
    {
     "cell_type": "code",
     "collapsed": false,
     "input": [
      "#features = [14,12,29,6,36,39,7,4,28,19,22,18,38,3, 32, 34, 13]\n",
      "features = np.arange(40)\n",
      "x_all = np.array(data.ix[:,features])\n",
      "y_all = np.ravel(gt_data)"
     ],
     "language": "python",
     "metadata": {},
     "outputs": [],
     "prompt_number": 617
    },
    {
     "cell_type": "code",
     "collapsed": false,
     "input": [
      "limit_cv = 200\n",
      "limit_tr = 1000\n",
      "\n",
      "X_CV = x_all[0:limit_cv,:]\n",
      "Y_CV = y_all[0:limit_cv]\n",
      "\n",
      "X_TR = x_all[limit_cv: limit_tr,:]\n",
      "Y_TR = y_all[limit_cv:]"
     ],
     "language": "python",
     "metadata": {},
     "outputs": [],
     "prompt_number": 607
    },
    {
     "cell_type": "code",
     "collapsed": false,
     "input": [
      "X_TR.shape"
     ],
     "language": "python",
     "metadata": {},
     "outputs": [
      {
       "metadata": {},
       "output_type": "pyout",
       "prompt_number": 608,
       "text": [
        "(800, 40)"
       ]
      }
     ],
     "prompt_number": 608
    },
    {
     "cell_type": "code",
     "collapsed": false,
     "input": [
      "\n",
      "x_all[0:1000,:].shape"
     ],
     "language": "python",
     "metadata": {},
     "outputs": [
      {
       "metadata": {},
       "output_type": "pyout",
       "prompt_number": 609,
       "text": [
        "(1000, 40)"
       ]
      }
     ],
     "prompt_number": 609
    },
    {
     "cell_type": "code",
     "collapsed": false,
     "input": [
      "from sklearn.ensemble import ExtraTreesClassifier\n",
      "\n",
      "clftree = ExtraTreesClassifier()\n",
      "clftree.fit(X_TR, Y_TR).transform(x_all)\n",
      "\n",
      "importances = clftree.feature_importances_\n",
      "indices = np.argsort(importances)[::-1][0:20]\n",
      "\n",
      "# Print the feature ranking\n",
      "print(\"Feature ranking:\")\n",
      "\n",
      "std = np.std([tree.feature_importances_ for tree in clftree.estimators_], axis=0)\n",
      "#for f in range(20):\n",
      "#    print(\"%d. feature %d (%f)\" % (f + 1, indices[f], importances[indices[f]]))\n",
      "\n",
      "# Plot the feature importances of the forest\n",
      "plt.figure()\n",
      "plt.title(\"Feature importances\")\n",
      "#plt.bar(range(20), importances[indices], color=\"r\", yerr=std[indices], align=\"center\")\n",
      "plt.bar(range(20), importances[indices], yerr=std[indices], color=\"r\", align=\"center\")\n",
      "plt.xticks(range(20), indices)\n",
      "plt.xlim([-1, 20])\n",
      "plt.show()\n",
      "\n",
      "print indices[0:12]"
     ],
     "language": "python",
     "metadata": {},
     "outputs": [
      {
       "output_type": "stream",
       "stream": "stdout",
       "text": [
        "Feature ranking:\n"
       ]
      },
      {
       "metadata": {},
       "output_type": "display_data",
       "png": "[encoded data removed]",
       "text": [
        "<matplotlib.figure.Figure at 0x109965d10>"
       ]
      },
      {
       "output_type": "stream",
       "stream": "stdout",
       "text": [
        "[14 12 36  6 28  4 18 39 32 29 34 23]\n"
       ]
      }
     ],
     "prompt_number": 575
    },
    {
     "cell_type": "code",
     "collapsed": false,
     "input": [
      "x_all.shape"
     ],
     "language": "python",
     "metadata": {},
     "outputs": [
      {
       "metadata": {},
       "output_type": "pyout",
       "prompt_number": 610,
       "text": [
        "(10000, 40)"
       ]
      }
     ],
     "prompt_number": 610
    },
    {
     "cell_type": "code",
     "collapsed": false,
     "input": [
      "from sklearn.decomposition import RandomizedPCA\n",
      "\n",
      "whole_shit = []\n",
      "f_range = range(7,15)\n",
      "d_range = range(8,15)\n",
      "for fea in f_range:\n",
      "    for dim in d_range:\n",
      "        features = indices[0:fea]\n",
      "        x_exp = x_all[:,features]\n",
      "        \n",
      "        if dim>=fea:\n",
      "            pca = RandomizedPCA(n_components=dim, whiten=True, random_state = 1)\n",
      "        else:\n",
      "            pca = RandomizedPCA(n_components=None, whiten=True, random_state = 1)\n",
      "        \n",
      "        pca.fit(x_exp)\n",
      "        x_exp = pca.transform(x_exp)\n",
      "        \n",
      "        model = svm.SVC(kernel='rbf', cache_size=1000, probability=True, C=1., gamma=0.2)\n",
      "        model.fit(x_exp[0:900,:], y_all[0:900])\n",
      "        \n",
      "        # evaluate\n",
      "        p = model.predict(x_exp[900:1000,:])\n",
      "        count = 0.0\n",
      "        for i in range(100):\n",
      "            if p[i]==y_all[900+i]:\n",
      "                count+=1.\n",
      "        acc = count/100.\n",
      "        whole_shit += [acc]\n",
      "        print 'score on', fea, dim, acc\n",
      "        \n",
      "print whole_shit"
     ],
     "language": "python",
     "metadata": {},
     "outputs": [
      {
       "ename": "IndexError",
       "evalue": "index 1000 is out of bounds for axis 0 with size 1000",
       "output_type": "pyerr",
       "traceback": [
        "\u001b[0;31m---------------------------------------------------------------------------\u001b[0m\n\u001b[0;31mIndexError\u001b[0m                                Traceback (most recent call last)",
        "\u001b[0;32m<ipython-input-623-4850550a487d>\u001b[0m in \u001b[0;36m<module>\u001b[0;34m()\u001b[0m\n\u001b[1;32m     24\u001b[0m         \u001b[0mcount\u001b[0m \u001b[0;34m=\u001b[0m \u001b[0;36m0.0\u001b[0m\u001b[0;34m\u001b[0m\u001b[0m\n\u001b[1;32m     25\u001b[0m         \u001b[0;32mfor\u001b[0m \u001b[0mi\u001b[0m \u001b[0;32min\u001b[0m \u001b[0mrange\u001b[0m\u001b[0;34m(\u001b[0m\u001b[0;36m100\u001b[0m\u001b[0;34m)\u001b[0m\u001b[0;34m:\u001b[0m\u001b[0;34m\u001b[0m\u001b[0m\n\u001b[0;32m---> 26\u001b[0;31m             \u001b[0;32mif\u001b[0m \u001b[0mp\u001b[0m\u001b[0;34m[\u001b[0m\u001b[0mi\u001b[0m\u001b[0;34m]\u001b[0m\u001b[0;34m==\u001b[0m\u001b[0my_all\u001b[0m\u001b[0;34m[\u001b[0m\u001b[0;36m901\u001b[0m\u001b[0;34m+\u001b[0m\u001b[0mi\u001b[0m\u001b[0;34m]\u001b[0m\u001b[0;34m:\u001b[0m\u001b[0;34m\u001b[0m\u001b[0m\n\u001b[0m\u001b[1;32m     27\u001b[0m                 \u001b[0mcount\u001b[0m\u001b[0;34m+=\u001b[0m\u001b[0;36m1.\u001b[0m\u001b[0;34m\u001b[0m\u001b[0m\n\u001b[1;32m     28\u001b[0m         \u001b[0macc\u001b[0m \u001b[0;34m=\u001b[0m \u001b[0mcount\u001b[0m\u001b[0;34m/\u001b[0m\u001b[0;36m100.\u001b[0m\u001b[0;34m\u001b[0m\u001b[0m\n",
        "\u001b[0;31mIndexError\u001b[0m: index 1000 is out of bounds for axis 0 with size 1000"
       ]
      }
     ],
     "prompt_number": 623
    },
    {
     "cell_type": "code",
     "collapsed": false,
     "input": [
      "scores = np.array(whole_shit).reshape(len(f_range), len(d_range))\n",
      "plt.figure(figsize=(8, 6))\n",
      "plt.subplots_adjust(left=0.05, right=0.95, bottom=0.15, top=0.95)\n",
      "plt.imshow(scores, interpolation='nearest', cmap=plt.cm.spectral)\n",
      "plt.xlabel('dimmensions')\n",
      "plt.ylabel('features')\n",
      "plt.colorbar()\n",
      "plt.xticks(np.arange(len(d_range)), d_range, rotation=45)\n",
      "plt.yticks(np.arange(len(f_range)), f_range)\n",
      "plt.show()\n"
     ],
     "language": "python",
     "metadata": {},
     "outputs": [
      {
       "metadata": {},
       "output_type": "display_data",
       "png": "[encoded data removed]",
       "text": [
        "<matplotlib.figure.Figure at 0x10993dd90>"
       ]
      }
     ],
     "prompt_number": 622
    },
    {
     "cell_type": "code",
     "collapsed": false,
     "input": [],
     "language": "python",
     "metadata": {},
     "outputs": [],
     "prompt_number": 595
    },
    {
     "cell_type": "code",
     "collapsed": false,
     "input": [],
     "language": "python",
     "metadata": {},
     "outputs": [
      {
       "metadata": {},
       "output_type": "pyout",
       "prompt_number": 596,
       "text": [
        "[1, 1]"
       ]
      }
     ],
     "prompt_number": 596
    },
    {
     "cell_type": "code",
     "collapsed": false,
     "input": [],
     "language": "python",
     "metadata": {},
     "outputs": []
    },
    {
     "cell_type": "code",
     "collapsed": false,
     "input": [
      "#importances = clftree.feature_importances_\n",
      "#indices = np.argsort(importances)[::-1]\n",
      "features = indices[0:12]\n",
      "x_all = x_all[:,features]\n",
      "print features\n",
      "\n",
      "from sklearn.decomposition import RandomizedPCA\n",
      "#pca = RandomizedPCA(n_components=None, whiten=True, random_state = 1)\n",
      "\n",
      "#pca.fit(x_all)\n",
      "#x_all = pca.transform(x_all)\n",
      "#plot(np.cumsum(pca.explained_variance_))\n",
      "#x_all = x_all0[:, features]\n",
      "\n",
      "limit_cv = 100\n",
      "\n",
      "X_CV = x_all[0:limit_cv,:]\n",
      "Y_CV = y_all[0:limit_cv]\n",
      "\n",
      "X_TR = x_all[limit_cv:,:]\n",
      "Y_TR = y_all[limit_cv:]\n",
      "\n",
      "clf = svm.SVC(kernel='rbf', cache_size=1000, probability=True, C=100000., gamma=0.2)\n",
      "limit_tr = 1000-limit_cv\n",
      "[A,B,C, acc, fu] = laundromat(clf, X_TR[0:limit_tr,:], Y_TR[0:limit_tr], X_TR[limit_tr:,:], 0.0, PCUT = 0.95)"
     ],
     "language": "python",
     "metadata": {},
     "outputs": [
      {
       "output_type": "stream",
       "stream": "stdout",
       "text": [
        "[14 12 36  6 28  4 18 39 32 29 34 23]\n",
        "score on CV"
       ]
      },
      {
       "output_type": "stream",
       "stream": "stdout",
       "text": [
        " 80.0\n",
        "support vectors 900\n"
       ]
      }
     ],
     "prompt_number": 577
    },
    {
     "cell_type": "code",
     "collapsed": false,
     "input": [
      "pca.n_components"
     ],
     "language": "python",
     "metadata": {},
     "outputs": [],
     "prompt_number": 518
    },
    {
     "cell_type": "code",
     "collapsed": false,
     "input": [
      "x_all.shape"
     ],
     "language": "python",
     "metadata": {},
     "outputs": [
      {
       "metadata": {},
       "output_type": "pyout",
       "prompt_number": 519,
       "text": [
        "(10000, 23)"
       ]
      }
     ],
     "prompt_number": 519
    },
    {
     "cell_type": "code",
     "collapsed": false,
     "input": [],
     "language": "python",
     "metadata": {},
     "outputs": []
    },
    {
     "cell_type": "raw",
     "metadata": {},
     "source": [
      "from sklearn.feature_selection import (RFE, RFECV)\n",
      "estimator = svm.SVC(kernel='linear', cache_size=1000)#, C=100., gamma=0.01)\n",
      "rfe = RFE(estimator=estimator, n_features_to_select=1, step=1)\n",
      "rfe.fit(X_TR, Y_TR)"
     ]
    },
    {
     "cell_type": "raw",
     "metadata": {},
     "source": [
      "rfe.support_ "
     ]
    },
    {
     "cell_type": "raw",
     "metadata": {},
     "source": [
      "#features = rfe.ranking_[0:17]\n",
      "#features = [14,12,29,6,36,39,7,4,28,19,22,18,38,3, 32, 34, 13]\n",
      "features = rfe.ranking_[0:9]\n",
      "print features"
     ]
    },
    {
     "cell_type": "heading",
     "level": 4,
     "metadata": {},
     "source": [
      "2nd Filter: Reducing dimmensionality up to 97.48% var"
     ]
    },
    {
     "cell_type": "raw",
     "metadata": {},
     "source": [
      "from sklearn.decomposition import RandomizedPCA\n",
      "pca = RandomizedPCA(n_components=9, whiten=True)\n",
      "pca.fit(x_all0)\n",
      "x_all = pca.transform(x_all0)"
     ]
    },
    {
     "cell_type": "raw",
     "metadata": {},
     "source": [
      "plot(np.cumsum(pca.explained_variance_))"
     ]
    },
    {
     "cell_type": "heading",
     "level": 4,
     "metadata": {},
     "source": [
      "Dividing initial training data to create mini cross validation set"
     ]
    },
    {
     "cell_type": "code",
     "collapsed": false,
     "input": [
      "limit_cv = 100\n",
      "\n",
      "X_CV = x_all[0:limit_cv,:]\n",
      "Y_CV = y_all[0:limit_cv]\n",
      "\n",
      "X_TR = x_all[limit_cv:,:]\n",
      "Y_TR = y_all[limit_cv:]"
     ],
     "language": "python",
     "metadata": {},
     "outputs": []
    },
    {
     "cell_type": "code",
     "collapsed": false,
     "input": [],
     "language": "python",
     "metadata": {},
     "outputs": []
    },
    {
     "cell_type": "heading",
     "level": 4,
     "metadata": {},
     "source": [
      "Optimizing hyperparams on initial training set"
     ]
    },
    {
     "cell_type": "code",
     "collapsed": false,
     "input": [
      "C_range = [0.01, 0.1, 1., 10.]\n",
      "g_range = np.arange(0.1, .6, 0.1)\n",
      "#g_range = [1.]\n",
      "limit_tr = 1000-limit_cv\n",
      "\n",
      "param_grid = dict(gamma=g_range, C=C_range)\n",
      "clfo = svm.SVC(kernel='rbf', cache_size=1000, probability=True)\n",
      "\n",
      "cv = StratifiedKFold(Y_TR[0:limit_tr], n_folds=3)\n",
      "grid = GridSearchCV(clfo, param_grid=param_grid, cv=cv, verbose=5)\n",
      "\n",
      "grid.fit(X_TR[0:limit_tr,:], Y_TR[0:limit_tr])\n",
      "print(\"The best classifier is: \", grid.best_estimator_)\n",
      "print 'best score', grid.best_score_\n",
      "score_dict = grid.grid_scores_\n",
      "scores = [x[1] for x in score_dict]\n",
      "scores = np.array(scores).reshape(len(C_range), len(g_range))\n",
      "\n",
      "plt.figure(figsize=(8, 6))\n",
      "plt.subplots_adjust(left=0.05, right=0.95, bottom=0.15, top=0.95)\n",
      "plt.imshow(scores, interpolation='nearest', cmap=plt.cm.spectral)\n",
      "plt.xlabel('g')\n",
      "plt.ylabel('C')\n",
      "plt.colorbar()\n",
      "plt.xticks(np.arange(len(g_range)), g_range, rotation=45)\n",
      "plt.yticks(np.arange(len(C_range)), C_range)\n",
      "plt.show()"
     ],
     "language": "python",
     "metadata": {},
     "outputs": []
    },
    {
     "cell_type": "heading",
     "level": 4,
     "metadata": {},
     "source": [
      "SVM Recursive to inflate new training set"
     ]
    },
    {
     "cell_type": "code",
     "collapsed": false,
     "input": [
      "clf = svm.SVC(kernel='rbf', cache_size=1000, probability=True, C=100000., gamma=0.2)\n",
      "limit_tr = 1000-limit_cv\n",
      "[A,B,C, acc, fu] = laundromat(clf, X_TR[0:limit_tr,:], Y_TR[0:limit_tr], X_TR[limit_tr:,:], 0.0, PCUT = 0.95)"
     ],
     "language": "python",
     "metadata": {},
     "outputs": []
    },
    {
     "cell_type": "code",
     "collapsed": false,
     "input": [
      "clf = svm.SVC(kernel='rbf', cache_size=1000, probability=True, C=10000000., gamma=0.3)\n",
      "fu = False\n",
      "acc = 0.9\n",
      "while fu == False:\n",
      "    [A,B,C, acc, fu] = laundromat(clf, A, B, C, acc, PCUT = 0.99)\n",
      "    print 'C', C.shape"
     ],
     "language": "python",
     "metadata": {},
     "outputs": []
    },
    {
     "cell_type": "code",
     "collapsed": false,
     "input": [
      "print 'accuracy', acc\n",
      "print 'support v', clf.support_vectors_.shape[0]\n",
      "print 'A', A.shape\n",
      "print 'B', B.shape\n",
      "print 'C', C.shape"
     ],
     "language": "python",
     "metadata": {},
     "outputs": []
    },
    {
     "cell_type": "heading",
     "level": 4,
     "metadata": {},
     "source": [
      "SVM on new training set"
     ]
    },
    {
     "cell_type": "code",
     "collapsed": false,
     "input": [
      "clf_svm = svm.SVC(kernel='rbf', cache_size=1000, probability=True, C=10000000, gamma = 0.3)\n",
      "clf_svm.fit(A, B)"
     ],
     "language": "python",
     "metadata": {},
     "outputs": []
    },
    {
     "cell_type": "heading",
     "level": 4,
     "metadata": {},
     "source": [
      "NN on new training set"
     ]
    },
    {
     "cell_type": "code",
     "collapsed": false,
     "input": [
      "from Neurotic import *\n",
      "def neuracc(thetas, x, y):\n",
      "    tot = y.shape[0]\n",
      "    count = 0.0\n",
      "    for i, truth in enumerate(y):\n",
      "        sol = h(thetas, layers, x[i])\n",
      "        if np.argmax(sol)== truth:\n",
      "            count +=1.\n",
      "    return 100.*count/tot\n",
      "\n",
      "def optimizeThetas(tinit, layers, x, y, lam, visual=True):\n",
      "    def f(w):\n",
      "        return j(w, layers, x, y, lam)\n",
      "    def fprime(w):\n",
      "        return v(w, layers, x, y, lam)\n",
      "    \n",
      "    [thetas, f, d] = fmin_l_bfgs_b(func=f, x0=tinit, fprime=fprime, maxiter=1000)\n",
      "    if visual:\n",
      "        print thetas[0:10]\n",
      "        print f\n",
      "        print d\n",
      "    return thetas"
     ],
     "language": "python",
     "metadata": {},
     "outputs": []
    },
    {
     "cell_type": "code",
     "collapsed": false,
     "input": [
      "M, nodes = A.shape\n",
      "Y3 = np.atleast_2d(B).T\n",
      "\n",
      "layers = [2*nodes, nodes, 2]\n",
      "tinit = np.hstack([randomize_thetas(2*nodes,nodes).flatten(), \n",
      "                   randomize_thetas(nodes,2*nodes).flatten(),\n",
      "                   randomize_thetas(2,nodes).flatten()])\n",
      "\n",
      "\n",
      "opt_score, opt_lala, opt_ot = 0.0, 0.0, None\n",
      "for lala in [0.000001, 0.00001, 0.0001, 0.001]:\n",
      "    ot = optimizeThetas(tinit, layers, A, Y3, lala)\n",
      "    new_acc = neuracc(ot, X_CV, Y_CV)\n",
      "    print 'lala', lala, new_acc\n",
      "    if new_acc > opt_score:\n",
      "        opt_score = new_acc\n",
      "        opt_lala = lala\n",
      "        opt_ot = ot\n",
      "\n",
      "print '_______________BEST SCORE:', opt_score\n",
      "print 'best lambda:', opt_lala"
     ],
     "language": "python",
     "metadata": {},
     "outputs": []
    },
    {
     "cell_type": "code",
     "collapsed": false,
     "input": [
      "opt_lala"
     ],
     "language": "python",
     "metadata": {},
     "outputs": []
    },
    {
     "cell_type": "heading",
     "level": 4,
     "metadata": {},
     "source": [
      "Mix SVM & NN and evaluate on cross validation set"
     ]
    },
    {
     "cell_type": "code",
     "collapsed": false,
     "input": [
      "## NN\n",
      "NN = np.zeros((limit_cv, 2))\n",
      "for i, record in enumerate(X_CV):\n",
      "    NN[i,0] = np.argmax(h(opt_ot, layers, record))\n",
      "    NN[i,1] = np.max(h(opt_ot, layers, record))\n",
      "\n",
      "# from previous and last SVM\n",
      "a = clf_svm.predict(X_CV)\n",
      "b = clf_svm.predict_proba(X_CV)\n",
      "\n",
      "count = 0.0\n",
      "different = 0\n",
      "changed_from_svm_to_nn = 0\n",
      "to_compare = np.zeros((limit_cv,))\n",
      "for i in range(limit_cv):\n",
      "    p = int(a[i])\n",
      "    nn = int(NN[i,0])\n",
      "    if p!=nn:\n",
      "        different += 1\n",
      "        if b[i, p]<NN[i,1]:\n",
      "            print 'Y (' + `Y_CV[i]` + ') SVM (' + `p` + ') NN (' + `nn` + ')'\n",
      "            print 'changed_from_svm_to_nn', b[i, p], NN[i,1]\n",
      "            changed_from_svm_to_nn += 1\n",
      "            p = nn\n",
      "        else:\n",
      "            print '____Y (' + `Y_CV[i]` + ') SVM (' + `p` + ') NN (' + `nn` + ')'\n",
      "            print '____kept_svm_instead_of_nn', b[i, p], NN[i,1]\n",
      "    if int(p)==Y_CV[i]:\n",
      "        count +=1\n",
      "    to_compare[i] = p\n",
      "    \n",
      "print 'acc', 100.*count/limit_cv\n",
      "print 'svm and NN differ', different\n",
      "print 'changed_from_svm_to_nn', changed_from_svm_to_nn"
     ],
     "language": "python",
     "metadata": {},
     "outputs": []
    },
    {
     "cell_type": "code",
     "collapsed": false,
     "input": [
      "# how it does with mix and match\n",
      "print(classification_report(Y_CV, to_compare))"
     ],
     "language": "python",
     "metadata": {},
     "outputs": []
    },
    {
     "cell_type": "code",
     "collapsed": false,
     "input": [
      "# as compared to simple SVM\n",
      "print(classification_report(Y_CV, a))"
     ],
     "language": "python",
     "metadata": {},
     "outputs": []
    },
    {
     "cell_type": "heading",
     "level": 4,
     "metadata": {},
     "source": [
      "SVM & NN on all training data (included CV)"
     ]
    },
    {
     "cell_type": "code",
     "collapsed": false,
     "input": [
      "XX = np.vstack([X_CV, A])\n",
      "YY = np.hstack([Y_CV, B])"
     ],
     "language": "python",
     "metadata": {},
     "outputs": []
    },
    {
     "cell_type": "code",
     "collapsed": false,
     "input": [
      "final_svm = svm.SVC(kernel='rbf', cache_size=1000, probability=True, C=10000000, gamma = 0.3)\n",
      "final_svm.fit(XX, YY)"
     ],
     "language": "python",
     "metadata": {},
     "outputs": []
    },
    {
     "cell_type": "code",
     "collapsed": false,
     "input": [
      "M, nodes = XX.shape\n",
      "Y3 = np.atleast_2d(YY).T\n",
      "\n",
      "layers = [2*nodes, nodes, 2]\n",
      "tinit = np.hstack([randomize_thetas(2*nodes,nodes).flatten(), \n",
      "                   randomize_thetas(nodes,2*nodes).flatten(),\n",
      "                   randomize_thetas(2,nodes).flatten()])\n",
      "\n",
      "final_ot = optimizeThetas(tinit, layers, XX, Y3, 0.00001)"
     ],
     "language": "python",
     "metadata": {},
     "outputs": []
    },
    {
     "cell_type": "code",
     "collapsed": false,
     "input": [
      "print final_svm.support_vectors_.shape[0]\n",
      "print XX.shape"
     ],
     "language": "python",
     "metadata": {},
     "outputs": []
    },
    {
     "cell_type": "code",
     "collapsed": false,
     "input": [],
     "language": "python",
     "metadata": {},
     "outputs": []
    },
    {
     "cell_type": "heading",
     "level": 4,
     "metadata": {},
     "source": [
      "Predict Test Set"
     ]
    },
    {
     "cell_type": "code",
     "collapsed": false,
     "input": [
      "x_test = x_all[1000:, :]\n",
      "\n",
      "## NN\n",
      "NN = np.zeros((9000, 2))\n",
      "for i, record in enumerate(x_test):\n",
      "    NN[i,0] = np.argmax(h(final_ot, layers, record))\n",
      "    NN[i,1] = np.max(h(final_ot, layers, record))\n",
      "\n",
      "# from previous and last SVM\n",
      "a = clf_svm.predict(x_test)\n",
      "b = clf_svm.predict_proba(x_test)\n",
      "\n",
      "to_submit_nn = np.zeros((9000,2))\n",
      "to_submit_svm_nn = np.zeros((9000,2))\n",
      "\n",
      "different = 0\n",
      "changed_from_svm_to_nn = 0\n",
      "for i in range(9000):\n",
      "    p = int(a[i])\n",
      "    nn = int(NN[i,0])\n",
      "    if p!=nn:\n",
      "        different += 1\n",
      "        if b[i, p]<NN[i,1]:\n",
      "            print 'SVM (' + `p` + ') NN (' + `nn` + ')'\n",
      "            print 'changed_from_svm_to_nn', b[i, p], NN[i,1]\n",
      "            changed_from_svm_to_nn += 1\n",
      "            p = nn\n",
      "        else:\n",
      "            print '____ SVM (' + `p` + ') NN (' + `nn` + ')'\n",
      "            print '____ kept_svm_instead_of_nn', b[i, p], NN[i,1]\n",
      "    to_submit_nn[i,0] = i+1\n",
      "    to_submit_nn[i,1] = nn\n",
      "    to_submit_svm_nn[i,0] = i+1\n",
      "    to_submit_svm_nn[i,1] = p\n",
      "    \n",
      "print 'svm and NN differ', different\n",
      "print 'changed_from_svm_to_nn', changed_from_svm_to_nn"
     ],
     "language": "python",
     "metadata": {},
     "outputs": []
    },
    {
     "cell_type": "code",
     "collapsed": false,
     "input": [
      "cm = confusion_matrix(a, NN[:,0])\n",
      "plt.matshow(cm)\n",
      "plt.title('Confusion matrix')\n",
      "plt.colorbar()\n",
      "plt.ylabel('NN')\n",
      "plt.xlabel('SVM')\n",
      "plt.show()"
     ],
     "language": "python",
     "metadata": {},
     "outputs": []
    },
    {
     "cell_type": "code",
     "collapsed": false,
     "input": [
      "print(classification_report(y_true, y_pred, target_names=target_names))"
     ],
     "language": "python",
     "metadata": {},
     "outputs": []
    },
    {
     "cell_type": "code",
     "collapsed": false,
     "input": [],
     "language": "python",
     "metadata": {},
     "outputs": []
    },
    {
     "cell_type": "code",
     "collapsed": false,
     "input": [],
     "language": "python",
     "metadata": {},
     "outputs": []
    },
    {
     "cell_type": "code",
     "collapsed": false,
     "input": [],
     "language": "python",
     "metadata": {},
     "outputs": []
    },
    {
     "cell_type": "heading",
     "level": 4,
     "metadata": {},
     "source": [
      "SAVING TEST PREDICTIONS"
     ]
    },
    {
     "cell_type": "code",
     "collapsed": false,
     "input": [
      "print 'To submitt add header: Id,Solution'\n",
      "print to_submit_nn[0:10,:]\n",
      "np.savetxt('./predictions_nn_after_engordement.csv', to_submit_nn, fmt='%i,%i')"
     ],
     "language": "python",
     "metadata": {},
     "outputs": []
    },
    {
     "cell_type": "code",
     "collapsed": false,
     "input": [],
     "language": "python",
     "metadata": {},
     "outputs": []
    },
    {
     "cell_type": "code",
     "collapsed": false,
     "input": [
      "print 'To submitt add header: Id,Solution'\n",
      "print to_submit_svm_nn[0:10,:]\n",
      "np.savetxt('./predictions_mix_svm_nn.csv', to_submit_svm_nn, fmt='%i,%i')"
     ],
     "language": "python",
     "metadata": {},
     "outputs": []
    },
    {
     "cell_type": "code",
     "collapsed": false,
     "input": [],
     "language": "python",
     "metadata": {},
     "outputs": []
    }
   ],
   "metadata": {}
  }
 ]
}