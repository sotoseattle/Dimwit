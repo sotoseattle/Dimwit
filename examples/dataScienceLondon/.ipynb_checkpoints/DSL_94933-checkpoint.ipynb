{
 "metadata": {
  "name": ""
 },
 "nbformat": 3,
 "nbformat_minor": 0,
 "worksheets": [
  {
   "cells": [
    {
     "cell_type": "code",
     "collapsed": false,
     "input": [
      "%cd '~/Dropbox/fjs6/Journal/ideolog/Dimwit/examples/dataScienceLondon/data/'"
     ],
     "language": "python",
     "metadata": {},
     "outputs": [
      {
       "output_type": "stream",
       "stream": "stdout",
       "text": [
        "/Users/fjs6/Dropbox/fjs6/Journal/ideolog/Dimwit/examples/dataScienceLondon/data\n"
       ]
      }
     ],
     "prompt_number": 1
    },
    {
     "cell_type": "code",
     "collapsed": false,
     "input": [
      "import numpy as np\n",
      "from pandas import *\n",
      "import pandas\n",
      "import math\n",
      "import random\n",
      "from sklearn import preprocessing\n",
      "from sklearn import svm\n",
      "from sklearn.svm import SVC\n",
      "from sklearn.cross_validation import StratifiedKFold\n",
      "from sklearn.grid_search import GridSearchCV\n",
      "from sklearn.decomposition import PCA\n",
      "\n",
      "import sys\n",
      "sys.path.append('/Users/fjs6/Dropbox/fjs6/Journal/ideolog/Dimwit')\n"
     ],
     "language": "python",
     "metadata": {},
     "outputs": [],
     "prompt_number": 2
    },
    {
     "cell_type": "code",
     "collapsed": false,
     "input": [
      "tr_data = read_csv('train.csv', header=None)\n",
      "test_data = read_csv('test.csv', header=None)\n",
      "data = concat([tr_data, test_data], ignore_index=True)"
     ],
     "language": "python",
     "metadata": {},
     "outputs": [],
     "prompt_number": 3
    },
    {
     "cell_type": "code",
     "collapsed": false,
     "input": [
      "gt_data = read_csv('trainLabels.csv', header=None)"
     ],
     "language": "python",
     "metadata": {},
     "outputs": [],
     "prompt_number": 4
    },
    {
     "cell_type": "heading",
     "level": 2,
     "metadata": {},
     "source": [
      "SVM - 1st pass"
     ]
    },
    {
     "cell_type": "code",
     "collapsed": false,
     "input": [
      "def laundroSVM(x,y, C_range, g_range):\n",
      "    param_grid = dict(gamma=g_range, C=C_range)\n",
      "    clf = svm.SVC(kernel='rbf', cache_size=1000, probability=True)\n",
      "\n",
      "    cv = StratifiedKFold(y, n_folds=3)\n",
      "    grid = GridSearchCV(clf, param_grid=param_grid, cv=cv, verbose=1)\n",
      "\n",
      "    grid.fit(x, y)\n",
      "    return grid\n"
     ],
     "language": "python",
     "metadata": {},
     "outputs": [],
     "prompt_number": 5
    },
    {
     "cell_type": "code",
     "collapsed": false,
     "input": [
      "def heatmap(grid, C_range, g_range):\n",
      "    print(\"The best classifier is: \", grid.best_estimator_)\n",
      "    print 'best score', grid.best_score_\n",
      "    score_dict = grid.grid_scores_\n",
      "    scores = [x[1] for x in score_dict]\n",
      "    scores = np.array(scores).reshape(len(C_range), len(g_range))\n",
      "\n",
      "    plt.figure(figsize=(8, 6))\n",
      "    plt.subplots_adjust(left=0.05, right=0.95, bottom=0.15, top=0.95)\n",
      "    plt.imshow(scores, interpolation='nearest', cmap=plt.cm.spectral)\n",
      "    plt.xlabel('g')\n",
      "    plt.ylabel('C')\n",
      "    plt.colorbar()\n",
      "    plt.xticks(np.arange(len(g_range)), g_range, rotation=45)\n",
      "    plt.yticks(np.arange(len(C_range)), C_range)\n",
      "    plt.show()"
     ],
     "language": "python",
     "metadata": {},
     "outputs": [],
     "prompt_number": 6
    },
    {
     "cell_type": "code",
     "collapsed": false,
     "input": [
      "# scale and arraify training data\n",
      "x_all = np.array(data.ix[:,:])\n",
      "y_all = np.ravel(gt_data)"
     ],
     "language": "python",
     "metadata": {},
     "outputs": [],
     "prompt_number": 7
    },
    {
     "cell_type": "code",
     "collapsed": false,
     "input": [
      "pca = PCA(n_components=12, whiten=True)\n",
      "pca.fit(x_all, y_all)\n",
      "print(pca.explained_variance_ratio_)\n",
      "print(np.sum(pca.explained_variance_ratio_))\n",
      "x_all = pca.transform(x_all)"
     ],
     "language": "python",
     "metadata": {},
     "outputs": [
      {
       "output_type": "stream",
       "stream": "stdout",
       "text": [
        "[ 0.26133889  0.20395397  0.0791104   0.04814801  0.04541674  0.04425635\n",
        "  0.04042857  0.03035249  0.02352029  0.01921646  0.01614838  0.01255655]\n",
        "0.824447114945\n"
       ]
      }
     ],
     "prompt_number": 8
    },
    {
     "cell_type": "code",
     "collapsed": false,
     "input": [
      "X_TR = x_all[:,:]\n",
      "Y_TR = y_all[:]\n",
      "\n",
      "features = range(12)\n",
      "#features = [14,12,29,6,36,39,7,4,28,19,22,18,38,3, 32, 34, 13, 11]\n",
      "#features = [4,   7,   9,  12,  14,  15,  18,  21,  25,  26,  32, 33,  34,  36,  37,  38,  39]"
     ],
     "language": "python",
     "metadata": {},
     "outputs": [],
     "prompt_number": 9
    },
    {
     "cell_type": "code",
     "collapsed": false,
     "input": [
      "C_0 = 1.e+10\n",
      "g_0 = 0.11\n",
      "X0 = X_TR[0:1000, features]\n",
      "Y0 = Y_TR[0:1000]\n",
      "\n",
      "clf = svm.SVC(kernel='rbf', cache_size=1000, probability=True, C=10., gamma=0.0)\n",
      "clf.fit(X0, Y0)"
     ],
     "language": "python",
     "metadata": {},
     "outputs": [
      {
       "metadata": {},
       "output_type": "pyout",
       "prompt_number": 10,
       "text": [
        "SVC(C=10.0, cache_size=1000, class_weight=None, coef0=0.0, degree=3,\n",
        "  gamma=0.0, kernel='rbf', max_iter=-1, probability=True,\n",
        "  random_state=None, shrinking=True, tol=0.001, verbose=False)"
       ]
      }
     ],
     "prompt_number": 10
    },
    {
     "cell_type": "heading",
     "level": 4,
     "metadata": {},
     "source": [
      "TRAIN AND PREDICT"
     ]
    },
    {
     "cell_type": "code",
     "collapsed": false,
     "input": [
      "prob_1 = clf.predict_proba(X_TR[1000:, features])"
     ],
     "language": "python",
     "metadata": {},
     "outputs": [],
     "prompt_number": 11
    },
    {
     "cell_type": "code",
     "collapsed": false,
     "input": [
      "X1 = X0.copy()\n",
      "Y1 = Y0.copy()\n",
      "X_rest = np.zeros((1,x_all.shape[1]))\n",
      "\n",
      "\n",
      "count = 0.0\n",
      "for i in range(len(prob_1)):\n",
      "    y = np.argmax(prob_1[i,:])\n",
      "    p = np.max(prob_1[i,:])\n",
      "    record = X_TR[1000+i:1000+i+1,features]\n",
      "    if p>0.95:   ################################################ 99%\n",
      "        count += 1\n",
      "        X1 = np.append(X1, record, axis=0)\n",
      "        Y1 = np.append(Y1, y)\n",
      "    else:\n",
      "        X_rest = np.vstack([X_rest, record])\n",
      "X_rest = np.delete(X_rest, 0, 0)"
     ],
     "language": "python",
     "metadata": {},
     "outputs": [],
     "prompt_number": 13
    },
    {
     "cell_type": "code",
     "collapsed": false,
     "input": [
      "print 'remaining', X_rest.shape\n",
      "print 'total should be 10,000 ==', X_rest.shape[0]+X1.shape[0]\n",
      "print 'added to training', count"
     ],
     "language": "python",
     "metadata": {},
     "outputs": [
      {
       "output_type": "stream",
       "stream": "stdout",
       "text": [
        "remaining (2535, 12)\n",
        "total should be 10,000 == 10000\n",
        "added to training 6465.0\n"
       ]
      }
     ],
     "prompt_number": 14
    },
    {
     "cell_type": "heading",
     "level": 4,
     "metadata": {},
     "source": [
      "SECOND PASS - SVM"
     ]
    },
    {
     "cell_type": "code",
     "collapsed": false,
     "input": [
      "clf_1 = svm.SVC(kernel='rbf', cache_size=1000, probability=True, C=10000000., gamma=0.1)\n",
      "clf_1.fit(X1, Y1)"
     ],
     "language": "python",
     "metadata": {},
     "outputs": [
      {
       "metadata": {},
       "output_type": "pyout",
       "prompt_number": 15,
       "text": [
        "SVC(C=10000000.0, cache_size=1000, class_weight=None, coef0=0.0, degree=3,\n",
        "  gamma=0.1, kernel='rbf', max_iter=-1, probability=True,\n",
        "  random_state=None, shrinking=True, tol=0.001, verbose=False)"
       ]
      }
     ],
     "prompt_number": 15
    },
    {
     "cell_type": "code",
     "collapsed": false,
     "input": [
      "print clf.support_vectors_.shape\n",
      "print clf_1.support_vectors_.shape"
     ],
     "language": "python",
     "metadata": {},
     "outputs": [
      {
       "output_type": "stream",
       "stream": "stdout",
       "text": [
        "(273, 12)\n",
        "(387, 12)\n"
       ]
      }
     ],
     "prompt_number": 16
    },
    {
     "cell_type": "code",
     "collapsed": false,
     "input": [
      "prob_2 = clf_1.predict_proba(X_rest)"
     ],
     "language": "python",
     "metadata": {},
     "outputs": [],
     "prompt_number": 17
    },
    {
     "cell_type": "code",
     "collapsed": false,
     "input": [
      "X2 = X1.copy()\n",
      "Y2 = Y1.copy()\n",
      "\n",
      "X_rest_2 = np.zeros((1,x_all.shape[1]))\n",
      "\n",
      "count = 0.0\n",
      "for i in range(len(prob_2)):\n",
      "    y = np.argmax(prob_2[i,:])\n",
      "    p = np.max(prob_2[i,:])\n",
      "    record = X_rest[i:i+1,:]\n",
      "    if p>0.95:   ################################################ 95%\n",
      "        count += 1\n",
      "        X2 = np.append(X2, record, axis=0)\n",
      "        Y2 = np.append(Y2, y)\n",
      "    else:\n",
      "        X_rest_2 = np.vstack([X_rest_2, record])\n",
      "X_rest_2 = np.delete(X_rest_2, 0, 0)"
     ],
     "language": "python",
     "metadata": {},
     "outputs": [],
     "prompt_number": 18
    },
    {
     "cell_type": "code",
     "collapsed": false,
     "input": [
      "print 'remaining', X_rest_2.shape\n",
      "print 'total should be 10,000 ==', X_rest_2.shape[0]+X2.shape[0]\n",
      "print 'added to training', count"
     ],
     "language": "python",
     "metadata": {},
     "outputs": [
      {
       "output_type": "stream",
       "stream": "stdout",
       "text": [
        "remaining (1218, 12)\n",
        "total should be 10,000 == 10000\n",
        "added to training 1317.0\n"
       ]
      }
     ],
     "prompt_number": 19
    },
    {
     "cell_type": "code",
     "collapsed": false,
     "input": [
      "clf_2 = svm.SVC(kernel='rbf', cache_size=1000, probability=True, C=10000000., gamma=0.1)\n",
      "clf_2.fit(X2, Y2)"
     ],
     "language": "python",
     "metadata": {},
     "outputs": [
      {
       "metadata": {},
       "output_type": "pyout",
       "prompt_number": 20,
       "text": [
        "SVC(C=10000000.0, cache_size=1000, class_weight=None, coef0=0.0, degree=3,\n",
        "  gamma=0.1, kernel='rbf', max_iter=-1, probability=True,\n",
        "  random_state=None, shrinking=True, tol=0.001, verbose=False)"
       ]
      }
     ],
     "prompt_number": 20
    },
    {
     "cell_type": "code",
     "collapsed": false,
     "input": [
      "clf_2.support_vectors_.shape"
     ],
     "language": "python",
     "metadata": {},
     "outputs": [
      {
       "metadata": {},
       "output_type": "pyout",
       "prompt_number": 21,
       "text": [
        "(619, 12)"
       ]
      }
     ],
     "prompt_number": 21
    },
    {
     "cell_type": "heading",
     "level": 4,
     "metadata": {},
     "source": [
      "THIRD PASS - NEURAL NETWORK"
     ]
    },
    {
     "cell_type": "code",
     "collapsed": false,
     "input": [
      "from Neurotic import * "
     ],
     "language": "python",
     "metadata": {},
     "outputs": [],
     "prompt_number": 22
    },
    {
     "cell_type": "code",
     "collapsed": false,
     "input": [
      "from Neurotic import *\n",
      "def neuracc(thetas, x, y):\n",
      "    tot = y.shape[0]\n",
      "    count = 0.0\n",
      "    for i, truth in enumerate(y):\n",
      "        sol = h(thetas, layers, x[i])\n",
      "        if np.argmax(sol)== truth:\n",
      "            count +=1.\n",
      "    return 100.*count/tot"
     ],
     "language": "python",
     "metadata": {},
     "outputs": [],
     "prompt_number": 23
    },
    {
     "cell_type": "code",
     "collapsed": false,
     "input": [
      "def optimizeThetas(tinit, layers, x, y, lam, visual=True):\n",
      "    def f(w):\n",
      "        return j(w, layers, x, y, lam)\n",
      "    def fprime(w):\n",
      "        return v(w, layers, x, y, lam)\n",
      "    \n",
      "    [thetas, f, d] = fmin_l_bfgs_b(func=f, x0=tinit, fprime=fprime, maxiter=1000)\n",
      "    if visual:\n",
      "        print thetas[0:10]\n",
      "        print f\n",
      "        print d\n",
      "    return thetas"
     ],
     "language": "python",
     "metadata": {},
     "outputs": [],
     "prompt_number": 24
    },
    {
     "cell_type": "code",
     "collapsed": false,
     "input": [
      "X2.shape"
     ],
     "language": "python",
     "metadata": {},
     "outputs": [
      {
       "metadata": {},
       "output_type": "pyout",
       "prompt_number": 25,
       "text": [
        "(8782, 12)"
       ]
      }
     ],
     "prompt_number": 25
    },
    {
     "cell_type": "code",
     "collapsed": false,
     "input": [
      "X3 = X2.copy()\n",
      "Y3 = Y2.copy()\n",
      "\n",
      "M, nodes = X3.shape\n",
      "Y3 = np.atleast_2d(Y3).T\n",
      "\n",
      "lala = 0.1\n",
      "layers = [2*nodes, 2]\n",
      "\n",
      "tinit = np.hstack([randomize_thetas(2*nodes,nodes).flatten(), randomize_thetas(2,2*nodes).flatten()])\n",
      "ot = optimizeThetas(tinit, layers, X3, Y3, lala)"
     ],
     "language": "python",
     "metadata": {},
     "outputs": [
      {
       "output_type": "stream",
       "stream": "stdout",
       "text": [
        "[-2.06110176  0.41606627  1.9407396  -0.61319165  0.77918886  2.40691742\n",
        " -1.86583393  0.02860096 -0.89391432 -0.26001052]\n",
        "0.0207493961002\n",
        "{'warnflag': 0, 'task': 'CONVERGENCE: NORM_OF_PROJECTED_GRADIENT_<=_PGTOL', 'grad': array([  2.43686935e-06,   3.26309309e-06,   6.33436737e-06,\n",
        "        -1.02256815e-06,   5.03032735e-06,   8.98246266e-08,\n",
        "        -3.77895986e-06,   1.24617571e-06,  -8.83776413e-07,\n",
        "        -2.44682759e-06,   7.97720261e-06,  -1.23895260e-06,\n",
        "        -3.03277296e-08,  -1.60993639e-06,  -2.11858636e-06,\n",
        "        -2.67059669e-07,   1.96489445e-06,  -4.58664937e-07,\n",
        "         1.89808394e-07,   1.91086601e-06,  -7.95202728e-07,\n",
        "        -2.38520421e-06,   7.90817889e-07,   3.95659454e-06,\n",
        "         4.77782838e-06,  -1.14750348e-06,   3.92212029e-06,\n",
        "         1.81336960e-07,   1.61893093e-06,  -4.26837086e-06,\n",
        "         3.04787201e-06,  -2.50875834e-06,   9.18360987e-07,\n",
        "        -7.14961184e-08,   1.65202588e-06,   1.65435162e-06,\n",
        "        -5.23134273e-06,  -1.02636741e-06,  -1.43236434e-06,\n",
        "         2.73436794e-06,  -6.17741724e-07,  -2.86662567e-06,\n",
        "         2.54839425e-06,  -1.39246890e-06,   2.85517452e-06,\n",
        "         8.85317309e-07,   2.15298073e-06,  -3.30906108e-06,\n",
        "         5.69672995e-06,  -7.36465962e-06,  -4.77023352e-06,\n",
        "         4.16432579e-06,   3.00591530e-06,   2.62067210e-06,\n",
        "         1.26427554e-06,  -4.48479483e-06,  -2.03592075e-07,\n",
        "        -3.96631030e-06,  -3.37451260e-06,   3.22263084e-06,\n",
        "         4.38260061e-06,  -5.38043324e-06,   2.56088697e-06,\n",
        "        -2.12634391e-06,  -2.10519122e-06,   6.89680552e-06,\n",
        "        -8.21819297e-07,  -4.08046852e-06,  -7.11562834e-06,\n",
        "        -4.08339270e-06,  -3.54725207e-06,   2.93763074e-06,\n",
        "         4.66747489e-06,   3.44461674e-07,  -6.75153532e-06,\n",
        "         4.36442790e-06,   4.21042185e-06,  -3.06570442e-06,\n",
        "        -3.70612837e-06,  -2.18538832e-07,  -8.99829294e-06,\n",
        "         1.08841360e-06,   5.85481836e-07,   7.06920830e-06,\n",
        "         6.03479804e-06,   1.97027209e-06,  -9.48926758e-06,\n",
        "         7.20621438e-06,  -5.51064626e-07,  -1.06046645e-07,\n",
        "         2.45281595e-06,   1.81828813e-06,   6.13404400e-07,\n",
        "        -5.04248399e-06,  -4.47892038e-06,  -2.72306478e-06,\n",
        "        -3.45304010e-06,  -1.74832023e-06,  -3.23369471e-06,\n",
        "         2.87263122e-06,  -3.50825923e-07,  -1.29623188e-06,\n",
        "         2.63650460e-06,  -1.83537876e-06,  -1.71207972e-06,\n",
        "        -1.14470216e-06,   5.43493513e-06,  -2.86556926e-06,\n",
        "        -3.31771632e-06,   4.41760864e-06,   1.47702219e-06,\n",
        "        -2.57235136e-06,  -3.13134251e-06,   2.05173420e-06,\n",
        "        -1.79017436e-06,  -4.29308027e-06,  -6.89234253e-06,\n",
        "         2.02562866e-06,  -4.98956658e-06,  -7.97260956e-08,\n",
        "        -3.01050771e-06,   1.94537445e-06,   4.16816176e-06,\n",
        "         9.87052004e-09,   4.84418618e-06,   3.75741194e-06,\n",
        "        -8.85848573e-07,   1.80787428e-06,   3.63685467e-06,\n",
        "        -3.73271937e-06,   5.27683487e-07,  -1.71542108e-06,\n",
        "         3.37916349e-06,  -2.97388869e-06,  -2.61192131e-06,\n",
        "         3.03770002e-06,  -5.81477425e-06,   6.75989656e-07,\n",
        "         6.86469585e-06,   1.94582045e-06,   3.73181081e-06,\n",
        "         7.50036567e-07,   1.47631528e-06,  -4.50367763e-06,\n",
        "        -3.35025091e-06,  -3.21667538e-06,   1.46355056e-06,\n",
        "         7.51565359e-07,   1.06808037e-07,   9.69201278e-07,\n",
        "        -3.95763438e-06,  -6.32414303e-06,   1.42426896e-06,\n",
        "        -2.79112912e-06,   3.61153512e-06,   2.74022165e-06,\n",
        "         1.04340290e-06,  -4.32451501e-06,   4.25101284e-06,\n",
        "        -6.58152259e-06,  -5.39449455e-09,   2.40305542e-06,\n",
        "        -1.52227234e-06,  -2.39030368e-06,  -4.76444216e-06,\n",
        "        -4.45602403e-06,  -4.41953691e-06,  -2.77551891e-06,\n",
        "        -3.45569608e-06,  -2.35765050e-06,   3.90804704e-07,\n",
        "         2.73106554e-06,   4.44312477e-06,   3.47979997e-06,\n",
        "         2.39137991e-06,  -2.68353972e-06,  -1.98808175e-06,\n",
        "         3.47923966e-06,  -6.81958151e-06,  -2.02812973e-06,\n",
        "        -3.52787785e-07,   9.42479348e-06,   2.17505893e-06,\n",
        "         2.99182349e-06,   4.59348248e-06,   1.98107698e-06,\n",
        "        -2.64790602e-06,  -2.94728178e-06,  -1.05603291e-06,\n",
        "        -2.04974555e-06,  -1.88395125e-06,   1.35618936e-06,\n",
        "         4.10190282e-06,  -5.45165543e-07,  -3.43939529e-06,\n",
        "         3.80770979e-07,   2.49983834e-06,   3.72928451e-06,\n",
        "         3.28074545e-06,   1.59633661e-06,   1.61928877e-06,\n",
        "         1.21462422e-06,   2.72627998e-06,   4.79609293e-06,\n",
        "        -1.44310077e-06,  -1.91014664e-06,   9.94445246e-07,\n",
        "         8.07842202e-07,  -9.53830119e-06,   3.59546710e-06,\n",
        "         6.00371204e-07,   6.37095148e-06,   1.20464592e-06,\n",
        "        -2.49219078e-06,   7.88241981e-07,   1.62552423e-06,\n",
        "         3.99009182e-06,   3.87422862e-06,  -4.36064914e-06,\n",
        "        -2.52362144e-06,   6.61554860e-07,   1.52997627e-06,\n",
        "         4.16712547e-06,   5.60072275e-06,  -6.58752032e-06,\n",
        "         1.59098749e-06,   3.81136363e-06,  -1.23659388e-06,\n",
        "        -1.43391735e-06,  -7.59056946e-06,  -5.92341216e-06,\n",
        "         3.35943693e-06,   9.23433577e-08,  -2.48217328e-06,\n",
        "        -7.25915367e-06,   2.62505442e-06,  -2.10351179e-06,\n",
        "         7.80282694e-06,  -1.56654429e-06,  -1.07913190e-06,\n",
        "         8.56495082e-07,  -3.48863953e-06,  -2.15615952e-06,\n",
        "         4.05584606e-06,   2.82699482e-06,  -3.80009118e-06,\n",
        "        -2.58513405e-06,  -5.04697591e-06,   2.81840619e-06,\n",
        "         1.45360064e-06,   5.93532335e-06,   4.00863877e-06,\n",
        "         1.31187857e-06,   1.19483433e-06,   2.54884138e-06,\n",
        "         2.33517118e-07,   1.20661419e-06,  -2.37590361e-06,\n",
        "        -8.15589272e-07,   3.87681273e-06,  -3.13134009e-06,\n",
        "        -4.33899646e-06,  -1.65077435e-06,   8.26860346e-06,\n",
        "         3.61711904e-06,  -4.00891614e-06,  -2.40997547e-07,\n",
        "         7.51343948e-06,  -4.84488890e-06,   4.73878779e-06,\n",
        "        -1.33195674e-06,  -1.53055476e-06,   1.30551661e-06,\n",
        "        -2.29318496e-06,  -2.52905414e-06,   1.74371585e-06,\n",
        "         2.46211090e-06,   5.43673249e-06,  -5.80153381e-08,\n",
        "         3.96147801e-06,  -1.29269469e-06,  -6.56474317e-07,\n",
        "         4.39069251e-06,  -1.93051176e-06,   2.43860400e-06,\n",
        "         4.55154749e-06,   3.82792720e-06,   3.77202108e-06,\n",
        "         3.26465699e-06,   3.69064995e-06,  -1.77686131e-07,\n",
        "         3.03613368e-06,   3.93257491e-06,   9.87702318e-07,\n",
        "        -8.17745733e-08,   4.36514400e-06,   2.26580215e-06,\n",
        "        -1.63363682e-06,   2.78085052e-06,   6.89900300e-06,\n",
        "         2.47712365e-06,   6.48278337e-06,  -8.36249398e-06,\n",
        "        -4.88438954e-06,  -6.17517776e-06,  -1.99310010e-06,\n",
        "         1.03073335e-06,   5.29904358e-06,  -6.81830503e-06,\n",
        "         8.76969450e-07,   2.39315860e-06,  -2.33789923e-06,\n",
        "         2.22060484e-06,   2.43583412e-07,   1.24061922e-07,\n",
        "        -1.04532700e-06,   5.65516463e-06,   3.39249025e-07,\n",
        "         3.68928719e-06,   4.05306200e-06,  -1.16262092e-06,\n",
        "         7.39826527e-07,   2.08343307e-06,   5.28613184e-06,\n",
        "        -1.99801610e-06,   7.47705334e-07,   2.69860205e-06,\n",
        "         5.92849444e-06,   3.45120654e-06,   4.15763599e-06,\n",
        "         2.88027754e-06,   1.73950129e-07,  -3.99687631e-07,\n",
        "         4.32737642e-07,   3.28721349e-06,   1.00273573e-07,\n",
        "        -2.15447802e-06,  -2.31711116e-06,  -4.11011281e-07,\n",
        "        -1.89144247e-07,   1.03732010e-06,  -5.79227760e-06,\n",
        "        -4.23564288e-07,  -3.85877111e-06,  -3.97935555e-06,\n",
        "         1.47447558e-06,  -5.16885541e-07,  -2.08608977e-06,\n",
        "        -5.40678062e-06,   2.00570805e-06,  -4.19153504e-07,\n",
        "        -2.97581437e-06,  -5.88393441e-06,  -3.64449813e-06,\n",
        "        -4.26209205e-06,  -2.93234331e-06,  -7.07688084e-08,\n",
        "         4.57927619e-07,  -4.15587218e-07,  -3.52241258e-06,\n",
        "         1.50381676e-07,   2.03295950e-06]), 'nit': 489, 'funcalls': 515}\n"
       ]
      }
     ],
     "prompt_number": 27
    },
    {
     "cell_type": "code",
     "collapsed": false,
     "input": [
      "## NN\n",
      "NN = np.zeros((9000, 2))\n",
      "for i, record in enumerate(x_all[1000:,features]):\n",
      "    NN[i,0] = np.argmax(h(ot, layers, record))\n",
      "    NN[i,1] = np.max(h(ot, layers, record))\n",
      "\n",
      "# from previous and last SVM\n",
      "a = clf_2.predict(x_all[1000:,features])\n",
      "b = clf_2.predict_proba(x_all[1000:,features])\n",
      "\n",
      "changed_from_svm_to_nn = 0\n",
      "to_sumbit = np.zeros((9000,2))\n",
      "for i in range(9000):\n",
      "    p = int(a[i])\n",
      "    nn = int(NN[i,0])\n",
      "    if p!=nn:\n",
      "        if b[i, p]<NN[i,1]:\n",
      "            changed_from_svm_to_nn += 1\n",
      "            p = nn\n",
      "    to_sumbit[i,0] = int(i+1)\n",
      "    to_sumbit[i,1] = int(p)\n",
      "\n",
      "\n",
      "print 'changed_from_svm_to_nn', changed_from_svm_to_nn\n",
      "print to_sumbit[0:10,:]\n",
      "np.savetxt('./predictions_svm_nn.csv', to_sumbit, fmt='%i,%i')"
     ],
     "language": "python",
     "metadata": {},
     "outputs": [
      {
       "output_type": "stream",
       "stream": "stdout",
       "text": [
        "changed_from_svm_to_nn 166\n",
        "[[  1.   1.]\n",
        " [  2.   0.]\n",
        " [  3.   1.]\n",
        " [  4.   0.]\n",
        " [  5.   0.]\n",
        " [  6.   0.]\n",
        " [  7.   0.]\n",
        " [  8.   1.]\n",
        " [  9.   0.]\n",
        " [ 10.   0.]]\n"
       ]
      }
     ],
     "prompt_number": 30
    },
    {
     "cell_type": "code",
     "collapsed": false,
     "input": [
      "NN[0:10]"
     ],
     "language": "python",
     "metadata": {},
     "outputs": []
    },
    {
     "cell_type": "code",
     "collapsed": false,
     "input": [],
     "language": "python",
     "metadata": {},
     "outputs": []
    },
    {
     "cell_type": "code",
     "collapsed": false,
     "input": [],
     "language": "python",
     "metadata": {},
     "outputs": []
    }
   ],
   "metadata": {}
  }
 ]
}