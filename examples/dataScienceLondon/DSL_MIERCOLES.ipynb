{
 "metadata": {
  "name": ""
 },
 "nbformat": 3,
 "nbformat_minor": 0,
 "worksheets": [
  {
   "cells": [
    {
     "cell_type": "code",
     "collapsed": false,
     "input": [
      "%cd '~/Dropbox/fjs6/Journal/ideolog/Dimwit/examples/dataScienceLondon/data/'"
     ],
     "language": "python",
     "metadata": {},
     "outputs": [
      {
       "output_type": "stream",
       "stream": "stdout",
       "text": [
        "/Users/fjs6/Dropbox/fjs6/Journal/ideolog/Dimwit/examples/dataScienceLondon/data\n"
       ]
      }
     ],
     "prompt_number": 79
    },
    {
     "cell_type": "code",
     "collapsed": false,
     "input": [
      "import numpy as np\n",
      "from pandas import *\n",
      "import pandas\n",
      "import math\n",
      "import random\n",
      "from sklearn import preprocessing\n",
      "from sklearn import svm\n",
      "from sklearn.svm import SVC\n",
      "from sklearn.cross_validation import StratifiedKFold\n",
      "from sklearn.grid_search import GridSearchCV\n",
      "from sklearn.decomposition import PCA\n",
      "\n",
      "import sys\n",
      "sys.path.append('/Users/fjs6/Dropbox/fjs6/Journal/ideolog/Dimwit')\n"
     ],
     "language": "python",
     "metadata": {},
     "outputs": [],
     "prompt_number": 80
    },
    {
     "cell_type": "code",
     "collapsed": false,
     "input": [
      "tr_data = read_csv('train.csv', header=None)\n",
      "test_data = read_csv('test.csv', header=None)\n",
      "data = concat([tr_data, test_data], ignore_index=True)"
     ],
     "language": "python",
     "metadata": {},
     "outputs": [],
     "prompt_number": 81
    },
    {
     "cell_type": "code",
     "collapsed": false,
     "input": [
      "gt_data = read_csv('trainLabels.csv', header=None)\n",
      "gt_data =np.vstack([gt_data, np.ones((data.shape[0]-gt_data.shape[0],1))*-1])"
     ],
     "language": "python",
     "metadata": {},
     "outputs": [],
     "prompt_number": 82
    },
    {
     "cell_type": "code",
     "collapsed": false,
     "input": [
      "data.shape"
     ],
     "language": "python",
     "metadata": {},
     "outputs": [
      {
       "metadata": {},
       "output_type": "pyout",
       "prompt_number": 83,
       "text": [
        "(10000, 40)"
       ]
      }
     ],
     "prompt_number": 83
    },
    {
     "cell_type": "code",
     "collapsed": false,
     "input": [
      "def heatmap(grid, C_range, g_range):\n",
      "    print(\"The best classifier is: \", grid.best_estimator_)\n",
      "    print 'best score', grid.best_score_\n",
      "    score_dict = grid.grid_scores_\n",
      "    scores = [x[1] for x in score_dict]\n",
      "    scores = np.array(scores).reshape(len(C_range), len(g_range))\n",
      "\n",
      "    plt.figure(figsize=(8, 6))\n",
      "    plt.subplots_adjust(left=0.05, right=0.95, bottom=0.15, top=0.95)\n",
      "    plt.imshow(scores, interpolation='nearest', cmap=plt.cm.spectral)\n",
      "    plt.xlabel('g')\n",
      "    plt.ylabel('C')\n",
      "    plt.colorbar()\n",
      "    plt.xticks(np.arange(len(g_range)), g_range, rotation=45)\n",
      "    plt.yticks(np.arange(len(C_range)), C_range)\n",
      "    plt.show()"
     ],
     "language": "python",
     "metadata": {},
     "outputs": [],
     "prompt_number": 84
    },
    {
     "cell_type": "code",
     "collapsed": false,
     "input": [
      "def laundromat(model, Whole, max_acc, PCUT = 0.9999):\n",
      "    \n",
      "    # extract data from x. First column is the Y label\n",
      "    D = Whole[Whole[:,0]>=0]\n",
      "    X = D[:,1:]\n",
      "    Y = D[:,0]\n",
      "    M = Whole.shape[0]\n",
      "    \n",
      "    # train\n",
      "    model.fit(X, Y)\n",
      "    \n",
      "    # evaluate\n",
      "    p = model.predict(x_all[0:limit_cv,:])\n",
      "    count = 0.0\n",
      "    M_CV = len(y_all[0:limit_cv])\n",
      "    for i in range(M_CV):\n",
      "        if p[i]==y_all[0:limit_cv][i]:\n",
      "            count+=1\n",
      "    acc = 100*count/M_CV\n",
      "    print 'score on CV', acc, 'support vectors', model.support_vectors_.shape[0]\n",
      "    if acc < max_acc:\n",
      "        return [Whole, max_acc, True]\n",
      "    \n",
      "    # go deeper\n",
      "    for i in range(M):\n",
      "        Yrec = Whole[i,0]\n",
      "        Xrec = Whole[i,1:]\n",
      "        if Yrec==-1:\n",
      "            prob = model.predict_proba(Xrec)\n",
      "            label = np.argmax(prob)\n",
      "            p = np.max(prob[0,:])\n",
      "            if p > PCUT:\n",
      "                Whole[i,0] = label\n",
      "    return [Whole, acc, False]\n"
     ],
     "language": "python",
     "metadata": {},
     "outputs": [],
     "prompt_number": 85
    },
    {
     "cell_type": "heading",
     "level": 4,
     "metadata": {},
     "source": [
      "Preselecting features"
     ]
    },
    {
     "cell_type": "code",
     "collapsed": false,
     "input": [
      "#features = list([3, 5, 6, 7, 12, 14, 15, 16, 18, 20, 23, 25, 28, 29, 30, 32, 34, 36, 38, 39]) # from 955\n",
      "features = [14,12,29,6,36,39,7,4,28,19,22,18,38,3, 32, 34, 13] # from 95827\n",
      "\n",
      "x_all = np.array(data.ix[:,features])\n",
      "y_all = gt_data.astype('int8').copy()"
     ],
     "language": "python",
     "metadata": {},
     "outputs": [],
     "prompt_number": 86
    },
    {
     "cell_type": "heading",
     "level": 4,
     "metadata": {},
     "source": [
      "PCA to 12 dimmensions"
     ]
    },
    {
     "cell_type": "code",
     "collapsed": false,
     "input": [
      "from sklearn.decomposition import RandomizedPCA\n",
      "pca = RandomizedPCA(n_components=12, whiten=True)\n",
      "pca.fit(x_all)\n",
      "x_all = pca.transform(x_all)"
     ],
     "language": "python",
     "metadata": {},
     "outputs": [],
     "prompt_number": 87
    },
    {
     "cell_type": "heading",
     "level": 4,
     "metadata": {},
     "source": [
      "Dividing initial training data to create mini cross validation set"
     ]
    },
    {
     "cell_type": "code",
     "collapsed": false,
     "input": [
      "limit_cv = 300\n",
      "Whole_Training = np.hstack([y_all[limit_cv:], x_all[limit_cv:,:]])\n",
      "Whole_CV = np.hstack([y_all[0:limit_cv], x_all[0:limit_cv,:]])"
     ],
     "language": "python",
     "metadata": {},
     "outputs": [],
     "prompt_number": 88
    },
    {
     "cell_type": "heading",
     "level": 4,
     "metadata": {},
     "source": [
      "Optimizing hyperparams on initial training set"
     ]
    },
    {
     "cell_type": "raw",
     "metadata": {},
     "source": [
      "C_range = [0.01, 0.1, 1., 10., 100.]\n",
      "g_range = np.arange(0.1, .6, 0.1)\n",
      "#g_range = [1.]\n",
      "limit_tr = 1000-limit_cv\n",
      "\n",
      "param_grid = dict(gamma=g_range, C=C_range)\n",
      "clfo = svm.SVC(kernel='rbf', cache_size=1000, probability=True)\n",
      "\n",
      "cv = StratifiedKFold(Y_TR[0:limit_tr], n_folds=3)\n",
      "grid = GridSearchCV(clfo, param_grid=param_grid, cv=cv, verbose=5)\n",
      "\n",
      "grid.fit(X_TR[0:limit_tr,:], Y_TR[0:limit_tr])\n",
      "print(\"The best classifier is: \", grid.best_estimator_)\n",
      "print 'best score', grid.best_score_\n",
      "score_dict = grid.grid_scores_\n",
      "scores = [x[1] for x in score_dict]\n",
      "scores = np.array(scores).reshape(len(C_range), len(g_range))\n",
      "\n",
      "plt.figure(figsize=(8, 6))\n",
      "plt.subplots_adjust(left=0.05, right=0.95, bottom=0.15, top=0.95)\n",
      "plt.imshow(scores, interpolation='nearest', cmap=plt.cm.spectral)\n",
      "plt.xlabel('g')\n",
      "plt.ylabel('C')\n",
      "plt.colorbar()\n",
      "plt.xticks(np.arange(len(g_range)), g_range, rotation=45)\n",
      "plt.yticks(np.arange(len(C_range)), C_range)\n",
      "plt.show()"
     ]
    },
    {
     "cell_type": "heading",
     "level": 4,
     "metadata": {},
     "source": [
      "SVM Recursive to inflate new training set"
     ]
    },
    {
     "cell_type": "code",
     "collapsed": false,
     "input": [
      "clf = svm.SVC(kernel='rbf', cache_size=1000, probability=True, C=10000000., gamma=0.22)\n",
      "limit_tr = 1000-limit_cv\n",
      "[Z, acc, fu] = laundromat(clf, Whole_Training, 0.0, PCUT = 0.9999)"
     ],
     "language": "python",
     "metadata": {},
     "outputs": [
      {
       "output_type": "stream",
       "stream": "stdout",
       "text": [
        "score on CV 95.0 support vectors 476\n"
       ]
      }
     ],
     "prompt_number": 89
    },
    {
     "cell_type": "code",
     "collapsed": false,
     "input": [
      "Z[Z[:,0]==-1].shape"
     ],
     "language": "python",
     "metadata": {},
     "outputs": [
      {
       "metadata": {},
       "output_type": "pyout",
       "prompt_number": 90,
       "text": [
        "(8106, 13)"
       ]
      }
     ],
     "prompt_number": 90
    },
    {
     "cell_type": "code",
     "collapsed": false,
     "input": [
      "clf = svm.SVC(kernel='rbf', cache_size=1000, probability=True, C=10000000., gamma=0.275)\n",
      "fu = False\n",
      "acc = 0.9\n",
      "while fu == False:\n",
      "    [Z, acc, fu] = laundromat(clf, Z, acc, PCUT = 0.99)\n",
      "    print 'C',Z[Z[:,0]==-1].shape"
     ],
     "language": "python",
     "metadata": {},
     "outputs": [
      {
       "output_type": "stream",
       "stream": "stdout",
       "text": [
        "score on CV 96.0 support vectors 1311\n",
        "C"
       ]
      },
      {
       "output_type": "stream",
       "stream": "stdout",
       "text": [
        " (3432, 13)\n",
        "score on CV"
       ]
      },
      {
       "output_type": "stream",
       "stream": "stdout",
       "text": [
        " 96.0 support vectors 1650\n",
        "C"
       ]
      },
      {
       "output_type": "stream",
       "stream": "stdout",
       "text": [
        " (2505, 13)\n",
        "score on CV"
       ]
      },
      {
       "output_type": "stream",
       "stream": "stdout",
       "text": [
        " 96.0 support vectors 1866\n",
        "C"
       ]
      },
      {
       "output_type": "stream",
       "stream": "stdout",
       "text": [
        " (1973, 13)\n",
        "score on CV"
       ]
      },
      {
       "output_type": "stream",
       "stream": "stdout",
       "text": [
        " 96.6666666667 support vectors 2037\n",
        "C"
       ]
      },
      {
       "output_type": "stream",
       "stream": "stdout",
       "text": [
        " (1717, 13)\n",
        "score on CV"
       ]
      },
      {
       "output_type": "stream",
       "stream": "stdout",
       "text": [
        " 97.0 support vectors 2144\n",
        "C"
       ]
      },
      {
       "output_type": "stream",
       "stream": "stdout",
       "text": [
        " (1613, 13)\n",
        "score on CV"
       ]
      },
      {
       "output_type": "stream",
       "stream": "stdout",
       "text": [
        " 97.0 support vectors 2184\n",
        "C"
       ]
      },
      {
       "output_type": "stream",
       "stream": "stdout",
       "text": [
        " (1511, 13)\n",
        "score on CV"
       ]
      },
      {
       "output_type": "stream",
       "stream": "stdout",
       "text": [
        " 97.0 support vectors 2237\n",
        "C"
       ]
      },
      {
       "output_type": "stream",
       "stream": "stdout",
       "text": [
        " (1432, 13)\n",
        "score on CV"
       ]
      },
      {
       "output_type": "stream",
       "stream": "stdout",
       "text": [
        " 97.3333333333 support vectors 2258\n",
        "C"
       ]
      },
      {
       "output_type": "stream",
       "stream": "stdout",
       "text": [
        " (1371, 13)\n",
        "score on CV"
       ]
      },
      {
       "output_type": "stream",
       "stream": "stdout",
       "text": [
        " 97.0 support vectors 2263\n",
        "C (1371, 13)\n"
       ]
      }
     ],
     "prompt_number": 95
    },
    {
     "cell_type": "code",
     "collapsed": false,
     "input": [
      "print 'accuracy', acc\n",
      "print 'support v', clf.support_vectors_.shape[0]\n",
      "print(classification_report(y_all[0:300], clf.predict(x_all[0:300,:])))"
     ],
     "language": "python",
     "metadata": {},
     "outputs": [
      {
       "output_type": "stream",
       "stream": "stdout",
       "text": [
        "accuracy 97.3333333333\n",
        "support v 2263\n",
        "             precision    recall  f1-score   support\n",
        "\n",
        "          0       0.97      0.97      0.97       149\n",
        "          1       0.97      0.97      0.97       151\n",
        "\n",
        "avg / total       0.97      0.97      0.97       300\n",
        "\n"
       ]
      }
     ],
     "prompt_number": 104
    },
    {
     "cell_type": "heading",
     "level": 3,
     "metadata": {},
     "source": [
      "Reconfigure training data to include ALL features"
     ]
    },
    {
     "cell_type": "code",
     "collapsed": false,
     "input": [
      "all_x.shape"
     ],
     "language": "python",
     "metadata": {},
     "outputs": [
      {
       "metadata": {},
       "output_type": "pyout",
       "prompt_number": 98,
       "text": [
        "(9053, 40)"
       ]
      }
     ],
     "prompt_number": 98
    },
    {
     "cell_type": "code",
     "collapsed": false,
     "input": [
      "to_submit_svm = np.hstack([np.atleast_2d(np.arange(1,9001)).T, np.atleast_2d(clf.predict(x_all[1000:,:])).T])\n",
      "\n",
      "print 'To submitt add header: Id,Solution'\n",
      "print to_submit_svm[0:10,:]\n",
      "np.savetxt('./predictions_play_wednesday_svm2.csv', to_submit_svm, fmt='%i,%i')"
     ],
     "language": "python",
     "metadata": {},
     "outputs": [
      {
       "output_type": "stream",
       "stream": "stdout",
       "text": [
        "To submitt add header: Id,Solution\n",
        "[[  1.   1.]\n",
        " [  2.   0.]\n",
        " [  3.   1.]\n",
        " [  4.   0.]\n",
        " [  5.   0.]\n",
        " [  6.   0.]\n",
        " [  7.   0.]\n",
        " [  8.   1.]\n",
        " [  9.   0.]\n",
        " [ 10.   0.]]\n"
       ]
      }
     ],
     "prompt_number": 99
    },
    {
     "cell_type": "code",
     "collapsed": false,
     "input": [
      "tryThis = list([3, 5, 6, 7, 12, 14, 15, 16, 18, 20, 23, 25, 28, 29, 30, 32, 34, 36, 38, 39]) \n",
      "\n",
      "my_model = svm.SVC(kernel='rbf', cache_size=1000, probability=True, C=10000000, gamma = 0.3)\n",
      "my_model.fit(all_x[300:,:], all_y[300:])\n",
      "\n",
      "from sklearn.metrics import *  \n",
      "aa=my_model.predict(all_x[0:300,:])\n",
      "print(classification_report(all_y[0:300], aa))"
     ],
     "language": "python",
     "metadata": {},
     "outputs": [
      {
       "output_type": "stream",
       "stream": "stdout",
       "text": [
        "             precision    recall  f1-score   support\n",
        "\n",
        "        0.0       0.00      0.00      0.00       142\n",
        "        1.0       0.53      1.00      0.69       158\n",
        "\n",
        "avg / total       0.28      0.53      0.36       300\n",
        "\n"
       ]
      },
      {
       "output_type": "stream",
       "stream": "stderr",
       "text": [
        "//anaconda/python.app/Contents/lib/python2.7/site-packages/sklearn/metrics/metrics.py:1905: UserWarning: The sum of true positives and false positives are equal to zero for some labels. Precision is ill defined for those labels [ 0.]. The precision and recall are equal to zero for some labels. fbeta_score is ill defined for those labels [ 0.]. \n",
        "  average=None)\n"
       ]
      }
     ],
     "prompt_number": 102
    },
    {
     "cell_type": "heading",
     "level": 4,
     "metadata": {},
     "source": [
      "NN on new training set"
     ]
    },
    {
     "cell_type": "code",
     "collapsed": false,
     "input": [
      "from Neurotic import *\n",
      "def neuracc(thetas, x, y):\n",
      "    tot = y.shape[0]\n",
      "    count = 0.0\n",
      "    for i, truth in enumerate(y):\n",
      "        sol = h(thetas, layers, x[i])\n",
      "        if np.argmax(sol)== truth:\n",
      "            count +=1.\n",
      "    return 100.*count/tot\n",
      "\n",
      "def optimizeThetas(tinit, layers, x, y, lam, visual=True):\n",
      "    def f(w):\n",
      "        return j(w, layers, x, y, lam)\n",
      "    def fprime(w):\n",
      "        return v(w, layers, x, y, lam)\n",
      "    \n",
      "    [thetas, f, d] = fmin_l_bfgs_b(func=f, x0=tinit, fprime=fprime, maxiter=1000)\n",
      "    if visual:\n",
      "        print thetas[0:10]\n",
      "        print f\n",
      "        print d\n",
      "    return thetas"
     ],
     "language": "python",
     "metadata": {},
     "outputs": [],
     "prompt_number": 105
    },
    {
     "cell_type": "code",
     "collapsed": false,
     "input": [
      "nodes = all_x.shape[1]\n",
      "\n",
      "#layers = [nodes, nodes, 2]\n",
      "#tinit = np.hstack([randomize_thetas(nodes,nodes).flatten(), randomize_thetas(nodes,nodes).flatten(), randomize_thetas(2,nodes).flatten()])\n",
      "\n",
      "layers = [12, 2]\n",
      "tinit = np.hstack([randomize_thetas(12,nodes).flatten(), randomize_thetas(2,12).flatten()])\n",
      "\n",
      "opt_score, opt_lala, opt_ot = 0.0, 0.0, None\n",
      "for lala in [1., 10., 100., 1000.]:\n",
      "#for lala in [1e-05]:\n",
      "#for lala in [1.e-10, 1.]:\n",
      "    ot = optimizeThetas(tinit, layers, all_x[300:,:], np.atleast_2d(all_y[300:]).T, lala)\n",
      "    \n",
      "    new_acc = neuracc(ot, all_x[0:300,:], np.atleast_2d(all_y[0:300]).T)\n",
      "    print 'lala', lala, new_acc\n",
      "    if new_acc > opt_score:\n",
      "        opt_score = new_acc\n",
      "        opt_lala = lala\n",
      "        opt_ot = ot\n",
      "\n",
      "print '_______________BEST SCORE:', opt_score\n",
      "print 'best lambda:', opt_lala"
     ],
     "language": "python",
     "metadata": {},
     "outputs": [
      {
       "output_type": "stream",
       "stream": "stdout",
       "text": [
        "[ 1.0236139   0.41785612  1.51335008 -0.57955819 -0.7237184   1.93118021\n",
        " -0.05618436  0.73401522  0.90498596 -0.37969498]\n",
        "1.26365197017\n",
        "{'warnflag': 1, 'task': 'STOP: TOTAL NO. of ITERATIONS EXCEEDS LIMIT', 'grad': array([  2.91583280e-06,   1.69002553e-07,   3.31159436e-06,\n",
        "         1.98648006e-06,   1.32663896e-06,  -3.86478148e-06,\n",
        "        -2.32894808e-06,   2.45104896e-06,   1.56233100e-06,\n",
        "        -5.55549185e-06,  -1.47511856e-06,   2.36084786e-06,\n",
        "         2.71886799e-06,   6.71534601e-06,   5.50558378e-07,\n",
        "         4.05030518e-06,   2.03710421e-06,  -1.36588443e-06,\n",
        "        -2.18564453e-07,  -1.08564693e-07,  -3.54913644e-07,\n",
        "        -1.29607319e-06,  -9.24938129e-07,  -2.60248202e-06,\n",
        "        -9.40921844e-06,   1.87577283e-07,  -4.92362962e-07,\n",
        "         4.83964933e-06,   7.72361526e-07,  -1.78494680e-06,\n",
        "        -2.05267140e-06,   2.54493450e-07,   3.02478966e-06,\n",
        "         1.58015294e-06,   2.56774114e-06,   1.77923385e-06,\n",
        "         1.84758030e-06,  -1.06744910e-05,  -1.05934558e-06,\n",
        "        -9.87591053e-07,  -3.24674090e-06,   1.82611845e-06,\n",
        "        -4.97290446e-07,   1.60705824e-06,   2.09973315e-06,\n",
        "        -2.68522233e-06,   1.35014207e-05,  -7.87167270e-07,\n",
        "         4.09757472e-06,   7.23505179e-07,   1.49956771e-06,\n",
        "        -2.27960356e-06,   2.43361261e-06,  -1.12199297e-06,\n",
        "        -9.25527728e-06,   2.15928072e-06,   2.74252503e-06,\n",
        "         4.05894354e-07,  -3.76508068e-06,   3.20054799e-06,\n",
        "         4.50299275e-06,   6.73450538e-07,   4.80194294e-06,\n",
        "        -7.36296739e-07,   2.82107624e-06,  -2.64537038e-06,\n",
        "         1.61827556e-07,  -6.19415606e-06,   2.79126545e-06,\n",
        "         1.79515434e-06,  -6.17084951e-06,  -6.15267369e-07,\n",
        "        -1.40084786e-06,   2.88606178e-06,  -7.83636197e-07,\n",
        "        -1.43113237e-06,  -9.32449917e-07,  -2.51552805e-06,\n",
        "        -1.48630797e-06,  -2.25870965e-06,   6.96084136e-06,\n",
        "        -1.33025618e-06,  -5.71629460e-06,   4.35650419e-06,\n",
        "        -1.87755737e-06,   1.25308336e-06,   3.89736062e-07,\n",
        "        -8.43285501e-06,   2.11916257e-06,  -3.84971159e-06,\n",
        "         2.94147358e-06,  -2.47481032e-06,   4.02989720e-06,\n",
        "        -3.92797090e-06,   1.02814350e-06,   5.92825248e-08,\n",
        "        -4.53990426e-06,  -8.33051865e-06,   3.74981090e-07,\n",
        "         6.80416688e-06,   2.44877177e-06,  -3.99896554e-06,\n",
        "        -4.52652523e-07,  -2.18817855e-06,  -8.53486778e-07,\n",
        "        -1.51555558e-05,  -5.11733619e-06,  -3.49959706e-06,\n",
        "         4.91489380e-06,  -2.92001075e-06,   1.51528404e-06,\n",
        "        -1.06765894e-05,  -7.46182399e-06,   4.71762336e-06,\n",
        "        -2.57809995e-06,   8.65430372e-06,  -5.12847317e-07,\n",
        "        -1.75409458e-06,   2.75219623e-06,   5.67913026e-06,\n",
        "         4.28724160e-06,  -9.28562053e-06,  -3.84576106e-06,\n",
        "        -1.88922638e-06,  -3.18292914e-07,   2.20204670e-06,\n",
        "        -1.28078112e-06,   4.81258960e-07,  -6.26399069e-06,\n",
        "         6.25828494e-06,   3.20561102e-06,   3.09837587e-06,\n",
        "         3.37972241e-06,  -6.82486765e-07,   4.46402773e-07,\n",
        "         5.45128902e-06,  -8.03587233e-06,   2.57999461e-07,\n",
        "        -5.25222491e-06,   3.44443171e-06,   1.62530747e-06,\n",
        "        -3.86147579e-07,  -1.32200807e-06,  -2.31288378e-06,\n",
        "        -1.53950498e-06,   4.65710796e-06,  -5.00015340e-06,\n",
        "        -5.14734337e-06,   7.77967070e-07,  -2.14045319e-06,\n",
        "        -1.24968843e-06,   6.91468326e-07,   2.89731556e-08,\n",
        "        -4.38302686e-07,   3.87843742e-06,   2.15754853e-06,\n",
        "        -1.35404951e-06,   3.74651678e-06,  -4.98443788e-06,\n",
        "         1.32914272e-06,   6.56767408e-06,  -4.83591014e-06,\n",
        "        -5.61055792e-06,   3.06867130e-06,   4.22368516e-06,\n",
        "         5.51464522e-07,   2.20093157e-06,   7.06227864e-07,\n",
        "        -2.60515028e-06,  -1.36890089e-05,  -8.52936992e-06,\n",
        "         1.71213516e-07,  -3.91954173e-06,  -1.03636860e-06,\n",
        "         5.23911985e-06,  -1.36188316e-06,  -3.12447631e-06,\n",
        "         3.20633526e-06,  -4.53985532e-06,  -1.48372421e-06,\n",
        "         7.09914783e-06,  -1.43144936e-06,  -2.13300561e-06,\n",
        "         7.05315715e-06,   3.66569430e-06,   1.78794912e-06,\n",
        "        -1.57832902e-06,  -3.65315018e-06,  -2.58201189e-06,\n",
        "         1.80583936e-06,   3.23155850e-06,   3.30872815e-06,\n",
        "        -1.75929368e-06,  -1.25568512e-06,   5.79252683e-06,\n",
        "        -1.61259760e-06,  -2.46093987e-06,   7.73885831e-07,\n",
        "         7.80857019e-07,   8.30225496e-07,  -2.13908520e-06,\n",
        "        -1.93473578e-06,   1.14984069e-06,  -7.28611411e-06,\n",
        "         8.77497178e-06,  -5.27819293e-06,  -3.06451263e-06,\n",
        "         4.55011079e-07,   3.44475621e-06,   1.54754577e-06,\n",
        "        -9.57161218e-06,  -5.09426427e-06,  -5.03460244e-06,\n",
        "        -4.37071152e-06,   2.26311446e-06,   2.10254766e-06,\n",
        "         1.60781324e-06,  -2.41669365e-06,   2.76755830e-06,\n",
        "         3.38814586e-06,  -8.24821177e-07,   1.57996698e-06,\n",
        "        -1.53282236e-07,  -4.39578612e-06,  -9.03541720e-06,\n",
        "        -2.33240731e-06,   3.00113676e-06,  -1.84634534e-06,\n",
        "         6.90361906e-08,  -5.48011541e-06,   8.13400535e-07,\n",
        "         2.04354755e-06,   8.75709458e-07,   5.77603598e-07,\n",
        "         1.61950470e-06,  -1.22279346e-06,   2.07151515e-07,\n",
        "        -1.95271875e-06,   1.04804236e-05,  -2.92083869e-06,\n",
        "         4.47478121e-07,   9.37994340e-07,  -2.54216798e-06,\n",
        "        -3.35815331e-06,   3.18698873e-06,  -6.72534117e-06,\n",
        "         1.02994682e-07,  -1.74864661e-06,   6.55709898e-08,\n",
        "        -6.55392785e-07,  -2.49718768e-06,   3.83985710e-06,\n",
        "         2.03527594e-06,  -3.29305576e-06,   3.20147527e-06,\n",
        "         1.57745808e-06,   4.04458616e-06,  -3.06728883e-06,\n",
        "         6.41196202e-07,  -8.06871750e-06,  -2.30244620e-06,\n",
        "        -2.38877730e-06,  -1.62635144e-06,   2.19073546e-06,\n",
        "         2.61905547e-06,  -1.56707095e-06,   7.31327530e-07,\n",
        "        -1.00284585e-06,   7.06223035e-06,   2.40565738e-06,\n",
        "        -1.08782065e-05,  -1.70749278e-06,   5.07044809e-07,\n",
        "        -7.29658182e-06,   3.13938601e-06,   9.86951009e-07,\n",
        "        -5.79737263e-06,  -1.11733200e-06,   4.18687723e-06,\n",
        "        -4.95607614e-07,  -3.37280879e-06,  -5.90839930e-06,\n",
        "         6.77906290e-07,  -1.32042891e-06,   5.28130094e-06,\n",
        "         2.59236887e-06,   1.14895610e-05,  -4.39590714e-06,\n",
        "         2.55139576e-06,  -2.13768297e-06,  -2.15548638e-06,\n",
        "         2.80555775e-06,  -1.51804510e-06,   1.28819892e-06,\n",
        "        -2.60623586e-06,   9.07386969e-07,   2.57268555e-06,\n",
        "         3.25369408e-06,  -3.57251641e-06,   2.62713255e-06,\n",
        "         6.64002596e-06,  -3.74347244e-06,   2.00396695e-06,\n",
        "         3.74558517e-07,  -2.57604487e-06,   1.01902869e-06,\n",
        "         5.39716647e-06,  -1.94153630e-07,  -4.92289522e-07,\n",
        "         4.02857061e-06,  -9.38279773e-07,  -1.04956904e-06,\n",
        "        -1.98600584e-06,   1.61428616e-06,   3.53239715e-06,\n",
        "         2.41445218e-06,   1.01894362e-06,   3.58488846e-06,\n",
        "        -4.59908245e-07,  -1.71831918e-06,  -2.94915504e-07,\n",
        "        -5.31735606e-06,  -9.37572485e-07,   3.09888208e-06,\n",
        "        -3.35137510e-06,  -1.45229490e-07,  -2.05745334e-06,\n",
        "         4.13656673e-06,   1.10544626e-06,  -2.99674462e-06,\n",
        "        -3.36308238e-06,  -1.33635887e-06,  -2.65786231e-06,\n",
        "        -1.26828141e-05,   1.07582270e-07,   5.62010117e-06,\n",
        "        -2.03867871e-06,   2.37838280e-06,  -1.55330536e-06,\n",
        "         1.85507707e-06,   3.34287274e-06,  -1.12747690e-07,\n",
        "         3.29381714e-07,  -5.80047661e-07,   3.34889308e-06,\n",
        "        -1.89961900e-06,  -2.44970277e-06,   7.58620554e-06,\n",
        "         1.81648475e-06,  -3.72312101e-06,  -1.91176856e-07,\n",
        "        -3.04473254e-06,  -6.81522769e-06,  -5.83872005e-07,\n",
        "        -1.41255918e-06,   3.01191573e-06,  -1.37190644e-06,\n",
        "         8.65376195e-07,  -3.74128396e-06,   2.99532199e-06,\n",
        "         2.57045449e-06,   7.06322761e-06,  -7.63348949e-07,\n",
        "        -3.74235148e-06,  -1.54644553e-06,  -1.43186267e-06,\n",
        "        -4.15972039e-06,  -9.56824573e-06,   4.12732530e-06,\n",
        "        -4.10910534e-06,  -1.65650054e-07,  -1.09091829e-07,\n",
        "         4.50799603e-06,  -9.55560991e-08,   9.74630652e-06,\n",
        "        -1.05517178e-06,  -5.77888877e-06,  -1.52832895e-05,\n",
        "         1.35849112e-06,  -1.66759864e-07,   2.15059876e-06,\n",
        "        -3.24914931e-06,   6.65801911e-06,  -1.61486861e-06,\n",
        "         1.46811662e-05,  -3.46881584e-06,  -2.44316698e-06,\n",
        "        -2.98747521e-06,  -2.92652016e-07,   4.54947951e-06,\n",
        "         9.28424532e-07,  -3.30561721e-06,   4.09417583e-06,\n",
        "         9.94685944e-06,  -3.21679765e-07,   1.18094655e-06,\n",
        "         3.71342614e-06,  -9.25342604e-07,  -5.50566591e-06,\n",
        "        -5.02529463e-06,  -9.62470609e-08,   2.91066722e-06,\n",
        "         3.67985572e-06,   1.82453503e-06,  -8.34142236e-07,\n",
        "        -1.66820424e-06,  -7.70287270e-06,  -2.28255814e-06,\n",
        "        -5.63941945e-06,  -1.32013170e-06,  -3.26712301e-06,\n",
        "         1.04454706e-06,   5.30693503e-06,  -1.27766944e-06,\n",
        "        -2.65249623e-06,  -4.36641792e-06,  -4.51846371e-06,\n",
        "         2.54927608e-07,  -4.74842274e-06,  -7.69415983e-06,\n",
        "        -8.21748329e-06,  -3.05375832e-08,  -4.00012363e-06,\n",
        "        -1.12541593e-06,   3.48944610e-06,  -4.90985185e-06,\n",
        "         4.70791125e-06,  -4.76387851e-06,  -1.05381222e-06,\n",
        "         8.18989887e-06,  -1.61084151e-06,   5.64943849e-07,\n",
        "        -6.53689386e-07,  -1.91836746e-06,   5.75882677e-06,\n",
        "        -3.21718999e-06,   1.82307328e-06,   2.95350877e-06,\n",
        "         2.43754589e-06,  -9.99600423e-06,  -9.00037600e-06,\n",
        "         1.65969746e-06,   7.75137393e-06,   1.98692019e-05,\n",
        "         4.44367112e-06,  -1.39897506e-06,   4.54944388e-06,\n",
        "        -1.14099845e-06,  -2.20370291e-06,  -1.06198550e-05,\n",
        "        -9.09592226e-06,   2.89762978e-06,   3.32410207e-07,\n",
        "        -5.66328256e-07,   2.17658970e-07,   2.70899009e-06,\n",
        "         9.39509478e-06,   7.90523469e-07,  -6.69174176e-06,\n",
        "         1.19541469e-05,   2.83661143e-06,   1.33590827e-06,\n",
        "        -3.12538024e-07,  -5.03080146e-07,  -9.63078896e-07,\n",
        "        -1.60214514e-06,  -2.90418778e-06,   3.80836861e-06,\n",
        "         1.43986668e-07,   1.46392820e-06,  -1.10141591e-05,\n",
        "        -2.27119713e-07,  -2.08414908e-06,  -2.11562399e-06,\n",
        "        -2.32203663e-06,   5.09220103e-06,   4.44195285e-06,\n",
        "         2.51003197e-06,  -1.72968888e-06,  -2.63047307e-06,\n",
        "        -1.50898593e-06,   6.56184713e-06,  -1.47070427e-06,\n",
        "        -3.67604128e-06,  -1.26983956e-05,   2.20769106e-06,\n",
        "         2.93936534e-06,  -5.91817851e-06,   7.31491500e-06,\n",
        "        -2.65217467e-06,   5.83706302e-07,  -1.30686306e-06,\n",
        "         3.95959898e-06,   4.50542389e-06,  -6.85596349e-08,\n",
        "        -2.37147035e-06,   3.74960558e-06,  -5.75894285e-06,\n",
        "         9.68868335e-06,   9.02331901e-06,   3.37851987e-06,\n",
        "        -1.29380546e-06,   8.51002839e-07,   4.73339903e-06,\n",
        "         2.19358487e-06,   7.00964842e-06,   1.71591159e-07,\n",
        "         8.37334552e-06,   1.34443103e-05,   2.26462294e-07,\n",
        "         1.21970729e-05,  -2.04299531e-06,  -1.52144609e-06,\n",
        "         4.14964964e-07,   4.66617526e-06,   3.50622965e-06,\n",
        "         6.60629370e-06,   2.07049662e-06]), 'nit': 1001, 'funcalls': 1101}\n",
        "lala"
       ]
      },
      {
       "output_type": "stream",
       "stream": "stdout",
       "text": [
        " 1.0 53.0\n",
        "[ 0.41927183 -0.21567288  0.34035553  0.02226402 -0.15602269  0.70220395\n",
        "  0.37513025  0.3928403   0.13617484 -0.45685379]"
       ]
      },
      {
       "output_type": "stream",
       "stream": "stdout",
       "text": [
        "\n",
        "1.32316810532\n",
        "{'warnflag': 1, 'task': 'STOP: TOTAL NO. of ITERATIONS EXCEEDS LIMIT', 'grad': array([  1.54980379e-04,   5.30353294e-06,  -1.41499685e-05,\n",
        "        -4.74636991e-05,   3.20220065e-05,  -2.53683439e-05,\n",
        "         3.83350321e-05,   5.70757678e-05,  -2.08106829e-04,\n",
        "        -1.50614282e-05,   3.98696266e-05,   7.38065517e-05,\n",
        "         5.45286729e-05,  -1.65684067e-04,  -2.05067299e-05,\n",
        "         1.90358889e-04,   1.80260832e-05,   7.25550832e-06,\n",
        "        -1.94393950e-05,   1.24106130e-04,   3.40889618e-05,\n",
        "         8.77009677e-05,  -7.18972121e-05,   2.71138414e-04,\n",
        "         3.59054278e-04,   9.30028916e-06,   9.22876096e-05,\n",
        "         2.38441170e-05,  -1.27094561e-04,  -3.86196851e-05,\n",
        "         1.36423645e-04,  -5.52767736e-05,  -1.11018148e-05,\n",
        "         6.84445899e-05,  -4.15029949e-05,   1.14972144e-04,\n",
        "         2.01772115e-05,   1.44370923e-04,  -7.66499494e-06,\n",
        "        -3.01357637e-04,   1.10161550e-04,   1.63242511e-04,\n",
        "        -2.45071741e-05,   3.63805299e-05,  -5.85322503e-05,\n",
        "         1.04640867e-05,  -6.40187274e-04,   1.95129469e-05,\n",
        "         3.21347698e-04,  -2.79782124e-05,   3.50162959e-05,\n",
        "         5.94023460e-05,  -1.71563649e-05,   1.18745269e-05,\n",
        "        -3.24785030e-04,  -5.17069135e-05,  -1.02810335e-04,\n",
        "        -1.00620239e-05,   1.23864889e-05,   9.27609478e-06,\n",
        "        -1.02903362e-04,   5.33157452e-05,   8.77096289e-06,\n",
        "         1.55150037e-05,  -1.02377474e-05,  -2.99263198e-04,\n",
        "        -3.00715021e-05,   3.31349192e-05,  -4.67438638e-05,\n",
        "         3.13396036e-05,   8.76041176e-05,   1.80654387e-04,\n",
        "        -4.92563549e-05,   3.65517119e-05,  -5.56643504e-05,\n",
        "         2.64193041e-06,   7.93927365e-05,   9.69955734e-06,\n",
        "         9.39292251e-05,  -6.73918708e-06,  -1.92260602e-04,\n",
        "         1.19954393e-04,  -1.69099070e-04,  -2.74663084e-05,\n",
        "         3.90754898e-05,   2.19946788e-05,   2.27351084e-05,\n",
        "         1.22071139e-04,   1.35480415e-05,  -1.54117094e-04,\n",
        "         4.77827845e-05,  -2.30761921e-05,  -1.51586473e-04,\n",
        "        -8.84286184e-05,  -1.32518820e-05,   6.83540452e-04,\n",
        "         4.26622489e-05,   1.79979344e-04,   7.05836285e-06,\n",
        "        -7.25406967e-06,  -3.95376362e-05,  -1.36444522e-04,\n",
        "        -2.65039868e-05,  -1.95033676e-05,   8.07308683e-05,\n",
        "        -3.71744666e-04,  -1.09080963e-04,  -1.93060054e-05,\n",
        "        -5.92244682e-05,  -1.57354527e-05,  -2.47119119e-05,\n",
        "        -5.46779168e-05,  -4.05016200e-04,   8.73528879e-05,\n",
        "         1.32665495e-05,   5.76963743e-05,   5.01550675e-05,\n",
        "         1.60985152e-04,   6.24591838e-05,  -1.39005033e-04,\n",
        "         4.12539286e-06,   1.55539307e-04,  -1.88446871e-04,\n",
        "        -2.29949360e-04,   9.48452625e-05,   3.05333318e-05,\n",
        "         4.19771382e-05,  -8.59366886e-06,   3.24735905e-04,\n",
        "         3.01288957e-05,  -1.47791033e-04,   1.24701346e-04,\n",
        "         1.89267232e-05,  -1.18762547e-04,  -7.24869267e-05,\n",
        "         5.15844242e-06,   4.78400789e-04,   1.34485863e-05,\n",
        "         6.36586609e-05,  -7.59217820e-06,  -7.11577765e-05,\n",
        "        -2.36727600e-05,  -9.86868548e-05,  -8.87069583e-05,\n",
        "        -2.60134003e-06,  -5.53024431e-05,  -1.88961955e-04,\n",
        "        -2.17911400e-04,   2.43689311e-05,  -4.13741281e-05,\n",
        "         9.29582446e-06,  -3.71350431e-07,   3.46770159e-05,\n",
        "        -3.33797416e-04,   6.29387380e-05,  -1.63244571e-06,\n",
        "         1.49914421e-05,   4.63673265e-05,  -8.08956940e-06,\n",
        "        -3.58942987e-06,  -2.92431510e-04,  -1.98338236e-05,\n",
        "         4.17927900e-04,  -2.14064198e-04,  -1.78843251e-04,\n",
        "         4.59060933e-05,   7.99111809e-05,  -3.19358014e-05,\n",
        "        -1.09585077e-04,   6.51674686e-04,  -1.08649011e-04,\n",
        "        -1.85452677e-04,  -9.14765251e-06,  -3.32505135e-05,\n",
        "        -1.13030695e-04,   5.87122005e-07,  -5.16731451e-05,\n",
        "         1.14422969e-05,   1.26249429e-04,   1.34053053e-04,\n",
        "         7.38022962e-05,   3.05203316e-06,  -3.13213995e-05,\n",
        "        -2.16558518e-04,  -1.02896321e-04,  -8.56574857e-05,\n",
        "        -4.89315418e-05,  -2.30916535e-04,  -3.52873372e-04,\n",
        "        -4.78642314e-05,  -2.64307188e-05,   4.00983671e-05,\n",
        "         2.14369766e-05,  -3.72439124e-04,  -6.22761712e-04,\n",
        "         1.04240450e-05,   3.99293077e-05,   1.86760873e-04,\n",
        "         9.75285567e-05,  -1.85859606e-04,   6.96103420e-05,\n",
        "        -2.63678612e-04,   1.58080562e-05,   2.90012729e-04,\n",
        "        -2.16587536e-04,  -3.79715884e-07,  -5.27948530e-06,\n",
        "        -1.09577127e-04,   8.30470471e-05,   2.79681532e-05,\n",
        "        -5.30371692e-04,   1.25098082e-05,   5.63563957e-05,\n",
        "        -5.43537114e-05,   1.57327363e-05,   2.07870405e-06,\n",
        "         9.44796655e-05,  -1.65830541e-06,  -4.05648996e-04,\n",
        "        -1.35853768e-04,  -6.40276316e-05,   1.35536698e-05,\n",
        "         5.39172337e-05,   1.05903702e-04,   9.03083510e-05,\n",
        "        -4.64755142e-05,  -7.06876670e-05,  -7.22834716e-06,\n",
        "         1.95545394e-04,  -3.13112842e-04,   2.23334216e-06,\n",
        "         5.70805399e-05,  -1.97775589e-06,  -2.22947134e-05,\n",
        "         5.26972914e-05,   4.28228814e-04,   1.36259795e-06,\n",
        "        -5.81796704e-05,   1.14026902e-04,  -6.70763495e-05,\n",
        "        -5.20348964e-06,  -1.05789551e-04,   6.75384401e-05,\n",
        "         3.56813220e-05,  -1.35917431e-04,   3.67711952e-04,\n",
        "        -1.49003146e-04,  -5.45584365e-05,   5.99837347e-05,\n",
        "         1.55445911e-05,  -3.57705462e-06,   3.87759191e-04,\n",
        "        -5.36782428e-05,  -9.93686856e-05,  -1.51706260e-04,\n",
        "         1.04524921e-05,  -8.09692294e-05,   2.93014948e-05,\n",
        "         3.37692667e-06,  -7.95323645e-06,   7.14432916e-05,\n",
        "        -1.80294562e-04,   3.65387651e-05,  -3.67806767e-05,\n",
        "        -4.88598495e-05,  -2.33969751e-05,  -1.25447628e-05,\n",
        "        -7.01160874e-05,   2.74657095e-05,  -1.98568629e-04,\n",
        "         2.75264463e-04,  -6.58080766e-05,  -4.23178928e-05,\n",
        "         4.00997194e-05,   1.70759092e-05,  -1.69563202e-04,\n",
        "        -1.35535782e-04,  -1.43487110e-05,  -2.35622275e-05,\n",
        "        -6.86345241e-05,   4.38373343e-06,  -1.96626938e-04,\n",
        "         2.75672134e-05,   3.16661753e-06,  -2.38453086e-05,\n",
        "         2.15036203e-04,  -2.82368498e-04,  -7.72838655e-05,\n",
        "        -1.81468239e-05,  -4.02349595e-07,  -1.38978670e-05,\n",
        "        -3.31377259e-05,   5.73271438e-04,  -1.09874321e-04,\n",
        "        -1.98359592e-05,  -1.28584264e-04,  -2.72493733e-05,\n",
        "        -1.34689381e-04,  -3.92680369e-05,  -1.58449568e-04,\n",
        "        -1.77788043e-04,   8.57971127e-05,  -1.43219994e-05,\n",
        "        -2.06438768e-06,  -1.14275632e-04,  -5.44889848e-05,\n",
        "        -1.77621150e-04,   3.63316967e-05,  -8.52146999e-05,\n",
        "        -2.41163842e-05,  -1.00896061e-04,   2.52955132e-05,\n",
        "        -7.35748435e-05,  -6.71209375e-05,   4.41479848e-05,\n",
        "         4.61702788e-05,  -2.88384415e-04,  -4.44075632e-04,\n",
        "        -1.05966765e-04,   5.81304070e-05,  -7.91423469e-05,\n",
        "         1.00131724e-04,  -1.98987295e-04,   1.80469195e-04,\n",
        "        -2.13476517e-04,   5.61653860e-05,   1.44204891e-04,\n",
        "        -2.26448203e-04,  -1.27780600e-04,   1.62441006e-05,\n",
        "         1.15610559e-05,   1.71161455e-05,  -4.30782991e-05,\n",
        "         1.11654619e-04,  -8.19719756e-05,  -1.18993147e-04,\n",
        "        -2.25474196e-05,  -1.52379221e-05,  -9.63259730e-05,\n",
        "        -8.34265992e-05,  -7.26840611e-05,   1.64054165e-04,\n",
        "         7.04669796e-07,  -2.51210185e-05,   3.22854644e-05,\n",
        "         3.32347746e-05,  -2.51793825e-05,  -2.28024854e-04,\n",
        "        -2.17972732e-05,  -2.81698362e-05,  -4.27965686e-05,\n",
        "        -1.91065346e-04,  -2.45322473e-04,  -5.81837515e-05,\n",
        "         3.79061539e-06,   9.63203897e-05,  -3.80770668e-06,\n",
        "        -4.53264277e-05,  -2.17019645e-04,  -4.42526389e-05,\n",
        "         5.41142874e-05,   8.23434320e-06,   4.88948043e-06,\n",
        "        -8.93643806e-05,   4.48449113e-05,  -2.14362519e-04,\n",
        "         3.24475428e-05,   2.62690648e-04,  -1.71351753e-04,\n",
        "         2.75509864e-04,   9.67980271e-05,  -3.41563628e-05,\n",
        "        -7.57978059e-05,   7.49492884e-05,  -5.24459705e-04,\n",
        "         5.94175185e-06,   1.62500339e-04,  -1.46466343e-04,\n",
        "         1.92830585e-04,   3.69929617e-05,  -1.51307958e-04,\n",
        "         7.38061282e-05,   4.04704180e-05,   1.45807084e-04,\n",
        "         1.42859026e-04,  -4.70034599e-05,   4.15745331e-05,\n",
        "         8.58677282e-05,   1.56585204e-04,   1.12392161e-04,\n",
        "         1.51186929e-04,  -1.35607928e-05,   1.93812105e-04,\n",
        "         5.52897971e-05,  -1.88265991e-04,  -1.34375618e-04,\n",
        "        -8.53177907e-05,   1.09746697e-04,   3.33126389e-04,\n",
        "         4.13733937e-04,   5.25871677e-05,   9.42002325e-05,\n",
        "         8.02117138e-06,   1.85293181e-04,  -2.61224362e-05,\n",
        "        -5.42764460e-05,   4.00713522e-05,  -2.13218576e-05,\n",
        "        -2.52101302e-04,   1.09466391e-04,   6.60574902e-05,\n",
        "        -5.96548943e-05,  -2.85994974e-05,  -2.79075229e-05,\n",
        "         6.76221287e-05,  -4.16681320e-04,   1.34481963e-04,\n",
        "         1.01806296e-04,  -6.71772429e-05,   1.17350556e-05,\n",
        "         1.72316677e-04,  -2.80936733e-05,  -2.17102428e-05,\n",
        "        -3.29448446e-04,   4.91077067e-05,  -7.38012638e-05,\n",
        "        -2.55300615e-05,   4.81218349e-06,   3.66367590e-05,\n",
        "         9.13847233e-05,   1.43268329e-05,  -5.19037145e-05,\n",
        "         5.52964820e-05,  -2.03938392e-06,  -2.40368396e-04,\n",
        "         1.02516051e-04,  -2.83490630e-05,   5.23284284e-05,\n",
        "        -4.00822106e-05,  -3.26623793e-05,   2.53082999e-04,\n",
        "        -9.29655297e-05,  -3.45754104e-05,   1.93103635e-04,\n",
        "        -1.29368945e-04,  -8.08892469e-05,  -4.54942697e-05,\n",
        "         1.47714250e-04,  -1.40645876e-05,  -1.42877712e-04,\n",
        "         1.20776284e-04,   1.89818497e-04,  -1.18324978e-04,\n",
        "         5.22999745e-05,   2.90751986e-05,   5.65643418e-05,\n",
        "        -1.58707349e-04,   1.11636310e-05,  -6.39645955e-05,\n",
        "         1.13853883e-04,   1.32857893e-05,   5.53467434e-05,\n",
        "         1.06513610e-05,   9.13468089e-06,   2.60704648e-04,\n",
        "        -5.79514485e-05,   7.87234163e-05,   6.07284751e-05,\n",
        "        -1.25773476e-05,   5.82498767e-05,   1.65385680e-04,\n",
        "         3.86010771e-05,  -3.41579430e-05,   4.21001546e-05,\n",
        "         8.63225185e-05,   1.04806497e-04,   3.90301279e-05,\n",
        "         6.95584203e-05,  -4.26831844e-05,   1.45085338e-05,\n",
        "         1.61738615e-04,   3.40511774e-04,  -4.18749632e-05,\n",
        "         2.65045914e-06,  -2.14126148e-04,   2.28986094e-06,\n",
        "         2.71586042e-04,  -4.69275330e-05,   8.81400609e-05,\n",
        "        -1.95394912e-05,   5.11842705e-06,   3.42130225e-04,\n",
        "        -4.52409206e-04,  -1.03053606e-04,  -2.40521170e-04,\n",
        "        -2.27764963e-04,  -3.27793047e-04,  -1.16122908e-04,\n",
        "        -2.43729067e-04,  -2.58294700e-04,  -2.06193549e-04,\n",
        "        -1.73311803e-04,  -2.40574119e-04,  -2.91492655e-04,\n",
        "        -7.91665781e-05,   5.38024664e-04,   1.56982687e-04,\n",
        "         2.10849236e-04,   2.37314080e-04,   3.21410311e-04,\n",
        "         3.53841065e-04,   3.55536019e-04,   2.93433468e-04,\n",
        "         1.23369658e-04,   2.06840831e-04,   1.76881254e-04,\n",
        "         3.94360501e-04,   1.43510758e-04]), 'nit': 1001, 'funcalls': 1087}\n",
        "lala"
       ]
      },
      {
       "output_type": "stream",
       "stream": "stdout",
       "text": [
        " 10.0 51.3333333333\n",
        "[ 0.09023539 -0.01543521 -0.0032815   0.01342636  0.01362441 -0.0313302\n",
        "  0.01342802  0.00062581 -0.02291416 -0.00074264]"
       ]
      },
      {
       "output_type": "stream",
       "stream": "stdout",
       "text": [
        "\n",
        "1.38524951802\n",
        "{'warnflag': 0, 'task': 'CONVERGENCE: NORM_OF_PROJECTED_GRADIENT_<=_PGTOL', 'grad': array([  6.63528046e-06,  -1.50955998e-06,   1.18825415e-07,\n",
        "         7.50663286e-07,   5.66888148e-07,   7.45936500e-07,\n",
        "         1.09269749e-06,  -1.29338556e-06,  -9.90871393e-07,\n",
        "         2.21504505e-07,   1.42882251e-06,  -2.20039373e-06,\n",
        "         2.17956704e-06,  -1.68488395e-06,  -1.53015866e-07,\n",
        "         1.17691094e-06,  -1.80700436e-06,  -5.12488396e-07,\n",
        "        -1.14609533e-06,  -3.41492089e-07,   1.92940246e-07,\n",
        "         4.88421256e-07,   3.02374319e-07,   3.39966428e-06,\n",
        "        -2.43710608e-07,   9.04039352e-07,  -1.74134970e-06,\n",
        "        -4.55280638e-07,  -1.45755781e-06,   5.58195585e-07,\n",
        "        -4.92243703e-07,  -2.42292948e-07,   1.36971936e-07,\n",
        "         3.15157774e-07,   2.57228794e-07,   1.16974395e-06,\n",
        "        -5.26359634e-07,   3.72212694e-07,   8.46650962e-07,\n",
        "         1.12459917e-06,   3.50094748e-06,   2.41653270e-06,\n",
        "        -1.55974956e-06,   1.15299033e-08,   1.30819967e-06,\n",
        "         3.53404704e-07,   6.11510043e-06,   1.14182118e-06,\n",
        "        -6.70272513e-07,  -4.71971906e-07,  -1.09450478e-07,\n",
        "         2.24126162e-06,  -2.66867001e-06,   2.35644308e-06,\n",
        "        -4.86603560e-06,  -6.15024827e-07,   2.40635854e-06,\n",
        "        -2.47688010e-06,  -4.65848342e-07,  -1.46469002e-06,\n",
        "         2.45486441e-07,  -1.76868688e-07,   9.31740336e-07,\n",
        "         4.78836885e-07,   4.58559990e-06,   3.03377131e-07,\n",
        "         1.15593862e-06,  -1.73546442e-06,  -3.04547025e-07,\n",
        "        -2.08658711e-06,  -9.96215791e-07,  -1.57557360e-06,\n",
        "        -4.69675554e-07,   1.42888280e-07,  -6.32069246e-07,\n",
        "         1.07882346e-07,   1.19334168e-07,  -6.17162696e-07,\n",
        "         7.22465052e-07,   1.30972630e-06,   5.97162784e-07,\n",
        "         5.00789596e-06,  -4.62672999e-06,   5.32138403e-07,\n",
        "        -3.57530212e-07,  -5.44401329e-07,   9.24475676e-08,\n",
        "         5.31323588e-07,  -2.64673001e-07,   8.53572879e-07,\n",
        "        -7.70668651e-07,  -1.69735501e-07,  -6.75217389e-07,\n",
        "         3.29540570e-07,  -1.26367426e-06,  -8.36298334e-07,\n",
        "         4.57376256e-07,  -1.15035711e-06,   1.78616619e-07,\n",
        "         3.39365355e-07,   5.39469346e-07,   1.92626615e-07,\n",
        "        -5.74208428e-08,  -3.35029390e-07,  -1.35002484e-07,\n",
        "        -1.20983029e-06,   1.20088812e-06,  -5.56634658e-07,\n",
        "         9.68740058e-07,   1.50408494e-07,   2.70501908e-07,\n",
        "        -1.57003797e-06,  -9.70546969e-07,   1.19481339e-07,\n",
        "        -4.75663687e-07,  -2.85763745e-07,   2.42702021e-07,\n",
        "        -1.08726620e-06,   5.41933088e-07,  -5.68731539e-07,\n",
        "        -3.40937218e-07,  -1.00825586e-06,  -1.76380589e-06,\n",
        "        -3.14992634e-06,   7.39134470e-07,   2.78520627e-07,\n",
        "        -3.91620262e-07,  -8.37860037e-07,  -3.10398634e-06,\n",
        "        -5.57712231e-07,   1.41357549e-06,  -7.08524113e-07,\n",
        "         6.15499503e-07,  -1.33130919e-06,   1.48461766e-06,\n",
        "        -2.78389733e-07,   1.70244036e-06,   1.40423022e-06,\n",
        "        -1.02838369e-06,   2.23778756e-07,   9.13322744e-07,\n",
        "         1.22223577e-06,  -1.44655801e-06,  -7.85303378e-07,\n",
        "        -7.94084065e-07,  -7.46556751e-08,  -2.97073725e-06,\n",
        "        -7.62395794e-07,  -3.04469071e-07,   8.99050572e-07,\n",
        "         3.78271903e-07,   4.92290596e-07,   1.88914308e-07,\n",
        "        -1.72931405e-06,   4.27051646e-07,  -1.84621409e-07,\n",
        "        -1.89770738e-07,  -1.94554290e-07,   8.87825273e-07,\n",
        "         3.95686302e-07,  -5.10027705e-07,  -1.71199620e-07,\n",
        "         6.43107662e-07,  -2.04706066e-06,  -2.34839805e-06,\n",
        "         4.08303810e-07,   2.75226304e-07,  -6.42709873e-07,\n",
        "        -4.93383224e-07,  -8.35871464e-06,  -6.78108183e-07,\n",
        "         9.00322985e-07,  -1.64706556e-06,  -4.11455346e-08,\n",
        "        -1.26054823e-06,   1.25924244e-06,  -5.44416144e-07,\n",
        "         3.38594779e-06,   1.82424580e-07,  -1.68542290e-06,\n",
        "         9.61214910e-07,   1.85862611e-07,   4.37104913e-07,\n",
        "        -2.17041889e-06,   8.87872992e-08,  -5.62624158e-07,\n",
        "        -2.67737233e-07,  -1.35948036e-06,  -1.20658604e-06,\n",
        "        -5.64379060e-07,   9.83850871e-07,   4.80729032e-07,\n",
        "         7.32732614e-07,   2.70284339e-06,   9.70238777e-07,\n",
        "        -1.95938543e-07,   9.45790264e-08,   8.38817044e-07,\n",
        "        -2.21535060e-07,   2.22006750e-06,   9.96401756e-08,\n",
        "        -8.18701993e-07,  -3.56551432e-07,   7.41060120e-07,\n",
        "        -1.63517776e-06,  -1.97588134e-06,  -3.05106273e-07,\n",
        "        -6.59081268e-08,   3.69061781e-07,  -6.84717476e-08,\n",
        "         6.24938412e-06,  -2.14567805e-07,  -3.05599916e-07,\n",
        "         1.51416392e-06,  -8.41726504e-08,   1.86009620e-07,\n",
        "        -4.95716316e-07,   2.06426449e-07,  -2.83071624e-06,\n",
        "        -1.48174090e-07,   1.35050169e-06,  -4.82332747e-07,\n",
        "         2.76798479e-08,  -4.15703311e-07,   1.29684004e-06,\n",
        "        -9.33196689e-08,   3.28565093e-07,   1.40769962e-07,\n",
        "         1.34026954e-06,   3.88619777e-07,   2.22862501e-07,\n",
        "        -1.03163398e-06,  -7.09939724e-08,  -2.88304223e-07,\n",
        "        -1.35671844e-06,  -3.94757539e-07,   1.87497860e-07,\n",
        "        -2.22437491e-07,  -8.33289349e-07,   1.62383401e-07,\n",
        "        -2.37367930e-06,  -3.55030962e-08,   1.16417970e-06,\n",
        "         6.54606691e-08,  -4.86417875e-08,   1.66085136e-06,\n",
        "        -2.28361352e-06,   5.77865219e-07,  -4.23334732e-07,\n",
        "         1.20469957e-07,   9.44855703e-07,  -4.99173682e-06,\n",
        "         1.61741376e-07,   7.79495867e-07,  -2.21924103e-06,\n",
        "        -7.33257612e-08,  -4.69025517e-07,   6.87160733e-08,\n",
        "        -1.11824728e-06,   2.55441108e-06,  -5.40674771e-08,\n",
        "        -3.29024853e-06,   2.39700720e-07,  -4.47165006e-07,\n",
        "         9.70457049e-07,  -9.38842820e-08,  -6.40061961e-07,\n",
        "        -7.95383563e-07,   1.21194766e-06,  -1.75978697e-06,\n",
        "         6.76459134e-07,  -7.31886171e-07,   1.72168776e-07,\n",
        "        -9.32412153e-07,  -1.16808128e-06,   4.14602128e-07,\n",
        "        -1.01978144e-06,  -1.36837896e-06,  -3.35278608e-07,\n",
        "         1.08179651e-06,   6.82270391e-07,   5.29535444e-07,\n",
        "         6.13293050e-07,  -2.54072058e-06,  -1.60753512e-06,\n",
        "         4.64153937e-07,  -2.62127255e-06,   2.48606730e-06,\n",
        "         6.04557645e-07,   6.22333059e-07,  -4.68374525e-08,\n",
        "        -3.48916725e-08,  -4.78299617e-06,  -7.90593569e-08,\n",
        "        -4.20853054e-07,  -6.98204623e-07,   2.10435851e-07,\n",
        "        -5.65154138e-07,   1.54457628e-06,  -5.34575495e-07,\n",
        "         4.10050049e-06,  -7.49110940e-08,  -1.06301626e-06,\n",
        "         8.39528244e-07,   1.02437302e-07,   6.28016179e-07,\n",
        "        -3.88178857e-07,   3.48119609e-07,  -3.99703708e-07,\n",
        "        -3.91472889e-07,  -1.14161008e-06,  -1.84888637e-07,\n",
        "        -7.29917963e-07,   5.05630846e-07,  -2.46687707e-07,\n",
        "         1.37343469e-07,   2.42874644e-06,   1.92494163e-07,\n",
        "         2.31927163e-07,  -3.25822758e-09,   1.71492442e-06,\n",
        "        -2.01127788e-07,   8.14266112e-07,   8.24158025e-08,\n",
        "        -8.14493572e-07,  -7.01918184e-07,   5.14761963e-07,\n",
        "        -1.36588998e-06,   1.77656508e-06,   9.03869052e-09,\n",
        "        -3.29728893e-07,  -4.48506945e-07,   1.78621792e-07,\n",
        "        -4.51274614e-06,   9.55078157e-08,   3.72571621e-07,\n",
        "        -1.19326455e-06,   5.25884309e-07,  -1.27363418e-07,\n",
        "         5.90499344e-07,   2.79334399e-08,   1.87735426e-06,\n",
        "         7.00180044e-07,  -8.21094200e-07,  -4.83935620e-08,\n",
        "         4.55636916e-07,   5.60675633e-07,  -1.38041475e-06,\n",
        "        -5.38032860e-07,  -3.34053143e-07,   1.97912147e-07,\n",
        "        -1.07983246e-06,  -4.17121041e-07,  -2.83131817e-07,\n",
        "         6.56870152e-07,  -5.48227670e-08,  -7.45920143e-08,\n",
        "         3.52429691e-07,  -6.27296787e-07,  -4.02714129e-07,\n",
        "        -1.70266570e-07,   3.42434127e-07,  -5.26189256e-07,\n",
        "         1.97675170e-06,   4.34023006e-08,  -1.48029909e-06,\n",
        "        -3.59654337e-08,  -5.53927162e-08,  -1.17939189e-06,\n",
        "        -1.91500501e-06,  -7.69770983e-07,  -5.53495731e-07,\n",
        "         5.44956727e-07,   5.90308361e-07,   2.76619215e-06,\n",
        "         3.21924687e-07,  -9.50371933e-07,   2.57345421e-07,\n",
        "        -7.97153278e-08,   1.41196229e-06,  -1.18522114e-06,\n",
        "         4.34320835e-07,  -2.81479322e-06,  -8.65099077e-07,\n",
        "         5.05948453e-07,  -3.83730115e-07,  -6.31533785e-07,\n",
        "        -1.00133505e-06,   3.72192474e-07,   1.69108486e-07,\n",
        "         9.53391831e-07,  -8.48119250e-08,   2.34431963e-06,\n",
        "         8.22059430e-07,   4.47711341e-07,  -4.92213627e-07,\n",
        "        -3.42762215e-07,   4.59511231e-08,  -1.94999830e-07,\n",
        "         1.09997084e-06,   7.87249394e-08,  -5.55373421e-08,\n",
        "        -2.12123686e-07,   8.61161687e-08,  -8.62982046e-07,\n",
        "        -3.74722469e-07,   7.74512024e-07,   1.67767495e-07,\n",
        "        -4.51380055e-07,   1.80270031e-06,  -8.28856183e-07,\n",
        "         6.37462754e-07,  -7.12276942e-07,   3.35815144e-07,\n",
        "         3.83061160e-07,   5.67786005e-06,   2.12215023e-07,\n",
        "        -1.13456062e-06,   1.50358215e-06,  -4.09912158e-07,\n",
        "         7.63014521e-08,   1.17368236e-07,  -7.06076272e-07,\n",
        "        -1.90034714e-06,  -6.85183224e-07,   1.17106684e-06,\n",
        "         2.82758240e-07,  -5.60608225e-07,  -5.28179931e-07,\n",
        "         2.15013367e-06,   2.43410336e-07,   2.27633960e-08,\n",
        "         1.94026089e-07,   7.67211769e-07,   6.73209106e-07,\n",
        "        -6.16970576e-07,   7.85509054e-08,  -5.74544235e-07,\n",
        "        -4.80839917e-08,  -9.34812251e-07,   7.17199441e-07,\n",
        "         1.80184856e-07,  -3.11260319e-07,  -6.16477756e-07,\n",
        "         6.97943751e-07,  -2.62135785e-06,  -1.83589793e-07,\n",
        "         7.21833265e-07,  -3.56151895e-07,  -4.39227308e-07,\n",
        "         7.39015442e-07,   5.65028404e-07,  -3.06876097e-07,\n",
        "        -2.51675836e-07,   1.39791164e-07,   4.99633272e-07,\n",
        "         3.40906235e-06,  -2.97986761e-07,  -1.22628978e-06,\n",
        "         1.09941964e-06,  -3.18272064e-07,   6.16332293e-07,\n",
        "        -6.97683523e-07,  -5.30586617e-07,  -1.00549636e-06,\n",
        "        -6.64539132e-07,   1.53238821e-06,   2.11700848e-07,\n",
        "        -1.12466859e-07,  -4.59002944e-07,   1.33668691e-06,\n",
        "         1.07339064e-07,   6.65317473e-07,   1.83757674e-07,\n",
        "         1.24752256e-06,   1.07441594e-06,  -1.95819554e-07,\n",
        "         2.78590724e-07,   2.60580984e-10,  -7.24830006e-09,\n",
        "        -7.21430051e-07,   1.01351679e-06,   5.92557250e-08,\n",
        "        -1.03026118e-07,  -6.93621562e-07,   1.55028659e-07,\n",
        "        -1.40778419e-06,  -7.08785999e-08,   2.55452288e-07,\n",
        "        -3.20387403e-07,  -1.21581247e-06,   1.50873227e-06,\n",
        "         6.06666544e-06,   3.89500054e-06,   1.64423980e-06,\n",
        "         8.26038866e-07,   6.50036831e-06,   4.73731187e-06,\n",
        "         4.23917756e-06,   2.02513700e-06,   2.77627623e-06,\n",
        "         3.46374697e-06,   2.19676561e-06,   1.99822646e-06,\n",
        "         8.89315451e-07,  -5.50368200e-06,  -6.07973706e-07,\n",
        "         3.12728164e-06,   1.74355949e-06,  -3.21835067e-06,\n",
        "        -1.83224452e-06,  -6.17459011e-07,  -1.64606512e-06,\n",
        "         8.51618210e-07,   6.99977376e-07,   1.05166149e-06,\n",
        "        -1.08182472e-06,   5.15712403e-08]), 'nit': 72, 'funcalls': 81}\n",
        "lala"
       ]
      },
      {
       "output_type": "stream",
       "stream": "stdout",
       "text": [
        " 100.0 50.0\n",
        "[  1.04514366e-01   2.31213532e-06  -2.23692915e-07  -1.24596247e-06\n",
        "  -1.16392354e-06   8.42561490e-06  -1.72013306e-06  -1.83097995e-06\n",
        "   4.33849518e-06   1.00511379e-07]"
       ]
      },
      {
       "output_type": "stream",
       "stream": "stdout",
       "text": [
        "\n",
        "1.38617155084\n",
        "{'warnflag': 0, 'task': 'CONVERGENCE: NORM_OF_PROJECTED_GRADIENT_<=_PGTOL', 'grad': array([ -4.41205232e-11,   2.30409880e-07,  -3.27564935e-08,\n",
        "        -1.12530741e-07,  -1.04232401e-07,   7.17320965e-07,\n",
        "        -1.66548336e-07,  -1.13518253e-07,   4.00396328e-07,\n",
        "         7.94473973e-09,  -2.31647860e-07,   3.97941874e-07,\n",
        "        -3.47389852e-07,   8.53154286e-07,   5.78170082e-08,\n",
        "         3.25010356e-07,   2.37072759e-07,   6.50237727e-08,\n",
        "         1.42292157e-07,   7.60972315e-07,  -6.56498114e-08,\n",
        "        -1.07386942e-07,   3.76231633e-08,  -4.63252940e-07,\n",
        "         5.40206963e-07,  -8.31993063e-08,   2.35162029e-07,\n",
        "        -1.58527813e-09,   2.83371352e-07,   1.66369667e-07,\n",
        "         3.98796288e-07,   4.96470673e-08,  -2.83386279e-08,\n",
        "        -4.48335779e-07,  -6.88425496e-08,  -2.69200415e-07,\n",
        "         8.10576799e-09,   2.44442529e-07,  -1.92205891e-07,\n",
        "        -2.21019155e-07,   1.60851499e-07,  -3.67945171e-11,\n",
        "         3.08130108e-07,   4.44635108e-08,  -2.15890348e-07,\n",
        "        -2.24059268e-07,   1.11916817e-06,  -2.18846321e-07,\n",
        "        -3.00720718e-07,   7.37599939e-07,   1.21558392e-07,\n",
        "        -4.48730181e-07,   4.08124232e-07,  -3.62561163e-07,\n",
        "         1.55975640e-06,   1.76202375e-07,   5.89869004e-07,\n",
        "         2.96564645e-07,   1.18893041e-07,   3.30157752e-07,\n",
        "         1.08780290e-06,   6.77037507e-08,  -2.03850113e-07,\n",
        "        -7.97459262e-08,  -7.63549932e-07,   7.30914756e-07,\n",
        "        -1.12925904e-07,   2.04592135e-07,   1.59573307e-07,\n",
        "         3.46587249e-07,   1.63556636e-07,   4.05397081e-07,\n",
        "         1.65078752e-07,  -1.43974383e-08,  -7.56272162e-07,\n",
        "         4.73644676e-08,  -3.42361939e-07,   1.59439395e-07,\n",
        "         2.51662290e-07,  -2.15616564e-07,  -1.77394062e-07,\n",
        "        -9.89555940e-08,  -3.32885663e-11,  -1.07919225e-07,\n",
        "         9.34907051e-09,   1.54221987e-07,   1.69329363e-08,\n",
        "         6.19523697e-08,   9.43513925e-08,   2.05093291e-07,\n",
        "        -2.20103888e-07,   2.42573901e-08,   1.79457253e-07,\n",
        "        -1.16841760e-07,   2.11813684e-07,  -1.08579712e-06,\n",
        "        -9.91806455e-08,  -3.16893101e-07,  -8.11520175e-09,\n",
        "        -1.04619066e-07,  -5.95009517e-08,  -1.30955432e-07,\n",
        "         1.37033146e-08,   4.86650008e-08,   4.46544575e-08,\n",
        "         5.49672222e-07,   3.02985810e-07,   1.47984541e-07,\n",
        "        -1.93990910e-07,   2.12288970e-09,  -1.94045564e-07,\n",
        "        -2.65109293e-07,  -1.05732879e-07,  -1.25680176e-07,\n",
        "         1.25523244e-07,   1.30051338e-07,  -5.50844583e-08,\n",
        "         8.97067585e-08,  -1.02211005e-07,   1.03099705e-07,\n",
        "        -2.31985710e-08,  -2.41900138e-07,   7.59266507e-08,\n",
        "        -3.92829753e-11,   2.54730685e-08,   6.25565928e-08,\n",
        "        -1.44636212e-07,  -4.06505736e-08,   9.13017580e-07,\n",
        "        -7.06293034e-08,  -1.22736561e-07,   1.38123452e-07,\n",
        "        -2.65714166e-08,  -8.45307175e-08,   8.19291004e-08,\n",
        "        -8.19072499e-08,   2.55379629e-07,  -5.14974258e-08,\n",
        "         1.33043616e-07,   8.35204944e-08,  -5.47471631e-08,\n",
        "         9.19535863e-09,   4.46396938e-07,   7.02260800e-08,\n",
        "        -1.37391279e-07,  -4.15417984e-08,   4.55841815e-08,\n",
        "         7.23368042e-07,  -7.10100297e-08,   9.87460310e-09,\n",
        "         2.71634702e-08,   5.90264855e-08,  -1.11335337e-07,\n",
        "         1.05696024e-07,  -3.12927885e-08,   7.37929954e-09,\n",
        "        -3.06488042e-07,   1.00530915e-08,  -2.40002262e-07,\n",
        "         1.30090741e-07,   2.32094976e-07,  -5.17144530e-08,\n",
        "        -2.74943710e-07,  -5.49957282e-08,  -3.26120884e-11,\n",
        "        -4.31424103e-08,   2.41014769e-08,  -4.55442799e-09,\n",
        "         3.66157840e-08,   7.55060894e-07,   5.95617997e-08,\n",
        "        -1.38028009e-07,  -3.54999228e-08,  -2.50339854e-08,\n",
        "         1.22992630e-07,   9.40568675e-09,   1.58896555e-08,\n",
        "        -1.40613229e-07,  -4.50676840e-08,  -7.89110861e-08,\n",
        "        -7.17301927e-08,  -5.14422018e-08,   2.72009620e-08,\n",
        "         4.88416569e-08,  -1.53849812e-08,   9.02663118e-08,\n",
        "        -3.45474229e-10,   2.65596987e-07,   7.63830542e-07,\n",
        "         7.01586372e-08,  -3.76894026e-08,  -8.31877535e-08,\n",
        "        -4.88493736e-08,  -1.24616035e-07,  -2.37267175e-07,\n",
        "         1.09635939e-07,   1.04322881e-08,  -1.25103643e-07,\n",
        "         1.34434665e-08,  -4.18224527e-08,   1.96037252e-09,\n",
        "         9.00953109e-08,  -5.63105570e-08,  -1.29270587e-07,\n",
        "        -7.14302309e-08,  -3.79523253e-11,   1.60655554e-07,\n",
        "         4.54626871e-08,  -1.76499456e-07,  -1.10721558e-07,\n",
        "         5.72436518e-07,  -4.07267528e-08,   2.39190051e-08,\n",
        "         2.61793427e-07,  -1.36214474e-08,  -1.13311646e-07,\n",
        "         1.43344608e-07,  -1.36820395e-07,  -1.02975542e-08,\n",
        "         4.30603398e-08,   3.29068911e-07,   1.27851516e-07,\n",
        "        -7.31098095e-09,   1.04707140e-07,   6.36230111e-07,\n",
        "         5.49980033e-08,  -1.47987923e-07,  -4.13014031e-08,\n",
        "        -1.40730333e-07,   6.69466519e-08,  -1.00856124e-07,\n",
        "         2.20240694e-07,   1.25957319e-09,   1.54516335e-07,\n",
        "         3.81726925e-08,   1.63699077e-07,   5.68354162e-09,\n",
        "         2.44627310e-08,  -2.91067917e-07,  -5.87486973e-08,\n",
        "        -2.54214970e-07,   7.44510592e-08,   2.21926904e-07,\n",
        "        -7.39799476e-08,  -1.60356838e-07,   2.31887260e-07,\n",
        "        -4.33807044e-11,  -1.26495259e-07,   2.74541124e-08,\n",
        "         7.41366945e-08,   6.63330794e-08,  -4.02750612e-07,\n",
        "         4.07193952e-08,   5.96374491e-07,  -3.01641474e-07,\n",
        "        -8.90206587e-09,   1.60023588e-07,  -3.96851909e-07,\n",
        "         1.39135517e-07,  -1.76402021e-06,   8.11451036e-09,\n",
        "        -1.37493736e-07,  -3.06141761e-07,   3.81729889e-08,\n",
        "        -2.14690319e-07,  -2.83984581e-07,  -1.53308282e-09,\n",
        "         2.38536873e-07,   1.31781091e-07,   7.51012964e-07,\n",
        "        -5.72089851e-07,   1.49536171e-07,  -2.02657495e-07,\n",
        "         2.11819212e-09,  -1.17917646e-07,  -3.06649777e-07,\n",
        "         1.05931422e-07,  -9.69886140e-08,   1.05346621e-07,\n",
        "         3.30187034e-07,  -1.27701005e-08,  -2.20316208e-08,\n",
        "        -9.73007325e-08,  -1.03225860e-07,   2.10479876e-07,\n",
        "        -2.57368115e-07,   1.78033514e-07,  -2.83566504e-11,\n",
        "        -1.18528959e-07,  -1.22399885e-07,   1.46429570e-07,\n",
        "         1.72058100e-07,  -2.64209687e-08,   2.12076166e-07,\n",
        "         4.36600562e-07,  -6.30627968e-07,  -4.35582961e-08,\n",
        "         2.58779243e-07,  -3.94797670e-07,   3.60411457e-07,\n",
        "        -1.96647494e-06,  -1.47401749e-07,  -4.33479600e-07,\n",
        "        -1.89627126e-07,  -7.89904780e-08,  -2.22463290e-07,\n",
        "        -4.88515119e-07,   1.07172492e-07,  -2.22561839e-08,\n",
        "         3.82405514e-08,   9.77113873e-07,   2.84529560e-07,\n",
        "         1.79466100e-07,  -1.54701682e-07,  -1.55220921e-07,\n",
        "        -1.55813595e-07,  -5.24918197e-07,  -3.06984566e-07,\n",
        "        -1.07681787e-07,   1.06581215e-07,   1.64223700e-07,\n",
        "        -8.61738809e-09,   5.12102961e-08,  -7.65318295e-08,\n",
        "        -2.12757590e-08,   1.58706936e-07,  -3.51528789e-07,\n",
        "         6.51667653e-08,  -3.10671662e-11,   3.64111934e-08,\n",
        "         4.44445806e-08,   6.01461267e-08,   5.80846389e-09,\n",
        "         7.58077234e-07,   1.60567741e-10,   1.71884883e-07,\n",
        "        -6.55539639e-08,  -9.73773778e-08,  -1.55022431e-08,\n",
        "        -1.07108378e-07,  -3.90529744e-08,  -5.56847794e-07,\n",
        "        -7.44278813e-08,  -4.63797971e-08,   3.72901271e-08,\n",
        "        -8.06883554e-08,  -5.16693307e-08,   1.56688220e-07,\n",
        "         7.97766061e-08,   1.98603481e-08,  -8.95599429e-08,\n",
        "         4.23258358e-07,   6.84891052e-07,   1.00050971e-08,\n",
        "        -3.68564228e-08,   6.80075319e-08,  -5.75952152e-08,\n",
        "        -2.20750280e-07,  -9.48761045e-08,   5.99125857e-08,\n",
        "         5.63291931e-08,  -1.24260562e-07,   9.21591891e-08,\n",
        "        -1.68633233e-07,  -6.50930797e-08,   1.96026534e-07,\n",
        "        -3.58617193e-09,  -4.09147962e-07,   6.87554032e-08,\n",
        "        -3.58020020e-11,   4.65627329e-08,   5.82173918e-08,\n",
        "        -4.64699717e-08,  -9.10978420e-09,   2.86253249e-07,\n",
        "         7.02340399e-08,   2.28788306e-07,   1.18842382e-07,\n",
        "        -1.92012666e-08,  -1.12510204e-07,   3.07753255e-08,\n",
        "         4.68775655e-08,  -6.69694219e-07,  -4.09679564e-08,\n",
        "         1.00989087e-07,   9.91439476e-10,   6.85939596e-08,\n",
        "        -2.07088101e-09,   2.84399055e-07,   7.34895229e-09,\n",
        "        -5.36292404e-08,   3.92691632e-08,   3.37648366e-07,\n",
        "         1.26894453e-07,  -6.96715808e-08,  -2.75259205e-08,\n",
        "         2.62241908e-10,  -9.56064728e-08,  -1.03689032e-07,\n",
        "         1.49467105e-08,  -4.45277708e-08,   9.16838073e-08,\n",
        "        -1.90458448e-07,   2.72983829e-08,  -2.27141716e-07,\n",
        "        -5.76371039e-08,   1.70747858e-07,   7.35186870e-08,\n",
        "        -3.94455185e-07,   3.70735490e-07,  -4.49816399e-11,\n",
        "        -1.03974815e-07,   9.02057639e-08,  -1.41246541e-08,\n",
        "         4.17939936e-08,  -2.12334810e-08,  -1.96928236e-10,\n",
        "         3.62607071e-07,  -1.08093536e-07,   7.98594367e-08,\n",
        "         8.62088638e-08,  -1.36355912e-07,   5.50534057e-08,\n",
        "        -1.30101376e-06,  -2.40514926e-08,  -1.32663041e-07,\n",
        "        -7.05901042e-08,   1.75660300e-08,   5.19561617e-08,\n",
        "        -1.56748851e-08,   1.67749219e-08,   2.04799241e-08,\n",
        "         3.23357238e-09,   5.27424862e-07,  -1.65748026e-07,\n",
        "         1.20100072e-07,  -1.30093956e-07,   1.92677936e-08,\n",
        "         1.67579588e-08,  -2.08200564e-07,   5.44929803e-08,\n",
        "        -9.83259541e-08,   2.52694335e-08,   6.96094440e-08,\n",
        "        -1.02736341e-07,  -3.02889736e-07,   3.34375183e-08,\n",
        "         1.05826066e-07,  -9.80430987e-09,  -2.94107668e-07,\n",
        "         3.53723570e-07,  -4.77559402e-11,   1.13426665e-07,\n",
        "         9.20232490e-09,  -6.65068185e-08,  -2.54856325e-08,\n",
        "         6.08821776e-07,   1.09082619e-08,   1.59115162e-07,\n",
        "         1.70434956e-07,   4.30337793e-08,  -1.11649526e-07,\n",
        "         9.28555139e-08,  -1.04275545e-07,  -3.79268641e-07,\n",
        "         8.69868636e-09,   2.08950092e-07,   5.14087148e-08,\n",
        "        -3.76231703e-08,   9.44663458e-09,   3.00523439e-07,\n",
        "         4.33876554e-08,  -1.84525167e-08,  -1.28586658e-07,\n",
        "         2.16431954e-07,   1.59510175e-07,   2.00743620e-08,\n",
        "         2.66549709e-08,   4.61369698e-08,   1.24084280e-07,\n",
        "        -4.58005118e-08,   1.97797013e-07,  -2.23898873e-08,\n",
        "        -1.68064412e-08,  -2.91264406e-07,   4.69432751e-08,\n",
        "        -2.09591155e-07,  -3.18035332e-08,   1.56291529e-07,\n",
        "        -2.97767529e-08,  -2.92077419e-07,   1.89688080e-07,\n",
        "         4.91634848e-06,   1.27070370e-06,   7.95833088e-07,\n",
        "         3.02118471e-06,   1.26276080e-06,   1.29884493e-06,\n",
        "         2.22845882e-06,   2.78263135e-06,   3.67377965e-06,\n",
        "         2.30304695e-06,   2.87733960e-06,   3.18617451e-06,\n",
        "         2.31359699e-06,   4.50847486e-06,  -7.80063148e-07,\n",
        "         3.01959816e-07,  -1.92351980e-06,  -5.68251735e-07,\n",
        "         2.10220713e-08,  -1.52241380e-06,  -2.63628773e-06,\n",
        "        -1.64510201e-06,  -5.68762775e-07,  -2.00376692e-06,\n",
        "        -3.20512138e-06,  -2.45919662e-06]), 'nit': 12, 'funcalls': 14}\n",
        "lala"
       ]
      },
      {
       "output_type": "stream",
       "stream": "stdout",
       "text": [
        " 1000.0 52.6666666667\n",
        "_______________BEST SCORE: 53.0\n",
        "best lambda: 1.0\n"
       ]
      }
     ],
     "prompt_number": 108
    },
    {
     "cell_type": "code",
     "collapsed": false,
     "input": [
      "new_acc = neuracc(opt_ot, all_x[0:300,:], np.atleast_2d(all_y[0:300]).T)\n",
      "print '_______________BEST SCORE:', new_acc"
     ],
     "language": "python",
     "metadata": {},
     "outputs": [
      {
       "output_type": "stream",
       "stream": "stdout",
       "text": [
        "_______________BEST SCORE: 53.3333333333\n"
       ]
      }
     ],
     "prompt_number": 107
    },
    {
     "cell_type": "code",
     "collapsed": false,
     "input": [
      "# how it does with mix and match\n",
      "from sklearn.metrics import *  \n",
      "\n",
      "y = np.atleast_2d(all_y[0:300]).T\n",
      "sol = np.ones(y.shape)*10\n",
      "tot = y.shape[0]\n",
      "count = 0.0\n",
      "for i, truth in enumerate(y):\n",
      "    sol[i] = np.argmax(h(opt_ot, layers, all_x[i,:]))\n",
      "\n",
      "\n",
      "print(classification_report(y, sol))"
     ],
     "language": "python",
     "metadata": {},
     "outputs": []
    },
    {
     "cell_type": "code",
     "collapsed": false,
     "input": [],
     "language": "python",
     "metadata": {},
     "outputs": []
    },
    {
     "cell_type": "code",
     "collapsed": false,
     "input": [],
     "language": "python",
     "metadata": {},
     "outputs": []
    },
    {
     "cell_type": "code",
     "collapsed": false,
     "input": [],
     "language": "python",
     "metadata": {},
     "outputs": []
    },
    {
     "cell_type": "code",
     "collapsed": false,
     "input": [],
     "language": "python",
     "metadata": {},
     "outputs": []
    },
    {
     "cell_type": "heading",
     "level": 3,
     "metadata": {},
     "source": [
      "SVM with weights"
     ]
    },
    {
     "cell_type": "code",
     "collapsed": false,
     "input": [
      "all_c"
     ],
     "language": "python",
     "metadata": {},
     "outputs": []
    },
    {
     "cell_type": "code",
     "collapsed": false,
     "input": [
      "clf_svm = svm.SVC(kernel='rbf', cache_size=1000, probability=True, C=10000000, gamma = 0.275)\n",
      "clf_svm.fit(all_x, all_y, sample_weight=all_c)"
     ],
     "language": "python",
     "metadata": {},
     "outputs": []
    },
    {
     "cell_type": "code",
     "collapsed": false,
     "input": [],
     "language": "python",
     "metadata": {},
     "outputs": []
    },
    {
     "cell_type": "code",
     "collapsed": false,
     "input": [],
     "language": "python",
     "metadata": {},
     "outputs": []
    },
    {
     "cell_type": "heading",
     "level": 3,
     "metadata": {},
     "source": [
      "ADABOOST"
     ]
    },
    {
     "cell_type": "code",
     "collapsed": false,
     "input": [
      "from sklearn.tree import DecisionTreeClassifier\n",
      "from sklearn.metrics import zero_one_loss\n",
      "from sklearn.ensemble import AdaBoostClassifier"
     ],
     "language": "python",
     "metadata": {},
     "outputs": []
    },
    {
     "cell_type": "code",
     "collapsed": false,
     "input": [
      "n_estimators = 100\n",
      "learning_rate = .00001    # A learning rate of 1. may not be optimal for both SAMME and SAMME.R"
     ],
     "language": "python",
     "metadata": {},
     "outputs": []
    },
    {
     "cell_type": "code",
     "collapsed": false,
     "input": [
      "X_train = all_x[300:,:]\n",
      "y_train = np.atleast_2d(all_y[300:]).T\n",
      "X_test =  all_x[0:300,:]\n",
      "y_test = np.atleast_2d(all_y[0:300]).T\n",
      "\n",
      "dt_stump = DecisionTreeClassifier(max_depth=1, min_samples_leaf=1)\n",
      "dt_stump.fit(X_train, y_train)\n",
      "dt_stump_err = 1.0 - dt_stump.score(X_test, y_test)\n"
     ],
     "language": "python",
     "metadata": {},
     "outputs": []
    },
    {
     "cell_type": "code",
     "collapsed": false,
     "input": [
      "#dt = DecisionTreeClassifier(max_depth=9, min_samples_leaf=1)\n",
      "#dt.fit(X_train, y_train)\n",
      "#dt_err = 1.0 - dt.score(X_test, y_test)\n",
      "\n",
      "ada_real = AdaBoostClassifier(\n",
      "    base_estimator=dt_stump,\n",
      "    learning_rate=learning_rate,\n",
      "    n_estimators=n_estimators,\n",
      "    algorithm=\"SAMME.R\")\n",
      "ada_real.fit(X_train, y_train)"
     ],
     "language": "python",
     "metadata": {},
     "outputs": []
    },
    {
     "cell_type": "code",
     "collapsed": false,
     "input": [
      "a = ada_real.predict(X_test)\n",
      "print(classification_report(y_test, a))"
     ],
     "language": "python",
     "metadata": {},
     "outputs": []
    },
    {
     "cell_type": "code",
     "collapsed": false,
     "input": [],
     "language": "python",
     "metadata": {},
     "outputs": []
    },
    {
     "cell_type": "code",
     "collapsed": false,
     "input": [],
     "language": "python",
     "metadata": {},
     "outputs": []
    },
    {
     "cell_type": "code",
     "collapsed": false,
     "input": [],
     "language": "python",
     "metadata": {},
     "outputs": []
    },
    {
     "cell_type": "code",
     "collapsed": false,
     "input": [],
     "language": "python",
     "metadata": {},
     "outputs": []
    },
    {
     "cell_type": "code",
     "collapsed": false,
     "input": [
      "ada_real_err = np.zeros((n_estimators,))\n",
      "for i, y_pred in enumerate(ada_real.staged_predict(X_test)):\n",
      "    ada_real_err[i] = zero_one_loss(y_pred, y_test)\n",
      "\n",
      "ada_real_err_train = np.zeros((n_estimators,))\n",
      "for i, y_pred in enumerate(ada_real.staged_predict(X_train)):\n",
      "    ada_real_err_train[i] = zero_one_loss(y_pred, y_train)\n"
     ],
     "language": "python",
     "metadata": {},
     "outputs": []
    },
    {
     "cell_type": "code",
     "collapsed": false,
     "input": [
      "fig = plt.figure()\n",
      "ax = fig.add_subplot(111)\n",
      "\n",
      "ax.plot([1, n_estimators], [dt_stump_err] * 2, 'k-',\n",
      "        label='Decision Stump Error')\n",
      "ax.plot([1, n_estimators], [dt_err] * 2, 'k--',\n",
      "        label='Decision Tree Error')\n",
      "\n",
      "ax.plot(np.arange(n_estimators) + 1, ada_real_err,\n",
      "        label='Real AdaBoost Test Error',\n",
      "        color='orange')\n",
      "ax.plot(np.arange(n_estimators) + 1, ada_real_err_train,\n",
      "        label='Real AdaBoost Train Error',\n",
      "        color='green')\n",
      "plt.show()"
     ],
     "language": "python",
     "metadata": {},
     "outputs": []
    },
    {
     "cell_type": "heading",
     "level": 3,
     "metadata": {},
     "source": [
      "RANDOM FOREST"
     ]
    },
    {
     "cell_type": "code",
     "collapsed": false,
     "input": [
      "from sklearn.cross_validation import cross_val_score\n",
      "from sklearn.ensemble import RandomForestClassifier\n",
      "from sklearn.ensemble import ExtraTreesClassifier\n",
      "from sklearn.tree import DecisionTreeClassifier\n",
      "\n",
      "#clf = DecisionTreeClassifier(max_depth=None, min_samples_split=1, random_state=0)\n",
      "clf = RandomForestClassifier(n_estimators=100, max_depth=None, min_samples_split=1, random_state=0)\n",
      "#clf = ExtraTreesClassifier(n_estimators=100, max_depth=None, min_samples_split=1, random_state=0)\n",
      "\n",
      "scores = cross_val_score(clf, all_x, all_y)\n",
      "scores.mean()\n"
     ],
     "language": "python",
     "metadata": {},
     "outputs": []
    },
    {
     "cell_type": "code",
     "collapsed": false,
     "input": [],
     "language": "python",
     "metadata": {},
     "outputs": []
    },
    {
     "cell_type": "code",
     "collapsed": false,
     "input": [],
     "language": "python",
     "metadata": {},
     "outputs": []
    },
    {
     "cell_type": "code",
     "collapsed": false,
     "input": [],
     "language": "python",
     "metadata": {},
     "outputs": []
    },
    {
     "cell_type": "code",
     "collapsed": false,
     "input": [],
     "language": "python",
     "metadata": {},
     "outputs": []
    },
    {
     "cell_type": "code",
     "collapsed": false,
     "input": [],
     "language": "python",
     "metadata": {},
     "outputs": []
    },
    {
     "cell_type": "code",
     "collapsed": false,
     "input": [],
     "language": "python",
     "metadata": {},
     "outputs": []
    },
    {
     "cell_type": "code",
     "collapsed": false,
     "input": [],
     "language": "python",
     "metadata": {},
     "outputs": []
    },
    {
     "cell_type": "heading",
     "level": 4,
     "metadata": {},
     "source": [
      "SVM & NN on all training data (included CV)"
     ]
    },
    {
     "cell_type": "code",
     "collapsed": false,
     "input": [
      "XX = np.vstack([X_CV, A])\n",
      "YY = np.hstack([Y_CV, B])"
     ],
     "language": "python",
     "metadata": {},
     "outputs": []
    },
    {
     "cell_type": "code",
     "collapsed": false,
     "input": [
      "final_svm = svm.SVC(kernel='rbf', cache_size=1000, probability=True, C=10000000, gamma = 0.3)\n",
      "final_svm.fit(XX, YY)"
     ],
     "language": "python",
     "metadata": {},
     "outputs": []
    },
    {
     "cell_type": "code",
     "collapsed": false,
     "input": [
      "M, nodes = XX.shape\n",
      "Y3 = np.atleast_2d(YY).T\n",
      "\n",
      "layers = [2*nodes, nodes, 2]\n",
      "tinit = np.hstack([randomize_thetas(2*nodes,nodes).flatten(), \n",
      "                   randomize_thetas(nodes,2*nodes).flatten(),\n",
      "                   randomize_thetas(2,nodes).flatten()])\n",
      "\n",
      "final_ot = optimizeThetas(tinit, layers, XX, Y3, 0.00001)"
     ],
     "language": "python",
     "metadata": {},
     "outputs": []
    },
    {
     "cell_type": "code",
     "collapsed": false,
     "input": [
      "print final_svm.support_vectors_.shape[0]\n",
      "print XX.shape"
     ],
     "language": "python",
     "metadata": {},
     "outputs": []
    },
    {
     "cell_type": "heading",
     "level": 4,
     "metadata": {},
     "source": [
      "Predict Test Set"
     ]
    },
    {
     "cell_type": "code",
     "collapsed": false,
     "input": [
      "x_test = x_all[1000:, :]\n",
      "\n",
      "## NN\n",
      "NN = np.zeros((9000, 2))\n",
      "for i, record in enumerate(x_test):\n",
      "    NN[i,0] = np.argmax(h(final_ot, layers, record))\n",
      "    NN[i,1] = np.max(h(final_ot, layers, record))\n",
      "\n",
      "# from previous and last SVM\n",
      "a = final_svm.predict(x_test)\n",
      "b = final_svm.predict_proba(x_test)\n",
      "\n",
      "to_submit_nn = np.zeros((9000,2))\n",
      "to_submit_svm_nn = np.zeros((9000,2))\n",
      "to_submit_svm = np.zeros((9000,2))\n",
      "\n",
      "different = 0\n",
      "changed_from_svm_to_nn = 0\n",
      "for i in range(9000):\n",
      "    p = int(a[i])\n",
      "    to_submit_svm[i,0] = i+1\n",
      "    to_submit_svm[i,1] = p\n",
      "\n",
      "    nn = int(NN[i,0])\n",
      "    if p!=nn:\n",
      "        different += 1\n",
      "        if b[i, p]<NN[i,1]:\n",
      "            print 'SVM (' + `p` + ') NN (' + `nn` + ')'\n",
      "            print 'changed_from_svm_to_nn', b[i, p], NN[i,1]\n",
      "            changed_from_svm_to_nn += 1\n",
      "            p = nn\n",
      "        else:\n",
      "            print '____ SVM (' + `p` + ') NN (' + `nn` + ')'\n",
      "            print '____ kept_svm_instead_of_nn', b[i, p], NN[i,1]    \n",
      "    to_submit_nn[i,0] = i+1\n",
      "    to_submit_nn[i,1] = nn\n",
      "    to_submit_svm_nn[i,0] = i+1\n",
      "    to_submit_svm_nn[i,1] = p\n",
      "    \n",
      "print 'svm and NN differ', different\n",
      "print 'changed_from_svm_to_nn', changed_from_svm_to_nn"
     ],
     "language": "python",
     "metadata": {},
     "outputs": []
    },
    {
     "cell_type": "code",
     "collapsed": false,
     "input": [],
     "language": "python",
     "metadata": {},
     "outputs": []
    },
    {
     "cell_type": "code",
     "collapsed": false,
     "input": [],
     "language": "python",
     "metadata": {},
     "outputs": []
    },
    {
     "cell_type": "heading",
     "level": 4,
     "metadata": {},
     "source": [
      "SAVING TEST PREDICTIONS"
     ]
    },
    {
     "cell_type": "code",
     "collapsed": false,
     "input": [
      "print 'To submitt add header: Id,Solution'\n",
      "print to_submit_svm[0:10,:]\n",
      "np.savetxt('./predictions_play_tuesday_svm.csv', to_submit_svm, fmt='%i,%i')"
     ],
     "language": "python",
     "metadata": {},
     "outputs": []
    },
    {
     "cell_type": "code",
     "collapsed": false,
     "input": [],
     "language": "python",
     "metadata": {},
     "outputs": []
    },
    {
     "cell_type": "code",
     "collapsed": false,
     "input": [
      "print 'To submitt add header: Id,Solution'\n",
      "print to_submit_nn[0:10,:]\n",
      "np.savetxt('./predictions_play_tuesday_nn.csv', to_submit_nn, fmt='%i,%i')"
     ],
     "language": "python",
     "metadata": {},
     "outputs": []
    },
    {
     "cell_type": "code",
     "collapsed": false,
     "input": [],
     "language": "python",
     "metadata": {},
     "outputs": []
    },
    {
     "cell_type": "code",
     "collapsed": false,
     "input": [
      "print 'To submitt add header: Id,Solution'\n",
      "print to_submit_svm_nn[0:10,:]\n",
      "np.savetxt('./predictions_play_tuesday_mix.csv', to_submit_svm_nn, fmt='%i,%i')"
     ],
     "language": "python",
     "metadata": {},
     "outputs": []
    },
    {
     "cell_type": "code",
     "collapsed": false,
     "input": [],
     "language": "python",
     "metadata": {},
     "outputs": []
    },
    {
     "cell_type": "code",
     "collapsed": false,
     "input": [],
     "language": "python",
     "metadata": {},
     "outputs": []
    }
   ],
   "metadata": {}
  }
 ]
}