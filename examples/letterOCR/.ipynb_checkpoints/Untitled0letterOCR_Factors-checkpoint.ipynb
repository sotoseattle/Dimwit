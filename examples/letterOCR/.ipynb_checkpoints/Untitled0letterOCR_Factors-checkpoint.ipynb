{
 "metadata": {
  "name": ""
 },
 "nbformat": 3,
 "nbformat_minor": 0,
 "worksheets": [
  {
   "cells": [
    {
     "cell_type": "code",
     "collapsed": false,
     "input": [
      "%cd '/Users/fjs6/Dropbox/fjs6/Journal/ideolog/Dimwit'"
     ],
     "language": "python",
     "metadata": {},
     "outputs": [
      {
       "output_type": "stream",
       "stream": "stdout",
       "text": [
        "/Users/fjs6/Dropbox/fjs6/Journal/ideolog/Dimwit\n"
       ]
      }
     ],
     "prompt_number": 466
    },
    {
     "cell_type": "code",
     "collapsed": false,
     "input": [
      "import Rvar\n",
      "import Factor\n",
      "import FactorOperations\n",
      "import matplotlib.pyplot as plt"
     ],
     "language": "python",
     "metadata": {},
     "outputs": [],
     "prompt_number": 467
    },
    {
     "cell_type": "code",
     "collapsed": false,
     "input": [
      "alpha = ['a','b','c','d','e','f','g','h','i','j','k','l','m','n','o','p','q','r','s','t','u','v','w','x','y','z']\n",
      "k = len(alpha)\n",
      "image_px = 128"
     ],
     "language": "python",
     "metadata": {},
     "outputs": [],
     "prompt_number": 468
    },
    {
     "cell_type": "code",
     "collapsed": false,
     "input": [
      "# THE SAMPLING DATA TO FEED THE BEAST\n",
      "\n",
      "file = open('examples/letterOCR/data/allwords_imgs.csv')\n",
      "stream_images = np.array(file.readline().split(',')).astype('int8')\n",
      "stream_images = np.reshape(stream_images, (128,-1), order='F') # 128 x 691\n",
      "file = open('examples/letterOCR/data/allwords_gtruth.csv')\n",
      "stream = np.array(file.readline().split(',')).astype('int8')\n",
      "\n",
      "allWords = {}\n",
      "w, counter = 0, 0\n",
      "letters, images = [], []\n",
      "\n",
      "for e in stream:\n",
      "    if e==0:\n",
      "        if len(letters)>0: #finish previous word\n",
      "            allWords[w] = {}\n",
      "            #print [alpha[x] for x in letters]\n",
      "            allWords[w]['gT']  = letters\n",
      "            allWords[w]['img'] = images\n",
      "            w +=1\n",
      "        # start new word\n",
      "            letters = []\n",
      "            images = []\n",
      "    else:\n",
      "        letters += [e-1]\n",
      "        images += [stream_images[:, counter]]\n",
      "        counter += 1"
     ],
     "language": "python",
     "metadata": {},
     "outputs": [],
     "prompt_number": 469
    },
    {
     "cell_type": "code",
     "collapsed": false,
     "input": [
      "def visualize(image):\n",
      "    z = np.array(image)\n",
      "    z = np.reshape(z, (16,8), order='F')\n",
      "    plt.imshow(z)\n",
      "    plt.show()"
     ],
     "language": "python",
     "metadata": {},
     "outputs": [],
     "prompt_number": 470
    },
    {
     "cell_type": "heading",
     "level": 4,
     "metadata": {},
     "source": [
      "Singleton Factors"
     ]
    },
    {
     "cell_type": "code",
     "collapsed": false,
     "input": [
      "# node Ci\n",
      "#v_c = Rvar.Rvar(1,k)"
     ],
     "language": "python",
     "metadata": {},
     "outputs": [],
     "prompt_number": 471
    },
    {
     "cell_type": "code",
     "collapsed": false,
     "input": [
      "def computeImageFactor(img, thetas):\n",
      "    '''we use softmax regression h() method'''\n",
      "    x = np.hstack([1., np.array(img)]) # 1. for the bias param\n",
      "    H = np.append(x.dot(thetas), 0.)   # the 0 is to add the last letter\n",
      "    H = H - np.amax(H)\n",
      "    H = np.exp(H)\n",
      "    suma = np.sum(H)\n",
      "    H = np.divide(H, suma)\n",
      "    return H"
     ],
     "language": "python",
     "metadata": {},
     "outputs": [],
     "prompt_number": 472
    },
    {
     "cell_type": "code",
     "collapsed": false,
     "input": [
      "data = [float(line.strip()) for line in open('examples/letterOCR/data/softmax_params_singleton.csv')]\n",
      "theta = np.array(data[0:3200]).reshape(128, 25) # 128 x 25\n",
      "bias = np.array(data[3200:]).reshape(1,-1)      # 1 x 25\n",
      "theta = np.vstack([bias, theta])"
     ],
     "language": "python",
     "metadata": {},
     "outputs": [],
     "prompt_number": 473
    },
    {
     "cell_type": "code",
     "collapsed": false,
     "input": [
      "def score_singletons():\n",
      "    tot_chars, tot_words, chars_ok, words_ok = 0., 0., 0., 0.\n",
      "    for i in range(len(allWords)):\n",
      "        tot_words +=1.\n",
      "        w = allWords[i]\n",
      "        count = 0.\n",
      "        num_letters = len(w['gT'])\n",
      "        if num_letters==4:\n",
      "            print i\n",
      "        for e in range(num_letters):\n",
      "            tot_chars +=1.\n",
      "            img = w['img'][e]\n",
      "            should_be = w['gT'][e]\n",
      "            a = computeImageFactor(img, theta)\n",
      "            what_is = np.argmax(a)\n",
      "            if what_is==should_be:\n",
      "                chars_ok +=1.\n",
      "                count +=1.\n",
      "        if count==num_letters:\n",
      "            words_ok +=1.\n",
      "    print 'words:', words_ok, (100.*words_ok/tot_words),'%'\n",
      "    print 'letters:', chars_ok, (100.*chars_ok/tot_chars),'%'\n",
      "    pass"
     ],
     "language": "python",
     "metadata": {},
     "outputs": [],
     "prompt_number": 474
    },
    {
     "cell_type": "code",
     "collapsed": false,
     "input": [
      "score_singletons()"
     ],
     "language": "python",
     "metadata": {},
     "outputs": [
      {
       "output_type": "stream",
       "stream": "stdout",
       "text": [
        "8\n",
        "48"
       ]
      },
      {
       "output_type": "stream",
       "stream": "stdout",
       "text": [
        "\n",
        "52\n",
        "74\n",
        "words:"
       ]
      },
      {
       "output_type": "stream",
       "stream": "stdout",
       "text": [
        " 22.0 22.2222222222 %\n",
        "letters: 528.0 76.8558951965 %\n"
       ]
      }
     ],
     "prompt_number": 475
    },
    {
     "cell_type": "heading",
     "level": 4,
     "metadata": {},
     "source": [
      "Pairwise Factors"
     ]
    },
    {
     "cell_type": "code",
     "collapsed": false,
     "input": [
      "file = open('examples/letterOCR/data/pairwiseModel.csv')\n",
      "prob_pairs = np.array(file.readline().split(',')).astype('float64')\n",
      "prob_pairs = np.reshape(prob_pairs, (26,26), order='F')\n",
      "\n",
      "file = open('examples/letterOCR/data/tripletModel.csv')\n",
      "prob_triplets = np.ones((26,26,26))\n",
      "for i in range(2000):\n",
      "    [a,b,c, p] = file.readline().split(',')\n",
      "    a,b,c = int(a), int(b), int(c)\n",
      "    prob_triplets[a,b,c] = float(p)"
     ],
     "language": "python",
     "metadata": {},
     "outputs": [],
     "prompt_number": 488
    },
    {
     "cell_type": "code",
     "collapsed": false,
     "input": [
      "def singletonFactor(var_char, img):\n",
      "    f = Factor.Factor([var_char])\n",
      "    f.values = computeImageFactor(img, theta)\n",
      "    return f"
     ],
     "language": "python",
     "metadata": {},
     "outputs": [],
     "prompt_number": 490
    },
    {
     "cell_type": "code",
     "collapsed": false,
     "input": [
      "def pairwiseFactor(var1, var2):\n",
      "    f = Factor.Factor([var1, var2])\n",
      "    f.values = prob_pairs\n",
      "    return f"
     ],
     "language": "python",
     "metadata": {},
     "outputs": [],
     "prompt_number": 491
    },
    {
     "cell_type": "code",
     "collapsed": false,
     "input": [
      "def tripletFactor(var1, var2, var3):\n",
      "    f = Factor.Factor([var1, var2, var3])\n",
      "    M = np.ones((26,26,26))\n",
      "    f.values = prob_triplets\n",
      "    return f"
     ],
     "language": "python",
     "metadata": {},
     "outputs": [],
     "prompt_number": 492
    },
    {
     "cell_type": "code",
     "collapsed": false,
     "input": [
      "v1 = Rvar.Rvar(1, 26)\n",
      "v2 = Rvar.Rvar(2, 26)\n",
      "v3 = Rvar.Rvar(3, 26)\n",
      "\n",
      "sol_sing = singletonFactor(v1, allWords[0]['img'][0])\n",
      "sol_pair = pairwiseFactor(v1, v2)\n",
      "sol_trip = tripletFactor(v1, v2, v3)\n"
     ],
     "language": "python",
     "metadata": {},
     "outputs": [],
     "prompt_number": 493
    },
    {
     "cell_type": "code",
     "collapsed": false,
     "input": [
      "sol_trip.values[10:30, 1, 0]"
     ],
     "language": "python",
     "metadata": {},
     "outputs": [
      {
       "metadata": {},
       "output_type": "pyout",
       "prompt_number": 494,
       "text": [
        "array([  4.41886117,   1.85371727,   1.03984595,   2.6214028 ,\n",
        "         3.01177482,   1.        ,   1.        ,   5.00809407,\n",
        "         5.5014039 ,  11.48114822,   1.        ,   1.        ,\n",
        "         4.98050214,   1.        ,   4.71141986,   2.69501972])"
       ]
      }
     ],
     "prompt_number": 494
    },
    {
     "cell_type": "code",
     "collapsed": false,
     "input": [],
     "language": "python",
     "metadata": {},
     "outputs": []
    },
    {
     "cell_type": "code",
     "collapsed": false,
     "input": [],
     "language": "python",
     "metadata": {},
     "outputs": []
    },
    {
     "cell_type": "code",
     "collapsed": false,
     "input": [],
     "language": "python",
     "metadata": {},
     "outputs": []
    },
    {
     "cell_type": "code",
     "collapsed": false,
     "input": [],
     "language": "python",
     "metadata": {},
     "outputs": []
    },
    {
     "cell_type": "code",
     "collapsed": false,
     "input": [],
     "language": "python",
     "metadata": {},
     "outputs": []
    },
    {
     "cell_type": "code",
     "collapsed": false,
     "input": [],
     "language": "python",
     "metadata": {},
     "outputs": []
    },
    {
     "cell_type": "code",
     "collapsed": false,
     "input": [],
     "language": "python",
     "metadata": {},
     "outputs": []
    },
    {
     "cell_type": "code",
     "collapsed": false,
     "input": [],
     "language": "python",
     "metadata": {},
     "outputs": []
    },
    {
     "cell_type": "code",
     "collapsed": false,
     "input": [],
     "language": "python",
     "metadata": {},
     "outputs": []
    },
    {
     "cell_type": "code",
     "collapsed": false,
     "input": [],
     "language": "python",
     "metadata": {},
     "outputs": []
    },
    {
     "cell_type": "code",
     "collapsed": false,
     "input": [],
     "language": "python",
     "metadata": {},
     "outputs": []
    }
   ],
   "metadata": {}
  }
 ]
}