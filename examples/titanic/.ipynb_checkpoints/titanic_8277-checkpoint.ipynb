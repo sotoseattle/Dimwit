{
 "metadata": {
  "name": ""
 },
 "nbformat": 3,
 "nbformat_minor": 0,
 "worksheets": [
  {
   "cells": [
    {
     "cell_type": "code",
     "collapsed": false,
     "input": [
      "%cd '~/Dropbox/fjs6/Journal/ideolog/Dimwit/examples/titanic/data/'"
     ],
     "language": "python",
     "metadata": {},
     "outputs": [
      {
       "output_type": "stream",
       "stream": "stdout",
       "text": [
        "/Users/fjs6/Dropbox/fjs6/Journal/ideolog/Dimwit/examples/titanic/data\n"
       ]
      }
     ],
     "prompt_number": 410
    },
    {
     "cell_type": "code",
     "collapsed": false,
     "input": [
      "import numpy as np\n",
      "from pandas import *\n",
      "import pandas\n",
      "import math\n",
      "import random\n",
      "from sklearn import preprocessing\n",
      "from sklearn import svm\n",
      "from sklearn.svm import SVC\n",
      "from sklearn.cross_validation import StratifiedKFold\n",
      "from sklearn.grid_search import GridSearchCV"
     ],
     "language": "python",
     "metadata": {},
     "outputs": [],
     "prompt_number": 411
    },
    {
     "cell_type": "code",
     "collapsed": false,
     "input": [
      "import math\n",
      "import pandas as pd\n",
      "import numpy as np\n",
      "import scipy as sc\n",
      "from scipy.optimize import fmin_l_bfgs_b\n",
      "\n",
      "# MODULE FOR NEURAL NETWORK\n",
      "\n",
      "\n",
      "def groundTruth(y, numLabels):\n",
      "    '''Expanded Y Matrix, I.e. label: 3 => [0,0,0,1,0,0,0,0,0,0]'''\n",
      "    m = y.shape[0]\n",
      "    groundTruth = np.zeros((m, numLabels))\n",
      "    for row in range(m):\n",
      "        groundTruth[row, y[row,0]] = 1\n",
      "    return groundTruth\n",
      "\n",
      "def sigmoid(z):\n",
      "    return np.vectorize(lambda x: 1/(1+np.exp(-x) + 1E-11))(z)\n",
      "\n",
      "def sigmoid_gradient(z):\n",
      "    return (sigmoid(z)*(1-sigmoid(z)))\n",
      "\n",
      "def unroll_thetas(n, layers, thetas_rolled):\n",
      "    thetas = [None]*len(layers)\n",
      "    start_cut = 0\n",
      "    cols = n+1\n",
      "    for i, rows in enumerate(layers):\n",
      "        end_cut = start_cut + cols*rows\n",
      "        thetas[i] = thetas_rolled[start_cut:end_cut].reshape(rows,cols)\n",
      "        start_cut = end_cut\n",
      "        cols = rows+1\n",
      "    return thetas\n",
      "\n",
      "def randomize_thetas(rows,cols):\n",
      "    epsilon_init = 0.12;\n",
      "    return np.random.rand(rows, cols+1) * 2 * epsilon_init - epsilon_init;\n",
      "\n",
      "def grad_by_hand(t, layers, x, y, regul_lambda, number_of_thetitas):\n",
      "    epsilon = 1e-4\n",
      "    n = t.size\n",
      "    grad = np.ones((n,)).astype('float64')\n",
      "    for i in range(number_of_thetitas):\n",
      "        t1 = np.copy(t)\n",
      "        t2 = np.copy(t)\n",
      "        t1[i] += epsilon\n",
      "        t2[i] -= epsilon\n",
      "        ja = j(t1, layers, x, y, regul_lambda)\n",
      "        jb = j(t2, layers, x, y, regul_lambda)\n",
      "        grad[i] = (ja-jb)/(2*epsilon)\n",
      "    return grad\n",
      "\n",
      "def feedforward(theta, input_v):\n",
      "    '''one layer forward computation, asumes input_v has no bias'''\n",
      "    m = input_v.shape[0]\n",
      "    input_v = np.hstack([np.ones((m,1)),input_v])\n",
      "    z = input_v.dot(theta.T)\n",
      "    return sigmoid(z)\n",
      "\n",
      "def h(thetas_rolled, layers, one_x):\n",
      "    thetas = unroll_thetas(len(one_x), layers, thetas_rolled)\n",
      "    a = one_x\n",
      "    for t in thetas:\n",
      "        a = sigmoid(np.hstack([1,a]) .dot(t.T))\n",
      "    return a\n",
      "\n",
      "def j(thetas_rolled, layers, x, y, lam):\n",
      "    m,n = x.shape\n",
      "    thetas = unroll_thetas(n, layers, thetas_rolled)\n",
      "    y_bloat = groundTruth(np.array(y), layers[-1])\n",
      "    a, r = x, 0.\n",
      "    for t in thetas:\n",
      "        a = np.hstack([np.ones((m,1)),a])\n",
      "        a = sigmoid(a.dot(t.T))\n",
      "        r += np.sum(t[:,1:]**2)    \n",
      "    J = (np.sum(-y_bloat*np.log(a) - (1-y_bloat)*np.log(1-a)) + (r*lam)/2)/m\n",
      "    return J\n",
      "\n",
      "def v(thetas_rolled, layers, x, y, lam):\n",
      "    m,n = x.shape\n",
      "    thetas = unroll_thetas(n, layers, thetas_rolled)\n",
      "    num_thetas = len(layers)\n",
      "    y_bloat = groundTruth(np.array(y), layers[-1])\n",
      "    \n",
      "    # forward => fill lists of 'activations' and 'z'\n",
      "    a, z = [x], [None]\n",
      "    for i in range(num_thetas):\n",
      "        a[-1] = np.hstack([np.ones((m,1)),a[-1]])\n",
      "        z.append(a[-1].dot(thetas[i].T))\n",
      "        a.append(sigmoid(z[-1]))\n",
      "    \n",
      "    # backwards => fill list of deltas\n",
      "    d = [(a[-1] - y_bloat)]    \n",
      "    for i in range(num_thetas, 1, -1):\n",
      "        d.insert(0, (d[0].dot(thetas[i-1][:,1:])) * sigmoid_gradient(z[i-1]))\n",
      "    \n",
      "    # forward => compute gradient\n",
      "    V = np.array([])\n",
      "    for i in range(num_thetas):\n",
      "        Vwip = (d[i].T.dot(a[i]) + (lam*thetas[i]))/m\n",
      "        Vwip[:,0] -= (lam/m) * thetas[i][:,0]\n",
      "        V = np.hstack([V, Vwip.flatten()])\n",
      "    return V\n",
      "\n",
      "def optimizeThetas(tinit, layers, x, y, lam, visual=True):\n",
      "    def f(w):\n",
      "        return j(w, layers, x, y, lam)\n",
      "    def fprime(w):\n",
      "        return v(w, layers, x, y, lam)\n",
      "    \n",
      "    [thetas, f, d] = fmin_l_bfgs_b(func=f, x0=tinit, fprime=fprime, maxiter=1000)\n",
      "    if visual:\n",
      "        print thetas[0:10]\n",
      "        print f\n",
      "        print d\n",
      "    return thetas\n"
     ],
     "language": "python",
     "metadata": {},
     "outputs": [],
     "prompt_number": 463
    },
    {
     "cell_type": "code",
     "collapsed": false,
     "input": [
      "tr_data = read_csv('train.csv')\n",
      "M = tr_data.shape[0]\n",
      "test_data = read_csv('test.csv')\n",
      "data = concat([tr_data, test_data], ignore_index=True)\n",
      "print 'cutout train set:', M"
     ],
     "language": "python",
     "metadata": {},
     "outputs": [
      {
       "output_type": "stream",
       "stream": "stdout",
       "text": [
        "cutout train set: 891\n"
       ]
      }
     ],
     "prompt_number": 413
    },
    {
     "cell_type": "code",
     "collapsed": false,
     "input": [
      "import re\n",
      "\n",
      "def extract_patt(patt, linea):\n",
      "    matchObj = re.match(patt, linea)\n",
      "    result = NaN\n",
      "    if matchObj:\n",
      "        return matchObj.group(1).lower()\n",
      "    else:\n",
      "        print \"No match!!\"\n",
      "        return NaN\n",
      "\n",
      "#def extract_title(linea):\n",
      "#    return extract_patt('^.+,\\s(.+)\\..+', linea)\n",
      "def extract_title(linea):\n",
      "    chuchi = extract_patt('^.+,\\s(.+)\\..+', linea)\n",
      "    if chuchi in ['don', 'dr', 'rev', 'major', 'col', 'jonkheer']:\n",
      "        chuchi = 'mr'\n",
      "    elif chuchi in ['dona', 'mrs. martin (elizabeth l', 'lady', 'mme', 'ms']:\n",
      "        chuchi = 'mrs'\n",
      "    elif chuchi in ['mme', 'mlle', 'miss']:\n",
      "        chuchi = 'mss'\n",
      "    return chuchi\n",
      "\n",
      "def extract_last_name(linea):\n",
      "    return extract_patt('^(.+),\\s.+\\..+', linea)\n",
      "\n",
      "def extract_first_letter(linea):\n",
      "    return extract_patt('^(.)\\d*', linea)\n",
      "\n",
      "data.Sex = data.Sex.map(lambda x: 1. if x=='male' else 0.)\n",
      "data['lastName'] = data.Name.map(extract_last_name)\n",
      "data['title'] = data.Name.map(extract_title)\n",
      "#data['cabinLetter'] = data.Name.map(extract_first_letter)\n",
      "#data['ticketLetter'] = data.Ticket.map(extract_first_letter)\n",
      "data['family'] = data.Parch + data.SibSp\n",
      "\n",
      "# Adding personal power\n",
      "data['charisma'] = data.Age*data.Pclass\n"
     ],
     "language": "python",
     "metadata": {},
     "outputs": [],
     "prompt_number": 414
    },
    {
     "cell_type": "code",
     "collapsed": false,
     "input": [
      "data.title.unique()"
     ],
     "language": "python",
     "metadata": {},
     "outputs": [
      {
       "metadata": {},
       "output_type": "pyout",
       "prompt_number": 415,
       "text": [
        "array(['mr', 'mrs', 'mss', 'master', 'sir', 'capt', 'the countess'], dtype=object)"
       ]
      }
     ],
     "prompt_number": 415
    },
    {
     "cell_type": "code",
     "collapsed": false,
     "input": [
      "# Age by BINS [0-14][15-20][21-40][41-60][61-100]\n",
      "def bin_age(edad):\n",
      "    if isnull(edad):\n",
      "        return NaN\n",
      "    elif edad<=14:\n",
      "        return 1.\n",
      "    elif edad<=30:\n",
      "        return 2.\n",
      "    elif edad<=60:\n",
      "        return 3.\n",
      "    else:\n",
      "        return 4.\n",
      "\n",
      "data['binAge'] = data.Age.map(bin_age)"
     ],
     "language": "python",
     "metadata": {},
     "outputs": [],
     "prompt_number": 416
    },
    {
     "cell_type": "code",
     "collapsed": false,
     "input": [
      "# Fare NaN\n",
      "fares_by_class = data.groupby('Pclass').Fare.median()\n",
      "\n",
      "def getFare(example):\n",
      "    if isnull(example['Fare']):\n",
      "        example['Fare'] = fares_by_class[example['Pclass']]\n",
      "    return example\n",
      "\n",
      "data = data.apply(getFare, axis=1)"
     ],
     "language": "python",
     "metadata": {},
     "outputs": [],
     "prompt_number": 417
    },
    {
     "cell_type": "code",
     "collapsed": false,
     "input": [],
     "language": "python",
     "metadata": {},
     "outputs": [],
     "prompt_number": 417
    },
    {
     "cell_type": "code",
     "collapsed": false,
     "input": [
      "def numeralize(ristra, label):\n",
      "    things = Series(ristra.unique()).to_dict()\n",
      "    levels = {v:k for k, v in things.items()}\n",
      "    data[label] = ristra.map(lambda x: levels[x] if notnull(levels[x]) else -1)\n",
      "\n",
      "def featurize(ristra, label):\n",
      "    things = Series(ristra.unique()).to_dict()\n",
      "    levels = {v:(label+'_'+str(v)) for k, v in things.items() if notnull(v)}\n",
      "    for k in levels:\n",
      "        data[levels[k]] = ristra.map(lambda x: 1 if x==k else 0)\n",
      "\n",
      "#titulos = Series(data.title.unique())\n",
      "#titulos = Series(data.title.unique()).to_dict()\n",
      "#titulos_levels = {v:k for k, v in titulos.items()}\n",
      "#data['title_level'] = data.title.map(lambda x: titulos_levels[x])\n",
      "\n",
      "numeralize(data.title, 'title_level')\n",
      "numeralize(data.Embarked, 'port_level')\n",
      "#featurize(data.cabinLetter, 'cb')\n",
      "#featurize(data.ticketLetter, 'tk')\n",
      "featurize(data.Embarked, 'pt')\n",
      "featurize(data.title, 'tt')"
     ],
     "language": "python",
     "metadata": {},
     "outputs": [],
     "prompt_number": 418
    },
    {
     "cell_type": "code",
     "collapsed": false,
     "input": [
      "data.columns"
     ],
     "language": "python",
     "metadata": {},
     "outputs": [
      {
       "metadata": {},
       "output_type": "pyout",
       "prompt_number": 419,
       "text": [
        "Index([u'Age', u'Cabin', u'Embarked', u'Fare', u'Name', u'Parch', u'PassengerId', u'Pclass', u'Sex', u'SibSp', u'Survived', u'Ticket', u'lastName', u'title', u'family', u'charisma', u'binAge', u'title_level', u'port_level', u'pt_Q', u'pt_S', u'pt_C', u'tt_sir', u'tt_the countess', u'tt_capt', u'tt_mss', u'tt_mrs', u'tt_master', u'tt_mr'], dtype=object)"
       ]
      }
     ],
     "prompt_number": 419
    },
    {
     "cell_type": "code",
     "collapsed": false,
     "input": [
      "\n"
     ],
     "language": "python",
     "metadata": {},
     "outputs": [],
     "prompt_number": 419
    },
    {
     "cell_type": "code",
     "collapsed": false,
     "input": [],
     "language": "python",
     "metadata": {},
     "outputs": [],
     "prompt_number": 419
    },
    {
     "cell_type": "heading",
     "level": 2,
     "metadata": {},
     "source": [
      "AGE"
     ]
    },
    {
     "cell_type": "code",
     "collapsed": false,
     "input": [
      "# IMPORTANT TO SET THIS BEFORE WE FILL AGES\n",
      "data['has_Age'] = data.Age.map(lambda x: 0. if isnull(x) else 1.)"
     ],
     "language": "python",
     "metadata": {},
     "outputs": [],
     "prompt_number": 420
    },
    {
     "cell_type": "code",
     "collapsed": false,
     "input": [
      "# GET MEDIAN AGE PER TITLE\n",
      "qqq = data.groupby('title')\n",
      "ages_by_title = qqq.Age.median()"
     ],
     "language": "python",
     "metadata": {},
     "outputs": [],
     "prompt_number": 421
    },
    {
     "cell_type": "code",
     "collapsed": false,
     "input": [
      "# FILL NaN WITH MEDIAN ACCORDING TO TITLE\n",
      "def getAge(example):\n",
      "    if isnull(example['Age']):\n",
      "        example['charisma'] = ages_by_title[example['title']]*example['Pclass']\n",
      "    else:\n",
      "        example['charisma'] = example['Age']*example['Pclass']\n",
      "    return example\n",
      "\n",
      "data = data.apply(getAge, axis=1)\n",
      "\n",
      "#print 'unextracted titles:', data[data.Age.isnull()==True].shape[0]\n",
      "#print data.ix[0:20,['title', 'Age']]"
     ],
     "language": "python",
     "metadata": {},
     "outputs": [],
     "prompt_number": 422
    },
    {
     "cell_type": "code",
     "collapsed": false,
     "input": [
      "data.count()[0]"
     ],
     "language": "python",
     "metadata": {},
     "outputs": [
      {
       "metadata": {},
       "output_type": "pyout",
       "prompt_number": 423,
       "text": [
        "1046"
       ]
      }
     ],
     "prompt_number": 423
    },
    {
     "cell_type": "code",
     "collapsed": false,
     "input": [
      "def get_relatives(record):\n",
      "    if record['family']==0:\n",
      "        return 0.\n",
      "    if record['Sex']==0:\n",
      "        sol = data[(data.lastName==record['lastName']) | (data.Cabin==record['Cabin'])][data.Survived==1][data.PassengerId!=record['PassengerId']]\n",
      "    else:\n",
      "        sol = data[(data.lastName==record['lastName']) | (data.Cabin==record['Cabin'])][data.Survived==1][data.PassengerId!=record['PassengerId']][data.Age>=record['Age']]\n",
      "    if sol.empty:\n",
      "        return 0.\n",
      "    else:\n",
      "        return 1.\n",
      "def get_relatives2(record):\n",
      "    qqq = data[data.lastName==record['Ticket']][data.PassengerId!=record['PassengerId']]\n",
      "    \n",
      "    if record['family']==0:\n",
      "        return 0.\n",
      "    #elif record['family']!=qqq.count()[0]:\n",
      "    #    print record['PassengerId']\n",
      "    \n",
      "    if record['Sex']==0:\n",
      "        sol = qqq[data.Survived==1]\n",
      "    else:\n",
      "        sol = qqq[data.Survived==1][data.Age>=record['Age']]\n",
      "    if sol.empty:\n",
      "        return 0.\n",
      "    else:\n",
      "        return 1.\n",
      "\n",
      "def get_relatives3(record):\n",
      "    sol = data[data.lastName==record['Ticket']][data.PassengerId!=record['PassengerId']][data.Age>=record['Age']]\n",
      "    if sol.empty:\n",
      "        return 0.\n",
      "    else:\n",
      "        return 1.\n",
      "    \n",
      "data['overseer'] = data.apply(get_relatives, axis=1)\n",
      "data['overseer2'] = data.apply(get_relatives2, axis=1)\n",
      "data['overseer3'] = data.apply(get_relatives3, axis=1)"
     ],
     "language": "python",
     "metadata": {},
     "outputs": [],
     "prompt_number": 424
    },
    {
     "cell_type": "heading",
     "level": 3,
     "metadata": {},
     "source": [
      "NEURON THE AGE"
     ]
    },
    {
     "cell_type": "code",
     "collapsed": false,
     "input": [
      "# 'Fare', 'Parch','Pclass','Sex','SibSp','family', 'charisma','title_level', 'binAge'\n",
      "predictors_of_age_bin = ['Fare', 'Parch','Pclass','Sex','SibSp','family', 'charisma','title_level', 'binAge']\n",
      "\n",
      "def mungeA(df):\n",
      "    return df.ix[:,predictors_of_age_bin]\n",
      "mungedA = mungeA(data[notnull(data.binAge)])\n",
      "\n",
      "print mungedA.columns\n",
      "\n",
      "y_allA = mungedA.pop('binAge')-1\n",
      "x_allA = np.array(mungedA)\n",
      "\n",
      "scaler = preprocessing.StandardScaler().fit(x_allA)\n",
      "x_allA = scaler.transform(x_allA)\n",
      "\n",
      "xeA = x_allA[0:200]\n",
      "xtA = x_allA[200:]\n",
      "\n",
      "yeA = np.atleast_2d(y_allA[0:200]).T\n",
      "ytA = np.atleast_2d(y_allA[200:]).T"
     ],
     "language": "python",
     "metadata": {},
     "outputs": [
      {
       "output_type": "stream",
       "stream": "stdout",
       "text": [
        "Index([u'Fare', u'Parch', u'Pclass', u'Sex', u'SibSp', u'family', u'charisma', u'title_level', u'binAge'], dtype=object)\n"
       ]
      }
     ],
     "prompt_number": 425
    },
    {
     "cell_type": "code",
     "collapsed": false,
     "input": [
      "layers = [8, 8, 4]\n",
      "tinit = np.hstack([randomize_thetas(8,8).flatten(), randomize_thetas(8,8).flatten(), randomize_thetas(4,8).flatten()])"
     ],
     "language": "python",
     "metadata": {},
     "outputs": [],
     "prompt_number": 426
    },
    {
     "cell_type": "code",
     "collapsed": false,
     "input": [
      "def neuracc(thetas):\n",
      "    tot = yeA.shape[0]\n",
      "    count = 0.0\n",
      "    for i, truth in enumerate(yeA):\n",
      "        sol = h(thetas, layers, xeA[i])\n",
      "        if np.argmax(sol)== truth[0]:\n",
      "            count +=1\n",
      "    return 100.*count/tot"
     ],
     "language": "python",
     "metadata": {},
     "outputs": [],
     "prompt_number": 427
    },
    {
     "cell_type": "code",
     "collapsed": false,
     "input": [
      "best_lala = 0.\n",
      "best_acc  = 0.\n",
      "opt_thetas = None\n",
      "#for lala in [0.01, 0.1, 1, 10]:\n",
      "for lala in [0.05]:\n",
      "    ot = optimizeThetas(tinit, layers, xtA, ytA, lala)\n",
      "    new_acc = neuracc(ot)\n",
      "    if new_acc>best_acc:\n",
      "        best_acc = new_acc\n",
      "        best_lala = lala\n",
      "        opt_thetas = ot\n",
      "\n",
      "print 'BEST ACC', best_acc\n",
      "print ' WITH LAMBDA', best_lala\n",
      "#opt_thetas = optimizeThetas(tinit, layers, xtA, ytA, 1.0)"
     ],
     "language": "python",
     "metadata": {},
     "outputs": [
      {
       "output_type": "stream",
       "stream": "stdout",
       "text": [
        "[ 2.24390945 -0.49043184 -0.65775016  0.18431535 -0.26553359  0.54392616\n",
        " -0.03915826  6.00971691  0.7921132  -1.77622854]\n",
        "0.073708388409\n",
        "{'warnflag': 1, 'task': 'STOP: TOTAL NO. of ITERATIONS EXCEEDS LIMIT', 'grad': array([  6.50873522e-05,  -5.04121636e-05,  -7.29151245e-05,\n",
        "        -1.63570859e-04,   3.48288620e-04,  -2.56663032e-04,\n",
        "        -2.03312891e-04,   5.44343918e-05,  -2.10733311e-04,\n",
        "         3.83956376e-04,   7.05757781e-04,   1.95571194e-04,\n",
        "         6.28758633e-05,   3.61923342e-04,  -2.57651880e-04,\n",
        "        -4.87517549e-05,   2.09384846e-04,  -2.66997392e-04,\n",
        "        -2.03002924e-04,  -4.47025459e-04,  -2.55654386e-04,\n",
        "         3.81779379e-04,  -1.41158187e-05,   1.10954170e-04,\n",
        "        -7.81635410e-05,   4.44991413e-04,   8.37411283e-07,\n",
        "        -3.30849329e-05,   1.82164279e-04,   2.85993288e-05,\n",
        "        -1.38630364e-04,   3.02911876e-04,   9.92524851e-05,\n",
        "         7.88483419e-05,  -1.01851915e-04,   1.01790503e-05,\n",
        "         1.76823795e-04,   9.35695519e-04,   1.93790918e-04,\n",
        "        -1.76591224e-04,  -5.27505026e-04,  -1.87391781e-04,\n",
        "        -5.66566136e-06,  -1.54971875e-04,   3.47757484e-04,\n",
        "         2.66291924e-05,  -3.99905393e-05,  -3.83016544e-07,\n",
        "         6.72382510e-05,   1.49467326e-04,  -7.99698375e-05,\n",
        "        -5.04542710e-05,  -1.44521200e-04,   3.48662783e-05,\n",
        "         1.55458290e-05,   3.92101620e-05,  -4.35284530e-05,\n",
        "        -7.84999882e-05,   5.74473511e-05,   6.63947780e-05,\n",
        "         1.65407255e-05,  -2.77948331e-05,  -3.49204067e-05,\n",
        "         2.67508302e-05,   5.89400668e-06,   8.05461176e-05,\n",
        "         9.14623541e-05,  -7.08389008e-05,   2.09666695e-04,\n",
        "         1.78210498e-04,   2.55569013e-05,   2.83960418e-05,\n",
        "         1.04121434e-04,   2.90313406e-05,   2.47182313e-05,\n",
        "         2.90388528e-05,   4.25874742e-05,   1.07567584e-04,\n",
        "         7.81698588e-05,   1.18581970e-04,   7.72268100e-05,\n",
        "         6.43624965e-05,  -4.11841784e-06,   5.43453616e-05,\n",
        "         3.65951147e-06,  -2.28593199e-05,   6.19743153e-05,\n",
        "         9.39923415e-06,  -1.55958552e-06,   6.67390002e-05,\n",
        "         5.28952335e-05,   9.15791835e-05,  -9.76180240e-07,\n",
        "         4.88246153e-06,  -6.31503179e-06,  -4.09904144e-05,\n",
        "         1.45635497e-04,   2.86649461e-05,   8.14262014e-05,\n",
        "        -3.60703602e-05,  -3.14930802e-05,  -3.58761893e-05,\n",
        "         6.25539933e-05,   2.89383666e-05,  -5.46544375e-05,\n",
        "        -3.34117884e-05,  -4.22891355e-05,   1.88406868e-05,\n",
        "         1.15310705e-04,   1.69250214e-05,   9.47462545e-05,\n",
        "         2.16437988e-05,  -1.54190899e-05,   1.06919830e-04,\n",
        "         3.31153903e-05,   2.98793991e-05,   1.17870620e-04,\n",
        "        -5.44773691e-05,  -2.86708668e-05,  -1.25158212e-05,\n",
        "         3.88117065e-05,   2.83922057e-05,  -1.81299939e-05,\n",
        "        -4.90864125e-05,  -1.36729054e-04,  -2.48345908e-05,\n",
        "        -1.17072769e-05,  -1.15999333e-05,  -1.45929316e-05,\n",
        "        -8.20188861e-05,  -3.28567384e-05,  -2.05128647e-05,\n",
        "         1.25579105e-06,  -5.05389932e-05,   1.66031615e-05,\n",
        "         4.78975181e-05,   4.05763476e-06,   3.67016614e-05,\n",
        "        -2.72980502e-05,  -2.50185512e-05,   3.98511205e-05,\n",
        "         7.30425940e-06,  -1.85706399e-05,   5.91693533e-05,\n",
        "         1.11916489e-05,   1.26119715e-05,   1.32874245e-05,\n",
        "        -6.98373503e-08,   4.36805223e-06,  -9.56990450e-06,\n",
        "        -1.84462702e-05,  -1.04301015e-05,  -2.81992806e-06,\n",
        "        -9.49017051e-05,   1.83969471e-05,  -9.13769342e-05,\n",
        "        -1.21500732e-05,  -3.65408197e-05,  -6.91548269e-05,\n",
        "         1.85769735e-06,  -6.41650279e-05,  -7.45112371e-05,\n",
        "         2.21638115e-05,   6.28440383e-05,   1.37848028e-05,\n",
        "         1.06084304e-05,   4.99899322e-05,   1.60921516e-05,\n",
        "        -1.46863769e-05,   1.69800539e-05,   1.51021291e-05,\n",
        "         1.15575865e-04,  -1.48398743e-05,   1.21167928e-04,\n",
        "         8.65187446e-05,   1.17396989e-04,   1.18795450e-04,\n",
        "         5.14040097e-05,   1.16938194e-04,   1.18825980e-04]), 'nit': 801, 'funcalls': 862}\n",
        "BEST ACC"
       ]
      },
      {
       "output_type": "stream",
       "stream": "stdout",
       "text": [
        " 98.5\n",
        " WITH LAMBDA 0.05\n"
       ]
      }
     ],
     "prompt_number": 18
    },
    {
     "cell_type": "code",
     "collapsed": false,
     "input": [
      "def bin_age_revisited(record):\n",
      "    xm = np.array(record.ix[predictors_of_age_bin])\n",
      "    if isnull(record['binAge']):\n",
      "        bino = np.argmax(h(opt_thetas, layers, xm))+1\n",
      "        if bino==1:\n",
      "            ajo = 7.\n",
      "        elif bino==2:\n",
      "            ajo = 21.\n",
      "        elif bino==3:\n",
      "            ajo = 50.\n",
      "        else:\n",
      "            ajo = 68.\n",
      "        record['binAge'] = bino\n",
      "        record['Age'] = ajo\n",
      "        #record['charisma'] = ajo*record['Pclass']\n",
      "    return record\n",
      "\n",
      "predictors_of_age_bin.remove('binAge')\n",
      "data = data.apply(bin_age_revisited, axis=1)"
     ],
     "language": "python",
     "metadata": {},
     "outputs": [],
     "prompt_number": 428
    },
    {
     "cell_type": "code",
     "collapsed": false,
     "input": [
      "data.charisma = data.Age*data.Pclass"
     ],
     "language": "python",
     "metadata": {},
     "outputs": [],
     "prompt_number": 429
    },
    {
     "cell_type": "heading",
     "level": 6,
     "metadata": {},
     "source": [
      "def get_relatives2(record):\n",
      "    if record['Parch']==0:\n",
      "        return 0.    \n",
      "    sol = data[data.lastName==record['lastName']][data.Survived==1][data.PassengerId!=record['PassengerId']]\n",
      "    if sol[data.Age+16<record['Age']].shape[0]>0:\n",
      "        return 1\n",
      "    else:\n",
      "        return 0\n",
      "data['my_kid_survived'] = data.apply(get_relatives2, axis=1)\n",
      "\n",
      "def get_relatives3(record):\n",
      "    if record['Parch']==0:\n",
      "        return 0.    \n",
      "    sol = data[data.lastName==record['lastName']][data.Survived==1][data.PassengerId!=record['PassengerId']]\n",
      "    if sol[data.Age+16>record['Age']].shape[0]>0:\n",
      "        return 1\n",
      "    else:\n",
      "        return 0\n",
      "data['my_parent_survived'] = data.apply(get_relatives3, axis=1)\n",
      "\n",
      "def get_relatives4(record):\n",
      "    if record['SibSp']==0:\n",
      "        return 0\n",
      "    sol = data[data.lastName==record['lastName']][data.Survived==1][data.PassengerId!=record['PassengerId']]    \n",
      "    if record['Sex']==1:\n",
      "        if sol[sol['Sex']==0].shape[0]>0:\n",
      "            return 1\n",
      "        else:\n",
      "            return 0\n",
      "    else:\n",
      "        return 0\n",
      "data['my_wife_survived'] = data.apply(get_relatives4, axis=1)\n",
      "\n",
      "def get_relatives5(record):\n",
      "    if record['SibSp']==0:\n",
      "        return 0\n",
      "    sol = data[data.lastName==record['lastName']][data.Survived==1][data.PassengerId!=record['PassengerId']]    \n",
      "    if record['Sex']==0:\n",
      "        if sol[sol['Sex']==1].shape[0]>0:\n",
      "            return 1\n",
      "        else:\n",
      "            return 0\n",
      "    else:\n",
      "        return 0\n",
      "data['my_husband_survived'] = data.apply(get_relatives5, axis=1)"
     ]
    },
    {
     "cell_type": "heading",
     "level": 3,
     "metadata": {},
     "source": [
      "SELECT FEATURES AND X_ALL, Y_ALL"
     ]
    },
    {
     "cell_type": "code",
     "collapsed": false,
     "input": [
      "data.columns"
     ],
     "language": "python",
     "metadata": {},
     "outputs": [
      {
       "metadata": {},
       "output_type": "pyout",
       "prompt_number": 430,
       "text": [
        "Index([u'Age', u'Cabin', u'Embarked', u'Fare', u'Name', u'Parch', u'PassengerId', u'Pclass', u'Sex', u'SibSp', u'Survived', u'Ticket', u'lastName', u'title', u'family', u'charisma', u'binAge', u'title_level', u'port_level', u'pt_Q', u'pt_S', u'pt_C', u'tt_sir', u'tt_the countess', u'tt_capt', u'tt_mss', u'tt_mrs', u'tt_master', u'tt_mr', u'has_Age', u'overseer', u'overseer2', u'overseer3'], dtype=object)"
       ]
      }
     ],
     "prompt_number": 430
    },
    {
     "cell_type": "heading",
     "level": 3,
     "metadata": {},
     "source": [
      "NEURAL NETWORK ALL"
     ]
    },
    {
     "cell_type": "code",
     "collapsed": false,
     "input": [
      "def neuracc(thetas, x, y):\n",
      "    tot = y.shape[0]\n",
      "    count = 0.0\n",
      "    for i, truth in enumerate(y):\n",
      "        sol = h(thetas, layers, x[i])\n",
      "        if np.argmax(sol)== truth[0]:\n",
      "            count +=1.\n",
      "    return 100.*count/tot"
     ],
     "language": "python",
     "metadata": {},
     "outputs": [],
     "prompt_number": 465
    },
    {
     "cell_type": "code",
     "collapsed": false,
     "input": [
      "munged = data.copy()\n",
      "munged = munged[['Survived', 'title_level', 'family', 'Fare', 'Pclass', 'overseer', 'charisma', 'pt_Q']].ix[:,]\n",
      "\n",
      "munged.columns"
     ],
     "language": "python",
     "metadata": {},
     "outputs": [
      {
       "metadata": {},
       "output_type": "pyout",
       "prompt_number": 466,
       "text": [
        "Index([u'Survived', u'title_level', u'family', u'Fare', u'Pclass', u'overseer', u'charisma', u'pt_Q'], dtype=object)"
       ]
      }
     ],
     "prompt_number": 466
    },
    {
     "cell_type": "code",
     "collapsed": false,
     "input": [
      "import itertools\n",
      "\n",
      "\n",
      "y_all = munged.pop('Survived')\n",
      "\n",
      "\n",
      "feats = len(munged.columns)\n",
      "print feats, munged.columns\n",
      "\n",
      "total_features = len(munged.columns)\n",
      "\n",
      "lala = 1.\n",
      "\n",
      "YY = np.atleast_2d(y_all[0:M]).T\n",
      "\n",
      "\n",
      "opt_score = 0.\n",
      "opt_lala = 0.\n",
      "\n",
      "x_all = np.array(munged).astype('float64')\n",
      "scaler = preprocessing.StandardScaler().fit(x_all)\n",
      "x_all = scaler.transform(x_all)\n",
      "\n",
      "X0 = x_all[0:M,:]\n",
      "nodes = X0.shape[1]\n",
      "layers = [nodes, nodes, 2]\n",
      "tinit = np.hstack([randomize_thetas(nodes,nodes).flatten(), randomize_thetas(nodes,nodes).flatten(), randomize_thetas(2,nodes).flatten()])\n",
      "\n",
      "cut = M-50\n",
      "#for lala in [1., 10., 30.]:\n",
      "#for lala in [0.48, 0.52]:\n",
      "for lala in [.5]:\n",
      "    ot = optimizeThetas(tinit, layers, X0[0:cut,:], YY[0:cut,:], lala)\n",
      "    new_acc = neuracc(ot, X0[cut:cut+200,:], YY[cut:cut+200,:])\n",
      "    print 'lala', lala, new_acc\n",
      "    if new_acc > opt_score:\n",
      "        opt_score = new_acc\n",
      "        opt_lala = lala\n",
      "\n",
      "print '_______________BEST SCORE:', opt_score\n",
      "print 'best lambda:', opt_lala"
     ],
     "language": "python",
     "metadata": {},
     "outputs": [
      {
       "output_type": "stream",
       "stream": "stdout",
       "text": [
        "7 Index([u'title_level', u'family', u'Fare', u'Pclass', u'overseer', u'charisma', u'pt_Q'], dtype=object)\n",
        "[-3.16998493 -1.14163124  1.4796707   1.86922279  0.60295076  0.19974486\n",
        "  0.10747811  0.04071742 -0.87101883 -0.75404504]"
       ]
      },
      {
       "output_type": "stream",
       "stream": "stdout",
       "text": [
        "\n",
        "0.750111293449\n",
        "{'warnflag': 0, 'task': 'CONVERGENCE: NORM_OF_PROJECTED_GRADIENT_<=_PGTOL', 'grad': array([  8.45756208e-07,  -3.92416927e-06,   2.99172479e-06,\n",
        "         7.31339032e-06,  -2.46905265e-06,   4.80803430e-06,\n",
        "        -1.81029405e-06,  -3.67706176e-06,   3.15078935e-06,\n",
        "         6.30095992e-06,  -6.24346191e-06,   2.98994270e-06,\n",
        "         4.01770019e-06,  -9.00221710e-07,   5.31727364e-06,\n",
        "         7.52125895e-06,   1.00683081e-06,  -1.04047445e-06,\n",
        "        -1.99683064e-06,  -8.40946285e-06,  -4.59717495e-06,\n",
        "        -3.38269090e-06,   2.85806531e-06,   9.67194655e-06,\n",
        "        -1.53490095e-06,  -2.48022625e-06,   5.00072015e-07,\n",
        "         7.37124374e-06,  -1.25653168e-06,  -6.64141319e-06,\n",
        "        -1.24657680e-06,   5.89252659e-06,  -1.78269808e-06,\n",
        "        -1.83376237e-06,  -1.94063615e-06,  -5.43280049e-06,\n",
        "         1.42982149e-06,  -7.31506965e-06,  -1.91517470e-06,\n",
        "         2.98991301e-06,   1.46366722e-07,   1.81647266e-06,\n",
        "         3.78583540e-06,  -4.26357970e-06,   3.84209443e-06,\n",
        "        -2.31567344e-06,  -4.43452745e-06,  -2.72673766e-06,\n",
        "        -3.25700940e-06,   4.14663077e-06,  -3.89271998e-07,\n",
        "         3.65902057e-06,  -4.05835685e-06,   1.62499667e-06,\n",
        "        -7.23660739e-06,  -8.63727114e-06,   9.93754968e-07,\n",
        "        -5.34245431e-07,   2.41690312e-06,   3.67785508e-06,\n",
        "        -1.13608885e-07,   3.73465501e-06,   7.04166343e-07,\n",
        "         7.51800276e-07,  -3.17114218e-06,   5.54737318e-07,\n",
        "        -2.43211461e-06,  -3.26850986e-06,  -1.99291313e-06,\n",
        "        -6.01949939e-07,  -1.16240202e-06,  -6.80462781e-07,\n",
        "        -2.96737652e-06,   4.17227958e-07,  -2.15683720e-06,\n",
        "        -3.44951198e-06,  -1.90595156e-06,  -7.72160527e-07,\n",
        "        -8.28268913e-07,  -4.32061492e-07,   3.51448731e-06,\n",
        "         1.53963198e-07,   2.09879541e-06,   1.81902202e-06,\n",
        "         2.18738353e-06,   2.81855596e-06,   9.32779470e-07,\n",
        "         1.95078688e-06,   1.13839031e-06,  -6.25501987e-07,\n",
        "        -3.20447214e-07,  -8.20584141e-07,   2.25779739e-06,\n",
        "        -8.98615497e-07,   5.82812042e-07,   8.03113098e-07,\n",
        "        -2.33240323e-06,   3.08328121e-07,  -1.43264265e-06,\n",
        "        -2.40945212e-06,  -1.79903255e-06,  -3.89376342e-07,\n",
        "        -3.82542339e-07,  -5.80504779e-07,  -5.35406430e-06,\n",
        "        -6.09221066e-07,  -9.85077340e-07,   2.37061594e-07,\n",
        "        -2.28036219e-06,   3.27959927e-07,  -1.48536074e-07,\n",
        "        -1.63742076e-06,   2.47263635e-07,  -2.56953606e-06,\n",
        "        -7.71746427e-07,  -5.76890471e-07,  -1.79485683e-06,\n",
        "        -1.77780105e-06,  -1.38231605e-06,  -2.46021433e-06,\n",
        "        -2.46901308e-07,   2.58097481e-06,   7.58575291e-07,\n",
        "         5.66098827e-07,   1.81354683e-06,   1.78042701e-06,\n",
        "         1.38929610e-06,   2.44840963e-06]), 'nit': 786, 'funcalls': 855}\n",
        "lala 0.5 92.0\n",
        "[-2.72367885  2.42309425 -0.0788873  -0.86305823  1.16924378 -0.1405963\n",
        " -0.43201851 -0.17838045  1.98782261 -0.06572566]"
       ]
      },
      {
       "output_type": "stream",
       "stream": "stdout",
       "text": [
        "\n",
        "0.818066156216\n",
        "{'warnflag': 0, 'task': 'CONVERGENCE: NORM_OF_PROJECTED_GRADIENT_<=_PGTOL', 'grad': array([  5.48128357e-06,  -6.17810805e-06,   9.09522837e-08,\n",
        "        -2.41071885e-06,  -3.48515540e-06,  -1.28937419e-06,\n",
        "         7.00049749e-06,   1.79977930e-06,  -7.67662244e-07,\n",
        "         1.52833844e-07,   1.09557643e-06,   5.55197434e-06,\n",
        "         1.34753995e-06,  -5.13216396e-07,   4.21885779e-06,\n",
        "         6.20116144e-06,  -5.32344324e-06,  -9.84202839e-06,\n",
        "         8.66674722e-06,  -6.16582008e-07,  -1.07009775e-06,\n",
        "         1.83163307e-07,   7.39323340e-06,  -3.21749942e-06,\n",
        "        -3.55735698e-07,   6.22305446e-07,  -2.49647714e-06,\n",
        "         6.32433569e-08,  -6.72717047e-07,   9.38064218e-06,\n",
        "        -9.22740111e-06,  -2.39607950e-07,  -2.64966387e-06,\n",
        "        -4.53297036e-06,   2.76478120e-06,  -2.51452179e-06,\n",
        "         2.49331749e-06,   2.66458809e-06,  -9.57437904e-07,\n",
        "         4.28872841e-06,   3.51379623e-06,   3.73923745e-07,\n",
        "        -3.51971063e-06,   2.16659840e-06,   1.37714888e-07,\n",
        "        -1.21833989e-06,  -8.37842283e-07,   7.57872295e-06,\n",
        "        -5.11095234e-06,   1.24309438e-06,  -4.34309377e-08,\n",
        "         2.35791761e-06,  -1.57823217e-06,  -4.12311111e-06,\n",
        "        -3.37985501e-06,  -5.77431781e-06,   2.26688313e-07,\n",
        "         4.31500506e-06,  -2.27861182e-06,  -3.87226572e-06,\n",
        "        -2.74456918e-06,   4.29920320e-07,   1.56147995e-06,\n",
        "        -3.38204312e-06,  -7.08435820e-07,  -1.82925083e-06,\n",
        "         3.63056837e-06,   1.04357995e-06,   1.73717191e-06,\n",
        "         1.56398600e-07,  -9.39144701e-07,   2.07393164e-06,\n",
        "        -7.89911292e-08,  -1.62011478e-06,   4.01418644e-06,\n",
        "         1.23755395e-06,   1.92840752e-06,   3.00968055e-07,\n",
        "        -7.13029984e-07,   2.36860496e-06,  -2.18357426e-07,\n",
        "         3.39474253e-06,   6.19714626e-07,  -4.80372378e-07,\n",
        "        -3.28910376e-06,   1.66349861e-06,   1.28513177e-06,\n",
        "        -1.07784423e-06,  -3.20939030e-06,   1.72855442e-06,\n",
        "         1.68525135e-07,   4.76591423e-07,  -2.43543606e-06,\n",
        "         1.51085003e-06,   9.18355445e-07,  -7.45886277e-08,\n",
        "        -4.71970990e-06,  -3.11431852e-06,  -1.53387432e-07,\n",
        "        -1.88314071e-06,   1.06564726e-07,  -1.01861551e-06,\n",
        "        -3.01752859e-06,  -8.39234363e-07,   2.44740975e-06,\n",
        "        -8.64589292e-07,   3.33295037e-06,   7.35729775e-07,\n",
        "         3.07943653e-06,  -1.04128755e-06,  -6.73080076e-07,\n",
        "         2.58312528e-06,  -3.09101554e-06,   5.91859864e-06,\n",
        "        -1.12116467e-06,  -1.14934735e-06,   3.69808399e-06,\n",
        "         2.79566102e-06,  -1.11064228e-06,  -7.39545086e-07,\n",
        "        -8.26957305e-07,  -6.39067761e-06,  -2.45610212e-06,\n",
        "        -2.37574969e-06,  -4.11735998e-06,  -3.08535532e-06,\n",
        "        -2.37169705e-06,  -2.84586600e-06]), 'nit': 360, 'funcalls': 398}\n",
        "lala 1.0 90.0\n",
        "_______________BEST SCORE: 92.0\n",
        "best lambda: 0.5\n"
       ]
      }
     ],
     "prompt_number": 467
    },
    {
     "cell_type": "code",
     "collapsed": false,
     "input": [],
     "language": "python",
     "metadata": {},
     "outputs": [],
     "prompt_number": 467
    },
    {
     "cell_type": "code",
     "collapsed": false,
     "input": [
      "bad_0 = 0.0\n",
      "bad_1 = 0.0\n",
      "for i in range(691, 891):\n",
      "    p = np.argmax(h(ot, layers, x_all[i,:]))\n",
      "    if p != y_all[i]:\n",
      "        if p==0:\n",
      "            bad_0 += 1.\n",
      "        else:\n",
      "            bad_1 += 1.\n",
      "\n",
      "print bad_0\n",
      "print bad_1"
     ],
     "language": "python",
     "metadata": {},
     "outputs": [
      {
       "output_type": "stream",
       "stream": "stdout",
       "text": [
        "18.0\n",
        "8.0\n"
       ]
      }
     ],
     "prompt_number": 468
    },
    {
     "cell_type": "code",
     "collapsed": false,
     "input": [],
     "language": "python",
     "metadata": {},
     "outputs": []
    },
    {
     "cell_type": "code",
     "collapsed": false,
     "input": [],
     "language": "python",
     "metadata": {},
     "outputs": []
    },
    {
     "cell_type": "heading",
     "level": 4,
     "metadata": {},
     "source": [
      "Prepare NN test predictions"
     ]
    },
    {
     "cell_type": "code",
     "collapsed": false,
     "input": [
      "# this way I train on 891-50\n",
      "#opt_lala = 0.5\n",
      "#ot = optimizeThetas(tinit, layers, X0, YY, opt_lala)"
     ],
     "language": "python",
     "metadata": {},
     "outputs": [],
     "prompt_number": 472
    },
    {
     "cell_type": "code",
     "collapsed": false,
     "input": [
      "x_test = x_all[M:,:]\n",
      "\n",
      "mm = x_test.shape[0]\n",
      "sol = np.zeros((mm,2))\n",
      "\n",
      "for i, record in enumerate(x_test):\n",
      "    q1 = i+M+1\n",
      "    q2 = np.argmax(h(ot, layers, record))\n",
      "    s = `q1` + ',' +`int(q2)`\n",
      "    sol[i,0] = q1\n",
      "    sol[i,1] = q2\n"
     ],
     "language": "python",
     "metadata": {},
     "outputs": [],
     "prompt_number": 469
    },
    {
     "cell_type": "code",
     "collapsed": false,
     "input": [
      "print 'To submitt add header: PassengerId,Survived'\n",
      "np.savetxt('./predictions_nn_last.csv', sol, fmt='%i,%i')"
     ],
     "language": "python",
     "metadata": {},
     "outputs": [
      {
       "output_type": "stream",
       "stream": "stdout",
       "text": [
        "To submitt add header: PassengerId,Survived\n"
       ]
      }
     ],
     "prompt_number": 470
    },
    {
     "cell_type": "code",
     "collapsed": false,
     "input": [
      "opt_lala"
     ],
     "language": "python",
     "metadata": {},
     "outputs": [
      {
       "metadata": {},
       "output_type": "pyout",
       "prompt_number": 471,
       "text": [
        "0.5"
       ]
      }
     ],
     "prompt_number": 471
    },
    {
     "cell_type": "code",
     "collapsed": false,
     "input": [],
     "language": "python",
     "metadata": {},
     "outputs": []
    },
    {
     "cell_type": "code",
     "collapsed": false,
     "input": [],
     "language": "python",
     "metadata": {},
     "outputs": []
    },
    {
     "cell_type": "code",
     "collapsed": false,
     "input": [],
     "language": "python",
     "metadata": {},
     "outputs": []
    },
    {
     "cell_type": "code",
     "collapsed": false,
     "input": [],
     "language": "python",
     "metadata": {},
     "outputs": []
    },
    {
     "cell_type": "code",
     "collapsed": false,
     "input": [],
     "language": "python",
     "metadata": {},
     "outputs": []
    },
    {
     "cell_type": "code",
     "collapsed": false,
     "input": [],
     "language": "python",
     "metadata": {},
     "outputs": []
    },
    {
     "cell_type": "code",
     "collapsed": false,
     "input": [],
     "language": "python",
     "metadata": {},
     "outputs": []
    },
    {
     "cell_type": "code",
     "collapsed": false,
     "input": [],
     "language": "python",
     "metadata": {},
     "outputs": []
    },
    {
     "cell_type": "heading",
     "level": 3,
     "metadata": {},
     "source": [
      "DIVIDE THE SETS & RUN"
     ]
    },
    {
     "cell_type": "code",
     "collapsed": false,
     "input": [
      "def get_relatives(record):\n",
      "    if record['family']==0:\n",
      "        return 0.\n",
      "    if record['Sex']==0:\n",
      "        #sol = data[(data.lastName==record['lastName']) | (data.Cabin==record['Cabin'])][data.Survived==1][data.PassengerId!=record['PassengerId']]\n",
      "        sol = data[(data.lastName==record['lastName']) | (data.Ticket==record['Ticket'])][data.Survived==1][data.PassengerId!=record['PassengerId']]\n",
      "    else:\n",
      "        #sol = data[(data.lastName==record['lastName']) | (data.Cabin==record['Cabin'])][data.Survived==1][data.PassengerId!=record['PassengerId']][data.Age>=record['Age']]\n",
      "        sol = data[(data.lastName==record['lastName']) | (data.Ticket==record['Ticket'])][data.Survived==1][data.PassengerId!=record['PassengerId']][data.Age>=record['Age']]\n",
      "    if sol.empty:\n",
      "        return 0.\n",
      "    else:\n",
      "        return 1.\n",
      "def get_relatives2(record):\n",
      "    sol = data[data.Ticket==record['Ticket']][data.PassengerId!=record['PassengerId']]    \n",
      "    if sol.empty:\n",
      "        return 0.\n",
      "    else:\n",
      "        return 1.\n",
      "    \n",
      "data['overseer'] = data.apply(get_relatives, axis=1)\n",
      "data['overseer2'] = data.apply(get_relatives2, axis=1)"
     ],
     "language": "python",
     "metadata": {},
     "outputs": [],
     "prompt_number": 389
    },
    {
     "cell_type": "code",
     "collapsed": false,
     "input": [
      "munged = data.copy().ix[:,]\n",
      "\n",
      "    \n",
      "munged.pop('Cabin')\n",
      "munged.pop('Embarked')\n",
      "munged.pop('Name')\n",
      "munged.pop('PassengerId')\n",
      "munged.pop('SibSp')\n",
      "munged.pop('Parch')\n",
      "munged.pop('Ticket')\n",
      "munged.pop('lastName')\n",
      "munged.pop('title')\n",
      "munged.pop('cabinLetter')\n",
      "munged.pop('ticketLetter')\n",
      "#munged.pop('has_Age')\n",
      "#munged.pop('Age')\n",
      "#munged.pop('Pclass')\n",
      "#munged.pop('overseer3')\n",
      "#munged.pop('title_level')\n",
      "\n",
      "#munged.pop('Sex')\n",
      "#munged.pop('Fare')\n",
      "#munged.pop('pt_Q')\n",
      "\n",
      "munged.pop('tt_sir')\n",
      "munged.pop('tt_the countess')\n",
      "munged.pop('tt_capt')\n",
      "munged.pop('tt_mss')\n",
      "munged.pop('tt_mrs')\n",
      "munged.pop('tt_master')\n",
      "munged.pop('tt_mr')\n",
      "munged.pop('tt_miss')\n",
      "\n",
      "\n",
      "\n",
      "munged.columns"
     ],
     "language": "python",
     "metadata": {},
     "outputs": [
      {
       "metadata": {},
       "output_type": "pyout",
       "prompt_number": 404,
       "text": [
        "Index([u'Age', u'Fare', u'Pclass', u'Sex', u'Survived', u'family', u'charisma', u'binAge', u'title_level', u'pt_Q', u'pt_S', u'pt_C', u'has_Age', u'overseer', u'overseer2', u'overseer3', u'tt_lady', u'tt_major', u'tt_don', u'tt_mlle', u'tt_dr', u'tt_rev', u'tt_dona', u'tt_jonkheer', u'tt_mrs. martin (elizabeth l', u'tt_ms', u'tt_mme', u'tt_col', u'port_level'], dtype=object)"
       ]
      }
     ],
     "prompt_number": 404
    },
    {
     "cell_type": "code",
     "collapsed": false,
     "input": [
      "import itertools\n",
      "\n",
      "y_all = munged.pop('Survived')\n",
      "feats = len(munged.columns)\n",
      "print feats, munged.columns\n",
      "\n",
      "b = ['Age', 'Sex', 'binAge', 'pt_S', 'pt_C', 'overseer2', 'overseer3']\n",
      "#'tt_sir', 'tt_the countess', 'tt_capt', 'tt_mss', 'tt_mrs', 'tt_master', 'tt_mr', 'tt_miss',\n",
      "# 'has_Age'\n",
      "a = []\n",
      "for features in itertools.combinations(b, 1):\n",
      "    a.append(['title_level', 'family', 'Fare', 'Pclass', 'overseer', 'charisma', 'pt_Q'] + list(features))\n",
      "#a = list(itertools.combinations(munged.columns, 5))\n",
      "\n",
      "a = [('title_level', 'family', 'Fare', 'Pclass', 'overseer', 'charisma', 'pt_Q')]\n",
      "#a = [('title_level', 'family', 'Fare', 'Pclass', 'overseer', 'charisma', 'port_level')]\n",
      "\n",
      "C_range = 10.**arange(-2, 3)\n",
      "g_range = arange(0.001, 0.5, 0.05)\n",
      "param_grid = dict(gamma=g_range, C=C_range)\n",
      "clf = svm.SVC(kernel='rbf', cache_size=1000)\n",
      "\n",
      "YY = y_all[0:M]\n",
      "\n",
      "opt_score = 0.\n",
      "opt_features = []\n",
      "opt_grid = None\n",
      "for feature_set in a:\n",
      "    x_all = np.array(munged[np.array(feature_set)])\n",
      "    scaler = preprocessing.StandardScaler().fit(x_all)\n",
      "    x_all = scaler.transform(x_all)\n",
      "\n",
      "    X0 = x_all[0:M,:]\n",
      "    cv = StratifiedKFold(YY, n_folds=5)\n",
      "    grid = GridSearchCV(clf, param_grid=param_grid, cv=cv, verbose=1)\n",
      "    grid.fit(X0, YY)\n",
      "    if grid.best_score_ > opt_score:\n",
      "        opt_score = grid.best_score_\n",
      "        opt_features = feature_set\n",
      "        opt_grid = grid\n",
      "\n",
      "print '_______________BEST SCORE:', opt_score\n",
      "print 'features:', opt_features"
     ],
     "language": "python",
     "metadata": {},
     "outputs": [
      {
       "output_type": "stream",
       "stream": "stderr",
       "text": [
        "[Parallel(n_jobs=1)]: Done   1 jobs       | elapsed:    0.1s\n",
        "[Parallel(n_jobs=1)]: Done  50 jobs       | elapsed:    1.4s\n"
       ]
      },
      {
       "output_type": "stream",
       "stream": "stderr",
       "text": [
        "[Parallel(n_jobs=1)]: Done 200 jobs       | elapsed:    5.5s\n",
        "[Parallel(n_jobs=1)]: Done 250 out of 250 | elapsed:    9.9s finished\n"
       ]
      },
      {
       "output_type": "stream",
       "stream": "stdout",
       "text": [
        "28 Index([u'Age', u'Fare', u'Pclass', u'Sex', u'family', u'charisma', u'binAge', u'title_level', u'pt_Q', u'pt_S', u'pt_C', u'has_Age', u'overseer', u'overseer2', u'overseer3', u'tt_lady', u'tt_major', u'tt_don', u'tt_mlle', u'tt_dr', u'tt_rev', u'tt_dona', u'tt_jonkheer', u'tt_mrs. martin (elizabeth l', u'tt_ms', u'tt_mme', u'tt_col', u'port_level'], dtype=object)\n",
        "Fitting 5 folds for each of 50 candidates, totalling 250 fits\n",
        "_______________BEST SCORE:"
       ]
      },
      {
       "output_type": "stream",
       "stream": "stdout",
       "text": [
        " 0.842873176207\n",
        "features: ('title_level', 'family', 'Fare', 'Pclass', 'overseer', 'charisma', 'pt_Q')\n"
       ]
      }
     ],
     "prompt_number": 405
    },
    {
     "cell_type": "code",
     "collapsed": false,
     "input": [
      "munged.columns"
     ],
     "language": "python",
     "metadata": {},
     "outputs": [
      {
       "metadata": {},
       "output_type": "pyout",
       "prompt_number": 396,
       "text": [
        "Index([u'Age', u'Fare', u'Pclass', u'Sex', u'family', u'charisma', u'binAge', u'title_level', u'pt_Q', u'pt_S', u'pt_C', u'has_Age', u'overseer', u'overseer2', u'overseer3', u'tt_lady', u'tt_major', u'tt_don', u'tt_mlle', u'tt_dr', u'tt_rev', u'tt_dona', u'tt_jonkheer', u'tt_mrs. martin (elizabeth l', u'tt_ms', u'tt_mme', u'tt_col', u'port_level'], dtype=object)"
       ]
      }
     ],
     "prompt_number": 396
    },
    {
     "cell_type": "code",
     "collapsed": false,
     "input": [],
     "language": "python",
     "metadata": {},
     "outputs": [],
     "prompt_number": 396
    },
    {
     "cell_type": "heading",
     "level": 3,
     "metadata": {},
     "source": [
      "Narrow down the hyperparms on the opt feature set"
     ]
    },
    {
     "cell_type": "code",
     "collapsed": false,
     "input": [
      "#Narrow down the hyperparms on the opt feature set\n",
      "x_all = np.array(munged[np.array(opt_features)])\n",
      "scaler = preprocessing.StandardScaler().fit(x_all)\n",
      "x_all = scaler.transform(x_all)\n",
      "X0 = x_all[0:M,:]\n",
      "    \n",
      "C_range = arange(1,15)\n",
      "g_range = arange(0.01, 1., 0.02)\n",
      "#C_range = arange(0.01, 1. , 0.01)\n",
      "#g_range = arange(0.01, .1, 0.01)\n",
      "param_grid = dict(gamma=g_range, C=C_range)\n",
      "clf = svm.SVC(kernel='rbf', cache_size=1000)\n",
      "opt_grid = GridSearchCV(clf, param_grid=param_grid, cv=cv, verbose=1)\n",
      "opt_grid.fit(X0, YY)\n"
     ],
     "language": "python",
     "metadata": {},
     "outputs": [
      {
       "output_type": "stream",
       "stream": "stderr",
       "text": [
        "[Parallel(n_jobs=1)]: Done   1 jobs       | elapsed:    0.0s\n",
        "[Parallel(n_jobs=1)]: Done  50 jobs       | elapsed:    1.4s\n"
       ]
      },
      {
       "output_type": "stream",
       "stream": "stderr",
       "text": [
        "[Parallel(n_jobs=1)]: Done 200 jobs       | elapsed:    6.5s\n",
        "[Parallel(n_jobs=1)]: Done 450 jobs       | elapsed:   13.5s\n"
       ]
      },
      {
       "output_type": "stream",
       "stream": "stderr",
       "text": [
        "[Parallel(n_jobs=1)]: Done 800 jobs       | elapsed:   23.7s\n",
        "[Parallel(n_jobs=1)]: Done 1250 jobs       | elapsed:   38.1s\n"
       ]
      },
      {
       "output_type": "stream",
       "stream": "stderr",
       "text": [
        "[Parallel(n_jobs=1)]: Done 1800 jobs       | elapsed:   57.9s\n",
        "[Parallel(n_jobs=1)]: Done 2450 jobs       | elapsed:  1.4min\n"
       ]
      },
      {
       "output_type": "stream",
       "stream": "stderr",
       "text": [
        "[Parallel(n_jobs=1)]: Done 3200 jobs       | elapsed:  2.0min\n",
        "[Parallel(n_jobs=1)]: Done 3500 out of 3500 | elapsed:  2.2min finished\n"
       ]
      },
      {
       "output_type": "stream",
       "stream": "stdout",
       "text": [
        "Fitting 5 folds for each of 700 candidates, totalling 3500 fits\n"
       ]
      },
      {
       "metadata": {},
       "output_type": "pyout",
       "prompt_number": 397,
       "text": [
        "GridSearchCV(cv=sklearn.cross_validation.StratifiedKFold(labels=[ 0.  1. ...,  1.  0.], n_folds=5),\n",
        "       estimator=SVC(C=1.0, cache_size=1000, class_weight=None, coef0=0.0, degree=3, gamma=0.0,\n",
        "  kernel='rbf', max_iter=-1, probability=False, random_state=None,\n",
        "  shrinking=True, tol=0.001, verbose=False),\n",
        "       fit_params={}, iid=True, loss_func=None, n_jobs=1,\n",
        "       param_grid={'C': array([ 1,  2,  3,  4,  5,  6,  7,  8,  9, 10, 11, 12, 13, 14]), 'gamma': array([ 0.01,  0.03,  0.05,  0.07,  0.09,  0.11,  0.13,  0.15,  0.17,\n",
        "        0.19,  0.21,  0.23,  0.25,  0.27,  0.29,  0.31,  0.33,  0.35,\n",
        "        0.37,  0.39,  0.41,  0.43,  0.45,  0.47,  0.49,  0.51,  0.53,\n",
        "        0.55,  0.57,  0.59,  0.61,  0.63,  0.65,  0.67,  0.69,  0.71,\n",
        "        0.73,  0.75,  0.77,  0.79,  0.81,  0.83,  0.85,  0.87,  0.89,\n",
        "        0.91,  0.93,  0.95,  0.97,  0.99])},\n",
        "       pre_dispatch='2*n_jobs', refit=True, score_func=None, scoring=None,\n",
        "       verbose=1)"
       ]
      }
     ],
     "prompt_number": 397
    },
    {
     "cell_type": "code",
     "collapsed": false,
     "input": [
      "print(\"The best classifier is: \", opt_grid.best_estimator_)\n",
      "score_dict = opt_grid.grid_scores_\n",
      "scores = [x[1] for x in score_dict]\n",
      "scores = np.array(scores).reshape(len(C_range), len(g_range))\n",
      "plt.figure(figsize=(8, 6))\n",
      "plt.subplots_adjust(left=0.05, right=0.95, bottom=0.15, top=0.95)\n",
      "plt.imshow(scores, interpolation='nearest', cmap=plt.cm.spectral)\n",
      "plt.xlabel('g')\n",
      "plt.ylabel('C')\n",
      "plt.colorbar()\n",
      "plt.xticks(np.arange(len(g_range)), g_range, rotation=45)\n",
      "plt.yticks(np.arange(len(C_range)), C_range)\n",
      "plt.show()"
     ],
     "language": "python",
     "metadata": {},
     "outputs": [
      {
       "output_type": "stream",
       "stream": "stdout",
       "text": [
        "('The best classifier is: ', SVC(C=9, cache_size=1000, class_weight=None, coef0=0.0, degree=3,\n",
        "  gamma=0.049999999999999996, kernel='rbf', max_iter=-1, probability=False,\n",
        "  random_state=None, shrinking=True, tol=0.001, verbose=False))\n"
       ]
      },
      {
       "metadata": {},
       "output_type": "display_data",
       "png": "[encoded data removed]",
       "text": [
        "<matplotlib.figure.Figure at 0x108ceba50>"
       ]
      }
     ],
     "prompt_number": 398
    },
    {
     "cell_type": "code",
     "collapsed": false,
     "input": [
      "opt_grid.best_score_"
     ],
     "language": "python",
     "metadata": {},
     "outputs": [
      {
       "metadata": {},
       "output_type": "pyout",
       "prompt_number": 399,
       "text": [
        "0.84287317620650959"
       ]
      }
     ],
     "prompt_number": 399
    },
    {
     "cell_type": "code",
     "collapsed": false,
     "input": [
      "opt_grid.best_estimator_.support_vectors_.shape"
     ],
     "language": "python",
     "metadata": {},
     "outputs": [
      {
       "metadata": {},
       "output_type": "pyout",
       "prompt_number": 400,
       "text": [
        "(354, 7)"
       ]
      }
     ],
     "prompt_number": 400
    },
    {
     "cell_type": "heading",
     "level": 3,
     "metadata": {},
     "source": [
      "OUTPUT TEST PREDICTIONS ON ALL TRAINING DATA"
     ]
    },
    {
     "cell_type": "code",
     "collapsed": false,
     "input": [
      "clf = opt_grid.best_estimator_\n",
      "\n",
      "x_all_train = x_all[0:M]\n",
      "y_all_train = y_all[0:M]\n",
      "x_test = x_all[M:]\n",
      "\n",
      "clf.fit(x_all_train, y_all_train)\n",
      "\n"
     ],
     "language": "python",
     "metadata": {},
     "outputs": [],
     "prompt_number": 306
    },
    {
     "cell_type": "code",
     "collapsed": false,
     "input": [
      "a = opt_grid.best_estimator_.predict(x_test)"
     ],
     "language": "python",
     "metadata": {},
     "outputs": [],
     "prompt_number": 307
    },
    {
     "cell_type": "code",
     "collapsed": false,
     "input": [
      "x_all.shape"
     ],
     "language": "python",
     "metadata": {},
     "outputs": [
      {
       "metadata": {},
       "output_type": "pyout",
       "prompt_number": 308,
       "text": [
        "(1309, 8)"
       ]
      }
     ],
     "prompt_number": 308
    },
    {
     "cell_type": "code",
     "collapsed": false,
     "input": [
      "m = a.shape[0]\n",
      "aa = range(892,892+m)\n",
      "y_test = np.vstack([aa, a]).T\n",
      "print 'To submitt add header: PassengerId,Survived'\n",
      "print y_test[0:10,:]\n",
      "np.savetxt('./predictions_svm_last.csv', y_test, fmt='%i,%i')"
     ],
     "language": "python",
     "metadata": {},
     "outputs": [
      {
       "output_type": "stream",
       "stream": "stdout",
       "text": [
        "To submitt add header: PassengerId,Survived\n",
        "[[ 892.    0.]\n",
        " [ 893.    0.]\n",
        " [ 894.    0.]\n",
        " [ 895.    0.]\n",
        " [ 896.    1.]\n",
        " [ 897.    0.]\n",
        " [ 898.    1.]\n",
        " [ 899.    0.]\n",
        " [ 900.    1.]\n",
        " [ 901.    0.]]\n"
       ]
      }
     ],
     "prompt_number": 309
    },
    {
     "cell_type": "code",
     "collapsed": false,
     "input": [
      "183./6946"
     ],
     "language": "python",
     "metadata": {},
     "outputs": []
    },
    {
     "cell_type": "code",
     "collapsed": false,
     "input": [],
     "language": "python",
     "metadata": {},
     "outputs": []
    }
   ],
   "metadata": {}
  }
 ]
}