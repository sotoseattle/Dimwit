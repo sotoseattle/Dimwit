{
 "metadata": {
  "name": ""
 },
 "nbformat": 3,
 "nbformat_minor": 0,
 "worksheets": [
  {
   "cells": [
    {
     "cell_type": "code",
     "collapsed": false,
     "input": [
      "%cd '~/Dropbox/fjs6/Journal/ideolog/Dimwit/examples/titanic/data/'"
     ],
     "language": "python",
     "metadata": {},
     "outputs": [
      {
       "output_type": "stream",
       "stream": "stdout",
       "text": [
        "/Users/fjs6/Dropbox/fjs6/Journal/ideolog/Dimwit/examples/titanic/data\n"
       ]
      }
     ],
     "prompt_number": 465
    },
    {
     "cell_type": "code",
     "collapsed": false,
     "input": [
      "import numpy as np\n",
      "from pandas import *\n",
      "import pandas\n",
      "import math\n",
      "import random\n",
      "from sklearn import preprocessing\n",
      "from sklearn import svm\n",
      "from sklearn.svm import SVC\n",
      "from sklearn.cross_validation import StratifiedKFold\n",
      "from sklearn.grid_search import GridSearchCV"
     ],
     "language": "python",
     "metadata": {},
     "outputs": [],
     "prompt_number": 466
    },
    {
     "cell_type": "code",
     "collapsed": false,
     "input": [
      "tr_data = read_csv('train.csv')\n",
      "M = tr_data.shape[0]\n",
      "test_data = read_csv('test.csv')\n",
      "data = concat([tr_data, test_data], ignore_index=True)\n",
      "print 'cutout train set:', M"
     ],
     "language": "python",
     "metadata": {},
     "outputs": [
      {
       "output_type": "stream",
       "stream": "stdout",
       "text": [
        "cutout train set: 891\n"
       ]
      }
     ],
     "prompt_number": 467
    },
    {
     "cell_type": "code",
     "collapsed": false,
     "input": [
      "import re\n",
      "\n",
      "def extract_patt(patt, linea):\n",
      "    matchObj = re.match(patt, linea)\n",
      "    result = NaN\n",
      "    if matchObj:\n",
      "        return matchObj.group(1).lower()\n",
      "    else:\n",
      "        print \"No match!!\"\n",
      "        return NaN\n",
      "\n",
      "def extract_title(linea):\n",
      "    return extract_patt('^.+,\\s(.+)\\..+', linea)\n",
      "\n",
      "def extract_last_name(linea):\n",
      "    return extract_patt('^(.+),\\s.+\\..+', linea)\n",
      "\n",
      "def extract_cabin_letter(linea):\n",
      "    return extract_patt('^(.)\\d*', linea)\n",
      "\n",
      "data.Sex = data.Sex.map(lambda x: 1. if x=='male' else 0.)\n",
      "data['lastName'] = data.Name.map(extract_last_name)\n",
      "data['title'] = data.Name.map(extract_title)\n",
      "data['cabinLetter'] = data.Name.map(extract_cabin_letter)\n",
      "data['family'] = data.Parch + data.SibSp\n",
      "\n",
      "# Adding personal power\n",
      "data['charisma'] = data.Age*data.Pclass\n",
      "\n",
      "\n",
      "data['hasCabin'] = data.Cabin.map(lambda x: 0. if isnull(x) else 1.)\n",
      "data['isMarried'] = data.title.map(lambda x: 1. if (x=='Mr' or x=='Mrs') else 0.)\n",
      "\n",
      "# Adding Embarkment features\n",
      "data['C'] = data.Embarked.map(lambda x: 1. if x=='C' else 0.)\n",
      "data['Q'] = data.Embarked.map(lambda x: 1. if x=='Q' else 0.)\n",
      "data['S'] = data.Embarked.map(lambda x: 1. if x=='S' else 0.)\n",
      "\n",
      "#data['lastName','title'] = data.Name.map(extract_title)\n",
      "print 'unextracted titles:', data[data.title.isnull()==True].shape[0]"
     ],
     "language": "python",
     "metadata": {},
     "outputs": [
      {
       "output_type": "stream",
       "stream": "stdout",
       "text": [
        "unextracted titles: 0\n"
       ]
      }
     ],
     "prompt_number": 468
    },
    {
     "cell_type": "code",
     "collapsed": false,
     "input": [
      "# Age by BINS [0-14][15-20][21-40][41-60][61-100]\n",
      "def bin_age(edad):\n",
      "    if isnull(edad):\n",
      "        return NaN\n",
      "    elif edad<=14:\n",
      "        return 1\n",
      "    elif edad<=60:\n",
      "        return 3\n",
      "    else:\n",
      "        return 4\n",
      "\n",
      "data['binAge'] = data.Age.map(bin_age)\n"
     ],
     "language": "python",
     "metadata": {},
     "outputs": [],
     "prompt_number": 469
    },
    {
     "cell_type": "code",
     "collapsed": false,
     "input": [
      "# Fare NaN\n",
      "fares_by_class = data.groupby('Pclass').Fare.median()\n",
      "\n",
      "def getFare(example):\n",
      "    if isnull(example['Fare']):\n",
      "        example['Fare'] = fares_by_class[example['Pclass']]\n",
      "    return example\n",
      "\n",
      "data = data.apply(getFare, axis=1)"
     ],
     "language": "python",
     "metadata": {},
     "outputs": [],
     "prompt_number": 470
    },
    {
     "cell_type": "code",
     "collapsed": false,
     "input": [
      "titulos = Series(data.title.unique())\n",
      "titulos = Series(data.title.unique()).to_dict()\n",
      "titulos_levels = {v:k for k, v in titulos.items()}\n",
      "\n",
      "data['title_level'] = data.title.map(lambda x: titulos_levels[x])"
     ],
     "language": "python",
     "metadata": {},
     "outputs": [],
     "prompt_number": 471
    },
    {
     "cell_type": "heading",
     "level": 3,
     "metadata": {},
     "source": [
      "CABIN LETTER"
     ]
    },
    {
     "cell_type": "code",
     "collapsed": false,
     "input": [
      "for letter in data.cabinLetter.unique():\n",
      "    data['C_'+letter] = data.cabinLetter.map(lambda x: 1. if x==letter else 0.)"
     ],
     "language": "python",
     "metadata": {},
     "outputs": [],
     "prompt_number": 472
    },
    {
     "cell_type": "heading",
     "level": 3,
     "metadata": {},
     "source": [
      "PLOTS"
     ]
    },
    {
     "cell_type": "code",
     "collapsed": false,
     "input": [
      "# CLASS vs FARE\n",
      "abc = data.cabinLetter.unique()\n",
      "abc.sort()\n",
      "\n",
      "a = data[data.Fare<100]\n",
      "bp = a.boxplot(column='Fare', by='Pclass', grid=False)\n",
      "#for i in [1,2,3]:\n",
      "for i, e in enumerate([1,2,3]):\n",
      "    y = a.Fare[a.Pclass==e].dropna()\n",
      "    # Add some random \"jitter\" to the x-axis\n",
      "    x = np.random.normal(i, 0.04, size=len(y))\n",
      "    plot(x, y, 'r.', alpha=0.2)\n",
      "\n",
      "\n",
      "#bbb.boxplot(column='Fare', by='Pclass', grid=False)\n",
      "\n"
     ],
     "language": "python",
     "metadata": {},
     "outputs": [
      {
       "metadata": {},
       "output_type": "display_data",
       "png": "[encoded data removed]",
       "text": [
        "<matplotlib.figure.Figure at 0x109245c50>"
       ]
      }
     ],
     "prompt_number": 473
    },
    {
     "cell_type": "code",
     "collapsed": false,
     "input": [
      "bp = data.boxplot(column='Age', by='Pclass', grid=False)\n",
      "for i in [1,2,3]:\n",
      "    y = data.Age[data.Pclass==i].dropna()\n",
      "    # Add some random \"jitter\" to the x-axis\n",
      "    x = np.random.normal(i, 0.04, size=len(y))\n",
      "    plot(x, y, 'r.', alpha=0.2)"
     ],
     "language": "python",
     "metadata": {},
     "outputs": [
      {
       "metadata": {},
       "output_type": "display_data",
       "png": "[encoded data removed]",
       "text": [
        "<matplotlib.figure.Figure at 0x109280c10>"
       ]
      }
     ],
     "prompt_number": 474
    },
    {
     "cell_type": "code",
     "collapsed": false,
     "input": [
      "plt.scatter(data.Fare, data.Age, c=data.Survived, s=10, alpha=0.15)\n",
      "xlim(0, 300); ylim(0, 80);\n",
      "hexbin(x,y)"
     ],
     "language": "python",
     "metadata": {},
     "outputs": [
      {
       "metadata": {},
       "output_type": "pyout",
       "prompt_number": 475,
       "text": [
        "<matplotlib.collections.PolyCollection at 0x1091544d0>"
       ]
      },
      {
       "metadata": {},
       "output_type": "display_data",
       "png": "[encoded data removed]",
       "text": [
        "<matplotlib.figure.Figure at 0x108607bd0>"
       ]
      }
     ],
     "prompt_number": 475
    },
    {
     "cell_type": "heading",
     "level": 2,
     "metadata": {},
     "source": [
      "AGE"
     ]
    },
    {
     "cell_type": "code",
     "collapsed": false,
     "input": [
      "# IMPORTANT TO SET THIS BEFORE WE FILL AGES\n",
      "data['has_Age'] = data.Age.map(lambda x: 0. if isnull(x) else 1.)"
     ],
     "language": "python",
     "metadata": {},
     "outputs": [],
     "prompt_number": 476
    },
    {
     "cell_type": "code",
     "collapsed": false,
     "input": [
      "# GET MEDIAN AGE PER TITLE\n",
      "qqq = data.groupby('title')\n",
      "ages_by_title = qqq.Age.median()"
     ],
     "language": "python",
     "metadata": {},
     "outputs": [],
     "prompt_number": 477
    },
    {
     "cell_type": "code",
     "collapsed": false,
     "input": [
      "# FILL NaN WITH MEDIAN ACCORDING TO TITLE\n",
      "#print 'unextracted titles:', data[data.Age.isnull()==True].shape[0]\n",
      "#print data.ix[0:20,['title', 'Age']]\n",
      "\n",
      "#def getAge(example):\n",
      "#    if isnull(example['Age']):\n",
      "#        example['Age'] = ages_by_title[example['title']]\n",
      "#    return example\n",
      "\n",
      "#data = data.apply(getAge, axis=1)\n",
      "\n",
      "#print 'unextracted titles:', data[data.Age.isnull()==True].shape[0]\n",
      "#print data.ix[0:20,['title', 'Age']]"
     ],
     "language": "python",
     "metadata": {},
     "outputs": [],
     "prompt_number": 478
    },
    {
     "cell_type": "code",
     "collapsed": false,
     "input": [
      "def get_relatives(record):\n",
      "    if record['family']==0:\n",
      "        return 0.\n",
      "    \n",
      "    if record['Sex']==0:\n",
      "        sol = data[(data.lastName==record['lastName']) | (data.Cabin==record['Cabin'])][data.Survived==1][data.PassengerId!=record['PassengerId']]\n",
      "    else:\n",
      "        #sol = data[(data.lastName==record['lastName']) | (data.Cabin==record['Cabin'])][data.Survived==1][data.Sex==1][data.PassengerId!=record['PassengerId']][data.Age>=record['Age']]\n",
      "        sol = data[(data.lastName==record['lastName']) | (data.Cabin==record['Cabin'])][data.Survived==1][data.PassengerId!=record['PassengerId']][data.Age>=record['Age']]\n",
      "    if sol.empty:\n",
      "        return 0.\n",
      "    else:\n",
      "        return 1.\n",
      "\n",
      "data['overseer'] = data.apply(get_relatives, axis=1)\n",
      "\n"
     ],
     "language": "python",
     "metadata": {},
     "outputs": [],
     "prompt_number": 479
    },
    {
     "cell_type": "code",
     "collapsed": false,
     "input": [
      "data.columns"
     ],
     "language": "python",
     "metadata": {},
     "outputs": [
      {
       "metadata": {},
       "output_type": "pyout",
       "prompt_number": 480,
       "text": [
        "Index([u'Age', u'Cabin', u'Embarked', u'Fare', u'Name', u'Parch', u'PassengerId', u'Pclass', u'Sex', u'SibSp', u'Survived', u'Ticket', u'lastName', u'title', u'cabinLetter', u'family', u'charisma', u'hasCabin', u'isMarried', u'C', u'Q', u'S', u'binAge', u'title_level', u'C_b', u'C_c', u'C_h', u'C_f', u'C_a', u'C_m', u'C_p', u'C_j', u'C_n', u'C_s', u'C_v', u'C_r', u'C_w', u'C_e', u'C_o', u'C_t', u'C_u', u'C_g', u'C_k', u'C_l', u'C_d', u'C_i', u'C_z', u'C_y', u'C_q', u'has_Age', u'overseer'], dtype=object)"
       ]
      }
     ],
     "prompt_number": 480
    },
    {
     "cell_type": "heading",
     "level": 3,
     "metadata": {},
     "source": [
      "SVM THE AGE"
     ]
    },
    {
     "cell_type": "code",
     "collapsed": false,
     "input": [
      "predictors_of_age_bin = ['binAge', 'Pclass','Parch', 'SibSp', 'isMarried', 'title_level']\n",
      "\n",
      "def mungeA(df):\n",
      "    df = df[isnull(df.binAge)==False]\n",
      "    return df.ix[:,predictors_of_age_bin]\n",
      "mungedA = mungeA(data[notnull(data.binAge)==True])\n",
      "\n",
      "mungedA.columns"
     ],
     "language": "python",
     "metadata": {},
     "outputs": [
      {
       "metadata": {},
       "output_type": "pyout",
       "prompt_number": 481,
       "text": [
        "Index([u'binAge', u'Pclass', u'Parch', u'SibSp', u'isMarried', u'title_level'], dtype=object)"
       ]
      }
     ],
     "prompt_number": 481
    },
    {
     "cell_type": "code",
     "collapsed": false,
     "input": [
      "y_allA = mungedA.pop('binAge')\n",
      "x_allA = np.array(mungedA)\n",
      "\n",
      "scaler = preprocessing.StandardScaler().fit(x_allA)\n",
      "x_allA = scaler.transform(x_allA)\n",
      "\n",
      "xeA = x_allA[0:200]\n",
      "xtA = x_allA[200:M]\n",
      "\n",
      "yeA = y_allA[0:200]\n",
      "ytA = y_allA[200:M]"
     ],
     "language": "python",
     "metadata": {},
     "outputs": [],
     "prompt_number": 482
    },
    {
     "cell_type": "code",
     "collapsed": false,
     "input": [
      "C_rangeA = arange(1,1000,25)\n",
      "g_rangeA = arange(0.001, 0.1, 0.01)\n",
      "param_gridA = dict(gamma=g_rangeA, C=C_rangeA)\n",
      "cvA = StratifiedKFold(y=ytA, n_folds=2)\n",
      "clfA = svm.SVC(kernel='rbf', cache_size=1000)\n",
      "\n",
      "gridA = GridSearchCV(clfA, param_grid=param_gridA, cv=cvA, verbose=1)\n",
      "gridA.fit(xtA, ytA)"
     ],
     "language": "python",
     "metadata": {},
     "outputs": [
      {
       "output_type": "stream",
       "stream": "stderr",
       "text": [
        "[Parallel(n_jobs=1)]: Done   1 jobs       | elapsed:    0.0s\n",
        "[Parallel(n_jobs=1)]: Done  50 jobs       | elapsed:    0.6s\n"
       ]
      },
      {
       "output_type": "stream",
       "stream": "stderr",
       "text": [
        "[Parallel(n_jobs=1)]: Done 200 jobs       | elapsed:    2.5s\n",
        "[Parallel(n_jobs=1)]: Done 450 jobs       | elapsed:    5.5s\n"
       ]
      },
      {
       "output_type": "stream",
       "stream": "stdout",
       "text": [
        "Fitting 2 folds for each of 400 candidates, totalling 800 fits\n"
       ]
      },
      {
       "output_type": "stream",
       "stream": "stderr",
       "text": [
        "[Parallel(n_jobs=1)]: Done 800 jobs       | elapsed:   10.5s\n",
        "[Parallel(n_jobs=1)]: Done 800 out of 800 | elapsed:   10.5s finished\n"
       ]
      },
      {
       "metadata": {},
       "output_type": "pyout",
       "prompt_number": 483,
       "text": [
        "GridSearchCV(cv=sklearn.cross_validation.StratifiedKFold(labels=[ 3.  3. ...,  3.  3.], n_folds=2),\n",
        "       estimator=SVC(C=1.0, cache_size=1000, class_weight=None, coef0=0.0, degree=3, gamma=0.0,\n",
        "  kernel='rbf', max_iter=-1, probability=False, random_state=None,\n",
        "  shrinking=True, tol=0.001, verbose=False),\n",
        "       fit_params={}, iid=True, loss_func=None, n_jobs=1,\n",
        "       param_grid={'C': array([  1,  26,  51,  76, 101, 126, 151, 176, 201, 226, 251, 276, 301,\n",
        "       326, 351, 376, 401, 426, 451, 476, 501, 526, 551, 576, 601, 626,\n",
        "       651, 676, 701, 726, 751, 776, 801, 826, 851, 876, 901, 926, 951, 976]), 'gamma': array([ 0.001,  0.011,  0.021,  0.031,  0.041,  0.051,  0.061,  0.071,\n",
        "        0.081,  0.091])},\n",
        "       pre_dispatch='2*n_jobs', refit=True, score_func=None, scoring=None,\n",
        "       verbose=1)"
       ]
      }
     ],
     "prompt_number": 483
    },
    {
     "cell_type": "code",
     "collapsed": false,
     "input": [
      "print(\"The best classifier is: \", gridA.best_estimator_)\n",
      "score_dictA = gridA.grid_scores_\n",
      "scoresA = [x[1] for x in score_dictA]\n",
      "scoresA = np.array(scoresA).reshape(len(C_rangeA), len(g_rangeA))\n",
      "plt.figure(figsize=(8, 6))\n",
      "plt.subplots_adjust(left=0.05, right=0.95, bottom=0.15, top=0.95)\n",
      "plt.imshow(scoresA, interpolation='nearest', cmap=plt.cm.spectral)\n",
      "plt.xlabel('g')\n",
      "plt.ylabel('C')\n",
      "plt.colorbar()\n",
      "plt.xticks(np.arange(len(g_rangeA)), g_rangeA, rotation=45)\n",
      "plt.yticks(np.arange(len(C_rangeA)), C_rangeA)\n",
      "plt.show()"
     ],
     "language": "python",
     "metadata": {},
     "outputs": [
      {
       "output_type": "stream",
       "stream": "stdout",
       "text": [
        "('The best classifier is: ', SVC(C=151, cache_size=1000, class_weight=None, coef0=0.0, degree=3,\n",
        "  gamma=0.080999999999999989, kernel='rbf', max_iter=-1, probability=False,\n",
        "  random_state=None, shrinking=True, tol=0.001, verbose=False))\n"
       ]
      },
      {
       "metadata": {},
       "output_type": "display_data",
       "png": "[encoded data removed]",
       "text": [
        "<matplotlib.figure.Figure at 0x108711450>"
       ]
      }
     ],
     "prompt_number": 484
    },
    {
     "cell_type": "code",
     "collapsed": false,
     "input": [
      "scoreA = gridA.best_estimator_.score(xeA, yeA)\n",
      "print 'score', scoreA"
     ],
     "language": "python",
     "metadata": {},
     "outputs": [
      {
       "output_type": "stream",
       "stream": "stdout",
       "text": [
        "score 0.94\n"
       ]
      }
     ],
     "prompt_number": 485
    },
    {
     "cell_type": "code",
     "collapsed": false,
     "input": [
      "predictors_of_age_bin.remove('binAge')\n",
      "predictors_of_age_bin"
     ],
     "language": "python",
     "metadata": {},
     "outputs": [
      {
       "ename": "ValueError",
       "evalue": "list.remove(x): x not in list",
       "output_type": "pyerr",
       "traceback": [
        "\u001b[0;31m---------------------------------------------------------------------------\u001b[0m\n\u001b[0;31mValueError\u001b[0m                                Traceback (most recent call last)",
        "\u001b[0;32m<ipython-input-490-78ae51d77cfb>\u001b[0m in \u001b[0;36m<module>\u001b[0;34m()\u001b[0m\n\u001b[0;32m----> 1\u001b[0;31m \u001b[0mpredictors_of_age_bin\u001b[0m\u001b[0;34m.\u001b[0m\u001b[0mremove\u001b[0m\u001b[0;34m(\u001b[0m\u001b[0;34m'binAge'\u001b[0m\u001b[0;34m)\u001b[0m\u001b[0;34m\u001b[0m\u001b[0m\n\u001b[0m\u001b[1;32m      2\u001b[0m \u001b[0mpredictors_of_age_bin\u001b[0m\u001b[0;34m\u001b[0m\u001b[0m\n",
        "\u001b[0;31mValueError\u001b[0m: list.remove(x): x not in list"
       ]
      }
     ],
     "prompt_number": 490
    },
    {
     "cell_type": "code",
     "collapsed": false,
     "input": [
      "# Age by BINS [0-14][15-20][21-40][41-60][61-100]\n",
      "#predictors_of_age_bin.remove('binAge')\n",
      "\n",
      "def bin_age_revisited(record):\n",
      "    xm = np.array(record.ix[predictors_of_age_bin])\n",
      "    if isnull(record['binAge']):\n",
      "        record['binAge'] = gridA.best_estimator_.predict(xm)[0]\n",
      "        record['charisma'] = record['binAge']*record['Pclass']\n",
      "    return record\n",
      "\n",
      "data = data.apply(bin_age_revisited, axis=1)"
     ],
     "language": "python",
     "metadata": {},
     "outputs": [],
     "prompt_number": 494
    },
    {
     "cell_type": "heading",
     "level": 3,
     "metadata": {},
     "source": [
      "SELECT FEATURES AND X_ALL, Y_ALL"
     ]
    },
    {
     "cell_type": "code",
     "collapsed": false,
     "input": [
      "def munge(df):\n",
      "    return df.ix[:,['Survived','Sex','Pclass','Fare', 'binAge', 'C', 'Q', 'S', \\\n",
      "                    'family', 'isMarried', 'overseer', 'title_level']]\\\n",
      "#                    'C_b', 'C_c', 'C_h', 'C_f', 'C_a', 'C_m', 'C_p', 'C_j', 'C_n', 'C_s', 'C_v', 'C_r', 'C_w', 'C_e', 'C_o', 'C_t', 'C_u', 'C_g', 'C_k', 'C_l', 'C_d', 'C_i', 'C_z', 'C_y', 'C_q']]"
     ],
     "language": "python",
     "metadata": {},
     "outputs": [],
     "prompt_number": 509
    },
    {
     "cell_type": "code",
     "collapsed": false,
     "input": [
      "munged = munge(data)"
     ],
     "language": "python",
     "metadata": {},
     "outputs": [],
     "prompt_number": 510
    },
    {
     "cell_type": "code",
     "collapsed": false,
     "input": [
      "munged.columns"
     ],
     "language": "python",
     "metadata": {},
     "outputs": [
      {
       "metadata": {},
       "output_type": "pyout",
       "prompt_number": 511,
       "text": [
        "Index([u'Survived', u'Sex', u'Pclass', u'Fare', u'binAge', u'C', u'Q', u'S', u'family', u'isMarried', u'overseer', u'title_level'], dtype=object)"
       ]
      }
     ],
     "prompt_number": 511
    },
    {
     "cell_type": "code",
     "collapsed": false,
     "input": [
      "y_all = munged.pop('Survived')"
     ],
     "language": "python",
     "metadata": {},
     "outputs": [],
     "prompt_number": 512
    },
    {
     "cell_type": "code",
     "collapsed": false,
     "input": [
      "x_all = np.array(munged)"
     ],
     "language": "python",
     "metadata": {},
     "outputs": [],
     "prompt_number": 513
    },
    {
     "cell_type": "code",
     "collapsed": false,
     "input": [
      "munged.ix[0:10,:]"
     ],
     "language": "python",
     "metadata": {},
     "outputs": [
      {
       "output_type": "stream",
       "stream": "stderr",
       "text": [
        "//anaconda/python.app/Contents/lib/python2.7/site-packages/pandas/core/config.py:570: DeprecationWarning: height has been deprecated.\n",
        "\n",
        "  warnings.warn(d.msg, DeprecationWarning)\n",
        "//anaconda/python.app/Contents/lib/python2.7/site-packages/pandas/core/config.py:570: DeprecationWarning: height has been deprecated.\n",
        "\n",
        "  warnings.warn(d.msg, DeprecationWarning)\n"
       ]
      },
      {
       "html": [
        "<div style=\"max-height:1000px;max-width:1500px;overflow:auto;\">\n",
        "<table border=\"1\" class=\"dataframe\">\n",
        "  <thead>\n",
        "    <tr style=\"text-align: right;\">\n",
        "      <th></th>\n",
        "      <th>Sex</th>\n",
        "      <th>Pclass</th>\n",
        "      <th>Fare</th>\n",
        "      <th>binAge</th>\n",
        "      <th>C</th>\n",
        "      <th>Q</th>\n",
        "      <th>S</th>\n",
        "      <th>family</th>\n",
        "      <th>isMarried</th>\n",
        "      <th>overseer</th>\n",
        "      <th>title_level</th>\n",
        "    </tr>\n",
        "  </thead>\n",
        "  <tbody>\n",
        "    <tr>\n",
        "      <th>0 </th>\n",
        "      <td> 1</td>\n",
        "      <td> 3</td>\n",
        "      <td>  7.2500</td>\n",
        "      <td> 3</td>\n",
        "      <td> 0</td>\n",
        "      <td> 0</td>\n",
        "      <td> 1</td>\n",
        "      <td> 1</td>\n",
        "      <td> 0</td>\n",
        "      <td> 0</td>\n",
        "      <td> 0</td>\n",
        "    </tr>\n",
        "    <tr>\n",
        "      <th>1 </th>\n",
        "      <td> 0</td>\n",
        "      <td> 1</td>\n",
        "      <td> 71.2833</td>\n",
        "      <td> 3</td>\n",
        "      <td> 1</td>\n",
        "      <td> 0</td>\n",
        "      <td> 0</td>\n",
        "      <td> 1</td>\n",
        "      <td> 0</td>\n",
        "      <td> 0</td>\n",
        "      <td> 1</td>\n",
        "    </tr>\n",
        "    <tr>\n",
        "      <th>2 </th>\n",
        "      <td> 0</td>\n",
        "      <td> 3</td>\n",
        "      <td>  7.9250</td>\n",
        "      <td> 3</td>\n",
        "      <td> 0</td>\n",
        "      <td> 0</td>\n",
        "      <td> 1</td>\n",
        "      <td> 0</td>\n",
        "      <td> 0</td>\n",
        "      <td> 0</td>\n",
        "      <td> 2</td>\n",
        "    </tr>\n",
        "    <tr>\n",
        "      <th>3 </th>\n",
        "      <td> 0</td>\n",
        "      <td> 1</td>\n",
        "      <td> 53.1000</td>\n",
        "      <td> 3</td>\n",
        "      <td> 0</td>\n",
        "      <td> 0</td>\n",
        "      <td> 1</td>\n",
        "      <td> 1</td>\n",
        "      <td> 0</td>\n",
        "      <td> 0</td>\n",
        "      <td> 1</td>\n",
        "    </tr>\n",
        "    <tr>\n",
        "      <th>4 </th>\n",
        "      <td> 1</td>\n",
        "      <td> 3</td>\n",
        "      <td>  8.0500</td>\n",
        "      <td> 3</td>\n",
        "      <td> 0</td>\n",
        "      <td> 0</td>\n",
        "      <td> 1</td>\n",
        "      <td> 0</td>\n",
        "      <td> 0</td>\n",
        "      <td> 0</td>\n",
        "      <td> 0</td>\n",
        "    </tr>\n",
        "    <tr>\n",
        "      <th>5 </th>\n",
        "      <td> 1</td>\n",
        "      <td> 3</td>\n",
        "      <td>  8.4583</td>\n",
        "      <td> 3</td>\n",
        "      <td> 0</td>\n",
        "      <td> 1</td>\n",
        "      <td> 0</td>\n",
        "      <td> 0</td>\n",
        "      <td> 0</td>\n",
        "      <td> 0</td>\n",
        "      <td> 0</td>\n",
        "    </tr>\n",
        "    <tr>\n",
        "      <th>6 </th>\n",
        "      <td> 1</td>\n",
        "      <td> 1</td>\n",
        "      <td> 51.8625</td>\n",
        "      <td> 3</td>\n",
        "      <td> 0</td>\n",
        "      <td> 0</td>\n",
        "      <td> 1</td>\n",
        "      <td> 0</td>\n",
        "      <td> 0</td>\n",
        "      <td> 0</td>\n",
        "      <td> 0</td>\n",
        "    </tr>\n",
        "    <tr>\n",
        "      <th>7 </th>\n",
        "      <td> 1</td>\n",
        "      <td> 3</td>\n",
        "      <td> 21.0750</td>\n",
        "      <td> 1</td>\n",
        "      <td> 0</td>\n",
        "      <td> 0</td>\n",
        "      <td> 1</td>\n",
        "      <td> 4</td>\n",
        "      <td> 0</td>\n",
        "      <td> 0</td>\n",
        "      <td> 3</td>\n",
        "    </tr>\n",
        "    <tr>\n",
        "      <th>8 </th>\n",
        "      <td> 0</td>\n",
        "      <td> 3</td>\n",
        "      <td> 11.1333</td>\n",
        "      <td> 3</td>\n",
        "      <td> 0</td>\n",
        "      <td> 0</td>\n",
        "      <td> 1</td>\n",
        "      <td> 2</td>\n",
        "      <td> 0</td>\n",
        "      <td> 1</td>\n",
        "      <td> 1</td>\n",
        "    </tr>\n",
        "    <tr>\n",
        "      <th>9 </th>\n",
        "      <td> 0</td>\n",
        "      <td> 2</td>\n",
        "      <td> 30.0708</td>\n",
        "      <td> 1</td>\n",
        "      <td> 1</td>\n",
        "      <td> 0</td>\n",
        "      <td> 0</td>\n",
        "      <td> 1</td>\n",
        "      <td> 0</td>\n",
        "      <td> 0</td>\n",
        "      <td> 1</td>\n",
        "    </tr>\n",
        "    <tr>\n",
        "      <th>10</th>\n",
        "      <td> 0</td>\n",
        "      <td> 3</td>\n",
        "      <td> 16.7000</td>\n",
        "      <td> 1</td>\n",
        "      <td> 0</td>\n",
        "      <td> 0</td>\n",
        "      <td> 1</td>\n",
        "      <td> 2</td>\n",
        "      <td> 0</td>\n",
        "      <td> 1</td>\n",
        "      <td> 2</td>\n",
        "    </tr>\n",
        "  </tbody>\n",
        "</table>\n",
        "</div>"
       ],
       "metadata": {},
       "output_type": "pyout",
       "prompt_number": 514,
       "text": [
        "    Sex  Pclass     Fare  binAge  C  Q  S  family  isMarried  overseer  title_level\n",
        "0     1       3   7.2500       3  0  0  1       1          0         0            0\n",
        "1     0       1  71.2833       3  1  0  0       1          0         0            1\n",
        "2     0       3   7.9250       3  0  0  1       0          0         0            2\n",
        "3     0       1  53.1000       3  0  0  1       1          0         0            1\n",
        "4     1       3   8.0500       3  0  0  1       0          0         0            0\n",
        "5     1       3   8.4583       3  0  1  0       0          0         0            0\n",
        "6     1       1  51.8625       3  0  0  1       0          0         0            0\n",
        "7     1       3  21.0750       1  0  0  1       4          0         0            3\n",
        "8     0       3  11.1333       3  0  0  1       2          0         1            1\n",
        "9     0       2  30.0708       1  1  0  0       1          0         0            1\n",
        "10    0       3  16.7000       1  0  0  1       2          0         1            2"
       ]
      }
     ],
     "prompt_number": 514
    },
    {
     "cell_type": "heading",
     "level": 3,
     "metadata": {},
     "source": [
      "DIVIDE THE SETS & RUN"
     ]
    },
    {
     "cell_type": "code",
     "collapsed": false,
     "input": [
      "x_all[0:10,:]"
     ],
     "language": "python",
     "metadata": {},
     "outputs": [
      {
       "metadata": {},
       "output_type": "pyout",
       "prompt_number": 515,
       "text": [
        "array([[  1.    ,   3.    ,   7.25  ,   3.    ,   0.    ,   0.    ,\n",
        "          1.    ,   1.    ,   0.    ,   0.    ,   0.    ],\n",
        "       [  0.    ,   1.    ,  71.2833,   3.    ,   1.    ,   0.    ,\n",
        "          0.    ,   1.    ,   0.    ,   0.    ,   1.    ],\n",
        "       [  0.    ,   3.    ,   7.925 ,   3.    ,   0.    ,   0.    ,\n",
        "          1.    ,   0.    ,   0.    ,   0.    ,   2.    ],\n",
        "       [  0.    ,   1.    ,  53.1   ,   3.    ,   0.    ,   0.    ,\n",
        "          1.    ,   1.    ,   0.    ,   0.    ,   1.    ],\n",
        "       [  1.    ,   3.    ,   8.05  ,   3.    ,   0.    ,   0.    ,\n",
        "          1.    ,   0.    ,   0.    ,   0.    ,   0.    ],\n",
        "       [  1.    ,   3.    ,   8.4583,   3.    ,   0.    ,   1.    ,\n",
        "          0.    ,   0.    ,   0.    ,   0.    ,   0.    ],\n",
        "       [  1.    ,   1.    ,  51.8625,   3.    ,   0.    ,   0.    ,\n",
        "          1.    ,   0.    ,   0.    ,   0.    ,   0.    ],\n",
        "       [  1.    ,   3.    ,  21.075 ,   1.    ,   0.    ,   0.    ,\n",
        "          1.    ,   4.    ,   0.    ,   0.    ,   3.    ],\n",
        "       [  0.    ,   3.    ,  11.1333,   3.    ,   0.    ,   0.    ,\n",
        "          1.    ,   2.    ,   0.    ,   1.    ,   1.    ],\n",
        "       [  0.    ,   2.    ,  30.0708,   1.    ,   1.    ,   0.    ,\n",
        "          0.    ,   1.    ,   0.    ,   0.    ,   1.    ]])"
       ]
      }
     ],
     "prompt_number": 515
    },
    {
     "cell_type": "code",
     "collapsed": false,
     "input": [
      "scaler = preprocessing.StandardScaler().fit(x_all)\n",
      "x_all = scaler.transform(x_all)"
     ],
     "language": "python",
     "metadata": {},
     "outputs": [],
     "prompt_number": 516
    },
    {
     "cell_type": "code",
     "collapsed": false,
     "input": [
      "xe = x_all[0:200]\n",
      "xt = x_all[200:M]\n",
      "x_test = x_all[M:]\n",
      "\n",
      "ye = y_all[0:200]\n",
      "yt = y_all[200:M]"
     ],
     "language": "python",
     "metadata": {},
     "outputs": [],
     "prompt_number": 517
    },
    {
     "cell_type": "code",
     "collapsed": false,
     "input": [
      "#C_range = [0.0001, 0.001, 0.01, 0.1, 1, 10]\n",
      "#g_range = [0.001, 0.01, 0.1, 1, 10, 25]\n",
      "\n",
      "C_range = arange(0.5, 10, 0.1)\n",
      "g_range = arange(0.01, 0.1, 0.005)\n",
      "param_grid = dict(gamma=g_range, C=C_range)\n",
      "cv = StratifiedKFold(y=yt, n_folds=2)\n",
      "clf = svm.SVC(kernel='rbf', cache_size=1000)\n",
      "\n",
      "grid = GridSearchCV(clf, param_grid=param_grid, cv=cv, verbose=1)\n",
      "grid.fit(xt, yt)"
     ],
     "language": "python",
     "metadata": {},
     "outputs": [
      {
       "output_type": "stream",
       "stream": "stderr",
       "text": [
        "[Parallel(n_jobs=1)]: Done   1 jobs       | elapsed:    0.0s\n",
        "[Parallel(n_jobs=1)]: Done  50 jobs       | elapsed:    0.6s\n"
       ]
      },
      {
       "output_type": "stream",
       "stream": "stderr",
       "text": [
        "[Parallel(n_jobs=1)]: Done 200 jobs       | elapsed:    1.9s\n",
        "[Parallel(n_jobs=1)]: Done 450 jobs       | elapsed:    4.1s\n"
       ]
      },
      {
       "output_type": "stream",
       "stream": "stderr",
       "text": [
        "[Parallel(n_jobs=1)]: Done 800 jobs       | elapsed:    7.5s\n",
        "[Parallel(n_jobs=1)]: Done 1250 jobs       | elapsed:   11.5s\n"
       ]
      },
      {
       "output_type": "stream",
       "stream": "stderr",
       "text": [
        "[Parallel(n_jobs=1)]: Done 1800 jobs       | elapsed:   16.5s\n",
        "[Parallel(n_jobs=1)]: Done 2450 jobs       | elapsed:   22.5s\n"
       ]
      },
      {
       "output_type": "stream",
       "stream": "stderr",
       "text": [
        "[Parallel(n_jobs=1)]: Done 3200 jobs       | elapsed:   29.6s\n",
        "[Parallel(n_jobs=1)]: Done 3420 out of 3420 | elapsed:   31.7s finished\n"
       ]
      },
      {
       "output_type": "stream",
       "stream": "stdout",
       "text": [
        "Fitting 2 folds for each of 1710 candidates, totalling 3420 fits\n"
       ]
      },
      {
       "metadata": {},
       "output_type": "pyout",
       "prompt_number": 518,
       "text": [
        "GridSearchCV(cv=sklearn.cross_validation.StratifiedKFold(labels=[ 0.  0. ...,  1.  0.], n_folds=2),\n",
        "       estimator=SVC(C=1.0, cache_size=1000, class_weight=None, coef0=0.0, degree=3, gamma=0.0,\n",
        "  kernel='rbf', max_iter=-1, probability=False, random_state=None,\n",
        "  shrinking=True, tol=0.001, verbose=False),\n",
        "       fit_params={}, iid=True, loss_func=None, n_jobs=1,\n",
        "       param_grid={'C': array([ 0.5,  0.6, ...,  9.8,  9.9]), 'gamma': array([ 0.01 ,  0.015,  0.02 ,  0.025,  0.03 ,  0.035,  0.04 ,  0.045,\n",
        "        0.05 ,  0.055,  0.06 ,  0.065,  0.07 ,  0.075,  0.08 ,  0.085,\n",
        "        0.09 ,  0.095])},\n",
        "       pre_dispatch='2*n_jobs', refit=True, score_func=None, scoring=None,\n",
        "       verbose=1)"
       ]
      }
     ],
     "prompt_number": 518
    },
    {
     "cell_type": "code",
     "collapsed": false,
     "input": [
      "print(\"The best classifier is: \", grid.best_estimator_)\n",
      "score_dict = grid.grid_scores_\n",
      "scores = [x[1] for x in score_dict]\n",
      "scores = np.array(scores).reshape(len(C_range), len(g_range))\n",
      "plt.figure(figsize=(8, 6))\n",
      "plt.subplots_adjust(left=0.05, right=0.95, bottom=0.15, top=0.95)\n",
      "plt.imshow(scores, interpolation='nearest', cmap=plt.cm.spectral)\n",
      "plt.xlabel('r')\n",
      "plt.ylabel('C')\n",
      "plt.colorbar()\n",
      "plt.xticks(np.arange(len(g_range)), g_range, rotation=45)\n",
      "plt.yticks(np.arange(len(C_range)), C_range)\n",
      "plt.show()"
     ],
     "language": "python",
     "metadata": {},
     "outputs": [
      {
       "output_type": "stream",
       "stream": "stdout",
       "text": [
        "('The best classifier is: ', SVC(C=0.5, cache_size=1000, class_weight=None, coef0=0.0, degree=3,\n",
        "  gamma=0.084999999999999978, kernel='rbf', max_iter=-1, probability=False,\n",
        "  random_state=None, shrinking=True, tol=0.001, verbose=False))\n"
       ]
      },
      {
       "metadata": {},
       "output_type": "display_data",
       "png": "[encoded data removed]",
       "text": [
        "<matplotlib.figure.Figure at 0x109e967d0>"
       ]
      }
     ],
     "prompt_number": 519
    },
    {
     "cell_type": "code",
     "collapsed": false,
     "input": [
      "# CROSS VALIDATION SCORE\n",
      "#score = clf.score(xe, ye)\n",
      "score = grid.best_estimator_.score(xe, ye)\n",
      "print 'score', score"
     ],
     "language": "python",
     "metadata": {},
     "outputs": [
      {
       "output_type": "stream",
       "stream": "stdout",
       "text": [
        "score 0.85\n"
       ]
      }
     ],
     "prompt_number": 520
    },
    {
     "cell_type": "code",
     "collapsed": false,
     "input": [
      "xt2 = x_all[0:800]\n",
      "xe2 = x_all[800:M]\n",
      "\n",
      "yt2 = y_all[0:800]\n",
      "ye2 = y_all[800:M]\n",
      "\n",
      "clf = svm.SVC(C=grid.best_estimator_.C, gamma=grid.best_estimator_.gamma, kernel='rbf', cache_size=1000)\n",
      "clf.fit(xt2, yt2)\n",
      "\n",
      "score = clf.score(xe2, ye2)\n",
      "print 'score', score\n"
     ],
     "language": "python",
     "metadata": {},
     "outputs": [
      {
       "output_type": "stream",
       "stream": "stdout",
       "text": [
        "score 0.857142857143\n"
       ]
      }
     ],
     "prompt_number": 521
    },
    {
     "cell_type": "code",
     "collapsed": false,
     "input": [],
     "language": "python",
     "metadata": {},
     "outputs": [],
     "prompt_number": 521
    },
    {
     "cell_type": "code",
     "collapsed": false,
     "input": [
      "grid.best_estimator_.support_vectors_.shape"
     ],
     "language": "python",
     "metadata": {},
     "outputs": [
      {
       "metadata": {},
       "output_type": "pyout",
       "prompt_number": 522,
       "text": [
        "(337, 11)"
       ]
      }
     ],
     "prompt_number": 522
    },
    {
     "cell_type": "heading",
     "level": 3,
     "metadata": {},
     "source": [
      "OUTPUT TEST PREDICTIONS ON ALL TRAINING DATA"
     ]
    },
    {
     "cell_type": "code",
     "collapsed": false,
     "input": [
      "clf = grid.best_estimator_\n",
      "\n",
      "x_all_train = x_all[0:M]\n",
      "y_all_train = y_all[0:M]\n",
      "\n",
      "clf.fit(x_all_train, y_all_train)\n",
      "\n",
      "a = grid.best_estimator_.predict(x_test)"
     ],
     "language": "python",
     "metadata": {},
     "outputs": [],
     "prompt_number": 523
    },
    {
     "cell_type": "code",
     "collapsed": false,
     "input": [
      "m = a.shape[0]\n",
      "aa = range(892,892+m)\n",
      "y_test = np.vstack([aa, a]).T\n",
      "print 'To submitt add header: PassengerId,Survived'\n",
      "print y_test[0:10,:]\n",
      "np.savetxt('./predictions_svm_last.csv', y_test, fmt='%i,%i')"
     ],
     "language": "python",
     "metadata": {},
     "outputs": [
      {
       "output_type": "stream",
       "stream": "stdout",
       "text": [
        "To submitt add header: PassengerId,Survived\n",
        "[[ 892.    0.]\n",
        " [ 893.    1.]\n",
        " [ 894.    0.]\n",
        " [ 895.    0.]\n",
        " [ 896.    1.]\n",
        " [ 897.    1.]\n",
        " [ 898.    1.]\n",
        " [ 899.    0.]\n",
        " [ 900.    1.]\n",
        " [ 901.    0.]]\n"
       ]
      }
     ],
     "prompt_number": 524
    },
    {
     "cell_type": "code",
     "collapsed": false,
     "input": [
      "183./6946"
     ],
     "language": "python",
     "metadata": {},
     "outputs": []
    },
    {
     "cell_type": "code",
     "collapsed": false,
     "input": [],
     "language": "python",
     "metadata": {},
     "outputs": []
    }
   ],
   "metadata": {}
  }
 ]
}