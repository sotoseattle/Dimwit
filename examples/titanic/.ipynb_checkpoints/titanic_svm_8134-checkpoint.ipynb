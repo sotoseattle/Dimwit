{
 "metadata": {
  "name": ""
 },
 "nbformat": 3,
 "nbformat_minor": 0,
 "worksheets": [
  {
   "cells": [
    {
     "cell_type": "code",
     "collapsed": false,
     "input": [
      "%cd '~/Dropbox/fjs6/Journal/ideolog/Dimwit/examples/titanic/data/'"
     ],
     "language": "python",
     "metadata": {},
     "outputs": [
      {
       "output_type": "stream",
       "stream": "stdout",
       "text": [
        "/Users/fjs6/Dropbox/fjs6/Journal/ideolog/Dimwit/examples/titanic/data\n"
       ]
      }
     ],
     "prompt_number": 112
    },
    {
     "cell_type": "code",
     "collapsed": false,
     "input": [
      "import numpy as np\n",
      "from pandas import *\n",
      "import pandas\n",
      "import math\n",
      "import random\n",
      "from sklearn import preprocessing\n",
      "from sklearn import svm\n",
      "from sklearn.svm import SVC\n",
      "from sklearn.cross_validation import StratifiedKFold\n",
      "from sklearn.grid_search import GridSearchCV"
     ],
     "language": "python",
     "metadata": {},
     "outputs": [],
     "prompt_number": 113
    },
    {
     "cell_type": "code",
     "collapsed": false,
     "input": [
      "tr_data = read_csv('train.csv')\n",
      "M = tr_data.shape[0]\n",
      "test_data = read_csv('test.csv')\n",
      "data = concat([tr_data, test_data], ignore_index=True)\n",
      "print 'cutout train set:', M"
     ],
     "language": "python",
     "metadata": {},
     "outputs": [
      {
       "output_type": "stream",
       "stream": "stdout",
       "text": [
        "cutout train set: 891\n"
       ]
      }
     ],
     "prompt_number": 114
    },
    {
     "cell_type": "code",
     "collapsed": false,
     "input": [
      "import re\n",
      "\n",
      "def extract_patt(patt, linea):\n",
      "    matchObj = re.match(patt, linea)\n",
      "    result = NaN\n",
      "    if matchObj:\n",
      "        return matchObj.group(1).lower()\n",
      "    else:\n",
      "        print \"No match!!\"\n",
      "        return NaN\n",
      "\n",
      "def extract_title(linea):\n",
      "    return extract_patt('^.+,\\s(.+)\\..+', linea)\n",
      "\n",
      "def extract_last_name(linea):\n",
      "    return extract_patt('^(.+),\\s.+\\..+', linea)\n",
      "\n",
      "def extract_cabin_letter(linea):\n",
      "    return extract_patt('^(.)\\d*', linea)\n",
      "\n",
      "data.Sex = data.Sex.map(lambda x: 1. if x=='male' else 0.)\n",
      "data['lastName'] = data.Name.map(extract_last_name)\n",
      "data['title'] = data.Name.map(extract_title)\n",
      "data['cabinLetter'] = data.Name.map(extract_cabin_letter)\n",
      "data['family'] = data.Parch + data.SibSp\n",
      "\n",
      "# Adding personal power\n",
      "data['charisma'] = data.Age*data.Pclass\n",
      "\n",
      "data['hasCabin'] = data.Cabin.map(lambda x: 0. if isnull(x) else 1.)\n",
      "data['isMarried'] = data.title.map(lambda x: 1. if (x=='Mr' or x=='Mrs') else 0.)\n",
      "\n",
      "# Adding Embarkment features\n",
      "data['C'] = data.Embarked.map(lambda x: 1. if x=='C' else 0.)\n",
      "data['Q'] = data.Embarked.map(lambda x: 1. if x=='Q' else 0.)\n",
      "data['S'] = data.Embarked.map(lambda x: 1. if x=='S' else 0.)\n",
      "\n",
      "#data['lastName','title'] = data.Name.map(extract_title)\n",
      "print 'unextracted titles:', data[data.title.isnull()==True].shape[0]"
     ],
     "language": "python",
     "metadata": {},
     "outputs": [
      {
       "output_type": "stream",
       "stream": "stdout",
       "text": [
        "unextracted titles: 0\n"
       ]
      }
     ],
     "prompt_number": 115
    },
    {
     "cell_type": "code",
     "collapsed": false,
     "input": [
      "# Age by BINS [0-14][15-20][21-40][41-60][61-100]\n",
      "def bin_age(edad):\n",
      "    if isnull(edad):\n",
      "        return NaN\n",
      "    elif edad<=14:\n",
      "        return 1\n",
      "    elif edad<=30:\n",
      "        return 2\n",
      "    elif edad<=60:\n",
      "        return 3\n",
      "    else:\n",
      "        return 4\n",
      "\n",
      "data['binAge'] = data.Age.map(bin_age)\n"
     ],
     "language": "python",
     "metadata": {},
     "outputs": [],
     "prompt_number": 116
    },
    {
     "cell_type": "code",
     "collapsed": false,
     "input": [
      "# Fare NaN\n",
      "fares_by_class = data.groupby('Pclass').Fare.median()\n",
      "\n",
      "def getFare(example):\n",
      "    if isnull(example['Fare']):\n",
      "        example['Fare'] = fares_by_class[example['Pclass']]\n",
      "    return example\n",
      "\n",
      "data = data.apply(getFare, axis=1)"
     ],
     "language": "python",
     "metadata": {},
     "outputs": [],
     "prompt_number": 117
    },
    {
     "cell_type": "code",
     "collapsed": false,
     "input": [
      "titulos = Series(data.title.unique())\n",
      "titulos = Series(data.title.unique()).to_dict()\n",
      "titulos_levels = {v:k for k, v in titulos.items()}\n",
      "\n",
      "data['title_level'] = data.title.map(lambda x: titulos_levels[x])"
     ],
     "language": "python",
     "metadata": {},
     "outputs": [],
     "prompt_number": 118
    },
    {
     "cell_type": "heading",
     "level": 3,
     "metadata": {},
     "source": [
      "CABIN LETTER"
     ]
    },
    {
     "cell_type": "code",
     "collapsed": false,
     "input": [
      "for letter in data.cabinLetter.unique():\n",
      "    data['C_'+letter] = data.cabinLetter.map(lambda x: 1. if x==letter else 0.)"
     ],
     "language": "python",
     "metadata": {},
     "outputs": [],
     "prompt_number": 119
    },
    {
     "cell_type": "heading",
     "level": 2,
     "metadata": {},
     "source": [
      "AGE"
     ]
    },
    {
     "cell_type": "code",
     "collapsed": false,
     "input": [
      "# IMPORTANT TO SET THIS BEFORE WE FILL AGES\n",
      "data['has_Age'] = data.Age.map(lambda x: 0. if isnull(x) else 1.)"
     ],
     "language": "python",
     "metadata": {},
     "outputs": [],
     "prompt_number": 120
    },
    {
     "cell_type": "code",
     "collapsed": false,
     "input": [
      "# GET MEDIAN AGE PER TITLE\n",
      "qqq = data.groupby('title')\n",
      "ages_by_title = qqq.Age.median()"
     ],
     "language": "python",
     "metadata": {},
     "outputs": [],
     "prompt_number": 121
    },
    {
     "cell_type": "code",
     "collapsed": false,
     "input": [
      "# FILL NaN WITH MEDIAN ACCORDING TO TITLE\n",
      "#print 'unextracted titles:', data[data.Age.isnull()==True].shape[0]\n",
      "#print data.ix[0:20,['title', 'Age']]\n",
      "\n",
      "def getAge(example):\n",
      "    if isnull(example['Age']):\n",
      "        example['charisma'] = ages_by_title[example['title']]*example['Pclass']\n",
      "    else:\n",
      "        example['charisma'] = example['Age']*example['Pclass']\n",
      "    return example\n",
      "\n",
      "data = data.apply(getAge, axis=1)\n",
      "\n",
      "#print 'unextracted titles:', data[data.Age.isnull()==True].shape[0]\n",
      "#print data.ix[0:20,['title', 'Age']]"
     ],
     "language": "python",
     "metadata": {},
     "outputs": [],
     "prompt_number": 122
    },
    {
     "cell_type": "code",
     "collapsed": false,
     "input": [
      "def get_relatives(record):\n",
      "    if record['family']==0:\n",
      "        return 0.\n",
      "    \n",
      "    if record['Sex']==0:\n",
      "        sol = data[(data.lastName==record['lastName']) | (data.Cabin==record['Cabin'])][data.Survived==1][data.PassengerId!=record['PassengerId']]\n",
      "    else:\n",
      "        #sol = data[(data.lastName==record['lastName']) | (data.Cabin==record['Cabin'])][data.Survived==1][data.Sex==1][data.PassengerId!=record['PassengerId']][data.Age>=record['Age']]\n",
      "        sol = data[(data.lastName==record['lastName']) | (data.Cabin==record['Cabin'])][data.Survived==1][data.PassengerId!=record['PassengerId']][data.Age>=record['Age']]\n",
      "    if sol.empty:\n",
      "        return 0.\n",
      "    else:\n",
      "        return 1.\n",
      "\n",
      "data['overseer'] = data.apply(get_relatives, axis=1)\n",
      "\n"
     ],
     "language": "python",
     "metadata": {},
     "outputs": [],
     "prompt_number": 123
    },
    {
     "cell_type": "code",
     "collapsed": false,
     "input": [
      "data.columns"
     ],
     "language": "python",
     "metadata": {},
     "outputs": [
      {
       "metadata": {},
       "output_type": "pyout",
       "prompt_number": 124,
       "text": [
        "Index([u'Age', u'Cabin', u'Embarked', u'Fare', u'Name', u'Parch', u'PassengerId', u'Pclass', u'Sex', u'SibSp', u'Survived', u'Ticket', u'lastName', u'title', u'cabinLetter', u'family', u'charisma', u'hasCabin', u'isMarried', u'C', u'Q', u'S', u'binAge', u'title_level', u'C_b', u'C_c', u'C_h', u'C_f', u'C_a', u'C_m', u'C_p', u'C_j', u'C_n', u'C_s', u'C_v', u'C_r', u'C_w', u'C_e', u'C_o', u'C_t', u'C_u', u'C_g', u'C_k', u'C_l', u'C_d', u'C_i', u'C_z', u'C_y', u'C_q', u'has_Age', u'overseer'], dtype=object)"
       ]
      }
     ],
     "prompt_number": 124
    },
    {
     "cell_type": "heading",
     "level": 3,
     "metadata": {},
     "source": [
      "SVM THE AGE"
     ]
    },
    {
     "cell_type": "code",
     "collapsed": false,
     "input": [
      "predictors_of_age_bin = ['binAge', 'Pclass','Parch', 'SibSp', 'isMarried', 'title_level']\n",
      "\n",
      "def mungeA(df):\n",
      "    df = df[isnull(df.binAge)==False]\n",
      "    return df.ix[:,predictors_of_age_bin]\n",
      "mungedA = mungeA(data[notnull(data.binAge)==True])\n",
      "\n",
      "mungedA.columns"
     ],
     "language": "python",
     "metadata": {},
     "outputs": [
      {
       "metadata": {},
       "output_type": "pyout",
       "prompt_number": 125,
       "text": [
        "Index([u'binAge', u'Pclass', u'Parch', u'SibSp', u'isMarried', u'title_level'], dtype=object)"
       ]
      }
     ],
     "prompt_number": 125
    },
    {
     "cell_type": "code",
     "collapsed": false,
     "input": [
      "y_allA = mungedA.pop('binAge')\n",
      "x_allA = np.array(mungedA)\n",
      "\n",
      "scaler = preprocessing.StandardScaler().fit(x_allA)\n",
      "x_allA = scaler.transform(x_allA)\n",
      "\n",
      "xeA = x_allA[0:200]\n",
      "xtA = x_allA[200:M]\n",
      "\n",
      "yeA = y_allA[0:200]\n",
      "ytA = y_allA[200:M]"
     ],
     "language": "python",
     "metadata": {},
     "outputs": [],
     "prompt_number": 126
    },
    {
     "cell_type": "code",
     "collapsed": false,
     "input": [
      "C_rangeA = arange(1,1000,25)\n",
      "g_rangeA = arange(0.001, 0.1, 0.01)\n",
      "param_gridA = dict(gamma=g_rangeA, C=C_rangeA)\n",
      "cvA = StratifiedKFold(y=ytA, n_folds=2)\n",
      "clfA = svm.SVC(kernel='rbf', cache_size=1000)\n",
      "\n",
      "gridA = GridSearchCV(clfA, param_grid=param_gridA, cv=cvA, verbose=1)\n",
      "gridA.fit(xtA, ytA)"
     ],
     "language": "python",
     "metadata": {},
     "outputs": [
      {
       "output_type": "stream",
       "stream": "stderr",
       "text": [
        "[Parallel(n_jobs=1)]: Done   1 jobs       | elapsed:    0.0s\n",
        "[Parallel(n_jobs=1)]: Done  50 jobs       | elapsed:    0.7s\n"
       ]
      },
      {
       "output_type": "stream",
       "stream": "stderr",
       "text": [
        "[Parallel(n_jobs=1)]: Done 200 jobs       | elapsed:    4.6s\n",
        "[Parallel(n_jobs=1)]: Done 450 jobs       | elapsed:   13.4s\n"
       ]
      },
      {
       "output_type": "stream",
       "stream": "stdout",
       "text": [
        "Fitting 2 folds for each of 400 candidates, totalling 800 fits\n"
       ]
      },
      {
       "output_type": "stream",
       "stream": "stderr",
       "text": [
        "[Parallel(n_jobs=1)]: Done 800 jobs       | elapsed:   30.5s\n",
        "[Parallel(n_jobs=1)]: Done 800 out of 800 | elapsed:   30.5s finished\n"
       ]
      },
      {
       "metadata": {},
       "output_type": "pyout",
       "prompt_number": 127,
       "text": [
        "GridSearchCV(cv=sklearn.cross_validation.StratifiedKFold(labels=[ 3.  3. ...,  2.  2.], n_folds=2),\n",
        "       estimator=SVC(C=1.0, cache_size=1000, class_weight=None, coef0=0.0, degree=3, gamma=0.0,\n",
        "  kernel='rbf', max_iter=-1, probability=False, random_state=None,\n",
        "  shrinking=True, tol=0.001, verbose=False),\n",
        "       fit_params={}, iid=True, loss_func=None, n_jobs=1,\n",
        "       param_grid={'C': array([  1,  26,  51,  76, 101, 126, 151, 176, 201, 226, 251, 276, 301,\n",
        "       326, 351, 376, 401, 426, 451, 476, 501, 526, 551, 576, 601, 626,\n",
        "       651, 676, 701, 726, 751, 776, 801, 826, 851, 876, 901, 926, 951, 976]), 'gamma': array([ 0.001,  0.011,  0.021,  0.031,  0.041,  0.051,  0.061,  0.071,\n",
        "        0.081,  0.091])},\n",
        "       pre_dispatch='2*n_jobs', refit=True, score_func=None, scoring=None,\n",
        "       verbose=1)"
       ]
      }
     ],
     "prompt_number": 127
    },
    {
     "cell_type": "code",
     "collapsed": false,
     "input": [
      "print(\"The best classifier is: \", gridA.best_estimator_)\n",
      "score_dictA = gridA.grid_scores_\n",
      "scoresA = [x[1] for x in score_dictA]\n",
      "scoresA = np.array(scoresA).reshape(len(C_rangeA), len(g_rangeA))\n",
      "plt.figure(figsize=(8, 6))\n",
      "plt.subplots_adjust(left=0.05, right=0.95, bottom=0.15, top=0.95)\n",
      "plt.imshow(scoresA, interpolation='nearest', cmap=plt.cm.spectral)\n",
      "plt.xlabel('g')\n",
      "plt.ylabel('C')\n",
      "plt.colorbar()\n",
      "plt.xticks(np.arange(len(g_rangeA)), g_rangeA, rotation=45)\n",
      "plt.yticks(np.arange(len(C_rangeA)), C_rangeA)\n",
      "plt.show()"
     ],
     "language": "python",
     "metadata": {},
     "outputs": [
      {
       "output_type": "stream",
       "stream": "stdout",
       "text": [
        "('The best classifier is: ', SVC(C=26, cache_size=1000, class_weight=None, coef0=0.0, degree=3,\n",
        "  gamma=0.010999999999999999, kernel='rbf', max_iter=-1, probability=False,\n",
        "  random_state=None, shrinking=True, tol=0.001, verbose=False))\n"
       ]
      },
      {
       "metadata": {},
       "output_type": "display_data",
       "png": "[encoded data removed]",
       "text": [
        "<matplotlib.figure.Figure at 0x10795f090>"
       ]
      }
     ],
     "prompt_number": 128
    },
    {
     "cell_type": "code",
     "collapsed": false,
     "input": [
      "scoreA = gridA.best_estimator_.score(xeA, yeA)\n",
      "print 'score', scoreA"
     ],
     "language": "python",
     "metadata": {},
     "outputs": [
      {
       "output_type": "stream",
       "stream": "stdout",
       "text": [
        "score 0.675\n"
       ]
      }
     ],
     "prompt_number": 129
    },
    {
     "cell_type": "code",
     "collapsed": false,
     "input": [
      "predictors_of_age_bin.remove('binAge')\n",
      "predictors_of_age_bin"
     ],
     "language": "python",
     "metadata": {},
     "outputs": [
      {
       "metadata": {},
       "output_type": "pyout",
       "prompt_number": 130,
       "text": [
        "['Pclass', 'Parch', 'SibSp', 'isMarried', 'title_level']"
       ]
      }
     ],
     "prompt_number": 130
    },
    {
     "cell_type": "code",
     "collapsed": false,
     "input": [
      "# Age by BINS [0-14][15-20][21-40][41-60][61-100]\n",
      "#predictors_of_age_bin.remove('binAge')\n",
      "\n",
      "def bin_age_revisited(record):\n",
      "    xm = np.array(record.ix[predictors_of_age_bin])\n",
      "    if isnull(record['binAge']):\n",
      "        record['binAge'] = gridA.best_estimator_.predict(xm)[0]\n",
      "    return record\n",
      "\n",
      "data = data.apply(bin_age_revisited, axis=1)"
     ],
     "language": "python",
     "metadata": {},
     "outputs": [],
     "prompt_number": 131
    },
    {
     "cell_type": "heading",
     "level": 3,
     "metadata": {},
     "source": [
      "SELECT FEATURES AND X_ALL, Y_ALL"
     ]
    },
    {
     "cell_type": "code",
     "collapsed": false,
     "input": [
      "def munge(df):\n",
      "    return df.ix[:,['Survived','Sex','Pclass','Fare', 'charisma', 'binAge', 'C', 'Q', 'S', \\\n",
      "                    'family', 'isMarried', 'overseer', 'title_level']]"
     ],
     "language": "python",
     "metadata": {},
     "outputs": [],
     "prompt_number": 132
    },
    {
     "cell_type": "code",
     "collapsed": false,
     "input": [
      "munged = munge(data)"
     ],
     "language": "python",
     "metadata": {},
     "outputs": [],
     "prompt_number": 133
    },
    {
     "cell_type": "code",
     "collapsed": false,
     "input": [
      "munged.columns"
     ],
     "language": "python",
     "metadata": {},
     "outputs": [
      {
       "metadata": {},
       "output_type": "pyout",
       "prompt_number": 134,
       "text": [
        "Index([u'Survived', u'Sex', u'Pclass', u'Fare', u'charisma', u'binAge', u'C', u'Q', u'S', u'family', u'isMarried', u'overseer', u'title_level'], dtype=object)"
       ]
      }
     ],
     "prompt_number": 134
    },
    {
     "cell_type": "code",
     "collapsed": false,
     "input": [
      "y_all = munged.pop('Survived')"
     ],
     "language": "python",
     "metadata": {},
     "outputs": [],
     "prompt_number": 135
    },
    {
     "cell_type": "code",
     "collapsed": false,
     "input": [
      "x_all = np.array(munged)"
     ],
     "language": "python",
     "metadata": {},
     "outputs": [],
     "prompt_number": 136
    },
    {
     "cell_type": "heading",
     "level": 3,
     "metadata": {},
     "source": [
      "DIVIDE THE SETS & RUN"
     ]
    },
    {
     "cell_type": "code",
     "collapsed": false,
     "input": [
      "scaler = preprocessing.StandardScaler().fit(x_all)\n",
      "x_all = scaler.transform(x_all)"
     ],
     "language": "python",
     "metadata": {},
     "outputs": [],
     "prompt_number": 137
    },
    {
     "cell_type": "code",
     "collapsed": false,
     "input": [
      "xe = x_all[0:200]\n",
      "xt = x_all[200:M]\n",
      "x_test = x_all[M:]\n",
      "\n",
      "ye = y_all[0:200]\n",
      "yt = y_all[200:M]"
     ],
     "language": "python",
     "metadata": {},
     "outputs": [],
     "prompt_number": 138
    },
    {
     "cell_type": "code",
     "collapsed": false,
     "input": [
      "#C_range = [0.0001, 0.001, 0.01, 0.1, 1, 10]\n",
      "#g_range = [0.001, 0.01, 0.1, 1, 10, 25]\n",
      "\n",
      "C_range = arange(0.5, 10, 0.1)\n",
      "g_range = arange(0.01, 0.1, 0.005)\n",
      "param_grid = dict(gamma=g_range, C=C_range)\n",
      "cv = StratifiedKFold(y=yt, n_folds=2)\n",
      "clf = svm.SVC(kernel='rbf', cache_size=1000)\n",
      "\n",
      "grid = GridSearchCV(clf, param_grid=param_grid, cv=cv, verbose=1)\n",
      "grid.fit(xt, yt)"
     ],
     "language": "python",
     "metadata": {},
     "outputs": [
      {
       "output_type": "stream",
       "stream": "stderr",
       "text": [
        "[Parallel(n_jobs=1)]: Done   1 jobs       | elapsed:    0.0s\n",
        "[Parallel(n_jobs=1)]: Done  50 jobs       | elapsed:    0.5s\n"
       ]
      },
      {
       "output_type": "stream",
       "stream": "stderr",
       "text": [
        "[Parallel(n_jobs=1)]: Done 200 jobs       | elapsed:    1.9s\n",
        "[Parallel(n_jobs=1)]: Done 450 jobs       | elapsed:    4.3s\n"
       ]
      },
      {
       "output_type": "stream",
       "stream": "stderr",
       "text": [
        "[Parallel(n_jobs=1)]: Done 800 jobs       | elapsed:    7.7s\n",
        "[Parallel(n_jobs=1)]: Done 1250 jobs       | elapsed:   11.9s\n"
       ]
      },
      {
       "output_type": "stream",
       "stream": "stderr",
       "text": [
        "[Parallel(n_jobs=1)]: Done 1800 jobs       | elapsed:   17.2s\n",
        "[Parallel(n_jobs=1)]: Done 2450 jobs       | elapsed:   23.5s\n"
       ]
      },
      {
       "output_type": "stream",
       "stream": "stderr",
       "text": [
        "[Parallel(n_jobs=1)]: Done 3200 jobs       | elapsed:   31.0s\n",
        "[Parallel(n_jobs=1)]: Done 3420 out of 3420 | elapsed:   33.3s finished\n"
       ]
      },
      {
       "output_type": "stream",
       "stream": "stdout",
       "text": [
        "Fitting 2 folds for each of 1710 candidates, totalling 3420 fits\n"
       ]
      },
      {
       "metadata": {},
       "output_type": "pyout",
       "prompt_number": 139,
       "text": [
        "GridSearchCV(cv=sklearn.cross_validation.StratifiedKFold(labels=[ 0.  0. ...,  1.  0.], n_folds=2),\n",
        "       estimator=SVC(C=1.0, cache_size=1000, class_weight=None, coef0=0.0, degree=3, gamma=0.0,\n",
        "  kernel='rbf', max_iter=-1, probability=False, random_state=None,\n",
        "  shrinking=True, tol=0.001, verbose=False),\n",
        "       fit_params={}, iid=True, loss_func=None, n_jobs=1,\n",
        "       param_grid={'C': array([ 0.5,  0.6, ...,  9.8,  9.9]), 'gamma': array([ 0.01 ,  0.015,  0.02 ,  0.025,  0.03 ,  0.035,  0.04 ,  0.045,\n",
        "        0.05 ,  0.055,  0.06 ,  0.065,  0.07 ,  0.075,  0.08 ,  0.085,\n",
        "        0.09 ,  0.095])},\n",
        "       pre_dispatch='2*n_jobs', refit=True, score_func=None, scoring=None,\n",
        "       verbose=1)"
       ]
      }
     ],
     "prompt_number": 139
    },
    {
     "cell_type": "code",
     "collapsed": false,
     "input": [
      "print(\"The best classifier is: \", grid.best_estimator_)\n",
      "score_dict = grid.grid_scores_\n",
      "scores = [x[1] for x in score_dict]\n",
      "scores = np.array(scores).reshape(len(C_range), len(g_range))\n",
      "plt.figure(figsize=(8, 6))\n",
      "plt.subplots_adjust(left=0.05, right=0.95, bottom=0.15, top=0.95)\n",
      "plt.imshow(scores, interpolation='nearest', cmap=plt.cm.spectral)\n",
      "plt.xlabel('r')\n",
      "plt.ylabel('C')\n",
      "plt.colorbar()\n",
      "plt.xticks(np.arange(len(g_range)), g_range, rotation=45)\n",
      "plt.yticks(np.arange(len(C_range)), C_range)\n",
      "plt.show()"
     ],
     "language": "python",
     "metadata": {},
     "outputs": [
      {
       "output_type": "stream",
       "stream": "stdout",
       "text": [
        "('The best classifier is: ', SVC(C=1.2999999999999998, cache_size=1000, class_weight=None, coef0=0.0,\n",
        "  degree=3, gamma=0.059999999999999991, kernel='rbf', max_iter=-1,\n",
        "  probability=False, random_state=None, shrinking=True, tol=0.001,\n",
        "  verbose=False))\n"
       ]
      },
      {
       "metadata": {},
       "output_type": "display_data",
       "png": "[encoded data removed]",
       "text": [
        "<matplotlib.figure.Figure at 0x107e96750>"
       ]
      }
     ],
     "prompt_number": 140
    },
    {
     "cell_type": "code",
     "collapsed": false,
     "input": [
      "# CROSS VALIDATION SCORE\n",
      "#score = clf.score(xe, ye)\n",
      "score = grid.best_estimator_.score(xe, ye)\n",
      "print 'score', score"
     ],
     "language": "python",
     "metadata": {},
     "outputs": [
      {
       "output_type": "stream",
       "stream": "stdout",
       "text": [
        "score 0.85\n"
       ]
      }
     ],
     "prompt_number": 141
    },
    {
     "cell_type": "code",
     "collapsed": false,
     "input": [
      "xt2 = x_all[0:800]\n",
      "xe2 = x_all[800:M]\n",
      "\n",
      "yt2 = y_all[0:800]\n",
      "ye2 = y_all[800:M]\n",
      "\n",
      "clf = svm.SVC(C=grid.best_estimator_.C, gamma=grid.best_estimator_.gamma, kernel='rbf', cache_size=1000)\n",
      "clf.fit(xt2, yt2)\n",
      "\n",
      "score = clf.score(xe2, ye2)\n",
      "print 'score', score\n"
     ],
     "language": "python",
     "metadata": {},
     "outputs": [
      {
       "output_type": "stream",
       "stream": "stdout",
       "text": [
        "score 0.846153846154\n"
       ]
      }
     ],
     "prompt_number": 142
    },
    {
     "cell_type": "code",
     "collapsed": false,
     "input": [],
     "language": "python",
     "metadata": {},
     "outputs": [],
     "prompt_number": 142
    },
    {
     "cell_type": "code",
     "collapsed": false,
     "input": [
      "grid.best_estimator_.support_vectors_.shape"
     ],
     "language": "python",
     "metadata": {},
     "outputs": [
      {
       "metadata": {},
       "output_type": "pyout",
       "prompt_number": 143,
       "text": [
        "(307, 12)"
       ]
      }
     ],
     "prompt_number": 143
    },
    {
     "cell_type": "heading",
     "level": 3,
     "metadata": {},
     "source": [
      "OUTPUT TEST PREDICTIONS ON ALL TRAINING DATA"
     ]
    },
    {
     "cell_type": "code",
     "collapsed": false,
     "input": [
      "clf = grid.best_estimator_\n",
      "\n",
      "x_all_train = x_all[0:M]\n",
      "y_all_train = y_all[0:M]\n",
      "\n",
      "clf.fit(x_all_train, y_all_train)\n",
      "\n",
      "a = grid.best_estimator_.predict(x_test)"
     ],
     "language": "python",
     "metadata": {},
     "outputs": [],
     "prompt_number": 144
    },
    {
     "cell_type": "code",
     "collapsed": false,
     "input": [
      "m = a.shape[0]\n",
      "aa = range(892,892+m)\n",
      "y_test = np.vstack([aa, a]).T\n",
      "print 'To submitt add header: PassengerId,Survived'\n",
      "print y_test[0:10,:]\n",
      "np.savetxt('./predictions_svm_last.csv', y_test, fmt='%i,%i')"
     ],
     "language": "python",
     "metadata": {},
     "outputs": [
      {
       "output_type": "stream",
       "stream": "stdout",
       "text": [
        "To submitt add header: PassengerId,Survived\n",
        "[[ 892.    0.]\n",
        " [ 893.    0.]\n",
        " [ 894.    0.]\n",
        " [ 895.    0.]\n",
        " [ 896.    1.]\n",
        " [ 897.    0.]\n",
        " [ 898.    1.]\n",
        " [ 899.    0.]\n",
        " [ 900.    1.]\n",
        " [ 901.    0.]]\n"
       ]
      }
     ],
     "prompt_number": 145
    },
    {
     "cell_type": "code",
     "collapsed": false,
     "input": [
      "183./6946"
     ],
     "language": "python",
     "metadata": {},
     "outputs": []
    },
    {
     "cell_type": "code",
     "collapsed": false,
     "input": [],
     "language": "python",
     "metadata": {},
     "outputs": []
    }
   ],
   "metadata": {}
  }
 ]
}