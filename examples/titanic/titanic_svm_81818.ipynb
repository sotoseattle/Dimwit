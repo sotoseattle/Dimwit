{
 "metadata": {
  "name": ""
 },
 "nbformat": 3,
 "nbformat_minor": 0,
 "worksheets": [
  {
   "cells": [
    {
     "cell_type": "code",
     "collapsed": false,
     "input": [
      "%cd '~/Dropbox/fjs6/Journal/ideolog/Dimwit/examples/titanic/data/'"
     ],
     "language": "python",
     "metadata": {},
     "outputs": [
      {
       "output_type": "stream",
       "stream": "stdout",
       "text": [
        "/Users/fjs6/Dropbox/fjs6/Journal/ideolog/Dimwit/examples/titanic/data\n"
       ]
      }
     ],
     "prompt_number": 1
    },
    {
     "cell_type": "code",
     "collapsed": false,
     "input": [
      "import numpy as np\n",
      "from pandas import *\n",
      "import pandas\n",
      "import math\n",
      "import random\n",
      "from sklearn import preprocessing\n",
      "from sklearn import svm\n",
      "from sklearn.svm import SVC\n",
      "from sklearn.cross_validation import StratifiedKFold\n",
      "from sklearn.grid_search import GridSearchCV"
     ],
     "language": "python",
     "metadata": {},
     "outputs": [],
     "prompt_number": 2
    },
    {
     "cell_type": "code",
     "collapsed": false,
     "input": [
      "tr_data = read_csv('train.csv')\n",
      "M = tr_data.shape[0]\n",
      "test_data = read_csv('test.csv')\n",
      "data = concat([tr_data, test_data], ignore_index=True)\n",
      "print 'cutout train set:', M"
     ],
     "language": "python",
     "metadata": {},
     "outputs": [
      {
       "output_type": "stream",
       "stream": "stdout",
       "text": [
        "cutout train set: 891\n"
       ]
      }
     ],
     "prompt_number": 3
    },
    {
     "cell_type": "code",
     "collapsed": false,
     "input": [
      "import re\n",
      "\n",
      "def extract_patt(patt, linea):\n",
      "    matchObj = re.match(patt, linea)\n",
      "    result = NaN\n",
      "    if matchObj:\n",
      "        return matchObj.group(1).lower()\n",
      "    else:\n",
      "        print \"No match!!\"\n",
      "        return NaN\n",
      "\n",
      "def extract_title(linea):\n",
      "    return extract_patt('^.+,\\s(.+)\\..+', linea)\n",
      "\n",
      "def extract_last_name(linea):\n",
      "    return extract_patt('^(.+),\\s.+\\..+', linea)\n",
      "\n",
      "def extract_cabin_letter(linea):\n",
      "    return extract_patt('^(.)\\d*', linea)\n",
      "\n",
      "data.Sex = data.Sex.map(lambda x: 1. if x=='male' else 0.)\n",
      "data['lastName'] = data.Name.map(extract_last_name)\n",
      "data['title'] = data.Name.map(extract_title)\n",
      "data['cabinLetter'] = data.Name.map(extract_cabin_letter)\n",
      "data['family'] = data.Parch + data.SibSp\n",
      "\n",
      "# Adding personal power\n",
      "data['charisma'] = data.Age*data.Pclass\n",
      "data['isMarried'] = data.title.map(lambda x: 1. if (x=='Mr' or x=='Mrs') else 0.)\n",
      "\n",
      "# Adding Embarkment features\n",
      "data['C'] = data.Embarked.map(lambda x: 1. if x=='C' else 0.)\n",
      "data['Q'] = data.Embarked.map(lambda x: 1. if x=='Q' else 0.)\n",
      "data['S'] = data.Embarked.map(lambda x: 1. if x=='S' else 0.)\n",
      "\n",
      "#data['lastName','title'] = data.Name.map(extract_title)\n",
      "print 'unextracted titles:', data[data.title.isnull()==True].shape[0]"
     ],
     "language": "python",
     "metadata": {},
     "outputs": [
      {
       "output_type": "stream",
       "stream": "stdout",
       "text": [
        "unextracted titles: 0\n"
       ]
      }
     ],
     "prompt_number": 4
    },
    {
     "cell_type": "code",
     "collapsed": false,
     "input": [
      "# Age by BINS [0-14][15-20][21-40][41-60][61-100]\n",
      "def bin_age(edad):\n",
      "    if isnull(edad):\n",
      "        return NaN\n",
      "    elif edad<=14:\n",
      "        return 1\n",
      "    elif edad<=30:\n",
      "        return 2\n",
      "    elif edad<=60:\n",
      "        return 3\n",
      "    else:\n",
      "        return 4\n",
      "\n",
      "data['binAge'] = data.Age.map(bin_age)\n"
     ],
     "language": "python",
     "metadata": {},
     "outputs": [],
     "prompt_number": 5
    },
    {
     "cell_type": "code",
     "collapsed": false,
     "input": [
      "# Fare NaN\n",
      "fares_by_class = data.groupby('Pclass').Fare.median()\n",
      "\n",
      "def getFare(example):\n",
      "    if isnull(example['Fare']):\n",
      "        example['Fare'] = fares_by_class[example['Pclass']]\n",
      "    return example\n",
      "\n",
      "data = data.apply(getFare, axis=1)"
     ],
     "language": "python",
     "metadata": {},
     "outputs": [],
     "prompt_number": 6
    },
    {
     "cell_type": "code",
     "collapsed": false,
     "input": [
      "titulos = Series(data.title.unique())\n",
      "titulos = Series(data.title.unique()).to_dict()\n",
      "titulos_levels = {v:k for k, v in titulos.items()}\n",
      "\n",
      "data['title_level'] = data.title.map(lambda x: titulos_levels[x])"
     ],
     "language": "python",
     "metadata": {},
     "outputs": [],
     "prompt_number": 7
    },
    {
     "cell_type": "heading",
     "level": 2,
     "metadata": {},
     "source": [
      "AGE"
     ]
    },
    {
     "cell_type": "code",
     "collapsed": false,
     "input": [
      "# IMPORTANT TO SET THIS BEFORE WE FILL AGES\n",
      "data['has_Age'] = data.Age.map(lambda x: 0. if isnull(x) else 1.)"
     ],
     "language": "python",
     "metadata": {},
     "outputs": [],
     "prompt_number": 8
    },
    {
     "cell_type": "code",
     "collapsed": false,
     "input": [
      "# GET MEDIAN AGE PER TITLE\n",
      "qqq = data.groupby('title')\n",
      "ages_by_title = qqq.Age.median()"
     ],
     "language": "python",
     "metadata": {},
     "outputs": [],
     "prompt_number": 9
    },
    {
     "cell_type": "code",
     "collapsed": false,
     "input": [
      "# FILL NaN WITH MEDIAN ACCORDING TO TITLE\n",
      "#print 'unextracted titles:', data[data.Age.isnull()==True].shape[0]\n",
      "#print data.ix[0:20,['title', 'Age']]\n",
      "\n",
      "def getAge(example):\n",
      "    if isnull(example['Age']):\n",
      "        example['charisma'] = ages_by_title[example['title']]*example['Pclass']\n",
      "    else:\n",
      "        example['charisma'] = example['Age']*example['Pclass']\n",
      "    return example\n",
      "\n",
      "data = data.apply(getAge, axis=1)\n",
      "\n",
      "#print 'unextracted titles:', data[data.Age.isnull()==True].shape[0]\n",
      "#print data.ix[0:20,['title', 'Age']]"
     ],
     "language": "python",
     "metadata": {},
     "outputs": [],
     "prompt_number": 10
    },
    {
     "cell_type": "code",
     "collapsed": false,
     "input": [
      "def get_relatives(record):\n",
      "    if record['family']==0:\n",
      "        return 0.\n",
      "    \n",
      "    if record['Sex']==0:\n",
      "        sol = data[(data.lastName==record['lastName']) | (data.Cabin==record['Cabin'])][data.Survived==1][data.PassengerId!=record['PassengerId']]\n",
      "    else:\n",
      "        #sol = data[(data.lastName==record['lastName']) | (data.Cabin==record['Cabin'])][data.Survived==1][data.Sex==1][data.PassengerId!=record['PassengerId']][data.Age>=record['Age']]\n",
      "        sol = data[(data.lastName==record['lastName']) | (data.Cabin==record['Cabin'])][data.Survived==1][data.PassengerId!=record['PassengerId']][data.Age>=record['Age']]\n",
      "    if sol.empty:\n",
      "        return 0.\n",
      "    else:\n",
      "        return 1.\n",
      "\n",
      "data['overseer'] = data.apply(get_relatives, axis=1)\n",
      "\n"
     ],
     "language": "python",
     "metadata": {},
     "outputs": [
      {
       "output_type": "stream",
       "stream": "stderr",
       "text": [
        "//anaconda/python.app/Contents/lib/python2.7/site-packages/pandas/core/frame.py:2021: UserWarning: Boolean Series key will be reindexed to match DataFrame index.\n",
        "  \"DataFrame index.\", UserWarning)\n"
       ]
      }
     ],
     "prompt_number": 11
    },
    {
     "cell_type": "code",
     "collapsed": false,
     "input": [
      "data.columns"
     ],
     "language": "python",
     "metadata": {},
     "outputs": [
      {
       "metadata": {},
       "output_type": "pyout",
       "prompt_number": 12,
       "text": [
        "Index([u'Age', u'Cabin', u'Embarked', u'Fare', u'Name', u'Parch', u'PassengerId', u'Pclass', u'Sex', u'SibSp', u'Survived', u'Ticket', u'lastName', u'title', u'cabinLetter', u'family', u'charisma', u'isMarried', u'C', u'Q', u'S', u'binAge', u'title_level', u'has_Age', u'overseer'], dtype=object)"
       ]
      }
     ],
     "prompt_number": 12
    },
    {
     "cell_type": "heading",
     "level": 3,
     "metadata": {},
     "source": [
      "SVM THE AGE"
     ]
    },
    {
     "cell_type": "code",
     "collapsed": false,
     "input": [
      "predictors_of_age_bin = ['binAge', 'Pclass','Parch', 'SibSp', 'isMarried', 'title_level']\n",
      "\n",
      "def mungeA(df):\n",
      "    df = df[isnull(df.binAge)==False]\n",
      "    return df.ix[:,predictors_of_age_bin]\n",
      "mungedA = mungeA(data[notnull(data.binAge)==True])\n",
      "\n",
      "mungedA.columns"
     ],
     "language": "python",
     "metadata": {},
     "outputs": [
      {
       "metadata": {},
       "output_type": "pyout",
       "prompt_number": 13,
       "text": [
        "Index([u'binAge', u'Pclass', u'Parch', u'SibSp', u'isMarried', u'title_level'], dtype=object)"
       ]
      }
     ],
     "prompt_number": 13
    },
    {
     "cell_type": "code",
     "collapsed": false,
     "input": [
      "y_allA = mungedA.pop('binAge')\n",
      "x_allA = np.array(mungedA)\n",
      "\n",
      "scaler = preprocessing.StandardScaler().fit(x_allA)\n",
      "x_allA = scaler.transform(x_allA)\n",
      "\n",
      "xeA = x_allA[0:200]\n",
      "xtA = x_allA[200:M]\n",
      "\n",
      "yeA = y_allA[0:200]\n",
      "ytA = y_allA[200:M]"
     ],
     "language": "python",
     "metadata": {},
     "outputs": [],
     "prompt_number": 14
    },
    {
     "cell_type": "code",
     "collapsed": false,
     "input": [
      "C_rangeA = arange(1,1000,25)\n",
      "g_rangeA = arange(0.001, 0.1, 0.01)\n",
      "param_gridA = dict(gamma=g_rangeA, C=C_rangeA)\n",
      "cvA = StratifiedKFold(y=ytA, n_folds=2)\n",
      "clfA = svm.SVC(kernel='rbf', cache_size=1000)\n",
      "\n",
      "gridA = GridSearchCV(clfA, param_grid=param_gridA, cv=cvA, verbose=1)\n",
      "gridA.fit(xtA, ytA)"
     ],
     "language": "python",
     "metadata": {},
     "outputs": [
      {
       "output_type": "stream",
       "stream": "stderr",
       "text": [
        "[Parallel(n_jobs=1)]: Done   1 jobs       | elapsed:    0.0s\n",
        "[Parallel(n_jobs=1)]: Done  50 jobs       | elapsed:    0.8s\n"
       ]
      },
      {
       "output_type": "stream",
       "stream": "stderr",
       "text": [
        "[Parallel(n_jobs=1)]: Done 200 jobs       | elapsed:    4.1s\n",
        "[Parallel(n_jobs=1)]: Done 450 jobs       | elapsed:   12.6s\n"
       ]
      },
      {
       "output_type": "stream",
       "stream": "stdout",
       "text": [
        "Fitting 2 folds for each of 400 candidates, totalling 800 fits\n"
       ]
      },
      {
       "output_type": "stream",
       "stream": "stderr",
       "text": [
        "[Parallel(n_jobs=1)]: Done 800 jobs       | elapsed:   29.8s\n",
        "[Parallel(n_jobs=1)]: Done 800 out of 800 | elapsed:   29.8s finished\n"
       ]
      },
      {
       "metadata": {},
       "output_type": "pyout",
       "prompt_number": 15,
       "text": [
        "GridSearchCV(cv=sklearn.cross_validation.StratifiedKFold(labels=[ 3.  3. ...,  2.  2.], n_folds=2),\n",
        "       estimator=SVC(C=1.0, cache_size=1000, class_weight=None, coef0=0.0, degree=3, gamma=0.0,\n",
        "  kernel='rbf', max_iter=-1, probability=False, random_state=None,\n",
        "  shrinking=True, tol=0.001, verbose=False),\n",
        "       fit_params={}, iid=True, loss_func=None, n_jobs=1,\n",
        "       param_grid={'C': array([  1,  26,  51,  76, 101, 126, 151, 176, 201, 226, 251, 276, 301,\n",
        "       326, 351, 376, 401, 426, 451, 476, 501, 526, 551, 576, 601, 626,\n",
        "       651, 676, 701, 726, 751, 776, 801, 826, 851, 876, 901, 926, 951, 976]), 'gamma': array([ 0.001,  0.011,  0.021,  0.031,  0.041,  0.051,  0.061,  0.071,\n",
        "        0.081,  0.091])},\n",
        "       pre_dispatch='2*n_jobs', refit=True, score_func=None, scoring=None,\n",
        "       verbose=1)"
       ]
      }
     ],
     "prompt_number": 15
    },
    {
     "cell_type": "code",
     "collapsed": false,
     "input": [
      "print(\"The best classifier is: \", gridA.best_estimator_)\n",
      "score_dictA = gridA.grid_scores_\n",
      "scoresA = [x[1] for x in score_dictA]\n",
      "scoresA = np.array(scoresA).reshape(len(C_rangeA), len(g_rangeA))\n",
      "plt.figure(figsize=(8, 6))\n",
      "plt.subplots_adjust(left=0.05, right=0.95, bottom=0.15, top=0.95)\n",
      "plt.imshow(scoresA, interpolation='nearest', cmap=plt.cm.spectral)\n",
      "plt.xlabel('g')\n",
      "plt.ylabel('C')\n",
      "plt.colorbar()\n",
      "plt.xticks(np.arange(len(g_rangeA)), g_rangeA, rotation=45)\n",
      "plt.yticks(np.arange(len(C_rangeA)), C_rangeA)\n",
      "plt.show()"
     ],
     "language": "python",
     "metadata": {},
     "outputs": [
      {
       "output_type": "stream",
       "stream": "stdout",
       "text": [
        "('The best classifier is: ', SVC(C=26, cache_size=1000, class_weight=None, coef0=0.0, degree=3,\n",
        "  gamma=0.010999999999999999, kernel='rbf', max_iter=-1, probability=False,\n",
        "  random_state=None, shrinking=True, tol=0.001, verbose=False))\n"
       ]
      },
      {
       "metadata": {},
       "output_type": "display_data",
       "png": "[encoded data removed]",
       "text": [
        "<matplotlib.figure.Figure at 0x107ca38d0>"
       ]
      }
     ],
     "prompt_number": 16
    },
    {
     "cell_type": "code",
     "collapsed": false,
     "input": [
      "scoreA = gridA.best_estimator_.score(xeA, yeA)\n",
      "print 'score', scoreA"
     ],
     "language": "python",
     "metadata": {},
     "outputs": [
      {
       "output_type": "stream",
       "stream": "stdout",
       "text": [
        "score 0.675\n"
       ]
      }
     ],
     "prompt_number": 17
    },
    {
     "cell_type": "code",
     "collapsed": false,
     "input": [
      "predictors_of_age_bin.remove('binAge')\n",
      "predictors_of_age_bin"
     ],
     "language": "python",
     "metadata": {},
     "outputs": [
      {
       "metadata": {},
       "output_type": "pyout",
       "prompt_number": 18,
       "text": [
        "['Pclass', 'Parch', 'SibSp', 'isMarried', 'title_level']"
       ]
      }
     ],
     "prompt_number": 18
    },
    {
     "cell_type": "code",
     "collapsed": false,
     "input": [
      "# Age by BINS [0-14][15-20][21-40][41-60][61-100]\n",
      "#predictors_of_age_bin.remove('binAge')\n",
      "\n",
      "def bin_age_revisited(record):\n",
      "    xm = np.array(record.ix[predictors_of_age_bin])\n",
      "    if isnull(record['binAge']):\n",
      "        record['binAge'] = gridA.best_estimator_.predict(xm)[0]\n",
      "    return record\n",
      "\n",
      "data = data.apply(bin_age_revisited, axis=1)"
     ],
     "language": "python",
     "metadata": {},
     "outputs": [],
     "prompt_number": 19
    },
    {
     "cell_type": "heading",
     "level": 3,
     "metadata": {},
     "source": [
      "SELECT FEATURES AND X_ALL, Y_ALL"
     ]
    },
    {
     "cell_type": "code",
     "collapsed": false,
     "input": [
      "def munge(df):\n",
      "    return df.ix[:,['Survived','Sex','Pclass','Fare', 'charisma', 'binAge', 'C', 'Q', 'S', \\\n",
      "                    'family', 'isMarried', 'overseer', 'title_level']]"
     ],
     "language": "python",
     "metadata": {},
     "outputs": [],
     "prompt_number": 20
    },
    {
     "cell_type": "heading",
     "level": 3,
     "metadata": {},
     "source": [
      "DIVIDE THE SETS & RUN"
     ]
    },
    {
     "cell_type": "code",
     "collapsed": false,
     "input": [
      "import itertools\n",
      "\n",
      "munged = munge(data)\n",
      "munged.pop('Pclass')\n",
      "munged.pop('isMarried')\n",
      "y_all = munged.pop('Survived')\n",
      "feats = len(munged.columns)\n",
      "print feats, munged.columns\n",
      "\n",
      "total_features = len(munged.columns)\n",
      "a = list(itertools.combinations(munged.columns, feats))\n",
      "\n",
      " \n",
      "C_range = 10.**arange(-2, 3)\n",
      "g_range = arange(0.001, 0.5, 0.05)\n",
      "param_grid = dict(gamma=g_range, C=C_range)\n",
      "clf = svm.SVC(kernel='rbf', cache_size=1000)\n",
      "\n",
      "\n",
      "YY = y_all[0:M]\n",
      "\n",
      "opt_score = 0.\n",
      "opt_features = []\n",
      "opt_grid = None\n",
      "for feature_set in a:\n",
      "    x_all = np.array(munged[np.array(feature_set)])\n",
      "    scaler = preprocessing.StandardScaler().fit(x_all)\n",
      "    x_all = scaler.transform(x_all)\n",
      "\n",
      "    X0 = x_all[0:M,:]\n",
      "    cv = StratifiedKFold(YY, n_folds=5)\n",
      "    grid = GridSearchCV(clf, param_grid=param_grid, cv=cv, verbose=1)\n",
      "    grid.fit(X0, YY)\n",
      "    if grid.best_score_ > opt_score:\n",
      "        opt_score = grid.best_score_\n",
      "        opt_features = feature_set\n",
      "        opt_grid = grid\n",
      "\n",
      "print '_______________BEST SCORE:', opt_score\n",
      "print 'features:', opt_features"
     ],
     "language": "python",
     "metadata": {},
     "outputs": [
      {
       "output_type": "stream",
       "stream": "stderr",
       "text": [
        "[Parallel(n_jobs=1)]: Done   1 jobs       | elapsed:    0.1s\n",
        "[Parallel(n_jobs=1)]: Done  50 jobs       | elapsed:    1.5s\n"
       ]
      },
      {
       "output_type": "stream",
       "stream": "stderr",
       "text": [
        "[Parallel(n_jobs=1)]: Done 200 jobs       | elapsed:    6.1s\n",
        "[Parallel(n_jobs=1)]: Done 250 out of 250 | elapsed:   10.3s finished\n"
       ]
      },
      {
       "output_type": "stream",
       "stream": "stdout",
       "text": [
        "10 Index([u'Sex', u'Fare', u'charisma', u'binAge', u'C', u'Q', u'S', u'family', u'overseer', u'title_level'], dtype=object)\n",
        "Fitting 5 folds for each of 50 candidates, totalling 250 fits\n",
        "_______________BEST SCORE:"
       ]
      },
      {
       "output_type": "stream",
       "stream": "stdout",
       "text": [
        " 0.840628507295\n",
        "features: ('Sex', 'Fare', 'charisma', 'binAge', 'C', 'Q', 'S', 'family', 'overseer', 'title_level')\n"
       ]
      }
     ],
     "prompt_number": 21
    },
    {
     "cell_type": "code",
     "collapsed": false,
     "input": [
      "munged.columns"
     ],
     "language": "python",
     "metadata": {},
     "outputs": [
      {
       "metadata": {},
       "output_type": "pyout",
       "prompt_number": 22,
       "text": [
        "Index([u'Sex', u'Fare', u'charisma', u'binAge', u'C', u'Q', u'S', u'family', u'overseer', u'title_level'], dtype=object)"
       ]
      }
     ],
     "prompt_number": 22
    },
    {
     "cell_type": "code",
     "collapsed": false,
     "input": [],
     "language": "python",
     "metadata": {},
     "outputs": [],
     "prompt_number": 22
    },
    {
     "cell_type": "code",
     "collapsed": false,
     "input": [],
     "language": "python",
     "metadata": {},
     "outputs": [],
     "prompt_number": 22
    },
    {
     "cell_type": "heading",
     "level": 3,
     "metadata": {},
     "source": [
      "Narrow down the hyperparms on the opt feature set"
     ]
    },
    {
     "cell_type": "code",
     "collapsed": false,
     "input": [
      "#Narrow down the hyperparms on the opt feature set\n",
      "x_all = np.array(munged[np.array(opt_features)])\n",
      "scaler = preprocessing.StandardScaler().fit(x_all)\n",
      "x_all = scaler.transform(x_all)\n",
      "X0 = x_all[0:M,:]\n",
      "    \n",
      "C_range = arange(1,25)\n",
      "g_range = arange(0.01, 1, 0.02)\n",
      "param_grid = dict(gamma=g_range, C=C_range)\n",
      "clf = svm.SVC(kernel='rbf', cache_size=1000)\n",
      "opt_grid = GridSearchCV(clf, param_grid=param_grid, cv=cv, verbose=1)\n",
      "opt_grid.fit(X0, YY)\n"
     ],
     "language": "python",
     "metadata": {},
     "outputs": [
      {
       "output_type": "stream",
       "stream": "stderr",
       "text": [
        "[Parallel(n_jobs=1)]: Done   1 jobs       | elapsed:    0.0s\n",
        "[Parallel(n_jobs=1)]: Done  50 jobs       | elapsed:    1.3s\n"
       ]
      },
      {
       "output_type": "stream",
       "stream": "stderr",
       "text": [
        "[Parallel(n_jobs=1)]: Done 200 jobs       | elapsed:    5.8s\n",
        "[Parallel(n_jobs=1)]: Done 450 jobs       | elapsed:   13.4s\n"
       ]
      },
      {
       "output_type": "stream",
       "stream": "stderr",
       "text": [
        "[Parallel(n_jobs=1)]: Done 800 jobs       | elapsed:   25.1s\n",
        "[Parallel(n_jobs=1)]: Done 1250 jobs       | elapsed:   40.9s\n"
       ]
      },
      {
       "output_type": "stream",
       "stream": "stderr",
       "text": [
        "[Parallel(n_jobs=1)]: Done 1800 jobs       | elapsed:  1.0min\n",
        "[Parallel(n_jobs=1)]: Done 2450 jobs       | elapsed:  1.5min\n"
       ]
      },
      {
       "output_type": "stream",
       "stream": "stderr",
       "text": [
        "[Parallel(n_jobs=1)]: Done 3200 jobs       | elapsed:  2.0min\n",
        "[Parallel(n_jobs=1)]: Done 4050 jobs       | elapsed:  2.7min\n"
       ]
      }
     ],
     "prompt_number": "*"
    },
    {
     "cell_type": "code",
     "collapsed": false,
     "input": [
      "print(\"The best classifier is: \", opt_grid.best_estimator_)\n",
      "score_dict = opt_grid.grid_scores_\n",
      "scores = [x[1] for x in score_dict]\n",
      "scores = np.array(scores).reshape(len(C_range), len(g_range))\n",
      "plt.figure(figsize=(8, 6))\n",
      "plt.subplots_adjust(left=0.05, right=0.95, bottom=0.15, top=0.95)\n",
      "plt.imshow(scores, interpolation='nearest', cmap=plt.cm.spectral)\n",
      "plt.xlabel('g')\n",
      "plt.ylabel('C')\n",
      "plt.colorbar()\n",
      "plt.xticks(np.arange(len(g_range)), g_range, rotation=45)\n",
      "plt.yticks(np.arange(len(C_range)), C_range)\n",
      "plt.show()"
     ],
     "language": "python",
     "metadata": {},
     "outputs": [],
     "prompt_number": "*"
    },
    {
     "cell_type": "code",
     "collapsed": false,
     "input": [
      "opt_grid.best_score_"
     ],
     "language": "python",
     "metadata": {},
     "outputs": [],
     "prompt_number": "*"
    },
    {
     "cell_type": "code",
     "collapsed": false,
     "input": [
      "opt_grid.best_estimator_.support_vectors_.shape"
     ],
     "language": "python",
     "metadata": {},
     "outputs": [
      {
       "metadata": {},
       "output_type": "pyout",
       "prompt_number": 187,
       "text": [
        "(355, 10)"
       ]
      }
     ],
     "prompt_number": 187
    },
    {
     "cell_type": "heading",
     "level": 3,
     "metadata": {},
     "source": [
      "OUTPUT TEST PREDICTIONS ON ALL TRAINING DATA"
     ]
    },
    {
     "cell_type": "code",
     "collapsed": false,
     "input": [
      "clf = opt_grid.best_estimator_\n",
      "\n",
      "x_all_train = x_all[0:M]\n",
      "y_all_train = y_all[0:M]\n",
      "x_test = x_all[M:]\n",
      "\n",
      "clf.fit(x_all_train, y_all_train)\n",
      "\n",
      "a = opt_grid.best_estimator_.predict(x_test)"
     ],
     "language": "python",
     "metadata": {},
     "outputs": [],
     "prompt_number": 189
    },
    {
     "cell_type": "code",
     "collapsed": false,
     "input": [
      "x_all.shape"
     ],
     "language": "python",
     "metadata": {},
     "outputs": [
      {
       "metadata": {},
       "output_type": "pyout",
       "prompt_number": 190,
       "text": [
        "(1309, 10)"
       ]
      }
     ],
     "prompt_number": 190
    },
    {
     "cell_type": "code",
     "collapsed": false,
     "input": [
      "m = a.shape[0]\n",
      "aa = range(892,892+m)\n",
      "y_test = np.vstack([aa, a]).T\n",
      "print 'To submitt add header: PassengerId,Survived'\n",
      "print y_test[0:10,:]\n",
      "np.savetxt('./predictions_svm_8181.csv', y_test, fmt='%i,%i')"
     ],
     "language": "python",
     "metadata": {},
     "outputs": [
      {
       "output_type": "stream",
       "stream": "stdout",
       "text": [
        "To submitt add header: PassengerId,Survived\n",
        "[[ 892.    0.]\n",
        " [ 893.    0.]\n",
        " [ 894.    0.]\n",
        " [ 895.    0.]\n",
        " [ 896.    1.]\n",
        " [ 897.    0.]\n",
        " [ 898.    1.]\n",
        " [ 899.    0.]\n",
        " [ 900.    1.]\n",
        " [ 901.    0.]]\n"
       ]
      }
     ],
     "prompt_number": 191
    },
    {
     "cell_type": "code",
     "collapsed": false,
     "input": [
      "183./6946"
     ],
     "language": "python",
     "metadata": {},
     "outputs": []
    },
    {
     "cell_type": "code",
     "collapsed": false,
     "input": [],
     "language": "python",
     "metadata": {},
     "outputs": []
    }
   ],
   "metadata": {}
  }
 ]
}